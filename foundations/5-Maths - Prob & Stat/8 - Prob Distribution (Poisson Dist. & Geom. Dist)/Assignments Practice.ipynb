{
 "cells": [
  {
   "cell_type": "code",
   "execution_count": 1,
   "id": "a34f60bc",
   "metadata": {},
   "outputs": [],
   "source": [
    "from scipy.stats import poisson"
   ]
  },
  {
   "cell_type": "code",
   "execution_count": 2,
   "id": "e9f36a9d",
   "metadata": {},
   "outputs": [
    {
     "data": {
      "text/plain": [
       "0.049787068367863944"
      ]
     },
     "execution_count": 2,
     "metadata": {},
     "output_type": "execute_result"
    }
   ],
   "source": [
    "poisson.pmf(k = 0, mu = 3)"
   ]
  },
  {
   "cell_type": "code",
   "execution_count": 3,
   "id": "0b5eb816",
   "metadata": {},
   "outputs": [
    {
     "data": {
      "text/plain": [
       "0.08674393303071422"
      ]
     },
     "execution_count": 3,
     "metadata": {},
     "output_type": "execute_result"
    }
   ],
   "source": [
    "\n",
    "poisson.pmf(k = 3, mu = 1.2)"
   ]
  },
  {
   "cell_type": "markdown",
   "id": "9d854156",
   "metadata": {},
   "source": [
    "#### An observer counts 240 vehicles per hour (3600 seconds) at a specific vehicle arrival location on a highway.\n",
    "\n",
    "#### Assume that the arrivals follow the poisson distribution, What is the probability of one vehicle arriving over a 30-second time interval?"
   ]
  },
  {
   "cell_type": "code",
   "execution_count": 4,
   "id": "8ae1690c",
   "metadata": {},
   "outputs": [
    {
     "data": {
      "text/plain": [
       "0.2706705664732254"
      ]
     },
     "execution_count": 4,
     "metadata": {},
     "output_type": "execute_result"
    }
   ],
   "source": [
    "poisson.pmf(k = 1, mu = (240 / 3600) * 30)"
   ]
  },
  {
   "cell_type": "markdown",
   "id": "bc0b1c99",
   "metadata": {},
   "source": [
    "#### Suppose that trees are distributed in a forest according to a Poisson process with a rate of λ per acre. The expected number of trees per acre is equal to 74.\n",
    "\n",
    "- What is the probability that in a certain quarter-acre plot, there will be at most 15 trees?\n",
    "- What is the probability that in a certain quarter-acre plot, there will be at least 7 trees?"
   ]
  },
  {
   "cell_type": "code",
   "execution_count": 5,
   "id": "0e7edc07",
   "metadata": {},
   "outputs": [
    {
     "data": {
      "text/plain": [
       "1.0"
      ]
     },
     "execution_count": 5,
     "metadata": {},
     "output_type": "execute_result"
    }
   ],
   "source": [
    "poisson.cdf(k = 15, mu = 1 / 74)"
   ]
  },
  {
   "cell_type": "code",
   "execution_count": 6,
   "id": "1fd0ce63",
   "metadata": {},
   "outputs": [
    {
     "data": {
      "text/plain": [
       "0.9898141728888165"
      ]
     },
     "execution_count": 6,
     "metadata": {},
     "output_type": "execute_result"
    }
   ],
   "source": [
    "poisson.cdf(k = 1, mu = 3 / 20)"
   ]
  },
  {
   "cell_type": "code",
   "execution_count": 7,
   "id": "17e1693a",
   "metadata": {},
   "outputs": [
    {
     "data": {
      "text/plain": [
       "5.148200222411903e-131"
      ]
     },
     "execution_count": 7,
     "metadata": {},
     "output_type": "execute_result"
    }
   ],
   "source": [
    "poisson.cdf(k = 0, mu = 300)"
   ]
  },
  {
   "cell_type": "code",
   "execution_count": 8,
   "id": "25217a98",
   "metadata": {},
   "outputs": [
    {
     "data": {
      "text/plain": [
       "0.9999999886003029"
      ]
     },
     "execution_count": 8,
     "metadata": {},
     "output_type": "execute_result"
    }
   ],
   "source": [
    "poisson.cdf(k = 7, mu = .4)"
   ]
  },
  {
   "cell_type": "code",
   "execution_count": 9,
   "id": "a321ef3c",
   "metadata": {
    "scrolled": true
   },
   "outputs": [
    {
     "data": {
      "text/plain": [
       "0.0"
      ]
     },
     "execution_count": 9,
     "metadata": {},
     "output_type": "execute_result"
    }
   ],
   "source": [
    "poisson.pmf(k = 0, mu = 15000)"
   ]
  },
  {
   "cell_type": "code",
   "execution_count": 10,
   "id": "4084c124",
   "metadata": {},
   "outputs": [
    {
     "data": {
      "text/plain": [
       "0.9999999998425942"
      ]
     },
     "execution_count": 10,
     "metadata": {},
     "output_type": "execute_result"
    }
   ],
   "source": [
    "poisson.cdf(k = 10, mu = 10/15)"
   ]
  },
  {
   "cell_type": "code",
   "execution_count": 11,
   "id": "0d72da0c",
   "metadata": {},
   "outputs": [],
   "source": [
    "from scipy.stats import norm"
   ]
  },
  {
   "cell_type": "code",
   "execution_count": 12,
   "id": "d20db87a",
   "metadata": {},
   "outputs": [
    {
     "data": {
      "text/plain": [
       "0.4960106436853684"
      ]
     },
     "execution_count": 12,
     "metadata": {},
     "output_type": "execute_result"
    }
   ],
   "source": [
    "1-norm.cdf(.01)"
   ]
  },
  {
   "cell_type": "code",
   "execution_count": 13,
   "id": "60602f04",
   "metadata": {},
   "outputs": [
    {
     "data": {
      "text/plain": [
       "0.9979029280379949"
      ]
     },
     "execution_count": 13,
     "metadata": {},
     "output_type": "execute_result"
    }
   ],
   "source": [
    "1-poisson.cdf(k = 7, mu = 18.5)"
   ]
  },
  {
   "cell_type": "code",
   "execution_count": 14,
   "id": "027bf080",
   "metadata": {},
   "outputs": [
    {
     "data": {
      "text/plain": [
       "0.049787068367863944"
      ]
     },
     "execution_count": 14,
     "metadata": {},
     "output_type": "execute_result"
    }
   ],
   "source": [
    "poisson.pmf(k = 0, mu = 3)"
   ]
  },
  {
   "cell_type": "code",
   "execution_count": 15,
   "id": "307cc9d1",
   "metadata": {},
   "outputs": [
    {
     "data": {
      "text/plain": [
       "0.5039893563146316"
      ]
     },
     "execution_count": 15,
     "metadata": {},
     "output_type": "execute_result"
    }
   ],
   "source": [
    "norm.cdf(.01)"
   ]
  },
  {
   "cell_type": "code",
   "execution_count": 23,
   "id": "de79937f",
   "metadata": {},
   "outputs": [
    {
     "data": {
      "text/plain": [
       "0.5199388058383725"
      ]
     },
     "execution_count": 23,
     "metadata": {},
     "output_type": "execute_result"
    }
   ],
   "source": [
    "norm.cdf(.05)"
   ]
  },
  {
   "cell_type": "code",
   "execution_count": 24,
   "id": "7bb15dc9",
   "metadata": {},
   "outputs": [],
   "source": [
    "norm."
   ]
  },
  {
   "cell_type": "code",
   "execution_count": 26,
   "id": "b00880a8",
   "metadata": {},
   "outputs": [
    {
     "data": {
      "text/plain": [
       "array([nan])"
      ]
     },
     "execution_count": 26,
     "metadata": {},
     "output_type": "execute_result"
    }
   ],
   "source": [
    "stats.zscore([.99])"
   ]
  },
  {
   "cell_type": "code",
   "execution_count": 30,
   "id": "42e413e6",
   "metadata": {},
   "outputs": [
    {
     "data": {
      "text/plain": [
       "-2.3263478740408408"
      ]
     },
     "execution_count": 30,
     "metadata": {},
     "output_type": "execute_result"
    }
   ],
   "source": [
    "norm.ppf(.01)"
   ]
  },
  {
   "cell_type": "code",
   "execution_count": 31,
   "id": "39111148",
   "metadata": {},
   "outputs": [],
   "source": [
    "from scipy.stats import geom"
   ]
  },
  {
   "cell_type": "code",
   "execution_count": 33,
   "id": "d767f753",
   "metadata": {},
   "outputs": [
    {
     "data": {
      "text/plain": [
       "0.953344"
      ]
     },
     "execution_count": 33,
     "metadata": {},
     "output_type": "execute_result"
    }
   ],
   "source": [
    "geom.cdf(k = 6, p = .4)"
   ]
  },
  {
   "cell_type": "code",
   "execution_count": 34,
   "id": "ba7dcb1c",
   "metadata": {},
   "outputs": [
    {
     "data": {
      "text/plain": [
       "1.0"
      ]
     },
     "execution_count": 34,
     "metadata": {},
     "output_type": "execute_result"
    }
   ],
   "source": [
    "norm.cdf(874)"
   ]
  },
  {
   "cell_type": "code",
   "execution_count": 35,
   "id": "94de9e09",
   "metadata": {},
   "outputs": [
    {
     "data": {
      "text/plain": [
       "0.012675885579111165"
      ]
     },
     "execution_count": 35,
     "metadata": {},
     "output_type": "execute_result"
    }
   ],
   "source": [
    "norm.cdf(-2.236)"
   ]
  },
  {
   "cell_type": "code",
   "execution_count": null,
   "id": "d904c1f0",
   "metadata": {},
   "outputs": [],
   "source": []
  }
 ],
 "metadata": {
  "kernelspec": {
   "display_name": "Python 3 (ipykernel)",
   "language": "python",
   "name": "python3"
  },
  "language_info": {
   "codemirror_mode": {
    "name": "ipython",
    "version": 3
   },
   "file_extension": ".py",
   "mimetype": "text/x-python",
   "name": "python",
   "nbconvert_exporter": "python",
   "pygments_lexer": "ipython3",
   "version": "3.9.12"
  }
 },
 "nbformat": 4,
 "nbformat_minor": 5
}
