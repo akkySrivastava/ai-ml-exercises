{
 "cells": [
  {
   "cell_type": "code",
   "execution_count": 3,
   "id": "01048a0b",
   "metadata": {},
   "outputs": [],
   "source": [
    "import numpy as np\n",
    "import seaborn as sns"
   ]
  },
  {
   "cell_type": "code",
   "execution_count": 2,
   "id": "27556c05",
   "metadata": {},
   "outputs": [
    {
     "data": {
      "text/plain": [
       "array([62, 68, 71, 59, 65, 81, 76, 63, 67, 85, 59, 52, 55, 67, 62, 73, 58])"
      ]
     },
     "execution_count": 2,
     "metadata": {},
     "output_type": "execute_result"
    }
   ],
   "source": [
    "variance_kgs = np.array([62, 68, 71, 59, 65, 81, 76, 63, 67, 85, 59, 52, 55, 67, 62, 73, 58])\n",
    "variance_kgs"
   ]
  },
  {
   "cell_type": "code",
   "execution_count": 5,
   "id": "23ae78dc",
   "metadata": {},
   "outputs": [
    {
     "data": {
      "text/plain": [
       "75.70242214532871"
      ]
     },
     "execution_count": 5,
     "metadata": {},
     "output_type": "execute_result"
    }
   ],
   "source": [
    "np.std(variance_kgs) ** 2"
   ]
  },
  {
   "cell_type": "code",
   "execution_count": 6,
   "id": "3180f948",
   "metadata": {},
   "outputs": [
    {
     "data": {
      "text/plain": [
       "array([136.4, 149.6, 156.2, 129.8, 143. , 178.2, 167.2, 138.6, 147.4,\n",
       "       187. , 129.8, 114.4, 121. , 147.4, 136.4, 160.6, 127.6])"
      ]
     },
     "execution_count": 6,
     "metadata": {},
     "output_type": "execute_result"
    }
   ],
   "source": [
    "variance_pounds = variance_kgs * 2.2\n",
    "variance_pounds"
   ]
  },
  {
   "cell_type": "code",
   "execution_count": 7,
   "id": "e8419be9",
   "metadata": {},
   "outputs": [
    {
     "data": {
      "text/plain": [
       "366.39972318339113"
      ]
     },
     "execution_count": 7,
     "metadata": {},
     "output_type": "execute_result"
    }
   ],
   "source": [
    "np.std(variance_pounds) ** 2"
   ]
  },
  {
   "cell_type": "code",
   "execution_count": 8,
   "id": "c096542e",
   "metadata": {},
   "outputs": [
    {
     "data": {
      "text/plain": [
       "4.8400000000000025"
      ]
     },
     "execution_count": 8,
     "metadata": {},
     "output_type": "execute_result"
    }
   ],
   "source": [
    "np.std(variance_pounds) ** 2 / np.std(variance_kgs) ** 2"
   ]
  },
  {
   "cell_type": "code",
   "execution_count": 9,
   "id": "42c21384",
   "metadata": {},
   "outputs": [
    {
     "data": {
      "text/plain": [
       "array([27, 24, 25, 26, 25, 27, 28, 23, 25])"
      ]
     },
     "execution_count": 9,
     "metadata": {},
     "output_type": "execute_result"
    }
   ],
   "source": [
    "temp = np.array([27, 24, 25, 26, 25, 27, 28, 23, 25])\n",
    "temp"
   ]
  },
  {
   "cell_type": "code",
   "execution_count": 10,
   "id": "3a35d3f7",
   "metadata": {},
   "outputs": [
    {
     "data": {
      "text/plain": [
       "2.246913580246913"
      ]
     },
     "execution_count": 10,
     "metadata": {},
     "output_type": "execute_result"
    }
   ],
   "source": [
    "np.var(temp)"
   ]
  },
  {
   "cell_type": "code",
   "execution_count": 13,
   "id": "28b542c2",
   "metadata": {},
   "outputs": [
    {
     "data": {
      "text/plain": [
       "array([80.6, 75.2, 77. , 78.8, 77. , 80.6, 82.4, 73.4, 77. ])"
      ]
     },
     "execution_count": 13,
     "metadata": {},
     "output_type": "execute_result"
    }
   ],
   "source": [
    "temp_fah = (1.8 * temp) + 32\n",
    "temp_fah"
   ]
  },
  {
   "cell_type": "code",
   "execution_count": 14,
   "id": "f1e6e32a",
   "metadata": {},
   "outputs": [
    {
     "data": {
      "text/plain": [
       "7.279999999999993"
      ]
     },
     "execution_count": 14,
     "metadata": {},
     "output_type": "execute_result"
    }
   ],
   "source": [
    "np.var(temp_fah)"
   ]
  },
  {
   "cell_type": "code",
   "execution_count": 15,
   "id": "adeb1465",
   "metadata": {},
   "outputs": [
    {
     "data": {
      "text/plain": [
       "3.239999999999998"
      ]
     },
     "execution_count": 15,
     "metadata": {},
     "output_type": "execute_result"
    }
   ],
   "source": [
    "np.var(temp_fah) / np.var(temp)"
   ]
  },
  {
   "cell_type": "code",
   "execution_count": 4,
   "id": "21fe5ba4",
   "metadata": {},
   "outputs": [
    {
     "data": {
      "text/plain": [
       "array([ 0,  1,  2,  3,  4,  5, 10])"
      ]
     },
     "execution_count": 4,
     "metadata": {},
     "output_type": "execute_result"
    }
   ],
   "source": [
    "lim_outlier = np.array([0, 1, 2, 3, 4, 5, 10])\n",
    "\n",
    "lim_outlier"
   ]
  },
  {
   "cell_type": "code",
   "execution_count": 7,
   "id": "8c0e6016",
   "metadata": {},
   "outputs": [
    {
     "data": {
      "text/plain": [
       "<AxesSubplot:>"
      ]
     },
     "execution_count": 7,
     "metadata": {},
     "output_type": "execute_result"
    },
    {
     "data": {
      "image/png": "[encoded data removed]",
      "text/plain": [
       "<Figure size 432x288 with 1 Axes>"
      ]
     },
     "metadata": {
      "needs_background": "light"
     },
     "output_type": "display_data"
    }
   ],
   "source": [
    "sns.boxplot(data = lim_outlier, orient=\"h\")"
   ]
  },
  {
   "cell_type": "code",
   "execution_count": 11,
   "id": "58c890c2",
   "metadata": {},
   "outputs": [
    {
     "data": {
      "text/plain": [
       "1.5"
      ]
     },
     "execution_count": 11,
     "metadata": {},
     "output_type": "execute_result"
    }
   ],
   "source": [
    "np.percentile(lim_outlier, q=25)"
   ]
  },
  {
   "cell_type": "code",
   "execution_count": 12,
   "id": "da6caa43",
   "metadata": {},
   "outputs": [
    {
     "data": {
      "text/plain": [
       "3.0"
      ]
     },
     "execution_count": 12,
     "metadata": {},
     "output_type": "execute_result"
    }
   ],
   "source": [
    "np.percentile(lim_outlier, q=50)"
   ]
  },
  {
   "cell_type": "code",
   "execution_count": 13,
   "id": "70906cf3",
   "metadata": {},
   "outputs": [
    {
     "data": {
      "text/plain": [
       "4.5"
      ]
     },
     "execution_count": 13,
     "metadata": {},
     "output_type": "execute_result"
    }
   ],
   "source": [
    "np.percentile(lim_outlier, q=75)"
   ]
  },
  {
   "cell_type": "code",
   "execution_count": 14,
   "id": "e9e1621c",
   "metadata": {},
   "outputs": [],
   "source": [
    "iqr = np.percentile(lim_outlier, q=75) - np.percentile(lim_outlier, q=25)"
   ]
  },
  {
   "cell_type": "code",
   "execution_count": 15,
   "id": "2fc44b63",
   "metadata": {},
   "outputs": [
    {
     "data": {
      "text/plain": [
       "3.0"
      ]
     },
     "execution_count": 15,
     "metadata": {},
     "output_type": "execute_result"
    }
   ],
   "source": [
    "iqr"
   ]
  },
  {
   "cell_type": "code",
   "execution_count": 17,
   "id": "aa16bb13",
   "metadata": {},
   "outputs": [
    {
     "data": {
      "text/plain": [
       "-3.0"
      ]
     },
     "execution_count": 17,
     "metadata": {},
     "output_type": "execute_result"
    }
   ],
   "source": [
    "np.percentile(lim_outlier, q=25) - 1.5 * iqr"
   ]
  },
  {
   "cell_type": "code",
   "execution_count": 18,
   "id": "920befe0",
   "metadata": {},
   "outputs": [
    {
     "data": {
      "text/plain": [
       "9.0"
      ]
     },
     "execution_count": 18,
     "metadata": {},
     "output_type": "execute_result"
    }
   ],
   "source": [
    "np.percentile(lim_outlier, q=75) + 1.5 * iqr"
   ]
  },
  {
   "cell_type": "markdown",
   "id": "dfefa1af",
   "metadata": {},
   "source": [
    "For the given data below, if a data point beyond the Q3+(1.5)IQR is removed, then what can you say about the mean and median?\n",
    "\n",
    "data=[10,23,24,24,28,29,20,32,33,25,38,29,25,41,50,25,31,60,70]"
   ]
  },
  {
   "cell_type": "code",
   "execution_count": 20,
   "id": "9b0b4388",
   "metadata": {},
   "outputs": [
    {
     "data": {
      "text/plain": [
       "11.0"
      ]
     },
     "execution_count": 20,
     "metadata": {},
     "output_type": "execute_result"
    }
   ],
   "source": [
    "data=[10,23,24,24,28,29,20,32,33,25,38,29,25,41,50,25,31,60,70]\n",
    "\n",
    "q1 = np.percentile(data, 25)\n",
    "q3 = np.percentile(data, 75)\n",
    "\n",
    "iqr = q3 - q1\n",
    "\n",
    "iqr"
   ]
  },
  {
   "cell_type": "code",
   "execution_count": 27,
   "id": "957ffa89",
   "metadata": {},
   "outputs": [
    {
     "name": "stdout",
     "output_type": "stream",
     "text": [
      "52\n"
     ]
    },
    {
     "data": {
      "text/plain": [
       "array([10, 23, 24, 24, 28, 29, 20, 32, 33, 25, 38, 29, 25, 41, 50, 25, 31])"
      ]
     },
     "execution_count": 27,
     "metadata": {},
     "output_type": "execute_result"
    }
   ],
   "source": [
    "upper_lim = int(q3 + 1.5 * iqr)\n",
    "print(upper_lim)\n",
    "data = np.array(data)\n",
    "final_data = data[data < upper_lim]\n",
    "final_data"
   ]
  },
  {
   "cell_type": "code",
   "execution_count": 28,
   "id": "2fb58434",
   "metadata": {},
   "outputs": [
    {
     "data": {
      "text/plain": [
       "array([10, 20, 23, 24, 24, 25, 25, 25, 28, 29, 29, 31, 32, 33, 38, 41, 50])"
      ]
     },
     "execution_count": 28,
     "metadata": {},
     "output_type": "execute_result"
    }
   ],
   "source": [
    "final_data = np.sort(final_data)\n",
    "final_data"
   ]
  },
  {
   "cell_type": "code",
   "execution_count": 29,
   "id": "7e35e37f",
   "metadata": {},
   "outputs": [
    {
     "data": {
      "text/plain": [
       "28.647058823529413"
      ]
     },
     "execution_count": 29,
     "metadata": {},
     "output_type": "execute_result"
    }
   ],
   "source": [
    "np.mean(final_data)"
   ]
  },
  {
   "cell_type": "code",
   "execution_count": 30,
   "id": "cc0f85e7",
   "metadata": {},
   "outputs": [
    {
     "data": {
      "text/plain": [
       "28.0"
      ]
     },
     "execution_count": 30,
     "metadata": {},
     "output_type": "execute_result"
    }
   ],
   "source": [
    "np.median(final_data)"
   ]
  },
  {
   "cell_type": "code",
   "execution_count": 31,
   "id": "6db1b997",
   "metadata": {},
   "outputs": [
    {
     "data": {
      "text/plain": [
       "32.473684210526315"
      ]
     },
     "execution_count": 31,
     "metadata": {},
     "output_type": "execute_result"
    }
   ],
   "source": [
    "np.mean(data)"
   ]
  },
  {
   "cell_type": "code",
   "execution_count": 32,
   "id": "21f4242e",
   "metadata": {},
   "outputs": [
    {
     "data": {
      "text/plain": [
       "29.0"
      ]
     },
     "execution_count": 32,
     "metadata": {},
     "output_type": "execute_result"
    }
   ],
   "source": [
    "np.median(data)"
   ]
  },
  {
   "cell_type": "code",
   "execution_count": 33,
   "id": "0ebc1ad1",
   "metadata": {},
   "outputs": [],
   "source": [
    "text_msg=[10,23,24,24,28,29,20,32,33,25,38,29,25,41,50,25,31,60,70]\n",
    "text_msg = np.array(text_msg)"
   ]
  },
  {
   "cell_type": "code",
   "execution_count": 34,
   "id": "846b12ab",
   "metadata": {},
   "outputs": [
    {
     "data": {
      "text/plain": [
       "24.5"
      ]
     },
     "execution_count": 34,
     "metadata": {},
     "output_type": "execute_result"
    }
   ],
   "source": [
    "np.percentile(text_msg, 25)"
   ]
  },
  {
   "cell_type": "code",
   "execution_count": 35,
   "id": "01dfebab",
   "metadata": {},
   "outputs": [
    {
     "data": {
      "text/plain": [
       "35.5"
      ]
     },
     "execution_count": 35,
     "metadata": {},
     "output_type": "execute_result"
    }
   ],
   "source": [
    "np.percentile(text_msg, 75)"
   ]
  },
  {
   "cell_type": "code",
   "execution_count": 36,
   "id": "b7593e45",
   "metadata": {},
   "outputs": [
    {
     "data": {
      "text/plain": [
       "11.0"
      ]
     },
     "execution_count": 36,
     "metadata": {},
     "output_type": "execute_result"
    }
   ],
   "source": [
    "iqr = np.percentile(text_msg, 75) - np.percentile(text_msg, 25)\n",
    "\n",
    "iqr"
   ]
  },
  {
   "cell_type": "code",
   "execution_count": 37,
   "id": "342f49ef",
   "metadata": {},
   "outputs": [
    {
     "data": {
      "text/plain": [
       "array([15, 28, 29, 29, 33, 34, 25, 37, 38, 30, 43, 34, 30, 46, 55, 30, 36,\n",
       "       65, 75])"
      ]
     },
     "execution_count": 37,
     "metadata": {},
     "output_type": "execute_result"
    }
   ],
   "source": [
    "text_msg = text_msg + 5\n",
    "\n",
    "text_msg"
   ]
  },
  {
   "cell_type": "code",
   "execution_count": 38,
   "id": "a1bb36d8",
   "metadata": {},
   "outputs": [
    {
     "data": {
      "text/plain": [
       "11.0"
      ]
     },
     "execution_count": 38,
     "metadata": {},
     "output_type": "execute_result"
    }
   ],
   "source": [
    "q1 = np.percentile(text_msg, 25)\n",
    "q3 = np.percentile(text_msg, 75)\n",
    "\n",
    "q3 - q1"
   ]
  },
  {
   "cell_type": "code",
   "execution_count": 39,
   "id": "65e150fa",
   "metadata": {},
   "outputs": [
    {
     "data": {
      "text/plain": [
       "193.93351800554018"
      ]
     },
     "execution_count": 39,
     "metadata": {},
     "output_type": "execute_result"
    }
   ],
   "source": [
    "np.var(text_msg)"
   ]
  },
  {
   "cell_type": "code",
   "execution_count": 40,
   "id": "205a54e0",
   "metadata": {},
   "outputs": [
    {
     "data": {
      "text/plain": [
       "13.926001508169536"
      ]
     },
     "execution_count": 40,
     "metadata": {},
     "output_type": "execute_result"
    }
   ],
   "source": [
    "np.std(text_msg)"
   ]
  },
  {
   "cell_type": "code",
   "execution_count": 41,
   "id": "7a136636",
   "metadata": {},
   "outputs": [
    {
     "data": {
      "text/plain": [
       "13.926001508169536"
      ]
     },
     "execution_count": 41,
     "metadata": {},
     "output_type": "execute_result"
    }
   ],
   "source": [
    "np.std(data)"
   ]
  },
  {
   "cell_type": "code",
   "execution_count": null,
   "id": "ad1ec28a",
   "metadata": {},
   "outputs": [],
   "source": []
  }
 ],
 "metadata": {
  "kernelspec": {
   "display_name": "Python 3 (ipykernel)",
   "language": "python",
   "name": "python3"
  },
  "language_info": {
   "codemirror_mode": {
    "name": "ipython",
    "version": 3
   },
   "file_extension": ".py",
   "mimetype": "text/x-python",
   "name": "python",
   "nbconvert_exporter": "python",
   "pygments_lexer": "ipython3",
   "version": "3.9.12"
  }
 },
 "nbformat": 4,
 "nbformat_minor": 5
}
