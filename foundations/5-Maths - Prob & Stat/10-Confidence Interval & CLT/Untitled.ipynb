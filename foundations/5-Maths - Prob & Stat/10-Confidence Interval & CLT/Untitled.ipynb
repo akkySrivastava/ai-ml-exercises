{
 "cells": [
  {
   "cell_type": "code",
   "execution_count": 1,
   "id": "3e5820e0",
   "metadata": {},
   "outputs": [],
   "source": [
    "from scipy.stats import norm"
   ]
  },
  {
   "cell_type": "markdown",
   "id": "3c8a6ae3",
   "metadata": {},
   "source": [
    "The tip percentage for a delivery person has a mean value of 28% and a standard deviation of 7%.\n",
    "\n",
    "What is the probability that the sample mean tip percentage for a random sample of 50 bills is between 26% and 31%?"
   ]
  },
  {
   "cell_type": "markdown",
   "id": "c56c9dd9",
   "metadata": {},
   "source": [
    "Need to calculate P(26<=X<=31) = 1 - p(x<=31) - 1 - p(x<=25)"
   ]
  },
  {
   "cell_type": "code",
   "execution_count": 15,
   "id": "fe4466a0",
   "metadata": {},
   "outputs": [
    {
     "data": {
      "text/plain": [
       "0.9771032071594303"
      ]
     },
     "execution_count": 15,
     "metadata": {},
     "output_type": "execute_result"
    }
   ],
   "source": [
    "(norm(loc = 28, scale = ( 7 / 50 ** 0.5)).cdf(x = 31)) - (norm(loc = 28, scale = ( 7 / 50 ** 0.5)).cdf(x = 26))"
   ]
  },
  {
   "cell_type": "code",
   "execution_count": null,
   "id": "23427f8b",
   "metadata": {},
   "outputs": [],
   "source": []
  }
 ],
 "metadata": {
  "kernelspec": {
   "display_name": "Python 3 (ipykernel)",
   "language": "python",
   "name": "python3"
  },
  "language_info": {
   "codemirror_mode": {
    "name": "ipython",
    "version": 3
   },
   "file_extension": ".py",
   "mimetype": "text/x-python",
   "name": "python",
   "nbconvert_exporter": "python",
   "pygments_lexer": "ipython3",
   "version": "3.9.12"
  }
 },
 "nbformat": 4,
 "nbformat_minor": 5
}
