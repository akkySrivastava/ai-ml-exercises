{
  "nbformat": 4,
  "nbformat_minor": 0,
  "metadata": {
    "colab": {
      "provenance": []
    },
    "kernelspec": {
      "name": "python3",
      "display_name": "Python 3"
    },
    "language_info": {
      "name": "python"
    }
  },
  "cells": [
    {
      "cell_type": "markdown",
      "source": [
        "## Content:\n",
        "- Joins\n",
        "- Types of Joins"
      ],
      "metadata": {
        "id": "4Bf41vVgQ3gi"
      }
    },
    {
      "cell_type": "markdown",
      "source": [
        "## Joins\n"
      ],
      "metadata": {
        "id": "fB2wpFX9baQQ"
      }
    },
    {
      "cell_type": "markdown",
      "source": [
        "### Question: What are joins and where are they useful?\n",
        "\n",
        "Remember we studied the concepts of **joins in SQL.**\n",
        "\n",
        "When our data is distributed across **multiple databases**, and we need to perform some analysis on the same, the concept of joins comes into picture.\n",
        "\n",
        "#### Let's understand this with an example\n",
        "\n",
        "Suppose for two datasets `product_category` and `product`:\n",
        "\n",
        "`product_category` has columns:\n",
        "- product_category_id\n",
        "- product_category_name\n",
        "\n",
        "`product` has columns:\n",
        "- product_id\n",
        "- product_name\n",
        "- product_category_id\n",
        "- product_size\n",
        "- product_qty_type\n",
        "\n",
        "![](https://d2beiqkhq929f0.cloudfront.net/public_assets/assets/000/014/774/original/image_2022-09-15_092132018.png?1663213915)\n",
        "\n",
        "As we can see, our product data is distributed across multiple databases.\n",
        "\n",
        "#### Now how can we answer questions related to products as a whole?\n",
        "\n",
        "Say,\n",
        "#### Get details of all vendors selling fresh fruit or vegetables with product names and the quantity of that product in their inventory?\n",
        "\n",
        "We will have to **combine this data** to answer such kind of questions.\n",
        "\n",
        "We will need **a common key** to combine this data.\n",
        "\n",
        "#### Which column can we use for combining the databases?\n",
        "\n",
        "- If you notice, `product_category_id` is same in both the tables\n",
        "\n",
        "- Hence we can perform our join on this column to perform our analysis\n"
      ],
      "metadata": {
        "id": "7qRqR8ILRBA-"
      }
    },
    {
      "cell_type": "markdown",
      "source": [
        "## Types of joins\n"
      ],
      "metadata": {
        "id": "uUJ4xtChbVUA"
      }
    },
    {
      "cell_type": "markdown",
      "source": [
        "\n",
        "### What are the various types of joins we can use?\n",
        "\n",
        "![](https://d2beiqkhq929f0.cloudfront.net/public_assets/assets/000/014/775/original/image_2022-09-15_100351116.png?1663216432)\n",
        "\n",
        "There are many joins:\n",
        "- Inner Join\n",
        "- Outer Join\n",
        "- Left Join\n",
        "- Right join\n",
        "- Self join\n",
        "- Cross join\n",
        "\n",
        "### LEFT JOIN\n",
        "\n",
        "This joins the data by taking all the records from the \"left side\" of the join, and only the matching records (based on the join criteria) from the \"right side\"\n",
        "\n",
        "\n",
        "![](https://d2beiqkhq929f0.cloudfront.net/public_assets/assets/000/014/787/original/image_2022-09-15_113139104.png?1663221700)\n",
        "\n",
        "Let's take our earlier example of the product dataset and implement left join in SQL.\n",
        "```sql\n",
        "SELECT * FROM \n",
        "product\n",
        "LEFT JOIN product_category\n",
        "      \tON product.product_category_id = product_category.product_category_id\n",
        "```\n",
        "\n",
        "### RIGHT JOIN\n",
        "\n",
        "Just contrary to left join, this joins the data by taking all the records from the \"right side\" of the join, and only the matching records (based on the join criteria) from the \"left side\"\n",
        "\n",
        "\n",
        "![](https://d2beiqkhq929f0.cloudfront.net/public_assets/assets/000/014/788/original/image_2022-09-15_113455323.png?1663221896)\n",
        "\n",
        "Let's take our earlier example of the product dataset and implement right join in SQL.\n",
        "```sql\n",
        "SELECT * FROM \n",
        "product\n",
        "RIGHT JOIN product_category\n",
        "      \tON product.product_category_id = product_category.product_category_id\n",
        "```\n",
        "\n",
        "### INNER JOIN\n",
        "\n",
        "An Inner Join takes records which are common in both the tables, based on the join criteria specified\n",
        "\n",
        "![](https://d2beiqkhq929f0.cloudfront.net/public_assets/assets/000/014/789/original/image_2022-09-15_113719888.png?1663222041)\n",
        "\n",
        "Let's implement INNER JOIN now on our earlier example of the product dataset \n",
        "```sql\n",
        "SELECT * FROM \n",
        "product\n",
        "INNER JOIN product_category\n",
        "      \tON product.product_category_id = product_category.product_category_id\n",
        "```\n",
        "\n",
        "### OUTER JOIN (Also called FULL JOIN)\n",
        "\n",
        "An Outer Join returns all records/rows when there's a match in either the left table, or the right table\n",
        "\n",
        "![](https://d2beiqkhq929f0.cloudfront.net/public_assets/assets/000/014/793/original/image_2022-09-15_114417031.png?1663222458)\n",
        "\n",
        "Let's implement OUTER JOIN now on our earlier example of the product dataset.\n",
        "\n",
        "We don't have a \"OUTER JOIN\" keyword in SQL, so we have to use LEFT and RIGHT JOIN along with UNION for an OUTER JOIN\n",
        "\n",
        "```sql\n",
        "SELECT * FROM \n",
        "product\n",
        "LEFT JOIN product_category\n",
        "      \tON product.product_category_id = product_category.product_category_id\n",
        "UNION\n",
        "SELECT * FROM \n",
        "product\n",
        "RIGHT JOIN product_category\n",
        "      \tON product.product_category_id = product_category.product_category_id\n",
        "```\n",
        "\n",
        "We can look at the below example to get clarity on how these 4 joins work\n",
        "\n",
        "![](https://d2beiqkhq929f0.cloudfront.net/public_assets/assets/000/014/794/original/image_2022-09-15_114641105.png?1663222602)"
      ],
      "metadata": {
        "id": "7HwX8dl8ThmR"
      }
    },
    {
      "cell_type": "code",
      "source": [],
      "metadata": {
        "id": "WlIMD4kqQDii"
      },
      "execution_count": null,
      "outputs": []
    }
  ]
}