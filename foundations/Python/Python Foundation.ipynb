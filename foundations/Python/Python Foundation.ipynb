{
 "cells": [
  {
   "cell_type": "code",
   "execution_count": 4,
   "id": "93a1056d",
   "metadata": {},
   "outputs": [
    {
     "name": "stdout",
     "output_type": "stream",
     "text": [
      "-6\n",
      "-7\n",
      "-8\n",
      "-9\n"
     ]
    }
   ],
   "source": [
    "for i in range(-6, -10, -1):\n",
    "    print(i)"
   ]
  },
  {
   "cell_type": "code",
   "execution_count": 5,
   "id": "6bf67507",
   "metadata": {},
   "outputs": [
    {
     "name": "stdout",
     "output_type": "stream",
     "text": [
      "1 2 1 3 2 2 2 3 "
     ]
    }
   ],
   "source": [
    "x = [1, 2]\n",
    "y = [2, 3]\n",
    "\n",
    "for i in x:\n",
    "    for j in y:\n",
    "        print(i, j, end= \" \")"
   ]
  },
  {
   "cell_type": "code",
   "execution_count": 6,
   "id": "4ade92d4",
   "metadata": {},
   "outputs": [
    {
     "name": "stdout",
     "output_type": "stream",
     "text": [
      "0 "
     ]
    }
   ],
   "source": [
    "x = 1\n",
    "for i in range(x):\n",
    "    x=x+1\n",
    "    print(i, end= \" \")"
   ]
  },
  {
   "cell_type": "code",
   "execution_count": 7,
   "id": "c5972d8e",
   "metadata": {},
   "outputs": [
    {
     "name": "stdout",
     "output_type": "stream",
     "text": [
      "a  a  c\n"
     ]
    }
   ],
   "source": [
    "for i in range(1):\n",
    "    for j in range(2):\n",
    "        for k in range(1):\n",
    "            print(\"a\", end=\" \")\n",
    "        print(end=\" \")\n",
    "    print(\"c\")"
   ]
  },
  {
   "cell_type": "code",
   "execution_count": 6,
   "id": "462da18d",
   "metadata": {},
   "outputs": [
    {
     "data": {
      "text/plain": [
       "['Jadeja', 'Rahul', 'Rohit', 'Dhoni', 'Virat']"
      ]
     },
     "execution_count": 6,
     "metadata": {},
     "output_type": "execute_result"
    }
   ],
   "source": [
    "players=['Jadeja','Rahul','Rohit']\n",
    "\n",
    "players = players + [\"Dhoni\", \"Virat\"]\n",
    "players"
   ]
  },
  {
   "cell_type": "code",
   "execution_count": 4,
   "id": "e60eab53",
   "metadata": {},
   "outputs": [
    {
     "data": {
      "text/plain": [
       "['Jadeja', 'Rahul', 'Dhoni', 'Virat']"
      ]
     },
     "execution_count": 4,
     "metadata": {},
     "output_type": "execute_result"
    }
   ],
   "source": [
    "players=['Jadeja','Rahul','Rohit']\n",
    "players[-1:] = [\"Dhoni\", \"Virat\"]\n",
    "players"
   ]
  },
  {
   "cell_type": "code",
   "execution_count": 7,
   "id": "98f411fd",
   "metadata": {},
   "outputs": [
    {
     "name": "stdout",
     "output_type": "stream",
     "text": [
      "['python', 'scaler', 'ML']\n"
     ]
    }
   ],
   "source": [
    "a=[\"data\", \"python\", \"scaler\", \"ML\", \"foo\", \"Jupyter\", \"lists\"]\n",
    "print(a[-6:-3])"
   ]
  },
  {
   "cell_type": "code",
   "execution_count": 8,
   "id": "835abf77",
   "metadata": {},
   "outputs": [
    {
     "name": "stdout",
     "output_type": "stream",
     "text": [
      "['Jupyter', 'scaler']\n"
     ]
    }
   ],
   "source": [
    "print(a[5::-3])"
   ]
  },
  {
   "cell_type": "code",
   "execution_count": 9,
   "id": "9bcf91d7",
   "metadata": {},
   "outputs": [
    {
     "name": "stdout",
     "output_type": "stream",
     "text": [
      "data\n"
     ]
    }
   ],
   "source": [
    "print(a[-7])"
   ]
  },
  {
   "cell_type": "code",
   "execution_count": 10,
   "id": "10bfe80a",
   "metadata": {},
   "outputs": [
    {
     "data": {
      "text/plain": [
       "True"
      ]
     },
     "execution_count": 10,
     "metadata": {},
     "output_type": "execute_result"
    }
   ],
   "source": [
    "a[:] == a"
   ]
  },
  {
   "cell_type": "code",
   "execution_count": 1,
   "id": "06610164",
   "metadata": {},
   "outputs": [],
   "source": [
    "child1 = {\n",
    "  \"name\" : \"Emil\",\n",
    "  \"year\" : 2004\n",
    "}\n",
    "child2 = {\n",
    "  \"name\" : \"Tobias\",\n",
    "  \"year\" : 2007\n",
    "}\n",
    "child3 = {\n",
    "  \"name\" : \"Linus\",\n",
    "  \"year\" : 2011\n",
    "}\n",
    "\n",
    "myfamily = {\n",
    "  \"child1\" : child1,\n",
    "  \"child2\" : child2,\n",
    "  \"child3\" : child3\n",
    "}"
   ]
  },
  {
   "cell_type": "code",
   "execution_count": 2,
   "id": "09c3ef21",
   "metadata": {},
   "outputs": [
    {
     "name": "stdout",
     "output_type": "stream",
     "text": [
      "{'child1': {'name': 'Emil', 'year': 2004}, 'child2': {'name': 'Tobias', 'year': 2007}, 'child3': {'name': 'Linus', 'year': 2011}}\n"
     ]
    }
   ],
   "source": [
    "print(myfamily)"
   ]
  },
  {
   "cell_type": "code",
   "execution_count": 3,
   "id": "fe5304ff",
   "metadata": {},
   "outputs": [
    {
     "data": {
      "text/plain": [
       "{'child1': {'name': 'Emil', 'year': 2004},\n",
       " 'child2': {'name': 'Tobias', 'year': 2007},\n",
       " 'child3': {'name': 'Linus', 'year': 2011}}"
      ]
     },
     "execution_count": 3,
     "metadata": {},
     "output_type": "execute_result"
    }
   ],
   "source": [
    "myfamily"
   ]
  },
  {
   "cell_type": "code",
   "execution_count": 4,
   "id": "fff8985f",
   "metadata": {},
   "outputs": [
    {
     "data": {
      "text/plain": [
       "{'name': 'Emil', 'year': 2004}"
      ]
     },
     "execution_count": 4,
     "metadata": {},
     "output_type": "execute_result"
    }
   ],
   "source": [
    "myfamily[\"child1\"]"
   ]
  },
  {
   "cell_type": "code",
   "execution_count": 1,
   "id": "322f6acd",
   "metadata": {},
   "outputs": [
    {
     "ename": "NameError",
     "evalue": "name 'myfamily' is not defined",
     "output_type": "error",
     "traceback": [
      "\u001b[1;31m---------------------------------------------------------------------------\u001b[0m",
      "\u001b[1;31mNameError\u001b[0m                                 Traceback (most recent call last)",
      "Input \u001b[1;32mIn [1]\u001b[0m, in \u001b[0;36m<cell line: 1>\u001b[1;34m()\u001b[0m\n\u001b[1;32m----> 1\u001b[0m \u001b[43mmyfamily\u001b[49m[\u001b[38;5;124m\"\u001b[39m\u001b[38;5;124mchild1\u001b[39m\u001b[38;5;124m\"\u001b[39m][\u001b[38;5;124m\"\u001b[39m\u001b[38;5;124myear\u001b[39m\u001b[38;5;124m\"\u001b[39m] \u001b[38;5;241m=\u001b[39m\u001b[38;5;241m2005\u001b[39m\n",
      "\u001b[1;31mNameError\u001b[0m: name 'myfamily' is not defined"
     ]
    }
   ],
   "source": [
    "myfamily[\"child1\"][\"year\"] =2005 "
   ]
  },
  {
   "cell_type": "code",
   "execution_count": 6,
   "id": "0057bee0",
   "metadata": {},
   "outputs": [
    {
     "name": "stdout",
     "output_type": "stream",
     "text": [
      "Ych PYcha charm3 PYcharm PYcharm\n"
     ]
    }
   ],
   "source": [
    "str1 = \"PYcharm3\"\n",
    "print(str1[1:4], str1[:5], str1[-6:], str1[0:-1], str1[:-1])"
   ]
  },
  {
   "cell_type": "code",
   "execution_count": 20,
   "id": "b4167915",
   "metadata": {},
   "outputs": [
    {
     "name": "stdout",
     "output_type": "stream",
     "text": [
      "('n', 'a', 'm', 'e')\n",
      "('c', 'o', 'd', 'e')\n",
      "('w', 'i', 't', 'h')\n",
      "('a', 'k', 'k', 'y')\n"
     ]
    },
    {
     "data": {
      "text/plain": [
       "4"
      ]
     },
     "execution_count": 20,
     "metadata": {},
     "output_type": "execute_result"
    }
   ],
   "source": [
    "def countuniquewords(inp):\n",
    "    ans = 0\n",
    "    arr = list(inp.split())\n",
    "    for word in arr:\n",
    "        arr2=[]\n",
    "#         approach -> 1\n",
    "#         if(len(set(word)) == len(word) and len(word) > 3):\n",
    "#             print(word, set(word))\n",
    "#             ans +=1\n",
    "#         approach -> 2\n",
    "#         for i in range(0,len(word)):\n",
    "#             if word[i] not in arr2:\n",
    "#                 arr2.append(word[i])\n",
    "#                 print(arr2, word, word[i])\n",
    "#             if len(arr2) == len(word) and len(word)>3:\n",
    "#                 ans += 1\n",
    "#         approach -> 3\n",
    "        if len(tuple(word)) == len(word) and len(word) > 3:\n",
    "            print(tuple(word))\n",
    "            ans += 1\n",
    "    return ans\n",
    "\n",
    "countuniquewords(\"My name is code with akky\")"
   ]
  },
  {
   "cell_type": "code",
   "execution_count": 2,
   "id": "d3f3b87f",
   "metadata": {},
   "outputs": [
    {
     "name": "stdout",
     "output_type": "stream",
     "text": [
      "9\n"
     ]
    }
   ],
   "source": [
    "lis = [(0, 2), (1, 3), (2, 4)]\n",
    "result = sum (n for _, n in lis)\n",
    "print(result)"
   ]
  },
  {
   "cell_type": "markdown",
   "id": "eb9c020b",
   "metadata": {},
   "source": [
    "### String REVERSING"
   ]
  },
  {
   "cell_type": "code",
   "execution_count": 9,
   "id": "e40f521c",
   "metadata": {},
   "outputs": [
    {
     "name": "stdout",
     "output_type": "stream",
     "text": [
      "A A\n",
      "K KA\n",
      "A AKA\n",
      "S SAKA\n",
      "H HSAKA\n"
     ]
    },
    {
     "data": {
      "text/plain": [
       "'HSAKA'"
      ]
     },
     "execution_count": 9,
     "metadata": {},
     "output_type": "execute_result"
    }
   ],
   "source": [
    "s = \"AKASH\"\n",
    "# re = s[::-1]\n",
    "# re = s[-1:0:-1]\n",
    "# re\n",
    "string = \"\"\n",
    "for i in s:\n",
    "    string = i + string\n",
    "    print(i, string)\n",
    "string"
   ]
  },
  {
   "cell_type": "markdown",
   "id": "582164da",
   "metadata": {},
   "source": [
    "### Remove Repeating Chars"
   ]
  },
  {
   "cell_type": "code",
   "execution_count": 11,
   "id": "7ad26e7c",
   "metadata": {},
   "outputs": [
    {
     "data": {
      "text/plain": [
       "'HKSA'"
      ]
     },
     "execution_count": 11,
     "metadata": {},
     "output_type": "execute_result"
    }
   ],
   "source": [
    "s = 'AKASH'\n",
    "a = set(s)\n",
    "\"\".join(a)"
   ]
  },
  {
   "cell_type": "code",
   "execution_count": 14,
   "id": "5671c891",
   "metadata": {},
   "outputs": [
    {
     "data": {
      "text/plain": [
       "80"
      ]
     },
     "execution_count": 14,
     "metadata": {},
     "output_type": "execute_result"
    }
   ],
   "source": [
    "sampleDict = { \"class\":{ \"student\":{ \"name\":\"Mike\", \"marks\":{ \"physics\":70, \"history\":80 } } } }\n",
    "sampleDict[\"class\"][\"student\"][\"marks\"][\"history\"]"
   ]
  },
  {
   "cell_type": "markdown",
   "id": "d1b4adb6",
   "metadata": {},
   "source": [
    "### Reversing the Key-Value Pair of the dictionary"
   ]
  },
  {
   "cell_type": "code",
   "execution_count": 39,
   "id": "f9acbb97",
   "metadata": {},
   "outputs": [
    {
     "name": "stdout",
     "output_type": "stream",
     "text": [
      "a 1\n",
      "b \n",
      "c \n"
     ]
    },
    {
     "data": {
      "text/plain": [
       "{1: 'a', '': 'c'}"
      ]
     },
     "execution_count": 39,
     "metadata": {},
     "output_type": "execute_result"
    }
   ],
   "source": [
    "dic = {\n",
    "    \"a\": 1,\n",
    "    \"b\": \"\",\n",
    "    \"c\": \"\"\n",
    "}\n",
    "\n",
    "sam_dic = {}\n",
    "for k, v in dic.items():\n",
    "    print(k,v)\n",
    "    sam_dic.update({v:k})\n",
    "# for i in list(dic.keys()):\n",
    "#     for j in list(dic.values()):\n",
    "#         sam_dic.update({j: i})\n",
    "sam_dic\n",
    "        "
   ]
  },
  {
   "cell_type": "markdown",
   "id": "f429e4fe",
   "metadata": {},
   "source": [
    "## Checking Entry in club"
   ]
  },
  {
   "cell_type": "code",
   "execution_count": 43,
   "id": "22726e24",
   "metadata": {},
   "outputs": [
    {
     "data": {
      "text/plain": [
       "['You are not eligible',\n",
       " 'You are eligible',\n",
       " 'You are eligible',\n",
       " 'You are not eligible']"
      ]
     },
     "execution_count": 43,
     "metadata": {},
     "output_type": "execute_result"
    }
   ],
   "source": [
    "lis = ['M2004Sam', 'F2001Riya', 'M1998Ani', 'F2005Diya']\n",
    "re_lis = []\n",
    "for i in lis:\n",
    "    i = i[1:5]\n",
    "    eligible = 2022 - int(i)\n",
    "    if(eligible > 18):\n",
    "        re_lis.append(\"You are eligible\")\n",
    "    else:\n",
    "        re_lis.append(\"You are not eligible\")\n",
    "re_lis"
   ]
  },
  {
   "cell_type": "code",
   "execution_count": 46,
   "id": "f39eef57",
   "metadata": {},
   "outputs": [
    {
     "name": "stdout",
     "output_type": "stream",
     "text": [
      "['m', 'y', '_', 's', 't', 'r', 'n', 'g']\n"
     ]
    }
   ],
   "source": [
    "k = [i for i in \"my_string\" if i not in \"aeiou\"] \n",
    "print(k)"
   ]
  },
  {
   "cell_type": "markdown",
   "id": "64e46e9c",
   "metadata": {},
   "source": [
    "# Man of the Match"
   ]
  },
  {
   "cell_type": "code",
   "execution_count": 57,
   "id": "26d2dccc",
   "metadata": {},
   "outputs": [
    {
     "name": "stdout",
     "output_type": "stream",
     "text": [
      "Nihal\n",
      "0\n"
     ]
    },
    {
     "data": {
      "text/plain": [
       "{'Arun': [25, 3, 7], 'Nihal': [50, 5, 12], 'Sanjay': [10, 4, 3]}"
      ]
     },
     "execution_count": 57,
     "metadata": {},
     "output_type": "execute_result"
    }
   ],
   "source": [
    "names = ['Arun', 'Nihal', 'Sanjay'] \n",
    "runs = [25, 50, 10] \n",
    "wickets = [3, 5, 4] \n",
    "bowls = [7, 12, 3]\n",
    "\n",
    "data = {}\n",
    "manOfMatch = \"\"\n",
    "sr = 0\n",
    "    # Your code starts here\n",
    "    # print(names, runs, wickets, bowls)\n",
    "for i in range(0, len(names)):\n",
    "    if((runs[i] / bowls[i]) > 4 and wickets[i] > 2):\n",
    "        manOfMatch = names[i]\n",
    "    elif((runs[i] / bowls[i]) > 2 and (runs[i] / bowls[i]) < 4 and wickets[i] > 4):\n",
    "        manOfMatch = names[i]\n",
    "    \n",
    "    data.update({names[i]: list((runs[i], wickets[i], bowls[i]))})\n",
    "#     strike_rate.update({srate: runs[i]/bowls[i]})\n",
    "print(manOfMatch)\n",
    "data"
   ]
  },
  {
   "cell_type": "markdown",
   "id": "49aab74e",
   "metadata": {},
   "source": [
    "# Check Equal"
   ]
  },
  {
   "cell_type": "code",
   "execution_count": 71,
   "id": "fbc34e1f",
   "metadata": {},
   "outputs": [
    {
     "data": {
      "text/plain": [
       "'abcde'"
      ]
     },
     "execution_count": 71,
     "metadata": {},
     "output_type": "execute_result"
    }
   ],
   "source": [
    "str1 = \"abcde\"\n",
    "str2 = \"bcdea\"\n",
    "\n",
    "for i in str2:\n",
    "    str2 = str2[1:]\n",
    "    str2 = str2 + i\n",
    "    if(str1 == str2):\n",
    "        break\n",
    "\n",
    "str2"
   ]
  },
  {
   "cell_type": "code",
   "execution_count": 1,
   "id": "695d8822",
   "metadata": {},
   "outputs": [
    {
     "ename": "TypeError",
     "evalue": "'set' object is not subscriptable",
     "output_type": "error",
     "traceback": [
      "\u001b[1;31m---------------------------------------------------------------------------\u001b[0m",
      "\u001b[1;31mTypeError\u001b[0m                                 Traceback (most recent call last)",
      "Input \u001b[1;32mIn [1]\u001b[0m, in \u001b[0;36m<cell line: 2>\u001b[1;34m()\u001b[0m\n\u001b[0;32m      1\u001b[0m s \u001b[38;5;241m=\u001b[39m {\u001b[38;5;241m1\u001b[39m, \u001b[38;5;241m2\u001b[39m, \u001b[38;5;241m3\u001b[39m, \u001b[38;5;241m4\u001b[39m}\n\u001b[1;32m----> 2\u001b[0m \u001b[43ms\u001b[49m\u001b[43m[\u001b[49m\u001b[38;5;241;43m0\u001b[39;49m\u001b[43m]\u001b[49m\n",
      "\u001b[1;31mTypeError\u001b[0m: 'set' object is not subscriptable"
     ]
    }
   ],
   "source": [
    "s = {1, 2, 3, 4}\n",
    "s[0]"
   ]
  },
  {
   "cell_type": "code",
   "execution_count": 2,
   "id": "37b40d53",
   "metadata": {},
   "outputs": [],
   "source": [
    "a = [(x * 2) -1 for x in range(6) if(x % 2) == 1]"
   ]
  },
  {
   "cell_type": "code",
   "execution_count": 1,
   "id": "056ab0f5",
   "metadata": {},
   "outputs": [
    {
     "name": "stdout",
     "output_type": "stream",
     "text": [
      "0 1 2 3 4 5 6 7 8 9 "
     ]
    }
   ],
   "source": [
    "for i in range(10):\n",
    "    print(i, end = \" \")\n",
    "    for j in range(i,0,-1):\n",
    "        if(j>i):\n",
    "            for k in range(n):\n",
    "                print(k)\n",
    "                print(i,j,k)"
   ]
  },
  {
   "cell_type": "markdown",
   "id": "847cf975",
   "metadata": {},
   "source": [
    "# Recursion"
   ]
  },
  {
   "cell_type": "code",
   "execution_count": 3,
   "id": "7a4ba4eb",
   "metadata": {},
   "outputs": [
    {
     "data": {
      "text/plain": [
       "5050"
      ]
     },
     "execution_count": 3,
     "metadata": {},
     "output_type": "execute_result"
    }
   ],
   "source": [
    "def add(n):\n",
    "    if n == 1:\n",
    "        return 1\n",
    "    \n",
    "    return add(n-1) + n\n",
    "\n",
    "add(100)"
   ]
  },
  {
   "cell_type": "code",
   "execution_count": 4,
   "id": "a5c671e4",
   "metadata": {},
   "outputs": [
    {
     "data": {
      "text/plain": [
       "120"
      ]
     },
     "execution_count": 4,
     "metadata": {},
     "output_type": "execute_result"
    }
   ],
   "source": [
    "def fact(n):\n",
    "    if n == 0:\n",
    "        return 1\n",
    "    \n",
    "    return fact(n-1) * n\n",
    "\n",
    "fact(5)"
   ]
  },
  {
   "cell_type": "code",
   "execution_count": 12,
   "id": "6a0e8460",
   "metadata": {},
   "outputs": [
    {
     "name": "stdout",
     "output_type": "stream",
     "text": [
      "0 0\n",
      "1 1\n",
      "2 1\n",
      "3 2\n",
      "4 3\n",
      "5 5\n",
      "6 8\n"
     ]
    }
   ],
   "source": [
    "def fib(n):\n",
    "    if n == 0:\n",
    "        return 0\n",
    "    elif n == 1 or n == 2:\n",
    "        return 1\n",
    "    return fib(n-1) + fib(n-2)\n",
    "\n",
    "for i in range(0, 7):\n",
    "    print(i, fib(i))\n",
    "# print(fib(6))"
   ]
  },
  {
   "cell_type": "code",
   "execution_count": 20,
   "id": "9445512c",
   "metadata": {},
   "outputs": [
    {
     "data": {
      "text/plain": [
       "32"
      ]
     },
     "execution_count": 20,
     "metadata": {},
     "output_type": "execute_result"
    }
   ],
   "source": [
    "def power(a, n):\n",
    "    if(n == 0):\n",
    "        return 1\n",
    "    \n",
    "    return a * power(a, n - 1)\n",
    "\n",
    "power(2, 5)"
   ]
  },
  {
   "cell_type": "markdown",
   "id": "b89d90c7",
   "metadata": {},
   "source": [
    "# Finding substring using recursion"
   ]
  },
  {
   "cell_type": "code",
   "execution_count": 21,
   "id": "6c80e435",
   "metadata": {},
   "outputs": [
    {
     "data": {
      "text/plain": [
       "5"
      ]
     },
     "execution_count": 21,
     "metadata": {},
     "output_type": "execute_result"
    }
   ],
   "source": [
    "def countHi(s, count=0):\n",
    "    ''' s-indicates the string,\n",
    "         output:Return the count of occurrences of \"hi\" in s'''\n",
    "    \n",
    "    # YOUR CODE GOES HERE\n",
    "    if(s == \"\"):\n",
    "#         print(i)\n",
    "        return count\n",
    "    if(s.startswith(\"hi\")):\n",
    "        count += 1\n",
    "    return countHi(s[1:], count)\n",
    "\n",
    "countHi(\"hihiaydyhihdeeihishdudhhi\")"
   ]
  },
  {
   "cell_type": "markdown",
   "id": "0f9865bb",
   "metadata": {},
   "source": [
    "# Reversing String Using Recursion"
   ]
  },
  {
   "cell_type": "code",
   "execution_count": 2,
   "id": "4659ac71",
   "metadata": {},
   "outputs": [
    {
     "name": "stdout",
     "output_type": "stream",
     "text": [
      "news\n",
      "swen\n"
     ]
    }
   ],
   "source": [
    "def bp(string, n):\n",
    "  if n>0:\n",
    "    print(string[n], end='')\n",
    "    bp(string, n-1)\n",
    "  elif n==0:\n",
    "    print(string[0])\n",
    "\n",
    "s = input()\n",
    "bp(s, len(s)-1)"
   ]
  },
  {
   "cell_type": "code",
   "execution_count": 6,
   "id": "f029a8d1",
   "metadata": {},
   "outputs": [
    {
     "data": {
      "text/plain": [
       "0"
      ]
     },
     "execution_count": 6,
     "metadata": {},
     "output_type": "execute_result"
    }
   ],
   "source": [
    "1//2"
   ]
  },
  {
   "cell_type": "markdown",
   "id": "eb39e190",
   "metadata": {},
   "source": [
    "# Finding a number binary with recursion"
   ]
  },
  {
   "cell_type": "code",
   "execution_count": 7,
   "id": "74bbbb8b",
   "metadata": {},
   "outputs": [
    {
     "name": "stdout",
     "output_type": "stream",
     "text": [
      "110"
     ]
    }
   ],
   "source": [
    "l = [ ]\n",
    "def convert(b):\n",
    "  if(b==0):\n",
    "    return l\n",
    "  digit=b%2\n",
    "  l.append(digit)\n",
    "  convert(b//2)\n",
    "\n",
    "convert(6)\n",
    "l.reverse()\n",
    "for i in l:\n",
    "  print(i,end=\"\")"
   ]
  },
  {
   "cell_type": "code",
   "execution_count": 9,
   "id": "4c91edb2",
   "metadata": {},
   "outputs": [
    {
     "name": "stdout",
     "output_type": "stream",
     "text": [
      "46\n"
     ]
    }
   ],
   "source": [
    "def fun(n):\n",
    "  if (n > 50):\n",
    "    return n - 5\n",
    "  return fun(fun(n+11))\n",
    "print(fun(45))"
   ]
  },
  {
   "cell_type": "markdown",
   "id": "09edd14a",
   "metadata": {},
   "source": [
    "## Write a program to calculate the sum of the positive integers of the series n + (n-2) + (n-4)..... (until n-x ≥ 0)"
   ]
  },
  {
   "cell_type": "code",
   "execution_count": 3,
   "id": "3f4a1a7c",
   "metadata": {},
   "outputs": [
    {
     "data": {
      "text/plain": [
       "0"
      ]
     },
     "execution_count": 3,
     "metadata": {},
     "output_type": "execute_result"
    }
   ],
   "source": [
    "def sum_series(n):\n",
    "   '''n = Input in integer format\n",
    "      output:return sum of the series'''\n",
    "   # YOUR CODE GOES HERE\n",
    "   if(n <= 0):\n",
    "      return 0\n",
    "   \n",
    "   return n + sum_series(n-2)\n",
    "\n",
    "sum_series(-8)"
   ]
  },
  {
   "cell_type": "markdown",
   "id": "cca35e0c",
   "metadata": {},
   "source": [
    "## Write a recursive program to calculate the harmonic sum of the first n numbers."
   ]
  },
  {
   "cell_type": "code",
   "execution_count": 30,
   "id": "7d744df1",
   "metadata": {},
   "outputs": [
    {
     "data": {
      "text/plain": [
       "2.929"
      ]
     },
     "execution_count": 30,
     "metadata": {},
     "output_type": "execute_result"
    }
   ],
   "source": [
    "def harmonic_sum(n):\n",
    "    '''n = Input in integer format\n",
    "       output:return harmonic sum'''\n",
    "    # YOUR CODE GOES HERE\n",
    "    if(n<2):\n",
    "        return 1\n",
    "    return round(1/n + harmonic_sum(n-1), 3)\n",
    "\n",
    "harmonic_sum(10)\n",
    "# print(round(harm, 3))"
   ]
  },
  {
   "cell_type": "code",
   "execution_count": 1,
   "id": "5ed86e70",
   "metadata": {},
   "outputs": [
    {
     "data": {
      "text/plain": [
       "2.929"
      ]
     },
     "execution_count": 1,
     "metadata": {},
     "output_type": "execute_result"
    }
   ],
   "source": [
    "round(2.9290000000000003, 3)"
   ]
  },
  {
   "cell_type": "markdown",
   "id": "c5855f52",
   "metadata": {},
   "source": [
    "# Combinatorics"
   ]
  },
  {
   "cell_type": "code",
   "execution_count": 13,
   "id": "37c47a23",
   "metadata": {},
   "outputs": [
    {
     "name": "stdout",
     "output_type": "stream",
     "text": [
      "5\n"
     ]
    },
    {
     "data": {
      "text/plain": [
       "-1"
      ]
     },
     "execution_count": 13,
     "metadata": {},
     "output_type": "execute_result"
    }
   ],
   "source": [
    "import math\n",
    "def valueOf(perm,com):\n",
    "    #perm -> Permutation of arrangement of r objects from a set of n objects\n",
    "    #com -> Selection of r objects from a set of n objects\n",
    "\n",
    "    # return the value of r\n",
    "    # code starts here\n",
    "    fact_r = perm // com\n",
    "    print(fact_r)\n",
    "    if(fact_r == 0):\n",
    "        return -1\n",
    "    else:\n",
    "        i = 1\n",
    "        while(True):\n",
    "            if(fact_r % i == 0):\n",
    "                fact_r = fact_r // i\n",
    "            else: \n",
    "                break\n",
    "            \n",
    "            i += 1\n",
    "        \n",
    "        if(fact_r == 1):\n",
    "            return i - 1\n",
    "        else:\n",
    "            return -1\n",
    "        \n",
    "valueOf(900,165)"
   ]
  },
  {
   "cell_type": "code",
   "execution_count": 14,
   "id": "7c44729d",
   "metadata": {},
   "outputs": [
    {
     "data": {
      "text/plain": [
       "45"
      ]
     },
     "execution_count": 14,
     "metadata": {},
     "output_type": "execute_result"
    }
   ],
   "source": [
    "import math\n",
    "math.comb(10, 2)"
   ]
  },
  {
   "cell_type": "markdown",
   "id": "5c9de45c",
   "metadata": {},
   "source": [
    "## Sentinel Search"
   ]
  },
  {
   "cell_type": "code",
   "execution_count": 1,
   "id": "18bff590",
   "metadata": {},
   "outputs": [
    {
     "data": {
      "text/plain": [
       "4"
      ]
     },
     "execution_count": 1,
     "metadata": {},
     "output_type": "execute_result"
    }
   ],
   "source": [
    "def sentinelSearch(ar,target,n):\n",
    "  last = ar[n-1]\n",
    "  ar[n-1] = target\n",
    "  i = 0\n",
    "  while ar[i]!=target:\n",
    "    i+=1\n",
    "  ar[n-1] = last\n",
    "  if (i<n-1) or target==ar[n-1]:\n",
    "    return i\n",
    "  else:\n",
    "    return -1\n",
    "\n",
    "sentinelSearch([1,2,3,4,5],5,5)"
   ]
  },
  {
   "cell_type": "code",
   "execution_count": null,
   "id": "5d39492e",
   "metadata": {},
   "outputs": [],
   "source": []
  },
  {
   "cell_type": "markdown",
   "id": "84b1ec12",
   "metadata": {},
   "source": [
    "# Recursive Binary Search"
   ]
  },
  {
   "cell_type": "code",
   "execution_count": 23,
   "id": "f6ac9569",
   "metadata": {},
   "outputs": [
    {
     "data": {
      "text/plain": [
       "True"
      ]
     },
     "execution_count": 23,
     "metadata": {},
     "output_type": "execute_result"
    }
   ],
   "source": [
    "def recur_search(key, values, lower, upper):\n",
    "    if(lower<=upper):\n",
    "        mid = (lower + upper) // 2\n",
    "        \n",
    "        if(key == values[mid]):\n",
    "            return True\n",
    "        elif(key < values[mid]):\n",
    "            return recur_search(key, values, lower, mid-1)\n",
    "        else:\n",
    "            return recur_search(key, values, mid+1, upper)\n",
    "    \n",
    "    return False\n",
    "\n",
    "recur_search(1, [1,2,3,4,5], 0, 4)"
   ]
  },
  {
   "cell_type": "markdown",
   "id": "fd632d89",
   "metadata": {},
   "source": [
    "#### What will be the value of the list element at the mid index which is given by (left + (right - left)//2), during the third level of recursion, if the recursive Binary Search is applied on the list = [35, 66, 73, 80, 90, 102, 258], and the element to be searched is 90?"
   ]
  },
  {
   "cell_type": "code",
   "execution_count": null,
   "id": "7f33db55",
   "metadata": {},
   "outputs": [],
   "source": [
    "def recur_search(key, values, lower, upper):\n",
    "    if(lower<=upper):\n",
    "        mid = (lower + (upper - lower)) // 2\n",
    "        if(key == values[mid]):\n",
    "            return True\n",
    "        elif(key < values[mid]):\n",
    "            return recur_search(key, values, lower, mid-1)\n",
    "        else:\n",
    "            return recur_search(key, values, mid+1, upper)\n",
    "    \n",
    "    return False\n",
    "\n",
    "recur_search(90, [35, 66, 73, 80, 90, 102, 258], 0, 6)"
   ]
  },
  {
   "cell_type": "markdown",
   "id": "37bf90a4",
   "metadata": {},
   "source": [
    "# Search & Insert - iterative"
   ]
  },
  {
   "cell_type": "code",
   "execution_count": 19,
   "id": "f1341973",
   "metadata": {},
   "outputs": [
    {
     "data": {
      "text/plain": [
       "1"
      ]
     },
     "execution_count": 19,
     "metadata": {},
     "output_type": "execute_result"
    }
   ],
   "source": [
    "def searchInsert(A, B):\n",
    "    #YOUR CODE GOES HERE\n",
    "    start = 0;\n",
    "    end = len(A) - 1\n",
    "    found = True\n",
    "    while(start <= end):\n",
    "        mid = (start + end) // 2\n",
    "\n",
    "        if(B == A[mid]):\n",
    "            found = True\n",
    "            return mid\n",
    "        elif(B < A[mid]):\n",
    "            end = mid - 1\n",
    "        else: \n",
    "            start = mid + 1\n",
    "    \n",
    "    \n",
    "    return start\n",
    "\n",
    "A = [1, 3, 4, 5]\n",
    "B = 2\n",
    "searchInsert(A, B)"
   ]
  },
  {
   "cell_type": "markdown",
   "id": "0779236b",
   "metadata": {},
   "source": [
    "## Bubble Sort - Implementation"
   ]
  },
  {
   "cell_type": "code",
   "execution_count": 47,
   "id": "dbd38fcb",
   "metadata": {},
   "outputs": [],
   "source": [
    "def bubbleSort(arr, k):\n",
    "    if(len(arr) < k):\n",
    "        return 0\n",
    "#     for i in range(k-1): # for passes\n",
    "#         for j in range(k-1-i):\n",
    "#             if(arr[j] > arr[j+1]):\n",
    "#                 arr[j], arr[j+1] = arr[j+1], arr[j]\n",
    "\n",
    "# ----------->>>>>>>>>>>>>>>SECOND APPROACH<<<<<<<<<<<<<<<<<<-----------------\n",
    "\n",
    "    for j in range(len(arr)-1,-1,-1):\n",
    "      for k in range(0,j):\n",
    "        if(arr[k]<arr[k+1]):\n",
    "          temp=arr[k]\n",
    "          arr[k]=arr[k+1]\n",
    "          arr[k+1]=temp\n",
    "    return arr"
   ]
  },
  {
   "cell_type": "code",
   "execution_count": 48,
   "id": "4de75c61",
   "metadata": {},
   "outputs": [
    {
     "data": {
      "text/plain": [
       "[90, 64, 34, 25, 22, 12, 11]"
      ]
     },
     "execution_count": 48,
     "metadata": {},
     "output_type": "execute_result"
    }
   ],
   "source": [
    "arr = [64,34,25,12,22,11,90]\n",
    "# k = len(arr)\n",
    "# arr = arr[:4]\n",
    "k = len(arr)\n",
    "bubbleSort(arr, k)"
   ]
  },
  {
   "cell_type": "markdown",
   "id": "fdb41e2e",
   "metadata": {},
   "source": [
    "## FINDING TIME COMPLEXITY"
   ]
  },
  {
   "cell_type": "code",
   "execution_count": 49,
   "id": "0884fcbd",
   "metadata": {},
   "outputs": [
    {
     "name": "stdout",
     "output_type": "stream",
     "text": [
      "x \n",
      "x x \n",
      "x x x \n",
      "x x x x \n"
     ]
    }
   ],
   "source": [
    "for i in range(1,5):\n",
    "  for j in range(i):\n",
    "    print(\"x\",end=\" \")\n",
    "  print()\n",
    "\n",
    "# TIME COMPLEXITY WILL BE - O(n^2)"
   ]
  },
  {
   "cell_type": "code",
   "execution_count": 54,
   "id": "6ea25981",
   "metadata": {},
   "outputs": [
    {
     "name": "stdout",
     "output_type": "stream",
     "text": [
      "0\n",
      "1\n",
      "2\n",
      "3\n",
      "4\n"
     ]
    }
   ],
   "source": [
    "for i in range(5):\n",
    "      j=i\n",
    "      print(j)\n",
    "      while j<i: # -> This loop will never be executed\n",
    "        print(j)\n",
    "        j=j+1\n",
    "    \n",
    "# TIME COMPLEXITY WILL BE - O(n)"
   ]
  },
  {
   "cell_type": "markdown",
   "id": "75dc3619",
   "metadata": {},
   "source": [
    "# Bubble Sort With Recursion"
   ]
  },
  {
   "cell_type": "code",
   "execution_count": 2,
   "id": "3b640522",
   "metadata": {},
   "outputs": [
    {
     "data": {
      "text/plain": [
       "[11, 12, 45, 50, 54, 69, 82]"
      ]
     },
     "execution_count": 2,
     "metadata": {},
     "output_type": "execute_result"
    }
   ],
   "source": [
    "def bubbleSortRecur(arr, k):\n",
    "    for j in range(k-1):\n",
    "        if(arr[j] > arr[j+1]):\n",
    "            arr[j], arr[j+1] = arr[j+1], arr[j]\n",
    "\n",
    "    if(k - 1 > 1):\n",
    "        bubbleSortRecur(arr, k - 1)\n",
    "    \n",
    "    return arr\n",
    "\n",
    "bubbleSortRecur([54,45,82,12,11,69,50], 7)"
   ]
  },
  {
   "cell_type": "markdown",
   "id": "40071530",
   "metadata": {},
   "source": [
    "# Selection Sort - Iterative"
   ]
  },
  {
   "cell_type": "code",
   "execution_count": 13,
   "id": "37e8cf99",
   "metadata": {},
   "outputs": [
    {
     "data": {
      "text/plain": [
       "['Almighty', 'Apple', 'Code', 'Dog']"
      ]
     },
     "execution_count": 13,
     "metadata": {},
     "output_type": "execute_result"
    }
   ],
   "source": [
    "def selectionSort(arr, k):\n",
    "    for i in range(k-1):\n",
    "        min_idx = i\n",
    "        for j in range(i+1, k):\n",
    "            if(arr[j] < arr[min_idx]):\n",
    "                min_idx = j\n",
    "        arr[i], arr[min_idx] = arr[min_idx], arr[i]\n",
    "    return arr\n",
    "selectionSort([\"Code\",\"Apple\",\"Dog\",\"Almighty\"], 4)             "
   ]
  },
  {
   "cell_type": "markdown",
   "id": "84d9669d",
   "metadata": {},
   "source": [
    "# Selection Sort - Recursive"
   ]
  },
  {
   "cell_type": "code",
   "execution_count": 5,
   "id": "9077bb64",
   "metadata": {},
   "outputs": [
    {
     "data": {
      "text/plain": [
       "[11, 12, 45, 50, 54, 69, 82]"
      ]
     },
     "execution_count": 5,
     "metadata": {},
     "output_type": "execute_result"
    }
   ],
   "source": [
    "def selectionSort(arr, k, min_idx = 0):\n",
    "#     for i in range(k-1):\n",
    "#         min_idx = i\n",
    "    for j in range(min_idx+1, k):\n",
    "        if(arr[j] < arr[min_idx]):\n",
    "            arr[j], arr[min_idx] = arr[min_idx], arr[j]\n",
    "    \n",
    "    if(min_idx < k):\n",
    "        selectionSort(arr, k, min_idx + 1)\n",
    "    return arr\n",
    "selectionSort([54,45,82,12,11,69,50], 7)  "
   ]
  },
  {
   "cell_type": "markdown",
   "id": "429f339d",
   "metadata": {},
   "source": [
    "# Insertion Sort"
   ]
  },
  {
   "cell_type": "code",
   "execution_count": 15,
   "id": "869f1ce4",
   "metadata": {},
   "outputs": [
    {
     "data": {
      "text/plain": [
       "[11, 45, 50, 54, 69, 82]"
      ]
     },
     "execution_count": 15,
     "metadata": {},
     "output_type": "execute_result"
    }
   ],
   "source": [
    "def insertionSort(arr):\n",
    "    for i in range(1, len(arr)):\n",
    "        j=i-1\n",
    "        key = arr[i]\n",
    "        while j >= 0 and key < arr[j]:\n",
    "            arr[j+1] = arr[j]\n",
    "            j-=1\n",
    "        \n",
    "        arr[j+1] = key\n",
    "    \n",
    "    return arr\n",
    "\n",
    "insertionSort([54, 45, 82, 11, 69, 50])"
   ]
  },
  {
   "cell_type": "code",
   "execution_count": 25,
   "id": "7c172633",
   "metadata": {},
   "outputs": [
    {
     "ename": "IndexError",
     "evalue": "list index out of range",
     "output_type": "error",
     "traceback": [
      "\u001b[1;31m---------------------------------------------------------------------------\u001b[0m",
      "\u001b[1;31mIndexError\u001b[0m                                Traceback (most recent call last)",
      "Input \u001b[1;32mIn [25]\u001b[0m, in \u001b[0;36m<cell line: 12>\u001b[1;34m()\u001b[0m\n\u001b[0;32m      9\u001b[0m     arr[j]\u001b[38;5;241m=\u001b[39mvalue\n\u001b[0;32m     10\u001b[0m   \u001b[38;5;28;01mreturn\u001b[39;00m arr \n\u001b[1;32m---> 12\u001b[0m \u001b[43minsertionSortExample\u001b[49m\u001b[43m(\u001b[49m\u001b[43m[\u001b[49m\u001b[38;5;241;43m54\u001b[39;49m\u001b[43m,\u001b[49m\u001b[43m \u001b[49m\u001b[38;5;241;43m45\u001b[39;49m\u001b[43m,\u001b[49m\u001b[43m \u001b[49m\u001b[38;5;241;43m82\u001b[39;49m\u001b[43m,\u001b[49m\u001b[43m \u001b[49m\u001b[38;5;241;43m11\u001b[39;49m\u001b[43m,\u001b[49m\u001b[43m \u001b[49m\u001b[38;5;241;43m69\u001b[39;49m\u001b[43m,\u001b[49m\u001b[43m \u001b[49m\u001b[38;5;241;43m50\u001b[39;49m\u001b[43m]\u001b[49m\u001b[43m)\u001b[49m\n",
      "Input \u001b[1;32mIn [25]\u001b[0m, in \u001b[0;36minsertionSortExample\u001b[1;34m(arr)\u001b[0m\n\u001b[0;32m      4\u001b[0m value\u001b[38;5;241m=\u001b[39marr[i\u001b[38;5;241m-\u001b[39m\u001b[38;5;241m1\u001b[39m]\n\u001b[0;32m      5\u001b[0m j\u001b[38;5;241m=\u001b[39mi\u001b[38;5;241m-\u001b[39m\u001b[38;5;241m1\u001b[39m\n\u001b[1;32m----> 6\u001b[0m \u001b[38;5;28;01mwhile\u001b[39;00m((j \u001b[38;5;241m>\u001b[39m\u001b[38;5;241m=\u001b[39m \u001b[38;5;241m0\u001b[39m) \u001b[38;5;129;01mor\u001b[39;00m (\u001b[43marr\u001b[49m\u001b[43m[\u001b[49m\u001b[43mj\u001b[49m\u001b[43m \u001b[49m\u001b[38;5;241;43m-\u001b[39;49m\u001b[43m \u001b[49m\u001b[38;5;241;43m1\u001b[39;49m\u001b[43m]\u001b[49m \u001b[38;5;241m>\u001b[39m value)): \u001b[38;5;66;03m#Fill the blank\u001b[39;00m\n\u001b[0;32m      7\u001b[0m     arr[j]\u001b[38;5;241m=\u001b[39marr[j\u001b[38;5;241m-\u001b[39m\u001b[38;5;241m1\u001b[39m]\n\u001b[0;32m      8\u001b[0m     j\u001b[38;5;241m=\u001b[39mj\u001b[38;5;241m-\u001b[39m\u001b[38;5;241m1\u001b[39m\n",
      "\u001b[1;31mIndexError\u001b[0m: list index out of range"
     ]
    }
   ],
   "source": [
    "def insertionSortExample(arr):\n",
    "  value=0\n",
    "  for i in range(1,len(arr)):\n",
    "    value=arr[i-1]\n",
    "    j=i-1\n",
    "    while((j >= 0) or (arr[j - 1] > value)): #Fill the blank\n",
    "        arr[j]=arr[j-1]\n",
    "        j=j-1\n",
    "    arr[j]=value\n",
    "  return arr \n",
    "\n",
    "insertionSortExample([54, 45, 82, 11, 69, 50])"
   ]
  },
  {
   "cell_type": "markdown",
   "id": "4dc610e2",
   "metadata": {},
   "source": [
    "# Merging 2 Arrays Ascending --- Conquer Approach"
   ]
  },
  {
   "cell_type": "code",
   "execution_count": 17,
   "id": "6f5e54b1",
   "metadata": {},
   "outputs": [],
   "source": [
    "def mergeSorted(a, b, result):\n",
    "    i, j, k = 0, 0, 0\n",
    "    while i < len(a) and j < len(b):\n",
    "        if(a[i] < b[j]):\n",
    "            result[k]=a[i]\n",
    "            i+=1\n",
    "        else:\n",
    "            result[k]=b[j]\n",
    "            j+=1\n",
    "        \n",
    "        k+=1\n",
    "        \n",
    "#     Check for left over elements\n",
    "\n",
    "    while(i < len(a)):\n",
    "        result[k] = a[i]\n",
    "        k+=1\n",
    "        i+=1\n",
    "    while(j < len(b)):\n",
    "        result[k] = b[j]\n",
    "        k+=1\n",
    "        j+=1\n",
    "       \n",
    "   \n",
    "    return result\n",
    "\n",
    "# a=[1, 3, 5, 7]\n",
    "# b=[2, 4, 6, 8]\n",
    "\n",
    "# result = [1, 3, 4, 5, 2, 4, 6, 8]\n",
    "\n",
    "# mergeSorted(a, b, result)"
   ]
  },
  {
   "cell_type": "markdown",
   "id": "f028fd11",
   "metadata": {},
   "source": [
    "# Merge Sort - Divide the Array"
   ]
  },
  {
   "cell_type": "code",
   "execution_count": 21,
   "id": "62edb008",
   "metadata": {},
   "outputs": [
    {
     "name": "stdout",
     "output_type": "stream",
     "text": [
      "mid 4\n",
      "left [1, 3, 5, 7]\n",
      "right [2, 4, 6, 8]\n",
      "mid 2\n",
      "left [1, 3]\n",
      "right [5, 7]\n",
      "mid 1\n",
      "left [1]\n",
      "right [3]\n",
      "mid 1\n",
      "left [5]\n",
      "right [7]\n",
      "mid 2\n",
      "left [2, 4]\n",
      "right [6, 8]\n",
      "mid 1\n",
      "left [2]\n",
      "right [4]\n",
      "mid 1\n",
      "left [6]\n",
      "right [8]\n"
     ]
    },
    {
     "data": {
      "text/plain": [
       "[1, 2, 3, 4, 5, 6, 7, 8]"
      ]
     },
     "execution_count": 21,
     "metadata": {},
     "output_type": "execute_result"
    }
   ],
   "source": [
    "def mergeSortDivide(arr):\n",
    "    if(len(arr) < 2): \n",
    "        return\n",
    "    mid = len(arr) // 2\n",
    "    print(\"mid\", mid)\n",
    "    left = arr[:mid]\n",
    "    right = arr[mid:]\n",
    "    print(\"left\", left)\n",
    "    print(\"right\", right)\n",
    "    mergeSortDivide(left)\n",
    "    mergeSortDivide(right)\n",
    "    \n",
    "    mergeSorted(left, right, arr)\n",
    "    \n",
    "    return arr\n",
    "\n",
    "mergeSortDivide([1, 3, 5, 7, 2, 4, 6, 8])"
   ]
  },
  {
   "cell_type": "code",
   "execution_count": 7,
   "id": "a683bd5e",
   "metadata": {},
   "outputs": [
    {
     "name": "stdout",
     "output_type": "stream",
     "text": [
      "Account: 1001 is has balance 1000\n"
     ]
    }
   ],
   "source": [
    "class Account():\n",
    "    acc_no = 1000\n",
    "    def __init__(self, balance):\n",
    "        self.balance = balance\n",
    "        Account.acc_no += 1\n",
    "    def __repr__(self):\n",
    "        return f\"Account: {self.acc_no} is has balance {self.balance}\"\n",
    "    \n",
    "\n",
    "ppl = Account(1000)\n",
    "print(ppl)"
   ]
  },
  {
   "cell_type": "code",
   "execution_count": 10,
   "id": "398330d5",
   "metadata": {},
   "outputs": [
    {
     "name": "stdout",
     "output_type": "stream",
     "text": [
      "Account: 1004 is has balance 2000\n"
     ]
    }
   ],
   "source": [
    "ppl2 = Account(2000)\n",
    "print(ppl2)"
   ]
  },
  {
   "cell_type": "code",
   "execution_count": 11,
   "id": "051ab3e1",
   "metadata": {},
   "outputs": [
    {
     "name": "stdout",
     "output_type": "stream",
     "text": [
      "John\n"
     ]
    }
   ],
   "source": [
    "class People():\n",
    "    def __init__(self, name):\n",
    "        self.name = name\n",
    "\n",
    "    def get_name(self):\n",
    "        print(self.name)\n",
    "\n",
    "person1 = People(\"John\")\n",
    "person2 = People(\"Mary\")\n",
    "person1.get_name()"
   ]
  },
  {
   "cell_type": "code",
   "execution_count": 12,
   "id": "0baadd07",
   "metadata": {},
   "outputs": [
    {
     "name": "stdout",
     "output_type": "stream",
     "text": [
      "13\n"
     ]
    }
   ],
   "source": [
    "class fruits:\n",
    "    def __init__(self, price):\n",
    "        self.price = price\n",
    "\n",
    "obj=fruits(50)\n",
    "obj.quantity=10\n",
    "obj.bags=2\n",
    "\n",
    "print(obj.quantity+len(obj.__dict__))"
   ]
  },
  {
   "cell_type": "code",
   "execution_count": 13,
   "id": "36c36dc8",
   "metadata": {},
   "outputs": [
    {
     "data": {
      "text/plain": [
       "{'price': 50, 'quantity': 10, 'bags': 2}"
      ]
     },
     "execution_count": 13,
     "metadata": {},
     "output_type": "execute_result"
    }
   ],
   "source": [
    "obj.__dict__"
   ]
  },
  {
   "cell_type": "code",
   "execution_count": 14,
   "id": "a6e75c1b",
   "metadata": {},
   "outputs": [
    {
     "name": "stdout",
     "output_type": "stream",
     "text": [
      "Name: Sanjay Club: Real Madrid Sports: Football Name: Ravi Club: United Sports: Tennis "
     ]
    }
   ],
   "source": [
    "class Player:\n",
    "  # class variables\n",
    "  club = 'United'\n",
    "  sport = 'Football'\n",
    "\n",
    "  def __init__(self, name):\n",
    "    # Instance variable\n",
    "    self.name = name\n",
    "\n",
    "  def show(self):\n",
    "    print('Name:', self.name, 'Club:', self.club, 'Sports:', self.sport, end=\" \")\n",
    "\n",
    "p1 = Player('Sanjay')\n",
    "p1.club = 'Real Madrid'\n",
    "p1.show()\n",
    "\n",
    "p2 = Player('Ravi')\n",
    "p2.sport = 'Tennis'\n",
    "p2.show()"
   ]
  },
  {
   "cell_type": "code",
   "execution_count": 25,
   "id": "7bcc2c4d",
   "metadata": {},
   "outputs": [
    {
     "name": "stdout",
     "output_type": "stream",
     "text": [
      "0\n"
     ]
    },
    {
     "data": {
      "text/plain": [
       "5.56"
      ]
     },
     "execution_count": 25,
     "metadata": {},
     "output_type": "execute_result"
    }
   ],
   "source": [
    "class Student():\n",
    "    \n",
    "    def __init__(self, marks1,marks2,credits1, credits2):\n",
    "        #YOUR CODE GOES HERE\n",
    "        self.marks1 = marks1\n",
    "        self.marks2 = marks2\n",
    "        self.credits1 = credits1\n",
    "        self.credits2 = credits2\n",
    "    \n",
    "    def grade_point_average(self):\n",
    "        gpa=0\n",
    "#         print(self.marks1,self.marks2,self.credits1,self.credits2\n",
    "        #YOUR CODE GOES HERE\n",
    "        def subjectpoints(mark):\n",
    "            if(mark < 45):\n",
    "                    return 0\n",
    "            elif(mark>=45 and mark < 60):\n",
    "                    return 7\n",
    "            elif(mark>=60 and mark < 75):\n",
    "                    return 8\n",
    "            elif(mark>=75 and mark < 90):\n",
    "                    return 9\n",
    "            elif(mark>=90):\n",
    "                    return 10\n",
    "        try:\n",
    "            gpa = (((subjectpoints(self.marks1) * self.credits1) + (subjectpoints(self.marks2) * self.credits2)) / (self.credits1 + self.credits2))\n",
    "            gpa = round(gpa, 2)\n",
    "            return gpa\n",
    "        except: return \"Zero credits for both subjects\"\n",
    "        \n",
    "s1 = Student(35, 92, 4, 5)\n",
    "s1.grade_point_average()\n",
    "        "
   ]
  },
  {
   "cell_type": "code",
   "execution_count": 37,
   "id": "ea264c9c",
   "metadata": {},
   "outputs": [
    {
     "name": "stdout",
     "output_type": "stream",
     "text": [
      "325\n",
      "225\n",
      "125\n"
     ]
    },
    {
     "data": {
      "text/plain": [
       "2000.0"
      ]
     },
     "execution_count": 37,
     "metadata": {},
     "output_type": "execute_result"
    }
   ],
   "source": [
    "class Bill():\n",
    "\n",
    "    def __init__(self, prev_read, cur_read):\n",
    "        #YOUR CODE GOESS HERE\n",
    "        self.prev_read = prev_read\n",
    "        self.cur_read = cur_read\n",
    "        \n",
    "        \n",
    "    def total_bill(self):\n",
    "        total=0.0\n",
    "        units_consumed = self.cur_read - self.prev_read\n",
    "        #YOUR CODE GOESS HERE\n",
    "        first_100, second_100, rest = 0,0,0\n",
    "        if(units_consumed > 100):\n",
    "            print(units_consumed)\n",
    "            units_consumed -= 100\n",
    "            print(units_consumed)\n",
    "            first_100 = 100 * 3.5\n",
    "            if(units_consumed > 100):\n",
    "                units_consumed -= 100\n",
    "                print(units_consumed)\n",
    "                second_100 = 100 * 5\n",
    "                if(units_consumed > 0):\n",
    "                    rest = units_consumed * 8\n",
    "                    total = first_100 + second_100 + rest + 150\n",
    "                    return float(total)\n",
    "            else:\n",
    "                second_100 = units_consumed * 5\n",
    "                total = first_100 + second_100 + 150\n",
    "                return float(total)   \n",
    "        else:\n",
    "            first_100 = units_consumed * 3.5\n",
    "            total = first_100 + 150\n",
    "            return float(total)\n",
    "\n",
    "b1 = Bill(350, 675)\n",
    "b1.total_bill()"
   ]
  },
  {
   "cell_type": "code",
   "execution_count": 1,
   "id": "37dd0b52",
   "metadata": {},
   "outputs": [
    {
     "name": "stdout",
     "output_type": "stream",
     "text": [
      "[(True, 64), (False, 125), (True, 216)]\n"
     ]
    }
   ],
   "source": [
    "class solution:\n",
    "      def initial(self,sets):\n",
    "        return self.final(sets)\n",
    " \n",
    "      def final(self, sets):\n",
    "        return list(map(lambda x: ((x**3)%2==0,x**3),sets))\n",
    "\n",
    "print(solution().initial([4,5,6]))"
   ]
  },
  {
   "cell_type": "code",
   "execution_count": 6,
   "id": "5779dd0c",
   "metadata": {},
   "outputs": [
    {
     "name": "stdout",
     "output_type": "stream",
     "text": [
      "Roll: 34 Marks: A None\n"
     ]
    }
   ],
   "source": [
    "class Student:\n",
    "    def __init__(self,roll,marks):\n",
    "        self.roll = roll\n",
    "        self.marks=marks\n",
    "    def display(self):\n",
    "        print('Roll:', self.roll,'Marks:',self.marks, end=\" \")\n",
    "\n",
    "student1= Student(34,'A')\n",
    "# student1.age=17\n",
    "print(student1.display())"
   ]
  },
  {
   "cell_type": "code",
   "execution_count": 9,
   "id": "cf7b3832",
   "metadata": {},
   "outputs": [
    {
     "name": "stdout",
     "output_type": "stream",
     "text": [
      "18.84\n"
     ]
    }
   ],
   "source": [
    "class Circle:\n",
    "    pi = 3.14\n",
    "    def __init__(self, diameter):\n",
    "        self.radius = diameter / 2\n",
    "\n",
    "    def circumference(self):\n",
    "        return 2 * Circle.pi * self.radius\n",
    "\n",
    "pizza = Circle(6)\n",
    "print(pizza.circumference())"
   ]
  },
  {
   "cell_type": "code",
   "execution_count": 10,
   "id": "e34d22d2",
   "metadata": {},
   "outputs": [
    {
     "name": "stdout",
     "output_type": "stream",
     "text": [
      "lose win\n"
     ]
    }
   ],
   "source": [
    "class football:\n",
    "    final_res= 'lose'\n",
    "    def __init__(self,name,score):\n",
    "        self.name = name\n",
    "        self.score = score\n",
    "        self.final_res = 'lose'\n",
    "    \n",
    "    def calc(self, winning_score):\n",
    "        if self.score>winning_score:\n",
    "            self.final_res='win'\n",
    "match = football('Juventus',3)\n",
    "match.calc(2)\n",
    "print(football.final_res, match.final_res)"
   ]
  },
  {
   "cell_type": "code",
   "execution_count": 14,
   "id": "3da72c5f",
   "metadata": {},
   "outputs": [
    {
     "name": "stdout",
     "output_type": "stream",
     "text": [
      "Emma 10 Machine Learning\n"
     ]
    }
   ],
   "source": [
    "class Student:\n",
    "  # Class variable\n",
    "  subject_name = 'Math for Machine Learning'\n",
    "\n",
    "  # constructor\n",
    "  def __init__(self, name, roll_no):\n",
    "    self.name = name\n",
    "    self.roll_no = roll_no\n",
    "\n",
    "# outside the class\n",
    "# create Objects\n",
    "s1 = Student(\"Emma\", 10)\n",
    "Student.subject_name = \"Machine Learning\"\n",
    "# s1.subject_name = \"Machine Learning\"\n",
    "\n",
    "print(s1.name, s1.roll_no, s1.subject_name)"
   ]
  },
  {
   "cell_type": "code",
   "execution_count": 28,
   "id": "90601cf6",
   "metadata": {},
   "outputs": [
    {
     "name": "stdout",
     "output_type": "stream",
     "text": [
      "Name: Logistic Regression\n",
      "Category: Classification Algo\n",
      "Supervised Learning Algorithm\n",
      "Name: k-Means\n",
      "Category: Clustering Algo\n",
      "Unsupervised Learning Algorithm\n"
     ]
    }
   ],
   "source": [
    "class MachineLearning:\n",
    "    def __init__(self,name,category):\n",
    "        self.name=name\n",
    "        self.category=category\n",
    "        \n",
    "    def getname(self):\n",
    "        return self.name\n",
    "        \n",
    "    def getcategory(self):\n",
    "        return self.category\n",
    "        \n",
    "    def print(self):\n",
    "        print(\"Name:\",self.name)\n",
    "        print(\"Category:\",self.category)\n",
    "\n",
    "class Supervised(MachineLearning):\n",
    "    def __init__(self,name,category):\n",
    "        #YOUR CODE GOES HERE\n",
    "        super().__init__(name, category)\n",
    "        \n",
    "    def type(self):\n",
    "        #YOUR CODE GOES HERE\n",
    "        return 'Supervised Learning Algorithm'\n",
    "\n",
    "class Unsupervised(MachineLearning):\n",
    "    def __init__(self,name,category):\n",
    "        #YOUR CODE GOES HERE\n",
    "        super().__init__(name, category)\n",
    "    \n",
    "    def type(self):\n",
    "        #YOUR CODE GOES HERE\n",
    "        return 'Unsupervised Learning Algorithm'\n",
    "\n",
    "def mlAnalogy(a,b,c,d):\n",
    "    '''\n",
    "    input=> a,b = name and category for Supervised class\n",
    "            c,d = name and category for Unsupervised class\n",
    "    output=> type() is called for both classes in the end, it should first print the Name and Category then the type of class in new lines\n",
    "    '''\n",
    "\n",
    "    obj1=Supervised(a,b)\n",
    "    obj1.print()\n",
    "    print(obj1.type())\n",
    "    obj2=Unsupervised(c,d)\n",
    "    obj2.print()\n",
    "    print(obj2.type())\n",
    "\n",
    "#     return None\n",
    "\n",
    "mlAnalogy(\"Logistic Regression\", \"Classification Algo\", \"k-Means\", \"Clustering Algo\")"
   ]
  },
  {
   "cell_type": "code",
   "execution_count": 38,
   "id": "02a4297e",
   "metadata": {},
   "outputs": [
    {
     "name": "stdout",
     "output_type": "stream",
     "text": [
      "The type of Name is smaller\n",
      "2\n"
     ]
    }
   ],
   "source": [
    "\n",
    "    \n",
    "class Smaller:\n",
    "    def __init__(self,a):\n",
    "        self.a=a\n",
    "    \n",
    "    def display(self):\n",
    "        print(\"The type of Name is smaller\")\n",
    "    \n",
    "    def evaluate(self):\n",
    "        ans=0\n",
    "        # YOUR CODE GOES HERE\n",
    "        for s in self.a.lower():\n",
    "            if s in ('a', 'e', 'i', 'o', 'u'):\n",
    "                ans += 1\n",
    "        print(ans)\n",
    "        \n",
    "class Larger:\n",
    "    def __init__(self,a):\n",
    "        self.a=a\n",
    "    \n",
    "    def display(self):\n",
    "        print(\"The type of Name is larger\")\n",
    "    \n",
    "    def evaluate(self):\n",
    "        ans=0\n",
    "        \n",
    "        # YOUR CODE GOES HERE\n",
    "        for s in self.a.lower():\n",
    "            if s not in ('a', 'e', 'i', 'o', 'u'):\n",
    "                ans += 1\n",
    "        print(ans)\n",
    "\n",
    "def main(a):\n",
    "    '''\n",
    "    input a is string\n",
    "    '''\n",
    "    if len(a)<6:\n",
    "        obj=Smaller(a)\n",
    "        obj.display()\n",
    "        obj.evaluate()\n",
    "    else:\n",
    "        obj=Larger(a)\n",
    "        obj.display()\n",
    "        obj.evaluate()\n",
    "\n",
    "main(\"Akash\")"
   ]
  },
  {
   "cell_type": "markdown",
   "id": "81952478",
   "metadata": {},
   "source": [
    "### You teach a class of students. You plan to make a pair where you want to pair 2 of your students who live closest to each other. The map along with the coordinates of each student's house is available to you. Can you find the students whom you can pair? You are given 2 lists containing the students name and locations. Manhattan Distance will be used to calculate the distance between 2 points.\n",
    "\n",
    "Manhattan Distance between 2 points (x1,y1) and (x2,y2) is given by |x1-x2| + |y1-y2|.\n"
   ]
  },
  {
   "cell_type": "code",
   "execution_count": 3,
   "id": "3edf76b9",
   "metadata": {},
   "outputs": [
    {
     "data": {
      "text/plain": [
       "['Adam', 'Maxine']"
      ]
     },
     "execution_count": 3,
     "metadata": {},
     "output_type": "execute_result"
    }
   ],
   "source": [
    "def nearestStudents(names,loc):\n",
    "    '''\n",
    "    input:\n",
    "    names -> names of students\n",
    "    loc -> coordinates of each students\n",
    "    output:\n",
    "    return the nearest students name \n",
    "    '''\n",
    "    \n",
    "    # Your code starts here\n",
    "    shortest_distance = float('inf')\n",
    "    students1 = \"\"\n",
    "    students2 = \"\"\n",
    "    for i in range(len(loc)):\n",
    "        for j in range(i + 1, len(loc)):\n",
    "            dist = abs(loc[i][0] - loc[j][0]) + abs(loc[i][1] + loc[j][1])\n",
    "            if dist < shortest_distance:\n",
    "                shortest_distance = dist\n",
    "                students1 = i\n",
    "                students2 = j\n",
    "            \n",
    "\n",
    "    # code ends here\n",
    "    return [names[students1], names[students2]]\n",
    "\n",
    "\n",
    "names = [\"Adam\",\"Millie\",\"Jacob\",\"Michael\",\"Maxine\"]\n",
    "loc = [(1,2),(5,4),(0,3),(2,3),(0,0)]\n",
    "nearestStudents(names, loc)"
   ]
  },
  {
   "cell_type": "code",
   "execution_count": 4,
   "id": "ae57c582",
   "metadata": {},
   "outputs": [
    {
     "name": "stdout",
     "output_type": "stream",
     "text": [
      "(1, 4)\n"
     ]
    }
   ],
   "source": [
    "def func2(c, d):\n",
    "    return c, d\n",
    "\n",
    "def func1(a, b):\n",
    "    c = a**1\n",
    "    d = b**2\n",
    "    return lambda: func2(c,d)\n",
    "\n",
    "result = func1(1, 2)\n",
    "\n",
    "print(result())"
   ]
  },
  {
   "cell_type": "code",
   "execution_count": 13,
   "id": "e8077466",
   "metadata": {},
   "outputs": [
    {
     "name": "stdout",
     "output_type": "stream",
     "text": [
      "True\n",
      "0 2 4 6 8 "
     ]
    }
   ],
   "source": [
    "odd=lambda x: bool(x%2)\n",
    "result=[n for n in range(10)]\n",
    "\n",
    "print(odd(5))\n",
    "for i in result:\n",
    "    if odd(i):\n",
    "        continue       \n",
    "    else:\n",
    "        print(i, end=\" \")"
   ]
  },
  {
   "cell_type": "code",
   "execution_count": 16,
   "id": "d16611c0",
   "metadata": {},
   "outputs": [
    {
     "data": {
      "text/plain": [
       "['world', 'start']"
      ]
     },
     "execution_count": 16,
     "metadata": {},
     "output_type": "execute_result"
    }
   ],
   "source": [
    "def LengthSequence(string, length):\n",
    "    '''string => a string\n",
    "       length => an integer representing required length of words which are be returned'''\n",
    "    result= []\n",
    "    # YOUR CODE GOES HERE\n",
    "    s = string.split(\" \")\n",
    "    for i in s:\n",
    "        if(len(i) == length):\n",
    "            result.append(i)\n",
    "    return result\n",
    "\n",
    "s = \"The world has changed and none of us can go back all we can do is our best and sometimes the best that we can do is to start over\"\n",
    "LengthSequence(s, 5)"
   ]
  },
  {
   "cell_type": "markdown",
   "id": "57f19bfb",
   "metadata": {},
   "source": [
    "### Problem Description\n",
    "\n",
    "- Given a list of strings of varying lengths, complete the python function to sort the list of strings based on their lengths and return the sorted list.\n",
    "\n",
    "- Note: In case 2 strings have the same length, they are sorted in ascending order of their lexicographic index."
   ]
  },
  {
   "cell_type": "code",
   "execution_count": 25,
   "id": "07da625b",
   "metadata": {},
   "outputs": [
    {
     "data": {
      "text/plain": [
       "['b', 'dd', 'aaa', 'ccc']"
      ]
     },
     "execution_count": 25,
     "metadata": {},
     "output_type": "execute_result"
    }
   ],
   "source": [
    "str_list = [\"ccc\", \"b\", \"dd\", \"aaa\"]\n",
    "\n",
    "ss = sorted(str_list)\n",
    "s = sorted(ss, key = lambda x: len(x))\n",
    "s"
   ]
  },
  {
   "cell_type": "markdown",
   "id": "087c756a",
   "metadata": {},
   "source": [
    "### Problem Description\n",
    "> You are given a nested list of strings of varying lengths. For each list, sort the string on the basis of the number of times the character ‘a’ appears in the string such that the string having the most number of ‘a’ comes first in the lists. Complete the python function and return the sorted list.\n",
    "\n",
    "> Note: If 2 strings has the same number of 'a', keep them in the same order as entered in the list."
   ]
  },
  {
   "cell_type": "code",
   "execution_count": 36,
   "id": "b92636e8",
   "metadata": {},
   "outputs": [
    {
     "name": "stdout",
     "output_type": "stream",
     "text": [
      "['maaango', 'banana', 'gauava']\n",
      "['sandalwood', 'rose']\n",
      "['aaa', 'baac', 'bccc', 'c']\n"
     ]
    },
    {
     "data": {
      "text/plain": [
       "[['maaango', 'banana', 'gauava'],\n",
       " ['sandalwood', 'rose'],\n",
       " ['aaa', 'baac', 'bccc', 'c']]"
      ]
     },
     "execution_count": 36,
     "metadata": {},
     "output_type": "execute_result"
    }
   ],
   "source": [
    "def sort_strings(str_list):\n",
    "    #str_list-> nested list of strings\n",
    "\n",
    "    # return the sorted list of strings on the basis of number of times ‘a’ occurs\n",
    "\n",
    "    # code starts here\n",
    "    res = []\n",
    "    for i in str_list:\n",
    "        s = sorted(i, key = lambda x: x.count('a'), reverse=True)\n",
    "        print(s)\n",
    "        res.append(s)\n",
    "    #code ends here\n",
    "\n",
    "    return res\n",
    "\n",
    "sort_string = [[\"maaango\", \"banana\", \"gauava\"],\n",
    "                [\"rose\", \"sandalwood\"],\n",
    "                [\"bccc\", \"aaa\", \"baac\", \"c\"]]\n",
    "\n",
    "sort_strings(sort_string)"
   ]
  },
  {
   "cell_type": "markdown",
   "id": "5b02465a",
   "metadata": {},
   "source": [
    "### Problem Description\n",
    "- Complete the Python function __second_lowest()__ to find the second-lowest grade of students from the given names and grades of each student using lists and lambda function. For the input, the number of **students**, __names__, and the grades of each student were given."
   ]
  },
  {
   "cell_type": "code",
   "execution_count": 59,
   "id": "1133bed0",
   "metadata": {},
   "outputs": [
    {
     "name": "stdout",
     "output_type": "stream",
     "text": [
      "[['N KAR', 2], ['C DUTTA', 2], ['G GHOSH', 2]]\n"
     ]
    },
    {
     "data": {
      "text/plain": [
       "([['S ROY ', 1], ['B BOSE', 3], ['N KAR', 2], ['C DUTTA', 2], ['G GHOSH', 2]],\n",
       " 2,\n",
       " [['N KAR', 2], ['C DUTTA', 2], ['G GHOSH', 2]])"
      ]
     },
     "execution_count": 59,
     "metadata": {},
     "output_type": "execute_result"
    }
   ],
   "source": [
    "def second_lowest(students, scores):\n",
    "    '''\n",
    "    input:\n",
    "    students -> a list of students\n",
    "    scores -> list of the scores, with each score being that of the ith student\n",
    "    \n",
    "    output:\n",
    "    student_data -> 2d list of data, with each inner list having name of student as 1st and score of 2nd as second element respectively\n",
    "    second_low_score -> the second lowest score\n",
    "    second_names -> list of students with score same as second lowest score, in the same order as in the students list\n",
    "    '''\n",
    "    \n",
    "    student_data, second_low_score, second_names = [], None, None\n",
    "    \n",
    "    # Your code starts here\n",
    "    for i in range(len(students)):\n",
    "        s = []\n",
    "        s.append(students[i])\n",
    "        s.append(scores[i])\n",
    "        student_data.append(s)\n",
    "    \n",
    "    second_low_score = sorted(set(scores))[1]\n",
    "    second_names = list(filter(lambda x: x[1] == second_low_score, student_data))\n",
    "    print(second_names)\n",
    "    # Your code ends here\n",
    "    return student_data, second_low_score, second_names\n",
    "\n",
    "students = [\"S ROY \", \"B BOSE\", \"N KAR\", \"C DUTTA\", \"G GHOSH\"]\n",
    "scores = [1, 3, 2, 2, 2]\n",
    "second_lowest(students, scores)"
   ]
  },
  {
   "cell_type": "code",
   "execution_count": null,
   "id": "5d3e4b49",
   "metadata": {},
   "outputs": [],
   "source": []
  }
 ],
 "metadata": {
  "kernelspec": {
   "display_name": "Python 3",
   "language": "python",
   "name": "python3"
  },
  "language_info": {
   "codemirror_mode": {
    "name": "ipython",
    "version": 3
   },
   "file_extension": ".py",
   "mimetype": "text/x-python",
   "name": "python",
   "nbconvert_exporter": "python",
   "pygments_lexer": "ipython3",
   "version": "3.10.5 (tags/v3.10.5:f377153, Jun  6 2022, 16:14:13) [MSC v.1929 64 bit (AMD64)]"
  },
  "vscode": {
   "interpreter": {
    "hash": "369f2c481f4da34e4445cda3fffd2e751bd1c4d706f27375911949ba6bb62e1c"
   }
  }
 },
 "nbformat": 4,
 "nbformat_minor": 5
}
