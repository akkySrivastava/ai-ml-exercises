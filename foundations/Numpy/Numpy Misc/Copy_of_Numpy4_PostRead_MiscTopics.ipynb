{
  "nbformat": 4,
  "nbformat_minor": 0,
  "metadata": {
    "colab": {
      "provenance": []
    },
    "kernelspec": {
      "name": "python3",
      "display_name": "Python 3"
    },
    "language_info": {
      "name": "python"
    }
  },
  "cells": [
    {
      "cell_type": "markdown",
      "metadata": {
        "id": "eLZbcL_eVIsf"
      },
      "source": [
        "## Content\n",
        "\n",
        "- **Expanding Dimension**\n",
        "    - `None`\n",
        "\n",
        "- **Ravel**\n",
        "    - `ravel()`\n",
        "    "
      ]
    },
    {
      "cell_type": "code",
      "execution_count": null,
      "metadata": {
        "id": "fJ9-yprWVIsg"
      },
      "outputs": [],
      "source": [
        "import numpy as np"
      ]
    },
    {
      "cell_type": "markdown",
      "source": [
        "## Expanding Dimensions"
      ],
      "metadata": {
        "id": "xfpW1DyEODc1"
      }
    },
    {
      "cell_type": "markdown",
      "source": [
        "We can also use None instead of `np.newaxis` to expand dimension"
      ],
      "metadata": {
        "id": "L6fU7qImUhiy"
      }
    },
    {
      "cell_type": "code",
      "source": [
        "arr[:, None] # eqvivalent to arr[:, np.newaxis] or np.expand_dims(arr, axis =1)"
      ],
      "metadata": {
        "colab": {
          "base_uri": "https://localhost:8080/"
        },
        "id": "gR1QXu0ZUlcH",
        "outputId": "34757c99-b83f-47e9-ee88-e5d725f1aced"
      },
      "execution_count": null,
      "outputs": [
        {
          "output_type": "execute_result",
          "data": {
            "text/plain": [
              "array([[0],\n",
              "       [1],\n",
              "       [2],\n",
              "       [3],\n",
              "       [4],\n",
              "       [5]])"
            ]
          },
          "metadata": {},
          "execution_count": 48
        }
      ]
    },
    {
      "cell_type": "code",
      "source": [
        "arr[None, :] # eqvivalent to arr[np.newaxis, : ] or np.expand_dims(arr, axis =0)"
      ],
      "metadata": {
        "colab": {
          "base_uri": "https://localhost:8080/"
        },
        "id": "GI_41rG8UvzJ",
        "outputId": "56554792-9651-4d5c-f7d0-ef973faeb3dc"
      },
      "execution_count": null,
      "outputs": [
        {
          "output_type": "execute_result",
          "data": {
            "text/plain": [
              "array([[0, 1, 2, 3, 4, 5]])"
            ]
          },
          "metadata": {},
          "execution_count": 49
        }
      ]
    },
    {
      "cell_type": "markdown",
      "metadata": {
        "id": "KeIioOPXVIsh"
      },
      "source": [
        "### Ravel\n",
        "\n",
        "Do you remember flatten function? It is used to convert nD array to 1D array.\n",
        "\n",
        "\n",
        "\n",
        "#### Let's take our $3\\times4$ matrix `A` "
      ]
    },
    {
      "cell_type": "code",
      "execution_count": null,
      "metadata": {
        "scrolled": true,
        "id": "bdYg9NByVIsh",
        "outputId": "6d2f1810-c28d-4d20-d526-288daa029d70"
      },
      "outputs": [
        {
          "data": {
            "text/plain": [
              "array([[ 0,  1,  2,  3],\n",
              "       [ 4,  5,  6,  7],\n",
              "       [ 8,  9, 10, 11]])"
            ]
          },
          "execution_count": 2,
          "metadata": {},
          "output_type": "execute_result"
        }
      ],
      "source": [
        "A = np.arange(12).reshape(3, 4)\n",
        "A"
      ]
    },
    {
      "cell_type": "code",
      "execution_count": null,
      "metadata": {
        "id": "Vppy6KJkVIsi",
        "outputId": "f45080dd-60f5-41fe-fa61-4dddcfae0cf7"
      },
      "outputs": [
        {
          "data": {
            "text/plain": [
              "array([ 0,  1,  2,  3,  4,  5,  6,  7,  8,  9, 10, 11])"
            ]
          },
          "execution_count": 3,
          "metadata": {},
          "output_type": "execute_result"
        }
      ],
      "source": [
        "A.flatten() \n",
        "\n",
        "# Gives 1D vector"
      ]
    },
    {
      "cell_type": "markdown",
      "metadata": {
        "id": "EwELSLm_VIsj"
      },
      "source": [
        "#### There's another function which does the same job: `ravel()`"
      ]
    },
    {
      "cell_type": "code",
      "execution_count": null,
      "metadata": {
        "id": "mU-qOCJJVIsk",
        "outputId": "b6142968-074a-4f0c-f78c-84a0759ae9a0"
      },
      "outputs": [
        {
          "data": {
            "text/plain": [
              "array([ 0,  1,  2,  3,  4,  5,  6,  7,  8,  9, 10, 11])"
            ]
          },
          "execution_count": 4,
          "metadata": {},
          "output_type": "execute_result"
        }
      ],
      "source": [
        "A.ravel()"
      ]
    },
    {
      "cell_type": "markdown",
      "metadata": {
        "id": "2EzkjZyhVIsk"
      },
      "source": [
        "#### Why there are two functions for doing same thing ? \n",
        "\n",
        "**Flatten returns copy of the array whereas ravel returns view of the array** \n",
        "**It means if i ravel an array and modify the raveled array, it'll change the original array as well**"
      ]
    },
    {
      "cell_type": "code",
      "execution_count": null,
      "metadata": {
        "id": "tbpU5YAeVIsl",
        "outputId": "c92580d3-8394-4866-f066-7a9682fc7999"
      },
      "outputs": [
        {
          "data": {
            "text/plain": [
              "array([[ 0,  1,  2,  3],\n",
              "       [ 4,  5,  6,  7],\n",
              "       [ 8,  9, 10, 11]])"
            ]
          },
          "execution_count": 5,
          "metadata": {},
          "output_type": "execute_result"
        }
      ],
      "source": [
        "A = np.arange(12).reshape(3,4)\n",
        "A"
      ]
    },
    {
      "cell_type": "code",
      "execution_count": null,
      "metadata": {
        "id": "i8ls1SMDVIsl",
        "outputId": "ff220d83-caca-41a1-fe71-405b42870f70"
      },
      "outputs": [
        {
          "data": {
            "text/plain": [
              "array([ 0,  1,  2,  3,  4,  5,  6,  7,  8,  9, 10, 11])"
            ]
          },
          "execution_count": 6,
          "metadata": {},
          "output_type": "execute_result"
        }
      ],
      "source": [
        "B = A.flatten()\n",
        "B"
      ]
    },
    {
      "cell_type": "code",
      "execution_count": null,
      "metadata": {
        "id": "gopsKkX9VIsm",
        "outputId": "5b864d3a-da2a-45f0-85c7-5af1bba661bc"
      },
      "outputs": [
        {
          "data": {
            "text/plain": [
              "array([55,  1,  2,  3,  4,  5,  6,  7,  8,  9, 10, 11])"
            ]
          },
          "execution_count": 7,
          "metadata": {},
          "output_type": "execute_result"
        }
      ],
      "source": [
        "B[0] = 55\n",
        "B"
      ]
    },
    {
      "cell_type": "code",
      "execution_count": null,
      "metadata": {
        "id": "RDMrdn7EVIsm",
        "outputId": "c5386e4a-69b6-4a97-997c-a03e2da358ce"
      },
      "outputs": [
        {
          "data": {
            "text/plain": [
              "array([[ 0,  1,  2,  3],\n",
              "       [ 4,  5,  6,  7],\n",
              "       [ 8,  9, 10, 11]])"
            ]
          },
          "execution_count": 8,
          "metadata": {},
          "output_type": "execute_result"
        }
      ],
      "source": [
        "A"
      ]
    },
    {
      "cell_type": "code",
      "execution_count": null,
      "metadata": {
        "id": "K90hHHafVIsn",
        "outputId": "516ed08b-80a8-42d4-dde5-28efeed88b4d"
      },
      "outputs": [
        {
          "data": {
            "text/plain": [
              "array([ 0,  1,  2,  3,  4,  5,  6,  7,  8,  9, 10, 11])"
            ]
          },
          "execution_count": 9,
          "metadata": {},
          "output_type": "execute_result"
        }
      ],
      "source": [
        "C = A.ravel()\n",
        "C"
      ]
    },
    {
      "cell_type": "code",
      "execution_count": null,
      "metadata": {
        "id": "iZVKo55XVIsn",
        "outputId": "6cbd4c96-f8b5-4167-efdc-dd09581394c7"
      },
      "outputs": [
        {
          "data": {
            "text/plain": [
              "array([55,  1,  2,  3,  4,  5,  6,  7,  8,  9, 10, 11])"
            ]
          },
          "execution_count": 10,
          "metadata": {},
          "output_type": "execute_result"
        }
      ],
      "source": [
        "C[0] = 55\n",
        "C"
      ]
    },
    {
      "cell_type": "code",
      "execution_count": null,
      "metadata": {
        "id": "3GgK8PqKVIsn",
        "outputId": "f0543397-b559-4827-a40c-cfbe4ef19aa9"
      },
      "outputs": [
        {
          "data": {
            "text/plain": [
              "array([[55,  1,  2,  3],\n",
              "       [ 4,  5,  6,  7],\n",
              "       [ 8,  9, 10, 11]])"
            ]
          },
          "execution_count": 11,
          "metadata": {},
          "output_type": "execute_result"
        }
      ],
      "source": [
        "A"
      ]
    },
    {
      "cell_type": "markdown",
      "metadata": {
        "id": "Ph3zqSiGVIso"
      },
      "source": [
        "Notice how values of A changed when we changed C array."
      ]
    }
  ]
}