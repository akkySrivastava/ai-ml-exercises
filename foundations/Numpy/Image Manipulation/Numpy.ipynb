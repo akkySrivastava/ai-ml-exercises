{
 "cells": [
  {
   "cell_type": "code",
   "execution_count": 1,
   "id": "d0167fd9",
   "metadata": {},
   "outputs": [],
   "source": [
    "import numpy as np"
   ]
  },
  {
   "cell_type": "markdown",
   "id": "6892b929",
   "metadata": {},
   "source": [
    "## Given two 2D arrays, row and column ranges,\n",
    "\n",
    "- Perform the following operations:\n",
    "\n",
    "Find the matrix multiplication of the given two matrices and\n",
    "Extract the elements from the output of above step using the given ranges\n",
    "If matrix multiplication is not possible, return -1\n",
    "Note: The end points (upper range) of both rows and columns are excluded.\n",
    "\n",
    "Input Format:\n",
    "\n",
    "There will be four lines of input as follows:  \n",
    "First line will have mat1.  \n",
    "Second line will have mat2.  \n",
    "Third line will have two space-separated integers representing start and end point of rows.  \n",
    "Fourth line will have two space-separated integers representing start and end point of columns.\n",
    "Output Format:\n",
    "\n",
    "A Numpy array\n",
    "Sample Input:\n",
    "\n",
    "[[6 6 4 7 9]  \n",
    " [0 2 2 9 3]  \n",
    " [6 0 2 5 2]  \n",
    " [2 4 3 5 5]]  \n",
    "[[8 6 6 8 3]  \n",
    " [2 7 0 3 1]  \n",
    " [3 2 1 5 2]  \n",
    " [7 0 7 6 8]  \n",
    " [1 5 6 4 5]]  \n",
    "1 3  \n",
    "2 4\n",
    "Sample Output:\n",
    "\n",
    "[[83 82]  \n",
    " [85 96]]\n",
    "Sample explanation:\n",
    "\n",
    "The dimension of product is (5,5), and the elements for rows 1 to 4 and columns 2 to 4 are prd[1][2], prd[1][3], prd[2][2] and prd[2][3] i.e. 83, 82, 85 and 96."
   ]
  },
  {
   "cell_type": "code",
   "execution_count": 22,
   "id": "7df67e52",
   "metadata": {},
   "outputs": [],
   "source": [
    "def specific_elements(mat1,mat2,r1,r2,c1,c2):\n",
    "    '''mat1,mat2 are the two 2d numpy array.\n",
    "       r1,r2 are the start and end of rows indices\n",
    "       c1,c2 are the start and end of columns indices\n",
    "       Output = Return a numpy array according to indices'''\n",
    "    \n",
    "    # STEP1 CHECK whether matrix multiplication is possible\n",
    "    if(mat1.shape[1] == mat2.shape[0]):\n",
    "        print('Mutliplication is possible')\n",
    "    else:\n",
    "        return\n",
    "    \n",
    "    ## STEP 2 Perform matrix multiplication\n",
    "    \n",
    "    matmul_array = mat1 @ mat2\n",
    "    \n",
    "    ## STEP 3 slice the array based on range value\n",
    "    \n",
    "    result = matmul_array[r1:r2, c1:c2]\n",
    "    \n",
    "    return result"
   ]
  },
  {
   "cell_type": "code",
   "execution_count": 23,
   "id": "ede9b0b8",
   "metadata": {},
   "outputs": [
    {
     "name": "stdout",
     "output_type": "stream",
     "text": [
      "Mutliplication is possible\n"
     ]
    },
    {
     "data": {
      "text/plain": [
       "array([[83, 82],\n",
       "       [85, 96]])"
      ]
     },
     "execution_count": 23,
     "metadata": {},
     "output_type": "execute_result"
    }
   ],
   "source": [
    "mat1 = np.array([\n",
    "                     [6, 6, 4, 7, 9],\n",
    "                     [0, 2, 2, 9, 3], \n",
    "                     [6, 0, 2, 5, 2], \n",
    "                     [2, 4, 3, 5, 5]\n",
    "                ])\n",
    "\n",
    "mat2 = np.array([\n",
    "                    [8, 6, 6, 8, 3],\n",
    "                    [2, 7, 0, 3, 1],  \n",
    "                    [3, 2, 1, 5, 2],  \n",
    "                    [7, 0, 7, 6, 8],  \n",
    "                    [1, 5, 6, 4, 5]\n",
    "                ])\n",
    "\n",
    "r1 = 1\n",
    "r2 = 3\n",
    "c1 = 2\n",
    "c2 = 4\n",
    "\n",
    "specific_elements(mat1, mat2, r1, r2, c1, c2)"
   ]
  },
  {
   "cell_type": "code",
   "execution_count": 8,
   "id": "6bdb696d",
   "metadata": {},
   "outputs": [
    {
     "data": {
      "text/plain": [
       "(4, 5)"
      ]
     },
     "execution_count": 8,
     "metadata": {},
     "output_type": "execute_result"
    }
   ],
   "source": [
    "mat1.shape"
   ]
  },
  {
   "cell_type": "code",
   "execution_count": 9,
   "id": "adc8bf15",
   "metadata": {},
   "outputs": [
    {
     "data": {
      "text/plain": [
       "(5, 5)"
      ]
     },
     "execution_count": 9,
     "metadata": {},
     "output_type": "execute_result"
    }
   ],
   "source": [
    "mat2.shape"
   ]
  },
  {
   "cell_type": "code",
   "execution_count": 10,
   "id": "b4bb5db3",
   "metadata": {},
   "outputs": [
    {
     "data": {
      "text/plain": [
       "array([[130, 131, 143, 164, 133],\n",
       "       [ 76,  33,  83,  82,  93],\n",
       "       [ 91,  50,  85,  96,  72],\n",
       "       [ 73,  71,  80,  93,  81]])"
      ]
     },
     "execution_count": 10,
     "metadata": {},
     "output_type": "execute_result"
    }
   ],
   "source": [
    "mat1 @ mat2"
   ]
  },
  {
   "cell_type": "markdown",
   "id": "39046232",
   "metadata": {},
   "source": [
    "## Other ways of matrix multiplication"
   ]
  },
  {
   "cell_type": "code",
   "execution_count": 24,
   "id": "048c5e77",
   "metadata": {},
   "outputs": [
    {
     "data": {
      "text/plain": [
       "46"
      ]
     },
     "execution_count": 24,
     "metadata": {},
     "output_type": "execute_result"
    }
   ],
   "source": [
    "arr1 = np.array([1,2,3])\n",
    "arr2 = np.array([9,8,7])\n",
    "np.dot(arr1, arr2)"
   ]
  },
  {
   "cell_type": "code",
   "execution_count": 25,
   "id": "d6d008a2",
   "metadata": {},
   "outputs": [
    {
     "data": {
      "text/plain": [
       "array([[ 5],\n",
       "       [11]])"
      ]
     },
     "execution_count": 25,
     "metadata": {},
     "output_type": "execute_result"
    }
   ],
   "source": [
    "arr1 = np.array([[1,2], [3,4]])\n",
    "arr2 = np.array([[1], [2]])\n",
    "np.dot(arr1, arr2)"
   ]
  },
  {
   "cell_type": "code",
   "execution_count": 26,
   "id": "09cec52d",
   "metadata": {},
   "outputs": [
    {
     "data": {
      "text/plain": [
       "array([3, 6, 9])"
      ]
     },
     "execution_count": 26,
     "metadata": {},
     "output_type": "execute_result"
    }
   ],
   "source": [
    "arr1 = np.array([1,2,3])\n",
    "k = 3\n",
    "np.dot(arr1, k)"
   ]
  },
  {
   "cell_type": "code",
   "execution_count": 27,
   "id": "6903bf00",
   "metadata": {},
   "outputs": [
    {
     "data": {
      "text/plain": [
       "array([3, 7])"
      ]
     },
     "execution_count": 27,
     "metadata": {},
     "output_type": "execute_result"
    }
   ],
   "source": [
    "arr1 = np.array([[1,2], [3,4]])\n",
    "arr2 = np.array([1,1])\n",
    "np.dot(arr1, arr2)"
   ]
  },
  {
   "cell_type": "code",
   "execution_count": null,
   "id": "842c94a8",
   "metadata": {},
   "outputs": [],
   "source": []
  }
 ],
 "metadata": {
  "kernelspec": {
   "display_name": "Python 3 (ipykernel)",
   "language": "python",
   "name": "python3"
  },
  "language_info": {
   "codemirror_mode": {
    "name": "ipython",
    "version": 3
   },
   "file_extension": ".py",
   "mimetype": "text/x-python",
   "name": "python",
   "nbconvert_exporter": "python",
   "pygments_lexer": "ipython3",
   "version": "3.9.12"
  }
 },
 "nbformat": 4,
 "nbformat_minor": 5
}
