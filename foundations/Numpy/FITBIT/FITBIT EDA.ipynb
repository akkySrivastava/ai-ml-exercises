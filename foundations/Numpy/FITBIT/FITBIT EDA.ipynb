{
 "cells": [
  {
   "cell_type": "markdown",
   "id": "73dbeee6",
   "metadata": {},
   "source": [
    "## Use Case: Fitbit\n",
    "\n",
    "### Imagine you are a Data Scientist at Fitbit\n",
    "\n",
    "You've been given a user data to analyse and find some insights which can be shown on the smart watch.\n",
    "\n",
    "#### But why would we want to analyse the user data for desiging the watch?\n",
    "\n",
    "These insights from the user data can help business make customer oriented decision for the product design.\n",
    "\n",
    "\n",
    "\n",
    "#### Lets first look at the data we have gathered\n",
    "\n",
    "Link: https://drive.google.com/file/d/1Uxwd4H-tfM64giRS1VExMpQXKtBBtuP0/view?usp=sharing\n",
    "\n",
    "<img src='https://drive.google.com/uc?id=1Uxwd4H-tfM64giRS1VExMpQXKtBBtuP0'>\n"
   ]
  },
  {
   "cell_type": "markdown",
   "id": "3d67c8db",
   "metadata": {},
   "source": [
    "#### Notice that there are some user features in the data\n",
    "\n",
    "There are provided as various columns in the data.\n",
    "\n",
    "#### Every row is called a record or data point\n",
    "\n",
    "\n",
    "#### What are all the features provided to us? \n",
    "\n",
    "- Date\n",
    "- Step Count\n",
    "- Mood (Categorical)\n",
    "- Calories Burned\n",
    "- Hours of sleep\n",
    "- Feeling Active (Categorical)\n",
    "\n",
    "\n",
    "**Using NumPy, we will explore this data to look for some interesting insights - Exploratory Data Analysis.**\n",
    "\n",
    "#### EDA is all about asking the right questions\n",
    "\n",
    "#### What kind of questions can we answer using this data?\n",
    "\n",
    "- How many records and features are there in the dataset?\n",
    "- What is the **average step count**?\n",
    "- On which day the **step count was highest/lowest?** \n",
    "\n",
    "\n",
    "#### Can we find some deeper insights?\n",
    "\n",
    "We can probably see how daily activity affects sleep and moood.\n",
    "\n",
    "We will try finding \n",
    "- How daily activity affects mood? "
   ]
  },
  {
   "cell_type": "code",
   "execution_count": 1,
   "id": "76334ca2",
   "metadata": {},
   "outputs": [],
   "source": [
    "import numpy as np"
   ]
  },
  {
   "cell_type": "code",
   "execution_count": 2,
   "id": "45ee759a",
   "metadata": {},
   "outputs": [],
   "source": [
    "fitbit = np.loadtxt('fit.txt', dtype='str')"
   ]
  },
  {
   "cell_type": "code",
   "execution_count": 3,
   "id": "87ec35c6",
   "metadata": {},
   "outputs": [
    {
     "data": {
      "text/plain": [
       "(96, 6)"
      ]
     },
     "execution_count": 3,
     "metadata": {},
     "output_type": "execute_result"
    }
   ],
   "source": [
    "fitbit.shape"
   ]
  },
  {
   "cell_type": "code",
   "execution_count": 4,
   "id": "c5a6d780",
   "metadata": {},
   "outputs": [
    {
     "data": {
      "text/plain": [
       "2"
      ]
     },
     "execution_count": 4,
     "metadata": {},
     "output_type": "execute_result"
    }
   ],
   "source": [
    "fitbit.ndim"
   ]
  },
  {
   "cell_type": "code",
   "execution_count": 5,
   "id": "d9f2f4be",
   "metadata": {},
   "outputs": [
    {
     "data": {
      "text/plain": [
       "array([['06-10-2017', '5464', 'Neutral', '181', '5', 'Inactive'],\n",
       "       ['07-10-2017', '6041', 'Sad', '197', '8', 'Inactive'],\n",
       "       ['08-10-2017', '25', 'Sad', '0', '5', 'Inactive'],\n",
       "       ['09-10-2017', '5461', 'Sad', '174', '4', 'Inactive'],\n",
       "       ['10-10-2017', '6915', 'Neutral', '223', '5', 'Active']],\n",
       "      dtype='<U10')"
      ]
     },
     "execution_count": 5,
     "metadata": {},
     "output_type": "execute_result"
    }
   ],
   "source": [
    "fitbit[:5]"
   ]
  },
  {
   "cell_type": "markdown",
   "id": "40f248aa",
   "metadata": {},
   "source": [
    "There are 96 records and each record has 6 features.\n",
    "These features are:\n",
    "- Date\n",
    "- Step count\n",
    "- Mood\n",
    "- Calories Burned\n",
    "- Hours of sleep\n",
    "- activity status"
   ]
  },
  {
   "cell_type": "markdown",
   "id": "8a01a64a",
   "metadata": {},
   "source": [
    "#### Notice that above array is a homogenous containing all the data as strings\n",
    "\n",
    "In order to work with strings, categorical data and numerical data, we will have save every feature seperately\n",
    "\n",
    "#### How will we extract features in seperate variables?\n",
    "\n",
    "We can get some idea on how data is saved.\n",
    "\n",
    "Lets see whats the first element of `data`"
   ]
  },
  {
   "cell_type": "code",
   "execution_count": 6,
   "id": "8a505ff1",
   "metadata": {},
   "outputs": [
    {
     "data": {
      "text/plain": [
       "array(['06-10-2017', '5464', 'Neutral', '181', '5', 'Inactive'],\n",
       "      dtype='<U10')"
      ]
     },
     "execution_count": 6,
     "metadata": {},
     "output_type": "execute_result"
    }
   ],
   "source": [
    "fitbit[0]"
   ]
  },
  {
   "cell_type": "markdown",
   "id": "93b92dc7",
   "metadata": {},
   "source": [
    "Hm, this extracts a row not a column\n",
    "\n",
    "Think about it.\n",
    "\n",
    "#### Whats the way to change columns to rows and rows to columns?\n",
    "\n",
    "Transpose"
   ]
  },
  {
   "cell_type": "code",
   "execution_count": 8,
   "id": "27681886",
   "metadata": {},
   "outputs": [
    {
     "data": {
      "text/plain": [
       "array(['06-10-2017', '07-10-2017', '08-10-2017', '09-10-2017',\n",
       "       '10-10-2017', '11-10-2017', '12-10-2017', '13-10-2017',\n",
       "       '14-10-2017', '15-10-2017', '16-10-2017', '17-10-2017',\n",
       "       '18-10-2017', '19-10-2017', '20-10-2017', '21-10-2017',\n",
       "       '22-10-2017', '23-10-2017', '24-10-2017', '25-10-2017',\n",
       "       '26-10-2017', '27-10-2017', '28-10-2017', '29-10-2017',\n",
       "       '30-10-2017', '31-10-2017', '01-11-2017', '02-11-2017',\n",
       "       '03-11-2017', '04-11-2017', '05-11-2017', '06-11-2017',\n",
       "       '07-11-2017', '08-11-2017', '09-11-2017', '10-11-2017',\n",
       "       '11-11-2017', '12-11-2017', '13-11-2017', '14-11-2017',\n",
       "       '15-11-2017', '16-11-2017', '17-11-2017', '18-11-2017',\n",
       "       '19-11-2017', '20-11-2017', '21-11-2017', '22-11-2017',\n",
       "       '23-11-2017', '24-11-2017', '25-11-2017', '26-11-2017',\n",
       "       '27-11-2017', '28-11-2017', '29-11-2017', '30-11-2017',\n",
       "       '01-12-2017', '02-12-2017', '03-12-2017', '04-12-2017',\n",
       "       '05-12-2017', '06-12-2017', '07-12-2017', '08-12-2017',\n",
       "       '09-12-2017', '10-12-2017', '11-12-2017', '12-12-2017',\n",
       "       '13-12-2017', '14-12-2017', '15-12-2017', '16-12-2017',\n",
       "       '17-12-2017', '18-12-2017', '19-12-2017', '20-12-2017',\n",
       "       '21-12-2017', '22-12-2017', '23-12-2017', '24-12-2017',\n",
       "       '25-12-2017', '26-12-2017', '27-12-2017', '28-12-2017',\n",
       "       '29-12-2017', '30-12-2017', '31-12-2017', '01-01-2018',\n",
       "       '02-01-2018', '03-01-2018', '04-01-2018', '05-01-2018',\n",
       "       '06-01-2018', '07-01-2018', '08-01-2018', '09-01-2018'],\n",
       "      dtype='<U10')"
      ]
     },
     "execution_count": 8,
     "metadata": {},
     "output_type": "execute_result"
    }
   ],
   "source": [
    "date = fitbit.T[0]\n",
    "date"
   ]
  },
  {
   "cell_type": "code",
   "execution_count": 9,
   "id": "7835dea6",
   "metadata": {},
   "outputs": [],
   "source": [
    "date, step_count, mood, calories_burned, hours_sleep, activity = fitbit.T"
   ]
  },
  {
   "cell_type": "code",
   "execution_count": 11,
   "id": "f74a6ea5",
   "metadata": {},
   "outputs": [
    {
     "data": {
      "text/plain": [
       "array(['06-10-2017', '07-10-2017', '08-10-2017', '09-10-2017',\n",
       "       '10-10-2017'], dtype='<U10')"
      ]
     },
     "execution_count": 11,
     "metadata": {},
     "output_type": "execute_result"
    }
   ],
   "source": [
    "date[:5]"
   ]
  },
  {
   "cell_type": "code",
   "execution_count": 12,
   "id": "60deca4f",
   "metadata": {},
   "outputs": [
    {
     "data": {
      "text/plain": [
       "array(['5464', '6041', '25', '5461', '6915'], dtype='<U10')"
      ]
     },
     "execution_count": 12,
     "metadata": {},
     "output_type": "execute_result"
    }
   ],
   "source": [
    "step_count[:5]"
   ]
  },
  {
   "cell_type": "code",
   "execution_count": 13,
   "id": "4e6fbf95",
   "metadata": {},
   "outputs": [
    {
     "data": {
      "text/plain": [
       "array(['Neutral', 'Sad', 'Sad', 'Sad', 'Neutral'], dtype='<U10')"
      ]
     },
     "execution_count": 13,
     "metadata": {},
     "output_type": "execute_result"
    }
   ],
   "source": [
    "mood[:5]"
   ]
  },
  {
   "cell_type": "code",
   "execution_count": 14,
   "id": "c8d6152c",
   "metadata": {},
   "outputs": [
    {
     "data": {
      "text/plain": [
       "dtype('<U10')"
      ]
     },
     "execution_count": 14,
     "metadata": {},
     "output_type": "execute_result"
    }
   ],
   "source": [
    "# Lets check the datatype\n",
    "\n",
    "step_count.dtype"
   ]
  },
  {
   "cell_type": "code",
   "execution_count": 16,
   "id": "4bfbc373",
   "metadata": {},
   "outputs": [
    {
     "data": {
      "text/plain": [
       "array([5464, 6041,   25, 5461, 6915, 4545, 4340, 1230,   61, 1258, 3148,\n",
       "       4687, 4732, 3519, 1580, 2822,  181, 3158, 4383, 3881, 4037,  202,\n",
       "        292,  330, 2209, 4550, 4435, 4779, 1831, 2255,  539, 5464, 6041,\n",
       "       4068, 4683, 4033, 6314,  614, 3149, 4005, 4880, 4136,  705,  570,\n",
       "        269, 4275, 5999, 4421, 6930, 5195,  546,  493,  995, 1163, 6676,\n",
       "       3608,  774, 1421, 4064, 2725, 5934, 1867, 3721, 2374, 2909, 1648,\n",
       "        799, 7102, 3941, 7422,  437, 1231, 1696, 4921,  221, 6500, 3575,\n",
       "       4061,  651,  753,  518, 5537, 4108, 5376, 3066,  177,   36,  299,\n",
       "       1447, 2599,  702,  133,  153,  500, 2127, 2203])"
      ]
     },
     "execution_count": 16,
     "metadata": {},
     "output_type": "execute_result"
    }
   ],
   "source": [
    "step_count = np.array(step_count, int)\n",
    "\n",
    "step_count"
   ]
  },
  {
   "cell_type": "code",
   "execution_count": 17,
   "id": "5d16fca2",
   "metadata": {},
   "outputs": [
    {
     "data": {
      "text/plain": [
       "dtype('<U10')"
      ]
     },
     "execution_count": 17,
     "metadata": {},
     "output_type": "execute_result"
    }
   ],
   "source": [
    "mood.dtype"
   ]
  },
  {
   "cell_type": "code",
   "execution_count": 19,
   "id": "12abf02e",
   "metadata": {},
   "outputs": [
    {
     "data": {
      "text/plain": [
       "(array(['Happy', 'Neutral', 'Sad'], dtype='<U10'),\n",
       " array([40, 27, 29], dtype=int64))"
      ]
     },
     "execution_count": 19,
     "metadata": {},
     "output_type": "execute_result"
    }
   ],
   "source": [
    "np.unique(mood, return_counts=True)"
   ]
  },
  {
   "cell_type": "code",
   "execution_count": 22,
   "id": "aed5eef1",
   "metadata": {},
   "outputs": [
    {
     "data": {
      "text/plain": [
       "array([181, 197,   0, 174, 223, 149, 140,  38,   1,  40, 101, 152, 150,\n",
       "       113,  49,  86,   6,  99, 143, 125, 129,   6,   9,  10,  72, 150,\n",
       "       141, 156,  57,  72,  17, 181, 197, 131, 154, 137, 193,  19, 101,\n",
       "       139, 164, 137,  22,  17,   9, 145, 192, 146, 234, 167,  16,  17,\n",
       "        32,  35, 220, 116,  23,  44, 131,  86, 194,  60, 121,  76,  93,\n",
       "        53,  25, 227, 125, 243,  14,  39,  55, 158,   7, 213, 116, 129,\n",
       "        21,  28,  16, 180, 138, 176,  99,   5,   1,  10,  47,  84,  23,\n",
       "         4,   0,   0,   0,   0])"
      ]
     },
     "execution_count": 22,
     "metadata": {},
     "output_type": "execute_result"
    }
   ],
   "source": [
    "calories_burned.dtype\n",
    "\n",
    "calories_burned = np.array(calories_burned, int)\n",
    "calories_burned"
   ]
  },
  {
   "cell_type": "code",
   "execution_count": 23,
   "id": "769123a7",
   "metadata": {},
   "outputs": [
    {
     "data": {
      "text/plain": [
       "array([5, 8, 5, 4, 5, 6, 6, 7, 5, 6, 8, 5, 6, 7, 5, 6, 8, 5, 4, 5, 6, 8,\n",
       "       5, 6, 5, 8, 5, 4, 5, 4, 5, 4, 3, 2, 9, 5, 6, 4, 5, 8, 4, 5, 6, 5,\n",
       "       6, 5, 6, 5, 6, 5, 6, 7, 6, 7, 6, 5, 6, 7, 8, 8, 7, 8, 5, 4, 3, 3,\n",
       "       4, 5, 5, 5, 3, 4, 4, 5, 5, 5, 5, 5, 5, 4, 3, 4, 5, 5, 4, 5, 3, 3,\n",
       "       3, 2, 3, 2, 8, 5, 5, 5])"
      ]
     },
     "execution_count": 23,
     "metadata": {},
     "output_type": "execute_result"
    }
   ],
   "source": [
    "hours_sleep = np.array(hours_sleep, int)\n",
    "hours_sleep"
   ]
  },
  {
   "cell_type": "markdown",
   "id": "b56b274d",
   "metadata": {},
   "source": [
    "### Let's try to get some insights from the data.\n"
   ]
  },
  {
   "cell_type": "markdown",
   "id": "2eda729e",
   "metadata": {},
   "source": [
    "#### What's the average step count? \n",
    "\n",
    "How can we calculate average? => `.mean()`"
   ]
  },
  {
   "cell_type": "code",
   "execution_count": 24,
   "id": "7b40663b",
   "metadata": {},
   "outputs": [
    {
     "data": {
      "text/plain": [
       "2935.9375"
      ]
     },
     "execution_count": 24,
     "metadata": {},
     "output_type": "execute_result"
    }
   ],
   "source": [
    "step_count.mean()"
   ]
  },
  {
   "cell_type": "markdown",
   "id": "33c56964",
   "metadata": {},
   "source": [
    "#### Average step count for user is `2935.9375`"
   ]
  },
  {
   "cell_type": "markdown",
   "id": "46d5130a",
   "metadata": {},
   "source": [
    "#### On which day the step count was highest?\n",
    "\n",
    "How will be find it? \n",
    "\n",
    "First we find the index of maximum step count and use that index to get the date.\n",
    "\n",
    "How'll we find the index? =>  \n",
    "\n",
    "Numpy provides a function `np.argmax()` which returns the index of maximum value element.\n",
    "\n",
    "Similarly, we have a function `np.argmin()` which returns the index of minimum element."
   ]
  },
  {
   "cell_type": "code",
   "execution_count": 25,
   "id": "e4145c60",
   "metadata": {},
   "outputs": [
    {
     "data": {
      "text/plain": [
       "'14-12-2017'"
      ]
     },
     "execution_count": 25,
     "metadata": {},
     "output_type": "execute_result"
    }
   ],
   "source": [
    "date[step_count.argmax()]"
   ]
  },
  {
   "cell_type": "markdown",
   "id": "ff514247",
   "metadata": {},
   "source": [
    "###### Let's check the calorie burnt on the day"
   ]
  },
  {
   "cell_type": "code",
   "execution_count": 27,
   "id": "62cb87c6",
   "metadata": {},
   "outputs": [
    {
     "data": {
      "text/plain": [
       "243"
      ]
     },
     "execution_count": 27,
     "metadata": {},
     "output_type": "execute_result"
    }
   ],
   "source": [
    "calories_burned[step_count.argmax()]"
   ]
  },
  {
   "cell_type": "markdown",
   "id": "a25d0cc5",
   "metadata": {},
   "source": [
    "#### Steps count on that particular day"
   ]
  },
  {
   "cell_type": "code",
   "execution_count": 28,
   "id": "054c42c1",
   "metadata": {},
   "outputs": [
    {
     "data": {
      "text/plain": [
       "7422"
      ]
     },
     "execution_count": 28,
     "metadata": {},
     "output_type": "execute_result"
    }
   ],
   "source": [
    "step_count.max()"
   ]
  },
  {
   "cell_type": "markdown",
   "id": "22d151bc",
   "metadata": {},
   "source": [
    "#### Let's try to compare step counts on bad mood days and good mood days\n"
   ]
  },
  {
   "cell_type": "code",
   "execution_count": 33,
   "id": "4732ade0",
   "metadata": {},
   "outputs": [
    {
     "data": {
      "text/plain": [
       "(2103.0689655172414, 3392.725, 2021.2355035376254, 2088.4016254961593)"
      ]
     },
     "execution_count": 33,
     "metadata": {},
     "output_type": "execute_result"
    }
   ],
   "source": [
    "mean_sad = np.mean(step_count[mood == 'Sad'])\n",
    "mean_happy = np.mean(step_count[mood == 'Happy'])\n",
    "std_sad = np.std(step_count[mood == 'Sad'])\n",
    "std_happy = np.std(step_count[mood == 'Happy'])\n",
    "\n",
    "mean_sad, mean_happy, std_sad, std_happy"
   ]
  },
  {
   "cell_type": "markdown",
   "id": "e4e9ebcf",
   "metadata": {},
   "source": [
    "#### Let's try to check inverse. Mood when step count was greater/lesser"
   ]
  },
  {
   "cell_type": "code",
   "execution_count": 35,
   "id": "1227deb6",
   "metadata": {},
   "outputs": [
    {
     "data": {
      "text/plain": [
       "(array(['Happy', 'Neutral', 'Sad'], dtype='<U10'),\n",
       " array([22,  9,  7], dtype=int64))"
      ]
     },
     "execution_count": 35,
     "metadata": {},
     "output_type": "execute_result"
    }
   ],
   "source": [
    "# When step_count > 4000\n",
    "\n",
    "np.unique(mood[step_count > 4000], return_counts = True)"
   ]
  },
  {
   "cell_type": "markdown",
   "id": "68e4efaa",
   "metadata": {},
   "source": [
    "#### On `4000` or more step counts, Mostly mood is happy"
   ]
  },
  {
   "cell_type": "code",
   "execution_count": 36,
   "id": "2bda3bc5",
   "metadata": {},
   "outputs": [
    {
     "data": {
      "text/plain": [
       "(array(['Happy', 'Neutral', 'Sad'], dtype='<U10'),\n",
       " array([13,  8, 18], dtype=int64))"
      ]
     },
     "execution_count": 36,
     "metadata": {},
     "output_type": "execute_result"
    }
   ],
   "source": [
    "# when step_count < 2000\n",
    "\n",
    "np.unique(mood[step_count < 2000], return_counts = True)"
   ]
  },
  {
   "cell_type": "markdown",
   "id": "2cffad7b",
   "metadata": {},
   "source": [
    "#### As we can see on fewer step count `<2000` mood is sad on most number of days"
   ]
  },
  {
   "cell_type": "markdown",
   "id": "a89b8c89",
   "metadata": {},
   "source": [
    "# Conclusion"
   ]
  },
  {
   "cell_type": "markdown",
   "id": "7f29cf91",
   "metadata": {},
   "source": [
    "## There may be a correlation between Mood and step count**"
   ]
  },
  {
   "cell_type": "code",
   "execution_count": null,
   "id": "a8c9d2a7",
   "metadata": {},
   "outputs": [],
   "source": []
  }
 ],
 "metadata": {
  "kernelspec": {
   "display_name": "Python 3 (ipykernel)",
   "language": "python",
   "name": "python3"
  },
  "language_info": {
   "codemirror_mode": {
    "name": "ipython",
    "version": 3
   },
   "file_extension": ".py",
   "mimetype": "text/x-python",
   "name": "python",
   "nbconvert_exporter": "python",
   "pygments_lexer": "ipython3",
   "version": "3.9.12"
  },
  "vscode": {
   "interpreter": {
    "hash": "369f2c481f4da34e4445cda3fffd2e751bd1c4d706f27375911949ba6bb62e1c"
   }
  }
 },
 "nbformat": 4,
 "nbformat_minor": 5
}
