{
  "nbformat": 4,
  "nbformat_minor": 0,
  "metadata": {
    "colab": {
      "provenance": []
    },
    "kernelspec": {
      "name": "python3",
      "display_name": "Python 3"
    },
    "language_info": {
      "name": "python"
    }
  },
  "cells": [
    {
      "cell_type": "markdown",
      "source": [
        "Let's use the code to create X and Y as we did in last lecture"
      ],
      "metadata": {
        "id": "rfjmuUg-jvL4"
      }
    },
    {
      "cell_type": "code",
      "source": [
        "import numpy as np\n",
        "import matplotlib.pyplot as plt"
      ],
      "metadata": {
        "id": "d0ElToyxjvL4"
      },
      "execution_count": 3,
      "outputs": []
    },
    {
      "cell_type": "code",
      "source": [
        "# lets generate a dataset of 100 points\n",
        "np.random.seed(2)\n",
        "X = np.random.rand(1000,1)\n",
        "y = 0.7*(X**5) - \\\n",
        "    2.1*(X**4) + \\\n",
        "    2.3*(X**3) + \\\n",
        "    0.2*(X**2) + \\\n",
        "    0.3* X + \\\n",
        "    0.4*np.random.rand(1000,1)\n"
      ],
      "metadata": {
        "id": "XEraxP1UjvL5"
      },
      "execution_count": 4,
      "outputs": []
    },
    {
      "cell_type": "markdown",
      "source": [
        "Now we divide our data into train and test"
      ],
      "metadata": {
        "id": "yN8jbM0jjvL5"
      }
    },
    {
      "cell_type": "code",
      "source": [
        "#0.8, 0.2 split\n",
        "from sklearn.model_selection import train_test_split\n",
        "X_train, X_test, y_train, y_test = train_test_split(X, y, test_size=0.2, random_state=1)"
      ],
      "metadata": {
        "id": "pgACRlsujvL5"
      },
      "execution_count": 5,
      "outputs": []
    },
    {
      "cell_type": "code",
      "source": [
        "X_train.shape, X_test.shape"
      ],
      "metadata": {
        "colab": {
          "base_uri": "https://localhost:8080/"
        },
        "id": "H5dce_Iodc4U",
        "outputId": "9bd5c630-043e-4cdb-82ac-4973b603a21c"
      },
      "execution_count": 6,
      "outputs": [
        {
          "output_type": "execute_result",
          "data": {
            "text/plain": [
              "((800, 1), (200, 1))"
            ]
          },
          "metadata": {},
          "execution_count": 6
        }
      ]
    },
    {
      "cell_type": "markdown",
      "source": [
        "If you remember, we had already seen how to find the optimal value of degree for polynomial regression in the last lecture\n",
        "\n",
        "Let's use L2/Ridge regression model to tune our hyperparameters-degree and regularization rate"
      ],
      "metadata": {
        "id": "AoS-fo_GcLcV"
      }
    },
    {
      "cell_type": "code",
      "source": [
        "from sklearn.preprocessing import PolynomialFeatures\n",
        "from sklearn.preprocessing import StandardScaler\n",
        "from sklearn.linear_model import Ridge\n",
        "from sklearn.pipeline import make_pipeline"
      ],
      "metadata": {
        "id": "URl0mtAicIc_"
      },
      "execution_count": 7,
      "outputs": []
    },
    {
      "cell_type": "code",
      "source": [
        "# Defining our performance metric\n",
        "def adj_r2(X, y, r2_score):\n",
        "  return 1 - ((1-r2_score)*(len(y)-1))/(len(y)-X.shape[1]-1)"
      ],
      "metadata": {
        "id": "202DaKr7c5u1"
      },
      "execution_count": 8,
      "outputs": []
    },
    {
      "cell_type": "code",
      "source": [
        "# Same as last lecture\n",
        "max_degree = 25 # max polynomial degree\n",
        "train_scores = []\n",
        "test_scores = []\n",
        "scaler = StandardScaler()\n",
        "for degree in range(1, max_degree):\n",
        "  polyreg_scaled = make_pipeline(PolynomialFeatures(degree), scaler, Ridge())\n",
        "  polyreg_scaled.fit(X_train, y_train)\n",
        "  train_score = adj_r2(X_train, y_train, polyreg_scaled.score(X_train, y_train))\n",
        "  test_score= adj_r2(X_test, y_test, polyreg_scaled.score(X_test, y_test))\n",
        "  train_scores.append(train_score)\n",
        "  test_scores.append(test_score)\n",
        "\n",
        "plt.figure()\n",
        "plt.plot(list(range(1, 25)), train_scores, label=\"train\")\n",
        "plt.plot(list(range(1, 25)), test_scores, label=\"test\")\n",
        "plt.legend(loc='lower right')\n",
        "plt.xlabel(\"degree\")\n",
        "plt.ylabel(\"adj. R-score\")\n",
        "plt.grid()\n",
        "plt.show()"
      ],
      "metadata": {
        "id": "4XRpqulkct_R",
        "colab": {
          "base_uri": "https://localhost:8080/",
          "height": 449
        },
        "outputId": "53ae024c-21e4-44fa-d536-ac029ff2dcf5"
      },
      "execution_count": 9,
      "outputs": [
        {
          "output_type": "display_data",
          "data": {
            "text/plain": [
              "<Figure size 640x480 with 1 Axes>"
            ],
            "image/png": "[encoded data removed]"
          },
          "metadata": {}
        }
      ]
    },
    {
      "cell_type": "markdown",
      "source": [
        "\n",
        "Based on this, the optimal degree would be somewhere around 3.\n",
        "\n",
        "Now let's see how to optimize our regularization rate."
      ],
      "metadata": {
        "id": "PpL8zvPskRVt"
      }
    },
    {
      "cell_type": "code",
      "source": [
        "train_scores = []\n",
        "test_scores = []\n",
        "rate_list = [1e-7, 1e-6, 1e-5, 1e-4, 1e-3, 1e-2, 0.01, 0.1, 1,5, 10]\n",
        "scaler = StandardScaler()\n",
        "for rate in rate_list:\n",
        "  polyreg_scaled = make_pipeline(PolynomialFeatures(3), scaler, Ridge(alpha=rate))\n",
        "  polyreg_scaled.fit(X_train, y_train)\n",
        "  train_score = adj_r2(X_train, y_train, polyreg_scaled.score(X_train, y_train))\n",
        "  test_score= adj_r2(X_test, y_test, polyreg_scaled.score(X_test, y_test))\n",
        "  train_scores.append(train_score)\n",
        "  test_scores.append(test_score)"
      ],
      "metadata": {
        "id": "xaDg450Vc8Rx"
      },
      "execution_count": 13,
      "outputs": []
    },
    {
      "cell_type": "code",
      "source": [
        "plt.figure()\n",
        "plt.plot(rate_list, train_scores, label=\"train\")\n",
        "plt.plot(rate_list, test_scores, label=\"test\")\n",
        "plt.legend(loc='lower right')\n",
        "plt.xlabel(\"lambda\")\n",
        "plt.ylabel(\"adj. R-score\")\n",
        "plt.grid()\n",
        "plt.show()"
      ],
      "metadata": {
        "colab": {
          "base_uri": "https://localhost:8080/",
          "height": 449
        },
        "id": "5CIAE1Zheq-M",
        "outputId": "8554848c-e837-4203-aded-1c35a6a63edd"
      },
      "execution_count": 14,
      "outputs": [
        {
          "output_type": "display_data",
          "data": {
            "text/plain": [
              "<Figure size 640x480 with 1 Axes>"
            ],
            "image/png": "[encoded data removed]"
          },
          "metadata": {}
        }
      ]
    },
    {
      "cell_type": "code",
      "source": [
        "test_scores"
      ],
      "metadata": {
        "colab": {
          "base_uri": "https://localhost:8080/"
        },
        "id": "3q7omitkeuEa",
        "outputId": "c10239e7-016e-4e11-b970-c64e7987b119"
      },
      "execution_count": 15,
      "outputs": [
        {
          "output_type": "execute_result",
          "data": {
            "text/plain": [
              "[0.9142745905126604,\n",
              " 0.9142745899943189,\n",
              " 0.9142745848109033,\n",
              " 0.9142745329767664,\n",
              " 0.91427401463801,\n",
              " 0.9142688321768443,\n",
              " 0.9142688321768443,\n",
              " 0.9142176328264028,\n",
              " 0.9138636295262608,\n",
              " 0.9134626780435391,\n",
              " 0.9133227560134852]"
            ]
          },
          "metadata": {},
          "execution_count": 15
        }
      ]
    },
    {
      "cell_type": "markdown",
      "source": [
        "## Cross-Validation"
      ],
      "metadata": {
        "id": "QILUVvYlntIV"
      }
    },
    {
      "cell_type": "markdown",
      "source": [
        "Do you notice any problem with the above approach?\n",
        "\n",
        "- We are **training our model on train data, but selecting based on test data**\n",
        "- The test data doesn't remain unseen anymore, since the adj. R2 score is calculated based on it."
      ],
      "metadata": {
        "id": "vt0V4WP6Z9Lc"
      }
    },
    {
      "cell_type": "markdown",
      "source": [
        "<img src =\"https://d2beiqkhq929f0.cloudfront.net/public_assets/assets/000/036/471/original/image_2023-06-09_143437994.png?1686301518\" height=600 width=600>\n"
      ],
      "metadata": {
        "id": "FTDDaHuqZ2PQ"
      }
    },
    {
      "cell_type": "markdown",
      "source": [
        "How do we solve this issue?\n",
        "\n",
        "**By choosing a validation data**\n",
        "\n",
        "We will divide our data into three parts\n",
        "- $D_{train}$ = 60% of data (for training the model)\n",
        "- $D_{CV}$ or $D_{val}$ = 20% of data (for hyperparameter tuning)\n",
        "- $D_{test}$ = 20% of data\n",
        "  - test data which will be unseen by the model\n",
        "  - will only be used at the end to report the results of training\n",
        "\n"
      ],
      "metadata": {
        "id": "45AKkr2tpy9y"
      }
    },
    {
      "cell_type": "markdown",
      "source": [
        "#### So how do we perform cross validation?"
      ],
      "metadata": {
        "id": "Xa5ZJRIjrUZ9"
      }
    },
    {
      "cell_type": "code",
      "source": [
        "# lets generate a dataset of 100 points\n",
        "np.random.seed(2)\n",
        "X = np.random.rand(1000,1)\n",
        "y = 0.7*(X**5) - \\\n",
        "    2.1*(X**4) + \\\n",
        "    2.3*(X**3) + \\\n",
        "    0.2*(X**2) + \\\n",
        "    0.3* X + \\\n",
        "    0.4*np.random.rand(1000,1)\n"
      ],
      "metadata": {
        "id": "_g9CnmZqnm1-"
      },
      "execution_count": 16,
      "outputs": []
    },
    {
      "cell_type": "markdown",
      "source": [
        "Now we divide our data into train, test and validation"
      ],
      "metadata": {
        "id": "hu1HqFHnC5Q3"
      }
    },
    {
      "cell_type": "code",
      "source": [
        "#0.6, 0.2, 0.2 split\n",
        "from sklearn.model_selection import train_test_split\n",
        "X_tr_cv, X_test, y_tr_cv, y_test = train_test_split(X, y, test_size=0.2, random_state=1)\n",
        "X_train, X_val, y_train, y_val = train_test_split(X_tr_cv, y_tr_cv, test_size=0.25,random_state=1)"
      ],
      "metadata": {
        "id": "R-nZTEtKC55o"
      },
      "execution_count": 17,
      "outputs": []
    },
    {
      "cell_type": "code",
      "source": [
        "X_train.shape, X_val.shape, X_test.shape"
      ],
      "metadata": {
        "colab": {
          "base_uri": "https://localhost:8080/"
        },
        "id": "PvQN5v7wDxug",
        "outputId": "bf30f0af-c803-447f-c188-455424cfb2bd"
      },
      "execution_count": 18,
      "outputs": [
        {
          "output_type": "execute_result",
          "data": {
            "text/plain": [
              "((600, 1), (200, 1), (200, 1))"
            ]
          },
          "metadata": {},
          "execution_count": 18
        }
      ]
    },
    {
      "cell_type": "markdown",
      "source": [
        "Let's visualize our data"
      ],
      "metadata": {
        "id": "XUNhJarf_Xsn"
      }
    },
    {
      "cell_type": "code",
      "source": [
        "plt.figure(figsize=(18,5))\n",
        "data_labels = [\"Training Data\", \"Validation Data\", \"Test Data\" ]\n",
        "x_labels = [X_train, X_val, X_test]\n",
        "y_labels = [y_train, y_val, y_test]\n",
        "for i in range(3):\n",
        "  plt.subplot(1, 3, i+1)\n",
        "  plt.scatter(x_labels[i], y_labels[i])\n",
        "  plt.xlabel(\"x\")\n",
        "  plt.ylabel(\"y\")\n",
        "  plt.title(data_labels[i])"
      ],
      "metadata": {
        "colab": {
          "base_uri": "https://localhost:8080/",
          "height": 404
        },
        "id": "HIhTH7yz_ZbN",
        "outputId": "0cb9f1d9-155d-49fe-d20b-d5f8daed670d"
      },
      "execution_count": 19,
      "outputs": [
        {
          "output_type": "display_data",
          "data": {
            "text/plain": [
              "<Figure size 1800x500 with 3 Axes>"
            ],
            "image/png": "[encoded data removed]"
          },
          "metadata": {}
        }
      ]
    },
    {
      "cell_type": "markdown",
      "source": [
        "The statistics of our type of data is similar, so we are good to go."
      ],
      "metadata": {
        "id": "qMvxos6z7Ra6"
      }
    },
    {
      "cell_type": "markdown",
      "source": [
        "#### Steps to do cross-validation on our data\n",
        "\n"
      ],
      "metadata": {
        "id": "KMx20eiYqPUt"
      }
    },
    {
      "cell_type": "markdown",
      "source": [
        "Now if you remember, in the last lecture we saw how the performance was increasing with increase in degree of the polynomial model\n",
        "\n",
        "But how do we find the optimal degree in this case?\n",
        "\n",
        "Let's"
      ],
      "metadata": {
        "id": "zTb5G4KMW3bW"
      }
    },
    {
      "cell_type": "markdown",
      "source": [
        "Let's try to find the optimal value of `degree` for our polynomial regression model"
      ],
      "metadata": {
        "id": "Ime0l_99W1EG"
      }
    },
    {
      "cell_type": "markdown",
      "source": [
        "1. First we take degrees from 1 to 25, and train the model on data for each of these degrees to find the best degree"
      ],
      "metadata": {
        "id": "6KGZm8tQDTxo"
      }
    },
    {
      "cell_type": "code",
      "source": [
        "# Same as we did earlier and in the last lecture\n",
        "max_degree = 25 # max polynomial degree\n",
        "train_scores = []\n",
        "val_scores = []\n",
        "scaler = StandardScaler()\n",
        "for degree in range(1, max_degree):\n",
        "  polyreg_scaled = make_pipeline(PolynomialFeatures(degree), scaler, Ridge())\n",
        "  polyreg_scaled.fit(X_train, y_train)\n",
        "  train_score = adj_r2(X_train, y_train, polyreg_scaled.score(X_train, y_train))\n",
        "  val_score= adj_r2(X_val, y_val, polyreg_scaled.score(X_val, y_val))\n",
        "  train_scores.append(train_score)\n",
        "  val_scores.append(val_score)\n",
        "plt.figure()\n",
        "plt.plot(list(range(1, 25)), train_scores, label=\"train\")\n",
        "plt.plot(list(range(1, 25)), val_scores, label=\"val\")\n",
        "plt.legend(loc='lower right')\n",
        "plt.xlabel(\"degree\")\n",
        "plt.ylabel(\"adj. R-score\")\n",
        "plt.grid()\n",
        "plt.show()"
      ],
      "metadata": {
        "id": "KHuRfcbZEgIB",
        "colab": {
          "base_uri": "https://localhost:8080/",
          "height": 449
        },
        "outputId": "65dcf295-7d63-4588-f40a-f686a65b2c19"
      },
      "execution_count": 20,
      "outputs": [
        {
          "output_type": "display_data",
          "data": {
            "text/plain": [
              "<Figure size 640x480 with 1 Axes>"
            ],
            "image/png": "[encoded data removed]"
          },
          "metadata": {}
        }
      ]
    },
    {
      "cell_type": "markdown",
      "source": [
        "Taking degree=3, we now find the best regularization rate by the same process"
      ],
      "metadata": {
        "id": "g4Tvpu_hmvwd"
      }
    },
    {
      "cell_type": "code",
      "source": [
        "train_scores = []\n",
        "val_scores = []\n",
        "rate_list = [0.01, 0.1, 1,5, 10]\n",
        "for rate in rate_list:\n",
        "  polyreg_scaled = make_pipeline(PolynomialFeatures(3), scaler, Ridge(alpha=rate))\n",
        "  polyreg_scaled.fit(X_train, y_train)\n",
        "  train_score = adj_r2(X_train, y_train, polyreg_scaled.score(X_train, y_train))\n",
        "  val_score= adj_r2(X_val, y_val, polyreg_scaled.score(X_val, y_val))\n",
        "  train_scores.append(train_score)\n",
        "  val_scores.append(val_score)"
      ],
      "metadata": {
        "id": "M3B44v1JnE-G"
      },
      "execution_count": 21,
      "outputs": []
    },
    {
      "cell_type": "code",
      "source": [
        "plt.figure()\n",
        "plt.plot(rate_list, train_scores, label=\"train\")\n",
        "plt.plot(rate_list, val_scores, label=\"val\")\n",
        "plt.legend(loc='lower right')\n",
        "plt.xlabel(\"lambda\")\n",
        "plt.ylabel(\"adj. R-score\")\n",
        "plt.grid()\n",
        "plt.show()"
      ],
      "metadata": {
        "colab": {
          "base_uri": "https://localhost:8080/",
          "height": 449
        },
        "outputId": "c92424f2-5563-4c38-e94a-f28a30aafa75",
        "id": "kvN1IWydnE-G"
      },
      "execution_count": 22,
      "outputs": [
        {
          "output_type": "display_data",
          "data": {
            "text/plain": [
              "<Figure size 640x480 with 1 Axes>"
            ],
            "image/png": "[encoded data removed]"
          },
          "metadata": {}
        }
      ]
    },
    {
      "cell_type": "markdown",
      "source": [
        "We take the optimal value of lambda as 0.01"
      ],
      "metadata": {
        "id": "ZmZX4huQF4Eg"
      }
    },
    {
      "cell_type": "markdown",
      "source": [
        "2. Now finally, we measure our model's performance on test data, which our model hasn't seen till now"
      ],
      "metadata": {
        "id": "ZIPEVxjhGKqC"
      }
    },
    {
      "cell_type": "code",
      "source": [
        "polyreg_scaled = make_pipeline(PolynomialFeatures(3), scaler, Ridge(alpha=0.01))\n",
        "polyreg_scaled.fit(X_train, y_train)\n",
        "train_score = adj_r2(X_train, y_train, polyreg_scaled.score(X_train, y_train))\n",
        "print(f'Training Score = {train_score}')\n",
        "val_score = adj_r2(X_val, y_val, polyreg_scaled.score(X_val, y_val))\n",
        "print(f'Validation Score = {val_score}')"
      ],
      "metadata": {
        "colab": {
          "base_uri": "https://localhost:8080/"
        },
        "id": "w1svueDEF2_R",
        "outputId": "ef4cffed-78bb-4cf6-fa2d-98309edf0e68"
      },
      "execution_count": 23,
      "outputs": [
        {
          "output_type": "stream",
          "name": "stdout",
          "text": [
            "Training Score = 0.9261212571628987\n",
            "Validation Score = 0.9191482611247953\n"
          ]
        }
      ]
    },
    {
      "cell_type": "code",
      "source": [
        "# Reporting this as the final score\n",
        "test_score = adj_r2(X_test, y_test, polyreg_scaled.score(X_test, y_test))\n",
        "print(f'Testing Score = {test_score}')"
      ],
      "metadata": {
        "colab": {
          "base_uri": "https://localhost:8080/"
        },
        "id": "VQTLT84YHJdB",
        "outputId": "845e98e5-0f09-4d45-fb2a-3efcf5d4ca17"
      },
      "execution_count": 24,
      "outputs": [
        {
          "output_type": "stream",
          "name": "stdout",
          "text": [
            "Testing Score = 0.9143625261065258\n"
          ]
        }
      ]
    },
    {
      "cell_type": "markdown",
      "source": [
        "Observe, the test results are lower than training and validation.\n",
        "\n",
        "This is because, our model hasn't seen the test data at all, and this can be said as the true result of our model."
      ],
      "metadata": {
        "id": "_xE7qIcso0b3"
      }
    },
    {
      "cell_type": "markdown",
      "source": [
        "#### Try for yourself\n",
        "\n",
        "- Try to use Linear Regression, Lasso and ElasticNet and see how do the results vary?"
      ],
      "metadata": {
        "id": "y9t-1s1zHW0W"
      }
    },
    {
      "cell_type": "markdown",
      "source": [
        "But there is one issue with cross validation when there are less number of data points"
      ],
      "metadata": {
        "id": "gjc99NyLHvcK"
      }
    },
    {
      "cell_type": "markdown",
      "source": [
        "## K-Fold Cross Validation"
      ],
      "metadata": {
        "id": "rMUEy_TMIBmi"
      }
    },
    {
      "cell_type": "markdown",
      "source": [
        "#### What would be the problem with Cross Validation in case there are less number of data points?"
      ],
      "metadata": {
        "id": "QP4wdtx9H6XB"
      }
    },
    {
      "cell_type": "markdown",
      "source": [
        "Suppose we are using a dataset with 100 data points\n",
        "\n",
        "- On dividing the data between train, test and validation, only 60 datapoint are there for training\n",
        "- Basically we are wasting 20 points in validation, which can also be used for training the data\n",
        "- But we can't simply use 80% of our data for training, since this will again create the issue of no data for validation"
      ],
      "metadata": {
        "id": "WaCgxYUdO3Cb"
      }
    },
    {
      "cell_type": "markdown",
      "source": [
        "#### How do we validate our data in case of lesser number of data points?"
      ],
      "metadata": {
        "id": "d4vkwZLYPRTZ"
      }
    },
    {
      "cell_type": "markdown",
      "source": [
        "We use **K-Fold Cross Validation**"
      ],
      "metadata": {
        "id": "239HPHAUPWkb"
      }
    },
    {
      "cell_type": "markdown",
      "source": [
        "This is useful only for small datasets"
      ],
      "metadata": {
        "id": "krv8YeJ2Pcpi"
      }
    },
    {
      "cell_type": "markdown",
      "source": [
        "#### What is k-fold cross validation?\n"
      ],
      "metadata": {
        "id": "nnyrB0wwPr6u"
      }
    },
    {
      "cell_type": "markdown",
      "source": [
        "Here, \"k\" denotes an integer, basically number of folds. This value can vary.\n",
        "\n",
        "Let's take k=4\n",
        "\n",
        "We divide our data into 4 parts, 3 for training and 1 for validation, and train our model k times, every time taking a different portion for validation"
      ],
      "metadata": {
        "id": "o8LZlR0CPvtS"
      }
    },
    {
      "cell_type": "markdown",
      "source": [
        "#### How to implement K-Fold Cross validation?"
      ],
      "metadata": {
        "id": "Ybj8JrbxSoUA"
      }
    },
    {
      "cell_type": "markdown",
      "source": [
        "<img src=\"https://d2beiqkhq929f0.cloudfront.net/public_assets/assets/000/036/198/original/image_2023-06-07_011139881.png?1686080500\" height=600 width=600>"
      ],
      "metadata": {
        "id": "sjq4hGmfOywr"
      }
    },
    {
      "cell_type": "markdown",
      "source": [
        "Steps:\n",
        "- We train our model 4 times, and each time, one portion of the data is kept for validation, while other three portions are used for testing.\n",
        "- After every training, we find the validation score as cv1, cv2, etc.\n",
        "- Finally, the performance of the model is said to be the average of all these scores"
      ],
      "metadata": {
        "id": "P9ksh61DQGVm"
      }
    },
    {
      "cell_type": "markdown",
      "source": [
        "Notice,\n",
        "- We aren't wasting any data, since our model is training on all the sets, while also evaluating unseen data in each fold\n",
        "- The average as metric will give us a higher confidence metric, compared to a single cv score\n",
        "\n",
        "Usually, we take k=10"
      ],
      "metadata": {
        "id": "B9AkrFUYQdh-"
      }
    },
    {
      "cell_type": "markdown",
      "source": [
        "Let's look at the implementation."
      ],
      "metadata": {
        "id": "5J5SbY8pQvOL"
      }
    },
    {
      "cell_type": "code",
      "source": [
        "# Creating a small dataset of 100 data points\n",
        "np.random.seed(2)\n",
        "X = np.random.rand(100,1)\n",
        "y = 0.7*(X**5) - \\\n",
        "    2.1*(X**4) + \\\n",
        "    2.3*(X**3) + \\\n",
        "    0.2*(X**2) + \\\n",
        "    0.3* X + \\\n",
        "    0.4*np.random.rand(100,1)"
      ],
      "metadata": {
        "id": "kaP9URYzRIfw"
      },
      "execution_count": 25,
      "outputs": []
    },
    {
      "cell_type": "code",
      "source": [
        "from sklearn.model_selection import KFold\n",
        "kf = KFold(n_splits=10)"
      ],
      "metadata": {
        "id": "pB9xOCM_HQ7_"
      },
      "execution_count": 33,
      "outputs": []
    },
    {
      "cell_type": "code",
      "source": [
        "from sklearn.linear_model import LinearRegression\n",
        "\n",
        "# Performing k-fold cross validation\n",
        "degrees = 15 # number of degrees\n",
        "train_scores = []\n",
        "val_scores = []\n",
        "\n",
        "for degree in range(1, degrees):\n",
        "    fold_train_scores = []\n",
        "    fold_val_scores = []\n",
        "\n",
        "    for train_index, val_index in kf.split(X): #iterating through the K-folds\n",
        "\n",
        "        X_train, X_val = X[train_index], X[val_index]\n",
        "        y_train, y_val = y[train_index], y[val_index]\n",
        "\n",
        "        polyreg_scaled = make_pipeline(PolynomialFeatures(degree), scaler, LinearRegression())\n",
        "        polyreg_scaled.fit(X_train, y_train) #training model\n",
        "\n",
        "        train_score = adj_r2(X_train, y_train, polyreg_scaled.score(X_train, y_train))\n",
        "        val_score= adj_r2(X_val, y_val, polyreg_scaled.score(X_val, y_val))\n",
        "\n",
        "        fold_train_scores.append(train_score)\n",
        "        fold_val_scores.append(val_score)\n",
        "\n",
        "    train_score = np.mean(fold_train_scores)\n",
        "    val_score = np.mean(fold_val_scores)\n",
        "\n",
        "    train_scores.append(train_score)\n",
        "    val_scores.append(val_score)"
      ],
      "metadata": {
        "id": "UO7n1IAIQ3bi"
      },
      "execution_count": 34,
      "outputs": []
    },
    {
      "cell_type": "code",
      "source": [
        "plt.figure()\n",
        "plt.plot(list(range(1, 15)), train_scores, label=\"train\")\n",
        "plt.plot(list(range(1, 15)), val_scores, label=\"val\")\n",
        "plt.legend(loc='lower right')\n",
        "plt.xlabel(\"degree\")\n",
        "plt.ylabel(\"Average adj R2 score\")\n",
        "plt.show()"
      ],
      "metadata": {
        "colab": {
          "base_uri": "https://localhost:8080/",
          "height": 449
        },
        "id": "1Uv-TLbIQ-O9",
        "outputId": "768e0d9d-a2bc-4b03-ec5c-6ba203aa9c2c"
      },
      "execution_count": 35,
      "outputs": [
        {
          "output_type": "display_data",
          "data": {
            "text/plain": [
              "<Figure size 640x480 with 1 Axes>"
            ],
            "image/png": "[encoded data removed]"
          },
          "metadata": {}
        }
      ]
    },
    {
      "cell_type": "code",
      "source": [
        "from sklearn.linear_model import LinearRegression\n",
        "\n",
        "# Performing k-fold cross validation\n",
        "degrees = 15 # number of degrees\n",
        "train_scores = []\n",
        "val_scores = []\n",
        "\n",
        "for degree in range(1, degrees):\n",
        "    fold_train_scores = []\n",
        "    fold_val_scores = []\n",
        "\n",
        "    for train_index, val_index in kf.split(X): #iterating through the K-folds\n",
        "\n",
        "        X_train, X_val = X[train_index], X[val_index]\n",
        "        y_train, y_val = y[train_index], y[val_index]\n",
        "\n",
        "        polyreg_scaled = make_pipeline(PolynomialFeatures(degree), scaler, LinearRegression())\n",
        "        polyreg_scaled.fit(X_train, y_train) #training model\n",
        "\n",
        "        train_score = polyreg_scaled.score(X_train, y_train)\n",
        "        val_score = polyreg_scaled.score(X_val, y_val)\n",
        "\n",
        "        fold_train_scores.append(train_score)\n",
        "        fold_val_scores.append(val_score)\n",
        "\n",
        "    train_score = np.mean(fold_train_scores)\n",
        "    val_score = np.mean(fold_val_scores)\n",
        "\n",
        "    train_scores.append(train_score)\n",
        "    val_scores.append(val_score)"
      ],
      "metadata": {
        "id": "lD3aWEV0Rs1T"
      },
      "execution_count": 36,
      "outputs": []
    },
    {
      "cell_type": "code",
      "source": [
        "plt.figure()\n",
        "plt.plot(list(range(1, 15)), train_scores, label=\"train\")\n",
        "plt.plot(list(range(1, 15)), val_scores, label=\"val\")\n",
        "plt.legend(loc='lower right')\n",
        "plt.xlabel(\"degree\")\n",
        "plt.ylabel(\"Average R2 score\")\n",
        "plt.show()"
      ],
      "metadata": {
        "colab": {
          "base_uri": "https://localhost:8080/",
          "height": 449
        },
        "id": "4Xx_8_i3Ry5A",
        "outputId": "cc259495-aae4-40f8-ad2e-691dbdf66560"
      },
      "execution_count": 37,
      "outputs": [
        {
          "output_type": "display_data",
          "data": {
            "text/plain": [
              "<Figure size 640x480 with 1 Axes>"
            ],
            "image/png": "[encoded data removed]"
          },
          "metadata": {}
        }
      ]
    },
    {
      "cell_type": "markdown",
      "source": [
        "Note:\n",
        "\n",
        "- K-Fold Cross Validation can be computationally expensive\n",
        "- Hence it's only used for Small datasets\n",
        "- For large datasets, we have enough datapoints to train the model, hence only cross validation is sufficient"
      ],
      "metadata": {
        "id": "eUtfg017SLx0"
      }
    },
    {
      "cell_type": "markdown",
      "source": [
        "#### Let's start with our usecase for today!"
      ],
      "metadata": {
        "id": "xxZl3z9NSbE3"
      }
    },
    {
      "cell_type": "markdown",
      "source": [
        "## Introduction to AT&T Churn UseCase"
      ],
      "metadata": {
        "id": "hvFmP5skSgFY"
      }
    },
    {
      "cell_type": "markdown",
      "source": [
        "AT & T, one of the leading telecommunications companies of USA, faces the challenge of customer churn, where customers switch to competitors due to issues such as bad network, poor customer service, and so on.\n",
        "\n",
        "As a Data Scientist, you are tasked to develop a machine learning model to predict whether a customer will be churned or not, based on various parameters, such as state, number of evening calls, number of day calls, etc."
      ],
      "metadata": {
        "id": "QxXEVRVrjyRH"
      }
    },
    {
      "cell_type": "markdown",
      "source": [
        "Let's look at the data"
      ],
      "metadata": {
        "id": "honpz9Ogk7av"
      }
    },
    {
      "cell_type": "code",
      "execution_count": 38,
      "metadata": {
        "colab": {
          "base_uri": "https://localhost:8080/"
        },
        "id": "WdRop4vG1qCi",
        "outputId": "f4ac604d-9065-4140-b6cc-0377ea80d3dc"
      },
      "outputs": [
        {
          "output_type": "stream",
          "name": "stdout",
          "text": [
            "Downloading...\n",
            "From: https://drive.google.com/uc?id=1uUt7uL-VuF_5cpodYRiriEwhsldeEp3m\n",
            "To: /content/churn_logistic.csv\n",
            "\r  0% 0.00/494k [00:00<?, ?B/s]\r100% 494k/494k [00:00<00:00, 130MB/s]\n"
          ]
        }
      ],
      "source": [
        "!gdown 1uUt7uL-VuF_5cpodYRiriEwhsldeEp3m"
      ]
    },
    {
      "cell_type": "code",
      "execution_count": 39,
      "metadata": {
        "colab": {
          "base_uri": "https://localhost:8080/",
          "height": 403
        },
        "id": "mlIcyIeK1qCj",
        "outputId": "3424ad1e-8ce2-40fb-bff5-7a411ff5ee88"
      },
      "outputs": [
        {
          "output_type": "execute_result",
          "data": {
            "text/plain": [
              "   Account Length  VMail Message  Day Mins  Eve Mins  Night Mins  Intl Mins  \\\n",
              "0             128             25     265.1     197.4       244.7       10.0   \n",
              "1             107             26     161.6     195.5       254.4       13.7   \n",
              "2             137              0     243.4     121.2       162.6       12.2   \n",
              "3              84              0     299.4      61.9       196.9        6.6   \n",
              "4              75              0     166.7     148.3       186.9       10.1   \n",
              "\n",
              "   CustServ Calls  Intl Plan  VMail Plan  Day Calls  ...  Eve Calls  \\\n",
              "0               1          0           1        110  ...         99   \n",
              "1               1          0           1        123  ...        103   \n",
              "2               0          0           0        114  ...        110   \n",
              "3               2          1           0         71  ...         88   \n",
              "4               3          1           0        113  ...        122   \n",
              "\n",
              "   Eve Charge  Night Calls  Night Charge  Intl Calls  Intl Charge  State  \\\n",
              "0       16.78           91         11.01           3         2.70     KS   \n",
              "1       16.62          103         11.45           3         3.70     OH   \n",
              "2       10.30          104          7.32           5         3.29     NJ   \n",
              "3        5.26           89          8.86           7         1.78     OH   \n",
              "4       12.61          121          8.41           3         2.73     OK   \n",
              "\n",
              "  Area Code     Phone Churn  \n",
              "0       415  382-4657     0  \n",
              "1       415  371-7191     0  \n",
              "2       415  358-1921     0  \n",
              "3       408  375-9999     0  \n",
              "4       415  330-6626     0  \n",
              "\n",
              "[5 rows x 21 columns]"
            ],
            "text/html": [
              "\n",
              "\n",
              "  <div id=\"df-749c1119-50d2-4c66-9b02-178908c501d7\">\n",
              "    <div class=\"colab-df-container\">\n",
              "      <div>\n",
              "<style scoped>\n",
              "    .dataframe tbody tr th:only-of-type {\n",
              "        vertical-align: middle;\n",
              "    }\n",
              "\n",
              "    .dataframe tbody tr th {\n",
              "        vertical-align: top;\n",
              "    }\n",
              "\n",
              "    .dataframe thead th {\n",
              "        text-align: right;\n",
              "    }\n",
              "</style>\n",
              "<table border=\"1\" class=\"dataframe\">\n",
              "  <thead>\n",
              "    <tr style=\"text-align: right;\">\n",
              "      <th></th>\n",
              "      <th>Account Length</th>\n",
              "      <th>VMail Message</th>\n",
              "      <th>Day Mins</th>\n",
              "      <th>Eve Mins</th>\n",
              "      <th>Night Mins</th>\n",
              "      <th>Intl Mins</th>\n",
              "      <th>CustServ Calls</th>\n",
              "      <th>Intl Plan</th>\n",
              "      <th>VMail Plan</th>\n",
              "      <th>Day Calls</th>\n",
              "      <th>...</th>\n",
              "      <th>Eve Calls</th>\n",
              "      <th>Eve Charge</th>\n",
              "      <th>Night Calls</th>\n",
              "      <th>Night Charge</th>\n",
              "      <th>Intl Calls</th>\n",
              "      <th>Intl Charge</th>\n",
              "      <th>State</th>\n",
              "      <th>Area Code</th>\n",
              "      <th>Phone</th>\n",
              "      <th>Churn</th>\n",
              "    </tr>\n",
              "  </thead>\n",
              "  <tbody>\n",
              "    <tr>\n",
              "      <th>0</th>\n",
              "      <td>128</td>\n",
              "      <td>25</td>\n",
              "      <td>265.1</td>\n",
              "      <td>197.4</td>\n",
              "      <td>244.7</td>\n",
              "      <td>10.0</td>\n",
              "      <td>1</td>\n",
              "      <td>0</td>\n",
              "      <td>1</td>\n",
              "      <td>110</td>\n",
              "      <td>...</td>\n",
              "      <td>99</td>\n",
              "      <td>16.78</td>\n",
              "      <td>91</td>\n",
              "      <td>11.01</td>\n",
              "      <td>3</td>\n",
              "      <td>2.70</td>\n",
              "      <td>KS</td>\n",
              "      <td>415</td>\n",
              "      <td>382-4657</td>\n",
              "      <td>0</td>\n",
              "    </tr>\n",
              "    <tr>\n",
              "      <th>1</th>\n",
              "      <td>107</td>\n",
              "      <td>26</td>\n",
              "      <td>161.6</td>\n",
              "      <td>195.5</td>\n",
              "      <td>254.4</td>\n",
              "      <td>13.7</td>\n",
              "      <td>1</td>\n",
              "      <td>0</td>\n",
              "      <td>1</td>\n",
              "      <td>123</td>\n",
              "      <td>...</td>\n",
              "      <td>103</td>\n",
              "      <td>16.62</td>\n",
              "      <td>103</td>\n",
              "      <td>11.45</td>\n",
              "      <td>3</td>\n",
              "      <td>3.70</td>\n",
              "      <td>OH</td>\n",
              "      <td>415</td>\n",
              "      <td>371-7191</td>\n",
              "      <td>0</td>\n",
              "    </tr>\n",
              "    <tr>\n",
              "      <th>2</th>\n",
              "      <td>137</td>\n",
              "      <td>0</td>\n",
              "      <td>243.4</td>\n",
              "      <td>121.2</td>\n",
              "      <td>162.6</td>\n",
              "      <td>12.2</td>\n",
              "      <td>0</td>\n",
              "      <td>0</td>\n",
              "      <td>0</td>\n",
              "      <td>114</td>\n",
              "      <td>...</td>\n",
              "      <td>110</td>\n",
              "      <td>10.30</td>\n",
              "      <td>104</td>\n",
              "      <td>7.32</td>\n",
              "      <td>5</td>\n",
              "      <td>3.29</td>\n",
              "      <td>NJ</td>\n",
              "      <td>415</td>\n",
              "      <td>358-1921</td>\n",
              "      <td>0</td>\n",
              "    </tr>\n",
              "    <tr>\n",
              "      <th>3</th>\n",
              "      <td>84</td>\n",
              "      <td>0</td>\n",
              "      <td>299.4</td>\n",
              "      <td>61.9</td>\n",
              "      <td>196.9</td>\n",
              "      <td>6.6</td>\n",
              "      <td>2</td>\n",
              "      <td>1</td>\n",
              "      <td>0</td>\n",
              "      <td>71</td>\n",
              "      <td>...</td>\n",
              "      <td>88</td>\n",
              "      <td>5.26</td>\n",
              "      <td>89</td>\n",
              "      <td>8.86</td>\n",
              "      <td>7</td>\n",
              "      <td>1.78</td>\n",
              "      <td>OH</td>\n",
              "      <td>408</td>\n",
              "      <td>375-9999</td>\n",
              "      <td>0</td>\n",
              "    </tr>\n",
              "    <tr>\n",
              "      <th>4</th>\n",
              "      <td>75</td>\n",
              "      <td>0</td>\n",
              "      <td>166.7</td>\n",
              "      <td>148.3</td>\n",
              "      <td>186.9</td>\n",
              "      <td>10.1</td>\n",
              "      <td>3</td>\n",
              "      <td>1</td>\n",
              "      <td>0</td>\n",
              "      <td>113</td>\n",
              "      <td>...</td>\n",
              "      <td>122</td>\n",
              "      <td>12.61</td>\n",
              "      <td>121</td>\n",
              "      <td>8.41</td>\n",
              "      <td>3</td>\n",
              "      <td>2.73</td>\n",
              "      <td>OK</td>\n",
              "      <td>415</td>\n",
              "      <td>330-6626</td>\n",
              "      <td>0</td>\n",
              "    </tr>\n",
              "  </tbody>\n",
              "</table>\n",
              "<p>5 rows × 21 columns</p>\n",
              "</div>\n",
              "      <button class=\"colab-df-convert\" onclick=\"convertToInteractive('df-749c1119-50d2-4c66-9b02-178908c501d7')\"\n",
              "              title=\"Convert this dataframe to an interactive table.\"\n",
              "              style=\"display:none;\">\n",
              "\n",
              "  <svg xmlns=\"http://www.w3.org/2000/svg\" height=\"24px\"viewBox=\"0 0 24 24\"\n",
              "       width=\"24px\">\n",
              "    <path d=\"M0 0h24v24H0V0z\" fill=\"none\"/>\n",
              "    <path d=\"M18.56 5.44l.94 2.06.94-2.06 2.06-.94-2.06-.94-.94-2.06-.94 2.06-2.06.94zm-11 1L8.5 8.5l.94-2.06 2.06-.94-2.06-.94L8.5 2.5l-.94 2.06-2.06.94zm10 10l.94 2.06.94-2.06 2.06-.94-2.06-.94-.94-2.06-.94 2.06-2.06.94z\"/><path d=\"M17.41 7.96l-1.37-1.37c-.4-.4-.92-.59-1.43-.59-.52 0-1.04.2-1.43.59L10.3 9.45l-7.72 7.72c-.78.78-.78 2.05 0 2.83L4 21.41c.39.39.9.59 1.41.59.51 0 1.02-.2 1.41-.59l7.78-7.78 2.81-2.81c.8-.78.8-2.07 0-2.86zM5.41 20L4 18.59l7.72-7.72 1.47 1.35L5.41 20z\"/>\n",
              "  </svg>\n",
              "      </button>\n",
              "\n",
              "\n",
              "\n",
              "    <div id=\"df-80400ab4-6bd1-4036-a0f2-a60b627cf3d8\">\n",
              "      <button class=\"colab-df-quickchart\" onclick=\"quickchart('df-80400ab4-6bd1-4036-a0f2-a60b627cf3d8')\"\n",
              "              title=\"Suggest charts.\"\n",
              "              style=\"display:none;\">\n",
              "\n",
              "<svg xmlns=\"http://www.w3.org/2000/svg\" height=\"24px\"viewBox=\"0 0 24 24\"\n",
              "     width=\"24px\">\n",
              "    <g>\n",
              "        <path d=\"M19 3H5c-1.1 0-2 .9-2 2v14c0 1.1.9 2 2 2h14c1.1 0 2-.9 2-2V5c0-1.1-.9-2-2-2zM9 17H7v-7h2v7zm4 0h-2V7h2v10zm4 0h-2v-4h2v4z\"/>\n",
              "    </g>\n",
              "</svg>\n",
              "      </button>\n",
              "    </div>\n",
              "\n",
              "<style>\n",
              "  .colab-df-quickchart {\n",
              "    background-color: #E8F0FE;\n",
              "    border: none;\n",
              "    border-radius: 50%;\n",
              "    cursor: pointer;\n",
              "    display: none;\n",
              "    fill: #1967D2;\n",
              "    height: 32px;\n",
              "    padding: 0 0 0 0;\n",
              "    width: 32px;\n",
              "  }\n",
              "\n",
              "  .colab-df-quickchart:hover {\n",
              "    background-color: #E2EBFA;\n",
              "    box-shadow: 0px 1px 2px rgba(60, 64, 67, 0.3), 0px 1px 3px 1px rgba(60, 64, 67, 0.15);\n",
              "    fill: #174EA6;\n",
              "  }\n",
              "\n",
              "  [theme=dark] .colab-df-quickchart {\n",
              "    background-color: #3B4455;\n",
              "    fill: #D2E3FC;\n",
              "  }\n",
              "\n",
              "  [theme=dark] .colab-df-quickchart:hover {\n",
              "    background-color: #434B5C;\n",
              "    box-shadow: 0px 1px 3px 1px rgba(0, 0, 0, 0.15);\n",
              "    filter: drop-shadow(0px 1px 2px rgba(0, 0, 0, 0.3));\n",
              "    fill: #FFFFFF;\n",
              "  }\n",
              "</style>\n",
              "\n",
              "    <script>\n",
              "      async function quickchart(key) {\n",
              "        const containerElement = document.querySelector('#' + key);\n",
              "        const charts = await google.colab.kernel.invokeFunction(\n",
              "            'suggestCharts', [key], {});\n",
              "      }\n",
              "    </script>\n",
              "\n",
              "      <script>\n",
              "\n",
              "function displayQuickchartButton(domScope) {\n",
              "  let quickchartButtonEl =\n",
              "    domScope.querySelector('#df-80400ab4-6bd1-4036-a0f2-a60b627cf3d8 button.colab-df-quickchart');\n",
              "  quickchartButtonEl.style.display =\n",
              "    google.colab.kernel.accessAllowed ? 'block' : 'none';\n",
              "}\n",
              "\n",
              "        displayQuickchartButton(document);\n",
              "      </script>\n",
              "      <style>\n",
              "    .colab-df-container {\n",
              "      display:flex;\n",
              "      flex-wrap:wrap;\n",
              "      gap: 12px;\n",
              "    }\n",
              "\n",
              "    .colab-df-convert {\n",
              "      background-color: #E8F0FE;\n",
              "      border: none;\n",
              "      border-radius: 50%;\n",
              "      cursor: pointer;\n",
              "      display: none;\n",
              "      fill: #1967D2;\n",
              "      height: 32px;\n",
              "      padding: 0 0 0 0;\n",
              "      width: 32px;\n",
              "    }\n",
              "\n",
              "    .colab-df-convert:hover {\n",
              "      background-color: #E2EBFA;\n",
              "      box-shadow: 0px 1px 2px rgba(60, 64, 67, 0.3), 0px 1px 3px 1px rgba(60, 64, 67, 0.15);\n",
              "      fill: #174EA6;\n",
              "    }\n",
              "\n",
              "    [theme=dark] .colab-df-convert {\n",
              "      background-color: #3B4455;\n",
              "      fill: #D2E3FC;\n",
              "    }\n",
              "\n",
              "    [theme=dark] .colab-df-convert:hover {\n",
              "      background-color: #434B5C;\n",
              "      box-shadow: 0px 1px 3px 1px rgba(0, 0, 0, 0.15);\n",
              "      filter: drop-shadow(0px 1px 2px rgba(0, 0, 0, 0.3));\n",
              "      fill: #FFFFFF;\n",
              "    }\n",
              "  </style>\n",
              "\n",
              "      <script>\n",
              "        const buttonEl =\n",
              "          document.querySelector('#df-749c1119-50d2-4c66-9b02-178908c501d7 button.colab-df-convert');\n",
              "        buttonEl.style.display =\n",
              "          google.colab.kernel.accessAllowed ? 'block' : 'none';\n",
              "\n",
              "        async function convertToInteractive(key) {\n",
              "          const element = document.querySelector('#df-749c1119-50d2-4c66-9b02-178908c501d7');\n",
              "          const dataTable =\n",
              "            await google.colab.kernel.invokeFunction('convertToInteractive',\n",
              "                                                     [key], {});\n",
              "          if (!dataTable) return;\n",
              "\n",
              "          const docLinkHtml = 'Like what you see? Visit the ' +\n",
              "            '<a target=\"_blank\" href=https://colab.research.google.com/notebooks/data_table.ipynb>data table notebook</a>'\n",
              "            + ' to learn more about interactive tables.';\n",
              "          element.innerHTML = '';\n",
              "          dataTable['output_type'] = 'display_data';\n",
              "          await google.colab.output.renderOutput(dataTable, element);\n",
              "          const docLink = document.createElement('div');\n",
              "          docLink.innerHTML = docLinkHtml;\n",
              "          element.appendChild(docLink);\n",
              "        }\n",
              "      </script>\n",
              "    </div>\n",
              "  </div>\n"
            ]
          },
          "metadata": {},
          "execution_count": 39
        }
      ],
      "source": [
        "import pandas as pd\n",
        "churn = pd.read_csv(\"churn_logistic.csv\")\n",
        "churn.head()"
      ]
    },
    {
      "cell_type": "markdown",
      "metadata": {
        "id": "4i5XMpGc7lJw"
      },
      "source": [
        "**Data Description**\n",
        "<center>\n",
        "\n",
        "| Records | Features |\n",
        "| :-- | :-- |\n",
        "| 5700 | 21 |\n",
        "\n",
        "\n",
        "| Id | Features | Description |\n",
        "| :-- | :--| :--|\n",
        "|01| **state** | 2-letter code of the US state of customer residence|\n",
        "|02| **account_length** | Number of months the customer has been with the current telco provider |\n",
        "|03|**area_code**|string=\"area_code_AAA\" where AAA = 3 digit area code|\n",
        "|04|**intl_plan**|The customer has international plan|\n",
        "|05|**vmail_plan**| The customer has voice mail plan|\n",
        "|06|**vmail_messages**|Number of voice-mail messages|\n",
        "|07|**day_mins**|Total minutes of day calls|\n",
        "|08|**day_calls**|Total no of day calls|\n",
        "|09|**day_charge**|Total charge of day calls|\n",
        "|10|**eve_mins**|Total minutes of evening calls|\n",
        "|11|**eve_calls**|Total no of evening calls|\n",
        "|12|**eve_charge**|Total charge of evening calls|\n",
        "|13|**night_mins**|Total minutes of night calls|\n",
        "|14|**night_calls**|Total no of night calls|\n",
        "|15|**night_charge**|Total charge of night calls|\n",
        "|16|**intl_mins**|Total minutes of international calls|\n",
        "|17|**intl_calls**|Total no of international calls|\n",
        "|18|**intl_charge**|Total charge of international calls|\n",
        "|19|**customer_service_calls**|Number of calls to customer service|\n",
        "|20|**phone**|10 digit number|\n",
        "|21|**churn**|Customer churn - target variable|"
      ]
    },
    {
      "cell_type": "code",
      "source": [
        "churn['Churn'].value_counts()"
      ],
      "metadata": {
        "colab": {
          "base_uri": "https://localhost:8080/"
        },
        "id": "YOTssvEWlSES",
        "outputId": "dc166784-6d4a-4a1d-fbe1-d3e0883839a2"
      },
      "execution_count": 40,
      "outputs": [
        {
          "output_type": "execute_result",
          "data": {
            "text/plain": [
              "0    2850\n",
              "1    2850\n",
              "Name: Churn, dtype: int64"
            ]
          },
          "metadata": {},
          "execution_count": 40
        }
      ]
    },
    {
      "cell_type": "markdown",
      "source": [
        "Observe:\n",
        "- The number of values are same for both \"0\" and \"1\""
      ],
      "metadata": {
        "id": "eZQWpSERlbJ-"
      }
    },
    {
      "cell_type": "markdown",
      "source": [
        "## Intro to Logistic Regression"
      ],
      "metadata": {
        "id": "PD8SgscRoKnm"
      }
    },
    {
      "cell_type": "markdown",
      "source": [
        "Before we dive into logistic regression, let's look at few notations we will be following."
      ],
      "metadata": {
        "id": "2rfpaSRDlY-n"
      }
    },
    {
      "cell_type": "markdown",
      "source": [
        "<img src=\"https://d2beiqkhq929f0.cloudfront.net/public_assets/assets/000/036/832/original/image_2023-06-14_170643599.png?1686742605\" height=700 width=600>"
      ],
      "metadata": {
        "id": "wyIEdCqalfW0"
      }
    },
    {
      "cell_type": "markdown",
      "source": [
        "**m**-> no. of samples\n",
        "\n",
        "**d**-> no. of features\n",
        "\n",
        "**n**-> no. of classes\n",
        "\n",
        "**Data Notation**\n",
        "- Data X: (m,d)\n",
        "- $i^{th} \\ sample: X^{(i)}$\n",
        "- $j^{th} \\ feature: X_j$\n",
        "- Target: $(m,1)$ [Can convert to (m, n) for Softmax using preprocessing]\n",
        "- True output: $y^{(i)}$\n",
        "- Predicted output: $\\hat{y}^{(i)}$\n",
        "\n",
        "**Parameter Notation**\n",
        "- $w=\\begin{bmatrix}\n",
        "\tw_0 \\\\\n",
        "\tw_1 \\\\\n",
        "\tw_2 \\\\\n",
        "  . \\\\\n",
        "  . \\\\\n",
        "  w_d\n",
        "\t\\end{bmatrix}$"
      ],
      "metadata": {
        "id": "YRABJIrelmVn"
      }
    },
    {
      "cell_type": "markdown",
      "source": [
        "#### Recap"
      ],
      "metadata": {
        "id": "x6qnieNQmDby"
      }
    },
    {
      "cell_type": "markdown",
      "source": [
        "To solve this task, let's first recap what we have learnt in linear regression"
      ],
      "metadata": {
        "id": "-uutWl7_mGsB"
      }
    },
    {
      "cell_type": "markdown",
      "source": [
        "<img src=\"https://d2beiqkhq929f0.cloudfront.net/public_assets/assets/000/036/854/original/image_2023-06-14_184108752.png?1686748270\" width=900 height=700>"
      ],
      "metadata": {
        "id": "ZtEPtYYfmpUJ"
      }
    },
    {
      "cell_type": "markdown",
      "source": [
        "Linear Regression was able to predict continuous values in the range of (-$∞$,$∞$)\n",
        "- The linear model is a hyperplane with the eqn. $w^Tx^{(i)} + w_0$\n",
        "- We can simply predict the value by inserting $x^{(i)}$ in the above equation\n",
        "- The loss function was MSE = $\\frac{1}{m}\\sum_{i=1}^{m}(y^{(i)}-\\hat{y}^{(i)})^2$\n",
        "\n",
        "But in our problem, we need to classify the values."
      ],
      "metadata": {
        "id": "6kyYoX8Mmvxm"
      }
    },
    {
      "cell_type": "markdown",
      "source": [
        "#### What kind of algorithm is logistic regression?"
      ],
      "metadata": {
        "id": "nzNydBqHosvW"
      }
    },
    {
      "cell_type": "markdown",
      "source": [
        "- It is a supervised algorithm\n",
        "- Mainly used for classification tasks\n",
        "- Can only solve binary classification problems"
      ],
      "metadata": {
        "id": "fVTIjuPCopxx"
      }
    },
    {
      "cell_type": "markdown",
      "source": [
        "**Do you guys remember the fish sorting problem from \"Maths for ML\" module?**\n",
        "\n",
        "It can be stated as,\n",
        "$D = \\{(x^{(i)}, y^{(i)})^m_{i=1}; x^{(i)} \\in R^d; y^{(i)} \\in \\{0,1\\}, y^{(i)} ∉ R\\}$\n",
        "\n",
        "For any given value of x, y belongs only to either 0 or 1, and it can't be a real number other than 0  and 1\n",
        "\n",
        "Our customer churn problem is very similar to this"
      ],
      "metadata": {
        "id": "3CbAJSl-o4A_"
      }
    },
    {
      "cell_type": "markdown",
      "source": [
        "<img src=\"https://d2beiqkhq929f0.cloudfront.net/public_assets/assets/000/036/618/original/image_2023-06-12_170400234.png?1686569642\" width=700 height=600>"
      ],
      "metadata": {
        "id": "OGaL5dovq7g9"
      }
    },
    {
      "cell_type": "markdown",
      "source": [
        "The task in classification is to be able to separate the two classes\n",
        "- The hyperplane above is very similar to the one we studied in linear regression.\n",
        "- The **main difference** is\n",
        "\n",
        "  - In Lin. Reg., we were finding the line of best fit in d+1 dimensional space,i.e., d feature and y (target variable)\n",
        "  - But in Logistic Regression, we are looking for a hyperplane in d-dimensional space."
      ],
      "metadata": {
        "id": "ITffdepYrah-"
      }
    },
    {
      "cell_type": "markdown",
      "source": [
        "We know a linaer regression model gives output as a continous value from $-∞$ to $∞$.\n",
        "\n",
        "#### What should we modify in a linear model to be able to give values as either 0 or 1?"
      ],
      "metadata": {
        "id": "4aUB1zM9rs6V"
      }
    },
    {
      "cell_type": "markdown",
      "source": [
        "We will use something called as thresholding"
      ],
      "metadata": {
        "id": "tPT8HVSGshon"
      }
    },
    {
      "cell_type": "markdown",
      "source": [
        "## Thresholding and Step Function"
      ],
      "metadata": {
        "id": "fJVAuMjvsld3"
      }
    },
    {
      "cell_type": "markdown",
      "source": [
        "We know $y^{(i)}=w^Tx^{(i)}+w_0 \\in \\{-∞,∞\\}$\n",
        "\n",
        "We now apply a function g() over this to threshold the values to {0,1}\n",
        "\n",
        "So,\n",
        "\n",
        "=> $z^i=w^Tx^{(i)}+w_0 \\xrightarrow{\\text{g()}}=\\{0,1\\}$"
      ],
      "metadata": {
        "id": "_d7cOvuiy3Hq"
      }
    },
    {
      "cell_type": "markdown",
      "source": [
        "#### What function can we use to threshold the values?"
      ],
      "metadata": {
        "id": "bhDp2JwG0Bm4"
      }
    },
    {
      "cell_type": "markdown",
      "source": [
        "We can select our own threshold value, and set the condition based on that.\n",
        "\n",
        "The function would look like a step."
      ],
      "metadata": {
        "id": "GS2rn3zB0Gna"
      }
    },
    {
      "cell_type": "markdown",
      "source": [
        "<!-- ![](https://d2beiqkhq929f0.cloudfront.net/public_assets/assets/000/036/203/original/image_2023-06-07_040209045.png?1686090730) -->\n",
        "\n",
        "<img src=\"https://d2beiqkhq929f0.cloudfront.net/public_assets/assets/000/036/203/original/image_2023-06-07_040209045.png?1686090730\" width=\"600\" height=\"600\">\n"
      ],
      "metadata": {
        "id": "D8jp9tHT1uio"
      }
    },
    {
      "cell_type": "markdown",
      "source": [
        "Whenever $z^i$ >= threshold, its 1, else it's 0"
      ],
      "metadata": {
        "id": "YLOFE9g919Th"
      }
    },
    {
      "cell_type": "markdown",
      "source": [
        "#### Do you notice a problem with this step function?"
      ],
      "metadata": {
        "id": "EyTeHbmY28fm"
      }
    },
    {
      "cell_type": "markdown",
      "source": [
        "It is non-differentiable, and hence, we cannot perform derivative operation."
      ],
      "metadata": {
        "id": "vhKXskXS3UqS"
      }
    },
    {
      "cell_type": "markdown",
      "source": [
        "#### What better function can we use other than step function to threshold our values?"
      ],
      "metadata": {
        "id": "KzbcbqWC3kmb"
      }
    },
    {
      "cell_type": "markdown",
      "source": [
        "## Sigmoid/Logistic Function"
      ],
      "metadata": {
        "id": "fYoziVau3so2"
      }
    },
    {
      "cell_type": "markdown",
      "source": [
        "The term \"logistic regression\" comes from this function\n",
        "- At the base, it's doing regression only\n",
        "- On top of Regression, we are applying logistic function, hence logistic regression"
      ],
      "metadata": {
        "id": "PtZ47l_2CCBZ"
      }
    },
    {
      "cell_type": "markdown",
      "source": [
        "#### What is the sigmoid function?"
      ],
      "metadata": {
        "id": "hIRbhx4cCRlN"
      }
    },
    {
      "cell_type": "markdown",
      "source": [
        "<!-- ![](https://d2beiqkhq929f0.cloudfront.net/public_assets/assets/000/036/204/original/image_2023-06-07_050559293.png?1686094560) -->\n",
        "\n",
        "<img src=\"https://d2beiqkhq929f0.cloudfront.net/public_assets/assets/000/036/204/original/image_2023-06-07_050559293.png?1686094560\" width=\"600\" height=\"600\">"
      ],
      "metadata": {
        "id": "i6ZVG87GEd_z"
      }
    },
    {
      "cell_type": "markdown",
      "source": [
        "The sigmoid function, denoted by sigma $σ$, is differentiable as can be seen.\n",
        "\n",
        "- As $z^{(i)}$ tends to $\\infty$, $σ(z^{(i)})$ tends to 1\n",
        "- As $z^{(i)}$ tends to $-\\infty$, $σ(z^{(i)})$ tends to 0\n",
        "- For $z^{(i)}$ = 0, $σ(z^{(i)})$ = 0.5\n"
      ],
      "metadata": {
        "id": "sQKB-aXNEiTX"
      }
    },
    {
      "cell_type": "markdown",
      "source": [
        "#### How to we calculate $σ(z^i)$ mathematically?\n",
        "\n"
      ],
      "metadata": {
        "id": "XFA8Z9y5F1Iw"
      }
    },
    {
      "cell_type": "markdown",
      "source": [
        "$σ(z^i) = \\frac{1}{1+e^{-z^i}} = \\frac{1}{1+e^{-(w^Tx^i+w_0)}}$"
      ],
      "metadata": {
        "id": "gyPk0G-4F4B4"
      }
    },
    {
      "cell_type": "markdown",
      "source": [
        "## Implementation"
      ],
      "metadata": {
        "id": "HD02k5EMFtM-"
      }
    },
    {
      "cell_type": "markdown",
      "metadata": {
        "id": "-J9w8JjccTea"
      },
      "source": [
        "#### Defining sigmoid function"
      ]
    },
    {
      "cell_type": "code",
      "execution_count": 41,
      "metadata": {
        "id": "5juiZKIjcTvE"
      },
      "outputs": [],
      "source": [
        "def sigmoid(x):\n",
        "    return 1/(1+np.e**-x)"
      ]
    },
    {
      "cell_type": "code",
      "source": [
        "sigmoid(1.99)"
      ],
      "metadata": {
        "colab": {
          "base_uri": "https://localhost:8080/"
        },
        "id": "XKtQ78n18cI2",
        "outputId": "014b556a-f5b0-4f2b-a21b-f750575654bf"
      },
      "execution_count": 42,
      "outputs": [
        {
          "output_type": "execute_result",
          "data": {
            "text/plain": [
              "0.8797431375322491"
            ]
          },
          "metadata": {},
          "execution_count": 42
        }
      ]
    },
    {
      "cell_type": "code",
      "source": [
        "sigmoid(0)"
      ],
      "metadata": {
        "colab": {
          "base_uri": "https://localhost:8080/"
        },
        "id": "aFXoQ9lh9EQj",
        "outputId": "8de0196c-e520-4511-b28d-583abfe940af"
      },
      "execution_count": 43,
      "outputs": [
        {
          "output_type": "execute_result",
          "data": {
            "text/plain": [
              "0.5"
            ]
          },
          "metadata": {},
          "execution_count": 43
        }
      ]
    },
    {
      "cell_type": "code",
      "source": [
        "sigmoid(-0.9)"
      ],
      "metadata": {
        "colab": {
          "base_uri": "https://localhost:8080/"
        },
        "id": "hB_8WHvn9GfH",
        "outputId": "880a3096-7279-4c17-c152-21d6c06e26fb"
      },
      "execution_count": 44,
      "outputs": [
        {
          "output_type": "execute_result",
          "data": {
            "text/plain": [
              "0.28905049737499605"
            ]
          },
          "metadata": {},
          "execution_count": 44
        }
      ]
    },
    {
      "cell_type": "markdown",
      "metadata": {
        "id": "A1X6zp6XcgNP"
      },
      "source": [
        "#### Visualizing sigmoid"
      ]
    },
    {
      "cell_type": "code",
      "execution_count": 45,
      "metadata": {
        "colab": {
          "base_uri": "https://localhost:8080/",
          "height": 449
        },
        "id": "ymQiSB7Vcdzm",
        "outputId": "47707c3e-0dcb-4058-adb9-91d46dcb704f"
      },
      "outputs": [
        {
          "output_type": "display_data",
          "data": {
            "text/plain": [
              "<Figure size 640x480 with 1 Axes>"
            ],
            "image/png": "[encoded data removed]"
          },
          "metadata": {}
        }
      ],
      "source": [
        "x = np.linspace(-10, 10, 100) # 100 equidistant points between -10 and 10\n",
        "y = sigmoid(x)\n",
        "plt.plot(x, y)\n",
        "plt.xlabel(\"x\")\n",
        "plt.ylabel(\"Sigmoid(X)\")\n",
        "plt.grid()\n",
        "plt.show()"
      ]
    },
    {
      "cell_type": "markdown",
      "source": [
        "Observe,\n",
        "\n",
        "- The curve of sigmoid looks exactly like an S shape curve with cutting the y axis for x=0, at y=0.5"
      ],
      "metadata": {
        "id": "SNaUxWKk9VpQ"
      }
    },
    {
      "cell_type": "markdown",
      "source": [
        "Now that we have the sigmoid function, what loss function should we use?"
      ],
      "metadata": {
        "id": "3Z7AP4Rhslkz"
      }
    },
    {
      "cell_type": "markdown",
      "source": [
        "#### What are the properties of sigmoid function?\n"
      ],
      "metadata": {
        "id": "cQEoVMeLH8KL"
      }
    },
    {
      "cell_type": "markdown",
      "source": [
        "- It is smooth and differentiable\n",
        "- Also called squashing function, since it squashes the infinite values to (0,1)\n",
        "- Can be used as probabilities of class 1\n",
        "- It's monotonic in nature (non-decreasinng)\n",
        "  - At any moment, if we take two points $x_1$ > $x_2$, $σ(x_1)$ will always be greater than $σ(x_2)$"
      ],
      "metadata": {
        "id": "0UId-390IJ0H"
      }
    },
    {
      "cell_type": "markdown",
      "source": [
        "The output of sigmoid function can be thought of as a probability of a point belonging to class 1\n",
        "\n",
        "$\\hat{y}^{(i)}=P(y^i=1|x^i)$\n",
        "\n",
        "E.g.\n",
        "=> If we get sigmoid value as 0.18, it means there's a 18% chance the point belongs to class 1"
      ],
      "metadata": {
        "id": "kx731e-PGlIG"
      }
    },
    {
      "cell_type": "markdown",
      "source": [
        "There is one issue though with sigmoid function.\n",
        "\n",
        "#### What is a problem with sigmoid function being used for classification?"
      ],
      "metadata": {
        "id": "-4H71WNAFPVC"
      }
    },
    {
      "cell_type": "markdown",
      "source": [
        "We are getting continuous values in the range of {0,1}\n",
        "\n",
        "Can you suggest a way to convert this to categorical values?\n",
        "\n",
        "#### **Thresholding**\n",
        "\n",
        "We can take a threshold of 0.5\n",
        "\n",
        "So values >= 0.5 will be 1, else 0"
      ],
      "metadata": {
        "id": "WCAkctpAGP0Y"
      }
    },
    {
      "cell_type": "markdown",
      "source": [
        "## Geometric Interpretation of Sigmoid"
      ],
      "metadata": {
        "id": "hxSZIbnFk4va"
      }
    },
    {
      "cell_type": "markdown",
      "source": [
        "**Quiz **  (What do you think?)\n",
        "\n",
        "![](https://d2beiqkhq929f0.cloudfront.net/public_assets/assets/000/036/476/original/image_2023-06-09_144901538.png?1686302353)\n",
        "\n",
        "```\n",
        "Which point will have a higher probability of belonging to class 1?\n",
        "\n",
        "A. x1\n",
        "B. x2\n",
        "C. Equal probability\n",
        "D. Can't be said from this information\n",
        "\n",
        "Ans: x1\n",
        "```\n",
        "Explanation:\n",
        "x1 will have a larger distance from the plane, so the $\\sigma$ value will be higher for x1"
      ],
      "metadata": {
        "id": "gdud2qPTctkl"
      }
    },
    {
      "cell_type": "markdown",
      "source": [
        "Let's draw a scatterplot for 2 features, with 2 classes as output\n",
        "\n",
        "Here, $π$ is the model, also called the separating hyperplane"
      ],
      "metadata": {
        "id": "TxUFkTc_ybrF"
      }
    },
    {
      "cell_type": "markdown",
      "source": [
        "<!-- ![](https://d2beiqkhq929f0.cloudfront.net/public_assets/assets/000/036/230/original/image_2023-06-07_124743184.png?1686122265) -->\n",
        "\n",
        "<img src=\"https://d2beiqkhq929f0.cloudfront.net/public_assets/assets/000/036/230/original/image_2023-06-07_124743184.png?1686122265\" width=\"600\" height=\"600\">"
      ],
      "metadata": {
        "id": "HogBTTqcuC6_"
      }
    },
    {
      "cell_type": "markdown",
      "source": [
        "Let's take a point $x^1$\n",
        "\n",
        "- We know, $z^{(1)}$ = $W^Tx^{(1)}+w_0$, let's assume this value to be 1.99\n",
        "- $\\sigma(z^{(1)})=0.88$\n",
        "- This implies, the point $x^{(1)}$ has a 88% probability of belonging to class 1(yellow points)\n",
        "\n",
        "All the points above the line will have $z^{(i)} > 0$, hence $σ(z^i)>0.5$, so they will be assigned to class 1\n"
      ],
      "metadata": {
        "id": "KXOSZgmyyp6L"
      }
    },
    {
      "cell_type": "markdown",
      "source": [
        "Let's take the point $x^{(2)}$\n",
        "\n",
        "- Let's assume this value to be -0.9. (will be negative since below the line)\n",
        "- $\\sigma(z^{(2)})=0.29$\n",
        "- This implies, the point $x^{(2)}$ has a 29% probability of belonging to class 1, or 71% probability of belonging to class 0\n",
        "\n",
        "All the points below the line will have $z^{(i)} < 0$, hence $σ(z^{(i)})<0.5$, so they will be assigned to class 0\n"
      ],
      "metadata": {
        "id": "ae-Ne-1o0Q21"
      }
    },
    {
      "cell_type": "markdown",
      "source": [
        "Similarly, for point $x^{(3)}$, $z^{(3)}=0$, so $σ(z^{(i)})=0.5$, and since our threshold is 0.5, it will belong to class 1"
      ],
      "metadata": {
        "id": "8XEzTdKu05EY"
      }
    },
    {
      "cell_type": "markdown",
      "source": [
        "**Conclusion:**\n",
        "\n",
        "- Closer the point is to hyperplane,\n",
        "    - more unsure we are with its probability of it belonging to a specific class\n",
        "\n",
        "- Farther it is from hyperplane,\n",
        "    - more confident we are of it belonging to specific class."
      ],
      "metadata": {
        "id": "W_E0CoxGMCj9"
      }
    },
    {
      "cell_type": "markdown",
      "source": [
        "**Quiz ** (Check your understanding)\n",
        "\n",
        "![](https://d2beiqkhq929f0.cloudfront.net/public_assets/assets/000/036/478/original/image_2023-06-09_145616657.png?1686302778)\n",
        "```\n",
        "Which point will have a higher probability of belonging to class 1?\n",
        "\n",
        "A. x1\n",
        "B. x2\n",
        "\n",
        "Ans: x1\n",
        "```\n",
        "\n",
        "Explanation:\n",
        "- x1 is nearer to the line, while x2 is farther, on the negavtive side.\n",
        "- Hence x2 will have a higher chance of belonging to class 0,\n",
        "- which conversely means it will have a lower chance than x1 to belong to the class 1\n"
      ],
      "metadata": {
        "id": "R2FQvvVsqlUR"
      }
    },
    {
      "cell_type": "markdown",
      "metadata": {
        "id": "pdA0DrprM6p0"
      },
      "source": [
        "# **Maximum Log-likelihood**"
      ]
    },
    {
      "cell_type": "markdown",
      "source": [
        "Recall, we learnt that sigmoid is just like a conditional probability\n",
        "\n",
        "$P(y^{(i)}= 1|x^{(i)}) = σ(w^Tx^{(i)} + w_0)$ and\n",
        "\n",
        "$P(y^{(i)} = 0|x^{(i)}) = 1 - P(y^{(i)} = 1|x^{(i)})$"
      ],
      "metadata": {
        "id": "eOE7XR0k6u78"
      }
    },
    {
      "cell_type": "markdown",
      "metadata": {
        "id": "st6oQ5Z9zjfp"
      },
      "source": [
        "<!-- ![](https://d2beiqkhq929f0.cloudfront.net/public_assets/assets/000/036/367/original/image_2023-06-08_121629941.png?1686206792) -->\n",
        "\n",
        "\n",
        "<img src = \"https://d2beiqkhq929f0.cloudfront.net/public_assets/assets/000/036/802/original/image_2023-06-14_160836011.png?1686739118\" width=\"700\" height=\"600\">"
      ]
    },
    {
      "cell_type": "markdown",
      "metadata": {
        "id": "KI_wrG50gsKP"
      },
      "source": [
        "Lets call $ P(y^{(i)} = 1|x^{(i)}) = p$, then we can say:\n",
        "\n",
        "\n",
        "$P(y^{(i)} = 1 |x^{(i)}) = $\n",
        "\\begin{cases}\n",
        " \\text{$p \\ \\  \\ \\ \\ \\ \\ \\ $ if $y^{(i)} = 1$} \\\\\n",
        " \\text{$1-p \\ $ if $y^{(i)} = 0$}\n",
        "\\end{cases}\n",
        "\n",
        "\n",
        "\n",
        "<br>\n",
        "\n",
        "**Observe**\n",
        "\n",
        "This is nothing but a Bernoulli Distribution\n",
        "\n",
        "<br>\n",
        "\n",
        "\n",
        "\n",
        "\n",
        "\n",
        "\n",
        "\n",
        "\n"
      ]
    },
    {
      "cell_type": "markdown",
      "source": [
        "#### What will be the Probability Distribution Function (pdf) of a Bernoulli Distribution ?\n",
        "\n",
        "Ans: $pdf = p^y (1-p)^{(1-y)}$\n",
        "\n",
        "#### If there are n samples, what will be the Likelihood ?\n",
        "\n",
        "Ans: Likelihood $= ∏_{i=1}^{n} pdf = ∏_{i=1}^{n} {p^{(i)}}^{y{(i)}} (1-p^{(i)}) ^{(1-y^{(i)})}$\n"
      ],
      "metadata": {
        "id": "_Dlb4Vqb6qEr"
      }
    },
    {
      "cell_type": "markdown",
      "source": [
        "#### <font color='green' >(Optional)</font> Difference between likelihood and probability ?"
      ],
      "metadata": {
        "id": "OSABkoElVo-X"
      }
    },
    {
      "cell_type": "markdown",
      "source": [
        "Let's try to understand the difference between likelihood and probability\n",
        "\n",
        "Say, we plot the distribution of data of **students scores in module test**\n",
        "\n",
        "- x axis is the marks and y axis the frequency (or density as in a kde plot)\n",
        "\n",
        "Our task is to find the **probability** of a student's score lying in the range of 60 to 70\n"
      ],
      "metadata": {
        "id": "dftYHobXVo-X"
      }
    },
    {
      "cell_type": "markdown",
      "source": [
        "<img src=\"https://d2beiqkhq929f0.cloudfront.net/public_assets/assets/000/036/991/original/image_2023-06-16_182444262.png?1686920086\" height=600 width=600>"
      ],
      "metadata": {
        "id": "yyrF63f3ReVR"
      }
    },
    {
      "cell_type": "markdown",
      "source": [
        "The probability can be said as\n",
        "- the area under the distribution curve for the range of 60 and 70\n",
        "- in this case it would be 0.29, or 29%\n",
        "\n",
        "The notation would be\n",
        "- $pr(data|distribution)$"
      ],
      "metadata": {
        "id": "iEQMw18GRjzy"
      }
    },
    {
      "cell_type": "markdown",
      "source": [
        "#### What about likelihood?\n",
        "\n",
        "Say we want to find the likelihood of a student getting 63 marks?"
      ],
      "metadata": {
        "id": "R9kpG_9mSLr3"
      }
    },
    {
      "cell_type": "markdown",
      "source": [
        "<img src=\"https://d2beiqkhq929f0.cloudfront.net/public_assets/assets/000/036/992/original/image_2023-06-16_182956942.png?1686920398\" height=600 width=600>"
      ],
      "metadata": {
        "id": "Wuf3DMxLSs52"
      }
    },
    {
      "cell_type": "markdown",
      "source": [
        "That would simply be the value on the y-axis for the distribution, in this cae, 0.12\n",
        "\n",
        "The notation would be\n",
        "- $L(dist.|data)$"
      ],
      "metadata": {
        "id": "BEKGZHpoSyzk"
      }
    },
    {
      "cell_type": "markdown",
      "source": [
        "So what's the major difference?\n",
        "\n",
        "- In likelihood the data is fixed, we move the distribution to fit the data.\n",
        "- In probability, we change the data as per our requirement.\n",
        "\n",
        "On a simpler terms,\n",
        "- Probability refers to the possibility of something happening\n",
        "- While likelihood refers to determining the data distribution for a given data point\n"
      ],
      "metadata": {
        "id": "KRpXIH16TLq_"
      }
    },
    {
      "cell_type": "markdown",
      "source": [
        "#### So how is this conneted to MLE in logistic regression?\n",
        "\n",
        "- Likelihood function determines the distribution given some observed data\n",
        "- In logistic regression, we are given the observed data for which we are trying to find the parameters to\n",
        "- MLE maximizes the likelihood of the likelihood function to be able to estimate the parameters of the observed data"
      ],
      "metadata": {
        "id": "qCED-EorVo-Z"
      }
    },
    {
      "cell_type": "markdown",
      "source": [
        "<!-- **Assume** we toss a fair coin.\n",
        "\n",
        "**What'll be the probability of getting a heads?**\n",
        "=> 1/2 or 0.5\n",
        "\n",
        "**What'll be the probability of getting a tails?**\n",
        "- Same. 0.5\n",
        "\n",
        "Notice that\n",
        "- when calculating probability or how likely a specific outcome will occur\n",
        "- we started off with an assumed condition\n",
        "\n",
        "The condition in this case was **fair coin** -->\n"
      ],
      "metadata": {
        "id": "qlkK9-n7P0eN"
      }
    },
    {
      "cell_type": "markdown",
      "source": [
        "<!--\n",
        "Now take **another example**:\n",
        "\n",
        "Say, we tossed a coin 10 times.\n",
        "- Out of 10 we got 8 heads and 2 tails.\n",
        "\n",
        "based on this, we want to know whether it is a fair coin or biased coin.\n",
        "\n",
        "Notice that\n",
        "- this time there is **no assumption** whether we have fair coin or baised coin\n",
        "- and we are provided with observed data (coin tossed 10 times.)\n",
        "\n",
        "Based on this, we get the **likelihood**\n",
        "- i.e. get the plausibility of hypothesis based on observed data.\n",
        "\n",
        "It is basically reverse engineering.\n",
        "- Instead of giving us a assumption,\n",
        "    - we are given a data and have been asked to whether the assumption will hold for this data.\n",
        "    - This is where we calculate the likelihood of it.\n",
        "\n",
        "\n",
        " -->\n"
      ],
      "metadata": {
        "id": "NGTEgZrSWfm6"
      }
    },
    {
      "cell_type": "markdown",
      "source": [
        "<!--\n",
        "**So, why likelihood when performing MLE?**\n",
        "\n",
        "In logistic regression, We are trying to **find the parameters** of a model based on **observed data**\n",
        "\n",
        "\n",
        "- and likelihood tells us plausibility of how well the chosen parameters explain the observed data. -->"
      ],
      "metadata": {
        "id": "gEInc4eLWiPB"
      }
    },
    {
      "cell_type": "markdown",
      "source": [
        "### Maximizing Likelihood Estimation"
      ],
      "metadata": {
        "id": "r2sVdv8nZtNL"
      }
    },
    {
      "cell_type": "markdown",
      "source": [
        "<img src=\"https://d2beiqkhq929f0.cloudfront.net/public_assets/assets/000/036/855/original/image_2023-06-14_184500587.png?16867485016\" width=\"700\" height=\"700\">\n"
      ],
      "metadata": {
        "id": "2Pc2eYMMzbJi"
      }
    },
    {
      "cell_type": "markdown",
      "source": [
        "Taking log:\n",
        "\n",
        "$$log-Likelihood = log(∏_{i=1}^{m} {p^{(i)}}^{y^{(i)}} (1-p^{(i)}) ^{(1-y^{(i)})}) $$\n",
        "\n",
        "Since we know $log(a^b) = blog(a)$ and $log(a \\times b) = log(a) + log(b)$\n",
        "\n",
        "$$log-Likelihood = ∑_{i=1}^{m} y^{(i)}log(p^{(i)}) + (1-y^{(i)})log(1-p^{(i)}) $$\n",
        "\n",
        "<br>\n",
        "\n",
        "\n",
        "#### As Gradient Descent works to minimize the function , how to convert log-likelihood  into a minimizing function ?\n",
        "\n",
        "Ans: Negate the whole equation.\n",
        "\n",
        "\n",
        "$$log-Likelihood = -( ∑_{i=1}^{m} y^{(i)}log(p^{(i)}) + (1-y^{(i)})log(1-p^{(i)}) )$$\n",
        "\n",
        "**Note**\n",
        "- This negative log-likelihood is called as **LogLoss**"
      ],
      "metadata": {
        "id": "MGkilDRAzfzH"
      }
    },
    {
      "cell_type": "markdown",
      "source": [
        "Let's break it down into a more simpler form\n",
        "\n"
      ],
      "metadata": {
        "id": "bqsGeQw6Xeri"
      }
    },
    {
      "cell_type": "markdown",
      "source": [
        "We can write the above as:\n"
      ],
      "metadata": {
        "id": "vPinFFX-X3H3"
      }
    },
    {
      "cell_type": "markdown",
      "source": [
        "![](https://d2beiqkhq929f0.cloudfront.net/public_assets/assets/000/036/390/original/image_2023-06-08_151021163.png?1686217222)"
      ],
      "metadata": {
        "id": "xH1FQXw_YSHX"
      }
    },
    {
      "cell_type": "markdown",
      "source": [
        "We plot the error vs prediction plot for $y^{(i)}=0$ and $y^{(i)}=1$"
      ],
      "metadata": {
        "id": "XngfTOXG8RJ4"
      }
    },
    {
      "cell_type": "markdown",
      "source": [
        "![](https://d2beiqkhq929f0.cloudfront.net/public_assets/assets/000/036/389/original/image_2023-06-08_150634589.png?1686217005)\n"
      ],
      "metadata": {
        "id": "ifP-VqZCXjro"
      }
    },
    {
      "cell_type": "markdown",
      "source": [
        "We can further generlize it as:\n"
      ],
      "metadata": {
        "id": "gyWynnAEYTEx"
      }
    },
    {
      "cell_type": "markdown",
      "source": [
        "<img src=\"https://d2beiqkhq929f0.cloudfront.net/public_assets/assets/000/036/616/original/image_2023-06-12_165820582.png?1686569303\" width=600>\n",
        "\n"
      ],
      "metadata": {
        "id": "BWy0HZ1IYbzg"
      }
    },
    {
      "cell_type": "markdown",
      "source": [
        "Notice, this is the same as our negative log likelihood we dervied earlier\n"
      ],
      "metadata": {
        "id": "wNtLUgaoZuRD"
      }
    },
    {
      "cell_type": "markdown",
      "source": [
        "### Why can't we use MSE as loss for classification?"
      ],
      "metadata": {
        "id": "xKENuLyDatTL"
      }
    },
    {
      "cell_type": "markdown",
      "source": [
        "Before we dive into this, let's look at convex and non convex fuction"
      ],
      "metadata": {
        "id": "IBvvuAixjhHf"
      }
    },
    {
      "cell_type": "markdown",
      "source": [
        "![image.png](data:image/png;base64,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)"
      ],
      "metadata": {
        "id": "nbu-FhBEjrfJ"
      }
    },
    {
      "cell_type": "markdown",
      "source": [
        "Notice that\n",
        "- convex function has only single minima i.e. global minima\n",
        "- while non convex has more than one minima i.e. local as well as global minima"
      ],
      "metadata": {
        "id": "DTtFrqy0jvYg"
      }
    },
    {
      "cell_type": "markdown",
      "source": [
        "#### What function would you prefer when solving for optimization problem of logisitic regression ?"
      ],
      "metadata": {
        "id": "78PEpdKGj4T6"
      }
    },
    {
      "cell_type": "markdown",
      "source": [
        "Convex, right ?\n",
        "\n",
        "If we choose non convex function\n",
        "- then there is a change that we'll get stuck in local minima while solving using SGD\n",
        "- and won't be able to reach optimal solution"
      ],
      "metadata": {
        "id": "sd_RpR6rkG5z"
      }
    },
    {
      "cell_type": "markdown",
      "source": [
        "So, we want convex function"
      ],
      "metadata": {
        "id": "ez5IdfhvkUZI"
      }
    },
    {
      "cell_type": "markdown",
      "source": [
        "**But, if we choose MSE with sigmoid, it'll be a non convex function.**\n",
        "- and we may not reach optimal solution.\n",
        "\n"
      ],
      "metadata": {
        "id": "1ZOfacRcknQJ"
      }
    },
    {
      "cell_type": "markdown",
      "source": [
        "#### But, we use MSE for linear regression. It was giving optimal solution. Why didn't we face this issue over there?\n",
        "\n",
        "Yes. Pay attention\n",
        "\n",
        "- **MSE when used with sigmoid as predictor** turns out to be non convex.\n",
        "\n",
        "We didn't use sigmoid as predictor in linear regression. Hence, it was convex over there"
      ],
      "metadata": {
        "id": "ftQlu0jXlxEQ"
      }
    },
    {
      "cell_type": "markdown",
      "source": [
        "#### Why MSE used with sigmoid is non convex?\n",
        "\n",
        "There's a mathematical proof behind it. If you are interested, you can read more here: https://towardsdatascience.com/why-not-mse-as-a-loss-function-for-logistic-regression-589816b5e03c"
      ],
      "metadata": {
        "id": "kJUV2SbUlqt9"
      }
    },
    {
      "cell_type": "markdown",
      "source": [
        "Hence, **we choose logloss with sigmoid**\n",
        "- which is a convex function\n",
        "\n",
        "and gurantees that we reach optimal solution."
      ],
      "metadata": {
        "id": "RLs6GKEJk_Bx"
      }
    },
    {
      "cell_type": "markdown",
      "source": [
        "### Let's implement log-loss now\n"
      ],
      "metadata": {
        "id": "kXe6s_5KnT85"
      }
    },
    {
      "cell_type": "code",
      "source": [
        "# Loss for a single point\n",
        "def log_loss(y, y_hat):\n",
        "  loss = y*np.log(y_hat)+(1-y)*np.log(1-y_hat)\n",
        "  return -loss"
      ],
      "metadata": {
        "id": "cFqV33F3nTdW"
      },
      "execution_count": 46,
      "outputs": []
    },
    {
      "cell_type": "code",
      "source": [
        "# Case 1, yi=1, high pi\n",
        "log_loss(1, 0.99999)"
      ],
      "metadata": {
        "id": "B2WfSfog9dr8",
        "colab": {
          "base_uri": "https://localhost:8080/"
        },
        "outputId": "e9db0ea7-ce3b-47ba-9342-f7296f39dbfc"
      },
      "execution_count": 49,
      "outputs": [
        {
          "output_type": "execute_result",
          "data": {
            "text/plain": [
              "1.0000050000287824e-05"
            ]
          },
          "metadata": {},
          "execution_count": 49
        }
      ]
    },
    {
      "cell_type": "markdown",
      "source": [
        "Observe, how small log loss is"
      ],
      "metadata": {
        "id": "MT3E9xPe9pVT"
      }
    },
    {
      "cell_type": "code",
      "source": [
        "# Case 2, yi = 1, pi =0.5\n",
        "\n",
        "log_loss(1, 0.5)"
      ],
      "metadata": {
        "colab": {
          "base_uri": "https://localhost:8080/"
        },
        "id": "KvmSXe37qIKM",
        "outputId": "f8fbb9e1-a5fd-44c8-bb08-2a7582606e16"
      },
      "execution_count": 50,
      "outputs": [
        {
          "output_type": "execute_result",
          "data": {
            "text/plain": [
              "0.6931471805599453"
            ]
          },
          "metadata": {},
          "execution_count": 50
        }
      ]
    },
    {
      "cell_type": "code",
      "source": [
        "# Case 3, yi = 1, low pi\n",
        "\n",
        "log_loss(1, 0.001)"
      ],
      "metadata": {
        "colab": {
          "base_uri": "https://localhost:8080/"
        },
        "id": "PTzJ90f9qKPv",
        "outputId": "3136e854-ff53-4700-a822-3dc9bd8347fc"
      },
      "execution_count": 53,
      "outputs": [
        {
          "output_type": "execute_result",
          "data": {
            "text/plain": [
              "6.907755278982137"
            ]
          },
          "metadata": {},
          "execution_count": 53
        }
      ]
    },
    {
      "cell_type": "code",
      "source": [
        "log_loss(0,0.01)"
      ],
      "metadata": {
        "colab": {
          "base_uri": "https://localhost:8080/"
        },
        "id": "DYpf0wIeuKAV",
        "outputId": "908a1328-2da9-49a8-f2b1-2e71a7c39e9c"
      },
      "execution_count": 54,
      "outputs": [
        {
          "output_type": "execute_result",
          "data": {
            "text/plain": [
              "0.01005033585350145"
            ]
          },
          "metadata": {},
          "execution_count": 54
        }
      ]
    },
    {
      "cell_type": "markdown",
      "source": [
        "Observe, how high the log loss is"
      ],
      "metadata": {
        "id": "VCWNjsXR-Ibs"
      }
    },
    {
      "cell_type": "markdown",
      "source": [
        "**QUIZ ** (Check your knowledge)\n",
        "\n",
        "```\n",
        "Supposedly your y = 0 and ŷ = 0.01 , so what be the log-loss ?\n",
        "\n",
        "A. log-loss will be a very high value\n",
        "\n",
        "B. log-loss will be a very low value\n",
        "\n",
        "C. log-loss will be 0\n",
        "```\n",
        "**Answer**\n",
        "\n",
        "B. log-loss will be a very low value\n",
        "\n",
        "Explanation: This is similar to log_loss(1,0.99)\n"
      ],
      "metadata": {
        "id": "7MxWQO7FrnG5"
      }
    },
    {
      "cell_type": "markdown",
      "source": [
        "## Optimization"
      ],
      "metadata": {
        "id": "sSLynfXGraxC"
      }
    },
    {
      "cell_type": "markdown",
      "source": [
        "Let's now start with optimization of the NLL, i.e., perform gradient descent"
      ],
      "metadata": {
        "id": "Z_P2NuwoqanT"
      }
    },
    {
      "cell_type": "markdown",
      "source": [
        "#### Do we need regularization?\n",
        "\n",
        "Yes, we can add regularization to prevent overfitting of the model"
      ],
      "metadata": {
        "id": "0yBOOMW2rY74"
      }
    },
    {
      "cell_type": "markdown",
      "source": [
        "<img src=\"https://d2beiqkhq929f0.cloudfront.net/public_assets/assets/000/036/856/original/image_2023-06-14_184708703.png?1686748629\" width=600 height=600>"
      ],
      "metadata": {
        "id": "NvQtMqYx0CLp"
      }
    },
    {
      "cell_type": "markdown",
      "source": [
        "We already know the derivative of the regularization term:\n",
        "$2λw_j$\n",
        "\n",
        "So we just need to now perform argmin on the Loss function equation"
      ],
      "metadata": {
        "id": "NbA9qTA60R8M"
      }
    },
    {
      "cell_type": "markdown",
      "source": [
        "<img src=\"https://d2beiqkhq929f0.cloudfront.net/public_assets/assets/000/036/857/original/image_2023-06-14_184826743.png?1686748708\" width=700 height=700>"
      ],
      "metadata": {
        "id": "gJSltK8D3x2r"
      }
    },
    {
      "cell_type": "markdown",
      "source": [
        "Now that we know sigmoid  is differentiable, lets find the gradient of the log-loss,\n",
        "\n",
        "log-loss is defined as:\n",
        " $$Logloss (L) = min_{w_j}∑_{i=1}^m[-y^{(i)})\n",
        " log({\\hat{y}}^{(i)}) - (1-y^{(i)}))log(1-{\\hat{y}}^{(i)})]$$\n",
        "\n",
        "What all we know\n",
        "\n",
        "$$\\frac{d log(x)}{dx} = \\frac{1}{x}$$\n",
        "$$ σ'(z) = σ(z)(1-σ(z)) $$\n",
        "$$ \\frac{\\partial (w^Tx^{(i)})+w_0)}{\\partial w_j} = x_{j}^{(i)} $$\n"
      ],
      "metadata": {
        "id": "3kLVNS4i4VMK"
      }
    },
    {
      "cell_type": "markdown",
      "source": [
        "Let's take the derivative for one point, then we can later generalize for m points\n",
        "\n",
        "We know,\n",
        "$\\hat{y}=σ(z)=\\sigma (w_1x_1+w_2x_2+...+w_jx_j+....)$\n",
        "\n",
        "We will divide our equation into two parts, and apply the derivation on each of them"
      ],
      "metadata": {
        "id": "uzkSD9NV9YMn"
      }
    },
    {
      "cell_type": "markdown",
      "source": [
        "![image.png](https://d2beiqkhq929f0.cloudfront.net/public_assets/assets/000/036/419/original/image_2023-06-08_181924139.png?1686228566)"
      ],
      "metadata": {
        "id": "o3oudQmPDise"
      }
    },
    {
      "cell_type": "markdown",
      "source": [
        "Now Using the concept of chain rule for A:\n",
        "\n",
        "$$\\frac{\\partial LA}{\\partial w_j} = \\frac{\\partial A}{\\partial \\hat{y}} * \\frac{\\partial \\hat{y}}{\\partial z} * \\frac{\\partial z}{\\partial w_j} $$\n",
        "\n",
        "$$=> y(1-\\hat{y}) * x_j$$\n",
        "\n",
        "\n",
        "\n"
      ],
      "metadata": {
        "id": "8IeZqfN2FZE_"
      }
    },
    {
      "cell_type": "markdown",
      "source": [
        "![](https://d2beiqkhq929f0.cloudfront.net/public_assets/assets/000/036/420/original/image_2023-06-08_182013621.png?1686228615)"
      ],
      "metadata": {
        "id": "WDPzuOwHDmmw"
      }
    },
    {
      "cell_type": "markdown",
      "source": [
        "Similarly, for B,\n",
        "\n",
        "\n",
        "\n",
        "$$\\frac{\\partial LB}{\\partial w_j} = \\frac{\\partial B}{\\partial (1- \\hat{y})} *\\frac{\\partial (1-\\hat{y})}{\\partial \\hat{y}} * \\frac{\\partial \\hat{y}}{\\partial z} * \\frac{\\partial z}{\\partial w_j} $$\n",
        "\n",
        "$$=>-(1-y)*\\hat{y} * x_j$$\n",
        "\n",
        "\n",
        "\n"
      ],
      "metadata": {
        "id": "JSeYZRIaGu1R"
      }
    },
    {
      "cell_type": "markdown",
      "source": [
        "![](https://d2beiqkhq929f0.cloudfront.net/public_assets/assets/000/036/421/original/image_2023-06-08_182058379.png?1686228660)"
      ],
      "metadata": {
        "id": "W2i9kbmRDxvs"
      }
    },
    {
      "cell_type": "markdown",
      "source": [
        "Summing these\n",
        "\n",
        "$$\\frac{\\partial L}{\\partial w_j} = \\frac{\\partial LA}{\\partial w_j}+\\frac{\\partial LB}{\\partial w_j} $$\n",
        "$$=[y-\\hat{y}]x_j$$\n"
      ],
      "metadata": {
        "id": "Xv_BpeLDHYQ6"
      }
    },
    {
      "cell_type": "markdown",
      "source": [
        "<img src=\"https://d2beiqkhq929f0.cloudfront.net/public_assets/assets/000/036/858/original/image_2023-06-14_185306941.png?1686748988\" width=700 height=700>"
      ],
      "metadata": {
        "id": "g7kg2fCPD5UV"
      }
    },
    {
      "cell_type": "markdown",
      "source": [
        "For all points from 1 to m,\n",
        "\n",
        "$$\\frac{\\partial L}{\\partial w_j} = \\frac{1}{m}+\\sum_{i=1}^{m} (\\hat{y}^{(i)}-y^{(i)}*x^{(i)}_j $$\n",
        "\n",
        "Notice,\n",
        "\n",
        "this is same as linear regression.\n",
        "\n",
        "The only difference is\n",
        "\n",
        "- $\\hat{y}=w^Tx+w_0$ for linear regression\n",
        "- $\\hat{y}=σ(w^Tx+w_0)$ for logistic regression"
      ],
      "metadata": {
        "id": "iPlTzw8fIhbL"
      }
    },
    {
      "cell_type": "markdown",
      "source": [
        "Finally, the gradient descent will be the same as earlier"
      ],
      "metadata": {
        "id": "ddTg0E-xKpWo"
      }
    },
    {
      "cell_type": "markdown",
      "source": [
        "![](https://d2beiqkhq929f0.cloudfront.net/public_assets/assets/000/036/423/original/image_2023-06-08_182421119.png?1686228863)"
      ],
      "metadata": {
        "id": "KEYxpONZEqtu"
      }
    },
    {
      "cell_type": "markdown",
      "source": [
        "<font color='red'> The scratch implementation of LogisticRegression is in the PostRead. </font>\n",
        "- https://colab.research.google.com/drive/16OjEQ0RExT7AlgyasMlvyvdCt0TNB18m?usp=share_link"
      ],
      "metadata": {
        "id": "RNU4teES3cei"
      }
    },
    {
      "cell_type": "code",
      "source": [],
      "metadata": {
        "id": "OhMTF11r3kNN"
      },
      "execution_count": null,
      "outputs": []
    }
  ]
}