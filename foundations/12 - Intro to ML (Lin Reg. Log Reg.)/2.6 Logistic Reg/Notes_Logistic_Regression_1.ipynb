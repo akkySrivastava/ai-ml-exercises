{
  "nbformat": 4,
  "nbformat_minor": 0,
  "metadata": {
    "colab": {
      "provenance": []
    },
    "kernelspec": {
      "name": "python3",
      "display_name": "Python 3"
    },
    "language_info": {
      "name": "python"
    }
  },
  "cells": [
    {
      "cell_type": "markdown",
      "source": [
        "## Content:\n",
        "\n",
        "**Hyperparameters**\n",
        "  - Parameter vs Hyperparameter\n",
        "\n",
        "  - Steps to choose hyperparameter\n",
        "  - Plot between lambda($λ$) and adj.R-squared($R^2$)\n",
        "\n",
        "\n",
        "**Cross Validation:**\n",
        "  - Definition and implementation\n",
        "\n",
        "**K-fold CV:**\n",
        "   - Problems with cross-val\n",
        "   - Definition and implementation\n",
        "\n",
        "**Explanation of UseCase:**\n",
        "  - AT&T Churn Prediction introduction\n",
        "  - Dataset downloand and read\n",
        "\n",
        "**Intro to LogisticRegression:**\n",
        "  - Recap of Linear Regression\n",
        "\n",
        "  - Definition\n",
        "\n",
        "**Thresholding and Step function:**\n",
        "  - Definition\n",
        "\n",
        "  - Problem with step function\n",
        "\n",
        "**Sigmoid function**\n",
        "  - Plot and mathematical definition\n",
        "  - Thresholding\n",
        "  - Properties\n",
        "\n",
        "**Geometric Interpretation**\n",
        "\n",
        "\n",
        "**Implementation**\n",
        "\n",
        "\n",
        "**MLE(Maximum Log Likelihood)**\n",
        "\n",
        "**LogLoss and Optimization**\n"
      ],
      "metadata": {
        "id": "7tSrEy8mvn4j"
      }
    },
    {
      "cell_type": "markdown",
      "source": [
        "## Hyperparameters"
      ],
      "metadata": {
        "id": "tH2dsh_kccP0"
      }
    },
    {
      "cell_type": "markdown",
      "source": [
        "\n",
        "<img src='https://drive.google.com/uc?id=1OBcf7akFgVKILdGh-5_5joIjwnwX70-H' width=800>\n"
      ],
      "metadata": {
        "id": "SeLVPSt-oZWB"
      }
    },
    {
      "cell_type": "markdown",
      "source": [
        "#### What do you mean by parameters and hyperparameters then?"
      ],
      "metadata": {
        "id": "9QEsHDqxcgZq"
      }
    },
    {
      "cell_type": "markdown",
      "source": [
        "\n",
        "<img src='https://drive.google.com/uc?id=1Pp9htiEejVA8THdjgjYWM-XulHTE2CLH' width=800>\n"
      ],
      "metadata": {
        "id": "0cM3-p1Qquet"
      }
    },
    {
      "cell_type": "markdown",
      "source": [
        "Any kind of value which the data scientist sets from their side.\n",
        "\n",
        "E.g.:\n",
        "  - Degree of the model\n",
        "  - Regularization Rate, lamdba, $λ$\n",
        "\n",
        "and so on."
      ],
      "metadata": {
        "id": "lkX5JMuYc2aw"
      }
    },
    {
      "cell_type": "markdown",
      "source": [
        "#### How do we choose the hyperparameter values?"
      ],
      "metadata": {
        "id": "9aVSxDQjdItD"
      }
    },
    {
      "cell_type": "markdown",
      "source": [
        "\n",
        "<img src='https://drive.google.com/uc?id=1raODL9eACk8StA8ig63BvcwJVKit0XFo' width=800>\n",
        "\n"
      ],
      "metadata": {
        "id": "yrDvsJ39slGW"
      }
    },
    {
      "cell_type": "markdown",
      "source": [
        "\n",
        "<img src='https://drive.google.com/uc?id=176HX1S9K6b4GqgJL1HNU36RjhFkJUCBF' width=800>\n",
        "\n"
      ],
      "metadata": {
        "id": "wRpHnC2Msw6D"
      }
    },
    {
      "cell_type": "markdown",
      "source": [
        "<!-- In some cases, we also use performance metric instead of error to find the optimal value (as we did earlier) -->\n",
        "\n",
        "#### What would the plot between $λ$ and $adj. R^2$ score look like?\n"
      ],
      "metadata": {
        "id": "HFkoVL5ilbqZ"
      }
    },
    {
      "cell_type": "markdown",
      "source": [
        "\n",
        "<img src='https://drive.google.com/uc?id=1y-1-LViUZGwGSTOgQiPCCp3fHh4tJu8-' width=800>\n"
      ],
      "metadata": {
        "id": "oGjB64U8nQTp"
      }
    },
    {
      "cell_type": "markdown",
      "source": [
        "Let's use the code to create X and Y as we did in last lecture"
      ],
      "metadata": {
        "id": "rfjmuUg-jvL4"
      }
    },
    {
      "cell_type": "code",
      "source": [
        "import numpy as np\n",
        "import matplotlib.pyplot as plt"
      ],
      "metadata": {
        "id": "d0ElToyxjvL4"
      },
      "execution_count": null,
      "outputs": []
    },
    {
      "cell_type": "code",
      "source": [
        "# lets generate a dataset of 100 points\n",
        "np.random.seed(2)\n",
        "X = np.random.rand(1000,1)\n",
        "y = 0.7*(X**5) - \\\n",
        "    2.1*(X**4) + \\\n",
        "    2.3*(X**3) + \\\n",
        "    0.2*(X**2) + \\\n",
        "    0.3* X + \\\n",
        "    0.4*np.random.rand(1000,1)\n"
      ],
      "metadata": {
        "id": "XEraxP1UjvL5"
      },
      "execution_count": null,
      "outputs": []
    },
    {
      "cell_type": "markdown",
      "source": [
        "Now we divide our data into train and test"
      ],
      "metadata": {
        "id": "yN8jbM0jjvL5"
      }
    },
    {
      "cell_type": "code",
      "source": [
        "#0.8, 0.2 split\n",
        "from sklearn.model_selection import train_test_split\n",
        "X_train, X_test, y_train, y_test = train_test_split(X, y, test_size=0.2, random_state=1)"
      ],
      "metadata": {
        "id": "pgACRlsujvL5"
      },
      "execution_count": null,
      "outputs": []
    },
    {
      "cell_type": "code",
      "source": [
        "X_train.shape, X_test.shape"
      ],
      "metadata": {
        "colab": {
          "base_uri": "https://localhost:8080/"
        },
        "id": "H5dce_Iodc4U",
        "outputId": "e02f576b-3206-41fa-b2b6-ac4cc94f9816"
      },
      "execution_count": null,
      "outputs": [
        {
          "output_type": "execute_result",
          "data": {
            "text/plain": [
              "((800, 1), (200, 1))"
            ]
          },
          "metadata": {},
          "execution_count": 71
        }
      ]
    },
    {
      "cell_type": "markdown",
      "source": [
        "If you remember, we had already seen how to find the optimal value of degree for polynomial regression in the last lecture\n",
        "\n",
        "Let's use L2/Ridge regression model to tune our hyperparameters-degree and regularization rate"
      ],
      "metadata": {
        "id": "AoS-fo_GcLcV"
      }
    },
    {
      "cell_type": "code",
      "source": [
        "from sklearn.preprocessing import PolynomialFeatures\n",
        "from sklearn.preprocessing import StandardScaler\n",
        "from sklearn.linear_model import Ridge\n",
        "from sklearn.pipeline import make_pipeline"
      ],
      "metadata": {
        "id": "URl0mtAicIc_"
      },
      "execution_count": null,
      "outputs": []
    },
    {
      "cell_type": "code",
      "source": [
        "# Defining our performance metric\n",
        "def adj_r2(X, y, r2_score):\n",
        "  return 1 - ((1-r2_score)*(len(y)-1))/(len(y)-X.shape[1]-1)"
      ],
      "metadata": {
        "id": "202DaKr7c5u1"
      },
      "execution_count": null,
      "outputs": []
    },
    {
      "cell_type": "code",
      "source": [
        "# Same as last lecture\n",
        "max_degree = 25 # max polynomial degree\n",
        "train_scores = []\n",
        "test_scores = []\n",
        "scaler = StandardScaler()\n",
        "for degree in range(1, max_degree):\n",
        "  polyreg_scaled = make_pipeline(PolynomialFeatures(degree), scaler, Ridge())\n",
        "  polyreg_scaled.fit(X_train, y_train)\n",
        "  train_score = adj_r2(X_train, y_train, polyreg_scaled.score(X_train, y_train))\n",
        "  test_score= adj_r2(X_test, y_test, polyreg_scaled.score(X_test, y_test))\n",
        "  train_scores.append(train_score)\n",
        "  test_scores.append(test_score)\n",
        "\n",
        "plt.figure()\n",
        "plt.plot(list(range(1, 25)), train_scores, label=\"train\")\n",
        "plt.plot(list(range(1, 25)), test_scores, label=\"test\")\n",
        "plt.legend(loc='lower right')\n",
        "plt.xlabel(\"degree\")\n",
        "plt.ylabel(\"adj. R-score\")\n",
        "plt.grid()\n",
        "plt.show()"
      ],
      "metadata": {
        "id": "4XRpqulkct_R",
        "colab": {
          "base_uri": "https://localhost:8080/",
          "height": 449
        },
        "outputId": "72a3241e-dead-4e69-a102-4c2afc5de1e2"
      },
      "execution_count": null,
      "outputs": [
        {
          "output_type": "display_data",
          "data": {
            "text/plain": [
              "<Figure size 640x480 with 1 Axes>"
            ],
            "image/png": "[encoded data removed]"
          },
          "metadata": {}
        }
      ]
    },
    {
      "cell_type": "markdown",
      "source": [
        "\n",
        "Based on this, the optimal degree would be somewhere around 3.\n",
        "\n",
        "Now let's see how to optimize our regularization rate."
      ],
      "metadata": {
        "id": "PpL8zvPskRVt"
      }
    },
    {
      "cell_type": "code",
      "source": [
        "train_scores = []\n",
        "test_scores = []\n",
        "rate_list = [0.01, 0.1, 1,5, 10]\n",
        "scaler = StandardScaler()\n",
        "for rate in rate_list:\n",
        "  polyreg_scaled = make_pipeline(PolynomialFeatures(3), scaler, Ridge(alpha=rate))\n",
        "  polyreg_scaled.fit(X_train, y_train)\n",
        "  train_score = adj_r2(X_train, y_train, polyreg_scaled.score(X_train, y_train))\n",
        "  test_score= adj_r2(X_test, y_test, polyreg_scaled.score(X_test, y_test))\n",
        "  train_scores.append(train_score)\n",
        "  test_scores.append(test_score)"
      ],
      "metadata": {
        "id": "xaDg450Vc8Rx"
      },
      "execution_count": null,
      "outputs": []
    },
    {
      "cell_type": "code",
      "source": [
        "plt.figure()\n",
        "plt.plot(rate_list, train_scores, label=\"train\")\n",
        "plt.plot(rate_list, test_scores, label=\"test\")\n",
        "plt.legend(loc='lower right')\n",
        "plt.xlabel(\"lambda\")\n",
        "plt.ylabel(\"adj. R-score\")\n",
        "plt.grid()\n",
        "plt.show()"
      ],
      "metadata": {
        "colab": {
          "base_uri": "https://localhost:8080/",
          "height": 449
        },
        "id": "5CIAE1Zheq-M",
        "outputId": "bbf1f95f-736d-4b0d-ee55-0fd1e5593b6a"
      },
      "execution_count": null,
      "outputs": [
        {
          "output_type": "display_data",
          "data": {
            "text/plain": [
              "<Figure size 640x480 with 1 Axes>"
            ],
            "image/png": "[encoded data removed]"
          },
          "metadata": {}
        }
      ]
    },
    {
      "cell_type": "code",
      "source": [
        "test_scores"
      ],
      "metadata": {
        "colab": {
          "base_uri": "https://localhost:8080/"
        },
        "id": "3q7omitkeuEa",
        "outputId": "c061c8bd-6160-45f9-a4ca-cd680dfdb65e"
      },
      "execution_count": null,
      "outputs": [
        {
          "output_type": "execute_result",
          "data": {
            "text/plain": [
              "[0.9142688321768443,\n",
              " 0.9142176328264028,\n",
              " 0.9138636295262608,\n",
              " 0.9134626780435391,\n",
              " 0.9133227560134852]"
            ]
          },
          "metadata": {},
          "execution_count": 77
        }
      ]
    },
    {
      "cell_type": "markdown",
      "source": [
        "Our optimal lambda value comes out to be around 0.01 based on the test"
      ],
      "metadata": {
        "id": "4uI6qoBzkpDI"
      }
    },
    {
      "cell_type": "markdown",
      "source": [
        "## Cross-Validation"
      ],
      "metadata": {
        "id": "QILUVvYlntIV"
      }
    },
    {
      "cell_type": "markdown",
      "source": [
        "\n",
        "<img src='https://drive.google.com/uc?id=1QU7FoI-pHRy8PbaG6shQjcchqFqhl9bd' width=800>\n",
        "\n",
        "\n"
      ],
      "metadata": {
        "id": "FTDDaHuqZ2PQ"
      }
    },
    {
      "cell_type": "markdown",
      "source": [
        "\n",
        "<img src='https://drive.google.com/uc?id=1zZ0u8qLOx129ul1nCE64jc6uBth9QA5n' width=800>\n"
      ],
      "metadata": {
        "id": "45AKkr2tpy9y"
      }
    },
    {
      "cell_type": "markdown",
      "source": [
        "#### So how do we perform cross validation?"
      ],
      "metadata": {
        "id": "Xa5ZJRIjrUZ9"
      }
    },
    {
      "cell_type": "code",
      "source": [
        "# lets generate a dataset of 100 points\n",
        "np.random.seed(2)\n",
        "X = np.random.rand(1000,1)\n",
        "y = 0.7*(X**5) - \\\n",
        "    2.1*(X**4) + \\\n",
        "    2.3*(X**3) + \\\n",
        "    0.2*(X**2) + \\\n",
        "    0.3* X + \\\n",
        "    0.4*np.random.rand(1000,1)\n"
      ],
      "metadata": {
        "id": "_g9CnmZqnm1-"
      },
      "execution_count": null,
      "outputs": []
    },
    {
      "cell_type": "markdown",
      "source": [
        "Now we divide our data into train, test and validation"
      ],
      "metadata": {
        "id": "hu1HqFHnC5Q3"
      }
    },
    {
      "cell_type": "code",
      "source": [
        "#0.6, 0.2, 0.2 split\n",
        "from sklearn.model_selection import train_test_split\n",
        "X_tr_cv, X_test, y_tr_cv, y_test = train_test_split(X, y, test_size=0.2, random_state=1)\n",
        "X_train, X_val, y_train, y_val = train_test_split(X_tr_cv, y_tr_cv, test_size=0.25,random_state=1)"
      ],
      "metadata": {
        "id": "R-nZTEtKC55o"
      },
      "execution_count": null,
      "outputs": []
    },
    {
      "cell_type": "code",
      "source": [
        "X_train.shape, X_val.shape, X_test.shape"
      ],
      "metadata": {
        "colab": {
          "base_uri": "https://localhost:8080/"
        },
        "id": "PvQN5v7wDxug",
        "outputId": "b278d55d-5c4e-40f9-c67f-0b31e00dd4b0"
      },
      "execution_count": null,
      "outputs": [
        {
          "output_type": "execute_result",
          "data": {
            "text/plain": [
              "((600, 1), (200, 1), (200, 1))"
            ]
          },
          "metadata": {},
          "execution_count": 61
        }
      ]
    },
    {
      "cell_type": "markdown",
      "source": [
        "Let's visualize our data"
      ],
      "metadata": {
        "id": "XUNhJarf_Xsn"
      }
    },
    {
      "cell_type": "code",
      "source": [
        "plt.figure(figsize=(18,5))\n",
        "data_labels = [\"Training Data\", \"Validation Data\", \"Test Data\" ]\n",
        "x_labels = [X_train, X_val, X_test]\n",
        "y_labels = [y_train, y_val, y_test]\n",
        "for i in range(3):\n",
        "  plt.subplot(1, 3, i+1)\n",
        "  plt.scatter(x_labels[i], y_labels[i])\n",
        "  plt.xlabel(\"x\")\n",
        "  plt.ylabel(\"y\")\n",
        "  plt.title(data_labels[i])"
      ],
      "metadata": {
        "colab": {
          "base_uri": "https://localhost:8080/",
          "height": 354
        },
        "id": "HIhTH7yz_ZbN",
        "outputId": "3d1f8927-27b1-405f-8c5d-676a9238d3f4"
      },
      "execution_count": null,
      "outputs": [
        {
          "output_type": "display_data",
          "data": {
            "text/plain": [
              "<Figure size 1800x500 with 3 Axes>"
            ],
            "image/png": "[encoded data removed]"
          },
          "metadata": {}
        }
      ]
    },
    {
      "cell_type": "markdown",
      "source": [
        "The statistics of our type of data is similar, so we are good to go."
      ],
      "metadata": {
        "id": "qMvxos6z7Ra6"
      }
    },
    {
      "cell_type": "markdown",
      "source": [
        "#### Steps to do cross-validation on our data\n",
        "\n"
      ],
      "metadata": {
        "id": "KMx20eiYqPUt"
      }
    },
    {
      "cell_type": "markdown",
      "source": [
        "Now if you remember, in the last lecture we saw how the performance was increasing with increase in degree of the polynomial model\n",
        "\n",
        "But how do we find the optimal degree in this case?\n",
        "\n",
        "Let's"
      ],
      "metadata": {
        "id": "zTb5G4KMW3bW"
      }
    },
    {
      "cell_type": "markdown",
      "source": [
        "Let's try to find the optimal value of `degree` for our polynomial regression model"
      ],
      "metadata": {
        "id": "Ime0l_99W1EG"
      }
    },
    {
      "cell_type": "markdown",
      "source": [
        "1. First we take degrees from 1 to 25, and train the model on data for each of these degrees to find the best degree"
      ],
      "metadata": {
        "id": "6KGZm8tQDTxo"
      }
    },
    {
      "cell_type": "code",
      "source": [
        "# Same as we did earlier and in the last lecture\n",
        "max_degree = 25 # max polynomial degree\n",
        "train_scores = []\n",
        "val_scores = []\n",
        "scaler = StandardScaler()\n",
        "for degree in range(1, max_degree):\n",
        "  polyreg_scaled = make_pipeline(PolynomialFeatures(degree), scaler, Ridge())\n",
        "  polyreg_scaled.fit(X_train, y_train)\n",
        "  train_score = adj_r2(X_train, y_train, polyreg_scaled.score(X_train, y_train))\n",
        "  val_score= adj_r2(X_val, y_val, polyreg_scaled.score(X_val, y_val))\n",
        "  train_scores.append(train_score)\n",
        "  val_scores.append(val_score)\n",
        "plt.figure()\n",
        "plt.plot(list(range(1, 25)), train_scores, label=\"train\")\n",
        "plt.plot(list(range(1, 25)), val_scores, label=\"val\")\n",
        "plt.legend(loc='lower right')\n",
        "plt.xlabel(\"degree\")\n",
        "plt.ylabel(\"adj. R-score\")\n",
        "plt.grid()\n",
        "plt.show()"
      ],
      "metadata": {
        "id": "KHuRfcbZEgIB",
        "colab": {
          "base_uri": "https://localhost:8080/",
          "height": 449
        },
        "outputId": "87b0f7b7-12e7-4243-dd42-2599fbd1659e"
      },
      "execution_count": null,
      "outputs": [
        {
          "output_type": "display_data",
          "data": {
            "text/plain": [
              "<Figure size 640x480 with 1 Axes>"
            ],
            "image/png": "[encoded data removed]"
          },
          "metadata": {}
        }
      ]
    },
    {
      "cell_type": "markdown",
      "source": [
        "Taking degree=3, we now find the best regularization rate by the same process"
      ],
      "metadata": {
        "id": "g4Tvpu_hmvwd"
      }
    },
    {
      "cell_type": "code",
      "source": [
        "train_scores = []\n",
        "val_scores = []\n",
        "rate_list = [0.01, 0.1, 1,5, 10]\n",
        "for rate in rate_list:\n",
        "  polyreg_scaled = make_pipeline(PolynomialFeatures(3), scaler, Ridge(alpha=rate))\n",
        "  polyreg_scaled.fit(X_train, y_train)\n",
        "  train_score = adj_r2(X_train, y_train, polyreg_scaled.score(X_train, y_train))\n",
        "  val_score= adj_r2(X_val, y_val, polyreg_scaled.score(X_val, y_val))\n",
        "  train_scores.append(train_score)\n",
        "  val_scores.append(val_score)"
      ],
      "metadata": {
        "id": "M3B44v1JnE-G"
      },
      "execution_count": null,
      "outputs": []
    },
    {
      "cell_type": "code",
      "source": [
        "plt.figure()\n",
        "plt.plot(rate_list, train_scores, label=\"train\")\n",
        "plt.plot(rate_list, val_scores, label=\"val\")\n",
        "plt.legend(loc='lower right')\n",
        "plt.xlabel(\"lambda\")\n",
        "plt.ylabel(\"adj. R-score\")\n",
        "plt.grid()\n",
        "plt.show()"
      ],
      "metadata": {
        "colab": {
          "base_uri": "https://localhost:8080/",
          "height": 449
        },
        "outputId": "d72ddc6c-3b7d-4312-fe61-23a0f0f80358",
        "id": "kvN1IWydnE-G"
      },
      "execution_count": null,
      "outputs": [
        {
          "output_type": "display_data",
          "data": {
            "text/plain": [
              "<Figure size 640x480 with 1 Axes>"
            ],
            "image/png": "[encoded data removed]"
          },
          "metadata": {}
        }
      ]
    },
    {
      "cell_type": "markdown",
      "source": [
        "We take the optimal value of lambda as 0.01"
      ],
      "metadata": {
        "id": "ZmZX4huQF4Eg"
      }
    },
    {
      "cell_type": "markdown",
      "source": [
        "2. Now finally, we measure our model's performance on test data, which our model hasn't seen till now"
      ],
      "metadata": {
        "id": "ZIPEVxjhGKqC"
      }
    },
    {
      "cell_type": "code",
      "source": [
        "polyreg_scaled = make_pipeline(PolynomialFeatures(3), scaler, Ridge(alpha=0.01))\n",
        "polyreg_scaled.fit(X_train, y_train)\n",
        "train_score = adj_r2(X_train, y_train, polyreg_scaled.score(X_train, y_train))\n",
        "print(f'Training Score = {train_score}')\n",
        "val_score = adj_r2(X_val, y_val, polyreg_scaled.score(X_val, y_val))\n",
        "print(f'Validation Score = {val_score}')"
      ],
      "metadata": {
        "colab": {
          "base_uri": "https://localhost:8080/"
        },
        "id": "w1svueDEF2_R",
        "outputId": "1ce78cc1-4809-44a5-decb-088244c2ecc9"
      },
      "execution_count": null,
      "outputs": [
        {
          "output_type": "stream",
          "name": "stdout",
          "text": [
            "Training Score = 0.9261212571628987\n",
            "Validation Score = 0.9191482611247953\n"
          ]
        }
      ]
    },
    {
      "cell_type": "code",
      "source": [
        "# Reporting this as the final score\n",
        "test_score = adj_r2(X_test, y_test, polyreg_scaled.score(X_test, y_test))\n",
        "print(f'Testing Score = {test_score}')"
      ],
      "metadata": {
        "colab": {
          "base_uri": "https://localhost:8080/"
        },
        "id": "VQTLT84YHJdB",
        "outputId": "e820f7f4-d087-4b14-c2c2-f555f7194234"
      },
      "execution_count": null,
      "outputs": [
        {
          "output_type": "stream",
          "name": "stdout",
          "text": [
            "Testing Score = 0.9143625261065258\n"
          ]
        }
      ]
    },
    {
      "cell_type": "markdown",
      "source": [
        "Observe, the test results are lower than training and validation.\n",
        "\n",
        "This is because, our model hasn't seen the test data at all, and this can be said as the true result of our model."
      ],
      "metadata": {
        "id": "_xE7qIcso0b3"
      }
    },
    {
      "cell_type": "markdown",
      "source": [
        "#### Try for yourself\n",
        "\n",
        "- Try to use Linear Regression, Lasso and ElasticNet and see how do the results vary?"
      ],
      "metadata": {
        "id": "y9t-1s1zHW0W"
      }
    },
    {
      "cell_type": "markdown",
      "source": [
        "But there is one issue with cross validation when there are less number of data points"
      ],
      "metadata": {
        "id": "gjc99NyLHvcK"
      }
    },
    {
      "cell_type": "markdown",
      "source": [
        "## K-Fold Cross Validation"
      ],
      "metadata": {
        "id": "rMUEy_TMIBmi"
      }
    },
    {
      "cell_type": "markdown",
      "source": [
        "\n",
        "<img src='https://drive.google.com/uc?id=19GxB4Rehf3PffX2XYGsQaza1numS6FEv' width=800>"
      ],
      "metadata": {
        "id": "FmHX0RSMuqyh"
      }
    },
    {
      "cell_type": "markdown",
      "source": [
        "#### How do we validate our data in case of lesser number of data points?"
      ],
      "metadata": {
        "id": "d4vkwZLYPRTZ"
      }
    },
    {
      "cell_type": "markdown",
      "source": [
        "We use **K-Fold Cross Validation**"
      ],
      "metadata": {
        "id": "239HPHAUPWkb"
      }
    },
    {
      "cell_type": "markdown",
      "source": [
        "This is useful only for small datasets"
      ],
      "metadata": {
        "id": "krv8YeJ2Pcpi"
      }
    },
    {
      "cell_type": "markdown",
      "source": [
        "#### What is k-fold cross validation?\n"
      ],
      "metadata": {
        "id": "nnyrB0wwPr6u"
      }
    },
    {
      "cell_type": "markdown",
      "source": [
        "\n",
        "<img src='https://drive.google.com/uc?id=1dkxPt6DY0U4T-AwFREYkBHQaA1EVqScP' width=800>\n"
      ],
      "metadata": {
        "id": "zHtYGZFhvIIV"
      }
    },
    {
      "cell_type": "markdown",
      "source": [
        "#### How to implement K-Fold Cross validation?"
      ],
      "metadata": {
        "id": "Ybj8JrbxSoUA"
      }
    },
    {
      "cell_type": "markdown",
      "source": [
        "\n",
        "<img src='https://drive.google.com/uc?id=1J4IerGUseEHGqonulMJ2QYQfOLmfb8-T' width=800>"
      ],
      "metadata": {
        "id": "sjq4hGmfOywr"
      }
    },
    {
      "cell_type": "markdown",
      "source": [
        "Let's look at the implementation."
      ],
      "metadata": {
        "id": "5J5SbY8pQvOL"
      }
    },
    {
      "cell_type": "code",
      "source": [
        "# Creating a small dataset of 100 data points\n",
        "np.random.seed(2)\n",
        "X = np.random.rand(100,1)\n",
        "y = 0.7*(X**5) - \\\n",
        "    2.1*(X**4) + \\\n",
        "    2.3*(X**3) + \\\n",
        "    0.2*(X**2) + \\\n",
        "    0.3* X + \\\n",
        "    0.4*np.random.rand(100,1)"
      ],
      "metadata": {
        "id": "kaP9URYzRIfw"
      },
      "execution_count": null,
      "outputs": []
    },
    {
      "cell_type": "code",
      "source": [
        "from sklearn.model_selection import KFold\n",
        "kf = KFold(n_splits=10)"
      ],
      "metadata": {
        "id": "pB9xOCM_HQ7_"
      },
      "execution_count": null,
      "outputs": []
    },
    {
      "cell_type": "code",
      "source": [
        "# Performing k-fold cross validation\n",
        "degrees = 15 # number of degrees\n",
        "train_scores = []\n",
        "val_scores = []\n",
        "\n",
        "for degree in range(1, degrees):\n",
        "    fold_train_scores = []\n",
        "    fold_val_scores = []\n",
        "\n",
        "    for train_index, val_index in kf.split(X): #iterating through the K-folds\n",
        "\n",
        "        X_train, X_val = X[train_index], X[val_index]\n",
        "        y_train, y_val = y[train_index], y[val_index]\n",
        "\n",
        "        polyreg_scaled = make_pipeline(PolynomialFeatures(degree), scaler, LinearRegression())\n",
        "        polyreg_scaled.fit(X_train, y_train) #training model\n",
        "\n",
        "        train_score = adj_r2(X_train, y_train, polyreg_scaled.score(X_train, y_train))\n",
        "        val_score= adj_r2(X_val, y_val, polyreg_scaled.score(X_val, y_val))\n",
        "\n",
        "        fold_train_scores.append(train_score)\n",
        "        fold_val_scores.append(val_score)\n",
        "\n",
        "    train_score = np.mean(fold_train_scores)\n",
        "    val_score = np.mean(fold_val_scores)\n",
        "\n",
        "    train_scores.append(train_score)\n",
        "    val_scores.append(val_score)"
      ],
      "metadata": {
        "id": "UO7n1IAIQ3bi"
      },
      "execution_count": null,
      "outputs": []
    },
    {
      "cell_type": "code",
      "source": [
        "plt.figure()\n",
        "plt.plot(list(range(1, 15)), train_scores, label=\"train\")\n",
        "plt.plot(list(range(1, 15)), val_scores, label=\"val\")\n",
        "plt.legend(loc='lower right')\n",
        "plt.xlabel(\"degree\")\n",
        "plt.ylabel(\"Average R2 score\")\n",
        "plt.show()"
      ],
      "metadata": {
        "colab": {
          "base_uri": "https://localhost:8080/",
          "height": 449
        },
        "id": "1Uv-TLbIQ-O9",
        "outputId": "5750124b-c9f9-4f4d-e8a5-a434fc93aa88"
      },
      "execution_count": null,
      "outputs": [
        {
          "output_type": "display_data",
          "data": {
            "text/plain": [
              "<Figure size 640x480 with 1 Axes>"
            ],
            "image/png": "[encoded data removed]"
          },
          "metadata": {}
        }
      ]
    },
    {
      "cell_type": "markdown",
      "source": [
        "Note:\n",
        "\n",
        "- K-Fold Cross Validation can be computationally expensive\n",
        "- Hence it's only used for Small datasets\n",
        "- For large datasets, we have enough datapoints to train the model, hence only cross validation is sufficient"
      ],
      "metadata": {
        "id": "eUtfg017SLx0"
      }
    },
    {
      "cell_type": "markdown",
      "source": [
        "----"
      ],
      "metadata": {
        "id": "sLFnXLb3vdQM"
      }
    },
    {
      "cell_type": "markdown",
      "source": [
        "#### Let's start with our usecase for today!"
      ],
      "metadata": {
        "id": "xxZl3z9NSbE3"
      }
    },
    {
      "cell_type": "markdown",
      "source": [
        "## Introduction to AT&T Churn UseCase"
      ],
      "metadata": {
        "id": "hvFmP5skSgFY"
      }
    },
    {
      "cell_type": "markdown",
      "source": [
        "AT & T, one of the leading telecommunications companies of USA, faces the challenge of customer churn, where customers switch to competitors due to issues such as bad network, poor customer service, and so on.\n",
        "\n",
        "As a Data Scientist, you are tasked to develop a machine learning model to predict whether a customer will be churned or not, based on various parameters, such as state, number of evening calls, number of day calls, etc."
      ],
      "metadata": {
        "id": "QxXEVRVrjyRH"
      }
    },
    {
      "cell_type": "markdown",
      "source": [
        "\n",
        "<img src='https://drive.google.com/uc?id=19RYqLFWJJwquegSLBH-lvXI0bshVWP3T' width=800>\n"
      ],
      "metadata": {
        "id": "47xBf2nSB5Lu"
      }
    },
    {
      "cell_type": "markdown",
      "source": [
        "Let's look at the data"
      ],
      "metadata": {
        "id": "honpz9Ogk7av"
      }
    },
    {
      "cell_type": "code",
      "execution_count": null,
      "metadata": {
        "colab": {
          "base_uri": "https://localhost:8080/"
        },
        "id": "WdRop4vG1qCi",
        "outputId": "45c46fa4-5f3d-4e16-e22b-948822c09d65"
      },
      "outputs": [
        {
          "output_type": "stream",
          "name": "stdout",
          "text": [
            "Downloading...\n",
            "From: https://drive.google.com/uc?id=1uUt7uL-VuF_5cpodYRiriEwhsldeEp3m\n",
            "To: /content/churn_logistic.csv\n",
            "\r  0% 0.00/494k [00:00<?, ?B/s]\r100% 494k/494k [00:00<00:00, 110MB/s]\n"
          ]
        }
      ],
      "source": [
        "!gdown 1uUt7uL-VuF_5cpodYRiriEwhsldeEp3m"
      ]
    },
    {
      "cell_type": "code",
      "execution_count": null,
      "metadata": {
        "colab": {
          "base_uri": "https://localhost:8080/",
          "height": 404
        },
        "id": "mlIcyIeK1qCj",
        "outputId": "85da4455-7ff4-417e-88cf-7314e7b30af3"
      },
      "outputs": [
        {
          "output_type": "execute_result",
          "data": {
            "text/plain": [
              "   Account Length  VMail Message  Day Mins  Eve Mins  Night Mins  Intl Mins  \\\n",
              "0             128             25     265.1     197.4       244.7       10.0   \n",
              "1             107             26     161.6     195.5       254.4       13.7   \n",
              "2             137              0     243.4     121.2       162.6       12.2   \n",
              "3              84              0     299.4      61.9       196.9        6.6   \n",
              "4              75              0     166.7     148.3       186.9       10.1   \n",
              "\n",
              "   CustServ Calls  Intl Plan  VMail Plan  Day Calls  ...  Eve Calls  \\\n",
              "0               1          0           1        110  ...         99   \n",
              "1               1          0           1        123  ...        103   \n",
              "2               0          0           0        114  ...        110   \n",
              "3               2          1           0         71  ...         88   \n",
              "4               3          1           0        113  ...        122   \n",
              "\n",
              "   Eve Charge  Night Calls  Night Charge  Intl Calls  Intl Charge  State  \\\n",
              "0       16.78           91         11.01           3         2.70     KS   \n",
              "1       16.62          103         11.45           3         3.70     OH   \n",
              "2       10.30          104          7.32           5         3.29     NJ   \n",
              "3        5.26           89          8.86           7         1.78     OH   \n",
              "4       12.61          121          8.41           3         2.73     OK   \n",
              "\n",
              "  Area Code     Phone Churn  \n",
              "0       415  382-4657     0  \n",
              "1       415  371-7191     0  \n",
              "2       415  358-1921     0  \n",
              "3       408  375-9999     0  \n",
              "4       415  330-6626     0  \n",
              "\n",
              "[5 rows x 21 columns]"
            ],
            "text/html": [
              "\n",
              "  <div id=\"df-0fb1cd6f-be54-4849-ad4d-38483a2cd1dd\">\n",
              "    <div class=\"colab-df-container\">\n",
              "      <div>\n",
              "<style scoped>\n",
              "    .dataframe tbody tr th:only-of-type {\n",
              "        vertical-align: middle;\n",
              "    }\n",
              "\n",
              "    .dataframe tbody tr th {\n",
              "        vertical-align: top;\n",
              "    }\n",
              "\n",
              "    .dataframe thead th {\n",
              "        text-align: right;\n",
              "    }\n",
              "</style>\n",
              "<table border=\"1\" class=\"dataframe\">\n",
              "  <thead>\n",
              "    <tr style=\"text-align: right;\">\n",
              "      <th></th>\n",
              "      <th>Account Length</th>\n",
              "      <th>VMail Message</th>\n",
              "      <th>Day Mins</th>\n",
              "      <th>Eve Mins</th>\n",
              "      <th>Night Mins</th>\n",
              "      <th>Intl Mins</th>\n",
              "      <th>CustServ Calls</th>\n",
              "      <th>Intl Plan</th>\n",
              "      <th>VMail Plan</th>\n",
              "      <th>Day Calls</th>\n",
              "      <th>...</th>\n",
              "      <th>Eve Calls</th>\n",
              "      <th>Eve Charge</th>\n",
              "      <th>Night Calls</th>\n",
              "      <th>Night Charge</th>\n",
              "      <th>Intl Calls</th>\n",
              "      <th>Intl Charge</th>\n",
              "      <th>State</th>\n",
              "      <th>Area Code</th>\n",
              "      <th>Phone</th>\n",
              "      <th>Churn</th>\n",
              "    </tr>\n",
              "  </thead>\n",
              "  <tbody>\n",
              "    <tr>\n",
              "      <th>0</th>\n",
              "      <td>128</td>\n",
              "      <td>25</td>\n",
              "      <td>265.1</td>\n",
              "      <td>197.4</td>\n",
              "      <td>244.7</td>\n",
              "      <td>10.0</td>\n",
              "      <td>1</td>\n",
              "      <td>0</td>\n",
              "      <td>1</td>\n",
              "      <td>110</td>\n",
              "      <td>...</td>\n",
              "      <td>99</td>\n",
              "      <td>16.78</td>\n",
              "      <td>91</td>\n",
              "      <td>11.01</td>\n",
              "      <td>3</td>\n",
              "      <td>2.70</td>\n",
              "      <td>KS</td>\n",
              "      <td>415</td>\n",
              "      <td>382-4657</td>\n",
              "      <td>0</td>\n",
              "    </tr>\n",
              "    <tr>\n",
              "      <th>1</th>\n",
              "      <td>107</td>\n",
              "      <td>26</td>\n",
              "      <td>161.6</td>\n",
              "      <td>195.5</td>\n",
              "      <td>254.4</td>\n",
              "      <td>13.7</td>\n",
              "      <td>1</td>\n",
              "      <td>0</td>\n",
              "      <td>1</td>\n",
              "      <td>123</td>\n",
              "      <td>...</td>\n",
              "      <td>103</td>\n",
              "      <td>16.62</td>\n",
              "      <td>103</td>\n",
              "      <td>11.45</td>\n",
              "      <td>3</td>\n",
              "      <td>3.70</td>\n",
              "      <td>OH</td>\n",
              "      <td>415</td>\n",
              "      <td>371-7191</td>\n",
              "      <td>0</td>\n",
              "    </tr>\n",
              "    <tr>\n",
              "      <th>2</th>\n",
              "      <td>137</td>\n",
              "      <td>0</td>\n",
              "      <td>243.4</td>\n",
              "      <td>121.2</td>\n",
              "      <td>162.6</td>\n",
              "      <td>12.2</td>\n",
              "      <td>0</td>\n",
              "      <td>0</td>\n",
              "      <td>0</td>\n",
              "      <td>114</td>\n",
              "      <td>...</td>\n",
              "      <td>110</td>\n",
              "      <td>10.30</td>\n",
              "      <td>104</td>\n",
              "      <td>7.32</td>\n",
              "      <td>5</td>\n",
              "      <td>3.29</td>\n",
              "      <td>NJ</td>\n",
              "      <td>415</td>\n",
              "      <td>358-1921</td>\n",
              "      <td>0</td>\n",
              "    </tr>\n",
              "    <tr>\n",
              "      <th>3</th>\n",
              "      <td>84</td>\n",
              "      <td>0</td>\n",
              "      <td>299.4</td>\n",
              "      <td>61.9</td>\n",
              "      <td>196.9</td>\n",
              "      <td>6.6</td>\n",
              "      <td>2</td>\n",
              "      <td>1</td>\n",
              "      <td>0</td>\n",
              "      <td>71</td>\n",
              "      <td>...</td>\n",
              "      <td>88</td>\n",
              "      <td>5.26</td>\n",
              "      <td>89</td>\n",
              "      <td>8.86</td>\n",
              "      <td>7</td>\n",
              "      <td>1.78</td>\n",
              "      <td>OH</td>\n",
              "      <td>408</td>\n",
              "      <td>375-9999</td>\n",
              "      <td>0</td>\n",
              "    </tr>\n",
              "    <tr>\n",
              "      <th>4</th>\n",
              "      <td>75</td>\n",
              "      <td>0</td>\n",
              "      <td>166.7</td>\n",
              "      <td>148.3</td>\n",
              "      <td>186.9</td>\n",
              "      <td>10.1</td>\n",
              "      <td>3</td>\n",
              "      <td>1</td>\n",
              "      <td>0</td>\n",
              "      <td>113</td>\n",
              "      <td>...</td>\n",
              "      <td>122</td>\n",
              "      <td>12.61</td>\n",
              "      <td>121</td>\n",
              "      <td>8.41</td>\n",
              "      <td>3</td>\n",
              "      <td>2.73</td>\n",
              "      <td>OK</td>\n",
              "      <td>415</td>\n",
              "      <td>330-6626</td>\n",
              "      <td>0</td>\n",
              "    </tr>\n",
              "  </tbody>\n",
              "</table>\n",
              "<p>5 rows × 21 columns</p>\n",
              "</div>\n",
              "      <button class=\"colab-df-convert\" onclick=\"convertToInteractive('df-0fb1cd6f-be54-4849-ad4d-38483a2cd1dd')\"\n",
              "              title=\"Convert this dataframe to an interactive table.\"\n",
              "              style=\"display:none;\">\n",
              "        \n",
              "  <svg xmlns=\"http://www.w3.org/2000/svg\" height=\"24px\"viewBox=\"0 0 24 24\"\n",
              "       width=\"24px\">\n",
              "    <path d=\"M0 0h24v24H0V0z\" fill=\"none\"/>\n",
              "    <path d=\"M18.56 5.44l.94 2.06.94-2.06 2.06-.94-2.06-.94-.94-2.06-.94 2.06-2.06.94zm-11 1L8.5 8.5l.94-2.06 2.06-.94-2.06-.94L8.5 2.5l-.94 2.06-2.06.94zm10 10l.94 2.06.94-2.06 2.06-.94-2.06-.94-.94-2.06-.94 2.06-2.06.94z\"/><path d=\"M17.41 7.96l-1.37-1.37c-.4-.4-.92-.59-1.43-.59-.52 0-1.04.2-1.43.59L10.3 9.45l-7.72 7.72c-.78.78-.78 2.05 0 2.83L4 21.41c.39.39.9.59 1.41.59.51 0 1.02-.2 1.41-.59l7.78-7.78 2.81-2.81c.8-.78.8-2.07 0-2.86zM5.41 20L4 18.59l7.72-7.72 1.47 1.35L5.41 20z\"/>\n",
              "  </svg>\n",
              "      </button>\n",
              "      \n",
              "  <style>\n",
              "    .colab-df-container {\n",
              "      display:flex;\n",
              "      flex-wrap:wrap;\n",
              "      gap: 12px;\n",
              "    }\n",
              "\n",
              "    .colab-df-convert {\n",
              "      background-color: #E8F0FE;\n",
              "      border: none;\n",
              "      border-radius: 50%;\n",
              "      cursor: pointer;\n",
              "      display: none;\n",
              "      fill: #1967D2;\n",
              "      height: 32px;\n",
              "      padding: 0 0 0 0;\n",
              "      width: 32px;\n",
              "    }\n",
              "\n",
              "    .colab-df-convert:hover {\n",
              "      background-color: #E2EBFA;\n",
              "      box-shadow: 0px 1px 2px rgba(60, 64, 67, 0.3), 0px 1px 3px 1px rgba(60, 64, 67, 0.15);\n",
              "      fill: #174EA6;\n",
              "    }\n",
              "\n",
              "    [theme=dark] .colab-df-convert {\n",
              "      background-color: #3B4455;\n",
              "      fill: #D2E3FC;\n",
              "    }\n",
              "\n",
              "    [theme=dark] .colab-df-convert:hover {\n",
              "      background-color: #434B5C;\n",
              "      box-shadow: 0px 1px 3px 1px rgba(0, 0, 0, 0.15);\n",
              "      filter: drop-shadow(0px 1px 2px rgba(0, 0, 0, 0.3));\n",
              "      fill: #FFFFFF;\n",
              "    }\n",
              "  </style>\n",
              "\n",
              "      <script>\n",
              "        const buttonEl =\n",
              "          document.querySelector('#df-0fb1cd6f-be54-4849-ad4d-38483a2cd1dd button.colab-df-convert');\n",
              "        buttonEl.style.display =\n",
              "          google.colab.kernel.accessAllowed ? 'block' : 'none';\n",
              "\n",
              "        async function convertToInteractive(key) {\n",
              "          const element = document.querySelector('#df-0fb1cd6f-be54-4849-ad4d-38483a2cd1dd');\n",
              "          const dataTable =\n",
              "            await google.colab.kernel.invokeFunction('convertToInteractive',\n",
              "                                                     [key], {});\n",
              "          if (!dataTable) return;\n",
              "\n",
              "          const docLinkHtml = 'Like what you see? Visit the ' +\n",
              "            '<a target=\"_blank\" href=https://colab.research.google.com/notebooks/data_table.ipynb>data table notebook</a>'\n",
              "            + ' to learn more about interactive tables.';\n",
              "          element.innerHTML = '';\n",
              "          dataTable['output_type'] = 'display_data';\n",
              "          await google.colab.output.renderOutput(dataTable, element);\n",
              "          const docLink = document.createElement('div');\n",
              "          docLink.innerHTML = docLinkHtml;\n",
              "          element.appendChild(docLink);\n",
              "        }\n",
              "      </script>\n",
              "    </div>\n",
              "  </div>\n",
              "  "
            ]
          },
          "metadata": {},
          "execution_count": 18
        }
      ],
      "source": [
        "import pandas as pd\n",
        "churn = pd.read_csv(\"churn_logistic.csv\")\n",
        "churn.head()"
      ]
    },
    {
      "cell_type": "markdown",
      "metadata": {
        "id": "4i5XMpGc7lJw"
      },
      "source": [
        "**Data Description**\n",
        "<center>\n",
        "\n",
        "| Records | Features |\n",
        "| :-- | :-- |\n",
        "| 5700 | 21 |\n",
        "\n",
        "\n",
        "| Id | Features | Description |\n",
        "| :-- | :--| :--|\n",
        "|01| **state** | 2-letter code of the US state of customer residence|\n",
        "|02| **account_length** | Number of months the customer has been with the current telco provider |\n",
        "|03|**area_code**|string=\"area_code_AAA\" where AAA = 3 digit area code|\n",
        "|04|**intl_plan**|The customer has international plan|\n",
        "|05|**vmail_plan**| The customer has voice mail plan|\n",
        "|06|**vmail_messages**|Number of voice-mail messages|\n",
        "|07|**day_mins**|Total minutes of day calls|\n",
        "|08|**day_calls**|Total no of day calls|\n",
        "|09|**day_charge**|Total charge of day calls|\n",
        "|10|**eve_mins**|Total minutes of evening calls|\n",
        "|11|**eve_calls**|Total no of evening calls|\n",
        "|12|**eve_charge**|Total charge of evening calls|\n",
        "|13|**night_mins**|Total minutes of night calls|\n",
        "|14|**night_calls**|Total no of night calls|\n",
        "|15|**night_charge**|Total charge of night calls|\n",
        "|16|**intl_mins**|Total minutes of international calls|\n",
        "|17|**intl_calls**|Total no of international calls|\n",
        "|18|**intl_charge**|Total charge of international calls|\n",
        "|19|**customer_service_calls**|Number of calls to customer service|\n",
        "|20|**phone**|10 digit number|\n",
        "|21|**churn**|Customer churn - target variable|"
      ]
    },
    {
      "cell_type": "code",
      "source": [
        "churn['Churn'].value_counts()"
      ],
      "metadata": {
        "colab": {
          "base_uri": "https://localhost:8080/"
        },
        "id": "YOTssvEWlSES",
        "outputId": "c1c763a2-69bb-4688-e873-8615f3fe50f3"
      },
      "execution_count": null,
      "outputs": [
        {
          "output_type": "execute_result",
          "data": {
            "text/plain": [
              "0    2850\n",
              "1    2850\n",
              "Name: Churn, dtype: int64"
            ]
          },
          "metadata": {},
          "execution_count": 19
        }
      ]
    },
    {
      "cell_type": "markdown",
      "source": [
        "Observe:\n",
        "- The number of values are same for both \"0\" and \"1\""
      ],
      "metadata": {
        "id": "eZQWpSERlbJ-"
      }
    },
    {
      "cell_type": "markdown",
      "source": [
        "## Intro to Logistic Regression"
      ],
      "metadata": {
        "id": "PD8SgscRoKnm"
      }
    },
    {
      "cell_type": "markdown",
      "source": [
        "Before we dive into logistic regression, let's look at few notations we will be following."
      ],
      "metadata": {
        "id": "2rfpaSRDlY-n"
      }
    },
    {
      "cell_type": "markdown",
      "source": [
        "\n",
        "<img src='https://drive.google.com/uc?id=1pTa9eEfBDm2skQ3vr1Amqi6wW2HnGyKU' width=800>\n"
      ],
      "metadata": {
        "id": "wyIEdCqalfW0"
      }
    },
    {
      "cell_type": "markdown",
      "source": [
        "#### Recap"
      ],
      "metadata": {
        "id": "x6qnieNQmDby"
      }
    },
    {
      "cell_type": "markdown",
      "source": [
        "To solve this task, let's first recap what we have learnt in linear regression"
      ],
      "metadata": {
        "id": "-uutWl7_mGsB"
      }
    },
    {
      "cell_type": "markdown",
      "source": [
        "\n",
        "<img src='https://drive.google.com/uc?id=1-4nckmgEFcZfuEAE7F3d3vulfk0YiyZv' width=800>\n"
      ],
      "metadata": {
        "id": "ZtEPtYYfmpUJ"
      }
    },
    {
      "cell_type": "markdown",
      "source": [
        "#### What kind of algorithm is logistic regression?"
      ],
      "metadata": {
        "id": "nzNydBqHosvW"
      }
    },
    {
      "cell_type": "markdown",
      "source": [
        "\n",
        "<img src='https://drive.google.com/uc?id=1bOkRRCQxFZWlz8jixyKoWzRaAZZAHvZI' width=800>\n"
      ],
      "metadata": {
        "id": "qkFAScAyCyL5"
      }
    },
    {
      "cell_type": "markdown",
      "source": [
        "- It is a supervised algorithm\n",
        "- Mainly used for classification tasks\n",
        "- Can only solve binary classification problems"
      ],
      "metadata": {
        "id": "fVTIjuPCopxx"
      }
    },
    {
      "cell_type": "markdown",
      "source": [
        "**Do you guys remember the fish sorting problem from \"Maths for ML\" module?**\n",
        "\n",
        "It can be stated as,\n",
        "$D = \\{(x^{(i)}, y^{(i)})^m_{i=1}; x^{(i)} \\in R^d; y^{(i)} \\in \\{0,1\\}, y^{(i)} ∉ R\\}$\n",
        "\n",
        "For any given value of x, y belongs only to either 0 or 1, and it can't be a real number other than 0  and 1\n",
        "\n",
        "Our customer churn problem is very similar to this"
      ],
      "metadata": {
        "id": "3CbAJSl-o4A_"
      }
    },
    {
      "cell_type": "markdown",
      "source": [
        "\n",
        "<img src='https://drive.google.com/uc?id=124-1Tf8ryqdJ6juGC_LiBH_JhvdGClOP' width=800>\n"
      ],
      "metadata": {
        "id": "OGaL5dovq7g9"
      }
    },
    {
      "cell_type": "markdown",
      "source": [
        "The task in classification is to be able to separate the two classes\n",
        "\n",
        "- The **main difference** is\n",
        "\n",
        "  - In Lin. Reg., we were finding the line of best fit in d+1 dimensional space,i.e., d feature and y (target variable)\n",
        "  - But in Logistic Regression, we are looking for a hyperplane in d-dimensional space."
      ],
      "metadata": {
        "id": "ITffdepYrah-"
      }
    },
    {
      "cell_type": "markdown",
      "source": [
        "\n",
        "We know a linaer regression model gives output as a continous value from $-∞$ to $∞$.\n",
        "\n",
        "#### What should we modify in a linear model to be able to give values as either 0 or 1?"
      ],
      "metadata": {
        "id": "4aUB1zM9rs6V"
      }
    },
    {
      "cell_type": "markdown",
      "source": [
        "We will use something called as thresholding"
      ],
      "metadata": {
        "id": "tPT8HVSGshon"
      }
    },
    {
      "cell_type": "markdown",
      "source": [
        "## Thresholding and Step Function"
      ],
      "metadata": {
        "id": "fJVAuMjvsld3"
      }
    },
    {
      "cell_type": "markdown",
      "source": [
        "#### What function can we use to threshold the values?"
      ],
      "metadata": {
        "id": "bhDp2JwG0Bm4"
      }
    },
    {
      "cell_type": "markdown",
      "source": [
        "We can select our own threshold value, and set the condition based on that.\n",
        "\n",
        "The function would look like a step."
      ],
      "metadata": {
        "id": "GS2rn3zB0Gna"
      }
    },
    {
      "cell_type": "markdown",
      "source": [
        "\n",
        "<img src='https://drive.google.com/uc?id=19HGBijpRBvBKhcRVoUJgT_z1TIy_NI5C' width=800>\n"
      ],
      "metadata": {
        "id": "squ92CM2DaKY"
      }
    },
    {
      "cell_type": "markdown",
      "source": [
        "#### Do you notice a problem with this step function?"
      ],
      "metadata": {
        "id": "EyTeHbmY28fm"
      }
    },
    {
      "cell_type": "markdown",
      "source": [
        "It is non-differentiable, and hence, we cannot perform derivative operation."
      ],
      "metadata": {
        "id": "vhKXskXS3UqS"
      }
    },
    {
      "cell_type": "markdown",
      "source": [
        "#### What better function can we use other than step function to threshold our values?"
      ],
      "metadata": {
        "id": "KzbcbqWC3kmb"
      }
    },
    {
      "cell_type": "markdown",
      "source": [
        "## Sigmoid/Logistic Function"
      ],
      "metadata": {
        "id": "fYoziVau3so2"
      }
    },
    {
      "cell_type": "markdown",
      "source": [
        "The term \"logistic regression\" comes from this function\n",
        "- At the base, it's doing regression only\n",
        "- On top of Regression, we are applying logistic function, hence logistic regression"
      ],
      "metadata": {
        "id": "PtZ47l_2CCBZ"
      }
    },
    {
      "cell_type": "markdown",
      "source": [
        "#### What is the sigmoid function?"
      ],
      "metadata": {
        "id": "hIRbhx4cCRlN"
      }
    },
    {
      "cell_type": "markdown",
      "source": [
        "\n",
        "\n",
        "<img src='https://drive.google.com/uc?id=1-8Hp5n0GNA3b2KqADsxutQa2-rGwCkiz' width=800>\n"
      ],
      "metadata": {
        "id": "sGj4nx1cDthx"
      }
    },
    {
      "cell_type": "markdown",
      "source": [
        "## Implementation"
      ],
      "metadata": {
        "id": "HD02k5EMFtM-"
      }
    },
    {
      "cell_type": "markdown",
      "metadata": {
        "id": "-J9w8JjccTea"
      },
      "source": [
        "#### Defining sigmoid function"
      ]
    },
    {
      "cell_type": "code",
      "execution_count": null,
      "metadata": {
        "id": "5juiZKIjcTvE"
      },
      "outputs": [],
      "source": [
        "def sigmoid(x):\n",
        "    return 1/(1+np.e**-x)"
      ]
    },
    {
      "cell_type": "code",
      "source": [
        "sigmoid(1.99)"
      ],
      "metadata": {
        "colab": {
          "base_uri": "https://localhost:8080/"
        },
        "id": "XKtQ78n18cI2",
        "outputId": "dead43c8-ef8f-4b3a-c7b8-7c89a976da20"
      },
      "execution_count": null,
      "outputs": [
        {
          "output_type": "execute_result",
          "data": {
            "text/plain": [
              "0.8797431375322491"
            ]
          },
          "metadata": {},
          "execution_count": 21
        }
      ]
    },
    {
      "cell_type": "code",
      "source": [
        "sigmoid(0)"
      ],
      "metadata": {
        "colab": {
          "base_uri": "https://localhost:8080/"
        },
        "id": "aFXoQ9lh9EQj",
        "outputId": "360ea2d3-2ab0-41ae-fc40-38c028bd96bc"
      },
      "execution_count": null,
      "outputs": [
        {
          "output_type": "execute_result",
          "data": {
            "text/plain": [
              "0.5"
            ]
          },
          "metadata": {},
          "execution_count": 22
        }
      ]
    },
    {
      "cell_type": "code",
      "source": [
        "sigmoid(-0.9)"
      ],
      "metadata": {
        "colab": {
          "base_uri": "https://localhost:8080/"
        },
        "id": "hB_8WHvn9GfH",
        "outputId": "ebdcf317-63ea-410b-ba4e-49203733479b"
      },
      "execution_count": null,
      "outputs": [
        {
          "output_type": "execute_result",
          "data": {
            "text/plain": [
              "0.28905049737499605"
            ]
          },
          "metadata": {},
          "execution_count": 23
        }
      ]
    },
    {
      "cell_type": "markdown",
      "metadata": {
        "id": "A1X6zp6XcgNP"
      },
      "source": [
        "#### Visualizing sigmoid"
      ]
    },
    {
      "cell_type": "code",
      "execution_count": null,
      "metadata": {
        "colab": {
          "base_uri": "https://localhost:8080/",
          "height": 449
        },
        "id": "ymQiSB7Vcdzm",
        "outputId": "7bfa66d9-7e16-4c35-bd18-67cad7ee4fb4"
      },
      "outputs": [
        {
          "output_type": "display_data",
          "data": {
            "text/plain": [
              "<Figure size 640x480 with 1 Axes>"
            ],
            "image/png": "[encoded data removed]"
          },
          "metadata": {}
        }
      ],
      "source": [
        "x = np.linspace(-10, 10, 100) # 100 equidistant points between -10 and 10\n",
        "y = sigmoid(x)\n",
        "plt.plot(x, y)\n",
        "plt.xlabel(\"x\")\n",
        "plt.ylabel(\"Sigmoid(X)\")\n",
        "plt.grid()\n",
        "plt.show()"
      ]
    },
    {
      "cell_type": "markdown",
      "source": [
        "Observe,\n",
        "\n",
        "- The curve of sigmoid looks exactly like an S shape curve with cutting the y axis for x=0, at y=0.5"
      ],
      "metadata": {
        "id": "SNaUxWKk9VpQ"
      }
    },
    {
      "cell_type": "markdown",
      "source": [
        "Now that we have the sigmoid function, what loss function should we use?"
      ],
      "metadata": {
        "id": "3Z7AP4Rhslkz"
      }
    },
    {
      "cell_type": "markdown",
      "source": [
        "The output of sigmoid function can be thought of as a probability of a point belonging to class 1\n",
        "\n",
        "$\\hat{y}^{(i)}=P(y^i=1|x^i)$\n",
        "\n",
        "E.g.\n",
        "=> If we get sigmoid value as 0.18, it means there's a 18% chance the point belongs to class 1"
      ],
      "metadata": {
        "id": "kx731e-PGlIG"
      }
    },
    {
      "cell_type": "markdown",
      "source": [
        "There is one issue though with sigmoid function.\n",
        "\n",
        "#### What is a problem with sigmoid function being used for classification?"
      ],
      "metadata": {
        "id": "-4H71WNAFPVC"
      }
    },
    {
      "cell_type": "markdown",
      "source": [
        "We are getting continuous values in the range of {0,1}\n",
        "\n",
        "Can you suggest a way to convert this to categorical values?\n",
        "\n",
        "#### **Thresholding**\n",
        "\n",
        "We can take a threshold of 0.5\n",
        "\n",
        "So values >= 0.5 will be 1, else 0"
      ],
      "metadata": {
        "id": "WCAkctpAGP0Y"
      }
    },
    {
      "cell_type": "markdown",
      "source": [
        "## Geometric Interpretation of Sigmoid"
      ],
      "metadata": {
        "id": "hxSZIbnFk4va"
      }
    },
    {
      "cell_type": "markdown",
      "source": [
        "\n",
        "<img src='https://drive.google.com/uc?id=1gsZLmWCzuO1LDWHqWjPIOFi_1VtGDUZL' width=800>\n",
        "\n",
        "\n"
      ],
      "metadata": {
        "id": "-IUqqKW6_3hQ"
      }
    },
    {
      "cell_type": "markdown",
      "source": [
        "\n",
        "\n",
        "\n",
        "<img src='https://drive.google.com/uc?id=1W1SZq6sKuX8x7QiYKldyYRl_EyIt62xj' width=800>\n",
        "\n",
        "\n"
      ],
      "metadata": {
        "id": "ZzcIglKR_50K"
      }
    },
    {
      "cell_type": "markdown",
      "source": [
        "**Conclusion:**\n",
        "\n",
        "- Closer the point is to hyperplane,\n",
        "    - more unsure we are with its probability of it belonging to a specific class\n",
        "\n",
        "- Farther it is from hyperplane,\n",
        "    - more confident we are of it belonging to specific class."
      ],
      "metadata": {
        "id": "W_E0CoxGMCj9"
      }
    },
    {
      "cell_type": "markdown",
      "metadata": {
        "id": "pdA0DrprM6p0"
      },
      "source": [
        "# **Maximum Log-likelihood**"
      ]
    },
    {
      "cell_type": "markdown",
      "source": [
        "\n",
        "\n",
        "<img src='https://drive.google.com/uc?id=1frXs5fjcbpwiVAdXAe3IbYynrqumyhF-' width=800>\n"
      ],
      "metadata": {
        "id": "XxeO4XeyFIHy"
      }
    },
    {
      "cell_type": "markdown",
      "source": [
        "#### <font color='green' >(Optional)</font> Difference between likelihood and probability ?"
      ],
      "metadata": {
        "id": "OSABkoElVo-X"
      }
    },
    {
      "cell_type": "markdown",
      "source": [
        "Let's try to understand the difference between likelihood and probability\n",
        "\n",
        "Say, we plot the distribution of data of **students scores in module test**\n",
        "\n",
        "- x axis is the marks and y axis the frequency (or density as in a kde plot)\n",
        "\n",
        "Our task is to find the **probability** of a student's score lying in the range of 60 to 70\n"
      ],
      "metadata": {
        "id": "dftYHobXVo-X"
      }
    },
    {
      "cell_type": "markdown",
      "source": [
        "\n",
        "\n",
        "<img src='https://drive.google.com/uc?id=1Cw1zMLNH36zjATwLP_HINCvU1L3uJnS1' width=800>\n"
      ],
      "metadata": {
        "id": "8ehFLCZeFO_I"
      }
    },
    {
      "cell_type": "markdown",
      "source": [
        "The probability can be said as\n",
        "- the area under the distribution curve for the range of 60 and 70\n",
        "- in this case it would be 0.29, or 29%\n",
        "\n",
        "The notation would be\n",
        "- $pr(data|distribution)$"
      ],
      "metadata": {
        "id": "iEQMw18GRjzy"
      }
    },
    {
      "cell_type": "markdown",
      "source": [
        "\n",
        "\n",
        "<img src='https://drive.google.com/uc?id=1LtLMd3HNGHh37YzQUPtSnLSb1xna6vaw' width=800>\n"
      ],
      "metadata": {
        "id": "ZuvVNEb5FSVO"
      }
    },
    {
      "cell_type": "markdown",
      "source": [
        "#### What about likelihood?\n",
        "\n",
        "Say we want to find the likelihood of a student getting 63 marks?"
      ],
      "metadata": {
        "id": "R9kpG_9mSLr3"
      }
    },
    {
      "cell_type": "markdown",
      "source": [
        "<img src=\"https://d2beiqkhq929f0.cloudfront.net/public_assets/assets/000/036/992/original/image_2023-06-16_182956942.png?1686920398\" height=600 width=600>"
      ],
      "metadata": {
        "id": "Wuf3DMxLSs52"
      }
    },
    {
      "cell_type": "markdown",
      "source": [
        "That would simply be the value on the y-axis for the distribution, in this cae, 0.12\n",
        "\n",
        "The notation would be\n",
        "- $L(dist.|data)$"
      ],
      "metadata": {
        "id": "BEKGZHpoSyzk"
      }
    },
    {
      "cell_type": "markdown",
      "source": [
        "So what's the major difference?\n",
        "\n",
        "- In likelihood the data is fixed, we move the distribution to fit the data.\n",
        "- In probability, we change the data as per our requirement.\n",
        "\n",
        "On a simpler terms,\n",
        "- Probability refers to the possibility of something happening\n",
        "- While likelihood refers to determining the data distribution for a given data point\n"
      ],
      "metadata": {
        "id": "KRpXIH16TLq_"
      }
    },
    {
      "cell_type": "markdown",
      "source": [
        "#### So how is this conneted to MLE in logistic regression?\n",
        "\n",
        "- Likelihood function determines the distribution given some observed data\n",
        "- In logistic regression, we are given the observed data for which we are trying to find the parameters to\n",
        "- MLE maximizes the likelihood of the likelihood function to be able to estimate the parameters of the observed data"
      ],
      "metadata": {
        "id": "qCED-EorVo-Z"
      }
    },
    {
      "cell_type": "markdown",
      "source": [
        "<!-- **Assume** we toss a fair coin.\n",
        "\n",
        "**What'll be the probability of getting a heads?**\n",
        "=> 1/2 or 0.5\n",
        "\n",
        "**What'll be the probability of getting a tails?**\n",
        "- Same. 0.5\n",
        "\n",
        "Notice that\n",
        "- when calculating probability or how likely a specific outcome will occur\n",
        "- we started off with an assumed condition\n",
        "\n",
        "The condition in this case was **fair coin** -->\n"
      ],
      "metadata": {
        "id": "qlkK9-n7P0eN"
      }
    },
    {
      "cell_type": "markdown",
      "source": [
        "<!--\n",
        "Now take **another example**:\n",
        "\n",
        "Say, we tossed a coin 10 times.\n",
        "- Out of 10 we got 8 heads and 2 tails.\n",
        "\n",
        "based on this, we want to know whether it is a fair coin or biased coin.\n",
        "\n",
        "Notice that\n",
        "- this time there is **no assumption** whether we have fair coin or baised coin\n",
        "- and we are provided with observed data (coin tossed 10 times.)\n",
        "\n",
        "Based on this, we get the **likelihood**\n",
        "- i.e. get the plausibility of hypothesis based on observed data.\n",
        "\n",
        "It is basically reverse engineering.\n",
        "- Instead of giving us a assumption,\n",
        "    - we are given a data and have been asked to whether the assumption will hold for this data.\n",
        "    - This is where we calculate the likelihood of it.\n",
        "\n",
        "\n",
        " -->\n"
      ],
      "metadata": {
        "id": "NGTEgZrSWfm6"
      }
    },
    {
      "cell_type": "markdown",
      "source": [
        "<!--\n",
        "**So, why likelihood when performing MLE?**\n",
        "\n",
        "In logistic regression, We are trying to **find the parameters** of a model based on **observed data**\n",
        "\n",
        "\n",
        "- and likelihood tells us plausibility of how well the chosen parameters explain the observed data. -->"
      ],
      "metadata": {
        "id": "gEInc4eLWiPB"
      }
    },
    {
      "cell_type": "markdown",
      "source": [
        "### Maximizing Likelihood Estimation"
      ],
      "metadata": {
        "id": "r2sVdv8nZtNL"
      }
    },
    {
      "cell_type": "markdown",
      "source": [
        "\n",
        "<img src='https://drive.google.com/uc?id=1Qsrn2KH5Q32Q-JfdfOFdLnNsx9v6zg-n' width=800>\n"
      ],
      "metadata": {
        "id": "DOM493vTF5ox"
      }
    },
    {
      "cell_type": "markdown",
      "source": [
        "We can write the above as:\n"
      ],
      "metadata": {
        "id": "vPinFFX-X3H3"
      }
    },
    {
      "cell_type": "markdown",
      "source": [
        "![](https://d2beiqkhq929f0.cloudfront.net/public_assets/assets/000/036/390/original/image_2023-06-08_151021163.png?1686217222)"
      ],
      "metadata": {
        "id": "xH1FQXw_YSHX"
      }
    },
    {
      "cell_type": "markdown",
      "source": [
        "We plot the error vs prediction plot for $y^{(i)}=0$ and $y^{(i)}=1$"
      ],
      "metadata": {
        "id": "XngfTOXG8RJ4"
      }
    },
    {
      "cell_type": "markdown",
      "source": [
        "\n",
        "<img src='https://drive.google.com/uc?id=1dPdXLi1DP3NA5-1rUKBAG31E-5Ec5v3J' width=800>\n",
        "\n"
      ],
      "metadata": {
        "id": "ifP-VqZCXjro"
      }
    },
    {
      "cell_type": "markdown",
      "source": [
        "Notice, this is the same as our negative log likelihood we dervied earlier\n"
      ],
      "metadata": {
        "id": "wNtLUgaoZuRD"
      }
    },
    {
      "cell_type": "markdown",
      "source": [
        "### Why can't we use MSE as loss for classification?"
      ],
      "metadata": {
        "id": "xKENuLyDatTL"
      }
    },
    {
      "cell_type": "markdown",
      "source": [
        "Before we dive into this, let's look at convex and non convex fuction"
      ],
      "metadata": {
        "id": "IBvvuAixjhHf"
      }
    },
    {
      "cell_type": "markdown",
      "source": [
        "\n",
        "<img src='https://drive.google.com/uc?id=18Tyn5B9Sn3TJlg_l4KTPKcx4mxS-3Uwd' width=800>\n"
      ],
      "metadata": {
        "id": "ZF4aNTOpGdJo"
      }
    },
    {
      "cell_type": "markdown",
      "source": [
        "#### What function would you prefer when solving for optimization problem of logisitic regression ?"
      ],
      "metadata": {
        "id": "78PEpdKGj4T6"
      }
    },
    {
      "cell_type": "markdown",
      "source": [
        "\n",
        "<img src='https://drive.google.com/uc?id=1DEU4hNh-xbdI_sT9LN3t2yg_Xe4FofIM' width=800>\n"
      ],
      "metadata": {
        "id": "088etTi0GldX"
      }
    },
    {
      "cell_type": "markdown",
      "source": [
        "**But, if we choose MSE with sigmoid, it'll be a non convex function.**\n",
        "- and we may not reach optimal solution.\n",
        "\n"
      ],
      "metadata": {
        "id": "1ZOfacRcknQJ"
      }
    },
    {
      "cell_type": "markdown",
      "source": [
        "#### But, we use MSE for linear regression. It was giving optimal solution. Why didn't we face this issue over there?\n",
        "\n",
        "Yes. Pay attention\n",
        "\n",
        "- **MSE when used with sigmoid as predictor** turns out to be non convex.\n",
        "\n",
        "We didn't use sigmoid as predictor in linear regression. Hence, it was convex over there"
      ],
      "metadata": {
        "id": "ftQlu0jXlxEQ"
      }
    },
    {
      "cell_type": "markdown",
      "source": [
        "#### Why MSE used with sigmoid is non convex?\n",
        "\n",
        "There's a mathematical proof behind it. If you are interested, you can read more here: https://towardsdatascience.com/why-not-mse-as-a-loss-function-for-logistic-regression-589816b5e03c"
      ],
      "metadata": {
        "id": "kJUV2SbUlqt9"
      }
    },
    {
      "cell_type": "markdown",
      "source": [
        "Hence, **we choose logloss with sigmoid**\n",
        "- which is a convex function\n",
        "\n",
        "and gurantees that we reach optimal solution."
      ],
      "metadata": {
        "id": "RLs6GKEJk_Bx"
      }
    },
    {
      "cell_type": "markdown",
      "source": [
        "### Let's implement log-loss now\n"
      ],
      "metadata": {
        "id": "kXe6s_5KnT85"
      }
    },
    {
      "cell_type": "code",
      "source": [
        "# Loss for a single point\n",
        "def log_loss(y, y_hat):\n",
        "  loss = y*np.log(y_hat)+(1-y)*np.log(1-y_hat)\n",
        "  return -loss"
      ],
      "metadata": {
        "id": "cFqV33F3nTdW"
      },
      "execution_count": null,
      "outputs": []
    },
    {
      "cell_type": "markdown",
      "source": [
        "**Quiz 12 :** (What do you think?)\n",
        "```\n",
        "What do you think would be the change to the code to implement it for m-points?\n",
        "A. -np.mean(loss)\n",
        "B. -loss/m, m being number of points\n",
        "C. -np.sum(loss)\n",
        "\n",
        "Ans: -np.mean(loss)\n",
        "```"
      ],
      "metadata": {
        "id": "o36yrfWlpQAh"
      }
    },
    {
      "cell_type": "code",
      "source": [
        "# Case 1, yi=1, high pi\n",
        "log_loss(1, 0.99)"
      ],
      "metadata": {
        "id": "B2WfSfog9dr8",
        "colab": {
          "base_uri": "https://localhost:8080/"
        },
        "outputId": "0af9526b-437a-43c0-aab8-3bef68cbfeb0"
      },
      "execution_count": null,
      "outputs": [
        {
          "output_type": "execute_result",
          "data": {
            "text/plain": [
              "0.01005033585350145"
            ]
          },
          "metadata": {},
          "execution_count": 26
        }
      ]
    },
    {
      "cell_type": "markdown",
      "source": [
        "Observe, how small log loss is"
      ],
      "metadata": {
        "id": "MT3E9xPe9pVT"
      }
    },
    {
      "cell_type": "code",
      "source": [
        "# Case 2, yi = 1, pi =0.5\n",
        "\n",
        "log_loss(1, 0.5)"
      ],
      "metadata": {
        "colab": {
          "base_uri": "https://localhost:8080/"
        },
        "id": "KvmSXe37qIKM",
        "outputId": "fca5eb15-11e7-4bbf-f3de-67e476656f8a"
      },
      "execution_count": null,
      "outputs": [
        {
          "output_type": "execute_result",
          "data": {
            "text/plain": [
              "0.6931471805599453"
            ]
          },
          "metadata": {},
          "execution_count": 27
        }
      ]
    },
    {
      "cell_type": "code",
      "source": [
        "# Case 3, yi = 1, low pi\n",
        "\n",
        "log_loss(1, 0.1)"
      ],
      "metadata": {
        "colab": {
          "base_uri": "https://localhost:8080/"
        },
        "id": "PTzJ90f9qKPv",
        "outputId": "e12334b8-3e80-470e-8ddc-52da5e0ed1b3"
      },
      "execution_count": null,
      "outputs": [
        {
          "output_type": "execute_result",
          "data": {
            "text/plain": [
              "2.3025850929940455"
            ]
          },
          "metadata": {},
          "execution_count": 28
        }
      ]
    },
    {
      "cell_type": "markdown",
      "source": [
        "Observe, how high the log loss is"
      ],
      "metadata": {
        "id": "VCWNjsXR-Ibs"
      }
    },
    {
      "cell_type": "markdown",
      "source": [
        "## Optimization"
      ],
      "metadata": {
        "id": "sSLynfXGraxC"
      }
    },
    {
      "cell_type": "markdown",
      "source": [
        "#### Do we need regularization?\n",
        "\n",
        "Yes, we can add regularization to prevent overfitting of the model"
      ],
      "metadata": {
        "id": "0yBOOMW2rY74"
      }
    },
    {
      "cell_type": "markdown",
      "source": [
        "\n",
        "\n",
        "<img src='https://drive.google.com/uc?id=1d8myy-zZvFSwyXeIUPwyUk7QSsM6GKwR' width=800>\n"
      ],
      "metadata": {
        "id": "ZyQmNzqDG3nX"
      }
    },
    {
      "cell_type": "markdown",
      "source": [
        "\n",
        "\n",
        "<img src='https://drive.google.com/uc?id=1ZsqxNTRqoNWS2pxLiHIe38k_d6B-dWQC' width=800>\n"
      ],
      "metadata": {
        "id": "xdEKNJ7lHCe1"
      }
    },
    {
      "cell_type": "markdown",
      "source": [
        "\n",
        "\n",
        "<img src='https://drive.google.com/uc?id=192FpQHy1xXuuOzuQ0e0SQx7wOs1LRteM' width=800>\n"
      ],
      "metadata": {
        "id": "1szffX65HJs8"
      }
    },
    {
      "cell_type": "markdown",
      "source": [
        "\n",
        "\n",
        "<img src='https://drive.google.com/uc?id=1Uc163cZsh-uzGPfke9Fmx75Cafob1Dgb' width=800>\n",
        "\n"
      ],
      "metadata": {
        "id": "Q_6XQbZOHYLR"
      }
    },
    {
      "cell_type": "markdown",
      "source": [
        "\n",
        "\n",
        "<img src='https://drive.google.com/uc?id=1f3xUhv1gSknYoPIoR7KXw08LedCvfdc1' width=800>\n",
        "\n"
      ],
      "metadata": {
        "id": "udLmYDV9Hl44"
      }
    },
    {
      "cell_type": "markdown",
      "source": [
        "\n",
        "\n",
        "<img src='https://drive.google.com/uc?id=1o5NmmPgBzH3JnKN6ptbQUKDSbwRje_q1' width=800>\n",
        "\n"
      ],
      "metadata": {
        "id": "hXQ3ruMvHsWM"
      }
    },
    {
      "cell_type": "markdown",
      "source": [
        "<font color='red'> The scratch implementation of LogisticRegression is in the PostRead. </font>\n",
        "- https://colab.research.google.com/drive/16OjEQ0RExT7AlgyasMlvyvdCt0TNB18m?usp=share_link"
      ],
      "metadata": {
        "id": "RNU4teES3cei"
      }
    },
    {
      "cell_type": "code",
      "source": [],
      "metadata": {
        "id": "OhMTF11r3kNN"
      },
      "execution_count": null,
      "outputs": []
    }
  ]
}