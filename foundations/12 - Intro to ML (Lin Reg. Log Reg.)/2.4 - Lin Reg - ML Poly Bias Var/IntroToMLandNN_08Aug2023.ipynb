{
  "cells": [
    {
      "cell_type": "markdown",
      "metadata": {
        "id": "nI5xL07eiOj_"
      },
      "source": [
        "#**Batch Gradient** (Already Learnt)"
      ]
    },
    {
      "cell_type": "markdown",
      "source": [
        "\n",
        "\n",
        "<center><img src='https://drive.google.com/uc?id=1Fade_fdRb_B-vkMkG5WqGSzXKdEHBU0X' width=800></center>\n",
        "\n",
        "\n",
        "\n"
      ],
      "metadata": {
        "id": "33AVJxA3iO_5"
      }
    },
    {
      "cell_type": "markdown",
      "source": [
        "\n",
        "\n",
        "<center><img src='https://drive.google.com/uc?id=1uEN8snjrJikstNrqRGK-5a-zbvCZ-nVB' width=800></center>\n"
      ],
      "metadata": {
        "id": "oZdL3huokCc5"
      }
    },
    {
      "cell_type": "markdown",
      "metadata": {
        "id": "T67XaCCIXyMf"
      },
      "source": [
        "## **Lets see if you remember GD properly**"
      ]
    },
    {
      "cell_type": "markdown",
      "source": [
        "#### How did we compute gradient descent in Linear Regression ?\n",
        "\n"
      ],
      "metadata": {
        "id": "2Ay62NsckjQ3"
      }
    },
    {
      "cell_type": "markdown",
      "source": [
        "Recall when computing the gradient descent, the weights are updated as:\n"
      ],
      "metadata": {
        "id": "ABgi1-1SldeB"
      }
    },
    {
      "cell_type": "markdown",
      "source": [
        "\n",
        "\n",
        "<center><img src='https://drive.google.com/uc?id=1rca9XhObHCd_K0hkSdDkO_GnIgzUSbAk' width=800></center>\n",
        "\n"
      ],
      "metadata": {
        "id": "LDKg_bjxlOlM"
      }
    },
    {
      "cell_type": "markdown",
      "source": [
        "\n",
        "\n",
        "<center><img src='https://drive.google.com/uc?id=1qkPs6Z1Ys6ruu2-p5vkLu2NaqzXuF62X' width=800></center>\n"
      ],
      "metadata": {
        "id": "LKqIXKK6luNN"
      }
    },
    {
      "cell_type": "markdown",
      "metadata": {
        "id": "f92sBkRN8PJH"
      },
      "source": [
        "\n",
        "\n",
        "#### What can be the potential problem while doing Gradient Descent ?\n",
        "\n",
        "\n",
        "\n"
      ]
    },
    {
      "cell_type": "markdown",
      "source": [
        "\n",
        "\n",
        "<center><img src='https://drive.google.com/uc?id=14Yb_YU732rt8FmcnBpSCij3EUafjvnZs' width=800></center>\n",
        "\n"
      ],
      "metadata": {
        "id": "vqCPi3PUmB-w"
      }
    },
    {
      "cell_type": "markdown",
      "source": [
        "\n",
        "\n",
        "<center><img src='https://drive.google.com/uc?id=1GWDtSNG2rpSQpuz64hHIWO2iRMPUrDwM' width=800></center>\n",
        "\n"
      ],
      "metadata": {
        "id": "z_OlAG7NmmwM"
      }
    },
    {
      "cell_type": "markdown",
      "metadata": {
        "id": "fStlJcceANoQ"
      },
      "source": [
        "##**SGD/Mini Batch**##\n"
      ]
    },
    {
      "cell_type": "markdown",
      "metadata": {
        "id": "unOqvL_S_75O"
      },
      "source": [
        "#### How to reduce the time taken by Batch Gradient ?\n",
        "\n",
        "\n",
        "\n",
        "\n",
        "\n"
      ]
    },
    {
      "cell_type": "markdown",
      "source": [
        "\n",
        "\n",
        "<center><img src='https://drive.google.com/uc?id=1uycpFD9PV4CMOO1HZMa5eOTH3Y067RFG' width=800></center>\n",
        "\n"
      ],
      "metadata": {
        "id": "WiIL-_1VoiWQ"
      }
    },
    {
      "cell_type": "markdown",
      "metadata": {
        "id": "sg1p8MIzBQ_N"
      },
      "source": [
        "\n",
        "#### What can be the possible values of Batch size ($k$) ?\n",
        "\n",
        "\n",
        "\n",
        "\n",
        "\n",
        "\n",
        "\n",
        "\n",
        "\n"
      ]
    },
    {
      "cell_type": "markdown",
      "source": [
        "\n",
        "\n",
        "<center><img src='https://drive.google.com/uc?id=1axENukUDq6FAK0GAXqWXiO6A4LQzLgNu' width=800></center>\n",
        "\n"
      ],
      "metadata": {
        "id": "10vS_6pUo_f6"
      }
    },
    {
      "cell_type": "markdown",
      "metadata": {
        "id": "v1uJTVusDWYf"
      },
      "source": [
        "## **Understanding Mini-Batch GD**"
      ]
    },
    {
      "cell_type": "markdown",
      "source": [
        "\n",
        "\n",
        "<center><img src='https://drive.google.com/uc?id=1l4HGDWFRXegdbk0x5DWvWcPEEOVr3RdB' width=800></center>\n",
        "\n"
      ],
      "metadata": {
        "id": "CeDM92uaptOa"
      }
    },
    {
      "cell_type": "markdown",
      "source": [
        "\n",
        "\n",
        "<center><img src='https://drive.google.com/uc?id=13EDtacLbKEbrbN_Z8K4HOX4eEHXmtZBe' width=800></center>\n",
        "\n"
      ],
      "metadata": {
        "id": "sKyGxkUNpynz"
      }
    },
    {
      "cell_type": "markdown",
      "source": [
        "\n",
        "\n",
        "<center><img src='https://drive.google.com/uc?id=1Sgrxc-2_98YOgO3K329Ut1eFj6bCmP75' width=800></center>\n",
        "\n",
        "\n"
      ],
      "metadata": {
        "id": "srGlqu23p3st"
      }
    },
    {
      "cell_type": "markdown",
      "source": [
        "\n",
        "#### Will the gradient value be accurate for mini batch with k = 256 ?"
      ],
      "metadata": {
        "id": "zb9lN1uk32Lr"
      }
    },
    {
      "cell_type": "markdown",
      "source": [
        "\n",
        "\n",
        "<center><img src='https://drive.google.com/uc?id=1FjBmHHTLKMl9tVVlD9YUd6wz2AjqrrLW' width=800></center>\n",
        "\n"
      ],
      "metadata": {
        "id": "hv0Uft2XqkQr"
      }
    },
    {
      "cell_type": "markdown",
      "source": [
        "\n",
        "\n",
        "<center><img src='https://drive.google.com/uc?id=1bL58O40weizOVz9H2pQqwcO-ExvHITws' width=800></center>\n",
        "\n"
      ],
      "metadata": {
        "id": "I4nJ42x2CTjK"
      }
    },
    {
      "cell_type": "markdown",
      "source": [
        "\n",
        "\n",
        "#### How is Mini-Batch effective over Batch Gradient ?\n",
        "\n",
        "\n",
        "\n",
        "\n",
        "\n"
      ],
      "metadata": {
        "id": "EYe6Zc5L3-iK"
      }
    },
    {
      "cell_type": "markdown",
      "source": [
        "\n",
        "\n",
        "<center><img src='https://drive.google.com/uc?id=1QL-mgEn7V3n4Tw_WPxpv-FfFdEqvEplq' width=800></center>\n",
        "\n"
      ],
      "metadata": {
        "id": "WJT1Wp-BCe8Q"
      }
    },
    {
      "cell_type": "markdown",
      "source": [
        "**Observe:**\n",
        "We already have seen in Gradient Descent that:\n",
        "- **Vectorization is computed faster than iterating over n samples**\n",
        "\n",
        "- **Hence, Mini-Batch GD is just a vectorization of Batch Gradient**\n",
        " - As we divide the data into chunks in order to quickly find gradients\n"
      ],
      "metadata": {
        "id": "DOUC_DRLuW8u"
      }
    },
    {
      "cell_type": "markdown",
      "metadata": {
        "id": "EK9HDOxbKZrA"
      },
      "source": [
        "#### How is Gradient Descent step progress in Mini-Batch, SGD and Batch GD ?\n",
        "\n"
      ]
    },
    {
      "cell_type": "markdown",
      "source": [
        "Lets understand the fluctuations in weight values with a contour plot of loss:"
      ],
      "metadata": {
        "id": "mqKylLI0td68"
      }
    },
    {
      "cell_type": "markdown",
      "source": [
        "\n",
        "\n",
        "<center><img src='https://drive.google.com/uc?id=1xJUrzWR4jcw33ASYoSioP-5s0mCGYyWw' width=800></center>\n",
        "\n"
      ],
      "metadata": {
        "id": "6qFBMyqNtMiz"
      }
    },
    {
      "cell_type": "markdown",
      "source": [
        "\n",
        "\n",
        "<center><img src='https://drive.google.com/uc?id=1PHiqOLCvM5jzzj6FXHb9-g0gcvA-PwB2' width=800></center>\n",
        "\n"
      ],
      "metadata": {
        "id": "giL6BbfFtBQd"
      }
    },
    {
      "cell_type": "markdown",
      "metadata": {
        "id": "P0uau7LkJrVn"
      },
      "source": [
        "\n",
        "\n",
        "**Observe**\n",
        "\n",
        "1. For **Batch Gradient descent**,\n",
        "- Since the entire data is taken for gradients,\n",
        "    - the weight reaches optimal value with **least number of fluctuations per iteration**\n",
        "\n",
        "- But due to taking **whole data per iteration**, the time to compute one GD step/iteration  is very high\n",
        "\n",
        "<br>\n",
        "\n",
        "2. For **Stochastic GD**,\n",
        "- Since only a single datapoint is used for  gradients, and these datapoints can be noises in the data\n",
        "- Hence, there  will be **the maximum number of fluctuations in the weight value**\n",
        "\n",
        "\n",
        "\n",
        "<br>\n",
        "\n",
        "3. Now when **Mini-Batch GD** is used:\n",
        "-  Since it vectorizes the data into chunks, **Mini-Batch GD reaches optimal weight value the fastest**\n",
        "- With a cose of **few fluctuations in the weight value**\n",
        "\n",
        "\n",
        "\n",
        "\n",
        "\n",
        "\n",
        "\n"
      ]
    },
    {
      "cell_type": "markdown",
      "metadata": {
        "id": "RnlT-SpiUR9o"
      },
      "source": [
        "# **Mini-Batch Gradient code** - (Post Read)\n",
        "\n",
        "PostRead- Link: https://colab.research.google.com/drive/1EXhY2Ax1lPp7cc03bHvwtc-UQ78t6iKI?usp=sharing"
      ]
    },
    {
      "cell_type": "markdown",
      "metadata": {
        "id": "mqXNWy0NNTmo"
      },
      "source": [
        "#**Polynomial Regression**"
      ]
    },
    {
      "cell_type": "markdown",
      "metadata": {
        "id": "zutohPbj2Glm"
      },
      "source": [
        "#### Will a linear regression work here ?\n"
      ]
    },
    {
      "cell_type": "markdown",
      "source": [
        "\n",
        "\n",
        "<center><img src='https://drive.google.com/uc?id=1u_xCfhLpeftK5rK2pp_n0oRGkDuTX_WY' width=800></center>\n",
        "\n"
      ],
      "metadata": {
        "id": "xtxhJ3MuvaUx"
      }
    },
    {
      "cell_type": "markdown",
      "metadata": {
        "id": "FP9ODU6_2P0d"
      },
      "source": [
        "#### if data gets non-linear will linear regression work ?"
      ]
    },
    {
      "cell_type": "markdown",
      "source": [
        "\n",
        "\n",
        "<center><img src='https://drive.google.com/uc?id=1fuHOgDLEP0ICDoaLluPi1K-YZ9ZViRn0' width=800></center>\n",
        "\n"
      ],
      "metadata": {
        "id": "35fXaaRzvtmr"
      }
    },
    {
      "cell_type": "markdown",
      "metadata": {
        "id": "I-zCytqaS2jI"
      },
      "source": [
        "\n",
        "#### What could be the best fit line for the data ?\n"
      ]
    },
    {
      "cell_type": "markdown",
      "source": [
        "\n",
        "\n",
        "<center><img src='https://drive.google.com/uc?id=1NzEAR7EBd4kW-kszp0wMH90LwaBl2LID' width=800></center>\n",
        "\n"
      ],
      "metadata": {
        "id": "beqnwygewFBu"
      }
    },
    {
      "cell_type": "markdown",
      "metadata": {
        "id": "t8yFpsG6Sosq"
      },
      "source": [
        "#### How to make Linear Regression,  Quadratic ?\n",
        "\n",
        "By adding a new feature, such that:\n",
        "\n",
        "- Quad func:  $ \\hat{y_i} = w_0 + w_1 f_1 + w_2 {f_1}^2 $\n",
        "\n",
        "\n",
        "#### How does the data look when adding $f_2$ ?\n",
        "\n"
      ]
    },
    {
      "cell_type": "markdown",
      "source": [
        "\n",
        "\n",
        "<center><img src='https://drive.google.com/uc?id=1TVKLEQX8_ZMaDHQjpB41Ub0eGav58hxq' width=800></center>\n",
        "\n"
      ],
      "metadata": {
        "id": "n6-skCAOwVAI"
      }
    },
    {
      "cell_type": "markdown",
      "metadata": {
        "id": "ZyFnpv4cQviU"
      },
      "source": [
        "#### How does Linear Regression looks like when plotting $f_1$ and $f_2 = {f_1}^2$ and $y$ ?"
      ]
    },
    {
      "cell_type": "markdown",
      "source": [
        "As we use 2 features and $y$:\n",
        "- Linear Regression model is a plane\n"
      ],
      "metadata": {
        "id": "iDMNIxz_xaXB"
      }
    },
    {
      "cell_type": "markdown",
      "source": [
        "\n",
        "\n",
        "<center><img src='https://drive.google.com/uc?id=1Syk0CeYTeGUX4RWMtUBGnfLpY64PYei-' width=800></center>\n",
        "\n"
      ],
      "metadata": {
        "id": "n6P4_kAExO50"
      }
    },
    {
      "cell_type": "markdown",
      "metadata": {
        "id": "tH0tteeagJar"
      },
      "source": [
        "#### Does using $f_2 = {f_1}^2$ causes MultiCollinearity ?\n",
        "\n",
        "\n"
      ]
    },
    {
      "cell_type": "markdown",
      "source": [
        "\n",
        "\n",
        "<center><img src='https://drive.google.com/uc?id=1iaiZNMyx159d6h0_NiCtRfQdebkok8OQ' width=800></center>\n",
        "\n",
        "\n",
        "\n"
      ],
      "metadata": {
        "id": "YfHShdsux_oL"
      }
    },
    {
      "cell_type": "markdown",
      "metadata": {
        "id": "td96TPTUnNVY"
      },
      "source": [
        "#### How does adding a feature $f_2 = f_1^2$ makes Linear Regression a Quadratic Model ?\n",
        "\n",
        "\n"
      ]
    },
    {
      "cell_type": "markdown",
      "source": [
        "After adding another feature to Linear Regression,\n",
        "- We have **increased the dimension of the data from 1** ($f_1$) to **2 dimension** ($f_1$ and $f_2 = f_1^2$) , which made the LR model look like a plane.\n",
        "\n",
        "- if we again plot the higher dimensional LR model to a single dimension (lower dimension), **LR model creates a non-linear line**"
      ],
      "metadata": {
        "id": "wR1JmZivzP9t"
      }
    },
    {
      "cell_type": "markdown",
      "source": [
        "\n",
        "\n",
        "<center><img src='https://drive.google.com/uc?id=1DJoxaG38FNc-F7naLItntzg4TSP_HT6x' width=800></center>\n",
        "\n"
      ],
      "metadata": {
        "id": "RHw0Sbq_ynLW"
      }
    },
    {
      "cell_type": "markdown",
      "source": [
        "\n",
        "Though, the Polynomial Regression equation is still a linear combination as weights are still have degree = 1\n",
        " - $LR = w_0 + w_1f_1 + w_2 f_1^2$\n",
        "\n"
      ],
      "metadata": {
        "id": "8VzfMad7ypCO"
      }
    },
    {
      "cell_type": "markdown",
      "metadata": {
        "id": "rG3TLq-obaaq"
      },
      "source": [
        "# **Polynomial Regression Code**\n"
      ]
    },
    {
      "cell_type": "markdown",
      "metadata": {
        "id": "cyZQVlcMUkBp"
      },
      "source": [
        "Now lets consider another dummy data\n",
        "\n",
        "- Here, we have 50 datapoints\n",
        "- But now the data is non-linear in nature"
      ]
    },
    {
      "cell_type": "code",
      "execution_count": 8,
      "metadata": {
        "colab": {
          "base_uri": "https://localhost:8080/",
          "height": 311
        },
        "id": "_RMxjn_zUkBq",
        "outputId": "02679c43-473f-47ce-b058-6677278be143"
      },
      "outputs": [
        {
          "output_type": "display_data",
          "data": {
            "text/plain": [
              "<Figure size 500x300 with 1 Axes>"
            ],
            "image/png": "[encoded data removed]"
          },
          "metadata": {}
        }
      ],
      "source": [
        "import numpy as np\n",
        "import matplotlib.pyplot as plt\n",
        "\n",
        "np.random.seed(1)\n",
        "X = np.random.rand(50,1)\n",
        "y = 0.7*(X**5) - \\\n",
        "    2.1*(X**4) + \\\n",
        "    2.7*(X**3) + \\\n",
        "    3.5*(X**2) + \\\n",
        "    0.3* X + \\\n",
        "    0.4*np.random.rand(50,1) # no data in world is perfect\n",
        "fig = plt.figure(figsize=(5,3))\n",
        "plt.scatter(X, y)\n",
        "plt.xlabel(\"X\")\n",
        "plt.ylabel(\"Y\")\n",
        "plt.show()"
      ]
    },
    {
      "cell_type": "markdown",
      "metadata": {
        "id": "2SVia7U8UkBq"
      },
      "source": [
        "### How does linear regression perform on this variable?"
      ]
    },
    {
      "cell_type": "code",
      "execution_count": 9,
      "metadata": {
        "id": "9IQITqz8PsMq"
      },
      "outputs": [],
      "source": [
        "def adj_r(r_sq,X,Y):\n",
        "  adj_r1 = (1 - ((1-r_sq)*(len(Y)-1))/(len(Y)-X.shape[1]-1) )\n",
        "  return adj_r1"
      ]
    },
    {
      "cell_type": "code",
      "execution_count": 10,
      "metadata": {
        "id": "N5u1oQD_99fy"
      },
      "outputs": [],
      "source": [
        "def r2_score(y,y_):\n",
        "    num = np.sum((y-y_)**2)\n",
        "    denom = np.sum((y- y.mean())**2)\n",
        "    score = (1- num/denom)\n",
        "    return score"
      ]
    },
    {
      "cell_type": "code",
      "execution_count": 11,
      "metadata": {
        "colab": {
          "base_uri": "https://localhost:8080/",
          "height": 329
        },
        "id": "6FTrCpyIUkBq",
        "outputId": "af2df95d-9dfb-40eb-d37e-863bfe3b92c1"
      },
      "outputs": [
        {
          "output_type": "stream",
          "name": "stdout",
          "text": [
            "Adj. R-square: 0.9332371047707784\n"
          ]
        },
        {
          "output_type": "display_data",
          "data": {
            "text/plain": [
              "<Figure size 500x300 with 1 Axes>"
            ],
            "image/png": "[encoded data removed]"
          },
          "metadata": {}
        }
      ],
      "source": [
        "\n",
        "from sklearn.linear_model import LinearRegression\n",
        "\n",
        "\n",
        "\n",
        "model = LinearRegression()\n",
        "model.fit(X, y)\n",
        "\n",
        "output = model.predict(X)\n",
        "#print('R-square:', r2_score(y,output))\n",
        "print('Adj. R-square:', adj_r(r2_score(y,output),X,y ) )\n",
        "\n",
        "fig = plt.figure(figsize=(5,3))\n",
        "plt.scatter(X, y, label=\"samples\")\n",
        "plt.plot(X, output, label=\"prediction\",color='orange')\n",
        "plt.xlabel(\"X\")\n",
        "plt.ylabel(\"Y\")\n",
        "plt.show()\n",
        "\n"
      ]
    },
    {
      "cell_type": "markdown",
      "metadata": {
        "id": "plvPZ_-6k7rQ"
      },
      "source": [
        "\n",
        "#### How does it perform when we add $X^2$ as the feature?\n"
      ]
    },
    {
      "cell_type": "code",
      "execution_count": 12,
      "metadata": {
        "colab": {
          "base_uri": "https://localhost:8080/",
          "height": 329
        },
        "id": "rRIAFXqolBzk",
        "outputId": "5ea3f178-c754-45fd-a9f7-241e039da721"
      },
      "outputs": [
        {
          "output_type": "stream",
          "name": "stdout",
          "text": [
            "Adj. R-square: 0.9947910474710182\n"
          ]
        },
        {
          "output_type": "display_data",
          "data": {
            "text/plain": [
              "<Figure size 500x300 with 1 Axes>"
            ],
            "image/png": "[encoded data removed]"
          },
          "metadata": {}
        }
      ],
      "source": [
        "#adding new feature X^2\n",
        "X_deg2 = np.hstack([X, X**2])\n",
        "model_deg2 = LinearRegression()\n",
        "model_deg2.fit(X_deg2, y)\n",
        "output = model_deg2.predict(X_deg2)\n",
        "\n",
        "#print('R-square:', r2_score(y,output))\n",
        "print('Adj. R-square:', adj_r(r2_score(y,output),X,y ) )\n",
        "fig = plt.figure(figsize=(5,3))\n",
        "plt.scatter(X, y, label=\"samples\")\n",
        "plt.scatter(X, output, label=\"prediction\",color='orange')\n",
        "plt.xlabel(\"X\")\n",
        "plt.ylabel(\"Y\")\n",
        "plt.show()\n"
      ]
    },
    {
      "cell_type": "markdown",
      "metadata": {
        "id": "JrxhO15glG1r"
      },
      "source": [
        "**observe**\n",
        "- The performance of the model increased drastically\n",
        "- Meaning that a non-linear feature did the trick\n",
        "\n",
        "\n",
        "\n"
      ]
    },
    {
      "cell_type": "markdown",
      "metadata": {
        "id": "g1ZKOz1zmrgM"
      },
      "source": [
        "### Using Sklearn  PolynomialFeatures class to train LR models with different non-linear features"
      ]
    },
    {
      "cell_type": "code",
      "execution_count": 13,
      "metadata": {
        "colab": {
          "base_uri": "https://localhost:8080/",
          "height": 1000
        },
        "id": "mZkd0EV3mu5t",
        "outputId": "5082dd62-04ac-4561-c1be-da2563c2947a"
      },
      "outputs": [
        {
          "output_type": "stream",
          "name": "stdout",
          "text": [
            "Adj. R-square for Model Degree1: 0.9318166176382416\n"
          ]
        },
        {
          "output_type": "display_data",
          "data": {
            "text/plain": [
              "<Figure size 500x300 with 1 Axes>"
            ],
            "image/png": "[encoded data removed]"
          },
          "metadata": {}
        },
        {
          "output_type": "stream",
          "name": "stdout",
          "text": [
            "Adj. R-square for Model Degree2: 0.994564571274106\n"
          ]
        },
        {
          "output_type": "display_data",
          "data": {
            "text/plain": [
              "<Figure size 500x300 with 1 Axes>"
            ],
            "image/png": "[encoded data removed]"
          },
          "metadata": {}
        },
        {
          "output_type": "stream",
          "name": "stdout",
          "text": [
            "Adj. R-square for Model Degree3: 0.9944735532438161\n"
          ]
        },
        {
          "output_type": "display_data",
          "data": {
            "text/plain": [
              "<Figure size 500x300 with 1 Axes>"
            ],
            "image/png": "[encoded data removed]"
          },
          "metadata": {}
        },
        {
          "output_type": "stream",
          "name": "stdout",
          "text": [
            "Adj. R-square for Model Degree4: 0.9954971261912255\n"
          ]
        },
        {
          "output_type": "display_data",
          "data": {
            "text/plain": [
              "<Figure size 500x300 with 1 Axes>"
            ],
            "image/png": "[encoded data removed]"
          },
          "metadata": {}
        },
        {
          "output_type": "stream",
          "name": "stdout",
          "text": [
            "Adj. R-square for Model Degree5: 0.995442243943045\n"
          ]
        },
        {
          "output_type": "display_data",
          "data": {
            "text/plain": [
              "<Figure size 500x300 with 1 Axes>"
            ],
            "image/png": "[encoded data removed]"
          },
          "metadata": {}
        }
      ],
      "source": [
        "from sklearn.preprocessing import PolynomialFeatures\n",
        "from sklearn.preprocessing import StandardScaler\n",
        "\n",
        "scores = []\n",
        "# Using Degrees 1 to 5, and seeing performance of the model\n",
        "for i in range(1, 6):\n",
        "\n",
        "    #creates polynomial feature\n",
        "    poly = PolynomialFeatures(i)\n",
        "    X_poly = poly.fit_transform(X)\n",
        "\n",
        "    #Standardization\n",
        "    scaler = StandardScaler()\n",
        "    scaler.fit(X_poly)\n",
        "    X_poly_scaled = scaler.transform(X_poly)\n",
        "\n",
        "    #training model\n",
        "    model = LinearRegression()\n",
        "    model.fit(X_poly_scaled, y)\n",
        "\n",
        "    #Prediction\n",
        "    output = model.predict(X_poly_scaled)\n",
        "\n",
        "    #Plotting\n",
        "    print(f'Adj. R-square for Model Degree{i}: {adj_r(r2_score(y,output),X_poly_scaled,y )}' )\n",
        "\n",
        "    fig = plt.figure(figsize=(5,3))\n",
        "    plt.scatter(X, y, label=\"samples\")\n",
        "    plt.scatter(X, output, label=\"prediction\")\n",
        "    plt.xlabel(\"X\")\n",
        "    plt.ylabel(\"Y\")\n",
        "    plt.title(f\"Degree {i}\")\n",
        "    plt.show()"
      ]
    },
    {
      "cell_type": "markdown",
      "metadata": {
        "id": "-RZ5uMVLgcQ3"
      },
      "source": [
        "**Observe**:\n",
        "- As the degree of the feature being added increases, the model performance gets better"
      ]
    },
    {
      "cell_type": "markdown",
      "metadata": {
        "id": "9DuiTGdPatGi"
      },
      "source": [
        "# **Generalization and Occum's Razor**"
      ]
    },
    {
      "cell_type": "markdown",
      "source": [
        "\n",
        "\n",
        "<center><img src='https://drive.google.com/uc?id=1fJRxmU4ACuP0CMpSj6-ShTeaikIXdFdD' width=800></center>\n",
        "\n",
        "\n"
      ],
      "metadata": {
        "id": "vg-ynW5Jf2yn"
      }
    },
    {
      "cell_type": "markdown",
      "source": [
        "\n",
        "\n",
        "<center><img src='https://drive.google.com/uc?id=1yF-qwf7a_-Xgn1Jvp_qwXcNry1QL8EW_' width=800></center>\n",
        "\n"
      ],
      "metadata": {
        "id": "-tIvR1q9gBDL"
      }
    },
    {
      "cell_type": "markdown",
      "source": [
        "\n",
        "\n",
        "<center><img src='https://drive.google.com/uc?id=1vn2PMHegs0YqVcRO92df_r6JkkTQfzvN' width=800></center>\n",
        "\n"
      ],
      "metadata": {
        "id": "YKbsCWJWgmiK"
      }
    },
    {
      "cell_type": "markdown",
      "source": [
        "We fit 3 models to the training data. i.e. $M1, M2, M3$\n"
      ],
      "metadata": {
        "id": "5n0dSw5-hZxB"
      }
    },
    {
      "cell_type": "markdown",
      "source": [
        "\n",
        "\n",
        "<center><img src='https://drive.google.com/uc?id=1Mla-l39NBF4SZ3LJFofutEOieopQcPT7' width=800></center>\n",
        "\n"
      ],
      "metadata": {
        "id": "CgUdvza6gtWY"
      }
    },
    {
      "cell_type": "markdown",
      "metadata": {
        "id": "-Y9HyEiBbC7r"
      },
      "source": [
        "\n",
        "\n",
        "#### Which model $M_1$, $M_2$, $M_3$ is best ?\n",
        "\n",
        "\n",
        "\n",
        "\n",
        "\n"
      ]
    },
    {
      "cell_type": "markdown",
      "source": [
        "\n",
        "\n",
        "<center><img src='https://drive.google.com/uc?id=10KC_Jc665I4EDIpYhbRQPYg5zo0Dr8GC' width=800></center>\n",
        "\n"
      ],
      "metadata": {
        "id": "3ltX4YY2hVnz"
      }
    },
    {
      "cell_type": "markdown",
      "source": [
        "\n",
        "\n",
        "<center><img src='https://drive.google.com/uc?id=1B5GmcIHes19oBHvSIceRVdbj658ULOub' width=800></center>\n",
        "\n",
        "\n"
      ],
      "metadata": {
        "id": "GnhfhHMqhptF"
      }
    },
    {
      "cell_type": "markdown",
      "source": [
        "\n",
        "\n",
        "<center><img src='https://drive.google.com/uc?id=1iFV270f6VhegQMdE7QenoDPGfKAwCAch' width=800></center>\n",
        "\n"
      ],
      "metadata": {
        "id": "1KcxkExwhtXE"
      }
    },
    {
      "cell_type": "markdown",
      "source": [
        "\n",
        "\n",
        "<center><img src='https://drive.google.com/uc?id=1IAk3keYmrRK2OjrvQ3WQyxz6yJ6o8dLh' width=800></center>\n",
        "\n"
      ],
      "metadata": {
        "id": "HagX2tJQh4gm"
      }
    },
    {
      "cell_type": "markdown",
      "metadata": {
        "id": "aW9plnCYgtGu"
      },
      "source": [
        "In order to choose the best model out of different models, we use 2 different concepts:\n",
        "1. generalization\n",
        "2. Occum's Razor\n",
        "\n",
        "<br>\n",
        "\n",
        "Recall when we have a data, we first split data into:\n",
        "1. Training data\n",
        "2. Testing data (Unseen data)\n",
        "\n",
        "\n"
      ]
    },
    {
      "cell_type": "markdown",
      "metadata": {
        "id": "iPrO6P8qjjDI"
      },
      "source": [
        "## **Understanding generalization**"
      ]
    },
    {
      "cell_type": "markdown",
      "source": [
        "\n",
        "\n",
        "<center><img src='https://drive.google.com/uc?id=1oduXjJmSLfzgMw4VRZ3_AjxZKWr3SnwI' width=800></center>\n",
        "\n",
        "\n",
        "\n"
      ],
      "metadata": {
        "id": "srt93NktiUgA"
      }
    },
    {
      "cell_type": "markdown",
      "metadata": {
        "id": "1A3x-_uxk9xr"
      },
      "source": [
        "# **Occam's Razor**"
      ]
    },
    {
      "cell_type": "markdown",
      "source": [
        "\n",
        "\n",
        "<center><img src='https://drive.google.com/uc?id=18s73wPeDqP5WOG-wWLFK5JDoq0XITf2-' width=800></center>\n",
        "\n"
      ],
      "metadata": {
        "id": "Reldrmt2i52z"
      }
    },
    {
      "cell_type": "markdown",
      "metadata": {
        "id": "DzrrY93lkt87"
      },
      "source": [
        "#### Imagine if there are **three solutions to a problem** and **$S_1$ is hardest, $S_2$ is the easiest and $S_3$ is moderate**. Then which solution to choose ?\n",
        "Ans: Clearly everyone will opt for $S_2$ because it is the easiest solution\n",
        "\n",
        "Occum's Razor says the exact same thing:\n",
        "- Dervived from psyhocology, it states to pick the simplest/easiest solution to a problem"
      ]
    },
    {
      "cell_type": "markdown",
      "metadata": {
        "id": "wVtJn0vvszA1"
      },
      "source": [
        "## **Understanding which model to choose**"
      ]
    },
    {
      "cell_type": "markdown",
      "source": [
        "\n",
        "\n",
        "<center><img src='https://drive.google.com/uc?id=1jvoeM49iRQZWVlJqdOBsHWkSmyF0M9km' width=800></center>\n",
        "\n",
        "\n"
      ],
      "metadata": {
        "id": "mzc0Np1Yjn89"
      }
    },
    {
      "cell_type": "markdown",
      "metadata": {
        "id": "Jc7SHi6Usw89"
      },
      "source": [
        "\n",
        "\n",
        "#### Which model $M_1$, $M_2$, $M_3$ will you pick ?\n",
        "\n"
      ]
    },
    {
      "cell_type": "markdown",
      "source": [
        "\n",
        "\n",
        "<center><img src='https://drive.google.com/uc?id=15aNwsVjLzCjMm9stwV7CsDoTMcwAt9N2' width=800></center>\n",
        "\n",
        "\n"
      ],
      "metadata": {
        "id": "WI1k1wgXj0SN"
      }
    },
    {
      "cell_type": "markdown",
      "metadata": {
        "id": "3Ct_6EUnIOet"
      },
      "source": [
        "# **Overfitting vs Underfitting**"
      ]
    },
    {
      "cell_type": "markdown",
      "metadata": {
        "id": "vxAh-6exISer"
      },
      "source": [
        "## **Mathematical Intuition**"
      ]
    },
    {
      "cell_type": "markdown",
      "metadata": {
        "id": "iNXzdy4vVg4Y"
      },
      "source": [
        "Lets understand Underfitting and Overfitting mathematically:\n",
        "\n",
        "\n",
        "\n",
        "\n"
      ]
    },
    {
      "cell_type": "markdown",
      "source": [
        "\n",
        "\n",
        "<center><img src='https://drive.google.com/uc?id=1VbQSm4lZHbhmXEN9dfXB5cWADRnL-J0u' width=800></center>\n",
        "\n",
        "\n"
      ],
      "metadata": {
        "id": "WXheQbHkj_sS"
      }
    },
    {
      "cell_type": "markdown",
      "source": [
        "#### Can you tell which among these models $M_1, M_2,M_3$ are overfitting, underfitting and perfectly fitting ?\n",
        "\n"
      ],
      "metadata": {
        "id": "QWA9utWLkOYE"
      }
    },
    {
      "cell_type": "markdown",
      "source": [
        "\n",
        "\n",
        "<center><img src='https://drive.google.com/uc?id=1MYwIEyw2S91DniWL22guoRPJz5YwpPnc' width=800></center>\n",
        "\n",
        "\n"
      ],
      "metadata": {
        "id": "GwYRLZ1ykam3"
      }
    },
    {
      "cell_type": "markdown",
      "metadata": {
        "id": "ERvCGtqlCDtY"
      },
      "source": [
        "#### Then what plays a major role in making the model underfit, overfit and perfectly fit ?\n",
        "\n",
        "\n",
        "Ans: The **weights** of the model:\n",
        "\n",
        "- If weights on higher order polynomial $\\neq 0$, more chances of overfit\n",
        "- If weights on lower order polynomial $\\neq 0$, more chances of underfit\n",
        "\n"
      ]
    },
    {
      "cell_type": "markdown",
      "metadata": {
        "id": "QdSGcXjtIgma"
      },
      "source": [
        "## **Geometric Intuition**"
      ]
    },
    {
      "cell_type": "markdown",
      "metadata": {
        "id": "4wXm4_NmI2x8"
      },
      "source": [
        "Suppose we have three models:\n",
        "\n",
        "1. $M_1$ → linear model with a single feature $f_1$ and two parameters $w_0 , w_1$\n",
        "2. $M_2$ → quadratic model with a two features $f_1$ , $f_1^2$ and and three parameters $w_0 , w_1, w_2$\n",
        "3. $M_{10}$ → polynomial model with a 10 features $f_1$, $f_1^2$, $f_1^3...f_i^10$ and 11 parameters $w_0 , w_1, w_2, w_3...w_{10}$\n",
        "\n",
        "<br>\n"
      ]
    },
    {
      "cell_type": "markdown",
      "source": [
        "\n",
        "\n",
        "<center><img src='https://drive.google.com/uc?id=1vwRrxQZCv-ZLuVmdDYm-ar0FukylwZYj' width=800></center>\n",
        "\n",
        "\n"
      ],
      "metadata": {
        "id": "n0_3IktnDIde"
      }
    },
    {
      "cell_type": "markdown",
      "metadata": {
        "id": "n1OouZqjBsNe"
      },
      "source": [
        "\n",
        "\n",
        "\n",
        "\n",
        "#### What can we say about the models $M_1$,$M_2$,$M_{10}$ based on their performance on train and test data ?\n",
        "\n",
        "\n",
        "\n",
        "\n",
        "\n"
      ]
    },
    {
      "cell_type": "markdown",
      "source": [
        "**$M_1$ clearly performs poor** on both training and testing data hence it **underfits the data**\n",
        "- Imagine $M_1$ who didnot study at all for an exam, so he is bound to perform poor\n",
        "\n",
        "<br>\n",
        "\n",
        "**$M_{10}$** clearly performs best on training data but performs decent on testing data hence it **overfits the data**\n",
        "- Imagine $M_{10}$ who studied hard but instead of understanding pattern, learnt the questions and its answer,\n",
        "- so he is bound to perform decent cause of some similar questions\n",
        "\n",
        "<br>\n",
        "\n",
        "**$M_{2}$** clearly performs great on both training and testing data hence it **perfectly fits the data**\n",
        "- Imagine $M_{2}$ who studied smartly and understood patterns and concepts\n",
        "- so he is bound to perform good in the exam"
      ],
      "metadata": {
        "id": "tAvpgh0MDpSX"
      }
    },
    {
      "cell_type": "markdown",
      "source": [
        "\n",
        "\n",
        "<center><img src='https://drive.google.com/uc?id=1ZN_wDArLbH0z51-aVfDJgAFrAvUZKHOl' width=800></center>\n",
        "\n",
        "\n"
      ],
      "metadata": {
        "id": "HPs13Y0JD7ag"
      }
    },
    {
      "cell_type": "markdown",
      "metadata": {
        "id": "o9HRBj9DMkD6"
      },
      "source": [
        "To Summarize:\n",
        "\n",
        "1. In underfitting,\n",
        "- training and testing performance are poor\n",
        "- since it is simplest model failing to capture the pattern of data\n",
        "\n",
        "2. In Overfitting,\n",
        "- training performance is best while testing performance is decent enough ,\n",
        "- since it is a complex model, hence it over captures the pattern of the training data\n",
        "\n",
        "3. In Perfectly fitting,\n",
        "- training and testing performance are great\n",
        "- since it is a perfect model, that captures the pattern of the training data\n",
        "- and use it to predict for unseen data\n"
      ]
    },
    {
      "cell_type": "markdown",
      "metadata": {
        "id": "HvTpr_W1ZMjk"
      },
      "source": [
        "# **Bias-Variance Tradeoff**"
      ]
    },
    {
      "cell_type": "markdown",
      "source": [
        "\n",
        "\n",
        "<center><img src='https://drive.google.com/uc?id=1LYOeJ4XveAzhr94GQGYnxK7da3d_v6qf' width=800></center>\n",
        "\n",
        "\n"
      ],
      "metadata": {
        "id": "4IgUhJuNrz1m"
      }
    },
    {
      "cell_type": "markdown",
      "source": [
        "\n",
        "<center><img src='https://drive.google.com/uc?id=1-o3JfSwzU-597XpoXv0v2C6NKfMdy3gt' width=800></center>\n",
        "\n",
        "\n"
      ],
      "metadata": {
        "id": "FgcnsDQqsQLD"
      }
    },
    {
      "cell_type": "markdown",
      "source": [
        "\n",
        "\n",
        "<center><img src='https://drive.google.com/uc?id=16QmF28IbVV3el-LIQMo3Bz8SSfVYAnt6' width=800></center>\n",
        "\n"
      ],
      "metadata": {
        "id": "uT6iPVvBsZbl"
      }
    },
    {
      "cell_type": "markdown",
      "source": [
        "\n",
        "\n",
        "<center><img src='https://drive.google.com/uc?id=1X_BOfjjvC8Roh6k5lR2TmpbrMEj6TEnt' width=800></center>\n",
        "\n"
      ],
      "metadata": {
        "id": "wZPsOsnasevc"
      }
    },
    {
      "cell_type": "markdown",
      "source": [
        "\n",
        "\n",
        "<center><img src='https://drive.google.com/uc?id=11OP8TylDd1Kma591EoVkluseWfEPRNSs' width=800></center>\n",
        "\n",
        "\n"
      ],
      "metadata": {
        "id": "n1NvArS2siyQ"
      }
    },
    {
      "cell_type": "markdown",
      "source": [
        "#### Which among the 4 scenarios, is the best ?\n",
        "\n",
        "\n",
        "\n",
        "\n",
        "\n",
        "\n",
        "\n",
        "\n"
      ],
      "metadata": {
        "id": "TgEr8-Qpv6jL"
      }
    },
    {
      "cell_type": "markdown",
      "source": [
        "\n",
        "\n",
        "<center><img src='https://drive.google.com/uc?id=1oCX5GzKCn89FXMfAyULZYwWVJS6Ak4dC' width=800></center>\n",
        "\n",
        "\n",
        "\n",
        "\n"
      ],
      "metadata": {
        "id": "DcICOanatGyK"
      }
    },
    {
      "cell_type": "markdown",
      "source": [
        "As the model is hitting mostly on our target (bullseye)\n",
        "- We say, the model has low bias\n",
        "\n",
        "And since model is having a steady aim (consistent in its predictions for aiming)\n",
        "- We say, the model has low variance  "
      ],
      "metadata": {
        "id": "NW7mEzI6tP-6"
      }
    },
    {
      "cell_type": "markdown",
      "source": [
        "## **Understanding Bias and Variance**"
      ],
      "metadata": {
        "id": "D397TX9OyUpQ"
      }
    },
    {
      "cell_type": "markdown",
      "source": [
        "\n",
        "\n",
        "<center><img src='https://drive.google.com/uc?id=1vIXDLPJME7Se9Irml4fbz2FYrj5Su7f9' width=800></center>\n",
        "\n",
        "\n",
        "\n",
        "\n",
        "\n"
      ],
      "metadata": {
        "id": "1S-iwhqdENMB"
      }
    },
    {
      "cell_type": "markdown",
      "source": [
        "## **Relating Bias-Variance and Overfit-Underfit**"
      ],
      "metadata": {
        "id": "ijvif0ak2wMM"
      }
    },
    {
      "cell_type": "markdown",
      "source": [
        "#### How is Bias Variance related to Underfit and Overfit ?\n",
        "\n",
        "Suppose we plot complexity vs error"
      ],
      "metadata": {
        "id": "M9aiYWnk2uRi"
      }
    },
    {
      "cell_type": "markdown",
      "source": [
        "\n",
        "\n",
        "<center><img src='https://drive.google.com/uc?id=1ymeHeViRnHjELSkILk3hohMa06nsXBjp' width=800></center>\n",
        "\n",
        "\n",
        "\n"
      ],
      "metadata": {
        "id": "hJbQ5SiqtrJA"
      }
    },
    {
      "cell_type": "markdown",
      "source": [
        "\n",
        "\n",
        "<center><img src='https://drive.google.com/uc?id=1TsoPWQi779GaosvnuL9DGJgHdrSC4beM' width=800></center>\n",
        "\n",
        "\n"
      ],
      "metadata": {
        "id": "2HdxZ7sqt_rs"
      }
    },
    {
      "cell_type": "markdown",
      "source": [
        "\n",
        "\n",
        "<center><img src='https://drive.google.com/uc?id=1TEukKoJYDeQ-JX9g_pht--_7LZj1oTaX' width=800></center>\n",
        "\n"
      ],
      "metadata": {
        "id": "WpO2VsLJujz3"
      }
    },
    {
      "cell_type": "markdown",
      "metadata": {
        "id": "PhbyUYOTiCXW"
      },
      "source": [
        "\n",
        "\n",
        "#### How will low complexity model perform ?\n",
        "Ans: Clearly, Low complex model will perform bad on both training and testing data:\n",
        "- Meaning, **the model predictions are consistently** bad for both the datasets **(showing low variance)**\n",
        "- but the **predictions  are far away from the ground truth** hence the low perfromance **(showing high bias)**\n",
        "\n",
        "<br>\n",
        "\n",
        "**observe**\n",
        "\n",
        "As Low complex model performs bad on both training and testing data:\n",
        "- The model **Underfit**\n",
        "\n",
        "Meaning, Underfit is a case of **High Bias and Low Variance**\n",
        "\n",
        "<br>\n",
        "\n"
      ]
    },
    {
      "cell_type": "markdown",
      "source": [
        "#### How will High complexity model perform ?\n",
        "Ans: Clearly, high complex model will perform good on training data  and bad on testing data:\n",
        "\n",
        "- Meaning, the **model predictions varies** between training and testing data **(showing high variance)**\n",
        "\n",
        "- but the predictions  are close to the ground truth, hence the good performance for training (showing low bias)\n",
        "\n",
        "<br>\n",
        "\n",
        "**observe**\n",
        "\n",
        "As high complex model performs good on training and bad in testing data:\n",
        "- The model **Overfit**\n",
        "\n",
        "Meaning, Overfit is a case of **Low Bias and High Variance**\n",
        "\n",
        "\n",
        "\n"
      ],
      "metadata": {
        "id": "x_YGZyp55KY3"
      }
    },
    {
      "cell_type": "markdown",
      "source": [
        "\n",
        "\n",
        "<center><img src='https://drive.google.com/uc?id=1PpJaidySEVhBK-AQLoiO1AEl4CTlUK2U' width=800></center>\n",
        "\n"
      ],
      "metadata": {
        "id": "OLZgSgz6gBeq"
      }
    },
    {
      "cell_type": "markdown",
      "metadata": {
        "id": "nn7T6PNTkCNX"
      },
      "source": [
        "To Summarize:\n",
        "\n",
        "- model which is underfitting is too simple for the data:\n",
        " - implying  high bias - low variance  (for example: fitting a line on quadratic data)\n",
        "\n",
        "\n",
        "- model which is underfitting is too specific for the data:\n",
        " - implying  low bias - high variance. (for example: fitting higher order polynomial on quadratic data)\n",
        "\n",
        "<br>\n",
        "\n",
        "**Note:** A Perfectly fit model lies in between the Bias and Variance.\n",
        "- Hence there is always a **tradeoff between Bias and Variance or Underfit and Overfit**"
      ]
    },
    {
      "cell_type": "markdown",
      "metadata": {
        "id": "LX-FMejoIR5j"
      },
      "source": [
        "# **Underfit, Overfit Code**"
      ]
    },
    {
      "cell_type": "markdown",
      "metadata": {
        "id": "S1xDiVBztR58"
      },
      "source": [
        "Lets perform the implementation for Linear Regression\n",
        "- With degree $\\in [1,34]$ , and plot the train and test performance"
      ]
    },
    {
      "cell_type": "code",
      "execution_count": 14,
      "metadata": {
        "id": "69FgKk-Vk7Ql"
      },
      "outputs": [],
      "source": [
        "def adj_r(r_sq,X,Y):\n",
        "  adj_r1 = (1 - ((1-r_sq)*(len(Y)-1))/(len(Y)-X.shape[1]-1) )\n",
        "  return adj_r1"
      ]
    },
    {
      "cell_type": "code",
      "execution_count": 15,
      "metadata": {
        "colab": {
          "base_uri": "https://localhost:8080/",
          "height": 311
        },
        "id": "9lBL0NA7VlOD",
        "outputId": "086643d8-1175-4a01-9210-9b43a1224f53"
      },
      "outputs": [
        {
          "output_type": "display_data",
          "data": {
            "text/plain": [
              "<Figure size 500x300 with 1 Axes>"
            ],
            "image/png": "[encoded data removed]"
          },
          "metadata": {}
        }
      ],
      "source": [
        "# lets first generate a dataset of 100 points this time\n",
        "import numpy as np\n",
        "import matplotlib.pyplot as plt\n",
        "\n",
        "np.random.seed(1)\n",
        "X = np.random.rand(100,1)\n",
        "y = 0.7*(X**5) - \\\n",
        "    2.1*(X**4) + \\\n",
        "    2.7*(X**3) + \\\n",
        "    3.5*(X**2) + \\\n",
        "    0.3* X + \\\n",
        "    0.4*np.random.rand(100,1)\n",
        "\n",
        "fig = plt.figure(figsize=(5,3))\n",
        "plt.scatter(X, y)\n",
        "plt.xlabel(\"X\")\n",
        "plt.ylabel(\"Y\")\n",
        "plt.show()\n",
        "\n",
        "\n",
        "from sklearn.model_selection import train_test_split\n",
        "X_train, X_test, y_train, y_test = train_test_split(X, y, test_size=0.2, random_state=1)"
      ]
    },
    {
      "cell_type": "code",
      "execution_count": 16,
      "metadata": {
        "colab": {
          "base_uri": "https://localhost:8080/",
          "height": 307
        },
        "id": "vm-PO5TcVtVZ",
        "outputId": "46719add-ab6b-454e-ac02-82df21f8f3bc"
      },
      "outputs": [
        {
          "output_type": "display_data",
          "data": {
            "text/plain": [
              "<Figure size 500x300 with 2 Axes>"
            ],
            "image/png": "[encoded data removed]"
          },
          "metadata": {}
        }
      ],
      "source": [
        "fig, axs = plt.subplots(1, 2, figsize=(5, 3))\n",
        "\n",
        "# Plot 1: Training data\n",
        "\n",
        "axs[0].scatter(X_train, y_train)\n",
        "axs[0].set_title(\"Training Data\")\n",
        "\n",
        "\n",
        "# Plot 2: Testing data\n",
        "axs[1].scatter(X_test, y_test)\n",
        "axs[1].set_title(\"Test Data\")\n",
        "\n",
        "\n",
        "# Adjust spacing between subplots\n",
        "plt.tight_layout()\n",
        "\n",
        "# Display the plots\n",
        "plt.show()\n"
      ]
    },
    {
      "cell_type": "code",
      "execution_count": 17,
      "metadata": {
        "id": "cfegifyRP1Hf"
      },
      "outputs": [],
      "source": [
        "from sklearn.preprocessing import PolynomialFeatures\n",
        "from sklearn.preprocessing import StandardScaler\n",
        "from sklearn.linear_model import LinearRegression\n",
        "from sklearn.pipeline import make_pipeline\n",
        "\n",
        "degrees = 100 # number of data-points\n",
        "train_scores = []\n",
        "test_scores = []\n",
        "scaler = StandardScaler()\n",
        "\n",
        "for degree in range(1, degrees):\n",
        "\n",
        "    polyreg_scaled = make_pipeline(PolynomialFeatures(degree), scaler, LinearRegression())\n",
        "    polyreg_scaled.fit(X_train, y_train)\n",
        "\n",
        "    train_score = polyreg_scaled.score(X_train, y_train)\n",
        "    test_score = polyreg_scaled.score(X_test, y_test)\n",
        "\n",
        "    train_scores.append(adj_r(train_score,X_train,y_train))\n",
        "    test_scores.append(adj_r(test_score,X_test,y_test))"
      ]
    },
    {
      "cell_type": "code",
      "execution_count": null,
      "metadata": {
        "colab": {
          "base_uri": "https://localhost:8080/",
          "height": 311
        },
        "id": "9OgwdtZyP2S9",
        "outputId": "3af5e2ea-0e80-4051-d057-232f3e003328"
      },
      "outputs": [
        {
          "output_type": "display_data",
          "data": {
            "text/plain": [
              "<Figure size 500x300 with 1 Axes>"
            ],
            "image/png": "[encoded data removed]"
          },
          "metadata": {}
        }
      ],
      "source": [
        "plt.figure(figsize=(5,3))\n",
        "plt.plot(list(range(1, 100)), train_scores, label=\"train\")\n",
        "plt.plot(list(range(1, 100)), test_scores, label=\"test\")\n",
        "plt.legend(loc='lower right')\n",
        "plt.xlabel(\"degree\")\n",
        "plt.ylabel(\"Adj.R-score\")\n",
        "plt.show()"
      ]
    },
    {
      "cell_type": "markdown",
      "metadata": {
        "id": "fLA7vCUZweWH"
      },
      "source": [
        "**observe**\n",
        "\n",
        "As we go in higher Degree, the model test performance drop significantly\n",
        "- Which clearly indicates Overfitting\n",
        "\n",
        "While in the lower Degree, the model test and train perfromance is very low\n",
        "- Which shows Underfitting"
      ]
    }
  ],
  "metadata": {
    "accelerator": "GPU",
    "colab": {
      "provenance": []
    },
    "kernelspec": {
      "display_name": "Python 3",
      "name": "python3"
    },
    "language_info": {
      "name": "python"
    }
  },
  "nbformat": 4,
  "nbformat_minor": 0
}