{
  "nbformat": 4,
  "nbformat_minor": 0,
  "metadata": {
    "colab": {
      "provenance": []
    },
    "kernelspec": {
      "name": "python3",
      "display_name": "Python 3"
    },
    "language_info": {
      "name": "python"
    }
  },
  "cells": [
    {
      "cell_type": "markdown",
      "source": [
        "## Sklearn Implementation"
      ],
      "metadata": {
        "id": "V9Sk0UGIh8Fz"
      }
    },
    {
      "cell_type": "markdown",
      "source": [
        "Let's load the data of our business case now"
      ],
      "metadata": {
        "id": "HYe5Ohwkh_1H"
      }
    },
    {
      "cell_type": "code",
      "source": [
        "#Churn prediction in telecom.\n",
        "import numpy as np\n",
        "import matplotlib.pyplot as plt"
      ],
      "metadata": {
        "id": "fBIjzf6Egl1F"
      },
      "execution_count": 5,
      "outputs": []
    },
    {
      "cell_type": "code",
      "source": [
        "!gdown 1uUt7uL-VuF_5cpodYRiriEwhsldeEp3m"
      ],
      "metadata": {
        "colab": {
          "base_uri": "https://localhost:8080/"
        },
        "id": "UhfnibcBiE-V",
        "outputId": "b69990a4-445c-44ee-ec55-2bcc807c01e0"
      },
      "execution_count": 6,
      "outputs": [
        {
          "output_type": "stream",
          "name": "stdout",
          "text": [
            "Downloading...\n",
            "From: https://drive.google.com/uc?id=1uUt7uL-VuF_5cpodYRiriEwhsldeEp3m\n",
            "To: /content/churn_logistic.csv\n",
            "\r  0% 0.00/494k [00:00<?, ?B/s]\r100% 494k/494k [00:00<00:00, 4.87MB/s]\r100% 494k/494k [00:00<00:00, 4.85MB/s]\n"
          ]
        }
      ]
    },
    {
      "cell_type": "code",
      "source": [
        "import pandas as pd\n",
        "churn = pd.read_csv(\"churn_logistic.csv\")\n",
        "churn.head()"
      ],
      "metadata": {
        "colab": {
          "base_uri": "https://localhost:8080/",
          "height": 403
        },
        "id": "FajIDgjgiGe5",
        "outputId": "74ca1a0e-66e5-4c01-f276-1210ddf59f8a"
      },
      "execution_count": 7,
      "outputs": [
        {
          "output_type": "execute_result",
          "data": {
            "text/plain": [
              "   Account Length  VMail Message  Day Mins  Eve Mins  Night Mins  Intl Mins  \\\n",
              "0             128             25     265.1     197.4       244.7       10.0   \n",
              "1             107             26     161.6     195.5       254.4       13.7   \n",
              "2             137              0     243.4     121.2       162.6       12.2   \n",
              "3              84              0     299.4      61.9       196.9        6.6   \n",
              "4              75              0     166.7     148.3       186.9       10.1   \n",
              "\n",
              "   CustServ Calls  Intl Plan  VMail Plan  Day Calls  ...  Eve Calls  \\\n",
              "0               1          0           1        110  ...         99   \n",
              "1               1          0           1        123  ...        103   \n",
              "2               0          0           0        114  ...        110   \n",
              "3               2          1           0         71  ...         88   \n",
              "4               3          1           0        113  ...        122   \n",
              "\n",
              "   Eve Charge  Night Calls  Night Charge  Intl Calls  Intl Charge  State  \\\n",
              "0       16.78           91         11.01           3         2.70     KS   \n",
              "1       16.62          103         11.45           3         3.70     OH   \n",
              "2       10.30          104          7.32           5         3.29     NJ   \n",
              "3        5.26           89          8.86           7         1.78     OH   \n",
              "4       12.61          121          8.41           3         2.73     OK   \n",
              "\n",
              "  Area Code     Phone Churn  \n",
              "0       415  382-4657     0  \n",
              "1       415  371-7191     0  \n",
              "2       415  358-1921     0  \n",
              "3       408  375-9999     0  \n",
              "4       415  330-6626     0  \n",
              "\n",
              "[5 rows x 21 columns]"
            ],
            "text/html": [
              "\n",
              "\n",
              "  <div id=\"df-8264a9bc-2613-4243-8935-6c9fdf31b0ea\">\n",
              "    <div class=\"colab-df-container\">\n",
              "      <div>\n",
              "<style scoped>\n",
              "    .dataframe tbody tr th:only-of-type {\n",
              "        vertical-align: middle;\n",
              "    }\n",
              "\n",
              "    .dataframe tbody tr th {\n",
              "        vertical-align: top;\n",
              "    }\n",
              "\n",
              "    .dataframe thead th {\n",
              "        text-align: right;\n",
              "    }\n",
              "</style>\n",
              "<table border=\"1\" class=\"dataframe\">\n",
              "  <thead>\n",
              "    <tr style=\"text-align: right;\">\n",
              "      <th></th>\n",
              "      <th>Account Length</th>\n",
              "      <th>VMail Message</th>\n",
              "      <th>Day Mins</th>\n",
              "      <th>Eve Mins</th>\n",
              "      <th>Night Mins</th>\n",
              "      <th>Intl Mins</th>\n",
              "      <th>CustServ Calls</th>\n",
              "      <th>Intl Plan</th>\n",
              "      <th>VMail Plan</th>\n",
              "      <th>Day Calls</th>\n",
              "      <th>...</th>\n",
              "      <th>Eve Calls</th>\n",
              "      <th>Eve Charge</th>\n",
              "      <th>Night Calls</th>\n",
              "      <th>Night Charge</th>\n",
              "      <th>Intl Calls</th>\n",
              "      <th>Intl Charge</th>\n",
              "      <th>State</th>\n",
              "      <th>Area Code</th>\n",
              "      <th>Phone</th>\n",
              "      <th>Churn</th>\n",
              "    </tr>\n",
              "  </thead>\n",
              "  <tbody>\n",
              "    <tr>\n",
              "      <th>0</th>\n",
              "      <td>128</td>\n",
              "      <td>25</td>\n",
              "      <td>265.1</td>\n",
              "      <td>197.4</td>\n",
              "      <td>244.7</td>\n",
              "      <td>10.0</td>\n",
              "      <td>1</td>\n",
              "      <td>0</td>\n",
              "      <td>1</td>\n",
              "      <td>110</td>\n",
              "      <td>...</td>\n",
              "      <td>99</td>\n",
              "      <td>16.78</td>\n",
              "      <td>91</td>\n",
              "      <td>11.01</td>\n",
              "      <td>3</td>\n",
              "      <td>2.70</td>\n",
              "      <td>KS</td>\n",
              "      <td>415</td>\n",
              "      <td>382-4657</td>\n",
              "      <td>0</td>\n",
              "    </tr>\n",
              "    <tr>\n",
              "      <th>1</th>\n",
              "      <td>107</td>\n",
              "      <td>26</td>\n",
              "      <td>161.6</td>\n",
              "      <td>195.5</td>\n",
              "      <td>254.4</td>\n",
              "      <td>13.7</td>\n",
              "      <td>1</td>\n",
              "      <td>0</td>\n",
              "      <td>1</td>\n",
              "      <td>123</td>\n",
              "      <td>...</td>\n",
              "      <td>103</td>\n",
              "      <td>16.62</td>\n",
              "      <td>103</td>\n",
              "      <td>11.45</td>\n",
              "      <td>3</td>\n",
              "      <td>3.70</td>\n",
              "      <td>OH</td>\n",
              "      <td>415</td>\n",
              "      <td>371-7191</td>\n",
              "      <td>0</td>\n",
              "    </tr>\n",
              "    <tr>\n",
              "      <th>2</th>\n",
              "      <td>137</td>\n",
              "      <td>0</td>\n",
              "      <td>243.4</td>\n",
              "      <td>121.2</td>\n",
              "      <td>162.6</td>\n",
              "      <td>12.2</td>\n",
              "      <td>0</td>\n",
              "      <td>0</td>\n",
              "      <td>0</td>\n",
              "      <td>114</td>\n",
              "      <td>...</td>\n",
              "      <td>110</td>\n",
              "      <td>10.30</td>\n",
              "      <td>104</td>\n",
              "      <td>7.32</td>\n",
              "      <td>5</td>\n",
              "      <td>3.29</td>\n",
              "      <td>NJ</td>\n",
              "      <td>415</td>\n",
              "      <td>358-1921</td>\n",
              "      <td>0</td>\n",
              "    </tr>\n",
              "    <tr>\n",
              "      <th>3</th>\n",
              "      <td>84</td>\n",
              "      <td>0</td>\n",
              "      <td>299.4</td>\n",
              "      <td>61.9</td>\n",
              "      <td>196.9</td>\n",
              "      <td>6.6</td>\n",
              "      <td>2</td>\n",
              "      <td>1</td>\n",
              "      <td>0</td>\n",
              "      <td>71</td>\n",
              "      <td>...</td>\n",
              "      <td>88</td>\n",
              "      <td>5.26</td>\n",
              "      <td>89</td>\n",
              "      <td>8.86</td>\n",
              "      <td>7</td>\n",
              "      <td>1.78</td>\n",
              "      <td>OH</td>\n",
              "      <td>408</td>\n",
              "      <td>375-9999</td>\n",
              "      <td>0</td>\n",
              "    </tr>\n",
              "    <tr>\n",
              "      <th>4</th>\n",
              "      <td>75</td>\n",
              "      <td>0</td>\n",
              "      <td>166.7</td>\n",
              "      <td>148.3</td>\n",
              "      <td>186.9</td>\n",
              "      <td>10.1</td>\n",
              "      <td>3</td>\n",
              "      <td>1</td>\n",
              "      <td>0</td>\n",
              "      <td>113</td>\n",
              "      <td>...</td>\n",
              "      <td>122</td>\n",
              "      <td>12.61</td>\n",
              "      <td>121</td>\n",
              "      <td>8.41</td>\n",
              "      <td>3</td>\n",
              "      <td>2.73</td>\n",
              "      <td>OK</td>\n",
              "      <td>415</td>\n",
              "      <td>330-6626</td>\n",
              "      <td>0</td>\n",
              "    </tr>\n",
              "  </tbody>\n",
              "</table>\n",
              "<p>5 rows × 21 columns</p>\n",
              "</div>\n",
              "      <button class=\"colab-df-convert\" onclick=\"convertToInteractive('df-8264a9bc-2613-4243-8935-6c9fdf31b0ea')\"\n",
              "              title=\"Convert this dataframe to an interactive table.\"\n",
              "              style=\"display:none;\">\n",
              "\n",
              "  <svg xmlns=\"http://www.w3.org/2000/svg\" height=\"24px\"viewBox=\"0 0 24 24\"\n",
              "       width=\"24px\">\n",
              "    <path d=\"M0 0h24v24H0V0z\" fill=\"none\"/>\n",
              "    <path d=\"M18.56 5.44l.94 2.06.94-2.06 2.06-.94-2.06-.94-.94-2.06-.94 2.06-2.06.94zm-11 1L8.5 8.5l.94-2.06 2.06-.94-2.06-.94L8.5 2.5l-.94 2.06-2.06.94zm10 10l.94 2.06.94-2.06 2.06-.94-2.06-.94-.94-2.06-.94 2.06-2.06.94z\"/><path d=\"M17.41 7.96l-1.37-1.37c-.4-.4-.92-.59-1.43-.59-.52 0-1.04.2-1.43.59L10.3 9.45l-7.72 7.72c-.78.78-.78 2.05 0 2.83L4 21.41c.39.39.9.59 1.41.59.51 0 1.02-.2 1.41-.59l7.78-7.78 2.81-2.81c.8-.78.8-2.07 0-2.86zM5.41 20L4 18.59l7.72-7.72 1.47 1.35L5.41 20z\"/>\n",
              "  </svg>\n",
              "      </button>\n",
              "\n",
              "\n",
              "\n",
              "    <div id=\"df-e2fe1e8f-a294-4351-9967-4d036919d083\">\n",
              "      <button class=\"colab-df-quickchart\" onclick=\"quickchart('df-e2fe1e8f-a294-4351-9967-4d036919d083')\"\n",
              "              title=\"Suggest charts.\"\n",
              "              style=\"display:none;\">\n",
              "\n",
              "<svg xmlns=\"http://www.w3.org/2000/svg\" height=\"24px\"viewBox=\"0 0 24 24\"\n",
              "     width=\"24px\">\n",
              "    <g>\n",
              "        <path d=\"M19 3H5c-1.1 0-2 .9-2 2v14c0 1.1.9 2 2 2h14c1.1 0 2-.9 2-2V5c0-1.1-.9-2-2-2zM9 17H7v-7h2v7zm4 0h-2V7h2v10zm4 0h-2v-4h2v4z\"/>\n",
              "    </g>\n",
              "</svg>\n",
              "      </button>\n",
              "    </div>\n",
              "\n",
              "<style>\n",
              "  .colab-df-quickchart {\n",
              "    background-color: #E8F0FE;\n",
              "    border: none;\n",
              "    border-radius: 50%;\n",
              "    cursor: pointer;\n",
              "    display: none;\n",
              "    fill: #1967D2;\n",
              "    height: 32px;\n",
              "    padding: 0 0 0 0;\n",
              "    width: 32px;\n",
              "  }\n",
              "\n",
              "  .colab-df-quickchart:hover {\n",
              "    background-color: #E2EBFA;\n",
              "    box-shadow: 0px 1px 2px rgba(60, 64, 67, 0.3), 0px 1px 3px 1px rgba(60, 64, 67, 0.15);\n",
              "    fill: #174EA6;\n",
              "  }\n",
              "\n",
              "  [theme=dark] .colab-df-quickchart {\n",
              "    background-color: #3B4455;\n",
              "    fill: #D2E3FC;\n",
              "  }\n",
              "\n",
              "  [theme=dark] .colab-df-quickchart:hover {\n",
              "    background-color: #434B5C;\n",
              "    box-shadow: 0px 1px 3px 1px rgba(0, 0, 0, 0.15);\n",
              "    filter: drop-shadow(0px 1px 2px rgba(0, 0, 0, 0.3));\n",
              "    fill: #FFFFFF;\n",
              "  }\n",
              "</style>\n",
              "\n",
              "    <script>\n",
              "      async function quickchart(key) {\n",
              "        const containerElement = document.querySelector('#' + key);\n",
              "        const charts = await google.colab.kernel.invokeFunction(\n",
              "            'suggestCharts', [key], {});\n",
              "      }\n",
              "    </script>\n",
              "\n",
              "\n",
              "      <script>\n",
              "\n",
              "function displayQuickchartButton(domScope) {\n",
              "  let quickchartButtonEl =\n",
              "    domScope.querySelector('#df-e2fe1e8f-a294-4351-9967-4d036919d083 button.colab-df-quickchart');\n",
              "  quickchartButtonEl.style.display =\n",
              "    google.colab.kernel.accessAllowed ? 'block' : 'none';\n",
              "}\n",
              "\n",
              "        displayQuickchartButton(document);\n",
              "      </script>\n",
              "      <style>\n",
              "    .colab-df-container {\n",
              "      display:flex;\n",
              "      flex-wrap:wrap;\n",
              "      gap: 12px;\n",
              "    }\n",
              "\n",
              "    .colab-df-convert {\n",
              "      background-color: #E8F0FE;\n",
              "      border: none;\n",
              "      border-radius: 50%;\n",
              "      cursor: pointer;\n",
              "      display: none;\n",
              "      fill: #1967D2;\n",
              "      height: 32px;\n",
              "      padding: 0 0 0 0;\n",
              "      width: 32px;\n",
              "    }\n",
              "\n",
              "    .colab-df-convert:hover {\n",
              "      background-color: #E2EBFA;\n",
              "      box-shadow: 0px 1px 2px rgba(60, 64, 67, 0.3), 0px 1px 3px 1px rgba(60, 64, 67, 0.15);\n",
              "      fill: #174EA6;\n",
              "    }\n",
              "\n",
              "    [theme=dark] .colab-df-convert {\n",
              "      background-color: #3B4455;\n",
              "      fill: #D2E3FC;\n",
              "    }\n",
              "\n",
              "    [theme=dark] .colab-df-convert:hover {\n",
              "      background-color: #434B5C;\n",
              "      box-shadow: 0px 1px 3px 1px rgba(0, 0, 0, 0.15);\n",
              "      filter: drop-shadow(0px 1px 2px rgba(0, 0, 0, 0.3));\n",
              "      fill: #FFFFFF;\n",
              "    }\n",
              "  </style>\n",
              "\n",
              "      <script>\n",
              "        const buttonEl =\n",
              "          document.querySelector('#df-8264a9bc-2613-4243-8935-6c9fdf31b0ea button.colab-df-convert');\n",
              "        buttonEl.style.display =\n",
              "          google.colab.kernel.accessAllowed ? 'block' : 'none';\n",
              "\n",
              "        async function convertToInteractive(key) {\n",
              "          const element = document.querySelector('#df-8264a9bc-2613-4243-8935-6c9fdf31b0ea');\n",
              "          const dataTable =\n",
              "            await google.colab.kernel.invokeFunction('convertToInteractive',\n",
              "                                                     [key], {});\n",
              "          if (!dataTable) return;\n",
              "\n",
              "          const docLinkHtml = 'Like what you see? Visit the ' +\n",
              "            '<a target=\"_blank\" href=https://colab.research.google.com/notebooks/data_table.ipynb>data table notebook</a>'\n",
              "            + ' to learn more about interactive tables.';\n",
              "          element.innerHTML = '';\n",
              "          dataTable['output_type'] = 'display_data';\n",
              "          await google.colab.output.renderOutput(dataTable, element);\n",
              "          const docLink = document.createElement('div');\n",
              "          docLink.innerHTML = docLinkHtml;\n",
              "          element.appendChild(docLink);\n",
              "        }\n",
              "      </script>\n",
              "    </div>\n",
              "  </div>\n"
            ]
          },
          "metadata": {},
          "execution_count": 7
        }
      ]
    },
    {
      "cell_type": "code",
      "source": [
        "churn.shape"
      ],
      "metadata": {
        "colab": {
          "base_uri": "https://localhost:8080/"
        },
        "id": "__7q2PlFOWGf",
        "outputId": "eb0b3ce5-02f6-48b6-9a47-b4bb9a836da9"
      },
      "execution_count": 12,
      "outputs": [
        {
          "output_type": "execute_result",
          "data": {
            "text/plain": [
              "(5700, 21)"
            ]
          },
          "metadata": {},
          "execution_count": 12
        }
      ]
    },
    {
      "cell_type": "code",
      "source": [
        "churn['Churn'].value_counts()"
      ],
      "metadata": {
        "colab": {
          "base_uri": "https://localhost:8080/"
        },
        "id": "T1mmGkG7OG1H",
        "outputId": "ee3427c4-caf7-49d3-ae0e-a741353cd4fa"
      },
      "execution_count": 10,
      "outputs": [
        {
          "output_type": "execute_result",
          "data": {
            "text/plain": [
              "0    2850\n",
              "1    2850\n",
              "Name: Churn, dtype: int64"
            ]
          },
          "metadata": {},
          "execution_count": 10
        }
      ]
    },
    {
      "cell_type": "markdown",
      "source": [
        "We will choose 5 features for our logistic regression which we selected using simple EDA\n",
        "\n",
        "You can go through the EDA of this to understand how we selected these features:\n",
        "\n",
        "https://colab.research.google.com/drive/1nkbiGCMrevDzdSG9yN5bXaxeC8CPJSQg?usp=sharing"
      ],
      "metadata": {
        "id": "SW67Ktd5G0JI"
      }
    },
    {
      "cell_type": "code",
      "source": [
        "cols = ['Day Mins', 'Eve Mins', 'Night Mins', 'CustServ Calls', 'Account Length']\n",
        "y = churn[\"Churn\"]\n",
        "y = np.array(y).reshape(len(y), 1) #Reshaping our data to (m,1) shape\n",
        "X = churn[cols]\n",
        "X.shape"
      ],
      "metadata": {
        "colab": {
          "base_uri": "https://localhost:8080/"
        },
        "id": "gHaGUZTMiH_z",
        "outputId": "2258a9a0-e075-4791-8248-320e6820ac29"
      },
      "execution_count": null,
      "outputs": [
        {
          "output_type": "execute_result",
          "data": {
            "text/plain": [
              "(5700, 5)"
            ]
          },
          "metadata": {},
          "execution_count": 4
        }
      ]
    },
    {
      "cell_type": "markdown",
      "source": [
        "Let's split the data into training, validation and testing"
      ],
      "metadata": {
        "id": "w4pb_4a3HBm5"
      }
    },
    {
      "cell_type": "code",
      "source": [
        "from sklearn.model_selection import train_test_split\n",
        "\n",
        "X_tr_cv, X_test, y_tr_cv, y_test = train_test_split(X, y, test_size=0.2, random_state=1)\n",
        "X_train, X_val, y_train, y_val = train_test_split(X_tr_cv, y_tr_cv, test_size=0.25,random_state=1)\n",
        "print(\"train data shape: \",X_train.shape)\n",
        "print(\"val data shape: \",X_val.shape)\n",
        "print(\"test data shape: \",X_test.shape)\n"
      ],
      "metadata": {
        "colab": {
          "base_uri": "https://localhost:8080/"
        },
        "id": "WMMLz85dildW",
        "outputId": "742733ef-f5ba-432e-9399-58cc631e9fbd"
      },
      "execution_count": 14,
      "outputs": [
        {
          "output_type": "stream",
          "name": "stdout",
          "text": [
            "train data shape:  (3420, 5)\n",
            "val data shape:  (1140, 5)\n",
            "test data shape:  (1140, 5)\n"
          ]
        }
      ]
    },
    {
      "cell_type": "markdown",
      "source": [
        "We will scale our data before fitting the model"
      ],
      "metadata": {
        "id": "rIj0eXhEHEye"
      }
    },
    {
      "cell_type": "code",
      "source": [
        "from sklearn.preprocessing import StandardScaler\n",
        "scaler = StandardScaler()\n",
        "scaler.fit(X_train) # fit on training data\n",
        "\n",
        "X_train = scaler.transform(X_train)\n",
        "X_val = scaler.transform(X_val)\n",
        "X_test = scaler.transform(X_test)"
      ],
      "metadata": {
        "id": "x5sKDuSqilzL"
      },
      "execution_count": 15,
      "outputs": []
    },
    {
      "cell_type": "code",
      "source": [
        "X_train"
      ],
      "metadata": {
        "colab": {
          "base_uri": "https://localhost:8080/"
        },
        "id": "3pwLHoPNinkH",
        "outputId": "01b61f88-33b5-418b-8f42-050a60d67008"
      },
      "execution_count": 16,
      "outputs": [
        {
          "output_type": "execute_result",
          "data": {
            "text/plain": [
              "array([[-1.8525591 , -0.54121117,  1.87596728,  0.0724823 ,  2.13378709],\n",
              "       [ 0.93155078,  1.05292599,  0.39854651, -0.54879454, -0.81991418],\n",
              "       [ 0.46912157,  0.11462924,  1.13324217,  0.0724823 , -2.27130187],\n",
              "       ...,\n",
              "       [-0.52565742, -0.04014136, -0.68543069,  0.69375914,  0.55508469],\n",
              "       [-0.94359172, -0.58957698, -0.37428909,  1.93631281, -0.36158122],\n",
              "       [-0.58604336,  2.40910335,  1.70935597,  0.69375914, -0.25972945]])"
            ]
          },
          "metadata": {},
          "execution_count": 16
        }
      ]
    },
    {
      "cell_type": "code",
      "source": [],
      "metadata": {
        "id": "1InwGca82noW"
      },
      "execution_count": null,
      "outputs": []
    },
    {
      "cell_type": "code",
      "source": [
        "from sklearn.linear_model import LogisticRegression\n",
        "model = LogisticRegression()\n",
        "model.fit(X_train, y_train)"
      ],
      "metadata": {
        "colab": {
          "base_uri": "https://localhost:8080/",
          "height": 130
        },
        "id": "7PPE8YpEipDr",
        "outputId": "215a6a7c-6b92-4ed5-e6c5-b1e8b1a4de74"
      },
      "execution_count": 17,
      "outputs": [
        {
          "output_type": "stream",
          "name": "stderr",
          "text": [
            "/usr/local/lib/python3.10/dist-packages/sklearn/utils/validation.py:1143: DataConversionWarning: A column-vector y was passed when a 1d array was expected. Please change the shape of y to (n_samples, ), for example using ravel().\n",
            "  y = column_or_1d(y, warn=True)\n"
          ]
        },
        {
          "output_type": "execute_result",
          "data": {
            "text/plain": [
              "LogisticRegression()"
            ],
            "text/html": [
              "<style>#sk-container-id-1 {color: black;background-color: white;}#sk-container-id-1 pre{padding: 0;}#sk-container-id-1 div.sk-toggleable {background-color: white;}#sk-container-id-1 label.sk-toggleable__label {cursor: pointer;display: block;width: 100%;margin-bottom: 0;padding: 0.3em;box-sizing: border-box;text-align: center;}#sk-container-id-1 label.sk-toggleable__label-arrow:before {content: \"▸\";float: left;margin-right: 0.25em;color: #696969;}#sk-container-id-1 label.sk-toggleable__label-arrow:hover:before {color: black;}#sk-container-id-1 div.sk-estimator:hover label.sk-toggleable__label-arrow:before {color: black;}#sk-container-id-1 div.sk-toggleable__content {max-height: 0;max-width: 0;overflow: hidden;text-align: left;background-color: #f0f8ff;}#sk-container-id-1 div.sk-toggleable__content pre {margin: 0.2em;color: black;border-radius: 0.25em;background-color: #f0f8ff;}#sk-container-id-1 input.sk-toggleable__control:checked~div.sk-toggleable__content {max-height: 200px;max-width: 100%;overflow: auto;}#sk-container-id-1 input.sk-toggleable__control:checked~label.sk-toggleable__label-arrow:before {content: \"▾\";}#sk-container-id-1 div.sk-estimator input.sk-toggleable__control:checked~label.sk-toggleable__label {background-color: #d4ebff;}#sk-container-id-1 div.sk-label input.sk-toggleable__control:checked~label.sk-toggleable__label {background-color: #d4ebff;}#sk-container-id-1 input.sk-hidden--visually {border: 0;clip: rect(1px 1px 1px 1px);clip: rect(1px, 1px, 1px, 1px);height: 1px;margin: -1px;overflow: hidden;padding: 0;position: absolute;width: 1px;}#sk-container-id-1 div.sk-estimator {font-family: monospace;background-color: #f0f8ff;border: 1px dotted black;border-radius: 0.25em;box-sizing: border-box;margin-bottom: 0.5em;}#sk-container-id-1 div.sk-estimator:hover {background-color: #d4ebff;}#sk-container-id-1 div.sk-parallel-item::after {content: \"\";width: 100%;border-bottom: 1px solid gray;flex-grow: 1;}#sk-container-id-1 div.sk-label:hover label.sk-toggleable__label {background-color: #d4ebff;}#sk-container-id-1 div.sk-serial::before {content: \"\";position: absolute;border-left: 1px solid gray;box-sizing: border-box;top: 0;bottom: 0;left: 50%;z-index: 0;}#sk-container-id-1 div.sk-serial {display: flex;flex-direction: column;align-items: center;background-color: white;padding-right: 0.2em;padding-left: 0.2em;position: relative;}#sk-container-id-1 div.sk-item {position: relative;z-index: 1;}#sk-container-id-1 div.sk-parallel {display: flex;align-items: stretch;justify-content: center;background-color: white;position: relative;}#sk-container-id-1 div.sk-item::before, #sk-container-id-1 div.sk-parallel-item::before {content: \"\";position: absolute;border-left: 1px solid gray;box-sizing: border-box;top: 0;bottom: 0;left: 50%;z-index: -1;}#sk-container-id-1 div.sk-parallel-item {display: flex;flex-direction: column;z-index: 1;position: relative;background-color: white;}#sk-container-id-1 div.sk-parallel-item:first-child::after {align-self: flex-end;width: 50%;}#sk-container-id-1 div.sk-parallel-item:last-child::after {align-self: flex-start;width: 50%;}#sk-container-id-1 div.sk-parallel-item:only-child::after {width: 0;}#sk-container-id-1 div.sk-dashed-wrapped {border: 1px dashed gray;margin: 0 0.4em 0.5em 0.4em;box-sizing: border-box;padding-bottom: 0.4em;background-color: white;}#sk-container-id-1 div.sk-label label {font-family: monospace;font-weight: bold;display: inline-block;line-height: 1.2em;}#sk-container-id-1 div.sk-label-container {text-align: center;}#sk-container-id-1 div.sk-container {/* jupyter's `normalize.less` sets `[hidden] { display: none; }` but bootstrap.min.css set `[hidden] { display: none !important; }` so we also need the `!important` here to be able to override the default hidden behavior on the sphinx rendered scikit-learn.org. See: https://github.com/scikit-learn/scikit-learn/issues/21755 */display: inline-block !important;position: relative;}#sk-container-id-1 div.sk-text-repr-fallback {display: none;}</style><div id=\"sk-container-id-1\" class=\"sk-top-container\"><div class=\"sk-text-repr-fallback\"><pre>LogisticRegression()</pre><b>In a Jupyter environment, please rerun this cell to show the HTML representation or trust the notebook. <br />On GitHub, the HTML representation is unable to render, please try loading this page with nbviewer.org.</b></div><div class=\"sk-container\" hidden><div class=\"sk-item\"><div class=\"sk-estimator sk-toggleable\"><input class=\"sk-toggleable__control sk-hidden--visually\" id=\"sk-estimator-id-1\" type=\"checkbox\" checked><label for=\"sk-estimator-id-1\" class=\"sk-toggleable__label sk-toggleable__label-arrow\">LogisticRegression</label><div class=\"sk-toggleable__content\"><pre>LogisticRegression()</pre></div></div></div></div></div>"
            ]
          },
          "metadata": {},
          "execution_count": 17
        }
      ]
    },
    {
      "cell_type": "code",
      "source": [
        "model.coef_"
      ],
      "metadata": {
        "colab": {
          "base_uri": "https://localhost:8080/"
        },
        "id": "T1ldXZSTiuMG",
        "outputId": "a88ceae4-0cb1-4e06-d5d7-8e9d9c0b7a2f"
      },
      "execution_count": 18,
      "outputs": [
        {
          "output_type": "execute_result",
          "data": {
            "text/plain": [
              "array([[0.6844725 , 0.29104522, 0.13637423, 0.79640697, 0.0613349 ]])"
            ]
          },
          "metadata": {},
          "execution_count": 18
        }
      ]
    },
    {
      "cell_type": "code",
      "source": [
        "model.intercept_"
      ],
      "metadata": {
        "colab": {
          "base_uri": "https://localhost:8080/"
        },
        "id": "_lUeLcybiv3I",
        "outputId": "9e73be90-817e-4432-819b-18162b712549"
      },
      "execution_count": 19,
      "outputs": [
        {
          "output_type": "execute_result",
          "data": {
            "text/plain": [
              "array([-0.01215015])"
            ]
          },
          "metadata": {},
          "execution_count": 19
        }
      ]
    },
    {
      "cell_type": "code",
      "source": [
        "model.predict(X_train).shape"
      ],
      "metadata": {
        "colab": {
          "base_uri": "https://localhost:8080/"
        },
        "id": "nIVezXs1AEBn",
        "outputId": "d8a98a94-261d-417c-f15b-a826e4ba7fea"
      },
      "execution_count": 22,
      "outputs": [
        {
          "output_type": "execute_result",
          "data": {
            "text/plain": [
              "(3420,)"
            ]
          },
          "metadata": {},
          "execution_count": 22
        }
      ]
    },
    {
      "cell_type": "code",
      "source": [
        "model.predict(X_test).shape"
      ],
      "metadata": {
        "colab": {
          "base_uri": "https://localhost:8080/"
        },
        "id": "LJcCd1h0QM8Z",
        "outputId": "039c11f1-a0d5-41bb-a301-aa679a56b19b"
      },
      "execution_count": 23,
      "outputs": [
        {
          "output_type": "execute_result",
          "data": {
            "text/plain": [
              "(1140,)"
            ]
          },
          "metadata": {},
          "execution_count": 23
        }
      ]
    },
    {
      "cell_type": "markdown",
      "source": [
        "## Accuracy Metric"
      ],
      "metadata": {
        "id": "YfLISD6Ci4kb"
      }
    },
    {
      "cell_type": "markdown",
      "source": [
        "#### How do we measure the performance of our classification model?\n",
        "\n",
        "- We can't use R2 score to begin with, since R2 score tells us our far/close we are to actual result, while here we want to check how many correct values we predicted.\n",
        "\n",
        "#### What metric can we then use for classification?\n",
        "\n",
        "Accuracy\n",
        "\n",
        "#### What do we mean by accuracy?\n",
        "\n",
        "Let's take an example to understand this.\n",
        "\n",
        "Say we have 5 sample data points, out of which we predicted 3 correct, and two wrong"
      ],
      "metadata": {
        "id": "DK7YW0VdPKyV"
      }
    },
    {
      "cell_type": "markdown",
      "source": [
        "<img src=\"https://d2beiqkhq929f0.cloudfront.net/public_assets/assets/000/036/743/original/image_2023-06-14_050952707.png?1686699594\" height=500 width=600>"
      ],
      "metadata": {
        "id": "p57wjggGPMZM"
      }
    },
    {
      "cell_type": "markdown",
      "source": [
        "The accuracy in this case would be defined as:\n",
        "\n",
        "$\\frac{Number \\ of \\ correct \\ predictions}{Total \\ number \\ of \\ points}$\n",
        "\n",
        "So accuracy in this case would be 3/5 = 0.6\n",
        "\n",
        "We can convert it to percentage, which would be 60%. So we can say, our model's accuracy is 60%"
      ],
      "metadata": {
        "id": "uyRicIlzQLoI"
      }
    },
    {
      "cell_type": "markdown",
      "source": [
        "Let's implement our accuracy metric now"
      ],
      "metadata": {
        "id": "t8bjT-QoQyJ_"
      }
    },
    {
      "cell_type": "code",
      "source": [
        "def accuracy(y_true, y_pred):\n",
        "  y_true = y_true.reshape(len(y_true))\n",
        "  return np.sum(y_true==y_pred)/y_true.shape[0]"
      ],
      "metadata": {
        "id": "LOMCquoAi2Ja"
      },
      "execution_count": 24,
      "outputs": []
    },
    {
      "cell_type": "code",
      "source": [
        "accuracy(y_train, model.predict(X_train))"
      ],
      "metadata": {
        "colab": {
          "base_uri": "https://localhost:8080/"
        },
        "id": "IPFCgiJcNDm-",
        "outputId": "7765660e-1ab7-4c43-dbf7-9377e9703fdd"
      },
      "execution_count": 25,
      "outputs": [
        {
          "output_type": "execute_result",
          "data": {
            "text/plain": [
              "0.7058479532163743"
            ]
          },
          "metadata": {},
          "execution_count": 25
        }
      ]
    },
    {
      "cell_type": "code",
      "source": [
        "accuracy(y_val, model.predict(X_val))"
      ],
      "metadata": {
        "colab": {
          "base_uri": "https://localhost:8080/"
        },
        "id": "C2gxBt_RS3YZ",
        "outputId": "ece2a2c4-d109-4209-8c1c-72ac27045a3c"
      },
      "execution_count": 26,
      "outputs": [
        {
          "output_type": "execute_result",
          "data": {
            "text/plain": [
              "0.6982456140350877"
            ]
          },
          "metadata": {},
          "execution_count": 26
        }
      ]
    },
    {
      "cell_type": "code",
      "source": [
        "accuracy(y_test, model.predict(X_test))"
      ],
      "metadata": {
        "colab": {
          "base_uri": "https://localhost:8080/"
        },
        "id": "qCdKAzBNUafQ",
        "outputId": "e5cce75f-5b7e-4f5c-ae47-34f4447b374a"
      },
      "execution_count": 27,
      "outputs": [
        {
          "output_type": "execute_result",
          "data": {
            "text/plain": [
              "0.7008771929824561"
            ]
          },
          "metadata": {},
          "execution_count": 27
        }
      ]
    },
    {
      "cell_type": "markdown",
      "source": [
        "So our model has a validation accuracy of 0.71, or 71.49%"
      ],
      "metadata": {
        "id": "vzEGPA29TOw_"
      }
    },
    {
      "cell_type": "markdown",
      "source": [
        "Let's see how we can perform hyperparameter tuning on our logistic regression model\n"
      ],
      "metadata": {
        "id": "SnlIucWFUMSG"
      }
    },
    {
      "cell_type": "markdown",
      "source": [
        "##**Hyperparameter tuning**"
      ],
      "metadata": {
        "id": "QagbDTn3N0LG"
      }
    },
    {
      "cell_type": "markdown",
      "source": [
        "We will tune the regularization rate of our model.\n",
        "\n",
        "You can refer to the documentation for the various list of parameters in logistic regression.\n",
        "\n",
        "Link: https://scikit-learn.org/stable/modules/generated/sklearn.linear_model.LogisticRegression.html\n"
      ],
      "metadata": {
        "id": "Zc8N5L_YNNPH"
      }
    },
    {
      "cell_type": "markdown",
      "source": [
        "\n",
        "Hence let's start doing hyper parameter tuning on parameter $C = \\frac{1}{\\lambda}$  to increase the performance of the model"
      ],
      "metadata": {
        "id": "yuxZwtpZNz5Y"
      }
    },
    {
      "cell_type": "code",
      "execution_count": 28,
      "metadata": {
        "id": "gVBtRLrTbMA2",
        "colab": {
          "base_uri": "https://localhost:8080/"
        },
        "outputId": "9df1f6c8-2323-442f-99e2-3e5493edc248"
      },
      "outputs": [
        {
          "output_type": "stream",
          "name": "stderr",
          "text": [
            "/usr/local/lib/python3.10/dist-packages/sklearn/utils/validation.py:1143: DataConversionWarning: A column-vector y was passed when a 1d array was expected. Please change the shape of y to (n_samples, ), for example using ravel().\n",
            "  y = column_or_1d(y, warn=True)\n",
            "/usr/local/lib/python3.10/dist-packages/sklearn/utils/validation.py:1143: DataConversionWarning: A column-vector y was passed when a 1d array was expected. Please change the shape of y to (n_samples, ), for example using ravel().\n",
            "  y = column_or_1d(y, warn=True)\n",
            "/usr/local/lib/python3.10/dist-packages/sklearn/utils/validation.py:1143: DataConversionWarning: A column-vector y was passed when a 1d array was expected. Please change the shape of y to (n_samples, ), for example using ravel().\n",
            "  y = column_or_1d(y, warn=True)\n",
            "/usr/local/lib/python3.10/dist-packages/sklearn/utils/validation.py:1143: DataConversionWarning: A column-vector y was passed when a 1d array was expected. Please change the shape of y to (n_samples, ), for example using ravel().\n",
            "  y = column_or_1d(y, warn=True)\n",
            "/usr/local/lib/python3.10/dist-packages/sklearn/utils/validation.py:1143: DataConversionWarning: A column-vector y was passed when a 1d array was expected. Please change the shape of y to (n_samples, ), for example using ravel().\n",
            "  y = column_or_1d(y, warn=True)\n",
            "/usr/local/lib/python3.10/dist-packages/sklearn/utils/validation.py:1143: DataConversionWarning: A column-vector y was passed when a 1d array was expected. Please change the shape of y to (n_samples, ), for example using ravel().\n",
            "  y = column_or_1d(y, warn=True)\n",
            "/usr/local/lib/python3.10/dist-packages/sklearn/utils/validation.py:1143: DataConversionWarning: A column-vector y was passed when a 1d array was expected. Please change the shape of y to (n_samples, ), for example using ravel().\n",
            "  y = column_or_1d(y, warn=True)\n",
            "/usr/local/lib/python3.10/dist-packages/sklearn/utils/validation.py:1143: DataConversionWarning: A column-vector y was passed when a 1d array was expected. Please change the shape of y to (n_samples, ), for example using ravel().\n",
            "  y = column_or_1d(y, warn=True)\n",
            "/usr/local/lib/python3.10/dist-packages/sklearn/utils/validation.py:1143: DataConversionWarning: A column-vector y was passed when a 1d array was expected. Please change the shape of y to (n_samples, ), for example using ravel().\n",
            "  y = column_or_1d(y, warn=True)\n",
            "/usr/local/lib/python3.10/dist-packages/sklearn/utils/validation.py:1143: DataConversionWarning: A column-vector y was passed when a 1d array was expected. Please change the shape of y to (n_samples, ), for example using ravel().\n",
            "  y = column_or_1d(y, warn=True)\n",
            "/usr/local/lib/python3.10/dist-packages/sklearn/utils/validation.py:1143: DataConversionWarning: A column-vector y was passed when a 1d array was expected. Please change the shape of y to (n_samples, ), for example using ravel().\n",
            "  y = column_or_1d(y, warn=True)\n",
            "/usr/local/lib/python3.10/dist-packages/sklearn/utils/validation.py:1143: DataConversionWarning: A column-vector y was passed when a 1d array was expected. Please change the shape of y to (n_samples, ), for example using ravel().\n",
            "  y = column_or_1d(y, warn=True)\n",
            "/usr/local/lib/python3.10/dist-packages/sklearn/utils/validation.py:1143: DataConversionWarning: A column-vector y was passed when a 1d array was expected. Please change the shape of y to (n_samples, ), for example using ravel().\n",
            "  y = column_or_1d(y, warn=True)\n",
            "/usr/local/lib/python3.10/dist-packages/sklearn/utils/validation.py:1143: DataConversionWarning: A column-vector y was passed when a 1d array was expected. Please change the shape of y to (n_samples, ), for example using ravel().\n",
            "  y = column_or_1d(y, warn=True)\n",
            "/usr/local/lib/python3.10/dist-packages/sklearn/utils/validation.py:1143: DataConversionWarning: A column-vector y was passed when a 1d array was expected. Please change the shape of y to (n_samples, ), for example using ravel().\n",
            "  y = column_or_1d(y, warn=True)\n",
            "/usr/local/lib/python3.10/dist-packages/sklearn/utils/validation.py:1143: DataConversionWarning: A column-vector y was passed when a 1d array was expected. Please change the shape of y to (n_samples, ), for example using ravel().\n",
            "  y = column_or_1d(y, warn=True)\n",
            "/usr/local/lib/python3.10/dist-packages/sklearn/utils/validation.py:1143: DataConversionWarning: A column-vector y was passed when a 1d array was expected. Please change the shape of y to (n_samples, ), for example using ravel().\n",
            "  y = column_or_1d(y, warn=True)\n",
            "/usr/local/lib/python3.10/dist-packages/sklearn/utils/validation.py:1143: DataConversionWarning: A column-vector y was passed when a 1d array was expected. Please change the shape of y to (n_samples, ), for example using ravel().\n",
            "  y = column_or_1d(y, warn=True)\n",
            "/usr/local/lib/python3.10/dist-packages/sklearn/utils/validation.py:1143: DataConversionWarning: A column-vector y was passed when a 1d array was expected. Please change the shape of y to (n_samples, ), for example using ravel().\n",
            "  y = column_or_1d(y, warn=True)\n",
            "/usr/local/lib/python3.10/dist-packages/sklearn/utils/validation.py:1143: DataConversionWarning: A column-vector y was passed when a 1d array was expected. Please change the shape of y to (n_samples, ), for example using ravel().\n",
            "  y = column_or_1d(y, warn=True)\n",
            "/usr/local/lib/python3.10/dist-packages/sklearn/utils/validation.py:1143: DataConversionWarning: A column-vector y was passed when a 1d array was expected. Please change the shape of y to (n_samples, ), for example using ravel().\n",
            "  y = column_or_1d(y, warn=True)\n",
            "/usr/local/lib/python3.10/dist-packages/sklearn/utils/validation.py:1143: DataConversionWarning: A column-vector y was passed when a 1d array was expected. Please change the shape of y to (n_samples, ), for example using ravel().\n",
            "  y = column_or_1d(y, warn=True)\n",
            "/usr/local/lib/python3.10/dist-packages/sklearn/utils/validation.py:1143: DataConversionWarning: A column-vector y was passed when a 1d array was expected. Please change the shape of y to (n_samples, ), for example using ravel().\n",
            "  y = column_or_1d(y, warn=True)\n",
            "/usr/local/lib/python3.10/dist-packages/sklearn/utils/validation.py:1143: DataConversionWarning: A column-vector y was passed when a 1d array was expected. Please change the shape of y to (n_samples, ), for example using ravel().\n",
            "  y = column_or_1d(y, warn=True)\n",
            "/usr/local/lib/python3.10/dist-packages/sklearn/utils/validation.py:1143: DataConversionWarning: A column-vector y was passed when a 1d array was expected. Please change the shape of y to (n_samples, ), for example using ravel().\n",
            "  y = column_or_1d(y, warn=True)\n",
            "/usr/local/lib/python3.10/dist-packages/sklearn/utils/validation.py:1143: DataConversionWarning: A column-vector y was passed when a 1d array was expected. Please change the shape of y to (n_samples, ), for example using ravel().\n",
            "  y = column_or_1d(y, warn=True)\n",
            "/usr/local/lib/python3.10/dist-packages/sklearn/utils/validation.py:1143: DataConversionWarning: A column-vector y was passed when a 1d array was expected. Please change the shape of y to (n_samples, ), for example using ravel().\n",
            "  y = column_or_1d(y, warn=True)\n",
            "/usr/local/lib/python3.10/dist-packages/sklearn/utils/validation.py:1143: DataConversionWarning: A column-vector y was passed when a 1d array was expected. Please change the shape of y to (n_samples, ), for example using ravel().\n",
            "  y = column_or_1d(y, warn=True)\n",
            "/usr/local/lib/python3.10/dist-packages/sklearn/utils/validation.py:1143: DataConversionWarning: A column-vector y was passed when a 1d array was expected. Please change the shape of y to (n_samples, ), for example using ravel().\n",
            "  y = column_or_1d(y, warn=True)\n",
            "/usr/local/lib/python3.10/dist-packages/sklearn/utils/validation.py:1143: DataConversionWarning: A column-vector y was passed when a 1d array was expected. Please change the shape of y to (n_samples, ), for example using ravel().\n",
            "  y = column_or_1d(y, warn=True)\n",
            "/usr/local/lib/python3.10/dist-packages/sklearn/utils/validation.py:1143: DataConversionWarning: A column-vector y was passed when a 1d array was expected. Please change the shape of y to (n_samples, ), for example using ravel().\n",
            "  y = column_or_1d(y, warn=True)\n",
            "/usr/local/lib/python3.10/dist-packages/sklearn/utils/validation.py:1143: DataConversionWarning: A column-vector y was passed when a 1d array was expected. Please change the shape of y to (n_samples, ), for example using ravel().\n",
            "  y = column_or_1d(y, warn=True)\n",
            "/usr/local/lib/python3.10/dist-packages/sklearn/utils/validation.py:1143: DataConversionWarning: A column-vector y was passed when a 1d array was expected. Please change the shape of y to (n_samples, ), for example using ravel().\n",
            "  y = column_or_1d(y, warn=True)\n",
            "/usr/local/lib/python3.10/dist-packages/sklearn/utils/validation.py:1143: DataConversionWarning: A column-vector y was passed when a 1d array was expected. Please change the shape of y to (n_samples, ), for example using ravel().\n",
            "  y = column_or_1d(y, warn=True)\n",
            "/usr/local/lib/python3.10/dist-packages/sklearn/utils/validation.py:1143: DataConversionWarning: A column-vector y was passed when a 1d array was expected. Please change the shape of y to (n_samples, ), for example using ravel().\n",
            "  y = column_or_1d(y, warn=True)\n",
            "/usr/local/lib/python3.10/dist-packages/sklearn/utils/validation.py:1143: DataConversionWarning: A column-vector y was passed when a 1d array was expected. Please change the shape of y to (n_samples, ), for example using ravel().\n",
            "  y = column_or_1d(y, warn=True)\n",
            "/usr/local/lib/python3.10/dist-packages/sklearn/utils/validation.py:1143: DataConversionWarning: A column-vector y was passed when a 1d array was expected. Please change the shape of y to (n_samples, ), for example using ravel().\n",
            "  y = column_or_1d(y, warn=True)\n",
            "/usr/local/lib/python3.10/dist-packages/sklearn/utils/validation.py:1143: DataConversionWarning: A column-vector y was passed when a 1d array was expected. Please change the shape of y to (n_samples, ), for example using ravel().\n",
            "  y = column_or_1d(y, warn=True)\n",
            "/usr/local/lib/python3.10/dist-packages/sklearn/utils/validation.py:1143: DataConversionWarning: A column-vector y was passed when a 1d array was expected. Please change the shape of y to (n_samples, ), for example using ravel().\n",
            "  y = column_or_1d(y, warn=True)\n",
            "/usr/local/lib/python3.10/dist-packages/sklearn/utils/validation.py:1143: DataConversionWarning: A column-vector y was passed when a 1d array was expected. Please change the shape of y to (n_samples, ), for example using ravel().\n",
            "  y = column_or_1d(y, warn=True)\n",
            "/usr/local/lib/python3.10/dist-packages/sklearn/utils/validation.py:1143: DataConversionWarning: A column-vector y was passed when a 1d array was expected. Please change the shape of y to (n_samples, ), for example using ravel().\n",
            "  y = column_or_1d(y, warn=True)\n",
            "/usr/local/lib/python3.10/dist-packages/sklearn/utils/validation.py:1143: DataConversionWarning: A column-vector y was passed when a 1d array was expected. Please change the shape of y to (n_samples, ), for example using ravel().\n",
            "  y = column_or_1d(y, warn=True)\n",
            "/usr/local/lib/python3.10/dist-packages/sklearn/utils/validation.py:1143: DataConversionWarning: A column-vector y was passed when a 1d array was expected. Please change the shape of y to (n_samples, ), for example using ravel().\n",
            "  y = column_or_1d(y, warn=True)\n",
            "/usr/local/lib/python3.10/dist-packages/sklearn/utils/validation.py:1143: DataConversionWarning: A column-vector y was passed when a 1d array was expected. Please change the shape of y to (n_samples, ), for example using ravel().\n",
            "  y = column_or_1d(y, warn=True)\n",
            "/usr/local/lib/python3.10/dist-packages/sklearn/utils/validation.py:1143: DataConversionWarning: A column-vector y was passed when a 1d array was expected. Please change the shape of y to (n_samples, ), for example using ravel().\n",
            "  y = column_or_1d(y, warn=True)\n",
            "/usr/local/lib/python3.10/dist-packages/sklearn/utils/validation.py:1143: DataConversionWarning: A column-vector y was passed when a 1d array was expected. Please change the shape of y to (n_samples, ), for example using ravel().\n",
            "  y = column_or_1d(y, warn=True)\n",
            "/usr/local/lib/python3.10/dist-packages/sklearn/utils/validation.py:1143: DataConversionWarning: A column-vector y was passed when a 1d array was expected. Please change the shape of y to (n_samples, ), for example using ravel().\n",
            "  y = column_or_1d(y, warn=True)\n",
            "/usr/local/lib/python3.10/dist-packages/sklearn/utils/validation.py:1143: DataConversionWarning: A column-vector y was passed when a 1d array was expected. Please change the shape of y to (n_samples, ), for example using ravel().\n",
            "  y = column_or_1d(y, warn=True)\n",
            "/usr/local/lib/python3.10/dist-packages/sklearn/utils/validation.py:1143: DataConversionWarning: A column-vector y was passed when a 1d array was expected. Please change the shape of y to (n_samples, ), for example using ravel().\n",
            "  y = column_or_1d(y, warn=True)\n",
            "/usr/local/lib/python3.10/dist-packages/sklearn/utils/validation.py:1143: DataConversionWarning: A column-vector y was passed when a 1d array was expected. Please change the shape of y to (n_samples, ), for example using ravel().\n",
            "  y = column_or_1d(y, warn=True)\n"
          ]
        }
      ],
      "source": [
        "from sklearn.pipeline import make_pipeline\n",
        "train_scores = []\n",
        "val_scores = []\n",
        "scaler = StandardScaler()\n",
        "for la in np.arange(0.01, 5000.0, 100): # range of values of Lambda\n",
        "  scaled_lr = make_pipeline(scaler, LogisticRegression(C=1/la))\n",
        "  scaled_lr.fit(X_train, y_train)\n",
        "  train_score = accuracy(y_train, scaled_lr.predict(X_train))\n",
        "  val_score = accuracy(y_val, scaled_lr.predict(X_val))\n",
        "  train_scores.append(train_score)\n",
        "  val_scores.append(val_score)"
      ]
    },
    {
      "cell_type": "markdown",
      "metadata": {
        "id": "2ALKO5uKbrRY"
      },
      "source": [
        "The code is similar to the code we did in hyperparameter tuning\n",
        "\n",
        "\n"
      ]
    },
    {
      "cell_type": "code",
      "execution_count": 29,
      "metadata": {
        "colab": {
          "base_uri": "https://localhost:8080/"
        },
        "id": "6nAkUoymbdym",
        "outputId": "32720505-7e37-420a-d805-9d0c28125f31"
      },
      "outputs": [
        {
          "output_type": "execute_result",
          "data": {
            "text/plain": [
              "50"
            ]
          },
          "metadata": {},
          "execution_count": 29
        }
      ],
      "source": [
        "len(val_scores)"
      ]
    },
    {
      "cell_type": "markdown",
      "metadata": {
        "id": "C-4WX0BUcezZ"
      },
      "source": [
        "Now, let's plot the graph and pick the Regularization Parameter $λ$ which gives the best validation score"
      ]
    },
    {
      "cell_type": "code",
      "execution_count": 30,
      "metadata": {
        "colab": {
          "base_uri": "https://localhost:8080/",
          "height": 470
        },
        "id": "_u1uS8_AcrMp",
        "outputId": "6a319119-9435-4212-a486-8ccce3112ada"
      },
      "outputs": [
        {
          "output_type": "display_data",
          "data": {
            "text/plain": [
              "<Figure size 1000x500 with 1 Axes>"
            ],
            "image/png": "[encoded data removed]"
          },
          "metadata": {}
        }
      ],
      "source": [
        "plt.figure(figsize=(10,5))\n",
        "plt.plot(list(np.arange(0.01, 5000.0, 100)), train_scores, label=\"train\")\n",
        "plt.plot(list(np.arange(0.01, 5000.0, 100)), val_scores, label=\"val\")\n",
        "plt.legend(loc='lower right')\n",
        "\n",
        "plt.xlabel(\"Regularization Parameter(λ)\")\n",
        "plt.ylabel(\"Accuracy\")\n",
        "plt.grid()\n",
        "plt.show()"
      ]
    },
    {
      "cell_type": "markdown",
      "metadata": {
        "id": "DjgrgrSuKSAq"
      },
      "source": [
        "\n",
        "- We see how Validation increases to a peak and then decreases\n",
        "\n",
        "- Notice as Regularization is increasing, the Accuracy decreasing since model is moving towards Underfit"
      ]
    },
    {
      "cell_type": "markdown",
      "source": [
        "Let's take lambda value as 1000 for this data and check the\n",
        "results"
      ],
      "metadata": {
        "id": "iiChnCjdV22_"
      }
    },
    {
      "cell_type": "code",
      "source": [
        "model = LogisticRegression(C=1/1000)\n",
        "model.fit(X_train, y_train)"
      ],
      "metadata": {
        "colab": {
          "base_uri": "https://localhost:8080/",
          "height": 130
        },
        "id": "qGY7gojXPCoW",
        "outputId": "1fde02a0-e7da-48a3-a6dd-7589adced204"
      },
      "execution_count": 31,
      "outputs": [
        {
          "output_type": "stream",
          "name": "stderr",
          "text": [
            "/usr/local/lib/python3.10/dist-packages/sklearn/utils/validation.py:1143: DataConversionWarning: A column-vector y was passed when a 1d array was expected. Please change the shape of y to (n_samples, ), for example using ravel().\n",
            "  y = column_or_1d(y, warn=True)\n"
          ]
        },
        {
          "output_type": "execute_result",
          "data": {
            "text/plain": [
              "LogisticRegression(C=0.001)"
            ],
            "text/html": [
              "<style>#sk-container-id-2 {color: black;background-color: white;}#sk-container-id-2 pre{padding: 0;}#sk-container-id-2 div.sk-toggleable {background-color: white;}#sk-container-id-2 label.sk-toggleable__label {cursor: pointer;display: block;width: 100%;margin-bottom: 0;padding: 0.3em;box-sizing: border-box;text-align: center;}#sk-container-id-2 label.sk-toggleable__label-arrow:before {content: \"▸\";float: left;margin-right: 0.25em;color: #696969;}#sk-container-id-2 label.sk-toggleable__label-arrow:hover:before {color: black;}#sk-container-id-2 div.sk-estimator:hover label.sk-toggleable__label-arrow:before {color: black;}#sk-container-id-2 div.sk-toggleable__content {max-height: 0;max-width: 0;overflow: hidden;text-align: left;background-color: #f0f8ff;}#sk-container-id-2 div.sk-toggleable__content pre {margin: 0.2em;color: black;border-radius: 0.25em;background-color: #f0f8ff;}#sk-container-id-2 input.sk-toggleable__control:checked~div.sk-toggleable__content {max-height: 200px;max-width: 100%;overflow: auto;}#sk-container-id-2 input.sk-toggleable__control:checked~label.sk-toggleable__label-arrow:before {content: \"▾\";}#sk-container-id-2 div.sk-estimator input.sk-toggleable__control:checked~label.sk-toggleable__label {background-color: #d4ebff;}#sk-container-id-2 div.sk-label input.sk-toggleable__control:checked~label.sk-toggleable__label {background-color: #d4ebff;}#sk-container-id-2 input.sk-hidden--visually {border: 0;clip: rect(1px 1px 1px 1px);clip: rect(1px, 1px, 1px, 1px);height: 1px;margin: -1px;overflow: hidden;padding: 0;position: absolute;width: 1px;}#sk-container-id-2 div.sk-estimator {font-family: monospace;background-color: #f0f8ff;border: 1px dotted black;border-radius: 0.25em;box-sizing: border-box;margin-bottom: 0.5em;}#sk-container-id-2 div.sk-estimator:hover {background-color: #d4ebff;}#sk-container-id-2 div.sk-parallel-item::after {content: \"\";width: 100%;border-bottom: 1px solid gray;flex-grow: 1;}#sk-container-id-2 div.sk-label:hover label.sk-toggleable__label {background-color: #d4ebff;}#sk-container-id-2 div.sk-serial::before {content: \"\";position: absolute;border-left: 1px solid gray;box-sizing: border-box;top: 0;bottom: 0;left: 50%;z-index: 0;}#sk-container-id-2 div.sk-serial {display: flex;flex-direction: column;align-items: center;background-color: white;padding-right: 0.2em;padding-left: 0.2em;position: relative;}#sk-container-id-2 div.sk-item {position: relative;z-index: 1;}#sk-container-id-2 div.sk-parallel {display: flex;align-items: stretch;justify-content: center;background-color: white;position: relative;}#sk-container-id-2 div.sk-item::before, #sk-container-id-2 div.sk-parallel-item::before {content: \"\";position: absolute;border-left: 1px solid gray;box-sizing: border-box;top: 0;bottom: 0;left: 50%;z-index: -1;}#sk-container-id-2 div.sk-parallel-item {display: flex;flex-direction: column;z-index: 1;position: relative;background-color: white;}#sk-container-id-2 div.sk-parallel-item:first-child::after {align-self: flex-end;width: 50%;}#sk-container-id-2 div.sk-parallel-item:last-child::after {align-self: flex-start;width: 50%;}#sk-container-id-2 div.sk-parallel-item:only-child::after {width: 0;}#sk-container-id-2 div.sk-dashed-wrapped {border: 1px dashed gray;margin: 0 0.4em 0.5em 0.4em;box-sizing: border-box;padding-bottom: 0.4em;background-color: white;}#sk-container-id-2 div.sk-label label {font-family: monospace;font-weight: bold;display: inline-block;line-height: 1.2em;}#sk-container-id-2 div.sk-label-container {text-align: center;}#sk-container-id-2 div.sk-container {/* jupyter's `normalize.less` sets `[hidden] { display: none; }` but bootstrap.min.css set `[hidden] { display: none !important; }` so we also need the `!important` here to be able to override the default hidden behavior on the sphinx rendered scikit-learn.org. See: https://github.com/scikit-learn/scikit-learn/issues/21755 */display: inline-block !important;position: relative;}#sk-container-id-2 div.sk-text-repr-fallback {display: none;}</style><div id=\"sk-container-id-2\" class=\"sk-top-container\"><div class=\"sk-text-repr-fallback\"><pre>LogisticRegression(C=0.001)</pre><b>In a Jupyter environment, please rerun this cell to show the HTML representation or trust the notebook. <br />On GitHub, the HTML representation is unable to render, please try loading this page with nbviewer.org.</b></div><div class=\"sk-container\" hidden><div class=\"sk-item\"><div class=\"sk-estimator sk-toggleable\"><input class=\"sk-toggleable__control sk-hidden--visually\" id=\"sk-estimator-id-2\" type=\"checkbox\" checked><label for=\"sk-estimator-id-2\" class=\"sk-toggleable__label sk-toggleable__label-arrow\">LogisticRegression</label><div class=\"sk-toggleable__content\"><pre>LogisticRegression(C=0.001)</pre></div></div></div></div></div>"
            ]
          },
          "metadata": {},
          "execution_count": 31
        }
      ]
    },
    {
      "cell_type": "code",
      "source": [
        "accuracy(y_train, model.predict(X_train))"
      ],
      "metadata": {
        "colab": {
          "base_uri": "https://localhost:8080/"
        },
        "outputId": "0771a48e-d82c-44cd-c2cf-b26d34199339",
        "id": "JCkfn5ycPUBM"
      },
      "execution_count": 32,
      "outputs": [
        {
          "output_type": "execute_result",
          "data": {
            "text/plain": [
              "0.7137426900584796"
            ]
          },
          "metadata": {},
          "execution_count": 32
        }
      ]
    },
    {
      "cell_type": "code",
      "source": [
        "accuracy(y_val, model.predict(X_val))"
      ],
      "metadata": {
        "colab": {
          "base_uri": "https://localhost:8080/"
        },
        "outputId": "28f26a00-9784-44f9-9198-f91b70d1da2d",
        "id": "_txvnm0xPUBN"
      },
      "execution_count": 33,
      "outputs": [
        {
          "output_type": "execute_result",
          "data": {
            "text/plain": [
              "0.7096491228070175"
            ]
          },
          "metadata": {},
          "execution_count": 33
        }
      ]
    },
    {
      "cell_type": "markdown",
      "source": [
        "We can observe an increase of 0.01, or 1%, in both training and validation data\n",
        "\n",
        "Let's check our model for test data too"
      ],
      "metadata": {
        "id": "AKs4aurQPnO0"
      }
    },
    {
      "cell_type": "code",
      "source": [
        "accuracy(y_test, model.predict(X_test))"
      ],
      "metadata": {
        "colab": {
          "base_uri": "https://localhost:8080/"
        },
        "id": "4j-b26k9PWGd",
        "outputId": "fcbb507a-fa22-4b05-c0cf-c82241de9239"
      },
      "execution_count": 34,
      "outputs": [
        {
          "output_type": "execute_result",
          "data": {
            "text/plain": [
              "0.7096491228070175"
            ]
          },
          "metadata": {},
          "execution_count": 34
        }
      ]
    },
    {
      "cell_type": "markdown",
      "source": [
        "## Logit/ Log odds\n"
      ],
      "metadata": {
        "id": "UDVPbjGQT1El"
      }
    },
    {
      "cell_type": "markdown",
      "source": [
        "### Log odds interpretation of logistic regression"
      ],
      "metadata": {
        "id": "zsXQM14SUBRX"
      }
    },
    {
      "cell_type": "markdown",
      "source": [
        "#### What do you mean by odds?\n",
        "\n",
        "You must have heard this term in betting maybe.\n",
        "\n",
        "E.g.: The odds of the horse winning the race is 4:1\n",
        "\n",
        "In simple terms, odds is the ratio of probability of scuess/probability of failure.\n",
        "\n",
        "So for the above example, the Probability of winning will be: 4/4+1 = 4/5 = 0.8\n",
        "\n",
        "Inverserly, probability of losing will be 1/5 = 20%\n"
      ],
      "metadata": {
        "id": "eOaFwmxIUEou"
      }
    },
    {
      "cell_type": "markdown",
      "source": [
        "<img src=\"https://d2beiqkhq929f0.cloudfront.net/public_assets/assets/000/036/744/original/image_2023-06-14_051233014.png?1686699754\" height=500 width=600>"
      ],
      "metadata": {
        "id": "8uly_-lZfjbW"
      }
    },
    {
      "cell_type": "markdown",
      "source": [
        "So here, odds = p/1-p , where,\n",
        "\n",
        "P: P(Y=1|x) -> odds of belonging to class 1"
      ],
      "metadata": {
        "id": "ae8xZk7UVUkW"
      }
    },
    {
      "cell_type": "markdown",
      "source": [
        "<img src= \"https://d2beiqkhq929f0.cloudfront.net/public_assets/assets/000/036/745/original/image_2023-06-14_051345731.png?1686699827\" height=500 width=600>"
      ],
      "metadata": {
        "id": "FsvxdaUAgjWh"
      }
    },
    {
      "cell_type": "markdown",
      "source": [
        "#### Which concept of earlier is this similar to?\n",
        "\n",
        "Remember, $σ(p)$ also defined probability.\n",
        "\n",
        "So if we simplify our winning/losing as belonging to class 1/0, then $σ(p)$ here defines the probability of belonging to class 1 (winning class)"
      ],
      "metadata": {
        "id": "l_Mieok8UwK6"
      }
    },
    {
      "cell_type": "markdown",
      "source": [
        "So\n",
        "\n",
        "$$p=σ(z)$$\n",
        "$$=σ(w^Tx+w_0)$$\n",
        "$$=\\frac{1}{1+e^{-z}}=\\frac{1}{1+\\frac{1}{e^z}}=\\frac{1}{\\frac{e^z + 1}{e^z}}$$\n",
        "$$=>p=\\frac{e^z}{1+e^z}$$\n",
        "\n",
        "\n"
      ],
      "metadata": {
        "id": "SRmfJz_bglS_"
      }
    },
    {
      "cell_type": "markdown",
      "source": [
        "<img src=\"https://d2beiqkhq929f0.cloudfront.net/public_assets/assets/000/036/746/original/image_2023-06-14_051456811.png?1686699898\" height=500 width=600>"
      ],
      "metadata": {
        "id": "kQ6yGsPGJlkA"
      }
    },
    {
      "cell_type": "markdown",
      "source": [
        "Similarly, for 1-p"
      ],
      "metadata": {
        "id": "-DVBzhBNhn8B"
      }
    },
    {
      "cell_type": "markdown",
      "source": [
        "<img src=\"https://d2beiqkhq929f0.cloudfront.net/public_assets/assets/000/036/747/original/image_2023-06-14_051600771.png?1686699961\">"
      ],
      "metadata": {
        "id": "XLpgoCdqhqIY"
      }
    },
    {
      "cell_type": "markdown",
      "source": [
        "$$1-p=1-\\frac{e^z}{1+e^z}$$\n",
        "$$=> 1-p = \\frac{1}{1+e^z}$$"
      ],
      "metadata": {
        "id": "J9jNbXxthrcg"
      }
    },
    {
      "cell_type": "markdown",
      "source": [
        "\n",
        "Now, we know odds = $\\frac{p}{1-p}$"
      ],
      "metadata": {
        "id": "kJudMablh5dW"
      }
    },
    {
      "cell_type": "markdown",
      "source": [
        "<img src=\"https://d2beiqkhq929f0.cloudfront.net/public_assets/assets/000/036/748/original/image_2023-06-14_051636254.png?1686699997\">"
      ],
      "metadata": {
        "id": "wyQvwq4Ji5NV"
      }
    },
    {
      "cell_type": "markdown",
      "source": [
        "$$\\frac{p}{1-p}$$\n",
        "$$=\\frac{\\frac{e^z}{1+e^z}}{\\frac{1}{1+e^z}}$$\n",
        "$$=> \\frac{p}{1-p}=e^z$$\n",
        "\n",
        "Taking logs on both sides:\n",
        "\n",
        "$$log_e(odds)=log_e(e^z)$$\n",
        "$$=>log(odds)=log(\\frac{p}{1-p})=z$$"
      ],
      "metadata": {
        "id": "NhepkEDEi9UX"
      }
    },
    {
      "cell_type": "markdown",
      "source": [
        "#### What does this mean geometrically?\n",
        "\n",
        "z: distance of a point from the hyperplane line\n",
        "\n",
        "So log(odds) is the distance of a point from the line\n",
        "\n",
        "In other words, if distance of a point is more from the hyperplane, the odds of it being in class 1 is higher"
      ],
      "metadata": {
        "id": "HQJ1v0Tyjopp"
      }
    },
    {
      "cell_type": "markdown",
      "source": [
        "<img src=\"https://d2beiqkhq929f0.cloudfront.net/public_assets/assets/000/036/749/original/image_2023-06-14_051717508.png?1686700038\" height=550 width=600>"
      ],
      "metadata": {
        "id": "Gv9M7G2vn4Js"
      }
    },
    {
      "cell_type": "markdown",
      "source": [
        "Remember,\n",
        "\n",
        "- In linear regression, there is a **direct relation of \"x\" with \"y\"**\n",
        "- But in logistic regression, there is a non-linearity which can be seen due to log, and no direct relation\n",
        "\n"
      ],
      "metadata": {
        "id": "LsjTzFknn-j1"
      }
    },
    {
      "cell_type": "markdown",
      "source": [
        "<img src=\"https://d2beiqkhq929f0.cloudfront.net/public_assets/assets/000/036/761/original/image_2023-06-14_064625943.png?1686705387\" height=500 >"
      ],
      "metadata": {
        "id": "uKirfuS1pI3O"
      }
    },
    {
      "cell_type": "markdown",
      "source": [
        "To find the probability of the point lying, we simply apply exponential to both sides and solve for p, which would give:\n",
        "\n",
        "$p=\\frac{1}{1+e^{-z}}$\n",
        "\n",
        "Note: Sigmoid and Logit and just inverse of each other, and both can be used to build a logistic regression model"
      ],
      "metadata": {
        "id": "aBOq4_z2pJzI"
      }
    },
    {
      "cell_type": "markdown",
      "source": [
        "## Impact of outliers"
      ],
      "metadata": {
        "id": "-xAtYk8zpO1A"
      }
    },
    {
      "cell_type": "markdown",
      "source": [
        "### Case I: When the outlier lies on the correct side"
      ],
      "metadata": {
        "id": "kE0hLR1LxJWP"
      }
    },
    {
      "cell_type": "markdown",
      "source": [
        "<img src=\"https://d2beiqkhq929f0.cloudfront.net/public_assets/assets/000/036/751/original/image_2023-06-14_052018179.png?1686700219\" height=500 width=600>"
      ],
      "metadata": {
        "id": "2ZGG2smHxO7Q"
      }
    },
    {
      "cell_type": "markdown",
      "source": [
        "We know, the loss function L:\n",
        "\n",
        "$$-[y\\log\\hat{y} + (1-y)log(1-\\hat{y}]$$\n",
        "\n",
        "Since the outlier point belongs to class 1, L becomes\n",
        "\n",
        "$$-log \\ \\hat{y}$$"
      ],
      "metadata": {
        "id": "77yz6CUDxQF_"
      }
    },
    {
      "cell_type": "markdown",
      "source": [
        "<img src=\"https://d2beiqkhq929f0.cloudfront.net/public_assets/assets/000/036/752/original/image_2023-06-14_052120066.png?1686700281\" height=500 width=600>"
      ],
      "metadata": {
        "id": "f7-ZUI-Sxywe"
      }
    },
    {
      "cell_type": "markdown",
      "source": [
        "Now, $\\hat{y}=σ(z^i)$\n"
      ],
      "metadata": {
        "id": "5isiTDePxz2Q"
      }
    },
    {
      "cell_type": "markdown",
      "source": [
        "<img src=\"https://d2beiqkhq929f0.cloudfront.net/public_assets/assets/000/036/753/original/image_2023-06-14_052158593.png?1686700322\" height=500 width=600>"
      ],
      "metadata": {
        "id": "xqBbYquJyBgd"
      }
    },
    {
      "cell_type": "markdown",
      "source": [
        "Say $z^i$ is significantly large\n",
        "\n",
        "As we can see from the sigmoid plot,\n",
        "- $σ(z^i)$ tends to 1 for values above 4\n",
        "- So, $log \\ \\hat{y}$ will tend to 0"
      ],
      "metadata": {
        "id": "bRpSgVaqyFqV"
      }
    },
    {
      "cell_type": "markdown",
      "source": [
        "<img src=\"https://d2beiqkhq929f0.cloudfront.net/public_assets/assets/000/036/754/original/image_2023-06-14_052241823.png?1686700363\" height=500 width=600>"
      ],
      "metadata": {
        "id": "Zc3G6BqcLSYq"
      }
    },
    {
      "cell_type": "markdown",
      "source": [
        "Since the Loss is very less in this case:\n",
        "\n",
        "=> The impact of outlier is **very less**"
      ],
      "metadata": {
        "id": "PkxuXLvZLYGX"
      }
    },
    {
      "cell_type": "markdown",
      "source": [
        "### Case II: When the outlier is on the opposite/wrong side"
      ],
      "metadata": {
        "id": "tMCSU33-yxo4"
      }
    },
    {
      "cell_type": "markdown",
      "source": [
        "<img src=\"https://d2beiqkhq929f0.cloudfront.net/public_assets/assets/000/036/755/original/image_2023-06-14_052332693.png?1686700414\" height=500 width=600>"
      ],
      "metadata": {
        "id": "JKz6bBAL05R8"
      }
    },
    {
      "cell_type": "markdown",
      "source": [
        "In this case,\n",
        "\n",
        "$$-[y\\log\\hat{y} + (1-y)log(1-\\hat{y}]$$\n",
        "\n",
        "Since the outlier point belongs to class 1, L becomes\n",
        "\n",
        "$$-log \\ \\hat{y}$$"
      ],
      "metadata": {
        "id": "D2wmPX8J05R8"
      }
    },
    {
      "cell_type": "markdown",
      "source": [
        "<img src=\"https://d2beiqkhq929f0.cloudfront.net/public_assets/assets/000/036/756/original/image_2023-06-14_052412469.png?1686700453\" height=500 width=600>"
      ],
      "metadata": {
        "id": "XbZc48gZ05R8"
      }
    },
    {
      "cell_type": "markdown",
      "source": [
        "Now, $\\hat{y}=σ(z^i)$\n"
      ],
      "metadata": {
        "id": "wT9APZcC05R8"
      }
    },
    {
      "cell_type": "markdown",
      "source": [
        "Let's say $z^i=-4.3$\n",
        "\n",
        "So $\\hat{y}$ becomes 0.01\n",
        "\n",
        "Therefore, L = $-log_e(0.01)$\n",
        "\n",
        "This comes out almost equal to 4.6, which is a very large value\n",
        "\n",
        "=> The impact of outlier will be **very high**"
      ],
      "metadata": {
        "id": "c-rNTFeZ05R9"
      }
    },
    {
      "cell_type": "markdown",
      "source": [
        "Thus the best thing is to find the outlier and remove them, so that we get accurate results"
      ],
      "metadata": {
        "id": "gnk3wKNI1a53"
      }
    },
    {
      "cell_type": "markdown",
      "source": [
        "## Multi-class classification"
      ],
      "metadata": {
        "id": "gaHfUqyd1oSI"
      }
    },
    {
      "cell_type": "markdown",
      "source": [
        "Till now we have seen how to use logistic regression to classify between two classes\n",
        "\n",
        "But in real world there will be cases with many more classes\n",
        "\n",
        "#### How can we use logistic regression in cases with more than two output classes?"
      ],
      "metadata": {
        "id": "ZFD7VRYKD_8d"
      }
    },
    {
      "cell_type": "markdown",
      "source": [
        "We will use something called \"one vs rest\" or \"one vs all\" (OVR)"
      ],
      "metadata": {
        "id": "UNIbkEo1Echl"
      }
    },
    {
      "cell_type": "markdown",
      "source": [
        "<img src=\"https://d2beiqkhq929f0.cloudfront.net/public_assets/assets/000/036/758/original/image_2023-06-14_052559087.png?1686700560\" height=500 width=600>"
      ],
      "metadata": {
        "id": "n-pwy8caFAO-"
      }
    },
    {
      "cell_type": "markdown",
      "source": [
        "Let's suppose we have a data with 3 output classes:\n",
        "- Orange\n",
        "- Apple\n",
        "- Grape\n",
        "\n",
        "We will create three logistic regression models (three since output classes=3)\n",
        "- First model will check whether the input is orange or not\n",
        "- Second model will check whether the input is apple or not\n",
        "- Third model will check whether the input is grape or not"
      ],
      "metadata": {
        "id": "qQpmtlU1EPSt"
      }
    },
    {
      "cell_type": "markdown",
      "source": [
        "To train these models, we can't use the same dataset, since our data will have three classes."
      ],
      "metadata": {
        "id": "GIEbgDyNE0Ap"
      }
    },
    {
      "cell_type": "markdown",
      "source": [
        "<img src=\"https://d2beiqkhq929f0.cloudfront.net/public_assets/assets/000/036/759/original/image_2023-06-14_052629426.png?1686700590\" height=800 width=600>"
      ],
      "metadata": {
        "id": "9qxyeBDpFRKB"
      }
    },
    {
      "cell_type": "markdown",
      "source": [
        "So we will modify our data for the three models.\n",
        "\n",
        "Say for model 1, to check whether the input is orange or not,\n",
        "- Our output column will be modified by replacing the values with orange as 1, and rest values with 0\n",
        "\n",
        "We will do the same for the other two models"
      ],
      "metadata": {
        "id": "Z3VUT2sWFCjH"
      }
    },
    {
      "cell_type": "markdown",
      "source": [
        "#### Now given an input point, how to predict which class it belongs to?"
      ],
      "metadata": {
        "id": "AmYCvtDUFVGY"
      }
    },
    {
      "cell_type": "markdown",
      "source": [
        "<img src=\"https://d2beiqkhq929f0.cloudfront.net/public_assets/assets/000/036/760/original/image_2023-06-14_052727429.png?1686700648\" height=500 width=800>\n",
        "\n"
      ],
      "metadata": {
        "id": "mCNkfps1FZHp"
      }
    },
    {
      "cell_type": "markdown",
      "source": [
        "We will pass the input through all the three models, and then take argmax of the output probabilities\n",
        "\n",
        "Say for e.g., in our above case\n",
        "- $y_{orange}$=0.92\n",
        "- $y_{apple}$=0.13\n",
        "- $y_{grape}$=0.01\n",
        "\n",
        "So, the output class will be orange, since it has the highest $\\hat{y}$ value"
      ],
      "metadata": {
        "id": "Y4Hu4ePlFaPT"
      }
    },
    {
      "cell_type": "markdown",
      "source": [
        "Let's see an implementation of the same using sklearn"
      ],
      "metadata": {
        "id": "3ddgQAxxGKDA"
      }
    },
    {
      "cell_type": "markdown",
      "source": [
        "### Sklearn Code implementation for MultiClass Classification"
      ],
      "metadata": {
        "id": "7mGI1HEcX3xB"
      }
    },
    {
      "cell_type": "markdown",
      "metadata": {
        "id": "TAAkds7oBik1"
      },
      "source": [
        "Importing libraries"
      ]
    },
    {
      "cell_type": "code",
      "execution_count": null,
      "metadata": {
        "id": "A2aAoXVp-1bQ"
      },
      "outputs": [],
      "source": [
        "import numpy as np\n",
        "import matplotlib.pyplot as plt\n",
        "import pandas as pd\n",
        "\n",
        "from sklearn.inspection import DecisionBoundaryDisplay"
      ]
    },
    {
      "cell_type": "markdown",
      "metadata": {
        "id": "3x8zt9JRB03X"
      },
      "source": [
        "Creating some data with multiple classes"
      ]
    },
    {
      "cell_type": "code",
      "execution_count": null,
      "metadata": {
        "colab": {
          "base_uri": "https://localhost:8080/"
        },
        "id": "RQtc5UXb-1Of",
        "outputId": "61a93273-7338-4f52-aac4-68734e9fcacb"
      },
      "outputs": [
        {
          "output_type": "stream",
          "name": "stdout",
          "text": [
            "(498, 2) (498, 1)\n"
          ]
        }
      ],
      "source": [
        "# dataset creation with 3 classes\n",
        "from sklearn.datasets import make_classification\n",
        "\n",
        "X, y = make_classification(n_samples= 498,\n",
        "                           n_features= 2,\n",
        "                           n_classes = 3,\n",
        "                           n_redundant=0,\n",
        "                           n_clusters_per_class=1,\n",
        "                           random_state=5)\n",
        "y=y.reshape(len(y), 1)\n",
        "\n",
        "print(X.shape, y.shape)"
      ]
    },
    {
      "cell_type": "code",
      "source": [],
      "metadata": {
        "id": "cQYuaQ0tQ39W"
      },
      "execution_count": null,
      "outputs": []
    },
    {
      "cell_type": "markdown",
      "source": [
        "Plotting the data"
      ],
      "metadata": {
        "id": "ZSLrSn-ndKho"
      }
    },
    {
      "cell_type": "code",
      "source": [
        "plt.scatter(X[:, 0], X[:, 1], c = y)\n",
        "plt.show()\n"
      ],
      "metadata": {
        "colab": {
          "base_uri": "https://localhost:8080/",
          "height": 430
        },
        "id": "uE89OzPzYZa4",
        "outputId": "f336fe02-fdf1-43a3-c303-4d624ecf38a8"
      },
      "execution_count": null,
      "outputs": [
        {
          "output_type": "display_data",
          "data": {
            "text/plain": [
              "<Figure size 640x480 with 1 Axes>"
            ],
            "image/png": "[encoded data removed]"
          },
          "metadata": {}
        }
      ]
    },
    {
      "cell_type": "markdown",
      "source": [
        "Splitting the data into train validation and test set"
      ],
      "metadata": {
        "id": "cb7VVJvodMat"
      }
    },
    {
      "cell_type": "code",
      "source": [
        "from sklearn.model_selection import train_test_split\n",
        "\n",
        "X_tr_cv, X_test, y_tr_cv, y_test = train_test_split(X, y, test_size=0.2, random_state=4)\n",
        "X_train, X_val, y_train, y_val = train_test_split(X_tr_cv, y_tr_cv, test_size=0.25,random_state=4)\n",
        "X_train.shape"
      ],
      "metadata": {
        "colab": {
          "base_uri": "https://localhost:8080/"
        },
        "id": "wx0egsivY3z5",
        "outputId": "8d5d6212-e924-49bc-d170-b544f20f8a91"
      },
      "execution_count": null,
      "outputs": [
        {
          "output_type": "execute_result",
          "data": {
            "text/plain": [
              "(298, 2)"
            ]
          },
          "metadata": {},
          "execution_count": 25
        }
      ]
    },
    {
      "cell_type": "markdown",
      "source": [
        "training the OneVsRest Logistic Regression model"
      ],
      "metadata": {
        "id": "Si9tkDF2dRRY"
      }
    },
    {
      "cell_type": "code",
      "source": [
        "model = LogisticRegression(multi_class='ovr')\n",
        "# fit model\n",
        "model.fit(X_train, y_train)"
      ],
      "metadata": {
        "colab": {
          "base_uri": "https://localhost:8080/",
          "height": 130
        },
        "id": "PNmPrfHPY3L0",
        "outputId": "c73e2702-a7ee-432c-b06e-902a04850b88"
      },
      "execution_count": null,
      "outputs": [
        {
          "output_type": "stream",
          "name": "stderr",
          "text": [
            "/usr/local/lib/python3.10/dist-packages/sklearn/utils/validation.py:1143: DataConversionWarning: A column-vector y was passed when a 1d array was expected. Please change the shape of y to (n_samples, ), for example using ravel().\n",
            "  y = column_or_1d(y, warn=True)\n"
          ]
        },
        {
          "output_type": "execute_result",
          "data": {
            "text/plain": [
              "LogisticRegression(multi_class='ovr')"
            ],
            "text/html": [
              "<style>#sk-container-id-3 {color: black;background-color: white;}#sk-container-id-3 pre{padding: 0;}#sk-container-id-3 div.sk-toggleable {background-color: white;}#sk-container-id-3 label.sk-toggleable__label {cursor: pointer;display: block;width: 100%;margin-bottom: 0;padding: 0.3em;box-sizing: border-box;text-align: center;}#sk-container-id-3 label.sk-toggleable__label-arrow:before {content: \"▸\";float: left;margin-right: 0.25em;color: #696969;}#sk-container-id-3 label.sk-toggleable__label-arrow:hover:before {color: black;}#sk-container-id-3 div.sk-estimator:hover label.sk-toggleable__label-arrow:before {color: black;}#sk-container-id-3 div.sk-toggleable__content {max-height: 0;max-width: 0;overflow: hidden;text-align: left;background-color: #f0f8ff;}#sk-container-id-3 div.sk-toggleable__content pre {margin: 0.2em;color: black;border-radius: 0.25em;background-color: #f0f8ff;}#sk-container-id-3 input.sk-toggleable__control:checked~div.sk-toggleable__content {max-height: 200px;max-width: 100%;overflow: auto;}#sk-container-id-3 input.sk-toggleable__control:checked~label.sk-toggleable__label-arrow:before {content: \"▾\";}#sk-container-id-3 div.sk-estimator input.sk-toggleable__control:checked~label.sk-toggleable__label {background-color: #d4ebff;}#sk-container-id-3 div.sk-label input.sk-toggleable__control:checked~label.sk-toggleable__label {background-color: #d4ebff;}#sk-container-id-3 input.sk-hidden--visually {border: 0;clip: rect(1px 1px 1px 1px);clip: rect(1px, 1px, 1px, 1px);height: 1px;margin: -1px;overflow: hidden;padding: 0;position: absolute;width: 1px;}#sk-container-id-3 div.sk-estimator {font-family: monospace;background-color: #f0f8ff;border: 1px dotted black;border-radius: 0.25em;box-sizing: border-box;margin-bottom: 0.5em;}#sk-container-id-3 div.sk-estimator:hover {background-color: #d4ebff;}#sk-container-id-3 div.sk-parallel-item::after {content: \"\";width: 100%;border-bottom: 1px solid gray;flex-grow: 1;}#sk-container-id-3 div.sk-label:hover label.sk-toggleable__label {background-color: #d4ebff;}#sk-container-id-3 div.sk-serial::before {content: \"\";position: absolute;border-left: 1px solid gray;box-sizing: border-box;top: 0;bottom: 0;left: 50%;z-index: 0;}#sk-container-id-3 div.sk-serial {display: flex;flex-direction: column;align-items: center;background-color: white;padding-right: 0.2em;padding-left: 0.2em;position: relative;}#sk-container-id-3 div.sk-item {position: relative;z-index: 1;}#sk-container-id-3 div.sk-parallel {display: flex;align-items: stretch;justify-content: center;background-color: white;position: relative;}#sk-container-id-3 div.sk-item::before, #sk-container-id-3 div.sk-parallel-item::before {content: \"\";position: absolute;border-left: 1px solid gray;box-sizing: border-box;top: 0;bottom: 0;left: 50%;z-index: -1;}#sk-container-id-3 div.sk-parallel-item {display: flex;flex-direction: column;z-index: 1;position: relative;background-color: white;}#sk-container-id-3 div.sk-parallel-item:first-child::after {align-self: flex-end;width: 50%;}#sk-container-id-3 div.sk-parallel-item:last-child::after {align-self: flex-start;width: 50%;}#sk-container-id-3 div.sk-parallel-item:only-child::after {width: 0;}#sk-container-id-3 div.sk-dashed-wrapped {border: 1px dashed gray;margin: 0 0.4em 0.5em 0.4em;box-sizing: border-box;padding-bottom: 0.4em;background-color: white;}#sk-container-id-3 div.sk-label label {font-family: monospace;font-weight: bold;display: inline-block;line-height: 1.2em;}#sk-container-id-3 div.sk-label-container {text-align: center;}#sk-container-id-3 div.sk-container {/* jupyter's `normalize.less` sets `[hidden] { display: none; }` but bootstrap.min.css set `[hidden] { display: none !important; }` so we also need the `!important` here to be able to override the default hidden behavior on the sphinx rendered scikit-learn.org. See: https://github.com/scikit-learn/scikit-learn/issues/21755 */display: inline-block !important;position: relative;}#sk-container-id-3 div.sk-text-repr-fallback {display: none;}</style><div id=\"sk-container-id-3\" class=\"sk-top-container\"><div class=\"sk-text-repr-fallback\"><pre>LogisticRegression(multi_class=&#x27;ovr&#x27;)</pre><b>In a Jupyter environment, please rerun this cell to show the HTML representation or trust the notebook. <br />On GitHub, the HTML representation is unable to render, please try loading this page with nbviewer.org.</b></div><div class=\"sk-container\" hidden><div class=\"sk-item\"><div class=\"sk-estimator sk-toggleable\"><input class=\"sk-toggleable__control sk-hidden--visually\" id=\"sk-estimator-id-3\" type=\"checkbox\" checked><label for=\"sk-estimator-id-3\" class=\"sk-toggleable__label sk-toggleable__label-arrow\">LogisticRegression</label><div class=\"sk-toggleable__content\"><pre>LogisticRegression(multi_class=&#x27;ovr&#x27;)</pre></div></div></div></div></div>"
            ]
          },
          "metadata": {},
          "execution_count": 26
        }
      ]
    },
    {
      "cell_type": "markdown",
      "source": [
        "Checking the Accuracy of Training, validation and Test dataset"
      ],
      "metadata": {
        "id": "TnaFcUL8dXan"
      }
    },
    {
      "cell_type": "code",
      "source": [
        "print(f'Training Accuracy:{model.score(X_train,y_train)}')\n",
        "print(f'Validation Accuracy :{model.score(X_val,y_val)}')\n",
        "print(f'Test Accuracy:{model.score(X_test,y_test)}')"
      ],
      "metadata": {
        "colab": {
          "base_uri": "https://localhost:8080/"
        },
        "id": "JML2FkWgZ7ZH",
        "outputId": "be6b6d73-06a1-4d0d-9f35-f7b17cef62b6"
      },
      "execution_count": null,
      "outputs": [
        {
          "output_type": "stream",
          "name": "stdout",
          "text": [
            "Training Accuracy:0.9161073825503355\n",
            "Validation Accuracy :0.91\n",
            "Test Accuracy:0.91\n"
          ]
        }
      ]
    },
    {
      "cell_type": "markdown",
      "source": [
        "Creating Hyperplane of OVR LogisticRegression for the entire data"
      ],
      "metadata": {
        "id": "CH-yHlhMdw3_"
      }
    },
    {
      "cell_type": "code",
      "source": [
        "X"
      ],
      "metadata": {
        "id": "-8lQncaFRX_I",
        "outputId": "5415088c-2a8d-4d07-999e-e12548c0a933",
        "colab": {
          "base_uri": "https://localhost:8080/"
        }
      },
      "execution_count": null,
      "outputs": [
        {
          "output_type": "execute_result",
          "data": {
            "text/plain": [
              "array([[-1.06046348e+00, -9.46151693e-01],\n",
              "       [-1.07328735e+00,  1.12579697e+00],\n",
              "       [-1.30251507e+00,  1.27609317e+00],\n",
              "       [-9.82024695e-01, -1.41943709e-02],\n",
              "       [ 1.10608927e+00, -5.78336994e-01],\n",
              "       [ 1.68740640e-01, -1.23179638e+00],\n",
              "       [-1.10643431e+00, -9.73680424e-01],\n",
              "       [ 4.23058277e-02, -1.01173227e+00],\n",
              "       [-1.27793724e+00, -8.24138962e-01],\n",
              "       [-9.65763076e-01, -9.58893538e-01],\n",
              "       [-7.24877888e-01,  7.74568331e-01],\n",
              "       [ 3.94484197e-01, -1.02280544e+00],\n",
              "       [-1.42880776e+00,  2.27597716e+00],\n",
              "       [-1.48473818e+00, -5.97862989e-01],\n",
              "       [-5.06213921e-01, -1.17932620e+00],\n",
              "       [ 3.16059359e-01, -8.01995782e-01],\n",
              "       [-5.24452044e-01, -5.90589105e-01],\n",
              "       [-1.07565483e+00,  1.19021951e+00],\n",
              "       [ 1.66390609e+00, -7.30037480e-01],\n",
              "       [ 6.58706788e-01, -1.52760674e+00],\n",
              "       [ 9.19890507e-01, -1.18593296e+00],\n",
              "       [-1.24549170e+00,  1.62332518e+00],\n",
              "       [-1.00278261e+00,  1.35164489e+00],\n",
              "       [ 1.77470056e-01, -5.45381133e-01],\n",
              "       [-1.45662277e+00,  1.57499690e+00],\n",
              "       [-1.67191715e+00, -7.03396575e-01],\n",
              "       [-9.80164212e-02, -1.46012663e+00],\n",
              "       [ 1.34536727e+00, -7.99683988e-01],\n",
              "       [-2.10149060e-01, -6.05858326e-01],\n",
              "       [-1.96882579e-01, -1.26274773e+00],\n",
              "       [ 2.06344385e+00, -1.44635397e+00],\n",
              "       [-8.71517429e-01, -9.75055333e-01],\n",
              "       [-1.69110751e+00, -6.32113207e-01],\n",
              "       [-9.10918678e-01,  9.15739691e-01],\n",
              "       [-1.13291034e+00, -7.29667307e-01],\n",
              "       [ 2.10703936e+00, -1.42098630e+00],\n",
              "       [-4.15302999e-01, -9.33677342e-01],\n",
              "       [ 2.13605144e-01, -1.86272940e+00],\n",
              "       [ 1.82116957e+00, -9.67916473e-01],\n",
              "       [-9.56042972e-01, -1.05917010e+00],\n",
              "       [ 1.70252080e+00, -1.04333043e+00],\n",
              "       [-1.26145440e+00, -7.32593815e-01],\n",
              "       [-4.92784465e-01, -1.38576495e+00],\n",
              "       [-1.72110174e+00,  2.27648989e+00],\n",
              "       [-1.64014913e+00,  4.19768881e+00],\n",
              "       [-9.18329727e-01,  1.03814497e-01],\n",
              "       [ 1.59325840e+00, -2.44610865e+00],\n",
              "       [-6.18580701e-01, -2.49311923e-01],\n",
              "       [ 2.73915786e+00, -1.43290052e+00],\n",
              "       [-1.30528069e+00,  1.53942628e+00],\n",
              "       [-2.07896326e+00, -6.76244530e-01],\n",
              "       [ 1.09474671e+00, -1.91805508e+00],\n",
              "       [ 3.93149466e-01, -6.18865203e-01],\n",
              "       [-9.56761314e-01,  1.42107955e+00],\n",
              "       [-8.04449058e-01, -1.49822983e-02],\n",
              "       [-1.71224832e+00,  2.49893046e+00],\n",
              "       [-2.89589307e-01, -2.85422414e-01],\n",
              "       [-7.03740592e-01,  7.60801778e-02],\n",
              "       [ 4.46421508e-01, -1.51459545e+00],\n",
              "       [-4.53616194e-01, -9.69029966e-01],\n",
              "       [-2.02998163e+00, -6.32234928e-01],\n",
              "       [-2.46271969e+00, -2.36059067e-01],\n",
              "       [-1.06825689e+00, -1.11818595e+00],\n",
              "       [-1.04581563e+00,  3.50810823e-01],\n",
              "       [-2.67223411e+00,  1.39845296e-03],\n",
              "       [-1.01927411e+00,  2.74190792e+00],\n",
              "       [-1.17648392e+00, -1.12625680e+00],\n",
              "       [-4.93713592e-01, -1.09080725e+00],\n",
              "       [ 2.84674238e+00, -1.92972877e+00],\n",
              "       [ 8.32923871e-01, -1.84200605e+00],\n",
              "       [-1.69481013e+00,  1.99564978e+00],\n",
              "       [-4.64866686e-01,  9.10145432e-01],\n",
              "       [-1.38070354e+00, -8.37692389e-01],\n",
              "       [-1.15757476e+00,  1.05603588e+00],\n",
              "       [-1.84612808e+00, -7.12442723e-01],\n",
              "       [ 1.25368516e+00, -1.10511673e+00],\n",
              "       [-1.35110264e+00,  7.24378671e-01],\n",
              "       [ 1.68659267e+00, -9.45411310e-01],\n",
              "       [-4.10753299e-01, -1.08809880e+00],\n",
              "       [ 1.46607371e+00, -1.07337654e+00],\n",
              "       [-8.81665486e-01, -1.14262750e+00],\n",
              "       [-1.94726669e+00, -5.91170271e-01],\n",
              "       [-7.00423981e-01,  2.99703105e-01],\n",
              "       [ 1.35324630e+00, -8.28772396e-01],\n",
              "       [-1.22877997e+00, -8.72796988e-01],\n",
              "       [-2.50376374e+00, -2.12533846e-01],\n",
              "       [-4.71127900e-01, -2.44940894e-01],\n",
              "       [-1.65815977e+00,  2.47800976e+00],\n",
              "       [-9.03243475e-01,  1.24019731e+00],\n",
              "       [-3.38101771e-01, -1.53111848e+00],\n",
              "       [-9.51446459e-01,  8.25239953e-01],\n",
              "       [-1.04617997e+00, -9.26128224e-01],\n",
              "       [-1.24966757e-01, -1.58588541e+00],\n",
              "       [-1.04853674e+00,  1.88539311e+00],\n",
              "       [-1.28118065e+00,  1.15554648e+00],\n",
              "       [ 1.71089862e+00, -1.05959906e+00],\n",
              "       [-7.42098053e-01,  1.33528507e+00],\n",
              "       [-8.94029810e-02, -7.78952399e-01],\n",
              "       [-1.84838425e+00, -5.43169643e-01],\n",
              "       [-6.78730511e-01,  5.56852960e-01],\n",
              "       [ 8.81823222e-01, -1.41626915e+00],\n",
              "       [ 3.53847485e-01, -1.60147798e+00],\n",
              "       [-2.62363855e+00, -4.31898316e-01],\n",
              "       [-1.01023194e+00,  1.61167884e-01],\n",
              "       [-4.12051524e-02, -6.07935445e-01],\n",
              "       [-1.16496871e+00,  1.33141915e+00],\n",
              "       [ 5.42790330e-02, -1.67699654e+00],\n",
              "       [ 6.70310249e-02, -1.19346170e+00],\n",
              "       [ 8.84182126e-01, -2.12855667e+00],\n",
              "       [ 1.36549416e+00, -1.30018649e+00],\n",
              "       [-9.58221705e-01,  2.44245715e+00],\n",
              "       [ 8.99446137e-01, -1.01384211e+00],\n",
              "       [-7.93493186e-01,  7.38324229e-01],\n",
              "       [ 1.67351537e+00, -1.07894409e+00],\n",
              "       [-9.32684168e-02, -1.55836069e+00],\n",
              "       [ 9.41830422e-01, -1.68510718e+00],\n",
              "       [-1.94805460e-01, -1.60179586e+00],\n",
              "       [-7.07729689e-01, -8.31175059e-01],\n",
              "       [-7.11067256e-01, -1.14383684e+00],\n",
              "       [ 1.02861014e+00, -8.38544381e-01],\n",
              "       [-3.24762579e-02, -2.75812169e-01],\n",
              "       [-9.78680379e-01,  7.39080470e-01],\n",
              "       [-4.62418279e-01,  8.78013406e-01],\n",
              "       [-3.22281809e+00,  5.68881072e-02],\n",
              "       [ 9.45612945e-01, -1.33499898e+00],\n",
              "       [-1.06641502e+00,  1.13882970e+00],\n",
              "       [ 1.54440839e-01, -1.52169847e+00],\n",
              "       [ 2.53989488e+00, -9.57006511e-01],\n",
              "       [-1.77837165e+00, -5.62899748e-01],\n",
              "       [-2.17833512e+00, -5.68542406e-01],\n",
              "       [ 5.49859403e-02, -6.72031980e-01],\n",
              "       [-4.83875569e-01, -1.05549346e+00],\n",
              "       [ 1.42847193e+00, -9.64692488e-01],\n",
              "       [-8.31435951e-01, -3.30778730e-01],\n",
              "       [-1.66225768e+00, -7.14235722e-01],\n",
              "       [-1.58985284e+00, -6.59764167e-01],\n",
              "       [ 1.34901623e+00, -1.20461854e+00],\n",
              "       [-3.02031593e-01,  4.10432471e-01],\n",
              "       [-9.36810851e-02, -1.00686056e+00],\n",
              "       [ 2.08867075e+00, -7.30191309e-01],\n",
              "       [-3.22347304e-01, -8.65152434e-01],\n",
              "       [-8.15163421e-01, -9.06521189e-01],\n",
              "       [-2.38122382e+00, -3.04281945e-01],\n",
              "       [-1.35922082e+00,  2.38693069e+00],\n",
              "       [-1.43721437e+00,  1.92148916e+00],\n",
              "       [-7.60461664e-01, -1.20423092e+00],\n",
              "       [ 4.44542419e-01, -8.52364896e-01],\n",
              "       [-4.16254869e-01, -2.20662874e-01],\n",
              "       [-1.12449210e+00, -1.16578324e+00],\n",
              "       [-8.46662743e-01, -1.11786701e+00],\n",
              "       [ 9.78593197e-01, -1.72406741e+00],\n",
              "       [ 7.68616126e-01, -1.30777334e+00],\n",
              "       [-1.24174356e+00,  1.67890354e+00],\n",
              "       [-1.99381653e+00, -8.16963885e-01],\n",
              "       [-1.15502974e+00,  1.17256944e+00],\n",
              "       [-1.42334139e-01, -9.45345690e-01],\n",
              "       [-2.38589327e+00, -3.39617441e-01],\n",
              "       [-1.63211606e+00,  2.37858558e+00],\n",
              "       [-1.40573722e+00,  1.62974496e+00],\n",
              "       [ 7.00557560e-01, -9.46899249e-01],\n",
              "       [ 1.95512067e+00, -1.19208428e+00],\n",
              "       [-1.33378948e+00,  1.23398398e+00],\n",
              "       [-1.36142394e+00, -7.49036003e-01],\n",
              "       [-1.46512783e+00,  2.73873408e+00],\n",
              "       [-9.49674546e-01, -9.22799933e-01],\n",
              "       [-1.42320412e+00,  1.12532979e+00],\n",
              "       [ 1.91628995e+00, -1.31417515e+00],\n",
              "       [ 1.79650332e+00, -1.28025015e+00],\n",
              "       [-1.05112446e+00,  9.83048584e-01],\n",
              "       [-9.76301418e-01,  1.46024396e+00],\n",
              "       [-3.28030540e-01, -9.17147942e-01],\n",
              "       [-1.53215579e+00, -7.53793346e-01],\n",
              "       [ 1.32513154e-01, -9.70207557e-01],\n",
              "       [-9.11982675e-01,  3.85007519e-01],\n",
              "       [-1.10765572e+00,  1.41875193e-01],\n",
              "       [-1.50119343e+00,  2.38859621e+00],\n",
              "       [ 1.60092136e+00, -5.68493606e-01],\n",
              "       [-1.35398138e+00,  1.40376207e+00],\n",
              "       [ 4.76373184e-01, -1.39720167e+00],\n",
              "       [ 8.97981036e-03, -1.25590021e+00],\n",
              "       [ 9.00212495e-01, -1.06892493e+00],\n",
              "       [ 1.11674305e+00, -5.99091720e-01],\n",
              "       [ 4.09699569e-01, -1.78793428e+00],\n",
              "       [ 8.56787765e-01, -1.53578283e+00],\n",
              "       [-1.04382880e+00, -8.51971482e-01],\n",
              "       [ 7.52173995e-01, -1.20072190e+00],\n",
              "       [ 1.84202978e+00, -9.33659296e-01],\n",
              "       [-3.12056837e-01, -1.97631795e-01],\n",
              "       [ 1.37722927e+00, -1.03174445e+00],\n",
              "       [ 1.14043260e+00, -1.10664714e+00],\n",
              "       [-1.07707867e+00,  6.87950119e-01],\n",
              "       [-4.72379950e-01, -7.23281981e-01],\n",
              "       [ 6.76248016e-01, -1.13693781e+00],\n",
              "       [-1.01779455e+00,  1.11119871e+00],\n",
              "       [ 2.13703130e-01, -9.98602201e-01],\n",
              "       [ 1.55176174e-01, -1.63544883e+00],\n",
              "       [ 5.80243459e-01, -4.16008186e-01],\n",
              "       [-9.80553749e-01,  1.08376321e+00],\n",
              "       [-4.56453301e-01,  2.17182554e-02],\n",
              "       [-6.27030365e-01,  5.68023009e-02],\n",
              "       [ 7.42672658e-01, -6.56835756e-01],\n",
              "       [-1.01808414e+00,  6.04192733e-01],\n",
              "       [-7.46083288e-01,  1.08883668e+00],\n",
              "       [-1.31547879e+00,  7.69116778e-01],\n",
              "       [ 1.14767563e+00, -1.08427211e+00],\n",
              "       [-4.86081479e-01, -1.77766499e+00],\n",
              "       [ 1.17418503e+00, -1.28719008e+00],\n",
              "       [-7.90177852e-01,  8.73037704e-01],\n",
              "       [ 1.24151003e+00, -1.27930061e+00],\n",
              "       [-1.22455851e+00, -8.74510362e-01],\n",
              "       [-1.98137718e+00, -6.37956905e-01],\n",
              "       [-1.02607909e+00,  5.15784089e-01],\n",
              "       [-4.21091900e-02, -4.30230747e-01],\n",
              "       [ 2.08061451e+00, -1.71744663e+00],\n",
              "       [-1.65904838e+00,  2.19464002e+00],\n",
              "       [-1.29914739e+00,  1.97579199e+00],\n",
              "       [ 1.51708900e+00, -1.22989811e+00],\n",
              "       [-9.34492248e-02, -1.16147875e+00],\n",
              "       [ 7.41449035e-01, -7.67044035e-01],\n",
              "       [-7.44144546e-02, -1.51986499e+00],\n",
              "       [ 6.93639719e-01, -1.67285304e+00],\n",
              "       [ 1.23315016e+00, -8.89307205e-01],\n",
              "       [ 1.05784476e+00, -1.31837967e+00],\n",
              "       [-5.23397621e-01, -1.15503883e+00],\n",
              "       [ 8.63332746e-01, -1.04354646e+00],\n",
              "       [ 2.26327702e+00, -9.49789827e-01],\n",
              "       [-4.67001242e-01, -5.07338523e-01],\n",
              "       [-1.11768324e+00,  1.21832521e+00],\n",
              "       [-2.37618745e+00, -2.23150359e-01],\n",
              "       [-1.01939406e+00,  7.61613460e-01],\n",
              "       [-1.51726348e-01, -5.07852329e-01],\n",
              "       [-1.47790416e+00,  2.44952095e+00],\n",
              "       [-1.18154709e+00,  1.27250101e+00],\n",
              "       [ 2.46785865e+00, -1.11922266e+00],\n",
              "       [-2.85701870e-01, -1.27732504e+00],\n",
              "       [-2.23404367e-01, -1.44521713e+00],\n",
              "       [-3.61550417e-01, -2.91541036e-01],\n",
              "       [ 1.81239521e-01, -1.46095689e+00],\n",
              "       [-1.13079351e+00, -8.77771014e-01],\n",
              "       [-4.42343916e-03, -9.92547925e-01],\n",
              "       [ 1.49959143e+00, -1.34857586e+00],\n",
              "       [-1.48728617e+00,  2.79986723e+00],\n",
              "       [-1.30166333e+00,  1.63406641e+00],\n",
              "       [ 5.53888037e-01, -1.13485143e+00],\n",
              "       [ 6.08732603e-01, -1.90410091e+00],\n",
              "       [ 2.54817164e+00, -1.27722753e+00],\n",
              "       [-6.37665998e-01,  1.84259050e-01],\n",
              "       [-5.79146103e-01, -1.32450286e+00],\n",
              "       [-1.27069915e+00, -1.05913301e+00],\n",
              "       [-1.25685899e+00,  2.15086679e+00],\n",
              "       [-1.02743918e+00,  3.65427633e-01],\n",
              "       [-5.10789094e-01, -1.00924423e+00],\n",
              "       [-2.74746053e-01,  3.31083306e-01],\n",
              "       [-1.47506200e+00,  2.08824900e+00],\n",
              "       [ 8.50421587e-01, -1.20483743e+00],\n",
              "       [-1.08728396e+00,  8.02919299e-01],\n",
              "       [ 1.67971861e+00, -1.34419205e+00],\n",
              "       [-4.75324452e-01, -2.56474460e-01],\n",
              "       [-1.50933629e+00, -9.05325722e-01],\n",
              "       [-1.19609658e+00,  1.08813220e+00],\n",
              "       [ 2.67561433e+00, -1.36405486e+00],\n",
              "       [ 5.25530436e-01, -1.11868955e+00],\n",
              "       [-1.45045660e+00,  1.45889935e+00],\n",
              "       [-1.41691820e+00,  1.56335757e+00],\n",
              "       [-1.83474775e+00, -6.04426450e-01],\n",
              "       [ 7.49141797e-01, -1.53031997e+00],\n",
              "       [-7.06697494e-01, -9.14855168e-01],\n",
              "       [ 1.89788713e+00, -1.07771285e+00],\n",
              "       [ 1.56590465e+00, -8.03223572e-01],\n",
              "       [ 5.65253230e-01, -1.22123431e+00],\n",
              "       [-7.70661231e-01,  3.16714241e-01],\n",
              "       [ 2.55470358e+00, -1.34043237e+00],\n",
              "       [ 2.76722704e-01, -4.03022042e-01],\n",
              "       [-3.17236193e+00,  1.24464541e-01],\n",
              "       [-1.68345474e+00, -6.69204323e-01],\n",
              "       [-1.56884194e+00,  2.65646701e+00],\n",
              "       [-1.05752804e+00,  7.62113901e-01],\n",
              "       [ 9.98799998e-01, -9.35976729e-01],\n",
              "       [-1.09968697e+00,  1.33658648e+00],\n",
              "       [-1.23819002e+00,  2.21530029e+00],\n",
              "       [ 6.49675606e-01, -7.76636467e-01],\n",
              "       [ 9.54088513e-01, -1.00312691e+00],\n",
              "       [-1.00143655e+00,  8.97080346e-01],\n",
              "       [-1.57911556e+00,  8.04760100e-01],\n",
              "       [ 1.51372141e+00, -5.64908986e-01],\n",
              "       [-1.16254388e+00,  1.25702989e+00],\n",
              "       [ 1.60185162e-01, -1.09280934e+00],\n",
              "       [ 8.87852265e-01, -1.87117937e+00],\n",
              "       [-1.85608194e+00, -6.47434207e-01],\n",
              "       [-1.04104899e+00,  2.26543169e+00],\n",
              "       [ 1.43858727e+00, -1.76384204e+00],\n",
              "       [-2.20852727e+00, -3.63373333e-01],\n",
              "       [-1.88189045e+00,  3.52820693e+00],\n",
              "       [ 9.67775720e-02, -7.06322275e-01],\n",
              "       [-1.38623454e+00,  2.06028971e+00],\n",
              "       [-5.74240467e-01, -1.18332143e+00],\n",
              "       [-2.63812520e-01, -8.27567809e-01],\n",
              "       [-1.43500727e+00, -1.10808295e+00],\n",
              "       [-2.48440616e+00, -4.49218387e-01],\n",
              "       [ 7.54940676e-01, -1.20778351e+00],\n",
              "       [ 2.69635658e+00, -1.66279542e+00],\n",
              "       [-2.71139852e+00, -3.88880427e-01],\n",
              "       [-1.08874594e+00,  8.18370238e-01],\n",
              "       [-1.21519696e+00, -1.29269294e+00],\n",
              "       [ 7.98151085e-01, -8.59968911e-01],\n",
              "       [ 4.46814787e-01, -1.54089659e+00],\n",
              "       [ 9.16562890e-02, -1.17230872e+00],\n",
              "       [-1.95694351e+00, -4.02917188e-01],\n",
              "       [-7.95456945e-02, -1.33012387e+00],\n",
              "       [ 1.88377704e+00, -1.63139060e+00],\n",
              "       [-9.17804646e-01,  1.29298603e+00],\n",
              "       [ 2.03208694e+00, -1.24478710e+00],\n",
              "       [-2.03661188e+00, -5.98102548e-01],\n",
              "       [ 1.64878371e+00, -5.48187303e-01],\n",
              "       [-6.28542139e-01,  3.31375624e-01],\n",
              "       [ 9.91821441e-01, -1.16141934e+00],\n",
              "       [-8.92182644e-01,  1.28544252e+00],\n",
              "       [-1.03808557e+00,  1.46329598e+00],\n",
              "       [ 2.28911931e+00, -1.07192647e+00],\n",
              "       [-1.73666106e+00, -8.23358763e-01],\n",
              "       [ 1.76790936e-01, -6.71038009e-01],\n",
              "       [ 1.14110255e+00, -7.16743506e-01],\n",
              "       [-1.26542553e+00,  1.81926722e+00],\n",
              "       [-6.44743791e-01, -2.18155084e-01],\n",
              "       [-6.95974545e-01,  1.61716581e+00],\n",
              "       [ 1.17153129e+00, -9.34477331e-01],\n",
              "       [ 1.71475229e+00, -1.11267305e+00],\n",
              "       [-3.15184094e+00,  1.42514068e-01],\n",
              "       [ 1.55270240e+00, -1.33425436e+00],\n",
              "       [-8.52780481e-01,  9.58484361e-01],\n",
              "       [ 2.00033397e+00, -1.80746159e+00],\n",
              "       [-6.24248596e-01, -9.68276095e-01],\n",
              "       [ 1.32115718e-01, -4.61545953e-01],\n",
              "       [-1.31129539e+00, -1.06122950e+00],\n",
              "       [ 1.14547774e-01, -1.80125695e+00],\n",
              "       [ 1.69233951e+00, -1.45048536e+00],\n",
              "       [-6.30409513e-02, -7.81615575e-01],\n",
              "       [-1.17468268e+00,  1.60320088e+00],\n",
              "       [ 2.09732397e-01, -1.52387540e+00],\n",
              "       [-1.05886752e+00,  2.41561447e+00],\n",
              "       [-1.16335815e+00,  1.49285317e+00],\n",
              "       [-8.17391643e-01, -2.43980914e-01],\n",
              "       [-6.76729038e-01, -2.41559440e-01],\n",
              "       [-1.18370844e+00, -9.13650688e-01],\n",
              "       [ 2.84301908e+00, -1.39061487e+00],\n",
              "       [-1.78986517e+00, -3.09894339e-01],\n",
              "       [-1.31146378e+00,  2.79694843e+00],\n",
              "       [-1.17303492e+00,  1.68818618e+00],\n",
              "       [-3.08887171e+00, -1.63288215e-01],\n",
              "       [ 1.14782450e+00, -1.18149689e+00],\n",
              "       [-1.17713778e+00,  1.01106882e+00],\n",
              "       [ 2.87128647e+00, -1.00792590e+00],\n",
              "       [-8.15258989e-01, -1.01755488e+00],\n",
              "       [-7.88556216e-01, -1.15365260e+00],\n",
              "       [-1.03584338e+00,  1.74882938e+00],\n",
              "       [-7.67562423e-01,  8.34220244e-01],\n",
              "       [-1.22004338e+00, -1.07877880e+00],\n",
              "       [-1.73523507e+00,  1.88724649e+00],\n",
              "       [ 2.98968498e-01, -9.98252451e-01],\n",
              "       [-1.12904910e+00,  2.22723652e+00],\n",
              "       [ 1.65304243e+00, -1.26248848e+00],\n",
              "       [-8.42159147e-01, -8.38599905e-01],\n",
              "       [ 7.29663750e-01, -7.57080256e-01],\n",
              "       [ 1.17051188e+00, -1.45049572e+00],\n",
              "       [ 6.68922874e-01, -7.78733518e-01],\n",
              "       [ 2.49305289e+00, -1.79312738e+00],\n",
              "       [-1.60731302e+00,  1.21219504e+00],\n",
              "       [ 8.22525784e-01, -2.16578392e+00],\n",
              "       [ 1.74702597e+00, -1.32397278e+00],\n",
              "       [ 3.74755024e-01, -1.43697758e+00],\n",
              "       [-1.56795420e+00,  2.96249538e+00],\n",
              "       [-9.69837523e-01, -9.71058002e-01],\n",
              "       [-3.53992666e-01, -1.28763998e+00],\n",
              "       [-1.49100250e+00, -7.10279589e-01],\n",
              "       [-2.46721946e+00, -4.46143669e-01],\n",
              "       [ 9.91152069e-01, -1.14247297e+00],\n",
              "       [-1.32783330e+00,  6.30768436e-01],\n",
              "       [-7.94002315e-01, -8.72152750e-01],\n",
              "       [-1.92773916e+00, -4.18085552e-01],\n",
              "       [-1.21078992e+00,  1.20576263e+00],\n",
              "       [-1.46495264e+00,  2.14289753e+00],\n",
              "       [-1.37269363e+00,  1.69941982e+00],\n",
              "       [-1.09795942e+00,  1.14822595e+00],\n",
              "       [-8.21026555e-01, -9.50897796e-01],\n",
              "       [-8.66419903e-01,  1.32919126e-01],\n",
              "       [-1.07644081e+00, -9.92950886e-01],\n",
              "       [-1.69886260e+00, -6.94673409e-01],\n",
              "       [-7.53631637e-01, -1.13881933e+00],\n",
              "       [ 4.55467845e-01, -1.28104812e+00],\n",
              "       [-1.24189749e+00, -1.02804758e+00],\n",
              "       [ 8.42635795e-01, -1.30817140e+00],\n",
              "       [-1.46350675e+00, -6.64686756e-01],\n",
              "       [-5.06122615e-01,  2.98016719e-02],\n",
              "       [ 2.64554219e-02, -1.42056997e+00],\n",
              "       [-5.92364690e-01, -5.52071289e-01],\n",
              "       [ 1.48700076e+00, -1.63926178e+00],\n",
              "       [-1.97032179e+00, -5.67298171e-01],\n",
              "       [ 2.04169677e+00, -1.10814546e+00],\n",
              "       [-2.10726970e+00, -6.08216964e-01],\n",
              "       [ 1.76400920e+00, -9.35728364e-01],\n",
              "       [-1.81352439e+00, -7.82493534e-01],\n",
              "       [ 1.64950734e+00, -1.13670300e+00],\n",
              "       [-1.07411103e+00, -9.20799011e-01],\n",
              "       [-7.99440258e-02, -1.12533099e+00],\n",
              "       [-7.92639104e-01, -3.89032133e-01],\n",
              "       [-1.12182290e+00,  6.91274159e-01],\n",
              "       [-2.39572005e+00, -3.29214965e-01],\n",
              "       [-7.95670515e-01, -4.82008574e-01],\n",
              "       [ 8.72684714e-01, -8.48477184e-01],\n",
              "       [ 1.12006198e+00, -1.18945832e+00],\n",
              "       [-7.65837254e-01,  4.76391144e-01],\n",
              "       [-8.69865262e-01,  3.55296823e-01],\n",
              "       [ 7.66019183e-01, -7.44221735e-01],\n",
              "       [ 5.48015709e-01, -7.19279945e-01],\n",
              "       [-1.61998912e+00, -8.87338334e-01],\n",
              "       [-5.03656827e-01,  1.66280164e-02],\n",
              "       [ 9.06296648e-01, -1.29111630e+00],\n",
              "       [-1.60917336e+00, -5.62991049e-01],\n",
              "       [-5.32319858e-01, -8.20498446e-01],\n",
              "       [ 8.73915239e-01, -1.94979485e+00],\n",
              "       [-1.29050675e-01, -1.39261480e+00],\n",
              "       [-5.40836699e-01, -1.40406828e+00],\n",
              "       [-1.62738727e+00,  2.40673470e+00],\n",
              "       [-1.32884269e+00,  8.11875612e-01],\n",
              "       [ 6.53675817e-01, -1.99738490e+00],\n",
              "       [-4.33990758e-02, -1.01994680e+00],\n",
              "       [-5.70820436e-01, -7.64312641e-01],\n",
              "       [-9.88904247e-01, -1.07234545e+00],\n",
              "       [-3.09630469e-01, -9.89863871e-01],\n",
              "       [-5.17659802e-01, -1.48828815e+00],\n",
              "       [ 6.66461385e-01, -1.01689983e+00],\n",
              "       [ 1.93072925e+00, -1.00315415e+00],\n",
              "       [ 6.30466751e-01, -1.57936200e+00],\n",
              "       [ 2.52741356e-01, -7.87886731e-01],\n",
              "       [ 9.94098334e-01, -2.38759469e+00],\n",
              "       [-8.59353697e-01,  3.20890906e-01],\n",
              "       [ 1.45748199e+00, -1.18179547e+00],\n",
              "       [-1.40097188e+00,  2.17804073e+00],\n",
              "       [-1.14092561e+00, -1.00319095e+00],\n",
              "       [-1.82367489e+00, -7.48881463e-01],\n",
              "       [-2.31600546e+00, -3.72525672e-01],\n",
              "       [ 9.20556681e-01, -8.87577993e-01],\n",
              "       [-1.41003681e+00,  1.95427213e+00],\n",
              "       [-1.38765417e+00,  1.75466482e+00],\n",
              "       [-9.51369757e-01,  4.04881212e-01],\n",
              "       [-9.64070845e-01, -1.46333285e+00],\n",
              "       [-3.66334499e-01, -1.71710431e+00],\n",
              "       [-2.27201291e-01, -9.72573155e-01],\n",
              "       [-5.43646323e-01,  1.01319473e-01],\n",
              "       [-1.07381361e+00,  1.98140563e+00],\n",
              "       [-1.11803351e+00,  9.39880434e-02],\n",
              "       [-1.99765898e+00, -4.21076277e-01],\n",
              "       [-6.08706480e-01, -2.14100348e-01],\n",
              "       [ 1.07592379e-01, -5.05993389e-01],\n",
              "       [ 9.22472482e-01, -1.01774222e+00],\n",
              "       [-1.02172285e+00,  6.93898666e-01],\n",
              "       [-1.26457629e+00,  2.03090212e+00],\n",
              "       [-1.00064309e+00, -1.06780385e+00],\n",
              "       [ 2.49702746e+00, -1.12900542e+00],\n",
              "       [-8.41312497e-01, -8.79109673e-01],\n",
              "       [-1.01739473e+00,  1.19145412e+00],\n",
              "       [-1.44453220e+00, -6.16296860e-01],\n",
              "       [ 5.99196509e-01, -6.88648515e-01],\n",
              "       [-8.03681868e-01,  4.23770524e-01],\n",
              "       [-2.95753255e+00, -1.39564990e-01],\n",
              "       [ 1.51662237e-02, -1.76526195e+00],\n",
              "       [ 3.02023069e-01, -1.59349553e+00],\n",
              "       [ 1.73333891e-02, -9.03355079e-01],\n",
              "       [-5.31035378e-01, -1.21594316e+00],\n",
              "       [-1.00250233e+00,  2.00002119e+00],\n",
              "       [-1.37421020e+00, -7.54068681e-01],\n",
              "       [-7.00380169e-01,  4.61880405e-02],\n",
              "       [ 7.79288132e-02, -9.24050412e-01],\n",
              "       [ 1.52058688e+00, -1.03024663e+00],\n",
              "       [-9.68985423e-01,  4.99286953e-01],\n",
              "       [-1.39876852e+00,  2.33320825e+00],\n",
              "       [ 1.29635639e+00, -1.16991513e+00],\n",
              "       [-1.68644979e+00,  2.16469324e+00],\n",
              "       [ 1.36396641e+00, -1.42428773e+00],\n",
              "       [-1.76489378e+00,  1.90790485e+00],\n",
              "       [ 4.06632118e-01, -8.53240136e-01],\n",
              "       [ 2.18620366e+00, -6.81817888e-01],\n",
              "       [-3.33327237e-01, -1.32277750e+00],\n",
              "       [ 1.64009819e+00, -1.16034926e+00],\n",
              "       [-9.50647584e-01,  1.52494686e+00],\n",
              "       [-2.47811989e+00, -2.26134933e-01],\n",
              "       [-1.38559400e+00, -4.70206504e-01],\n",
              "       [-1.56698854e+00, -8.92763357e-01],\n",
              "       [-1.91326177e+00, -6.21750000e-01],\n",
              "       [-8.50913794e-01, -5.03451952e-01],\n",
              "       [ 5.40192397e-02, -1.24174541e-01],\n",
              "       [ 9.51259000e-01, -8.52790721e-01],\n",
              "       [-1.28146208e+00, -9.40087961e-01],\n",
              "       [-8.14026029e-01,  6.46939882e-01],\n",
              "       [-1.39576444e+00, -9.67782553e-01],\n",
              "       [ 1.26647817e+00, -6.99243314e-01],\n",
              "       [-1.92719701e+00, -4.86581266e-01],\n",
              "       [ 1.63042725e+00, -1.31685563e+00]])"
            ]
          },
          "metadata": {},
          "execution_count": 29
        }
      ]
    },
    {
      "cell_type": "code",
      "source": [
        "_, ax = plt.subplots()\n",
        "DecisionBoundaryDisplay.from_estimator(model, X, response_method=\"predict\", cmap=plt.cm.Paired, ax=ax)\n",
        "plt.title(\"Decision surface of LogisticRegression\")\n",
        "plt.axis(\"tight\")\n",
        "\n",
        "# Plot also the training points\n",
        "colors = \"bry\"\n",
        "for i, color in zip(model.classes_, colors):\n",
        "        idx = np.where(y == i)\n",
        "        plt.scatter(\n",
        "            X[idx, 0], X[idx, 1], c=color, cmap=plt.cm.Paired, edgecolor=\"black\", s=20\n",
        "        )\n",
        "\n",
        "\n",
        "# Plot the three one-against-all classifiers\n",
        "xmin, xmax = plt.xlim()\n",
        "ymin, ymax = plt.ylim()\n",
        "coef = model.coef_\n",
        "intercept = model.intercept_\n",
        "\n",
        "def plot_hyperplane(c, color):\n",
        "        def line(x0):\n",
        "            return (-(x0 * coef[c, 0]) - intercept[c]) / coef[c, 1]\n",
        "\n",
        "        plt.plot([xmin, xmax], [line(xmin), line(xmax)], ls=\"--\", color=color)\n",
        "\n",
        "for i, color in zip(model.classes_, colors):\n",
        "        plot_hyperplane(i, color)\n",
        "\n",
        "plt.show()"
      ],
      "metadata": {
        "colab": {
          "base_uri": "https://localhost:8080/",
          "height": 488
        },
        "id": "bMzyjx2bb3_L",
        "outputId": "cd7ef196-5560-47d5-b7c2-a1e01e81e2ac"
      },
      "execution_count": null,
      "outputs": [
        {
          "output_type": "stream",
          "name": "stderr",
          "text": [
            "<ipython-input-28-aa3a84c38b50>:10: UserWarning: No data for colormapping provided via 'c'. Parameters 'cmap' will be ignored\n",
            "  plt.scatter(\n"
          ]
        },
        {
          "output_type": "display_data",
          "data": {
            "text/plain": [
              "<Figure size 640x480 with 1 Axes>"
            ],
            "image/png": "[encoded data removed]"
          },
          "metadata": {}
        }
      ]
    },
    {
      "cell_type": "markdown",
      "source": [
        "**Observe**\n",
        "\n",
        "We can see how One-vs-Rest Logistic Regression is able to classify Multi-class Classification data"
      ],
      "metadata": {
        "id": "OfcbDZYNd9UF"
      }
    }
  ]
}