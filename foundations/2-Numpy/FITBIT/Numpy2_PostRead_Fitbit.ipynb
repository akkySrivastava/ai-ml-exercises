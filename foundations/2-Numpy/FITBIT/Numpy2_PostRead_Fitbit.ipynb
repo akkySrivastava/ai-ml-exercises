{
 "cells": [
  {
   "cell_type": "markdown",
   "metadata": {
    "id": "hpJSfCDaUS8Y"
   },
   "source": [
    "## Content\n",
    "\n",
    "- **Creating special arrays**\n",
    "    - `zeros()`\n",
    "    - `ones()`\n",
    "    - `diag()`\n",
    "    - `identity()`\n",
    "\n",
    "- **Numpy based Mathematical functions**\n",
    "\n",
    "    - **Absolute values**\n",
    "        - `np.absolute()`\n",
    "        - `np.abs()`\n",
    "\n",
    "    - **Trigonometric Functions**\n",
    "        - `np.sin()`, `np.cos()`\n",
    "        \n",
    "    - **Exponential and Logarithmic Functions**\n",
    "        - `np.exp()`, `np.log()`, `np.log2()`, `np.log10()`\n"
   ]
  },
  {
   "cell_type": "code",
   "execution_count": null,
   "metadata": {
    "id": "wWIAjMEIUS8Z"
   },
   "outputs": [],
   "source": [
    "import numpy as np"
   ]
  },
  {
   "cell_type": "markdown",
   "metadata": {
    "id": "8UDFawqeUS8y"
   },
   "source": [
    "***"
   ]
  },
  {
   "cell_type": "markdown",
   "metadata": {
    "id": "KMCUUD-O1t02"
   },
   "source": [
    "## Creating special arrays using Numpy\n",
    "\n",
    "#### How will create numpy array with all zeros?"
   ]
  },
  {
   "cell_type": "code",
   "execution_count": null,
   "metadata": {
    "colab": {
     "base_uri": "https://localhost:8080/"
    },
    "id": "V6yNremC1t03",
    "outputId": "703af89e-6d14-4d51-abbd-7e3bcec8374b"
   },
   "outputs": [
    {
     "data": {
      "text/plain": [
       "array([0., 0., 0.])"
      ]
     },
     "execution_count": 11,
     "metadata": {},
     "output_type": "execute_result"
    }
   ],
   "source": [
    "np.zeros(3)\n",
    "# Pass in how many values you need in array\n",
    "# All values will be zeroes"
   ]
  },
  {
   "cell_type": "markdown",
   "metadata": {
    "id": "p5_LUg8u1t03"
   },
   "source": [
    "- We can also **pass in shape** (as tuple) in case we want to create 2D array\n"
   ]
  },
  {
   "cell_type": "code",
   "execution_count": null,
   "metadata": {
    "colab": {
     "base_uri": "https://localhost:8080/"
    },
    "id": "wGbZB9TM1t04",
    "outputId": "0f8e636a-3250-4ce3-da6d-9e3870ff6451"
   },
   "outputs": [
    {
     "data": {
      "text/plain": [
       "array([[0., 0., 0.],\n",
       "       [0., 0., 0.]])"
      ]
     },
     "execution_count": 12,
     "metadata": {},
     "output_type": "execute_result"
    }
   ],
   "source": [
    "np.zeros((2, 3))"
   ]
  },
  {
   "cell_type": "markdown",
   "metadata": {
    "id": "OJH3CmUF1t04"
   },
   "source": [
    "#### How will you create numpy array with all ones?"
   ]
  },
  {
   "cell_type": "code",
   "execution_count": null,
   "metadata": {
    "colab": {
     "base_uri": "https://localhost:8080/"
    },
    "id": "jx0IoI1o1t04",
    "outputId": "4fd175a6-769c-4dcf-c0f3-f3981d44ddf0"
   },
   "outputs": [
    {
     "data": {
      "text/plain": [
       "array([1., 1., 1.])"
      ]
     },
     "execution_count": 13,
     "metadata": {},
     "output_type": "execute_result"
    }
   ],
   "source": [
    "# Just like np.zeroes, but initialize all values to 1\n",
    "np.ones(3)"
   ]
  },
  {
   "cell_type": "code",
   "execution_count": null,
   "metadata": {
    "colab": {
     "base_uri": "https://localhost:8080/"
    },
    "id": "A58p2cqd1t05",
    "outputId": "c67dfec5-28f6-4b2b-8b03-21eaa32e9914"
   },
   "outputs": [
    {
     "data": {
      "text/plain": [
       "array([[1., 1., 1.],\n",
       "       [1., 1., 1.]])"
      ]
     },
     "execution_count": 14,
     "metadata": {},
     "output_type": "execute_result"
    }
   ],
   "source": [
    "# 2D\n",
    "np.ones((2,3))"
   ]
  },
  {
   "cell_type": "markdown",
   "metadata": {
    "id": "V5ZKe1ZM1t05"
   },
   "source": [
    "#### Now, do we need `np.twos()`, `np.threes()`, `np.fours()`, .... `np.hundreds()`?\n",
    "\n",
    "- NO\n",
    "\n",
    "- We can just create array using `np.ones()` and multiply with required value"
   ]
  },
  {
   "cell_type": "code",
   "execution_count": null,
   "metadata": {
    "colab": {
     "base_uri": "https://localhost:8080/"
    },
    "id": "z0WIorAE1t06",
    "outputId": "ab6052f1-f233-49e4-f22d-80c0a930eb1f"
   },
   "outputs": [
    {
     "data": {
      "text/plain": [
       "array([[5., 5., 5.],\n",
       "       [5., 5., 5.]])"
      ]
     },
     "execution_count": 15,
     "metadata": {},
     "output_type": "execute_result"
    }
   ],
   "source": [
    "np.ones((2, 3)) * 5"
   ]
  },
  {
   "cell_type": "markdown",
   "metadata": {
    "id": "41Xs3yv7Zzuj"
   },
   "source": [
    "**Notice the datatype of arrays created using `.zeros()` and `.ones()` function**"
   ]
  },
  {
   "cell_type": "code",
   "execution_count": null,
   "metadata": {
    "colab": {
     "base_uri": "https://localhost:8080/"
    },
    "id": "72q0ZBblaCoW",
    "outputId": "397fed41-8e1e-4e17-f3ef-f11eb4c30f0c"
   },
   "outputs": [
    {
     "data": {
      "text/plain": [
       "array([[0., 0.],\n",
       "       [0., 0.]])"
      ]
     },
     "execution_count": 16,
     "metadata": {},
     "output_type": "execute_result"
    }
   ],
   "source": [
    "a = np.zeros((2,2))\n",
    "a"
   ]
  },
  {
   "cell_type": "code",
   "execution_count": null,
   "metadata": {
    "colab": {
     "base_uri": "https://localhost:8080/"
    },
    "id": "_go6eLMeaOZ-",
    "outputId": "8e82b45e-a9a2-4d53-99ee-74c300b27e3e"
   },
   "outputs": [
    {
     "data": {
      "text/plain": [
       "dtype('float64')"
      ]
     },
     "execution_count": 3,
     "metadata": {},
     "output_type": "execute_result"
    }
   ],
   "source": [
    "a.dtype"
   ]
  },
  {
   "cell_type": "markdown",
   "metadata": {
    "id": "PJmCilZnaQMN"
   },
   "source": [
    "**It by defaults creates array with dtype float**"
   ]
  },
  {
   "cell_type": "markdown",
   "metadata": {
    "id": "DeyexBXh1t06"
   },
   "source": [
    "#### One more frequently appearing arrays are diagional matrices"
   ]
  },
  {
   "cell_type": "code",
   "execution_count": null,
   "metadata": {
    "colab": {
     "base_uri": "https://localhost:8080/"
    },
    "id": "Wd5uiTgF1t07",
    "outputId": "a9f5742a-d439-413d-da3d-a396720095e3"
   },
   "outputs": [
    {
     "data": {
      "text/plain": [
       "array([[1, 0, 0],\n",
       "       [0, 2, 0],\n",
       "       [0, 0, 3]])"
      ]
     },
     "execution_count": 17,
     "metadata": {},
     "output_type": "execute_result"
    }
   ],
   "source": [
    "np.diag([1, 2, 3])\n",
    "# We pass values for diagonal elements as a list\n",
    "# All other elements are zero"
   ]
  },
  {
   "cell_type": "markdown",
   "metadata": {
    "id": "syD0oJON1t07"
   },
   "source": [
    "#### How will you create identity matrix?\n",
    "\n",
    "First of all, what are identity matrices\n",
    "\n",
    "- It's a **square matrix**\n",
    "- Where **all diagonal values are 1**\n",
    "- **All non-diagonal values are 0**"
   ]
  },
  {
   "cell_type": "code",
   "execution_count": null,
   "metadata": {
    "colab": {
     "base_uri": "https://localhost:8080/"
    },
    "id": "yAIqA7C21t08",
    "outputId": "39aeed38-57b6-4284-e791-362c50e3d12b"
   },
   "outputs": [
    {
     "data": {
      "text/plain": [
       "array([[1., 0., 0.],\n",
       "       [0., 1., 0.],\n",
       "       [0., 0., 1.]])"
      ]
     },
     "execution_count": 18,
     "metadata": {},
     "output_type": "execute_result"
    }
   ],
   "source": [
    "np.identity(3)\n",
    "# Pass in the single dimension of required square identity matrix "
   ]
  },
  {
   "cell_type": "markdown",
   "metadata": {
    "id": "x-nSit_Ow7hq"
   },
   "source": [
    "## Numpy Mathematical functions"
   ]
  },
  {
   "cell_type": "markdown",
   "metadata": {
    "id": "UUOYlXhsUS8z"
   },
   "source": [
    "### Absolute values\n",
    "\n",
    "At times, we might need to find absolute values of elements in array. Numpy provides a very easy-to-use function for this purpose\n",
    "\n"
   ]
  },
  {
   "cell_type": "markdown",
   "metadata": {
    "id": "v_jH-HLKxCfi"
   },
   "source": [
    "#### `np.absolute()`\n",
    "\n",
    "It calculate the absolute value element-wise. It returns an ndarray containing the absolute value of each element."
   ]
  },
  {
   "cell_type": "code",
   "execution_count": null,
   "metadata": {
    "id": "db5mLPqiUS8z",
    "outputId": "5652f2ce-689b-4158-9416-5a9e49ec3c19"
   },
   "outputs": [
    {
     "data": {
      "text/plain": [
       "array([1.2, 1.2])"
      ]
     },
     "execution_count": 3,
     "metadata": {},
     "output_type": "execute_result"
    }
   ],
   "source": [
    "x = np.array([-1.2, 1.2])\n",
    "np.absolute(x)"
   ]
  },
  {
   "cell_type": "markdown",
   "metadata": {
    "id": "dsmhVgoeUS80"
   },
   "source": [
    "If the input is a complex value, like `x = a + ib`, the absolute value is $\\sqrt(a^2 + b^2)$. This is a scalar if x is a scalar."
   ]
  },
  {
   "cell_type": "code",
   "execution_count": null,
   "metadata": {
    "id": "yLHjmTw-US80",
    "outputId": "469dff80-ae23-4900-b0de-e433865c7245"
   },
   "outputs": [
    {
     "data": {
      "text/plain": [
       "1.5620499351813308"
      ]
     },
     "execution_count": 4,
     "metadata": {},
     "output_type": "execute_result"
    }
   ],
   "source": [
    "np.absolute(1.2 + 1j)"
   ]
  },
  {
   "cell_type": "markdown",
   "metadata": {
    "id": "vhEW88duUS80"
   },
   "source": [
    "#### `np.abs()`\n",
    "The `abs` function can be used as a shorthand for `np.absolute` on ndarrays."
   ]
  },
  {
   "cell_type": "code",
   "execution_count": null,
   "metadata": {
    "id": "iPvbgqMWUS81",
    "outputId": "0db9278e-08e3-45eb-cf88-049ffbac3360"
   },
   "outputs": [
    {
     "data": {
      "text/plain": [
       "array([1.2, 1.2])"
      ]
     },
     "execution_count": 5,
     "metadata": {},
     "output_type": "execute_result"
    }
   ],
   "source": [
    "x = np.array([-1.2, 1.2])\n",
    "np.abs(x)"
   ]
  },
  {
   "cell_type": "markdown",
   "metadata": {
    "id": "GiAGPz5nUS87"
   },
   "source": [
    "***"
   ]
  },
  {
   "cell_type": "markdown",
   "metadata": {
    "id": "KiCDihj7US87"
   },
   "source": [
    "### Trigonometric Functions\n",
    "\n",
    "In addition to arithmetic expressions using operators, Numpy provides functions for element-wise evaluation of many elementary trigonometric functions and operations.\n",
    "\n",
    "\n",
    "Each of these functions takes a single array (of arbitrary dimension) as input and returns a new array of the same shape, where for each element the function has been applied to the corresponding element in the input array.\n",
    "\n",
    "### `np.sin()`, `np.cos()`\n",
    "\n",
    "This function takes only one argument and is used to compute the sine function for all values in the array:"
   ]
  },
  {
   "cell_type": "code",
   "execution_count": null,
   "metadata": {
    "id": "Dwo5cZvIUS87",
    "outputId": "7bd33e0a-1c6a-436c-b971-18e796650607"
   },
   "outputs": [
    {
     "data": {
      "text/plain": [
       "array([-1. , -0.8, -0.6, -0.4, -0.2,  0. ,  0.2,  0.4,  0.6,  0.8,  1. ])"
      ]
     },
     "execution_count": 24,
     "metadata": {},
     "output_type": "execute_result"
    }
   ],
   "source": [
    "x = np.linspace(-1, 1, 11)\n",
    "x"
   ]
  },
  {
   "cell_type": "code",
   "execution_count": null,
   "metadata": {
    "id": "3Kp0DM0aUS87"
   },
   "outputs": [],
   "source": [
    "y = np.sin(np.pi * x)"
   ]
  },
  {
   "cell_type": "code",
   "execution_count": null,
   "metadata": {
    "id": "EEyDgxxiUS88",
    "outputId": "301bee4d-7a7a-466d-e833-a47e2c145c5e"
   },
   "outputs": [
    {
     "data": {
      "text/plain": [
       "array([-0.    , -0.5878, -0.9511, -0.9511, -0.5878,  0.    ,  0.5878,\n",
       "        0.9511,  0.9511,  0.5878,  0.    ])"
      ]
     },
     "execution_count": 26,
     "metadata": {},
     "output_type": "execute_result"
    }
   ],
   "source": [
    "np.round(y, decimals=4)"
   ]
  },
  {
   "cell_type": "markdown",
   "metadata": {
    "id": "fEO3yC9FUS88"
   },
   "source": [
    "Here we also used the constant `np.pi` and the function `np.round()` to round the values of `y` to four decimals. \n",
    "\n",
    "\n",
    "Like the `np.sin` function, many of the elementary trigonometric math functions take one input array and produce one output array. We can also make these functions operate on two input arrays and return one array:\n",
    "\n",
    "#### For example: $\\sin^2x + \\cos^2x = 1$"
   ]
  },
  {
   "cell_type": "code",
   "execution_count": null,
   "metadata": {
    "id": "YjNF8pG6US88",
    "outputId": "035f1b4e-04ad-48bc-f8b7-deb68cf74d0c"
   },
   "outputs": [
    {
     "data": {
      "text/plain": [
       "array([1., 1., 1., 1., 1., 1., 1., 1., 1., 1., 1.])"
      ]
     },
     "execution_count": 27,
     "metadata": {},
     "output_type": "execute_result"
    }
   ],
   "source": [
    "np.add(np.sin(x) ** 2, np.cos(x) ** 2)"
   ]
  },
  {
   "cell_type": "code",
   "execution_count": null,
   "metadata": {
    "id": "g4vJCCLbUS88",
    "outputId": "e35903a4-d631-4569-cd7a-6e69f49a6789"
   },
   "outputs": [
    {
     "data": {
      "text/plain": [
       "array([1., 1., 1., 1., 1., 1., 1., 1., 1., 1., 1.])"
      ]
     },
     "execution_count": 28,
     "metadata": {},
     "output_type": "execute_result"
    }
   ],
   "source": [
    "np.sin(x) ** 2 + np.cos(x) ** 2"
   ]
  },
  {
   "cell_type": "markdown",
   "metadata": {
    "id": "Hl-OQKyeUS88"
   },
   "source": [
    "***"
   ]
  },
  {
   "cell_type": "markdown",
   "metadata": {
    "id": "68lkLsthUS89"
   },
   "source": [
    "### Exponential and Logarithmic Functions\n",
    "\n",
    "#### `np.exp()`\n",
    "\n",
    "This function returns element-wise exponent raised to power of element's value"
   ]
  },
  {
   "cell_type": "code",
   "execution_count": null,
   "metadata": {
    "id": "keoZapRaUS89",
    "outputId": "6b1bd02b-0d75-4496-ef40-75195f87833f"
   },
   "outputs": [
    {
     "data": {
      "text/plain": [
       "array([0, 1, 2])"
      ]
     },
     "execution_count": 33,
     "metadata": {},
     "output_type": "execute_result"
    }
   ],
   "source": [
    "x = np.arange(0,3) \n",
    "x"
   ]
  },
  {
   "cell_type": "code",
   "execution_count": null,
   "metadata": {
    "id": "Z19Sy6CNUS89",
    "outputId": "85ec3aea-e1c3-4510-f89f-0bc3dba45240"
   },
   "outputs": [
    {
     "data": {
      "text/plain": [
       "array([1.        , 2.71828183, 7.3890561 ])"
      ]
     },
     "execution_count": 34,
     "metadata": {},
     "output_type": "execute_result"
    }
   ],
   "source": [
    "np.exp(x) # returns e**0, e**1, e**2"
   ]
  },
  {
   "cell_type": "markdown",
   "metadata": {
    "id": "XPsVQFkdUS89"
   },
   "source": [
    "#### `np.log()`, `np.log2()`, `np.log10()`\n",
    "\n",
    "These functions return Logarithms of base e, 2, and 10, respectively."
   ]
  },
  {
   "cell_type": "code",
   "execution_count": null,
   "metadata": {
    "id": "kSBS_uITUS89",
    "outputId": "36f2fca8-2ce6-49d3-d708-9b92bbc429b3"
   },
   "outputs": [
    {
     "data": {
      "text/plain": [
       "array([ 1,  2,  3,  4,  5,  6,  7,  8,  9, 10])"
      ]
     },
     "execution_count": 43,
     "metadata": {},
     "output_type": "execute_result"
    }
   ],
   "source": [
    "x = np.arange(1,11) \n",
    "x"
   ]
  },
  {
   "cell_type": "code",
   "execution_count": null,
   "metadata": {
    "id": "wT9qJ2qZUS8-",
    "outputId": "aedd1736-40c0-448a-83c4-d46cbf3607b7"
   },
   "outputs": [
    {
     "data": {
      "text/plain": [
       "array([0.        , 0.69314718, 1.09861229, 1.38629436, 1.60943791,\n",
       "       1.79175947, 1.94591015, 2.07944154, 2.19722458, 2.30258509])"
      ]
     },
     "execution_count": 44,
     "metadata": {},
     "output_type": "execute_result"
    }
   ],
   "source": [
    "np.log(x)"
   ]
  },
  {
   "cell_type": "code",
   "execution_count": null,
   "metadata": {
    "id": "s7CgZxhsUS8-",
    "outputId": "3b82b7b1-2a9f-4c62-e71c-4a9bf48d1bc0"
   },
   "outputs": [
    {
     "data": {
      "text/plain": [
       "array([0.        , 0.30103   , 0.47712125, 0.60205999, 0.69897   ,\n",
       "       0.77815125, 0.84509804, 0.90308999, 0.95424251, 1.        ])"
      ]
     },
     "execution_count": 45,
     "metadata": {},
     "output_type": "execute_result"
    }
   ],
   "source": [
    "np.log10(x)"
   ]
  },
  {
   "cell_type": "markdown",
   "metadata": {
    "id": "DZjDtntTUS8-"
   },
   "source": [
    "***\n"
   ]
  }
 ],
 "metadata": {
  "colab": {
   "provenance": [],
   "toc_visible": true
  },
  "kernelspec": {
   "display_name": "Python 3 (ipykernel)",
   "language": "python",
   "name": "python3"
  },
  "language_info": {
   "codemirror_mode": {
    "name": "ipython",
    "version": 3
   },
   "file_extension": ".py",
   "mimetype": "text/x-python",
   "name": "python",
   "nbconvert_exporter": "python",
   "pygments_lexer": "ipython3",
   "version": "3.9.12"
  }
 },
 "nbformat": 4,
 "nbformat_minor": 1
}
