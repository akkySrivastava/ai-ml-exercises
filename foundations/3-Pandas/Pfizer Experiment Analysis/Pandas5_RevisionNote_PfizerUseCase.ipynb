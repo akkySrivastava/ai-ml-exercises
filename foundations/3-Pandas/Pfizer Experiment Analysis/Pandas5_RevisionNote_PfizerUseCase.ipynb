{
 "cells": [
  {
   "cell_type": "code",
   "execution_count": null,
   "metadata": {
    "id": "OXbtce6NKgd3"
   },
   "outputs": [],
   "source": []
  },
  {
   "cell_type": "markdown",
   "metadata": {
    "id": "0Odh4GImwrQv"
   },
   "source": [
    "### Outline\n",
    "  - **Restructuring data** \n",
    "    - pd.melt()\n",
    "    - pd.pivot()\n",
    "\n",
    "    - pd.pivot_table()\n",
    "    - pd.cut()\n",
    "  - Dealing with Missing Values\n",
    "    - None and nan values\n",
    "    - isna() and isnull()\n",
    "  - String method in pandas\n",
    "    \n",
    "  - Handling datetime \n",
    "\n",
    "  - **Writing to a file** "
   ]
  },
  {
   "cell_type": "markdown",
   "metadata": {
    "id": "jDGqdPCKwqyf"
   },
   "source": [
    "\n",
    "\n",
    "### Today's Agenda\n",
    "\n",
    "- Today, we'll continue looking at **Pandas** library\n",
    "\n",
    "- We'll cover **Restructuring Data using Pandas**\n",
    "\n",
    "- We'll also look at **handling missing values** and **understanding DateTime datatype**\n",
    "\n"
   ]
  },
  {
   "cell_type": "markdown",
   "metadata": {
    "id": "a16ce774"
   },
   "source": [
    "### Importing our data\n",
    "\n",
    "- For this topic we will be using **data of few drugs** being developed by **PFizer**\n",
    "\n",
    "\n",
    "Link: https://drive.google.com/file/d/173A59xh2mnpmljCCB9bhC4C5eP2IS6qZ/view?usp=sharing"
   ]
  },
  {
   "cell_type": "code",
   "execution_count": 5,
   "metadata": {
    "colab": {
     "base_uri": "https://localhost:8080/"
    },
    "id": "c_kVePCMDq52",
    "outputId": "d703a07c-551c-43ec-c602-ccb04b709049"
   },
   "outputs": [
    {
     "name": "stderr",
     "output_type": "stream",
     "text": [
      "'gdown' is not recognized as an internal or external command,\n",
      "operable program or batch file.\n"
     ]
    }
   ],
   "source": [
    "!gdown 173A59xh2mnpmljCCB9bhC4C5eP2IS6qZ"
   ]
  },
  {
   "cell_type": "markdown",
   "metadata": {
    "id": "l2pfBfm0JFDt"
   },
   "source": [
    "#### What is the data about?\n",
    "\n",
    "- Temperature (K)\n",
    "- Pressure (P)\n",
    "\n",
    "are recorded after an **interval of 1 hour** everyday to monitor the drug stability in a drug development test\n",
    "\n",
    "==> These data points are thus used to **identify the optimal set of values of parameters** for the stability of the drugs"
   ]
  },
  {
   "cell_type": "markdown",
   "metadata": {
    "id": "f4296ebf"
   },
   "source": [
    "#### Now, Let's explore this dataset\n"
   ]
  },
  {
   "cell_type": "code",
   "execution_count": 6,
   "metadata": {
    "id": "311ff12a"
   },
   "outputs": [],
   "source": [
    "import pandas as pd\n",
    "import numpy as np"
   ]
  },
  {
   "cell_type": "code",
   "execution_count": 7,
   "metadata": {
    "id": "20d9efcb"
   },
   "outputs": [],
   "source": [
    "data = pd.read_csv('Pfizer.csv')"
   ]
  },
  {
   "cell_type": "code",
   "execution_count": 8,
   "metadata": {
    "colab": {
     "base_uri": "https://localhost:8080/"
    },
    "id": "FfHppTBlGADe",
    "outputId": "046b4292-9304-4dc5-c181-8f882be0552d"
   },
   "outputs": [
    {
     "name": "stdout",
     "output_type": "stream",
     "text": [
      "<class 'pandas.core.frame.DataFrame'>\n",
      "RangeIndex: 18 entries, 0 to 17\n",
      "Data columns (total 15 columns):\n",
      " #   Column     Non-Null Count  Dtype  \n",
      "---  ------     --------------  -----  \n",
      " 0   Date       18 non-null     object \n",
      " 1   Drug_Name  18 non-null     object \n",
      " 2   Parameter  18 non-null     object \n",
      " 3   1:30:00    16 non-null     float64\n",
      " 4   2:30:00    16 non-null     float64\n",
      " 5   3:30:00    12 non-null     float64\n",
      " 6   4:30:00    14 non-null     float64\n",
      " 7   5:30:00    16 non-null     float64\n",
      " 8   6:30:00    18 non-null     int64  \n",
      " 9   7:30:00    16 non-null     float64\n",
      " 10  8:30:00    14 non-null     float64\n",
      " 11  9:30:00    16 non-null     float64\n",
      " 12  10:30:00   18 non-null     int64  \n",
      " 13  11:30:00   16 non-null     float64\n",
      " 14  12:30:00   18 non-null     int64  \n",
      "dtypes: float64(9), int64(3), object(3)\n",
      "memory usage: 2.2+ KB\n"
     ]
    }
   ],
   "source": [
    "data.info()"
   ]
  },
  {
   "cell_type": "code",
   "execution_count": 9,
   "metadata": {
    "colab": {
     "base_uri": "https://localhost:8080/",
     "height": 444
    },
    "id": "0824733c",
    "outputId": "1f6aea82-e39b-4b9c-aeee-4e5370202784"
   },
   "outputs": [
    {
     "data": {
      "text/html": [
       "<div>\n",
       "<style scoped>\n",
       "    .dataframe tbody tr th:only-of-type {\n",
       "        vertical-align: middle;\n",
       "    }\n",
       "\n",
       "    .dataframe tbody tr th {\n",
       "        vertical-align: top;\n",
       "    }\n",
       "\n",
       "    .dataframe thead th {\n",
       "        text-align: right;\n",
       "    }\n",
       "</style>\n",
       "<table border=\"1\" class=\"dataframe\">\n",
       "  <thead>\n",
       "    <tr style=\"text-align: right;\">\n",
       "      <th></th>\n",
       "      <th>Date</th>\n",
       "      <th>Drug_Name</th>\n",
       "      <th>Parameter</th>\n",
       "      <th>1:30:00</th>\n",
       "      <th>2:30:00</th>\n",
       "      <th>3:30:00</th>\n",
       "      <th>4:30:00</th>\n",
       "      <th>5:30:00</th>\n",
       "      <th>6:30:00</th>\n",
       "      <th>7:30:00</th>\n",
       "      <th>8:30:00</th>\n",
       "      <th>9:30:00</th>\n",
       "      <th>10:30:00</th>\n",
       "      <th>11:30:00</th>\n",
       "      <th>12:30:00</th>\n",
       "    </tr>\n",
       "  </thead>\n",
       "  <tbody>\n",
       "    <tr>\n",
       "      <th>0</th>\n",
       "      <td>15-10-2020</td>\n",
       "      <td>diltiazem hydrochloride</td>\n",
       "      <td>Temperature</td>\n",
       "      <td>23.0</td>\n",
       "      <td>22.0</td>\n",
       "      <td>NaN</td>\n",
       "      <td>21.0</td>\n",
       "      <td>21.0</td>\n",
       "      <td>22</td>\n",
       "      <td>23.0</td>\n",
       "      <td>21.0</td>\n",
       "      <td>22.0</td>\n",
       "      <td>20</td>\n",
       "      <td>20.0</td>\n",
       "      <td>21</td>\n",
       "    </tr>\n",
       "    <tr>\n",
       "      <th>1</th>\n",
       "      <td>15-10-2020</td>\n",
       "      <td>diltiazem hydrochloride</td>\n",
       "      <td>Pressure</td>\n",
       "      <td>12.0</td>\n",
       "      <td>13.0</td>\n",
       "      <td>NaN</td>\n",
       "      <td>11.0</td>\n",
       "      <td>13.0</td>\n",
       "      <td>14</td>\n",
       "      <td>16.0</td>\n",
       "      <td>16.0</td>\n",
       "      <td>24.0</td>\n",
       "      <td>18</td>\n",
       "      <td>19.0</td>\n",
       "      <td>20</td>\n",
       "    </tr>\n",
       "    <tr>\n",
       "      <th>2</th>\n",
       "      <td>15-10-2020</td>\n",
       "      <td>docetaxel injection</td>\n",
       "      <td>Temperature</td>\n",
       "      <td>NaN</td>\n",
       "      <td>17.0</td>\n",
       "      <td>18.0</td>\n",
       "      <td>NaN</td>\n",
       "      <td>17.0</td>\n",
       "      <td>18</td>\n",
       "      <td>NaN</td>\n",
       "      <td>NaN</td>\n",
       "      <td>23.0</td>\n",
       "      <td>23</td>\n",
       "      <td>25.0</td>\n",
       "      <td>25</td>\n",
       "    </tr>\n",
       "    <tr>\n",
       "      <th>3</th>\n",
       "      <td>15-10-2020</td>\n",
       "      <td>docetaxel injection</td>\n",
       "      <td>Pressure</td>\n",
       "      <td>NaN</td>\n",
       "      <td>22.0</td>\n",
       "      <td>22.0</td>\n",
       "      <td>NaN</td>\n",
       "      <td>22.0</td>\n",
       "      <td>23</td>\n",
       "      <td>NaN</td>\n",
       "      <td>NaN</td>\n",
       "      <td>27.0</td>\n",
       "      <td>26</td>\n",
       "      <td>29.0</td>\n",
       "      <td>28</td>\n",
       "    </tr>\n",
       "    <tr>\n",
       "      <th>4</th>\n",
       "      <td>15-10-2020</td>\n",
       "      <td>ketamine hydrochloride</td>\n",
       "      <td>Temperature</td>\n",
       "      <td>24.0</td>\n",
       "      <td>NaN</td>\n",
       "      <td>NaN</td>\n",
       "      <td>27.0</td>\n",
       "      <td>NaN</td>\n",
       "      <td>26</td>\n",
       "      <td>25.0</td>\n",
       "      <td>24.0</td>\n",
       "      <td>23.0</td>\n",
       "      <td>22</td>\n",
       "      <td>21.0</td>\n",
       "      <td>20</td>\n",
       "    </tr>\n",
       "  </tbody>\n",
       "</table>\n",
       "</div>"
      ],
      "text/plain": [
       "         Date                Drug_Name    Parameter  1:30:00  2:30:00  \\\n",
       "0  15-10-2020  diltiazem hydrochloride  Temperature     23.0     22.0   \n",
       "1  15-10-2020  diltiazem hydrochloride     Pressure     12.0     13.0   \n",
       "2  15-10-2020      docetaxel injection  Temperature      NaN     17.0   \n",
       "3  15-10-2020      docetaxel injection     Pressure      NaN     22.0   \n",
       "4  15-10-2020   ketamine hydrochloride  Temperature     24.0      NaN   \n",
       "\n",
       "   3:30:00  4:30:00  5:30:00  6:30:00  7:30:00  8:30:00  9:30:00  10:30:00  \\\n",
       "0      NaN     21.0     21.0       22     23.0     21.0     22.0        20   \n",
       "1      NaN     11.0     13.0       14     16.0     16.0     24.0        18   \n",
       "2     18.0      NaN     17.0       18      NaN      NaN     23.0        23   \n",
       "3     22.0      NaN     22.0       23      NaN      NaN     27.0        26   \n",
       "4      NaN     27.0      NaN       26     25.0     24.0     23.0        22   \n",
       "\n",
       "   11:30:00  12:30:00  \n",
       "0      20.0        21  \n",
       "1      19.0        20  \n",
       "2      25.0        25  \n",
       "3      29.0        28  \n",
       "4      21.0        20  "
      ]
     },
     "execution_count": 9,
     "metadata": {},
     "output_type": "execute_result"
    }
   ],
   "source": [
    "data.head()"
   ]
  },
  {
   "cell_type": "code",
   "execution_count": 10,
   "metadata": {
    "colab": {
     "base_uri": "https://localhost:8080/",
     "height": 444
    },
    "id": "aad621d7",
    "outputId": "8cc6821d-59ee-41ee-9095-132fa235a13b"
   },
   "outputs": [
    {
     "data": {
      "text/html": [
       "<div>\n",
       "<style scoped>\n",
       "    .dataframe tbody tr th:only-of-type {\n",
       "        vertical-align: middle;\n",
       "    }\n",
       "\n",
       "    .dataframe tbody tr th {\n",
       "        vertical-align: top;\n",
       "    }\n",
       "\n",
       "    .dataframe thead th {\n",
       "        text-align: right;\n",
       "    }\n",
       "</style>\n",
       "<table border=\"1\" class=\"dataframe\">\n",
       "  <thead>\n",
       "    <tr style=\"text-align: right;\">\n",
       "      <th></th>\n",
       "      <th>Date</th>\n",
       "      <th>Drug_Name</th>\n",
       "      <th>Parameter</th>\n",
       "      <th>1:30:00</th>\n",
       "      <th>2:30:00</th>\n",
       "      <th>3:30:00</th>\n",
       "      <th>4:30:00</th>\n",
       "      <th>5:30:00</th>\n",
       "      <th>6:30:00</th>\n",
       "      <th>7:30:00</th>\n",
       "      <th>8:30:00</th>\n",
       "      <th>9:30:00</th>\n",
       "      <th>10:30:00</th>\n",
       "      <th>11:30:00</th>\n",
       "      <th>12:30:00</th>\n",
       "    </tr>\n",
       "  </thead>\n",
       "  <tbody>\n",
       "    <tr>\n",
       "      <th>13</th>\n",
       "      <td>17-10-2020</td>\n",
       "      <td>diltiazem hydrochloride</td>\n",
       "      <td>Pressure</td>\n",
       "      <td>3.0</td>\n",
       "      <td>4.0</td>\n",
       "      <td>4.0</td>\n",
       "      <td>4.0</td>\n",
       "      <td>6.0</td>\n",
       "      <td>8</td>\n",
       "      <td>9.0</td>\n",
       "      <td>NaN</td>\n",
       "      <td>9.0</td>\n",
       "      <td>11</td>\n",
       "      <td>13.0</td>\n",
       "      <td>14</td>\n",
       "    </tr>\n",
       "    <tr>\n",
       "      <th>14</th>\n",
       "      <td>17-10-2020</td>\n",
       "      <td>docetaxel injection</td>\n",
       "      <td>Temperature</td>\n",
       "      <td>12.0</td>\n",
       "      <td>13.0</td>\n",
       "      <td>14.0</td>\n",
       "      <td>15.0</td>\n",
       "      <td>16.0</td>\n",
       "      <td>17</td>\n",
       "      <td>18.0</td>\n",
       "      <td>19.0</td>\n",
       "      <td>20.0</td>\n",
       "      <td>21</td>\n",
       "      <td>22.0</td>\n",
       "      <td>23</td>\n",
       "    </tr>\n",
       "    <tr>\n",
       "      <th>15</th>\n",
       "      <td>17-10-2020</td>\n",
       "      <td>docetaxel injection</td>\n",
       "      <td>Pressure</td>\n",
       "      <td>20.0</td>\n",
       "      <td>22.0</td>\n",
       "      <td>22.0</td>\n",
       "      <td>22.0</td>\n",
       "      <td>22.0</td>\n",
       "      <td>23</td>\n",
       "      <td>25.0</td>\n",
       "      <td>26.0</td>\n",
       "      <td>27.0</td>\n",
       "      <td>28</td>\n",
       "      <td>29.0</td>\n",
       "      <td>28</td>\n",
       "    </tr>\n",
       "    <tr>\n",
       "      <th>16</th>\n",
       "      <td>17-10-2020</td>\n",
       "      <td>ketamine hydrochloride</td>\n",
       "      <td>Temperature</td>\n",
       "      <td>13.0</td>\n",
       "      <td>14.0</td>\n",
       "      <td>15.0</td>\n",
       "      <td>16.0</td>\n",
       "      <td>17.0</td>\n",
       "      <td>18</td>\n",
       "      <td>19.0</td>\n",
       "      <td>20.0</td>\n",
       "      <td>21.0</td>\n",
       "      <td>22</td>\n",
       "      <td>23.0</td>\n",
       "      <td>24</td>\n",
       "    </tr>\n",
       "    <tr>\n",
       "      <th>17</th>\n",
       "      <td>17-10-2020</td>\n",
       "      <td>ketamine hydrochloride</td>\n",
       "      <td>Pressure</td>\n",
       "      <td>8.0</td>\n",
       "      <td>9.0</td>\n",
       "      <td>10.0</td>\n",
       "      <td>11.0</td>\n",
       "      <td>11.0</td>\n",
       "      <td>12</td>\n",
       "      <td>12.0</td>\n",
       "      <td>11.0</td>\n",
       "      <td>12.0</td>\n",
       "      <td>13</td>\n",
       "      <td>14.0</td>\n",
       "      <td>15</td>\n",
       "    </tr>\n",
       "  </tbody>\n",
       "</table>\n",
       "</div>"
      ],
      "text/plain": [
       "          Date                Drug_Name    Parameter  1:30:00  2:30:00  \\\n",
       "13  17-10-2020  diltiazem hydrochloride     Pressure      3.0      4.0   \n",
       "14  17-10-2020      docetaxel injection  Temperature     12.0     13.0   \n",
       "15  17-10-2020      docetaxel injection     Pressure     20.0     22.0   \n",
       "16  17-10-2020   ketamine hydrochloride  Temperature     13.0     14.0   \n",
       "17  17-10-2020   ketamine hydrochloride     Pressure      8.0      9.0   \n",
       "\n",
       "    3:30:00  4:30:00  5:30:00  6:30:00  7:30:00  8:30:00  9:30:00  10:30:00  \\\n",
       "13      4.0      4.0      6.0        8      9.0      NaN      9.0        11   \n",
       "14     14.0     15.0     16.0       17     18.0     19.0     20.0        21   \n",
       "15     22.0     22.0     22.0       23     25.0     26.0     27.0        28   \n",
       "16     15.0     16.0     17.0       18     19.0     20.0     21.0        22   \n",
       "17     10.0     11.0     11.0       12     12.0     11.0     12.0        13   \n",
       "\n",
       "    11:30:00  12:30:00  \n",
       "13      13.0        14  \n",
       "14      22.0        23  \n",
       "15      29.0        28  \n",
       "16      23.0        24  \n",
       "17      14.0        15  "
      ]
     },
     "execution_count": 10,
     "metadata": {},
     "output_type": "execute_result"
    }
   ],
   "source": [
    "data.tail()"
   ]
  },
  {
   "cell_type": "markdown",
   "metadata": {
    "id": "8141d966"
   },
   "source": [
    "<!-- #### Let's check the shape of this dataset -->"
   ]
  },
  {
   "cell_type": "markdown",
   "metadata": {
    "id": "MQiMTHTHfBI0"
   },
   "source": [
    "### Melting in Pandas"
   ]
  },
  {
   "cell_type": "markdown",
   "metadata": {
    "id": "XkgsNn5dfBI0"
   },
   "source": [
    "As we saw earlier, the dataset has 18 rows and 15 columns\n",
    "\n",
    "If you notice further, you'll see:\n",
    "\n",
    "- The **columns are `1:30:00`, `2:30:00`, `3:30:00`, ... so on**\n",
    "\n",
    "- `Temperature` and `Pressure` **of each date** is **in a separate row**\n",
    "\n",
    "#### Can we restructure our data into a better format?\n",
    "\n",
    "<!-- Maybe do something more intuitive -->\n",
    "\n",
    "Maybe we can have a column for `time`, with `timestamps` as the column value\n",
    "\n",
    "**Where will the Temperature/Pressure values go?**\n",
    "\n",
    "We can similarly create one column containing the values of these parameters\n",
    "\n",
    "\n",
    "\n",
    "\n",
    "==> **\"Melt\" timestamp columns into two columns** - timestamp and corresponding values\n",
    "<!-- Something like our DataFrame will have columns [`ID`, `Date`, `Parameter`, `time`, `result`] -->\n",
    "\n",
    "\n",
    "\n",
    "\n",
    "#### How can we restructure our data into having every row corresponding to a single reading?\n"
   ]
  },
  {
   "cell_type": "code",
   "execution_count": 11,
   "metadata": {
    "colab": {
     "base_uri": "https://localhost:8080/",
     "height": 424
    },
    "id": "22U4oh-OfBI1",
    "outputId": "7885d810-6f45-4d3d-9842-4d0b85935398"
   },
   "outputs": [
    {
     "data": {
      "text/html": [
       "<div>\n",
       "<style scoped>\n",
       "    .dataframe tbody tr th:only-of-type {\n",
       "        vertical-align: middle;\n",
       "    }\n",
       "\n",
       "    .dataframe tbody tr th {\n",
       "        vertical-align: top;\n",
       "    }\n",
       "\n",
       "    .dataframe thead th {\n",
       "        text-align: right;\n",
       "    }\n",
       "</style>\n",
       "<table border=\"1\" class=\"dataframe\">\n",
       "  <thead>\n",
       "    <tr style=\"text-align: right;\">\n",
       "      <th></th>\n",
       "      <th>Date</th>\n",
       "      <th>Parameter</th>\n",
       "      <th>Drug_Name</th>\n",
       "      <th>variable</th>\n",
       "      <th>value</th>\n",
       "    </tr>\n",
       "  </thead>\n",
       "  <tbody>\n",
       "    <tr>\n",
       "      <th>0</th>\n",
       "      <td>15-10-2020</td>\n",
       "      <td>Temperature</td>\n",
       "      <td>diltiazem hydrochloride</td>\n",
       "      <td>1:30:00</td>\n",
       "      <td>23.0</td>\n",
       "    </tr>\n",
       "    <tr>\n",
       "      <th>1</th>\n",
       "      <td>15-10-2020</td>\n",
       "      <td>Pressure</td>\n",
       "      <td>diltiazem hydrochloride</td>\n",
       "      <td>1:30:00</td>\n",
       "      <td>12.0</td>\n",
       "    </tr>\n",
       "    <tr>\n",
       "      <th>2</th>\n",
       "      <td>15-10-2020</td>\n",
       "      <td>Temperature</td>\n",
       "      <td>docetaxel injection</td>\n",
       "      <td>1:30:00</td>\n",
       "      <td>NaN</td>\n",
       "    </tr>\n",
       "    <tr>\n",
       "      <th>3</th>\n",
       "      <td>15-10-2020</td>\n",
       "      <td>Pressure</td>\n",
       "      <td>docetaxel injection</td>\n",
       "      <td>1:30:00</td>\n",
       "      <td>NaN</td>\n",
       "    </tr>\n",
       "    <tr>\n",
       "      <th>4</th>\n",
       "      <td>15-10-2020</td>\n",
       "      <td>Temperature</td>\n",
       "      <td>ketamine hydrochloride</td>\n",
       "      <td>1:30:00</td>\n",
       "      <td>24.0</td>\n",
       "    </tr>\n",
       "    <tr>\n",
       "      <th>...</th>\n",
       "      <td>...</td>\n",
       "      <td>...</td>\n",
       "      <td>...</td>\n",
       "      <td>...</td>\n",
       "      <td>...</td>\n",
       "    </tr>\n",
       "    <tr>\n",
       "      <th>211</th>\n",
       "      <td>17-10-2020</td>\n",
       "      <td>Pressure</td>\n",
       "      <td>diltiazem hydrochloride</td>\n",
       "      <td>12:30:00</td>\n",
       "      <td>14.0</td>\n",
       "    </tr>\n",
       "    <tr>\n",
       "      <th>212</th>\n",
       "      <td>17-10-2020</td>\n",
       "      <td>Temperature</td>\n",
       "      <td>docetaxel injection</td>\n",
       "      <td>12:30:00</td>\n",
       "      <td>23.0</td>\n",
       "    </tr>\n",
       "    <tr>\n",
       "      <th>213</th>\n",
       "      <td>17-10-2020</td>\n",
       "      <td>Pressure</td>\n",
       "      <td>docetaxel injection</td>\n",
       "      <td>12:30:00</td>\n",
       "      <td>28.0</td>\n",
       "    </tr>\n",
       "    <tr>\n",
       "      <th>214</th>\n",
       "      <td>17-10-2020</td>\n",
       "      <td>Temperature</td>\n",
       "      <td>ketamine hydrochloride</td>\n",
       "      <td>12:30:00</td>\n",
       "      <td>24.0</td>\n",
       "    </tr>\n",
       "    <tr>\n",
       "      <th>215</th>\n",
       "      <td>17-10-2020</td>\n",
       "      <td>Pressure</td>\n",
       "      <td>ketamine hydrochloride</td>\n",
       "      <td>12:30:00</td>\n",
       "      <td>15.0</td>\n",
       "    </tr>\n",
       "  </tbody>\n",
       "</table>\n",
       "<p>216 rows × 5 columns</p>\n",
       "</div>"
      ],
      "text/plain": [
       "           Date    Parameter                Drug_Name  variable  value\n",
       "0    15-10-2020  Temperature  diltiazem hydrochloride   1:30:00   23.0\n",
       "1    15-10-2020     Pressure  diltiazem hydrochloride   1:30:00   12.0\n",
       "2    15-10-2020  Temperature      docetaxel injection   1:30:00    NaN\n",
       "3    15-10-2020     Pressure      docetaxel injection   1:30:00    NaN\n",
       "4    15-10-2020  Temperature   ketamine hydrochloride   1:30:00   24.0\n",
       "..          ...          ...                      ...       ...    ...\n",
       "211  17-10-2020     Pressure  diltiazem hydrochloride  12:30:00   14.0\n",
       "212  17-10-2020  Temperature      docetaxel injection  12:30:00   23.0\n",
       "213  17-10-2020     Pressure      docetaxel injection  12:30:00   28.0\n",
       "214  17-10-2020  Temperature   ketamine hydrochloride  12:30:00   24.0\n",
       "215  17-10-2020     Pressure   ketamine hydrochloride  12:30:00   15.0\n",
       "\n",
       "[216 rows x 5 columns]"
      ]
     },
     "execution_count": 11,
     "metadata": {},
     "output_type": "execute_result"
    }
   ],
   "source": [
    "pd.melt(data, id_vars=['Date', 'Parameter', 'Drug_Name'])                "
   ]
  },
  {
   "cell_type": "markdown",
   "metadata": {
    "id": "gHXZoJgYBKMD"
   },
   "source": [
    "This converts our data from `wide` to `long` format\n",
    "\n",
    "\n",
    "Notice the `id_vars are set of variables which remain unmelted"
   ]
  },
  {
   "cell_type": "markdown",
   "metadata": {
    "id": "0vYUQFiCfBI0"
   },
   "source": [
    "#### How does `pd.melt()` work?\n",
    "\n",
    "\n",
    "- Pass in the **DataFrame**\n",
    "- Pass in the **column names to not melt** <!--**that we DON'T want to change** -->\n",
    "\n",
    "\n"
   ]
  },
  {
   "cell_type": "markdown",
   "metadata": {
    "id": "YkjJqw_qfBI1"
   },
   "source": [
    "But we can provide better names to these new columns\n",
    "\n",
    "#### How can we rename the columns \"variable\" and \"value\" as per our original dataframe?"
   ]
  },
  {
   "cell_type": "code",
   "execution_count": 12,
   "metadata": {
    "colab": {
     "base_uri": "https://localhost:8080/",
     "height": 424
    },
    "id": "XuYnAZVMfBI1",
    "outputId": "1e042e5e-6751-407b-923c-75dbba192159"
   },
   "outputs": [
    {
     "data": {
      "text/html": [
       "<div>\n",
       "<style scoped>\n",
       "    .dataframe tbody tr th:only-of-type {\n",
       "        vertical-align: middle;\n",
       "    }\n",
       "\n",
       "    .dataframe tbody tr th {\n",
       "        vertical-align: top;\n",
       "    }\n",
       "\n",
       "    .dataframe thead th {\n",
       "        text-align: right;\n",
       "    }\n",
       "</style>\n",
       "<table border=\"1\" class=\"dataframe\">\n",
       "  <thead>\n",
       "    <tr style=\"text-align: right;\">\n",
       "      <th></th>\n",
       "      <th>Date</th>\n",
       "      <th>Drug_Name</th>\n",
       "      <th>Parameter</th>\n",
       "      <th>time</th>\n",
       "      <th>reading</th>\n",
       "    </tr>\n",
       "  </thead>\n",
       "  <tbody>\n",
       "    <tr>\n",
       "      <th>0</th>\n",
       "      <td>15-10-2020</td>\n",
       "      <td>diltiazem hydrochloride</td>\n",
       "      <td>Temperature</td>\n",
       "      <td>1:30:00</td>\n",
       "      <td>23.0</td>\n",
       "    </tr>\n",
       "    <tr>\n",
       "      <th>1</th>\n",
       "      <td>15-10-2020</td>\n",
       "      <td>diltiazem hydrochloride</td>\n",
       "      <td>Pressure</td>\n",
       "      <td>1:30:00</td>\n",
       "      <td>12.0</td>\n",
       "    </tr>\n",
       "    <tr>\n",
       "      <th>2</th>\n",
       "      <td>15-10-2020</td>\n",
       "      <td>docetaxel injection</td>\n",
       "      <td>Temperature</td>\n",
       "      <td>1:30:00</td>\n",
       "      <td>NaN</td>\n",
       "    </tr>\n",
       "    <tr>\n",
       "      <th>3</th>\n",
       "      <td>15-10-2020</td>\n",
       "      <td>docetaxel injection</td>\n",
       "      <td>Pressure</td>\n",
       "      <td>1:30:00</td>\n",
       "      <td>NaN</td>\n",
       "    </tr>\n",
       "    <tr>\n",
       "      <th>4</th>\n",
       "      <td>15-10-2020</td>\n",
       "      <td>ketamine hydrochloride</td>\n",
       "      <td>Temperature</td>\n",
       "      <td>1:30:00</td>\n",
       "      <td>24.0</td>\n",
       "    </tr>\n",
       "    <tr>\n",
       "      <th>...</th>\n",
       "      <td>...</td>\n",
       "      <td>...</td>\n",
       "      <td>...</td>\n",
       "      <td>...</td>\n",
       "      <td>...</td>\n",
       "    </tr>\n",
       "    <tr>\n",
       "      <th>211</th>\n",
       "      <td>17-10-2020</td>\n",
       "      <td>diltiazem hydrochloride</td>\n",
       "      <td>Pressure</td>\n",
       "      <td>12:30:00</td>\n",
       "      <td>14.0</td>\n",
       "    </tr>\n",
       "    <tr>\n",
       "      <th>212</th>\n",
       "      <td>17-10-2020</td>\n",
       "      <td>docetaxel injection</td>\n",
       "      <td>Temperature</td>\n",
       "      <td>12:30:00</td>\n",
       "      <td>23.0</td>\n",
       "    </tr>\n",
       "    <tr>\n",
       "      <th>213</th>\n",
       "      <td>17-10-2020</td>\n",
       "      <td>docetaxel injection</td>\n",
       "      <td>Pressure</td>\n",
       "      <td>12:30:00</td>\n",
       "      <td>28.0</td>\n",
       "    </tr>\n",
       "    <tr>\n",
       "      <th>214</th>\n",
       "      <td>17-10-2020</td>\n",
       "      <td>ketamine hydrochloride</td>\n",
       "      <td>Temperature</td>\n",
       "      <td>12:30:00</td>\n",
       "      <td>24.0</td>\n",
       "    </tr>\n",
       "    <tr>\n",
       "      <th>215</th>\n",
       "      <td>17-10-2020</td>\n",
       "      <td>ketamine hydrochloride</td>\n",
       "      <td>Pressure</td>\n",
       "      <td>12:30:00</td>\n",
       "      <td>15.0</td>\n",
       "    </tr>\n",
       "  </tbody>\n",
       "</table>\n",
       "<p>216 rows × 5 columns</p>\n",
       "</div>"
      ],
      "text/plain": [
       "           Date                Drug_Name    Parameter      time  reading\n",
       "0    15-10-2020  diltiazem hydrochloride  Temperature   1:30:00     23.0\n",
       "1    15-10-2020  diltiazem hydrochloride     Pressure   1:30:00     12.0\n",
       "2    15-10-2020      docetaxel injection  Temperature   1:30:00      NaN\n",
       "3    15-10-2020      docetaxel injection     Pressure   1:30:00      NaN\n",
       "4    15-10-2020   ketamine hydrochloride  Temperature   1:30:00     24.0\n",
       "..          ...                      ...          ...       ...      ...\n",
       "211  17-10-2020  diltiazem hydrochloride     Pressure  12:30:00     14.0\n",
       "212  17-10-2020      docetaxel injection  Temperature  12:30:00     23.0\n",
       "213  17-10-2020      docetaxel injection     Pressure  12:30:00     28.0\n",
       "214  17-10-2020   ketamine hydrochloride  Temperature  12:30:00     24.0\n",
       "215  17-10-2020   ketamine hydrochloride     Pressure  12:30:00     15.0\n",
       "\n",
       "[216 rows x 5 columns]"
      ]
     },
     "execution_count": 12,
     "metadata": {},
     "output_type": "execute_result"
    }
   ],
   "source": [
    "data_melt = pd.melt(data,id_vars = ['Date', 'Drug_Name', 'Parameter'], \n",
    "            var_name = \"time\",      \n",
    "            value_name = 'reading')  \n",
    "\n",
    "data_melt"
   ]
  },
  {
   "cell_type": "markdown",
   "metadata": {
    "id": "sd3-DBXAfBI1"
   },
   "source": [
    "**Conclusion**\n",
    "\n",
    "<!-- - Columns from `1:30:00` to `12:30:00` are conviniently **melted to a single column `time`** -->\n",
    "- The labels of the timestamp columns are conviniently **melted into a single column** - `time`\n",
    "- It retained all values in column `reading`\n",
    "\n",
    "--------------\n",
    "\n",
    "- The labels of columns such as `1:30:00`, `2:30:00` have now become categories of the variable column\n",
    "- The **values from columns we are melting** are stored in **value** column\n"
   ]
  },
  {
   "cell_type": "markdown",
   "metadata": {
    "id": "gwErZ6dLiApd"
   },
   "source": [
    "### Pivot"
   ]
  },
  {
   "cell_type": "markdown",
   "metadata": {
    "id": "lhX-72zXZifW"
   },
   "source": [
    "Now suppose we want to convert our data back to **wide format**\n",
    "\n",
    "The reason could be to maintain the structure for storing or some other purpose.\n",
    "\n",
    "Notice:\n",
    "\n",
    "- The variables `Date`, `Drug_Name` and `Parameter` will remain same\n",
    "\n",
    "- The column names will be extracted from the column `time`\n",
    "\n",
    "- The values will be extracted from the column `readings`\n",
    "\n",
    "#### How can we restructure our data back to the original wide format, before it was melted?\n",
    "\n",
    "\n"
   ]
  },
  {
   "cell_type": "code",
   "execution_count": 13,
   "metadata": {
    "colab": {
     "base_uri": "https://localhost:8080/",
     "height": 709
    },
    "id": "YKH9cNhsavq5",
    "outputId": "09016287-d4b0-46f6-df56-3d5a7b88bbe9"
   },
   "outputs": [
    {
     "data": {
      "text/html": [
       "<div>\n",
       "<style scoped>\n",
       "    .dataframe tbody tr th:only-of-type {\n",
       "        vertical-align: middle;\n",
       "    }\n",
       "\n",
       "    .dataframe tbody tr th {\n",
       "        vertical-align: top;\n",
       "    }\n",
       "\n",
       "    .dataframe thead th {\n",
       "        text-align: right;\n",
       "    }\n",
       "</style>\n",
       "<table border=\"1\" class=\"dataframe\">\n",
       "  <thead>\n",
       "    <tr style=\"text-align: right;\">\n",
       "      <th></th>\n",
       "      <th></th>\n",
       "      <th>time</th>\n",
       "      <th>10:30:00</th>\n",
       "      <th>11:30:00</th>\n",
       "      <th>12:30:00</th>\n",
       "      <th>1:30:00</th>\n",
       "      <th>2:30:00</th>\n",
       "      <th>3:30:00</th>\n",
       "      <th>4:30:00</th>\n",
       "      <th>5:30:00</th>\n",
       "      <th>6:30:00</th>\n",
       "      <th>7:30:00</th>\n",
       "      <th>8:30:00</th>\n",
       "      <th>9:30:00</th>\n",
       "    </tr>\n",
       "    <tr>\n",
       "      <th>Date</th>\n",
       "      <th>Drug_Name</th>\n",
       "      <th>Parameter</th>\n",
       "      <th></th>\n",
       "      <th></th>\n",
       "      <th></th>\n",
       "      <th></th>\n",
       "      <th></th>\n",
       "      <th></th>\n",
       "      <th></th>\n",
       "      <th></th>\n",
       "      <th></th>\n",
       "      <th></th>\n",
       "      <th></th>\n",
       "      <th></th>\n",
       "    </tr>\n",
       "  </thead>\n",
       "  <tbody>\n",
       "    <tr>\n",
       "      <th rowspan=\"6\" valign=\"top\">15-10-2020</th>\n",
       "      <th rowspan=\"2\" valign=\"top\">diltiazem hydrochloride</th>\n",
       "      <th>Pressure</th>\n",
       "      <td>18.0</td>\n",
       "      <td>19.0</td>\n",
       "      <td>20.0</td>\n",
       "      <td>12.0</td>\n",
       "      <td>13.0</td>\n",
       "      <td>NaN</td>\n",
       "      <td>11.0</td>\n",
       "      <td>13.0</td>\n",
       "      <td>14.0</td>\n",
       "      <td>16.0</td>\n",
       "      <td>16.0</td>\n",
       "      <td>24.0</td>\n",
       "    </tr>\n",
       "    <tr>\n",
       "      <th>Temperature</th>\n",
       "      <td>20.0</td>\n",
       "      <td>20.0</td>\n",
       "      <td>21.0</td>\n",
       "      <td>23.0</td>\n",
       "      <td>22.0</td>\n",
       "      <td>NaN</td>\n",
       "      <td>21.0</td>\n",
       "      <td>21.0</td>\n",
       "      <td>22.0</td>\n",
       "      <td>23.0</td>\n",
       "      <td>21.0</td>\n",
       "      <td>22.0</td>\n",
       "    </tr>\n",
       "    <tr>\n",
       "      <th rowspan=\"2\" valign=\"top\">docetaxel injection</th>\n",
       "      <th>Pressure</th>\n",
       "      <td>26.0</td>\n",
       "      <td>29.0</td>\n",
       "      <td>28.0</td>\n",
       "      <td>NaN</td>\n",
       "      <td>22.0</td>\n",
       "      <td>22.0</td>\n",
       "      <td>NaN</td>\n",
       "      <td>22.0</td>\n",
       "      <td>23.0</td>\n",
       "      <td>NaN</td>\n",
       "      <td>NaN</td>\n",
       "      <td>27.0</td>\n",
       "    </tr>\n",
       "    <tr>\n",
       "      <th>Temperature</th>\n",
       "      <td>23.0</td>\n",
       "      <td>25.0</td>\n",
       "      <td>25.0</td>\n",
       "      <td>NaN</td>\n",
       "      <td>17.0</td>\n",
       "      <td>18.0</td>\n",
       "      <td>NaN</td>\n",
       "      <td>17.0</td>\n",
       "      <td>18.0</td>\n",
       "      <td>NaN</td>\n",
       "      <td>NaN</td>\n",
       "      <td>23.0</td>\n",
       "    </tr>\n",
       "    <tr>\n",
       "      <th rowspan=\"2\" valign=\"top\">ketamine hydrochloride</th>\n",
       "      <th>Pressure</th>\n",
       "      <td>9.0</td>\n",
       "      <td>9.0</td>\n",
       "      <td>11.0</td>\n",
       "      <td>8.0</td>\n",
       "      <td>NaN</td>\n",
       "      <td>NaN</td>\n",
       "      <td>7.0</td>\n",
       "      <td>NaN</td>\n",
       "      <td>9.0</td>\n",
       "      <td>10.0</td>\n",
       "      <td>11.0</td>\n",
       "      <td>10.0</td>\n",
       "    </tr>\n",
       "    <tr>\n",
       "      <th>Temperature</th>\n",
       "      <td>22.0</td>\n",
       "      <td>21.0</td>\n",
       "      <td>20.0</td>\n",
       "      <td>24.0</td>\n",
       "      <td>NaN</td>\n",
       "      <td>NaN</td>\n",
       "      <td>27.0</td>\n",
       "      <td>NaN</td>\n",
       "      <td>26.0</td>\n",
       "      <td>25.0</td>\n",
       "      <td>24.0</td>\n",
       "      <td>23.0</td>\n",
       "    </tr>\n",
       "    <tr>\n",
       "      <th rowspan=\"6\" valign=\"top\">16-10-2020</th>\n",
       "      <th rowspan=\"2\" valign=\"top\">diltiazem hydrochloride</th>\n",
       "      <th>Pressure</th>\n",
       "      <td>24.0</td>\n",
       "      <td>NaN</td>\n",
       "      <td>27.0</td>\n",
       "      <td>18.0</td>\n",
       "      <td>19.0</td>\n",
       "      <td>20.0</td>\n",
       "      <td>21.0</td>\n",
       "      <td>22.0</td>\n",
       "      <td>23.0</td>\n",
       "      <td>24.0</td>\n",
       "      <td>25.0</td>\n",
       "      <td>25.0</td>\n",
       "    </tr>\n",
       "    <tr>\n",
       "      <th>Temperature</th>\n",
       "      <td>40.0</td>\n",
       "      <td>NaN</td>\n",
       "      <td>42.0</td>\n",
       "      <td>34.0</td>\n",
       "      <td>35.0</td>\n",
       "      <td>36.0</td>\n",
       "      <td>36.0</td>\n",
       "      <td>37.0</td>\n",
       "      <td>38.0</td>\n",
       "      <td>37.0</td>\n",
       "      <td>38.0</td>\n",
       "      <td>39.0</td>\n",
       "    </tr>\n",
       "    <tr>\n",
       "      <th rowspan=\"2\" valign=\"top\">docetaxel injection</th>\n",
       "      <th>Pressure</th>\n",
       "      <td>28.0</td>\n",
       "      <td>29.0</td>\n",
       "      <td>30.0</td>\n",
       "      <td>23.0</td>\n",
       "      <td>24.0</td>\n",
       "      <td>NaN</td>\n",
       "      <td>25.0</td>\n",
       "      <td>26.0</td>\n",
       "      <td>27.0</td>\n",
       "      <td>28.0</td>\n",
       "      <td>29.0</td>\n",
       "      <td>28.0</td>\n",
       "    </tr>\n",
       "    <tr>\n",
       "      <th>Temperature</th>\n",
       "      <td>56.0</td>\n",
       "      <td>57.0</td>\n",
       "      <td>58.0</td>\n",
       "      <td>46.0</td>\n",
       "      <td>47.0</td>\n",
       "      <td>NaN</td>\n",
       "      <td>48.0</td>\n",
       "      <td>48.0</td>\n",
       "      <td>49.0</td>\n",
       "      <td>50.0</td>\n",
       "      <td>52.0</td>\n",
       "      <td>55.0</td>\n",
       "    </tr>\n",
       "    <tr>\n",
       "      <th rowspan=\"2\" valign=\"top\">ketamine hydrochloride</th>\n",
       "      <th>Pressure</th>\n",
       "      <td>16.0</td>\n",
       "      <td>17.0</td>\n",
       "      <td>18.0</td>\n",
       "      <td>12.0</td>\n",
       "      <td>12.0</td>\n",
       "      <td>13.0</td>\n",
       "      <td>NaN</td>\n",
       "      <td>15.0</td>\n",
       "      <td>15.0</td>\n",
       "      <td>15.0</td>\n",
       "      <td>15.0</td>\n",
       "      <td>NaN</td>\n",
       "    </tr>\n",
       "    <tr>\n",
       "      <th>Temperature</th>\n",
       "      <td>13.0</td>\n",
       "      <td>14.0</td>\n",
       "      <td>15.0</td>\n",
       "      <td>8.0</td>\n",
       "      <td>9.0</td>\n",
       "      <td>10.0</td>\n",
       "      <td>NaN</td>\n",
       "      <td>11.0</td>\n",
       "      <td>12.0</td>\n",
       "      <td>12.0</td>\n",
       "      <td>11.0</td>\n",
       "      <td>NaN</td>\n",
       "    </tr>\n",
       "    <tr>\n",
       "      <th rowspan=\"6\" valign=\"top\">17-10-2020</th>\n",
       "      <th rowspan=\"2\" valign=\"top\">diltiazem hydrochloride</th>\n",
       "      <th>Pressure</th>\n",
       "      <td>11.0</td>\n",
       "      <td>13.0</td>\n",
       "      <td>14.0</td>\n",
       "      <td>3.0</td>\n",
       "      <td>4.0</td>\n",
       "      <td>4.0</td>\n",
       "      <td>4.0</td>\n",
       "      <td>6.0</td>\n",
       "      <td>8.0</td>\n",
       "      <td>9.0</td>\n",
       "      <td>NaN</td>\n",
       "      <td>9.0</td>\n",
       "    </tr>\n",
       "    <tr>\n",
       "      <th>Temperature</th>\n",
       "      <td>14.0</td>\n",
       "      <td>11.0</td>\n",
       "      <td>10.0</td>\n",
       "      <td>20.0</td>\n",
       "      <td>19.0</td>\n",
       "      <td>19.0</td>\n",
       "      <td>18.0</td>\n",
       "      <td>17.0</td>\n",
       "      <td>16.0</td>\n",
       "      <td>15.0</td>\n",
       "      <td>NaN</td>\n",
       "      <td>13.0</td>\n",
       "    </tr>\n",
       "    <tr>\n",
       "      <th rowspan=\"2\" valign=\"top\">docetaxel injection</th>\n",
       "      <th>Pressure</th>\n",
       "      <td>28.0</td>\n",
       "      <td>29.0</td>\n",
       "      <td>28.0</td>\n",
       "      <td>20.0</td>\n",
       "      <td>22.0</td>\n",
       "      <td>22.0</td>\n",
       "      <td>22.0</td>\n",
       "      <td>22.0</td>\n",
       "      <td>23.0</td>\n",
       "      <td>25.0</td>\n",
       "      <td>26.0</td>\n",
       "      <td>27.0</td>\n",
       "    </tr>\n",
       "    <tr>\n",
       "      <th>Temperature</th>\n",
       "      <td>21.0</td>\n",
       "      <td>22.0</td>\n",
       "      <td>23.0</td>\n",
       "      <td>12.0</td>\n",
       "      <td>13.0</td>\n",
       "      <td>14.0</td>\n",
       "      <td>15.0</td>\n",
       "      <td>16.0</td>\n",
       "      <td>17.0</td>\n",
       "      <td>18.0</td>\n",
       "      <td>19.0</td>\n",
       "      <td>20.0</td>\n",
       "    </tr>\n",
       "    <tr>\n",
       "      <th rowspan=\"2\" valign=\"top\">ketamine hydrochloride</th>\n",
       "      <th>Pressure</th>\n",
       "      <td>13.0</td>\n",
       "      <td>14.0</td>\n",
       "      <td>15.0</td>\n",
       "      <td>8.0</td>\n",
       "      <td>9.0</td>\n",
       "      <td>10.0</td>\n",
       "      <td>11.0</td>\n",
       "      <td>11.0</td>\n",
       "      <td>12.0</td>\n",
       "      <td>12.0</td>\n",
       "      <td>11.0</td>\n",
       "      <td>12.0</td>\n",
       "    </tr>\n",
       "    <tr>\n",
       "      <th>Temperature</th>\n",
       "      <td>22.0</td>\n",
       "      <td>23.0</td>\n",
       "      <td>24.0</td>\n",
       "      <td>13.0</td>\n",
       "      <td>14.0</td>\n",
       "      <td>15.0</td>\n",
       "      <td>16.0</td>\n",
       "      <td>17.0</td>\n",
       "      <td>18.0</td>\n",
       "      <td>19.0</td>\n",
       "      <td>20.0</td>\n",
       "      <td>21.0</td>\n",
       "    </tr>\n",
       "  </tbody>\n",
       "</table>\n",
       "</div>"
      ],
      "text/plain": [
       "time                                            10:30:00  11:30:00  12:30:00  \\\n",
       "Date       Drug_Name               Parameter                                   \n",
       "15-10-2020 diltiazem hydrochloride Pressure         18.0      19.0      20.0   \n",
       "                                   Temperature      20.0      20.0      21.0   \n",
       "           docetaxel injection     Pressure         26.0      29.0      28.0   \n",
       "                                   Temperature      23.0      25.0      25.0   \n",
       "           ketamine hydrochloride  Pressure          9.0       9.0      11.0   \n",
       "                                   Temperature      22.0      21.0      20.0   \n",
       "16-10-2020 diltiazem hydrochloride Pressure         24.0       NaN      27.0   \n",
       "                                   Temperature      40.0       NaN      42.0   \n",
       "           docetaxel injection     Pressure         28.0      29.0      30.0   \n",
       "                                   Temperature      56.0      57.0      58.0   \n",
       "           ketamine hydrochloride  Pressure         16.0      17.0      18.0   \n",
       "                                   Temperature      13.0      14.0      15.0   \n",
       "17-10-2020 diltiazem hydrochloride Pressure         11.0      13.0      14.0   \n",
       "                                   Temperature      14.0      11.0      10.0   \n",
       "           docetaxel injection     Pressure         28.0      29.0      28.0   \n",
       "                                   Temperature      21.0      22.0      23.0   \n",
       "           ketamine hydrochloride  Pressure         13.0      14.0      15.0   \n",
       "                                   Temperature      22.0      23.0      24.0   \n",
       "\n",
       "time                                            1:30:00  2:30:00  3:30:00  \\\n",
       "Date       Drug_Name               Parameter                                \n",
       "15-10-2020 diltiazem hydrochloride Pressure        12.0     13.0      NaN   \n",
       "                                   Temperature     23.0     22.0      NaN   \n",
       "           docetaxel injection     Pressure         NaN     22.0     22.0   \n",
       "                                   Temperature      NaN     17.0     18.0   \n",
       "           ketamine hydrochloride  Pressure         8.0      NaN      NaN   \n",
       "                                   Temperature     24.0      NaN      NaN   \n",
       "16-10-2020 diltiazem hydrochloride Pressure        18.0     19.0     20.0   \n",
       "                                   Temperature     34.0     35.0     36.0   \n",
       "           docetaxel injection     Pressure        23.0     24.0      NaN   \n",
       "                                   Temperature     46.0     47.0      NaN   \n",
       "           ketamine hydrochloride  Pressure        12.0     12.0     13.0   \n",
       "                                   Temperature      8.0      9.0     10.0   \n",
       "17-10-2020 diltiazem hydrochloride Pressure         3.0      4.0      4.0   \n",
       "                                   Temperature     20.0     19.0     19.0   \n",
       "           docetaxel injection     Pressure        20.0     22.0     22.0   \n",
       "                                   Temperature     12.0     13.0     14.0   \n",
       "           ketamine hydrochloride  Pressure         8.0      9.0     10.0   \n",
       "                                   Temperature     13.0     14.0     15.0   \n",
       "\n",
       "time                                            4:30:00  5:30:00  6:30:00  \\\n",
       "Date       Drug_Name               Parameter                                \n",
       "15-10-2020 diltiazem hydrochloride Pressure        11.0     13.0     14.0   \n",
       "                                   Temperature     21.0     21.0     22.0   \n",
       "           docetaxel injection     Pressure         NaN     22.0     23.0   \n",
       "                                   Temperature      NaN     17.0     18.0   \n",
       "           ketamine hydrochloride  Pressure         7.0      NaN      9.0   \n",
       "                                   Temperature     27.0      NaN     26.0   \n",
       "16-10-2020 diltiazem hydrochloride Pressure        21.0     22.0     23.0   \n",
       "                                   Temperature     36.0     37.0     38.0   \n",
       "           docetaxel injection     Pressure        25.0     26.0     27.0   \n",
       "                                   Temperature     48.0     48.0     49.0   \n",
       "           ketamine hydrochloride  Pressure         NaN     15.0     15.0   \n",
       "                                   Temperature      NaN     11.0     12.0   \n",
       "17-10-2020 diltiazem hydrochloride Pressure         4.0      6.0      8.0   \n",
       "                                   Temperature     18.0     17.0     16.0   \n",
       "           docetaxel injection     Pressure        22.0     22.0     23.0   \n",
       "                                   Temperature     15.0     16.0     17.0   \n",
       "           ketamine hydrochloride  Pressure        11.0     11.0     12.0   \n",
       "                                   Temperature     16.0     17.0     18.0   \n",
       "\n",
       "time                                            7:30:00  8:30:00  9:30:00  \n",
       "Date       Drug_Name               Parameter                               \n",
       "15-10-2020 diltiazem hydrochloride Pressure        16.0     16.0     24.0  \n",
       "                                   Temperature     23.0     21.0     22.0  \n",
       "           docetaxel injection     Pressure         NaN      NaN     27.0  \n",
       "                                   Temperature      NaN      NaN     23.0  \n",
       "           ketamine hydrochloride  Pressure        10.0     11.0     10.0  \n",
       "                                   Temperature     25.0     24.0     23.0  \n",
       "16-10-2020 diltiazem hydrochloride Pressure        24.0     25.0     25.0  \n",
       "                                   Temperature     37.0     38.0     39.0  \n",
       "           docetaxel injection     Pressure        28.0     29.0     28.0  \n",
       "                                   Temperature     50.0     52.0     55.0  \n",
       "           ketamine hydrochloride  Pressure        15.0     15.0      NaN  \n",
       "                                   Temperature     12.0     11.0      NaN  \n",
       "17-10-2020 diltiazem hydrochloride Pressure         9.0      NaN      9.0  \n",
       "                                   Temperature     15.0      NaN     13.0  \n",
       "           docetaxel injection     Pressure        25.0     26.0     27.0  \n",
       "                                   Temperature     18.0     19.0     20.0  \n",
       "           ketamine hydrochloride  Pressure        12.0     11.0     12.0  \n",
       "                                   Temperature     19.0     20.0     21.0  "
      ]
     },
     "execution_count": 13,
     "metadata": {},
     "output_type": "execute_result"
    }
   ],
   "source": [
    "data_melt.pivot(index=['Date','Drug_Name','Parameter'],  # Column to use to make new frame’s index\n",
    "                columns = 'time',                  # Column to use to make new frame’s columns\n",
    "                values='reading')                   # Columns to use for populating new frame’s values."
   ]
  },
  {
   "cell_type": "markdown",
   "metadata": {
    "id": "qRdppgPcVY32"
   },
   "source": [
    "Notice, \n",
    "\n",
    "We are getting **multiple indices** here\n",
    "\n",
    "#### How can we reset this to a single-index dataframe?"
   ]
  },
  {
   "cell_type": "code",
   "execution_count": 14,
   "metadata": {
    "colab": {
     "base_uri": "https://localhost:8080/",
     "height": 1000
    },
    "id": "5nrRqRYOUZL6",
    "outputId": "58e870bc-c49d-4388-aee1-36738bf99506"
   },
   "outputs": [
    {
     "data": {
      "text/html": [
       "<div>\n",
       "<style scoped>\n",
       "    .dataframe tbody tr th:only-of-type {\n",
       "        vertical-align: middle;\n",
       "    }\n",
       "\n",
       "    .dataframe tbody tr th {\n",
       "        vertical-align: top;\n",
       "    }\n",
       "\n",
       "    .dataframe thead th {\n",
       "        text-align: right;\n",
       "    }\n",
       "</style>\n",
       "<table border=\"1\" class=\"dataframe\">\n",
       "  <thead>\n",
       "    <tr style=\"text-align: right;\">\n",
       "      <th>time</th>\n",
       "      <th>Date</th>\n",
       "      <th>Drug_Name</th>\n",
       "      <th>Parameter</th>\n",
       "      <th>10:30:00</th>\n",
       "      <th>11:30:00</th>\n",
       "      <th>12:30:00</th>\n",
       "      <th>1:30:00</th>\n",
       "      <th>2:30:00</th>\n",
       "      <th>3:30:00</th>\n",
       "      <th>4:30:00</th>\n",
       "      <th>5:30:00</th>\n",
       "      <th>6:30:00</th>\n",
       "      <th>7:30:00</th>\n",
       "      <th>8:30:00</th>\n",
       "      <th>9:30:00</th>\n",
       "    </tr>\n",
       "  </thead>\n",
       "  <tbody>\n",
       "    <tr>\n",
       "      <th>0</th>\n",
       "      <td>15-10-2020</td>\n",
       "      <td>diltiazem hydrochloride</td>\n",
       "      <td>Pressure</td>\n",
       "      <td>18.0</td>\n",
       "      <td>19.0</td>\n",
       "      <td>20.0</td>\n",
       "      <td>12.0</td>\n",
       "      <td>13.0</td>\n",
       "      <td>NaN</td>\n",
       "      <td>11.0</td>\n",
       "      <td>13.0</td>\n",
       "      <td>14.0</td>\n",
       "      <td>16.0</td>\n",
       "      <td>16.0</td>\n",
       "      <td>24.0</td>\n",
       "    </tr>\n",
       "    <tr>\n",
       "      <th>1</th>\n",
       "      <td>15-10-2020</td>\n",
       "      <td>diltiazem hydrochloride</td>\n",
       "      <td>Temperature</td>\n",
       "      <td>20.0</td>\n",
       "      <td>20.0</td>\n",
       "      <td>21.0</td>\n",
       "      <td>23.0</td>\n",
       "      <td>22.0</td>\n",
       "      <td>NaN</td>\n",
       "      <td>21.0</td>\n",
       "      <td>21.0</td>\n",
       "      <td>22.0</td>\n",
       "      <td>23.0</td>\n",
       "      <td>21.0</td>\n",
       "      <td>22.0</td>\n",
       "    </tr>\n",
       "    <tr>\n",
       "      <th>2</th>\n",
       "      <td>15-10-2020</td>\n",
       "      <td>docetaxel injection</td>\n",
       "      <td>Pressure</td>\n",
       "      <td>26.0</td>\n",
       "      <td>29.0</td>\n",
       "      <td>28.0</td>\n",
       "      <td>NaN</td>\n",
       "      <td>22.0</td>\n",
       "      <td>22.0</td>\n",
       "      <td>NaN</td>\n",
       "      <td>22.0</td>\n",
       "      <td>23.0</td>\n",
       "      <td>NaN</td>\n",
       "      <td>NaN</td>\n",
       "      <td>27.0</td>\n",
       "    </tr>\n",
       "    <tr>\n",
       "      <th>3</th>\n",
       "      <td>15-10-2020</td>\n",
       "      <td>docetaxel injection</td>\n",
       "      <td>Temperature</td>\n",
       "      <td>23.0</td>\n",
       "      <td>25.0</td>\n",
       "      <td>25.0</td>\n",
       "      <td>NaN</td>\n",
       "      <td>17.0</td>\n",
       "      <td>18.0</td>\n",
       "      <td>NaN</td>\n",
       "      <td>17.0</td>\n",
       "      <td>18.0</td>\n",
       "      <td>NaN</td>\n",
       "      <td>NaN</td>\n",
       "      <td>23.0</td>\n",
       "    </tr>\n",
       "    <tr>\n",
       "      <th>4</th>\n",
       "      <td>15-10-2020</td>\n",
       "      <td>ketamine hydrochloride</td>\n",
       "      <td>Pressure</td>\n",
       "      <td>9.0</td>\n",
       "      <td>9.0</td>\n",
       "      <td>11.0</td>\n",
       "      <td>8.0</td>\n",
       "      <td>NaN</td>\n",
       "      <td>NaN</td>\n",
       "      <td>7.0</td>\n",
       "      <td>NaN</td>\n",
       "      <td>9.0</td>\n",
       "      <td>10.0</td>\n",
       "      <td>11.0</td>\n",
       "      <td>10.0</td>\n",
       "    </tr>\n",
       "    <tr>\n",
       "      <th>5</th>\n",
       "      <td>15-10-2020</td>\n",
       "      <td>ketamine hydrochloride</td>\n",
       "      <td>Temperature</td>\n",
       "      <td>22.0</td>\n",
       "      <td>21.0</td>\n",
       "      <td>20.0</td>\n",
       "      <td>24.0</td>\n",
       "      <td>NaN</td>\n",
       "      <td>NaN</td>\n",
       "      <td>27.0</td>\n",
       "      <td>NaN</td>\n",
       "      <td>26.0</td>\n",
       "      <td>25.0</td>\n",
       "      <td>24.0</td>\n",
       "      <td>23.0</td>\n",
       "    </tr>\n",
       "    <tr>\n",
       "      <th>6</th>\n",
       "      <td>16-10-2020</td>\n",
       "      <td>diltiazem hydrochloride</td>\n",
       "      <td>Pressure</td>\n",
       "      <td>24.0</td>\n",
       "      <td>NaN</td>\n",
       "      <td>27.0</td>\n",
       "      <td>18.0</td>\n",
       "      <td>19.0</td>\n",
       "      <td>20.0</td>\n",
       "      <td>21.0</td>\n",
       "      <td>22.0</td>\n",
       "      <td>23.0</td>\n",
       "      <td>24.0</td>\n",
       "      <td>25.0</td>\n",
       "      <td>25.0</td>\n",
       "    </tr>\n",
       "    <tr>\n",
       "      <th>7</th>\n",
       "      <td>16-10-2020</td>\n",
       "      <td>diltiazem hydrochloride</td>\n",
       "      <td>Temperature</td>\n",
       "      <td>40.0</td>\n",
       "      <td>NaN</td>\n",
       "      <td>42.0</td>\n",
       "      <td>34.0</td>\n",
       "      <td>35.0</td>\n",
       "      <td>36.0</td>\n",
       "      <td>36.0</td>\n",
       "      <td>37.0</td>\n",
       "      <td>38.0</td>\n",
       "      <td>37.0</td>\n",
       "      <td>38.0</td>\n",
       "      <td>39.0</td>\n",
       "    </tr>\n",
       "    <tr>\n",
       "      <th>8</th>\n",
       "      <td>16-10-2020</td>\n",
       "      <td>docetaxel injection</td>\n",
       "      <td>Pressure</td>\n",
       "      <td>28.0</td>\n",
       "      <td>29.0</td>\n",
       "      <td>30.0</td>\n",
       "      <td>23.0</td>\n",
       "      <td>24.0</td>\n",
       "      <td>NaN</td>\n",
       "      <td>25.0</td>\n",
       "      <td>26.0</td>\n",
       "      <td>27.0</td>\n",
       "      <td>28.0</td>\n",
       "      <td>29.0</td>\n",
       "      <td>28.0</td>\n",
       "    </tr>\n",
       "    <tr>\n",
       "      <th>9</th>\n",
       "      <td>16-10-2020</td>\n",
       "      <td>docetaxel injection</td>\n",
       "      <td>Temperature</td>\n",
       "      <td>56.0</td>\n",
       "      <td>57.0</td>\n",
       "      <td>58.0</td>\n",
       "      <td>46.0</td>\n",
       "      <td>47.0</td>\n",
       "      <td>NaN</td>\n",
       "      <td>48.0</td>\n",
       "      <td>48.0</td>\n",
       "      <td>49.0</td>\n",
       "      <td>50.0</td>\n",
       "      <td>52.0</td>\n",
       "      <td>55.0</td>\n",
       "    </tr>\n",
       "    <tr>\n",
       "      <th>10</th>\n",
       "      <td>16-10-2020</td>\n",
       "      <td>ketamine hydrochloride</td>\n",
       "      <td>Pressure</td>\n",
       "      <td>16.0</td>\n",
       "      <td>17.0</td>\n",
       "      <td>18.0</td>\n",
       "      <td>12.0</td>\n",
       "      <td>12.0</td>\n",
       "      <td>13.0</td>\n",
       "      <td>NaN</td>\n",
       "      <td>15.0</td>\n",
       "      <td>15.0</td>\n",
       "      <td>15.0</td>\n",
       "      <td>15.0</td>\n",
       "      <td>NaN</td>\n",
       "    </tr>\n",
       "    <tr>\n",
       "      <th>11</th>\n",
       "      <td>16-10-2020</td>\n",
       "      <td>ketamine hydrochloride</td>\n",
       "      <td>Temperature</td>\n",
       "      <td>13.0</td>\n",
       "      <td>14.0</td>\n",
       "      <td>15.0</td>\n",
       "      <td>8.0</td>\n",
       "      <td>9.0</td>\n",
       "      <td>10.0</td>\n",
       "      <td>NaN</td>\n",
       "      <td>11.0</td>\n",
       "      <td>12.0</td>\n",
       "      <td>12.0</td>\n",
       "      <td>11.0</td>\n",
       "      <td>NaN</td>\n",
       "    </tr>\n",
       "    <tr>\n",
       "      <th>12</th>\n",
       "      <td>17-10-2020</td>\n",
       "      <td>diltiazem hydrochloride</td>\n",
       "      <td>Pressure</td>\n",
       "      <td>11.0</td>\n",
       "      <td>13.0</td>\n",
       "      <td>14.0</td>\n",
       "      <td>3.0</td>\n",
       "      <td>4.0</td>\n",
       "      <td>4.0</td>\n",
       "      <td>4.0</td>\n",
       "      <td>6.0</td>\n",
       "      <td>8.0</td>\n",
       "      <td>9.0</td>\n",
       "      <td>NaN</td>\n",
       "      <td>9.0</td>\n",
       "    </tr>\n",
       "    <tr>\n",
       "      <th>13</th>\n",
       "      <td>17-10-2020</td>\n",
       "      <td>diltiazem hydrochloride</td>\n",
       "      <td>Temperature</td>\n",
       "      <td>14.0</td>\n",
       "      <td>11.0</td>\n",
       "      <td>10.0</td>\n",
       "      <td>20.0</td>\n",
       "      <td>19.0</td>\n",
       "      <td>19.0</td>\n",
       "      <td>18.0</td>\n",
       "      <td>17.0</td>\n",
       "      <td>16.0</td>\n",
       "      <td>15.0</td>\n",
       "      <td>NaN</td>\n",
       "      <td>13.0</td>\n",
       "    </tr>\n",
       "    <tr>\n",
       "      <th>14</th>\n",
       "      <td>17-10-2020</td>\n",
       "      <td>docetaxel injection</td>\n",
       "      <td>Pressure</td>\n",
       "      <td>28.0</td>\n",
       "      <td>29.0</td>\n",
       "      <td>28.0</td>\n",
       "      <td>20.0</td>\n",
       "      <td>22.0</td>\n",
       "      <td>22.0</td>\n",
       "      <td>22.0</td>\n",
       "      <td>22.0</td>\n",
       "      <td>23.0</td>\n",
       "      <td>25.0</td>\n",
       "      <td>26.0</td>\n",
       "      <td>27.0</td>\n",
       "    </tr>\n",
       "    <tr>\n",
       "      <th>15</th>\n",
       "      <td>17-10-2020</td>\n",
       "      <td>docetaxel injection</td>\n",
       "      <td>Temperature</td>\n",
       "      <td>21.0</td>\n",
       "      <td>22.0</td>\n",
       "      <td>23.0</td>\n",
       "      <td>12.0</td>\n",
       "      <td>13.0</td>\n",
       "      <td>14.0</td>\n",
       "      <td>15.0</td>\n",
       "      <td>16.0</td>\n",
       "      <td>17.0</td>\n",
       "      <td>18.0</td>\n",
       "      <td>19.0</td>\n",
       "      <td>20.0</td>\n",
       "    </tr>\n",
       "    <tr>\n",
       "      <th>16</th>\n",
       "      <td>17-10-2020</td>\n",
       "      <td>ketamine hydrochloride</td>\n",
       "      <td>Pressure</td>\n",
       "      <td>13.0</td>\n",
       "      <td>14.0</td>\n",
       "      <td>15.0</td>\n",
       "      <td>8.0</td>\n",
       "      <td>9.0</td>\n",
       "      <td>10.0</td>\n",
       "      <td>11.0</td>\n",
       "      <td>11.0</td>\n",
       "      <td>12.0</td>\n",
       "      <td>12.0</td>\n",
       "      <td>11.0</td>\n",
       "      <td>12.0</td>\n",
       "    </tr>\n",
       "    <tr>\n",
       "      <th>17</th>\n",
       "      <td>17-10-2020</td>\n",
       "      <td>ketamine hydrochloride</td>\n",
       "      <td>Temperature</td>\n",
       "      <td>22.0</td>\n",
       "      <td>23.0</td>\n",
       "      <td>24.0</td>\n",
       "      <td>13.0</td>\n",
       "      <td>14.0</td>\n",
       "      <td>15.0</td>\n",
       "      <td>16.0</td>\n",
       "      <td>17.0</td>\n",
       "      <td>18.0</td>\n",
       "      <td>19.0</td>\n",
       "      <td>20.0</td>\n",
       "      <td>21.0</td>\n",
       "    </tr>\n",
       "  </tbody>\n",
       "</table>\n",
       "</div>"
      ],
      "text/plain": [
       "time        Date                Drug_Name    Parameter  10:30:00  11:30:00  \\\n",
       "0     15-10-2020  diltiazem hydrochloride     Pressure      18.0      19.0   \n",
       "1     15-10-2020  diltiazem hydrochloride  Temperature      20.0      20.0   \n",
       "2     15-10-2020      docetaxel injection     Pressure      26.0      29.0   \n",
       "3     15-10-2020      docetaxel injection  Temperature      23.0      25.0   \n",
       "4     15-10-2020   ketamine hydrochloride     Pressure       9.0       9.0   \n",
       "5     15-10-2020   ketamine hydrochloride  Temperature      22.0      21.0   \n",
       "6     16-10-2020  diltiazem hydrochloride     Pressure      24.0       NaN   \n",
       "7     16-10-2020  diltiazem hydrochloride  Temperature      40.0       NaN   \n",
       "8     16-10-2020      docetaxel injection     Pressure      28.0      29.0   \n",
       "9     16-10-2020      docetaxel injection  Temperature      56.0      57.0   \n",
       "10    16-10-2020   ketamine hydrochloride     Pressure      16.0      17.0   \n",
       "11    16-10-2020   ketamine hydrochloride  Temperature      13.0      14.0   \n",
       "12    17-10-2020  diltiazem hydrochloride     Pressure      11.0      13.0   \n",
       "13    17-10-2020  diltiazem hydrochloride  Temperature      14.0      11.0   \n",
       "14    17-10-2020      docetaxel injection     Pressure      28.0      29.0   \n",
       "15    17-10-2020      docetaxel injection  Temperature      21.0      22.0   \n",
       "16    17-10-2020   ketamine hydrochloride     Pressure      13.0      14.0   \n",
       "17    17-10-2020   ketamine hydrochloride  Temperature      22.0      23.0   \n",
       "\n",
       "time  12:30:00  1:30:00  2:30:00  3:30:00  4:30:00  5:30:00  6:30:00  7:30:00  \\\n",
       "0         20.0     12.0     13.0      NaN     11.0     13.0     14.0     16.0   \n",
       "1         21.0     23.0     22.0      NaN     21.0     21.0     22.0     23.0   \n",
       "2         28.0      NaN     22.0     22.0      NaN     22.0     23.0      NaN   \n",
       "3         25.0      NaN     17.0     18.0      NaN     17.0     18.0      NaN   \n",
       "4         11.0      8.0      NaN      NaN      7.0      NaN      9.0     10.0   \n",
       "5         20.0     24.0      NaN      NaN     27.0      NaN     26.0     25.0   \n",
       "6         27.0     18.0     19.0     20.0     21.0     22.0     23.0     24.0   \n",
       "7         42.0     34.0     35.0     36.0     36.0     37.0     38.0     37.0   \n",
       "8         30.0     23.0     24.0      NaN     25.0     26.0     27.0     28.0   \n",
       "9         58.0     46.0     47.0      NaN     48.0     48.0     49.0     50.0   \n",
       "10        18.0     12.0     12.0     13.0      NaN     15.0     15.0     15.0   \n",
       "11        15.0      8.0      9.0     10.0      NaN     11.0     12.0     12.0   \n",
       "12        14.0      3.0      4.0      4.0      4.0      6.0      8.0      9.0   \n",
       "13        10.0     20.0     19.0     19.0     18.0     17.0     16.0     15.0   \n",
       "14        28.0     20.0     22.0     22.0     22.0     22.0     23.0     25.0   \n",
       "15        23.0     12.0     13.0     14.0     15.0     16.0     17.0     18.0   \n",
       "16        15.0      8.0      9.0     10.0     11.0     11.0     12.0     12.0   \n",
       "17        24.0     13.0     14.0     15.0     16.0     17.0     18.0     19.0   \n",
       "\n",
       "time  8:30:00  9:30:00  \n",
       "0        16.0     24.0  \n",
       "1        21.0     22.0  \n",
       "2         NaN     27.0  \n",
       "3         NaN     23.0  \n",
       "4        11.0     10.0  \n",
       "5        24.0     23.0  \n",
       "6        25.0     25.0  \n",
       "7        38.0     39.0  \n",
       "8        29.0     28.0  \n",
       "9        52.0     55.0  \n",
       "10       15.0      NaN  \n",
       "11       11.0      NaN  \n",
       "12        NaN      9.0  \n",
       "13        NaN     13.0  \n",
       "14       26.0     27.0  \n",
       "15       19.0     20.0  \n",
       "16       11.0     12.0  \n",
       "17       20.0     21.0  "
      ]
     },
     "execution_count": 14,
     "metadata": {},
     "output_type": "execute_result"
    }
   ],
   "source": [
    "data_melt.pivot(index=['Date','Drug_Name','Parameter'], \n",
    "                columns = 'time',                  \n",
    "                values='reading').reset_index()"
   ]
  },
  {
   "cell_type": "markdown",
   "metadata": {
    "id": "Zz6aBzeBiAys"
   },
   "source": [
    "\n",
    "==> `pivot()` is the exact opposite of melt\n",
    "\n",
    "#### How does `pivot()` work?\n",
    "\n",
    "- Column `Time` is pivoted upon `Date`, `Drug_Name` and `Parameter`\n",
    "\n",
    "\n",
    "\n"
   ]
  },
  {
   "cell_type": "code",
   "execution_count": 15,
   "metadata": {
    "colab": {
     "base_uri": "https://localhost:8080/",
     "height": 206
    },
    "id": "N7nwiN_p4oLE",
    "outputId": "7f07be6a-806d-4d68-d183-e646bb2162ee"
   },
   "outputs": [
    {
     "data": {
      "text/html": [
       "<div>\n",
       "<style scoped>\n",
       "    .dataframe tbody tr th:only-of-type {\n",
       "        vertical-align: middle;\n",
       "    }\n",
       "\n",
       "    .dataframe tbody tr th {\n",
       "        vertical-align: top;\n",
       "    }\n",
       "\n",
       "    .dataframe thead th {\n",
       "        text-align: right;\n",
       "    }\n",
       "</style>\n",
       "<table border=\"1\" class=\"dataframe\">\n",
       "  <thead>\n",
       "    <tr style=\"text-align: right;\">\n",
       "      <th></th>\n",
       "      <th>Date</th>\n",
       "      <th>Drug_Name</th>\n",
       "      <th>Parameter</th>\n",
       "      <th>time</th>\n",
       "      <th>reading</th>\n",
       "    </tr>\n",
       "  </thead>\n",
       "  <tbody>\n",
       "    <tr>\n",
       "      <th>0</th>\n",
       "      <td>15-10-2020</td>\n",
       "      <td>diltiazem hydrochloride</td>\n",
       "      <td>Temperature</td>\n",
       "      <td>1:30:00</td>\n",
       "      <td>23.0</td>\n",
       "    </tr>\n",
       "    <tr>\n",
       "      <th>1</th>\n",
       "      <td>15-10-2020</td>\n",
       "      <td>diltiazem hydrochloride</td>\n",
       "      <td>Pressure</td>\n",
       "      <td>1:30:00</td>\n",
       "      <td>12.0</td>\n",
       "    </tr>\n",
       "    <tr>\n",
       "      <th>2</th>\n",
       "      <td>15-10-2020</td>\n",
       "      <td>docetaxel injection</td>\n",
       "      <td>Temperature</td>\n",
       "      <td>1:30:00</td>\n",
       "      <td>NaN</td>\n",
       "    </tr>\n",
       "    <tr>\n",
       "      <th>3</th>\n",
       "      <td>15-10-2020</td>\n",
       "      <td>docetaxel injection</td>\n",
       "      <td>Pressure</td>\n",
       "      <td>1:30:00</td>\n",
       "      <td>NaN</td>\n",
       "    </tr>\n",
       "    <tr>\n",
       "      <th>4</th>\n",
       "      <td>15-10-2020</td>\n",
       "      <td>ketamine hydrochloride</td>\n",
       "      <td>Temperature</td>\n",
       "      <td>1:30:00</td>\n",
       "      <td>24.0</td>\n",
       "    </tr>\n",
       "  </tbody>\n",
       "</table>\n",
       "</div>"
      ],
      "text/plain": [
       "         Date                Drug_Name    Parameter     time  reading\n",
       "0  15-10-2020  diltiazem hydrochloride  Temperature  1:30:00     23.0\n",
       "1  15-10-2020  diltiazem hydrochloride     Pressure  1:30:00     12.0\n",
       "2  15-10-2020      docetaxel injection  Temperature  1:30:00      NaN\n",
       "3  15-10-2020      docetaxel injection     Pressure  1:30:00      NaN\n",
       "4  15-10-2020   ketamine hydrochloride  Temperature  1:30:00     24.0"
      ]
     },
     "execution_count": 15,
     "metadata": {},
     "output_type": "execute_result"
    }
   ],
   "source": [
    "data_melt.head()"
   ]
  },
  {
   "cell_type": "markdown",
   "metadata": {
    "id": "7-Y6oUhX4nfU"
   },
   "source": [
    "Now if you notice,\n",
    "\n",
    "We are **using 2 rows** to log readings for a single experiment. \n",
    "\n",
    "\n",
    "#### Can we further restructure our data into dividing the Parameter column into T/P?\n",
    "\n",
    "A format like:\n",
    "\n",
    "`Date | time | Drug_Name | Pressure | Temperature`\n",
    "\n",
    " would be really suitable\n",
    "\n",
    "- We want to **split one single column into multiple columns**\n",
    "\n",
    "#### How can we divide the Parameter column again?"
   ]
  },
  {
   "cell_type": "code",
   "execution_count": 16,
   "metadata": {
    "colab": {
     "base_uri": "https://localhost:8080/",
     "height": 455
    },
    "id": "lQTzEcy4iAys",
    "outputId": "b15387a0-b406-494f-cce1-f5bf2c593521"
   },
   "outputs": [
    {
     "data": {
      "text/html": [
       "<div>\n",
       "<style scoped>\n",
       "    .dataframe tbody tr th:only-of-type {\n",
       "        vertical-align: middle;\n",
       "    }\n",
       "\n",
       "    .dataframe tbody tr th {\n",
       "        vertical-align: top;\n",
       "    }\n",
       "\n",
       "    .dataframe thead th {\n",
       "        text-align: right;\n",
       "    }\n",
       "</style>\n",
       "<table border=\"1\" class=\"dataframe\">\n",
       "  <thead>\n",
       "    <tr style=\"text-align: right;\">\n",
       "      <th></th>\n",
       "      <th></th>\n",
       "      <th>Parameter</th>\n",
       "      <th>Pressure</th>\n",
       "      <th>Temperature</th>\n",
       "    </tr>\n",
       "    <tr>\n",
       "      <th>Date</th>\n",
       "      <th>time</th>\n",
       "      <th>Drug_Name</th>\n",
       "      <th></th>\n",
       "      <th></th>\n",
       "    </tr>\n",
       "  </thead>\n",
       "  <tbody>\n",
       "    <tr>\n",
       "      <th rowspan=\"5\" valign=\"top\">15-10-2020</th>\n",
       "      <th rowspan=\"3\" valign=\"top\">10:30:00</th>\n",
       "      <th>diltiazem hydrochloride</th>\n",
       "      <td>18.0</td>\n",
       "      <td>20.0</td>\n",
       "    </tr>\n",
       "    <tr>\n",
       "      <th>docetaxel injection</th>\n",
       "      <td>26.0</td>\n",
       "      <td>23.0</td>\n",
       "    </tr>\n",
       "    <tr>\n",
       "      <th>ketamine hydrochloride</th>\n",
       "      <td>9.0</td>\n",
       "      <td>22.0</td>\n",
       "    </tr>\n",
       "    <tr>\n",
       "      <th rowspan=\"2\" valign=\"top\">11:30:00</th>\n",
       "      <th>diltiazem hydrochloride</th>\n",
       "      <td>19.0</td>\n",
       "      <td>20.0</td>\n",
       "    </tr>\n",
       "    <tr>\n",
       "      <th>docetaxel injection</th>\n",
       "      <td>29.0</td>\n",
       "      <td>25.0</td>\n",
       "    </tr>\n",
       "    <tr>\n",
       "      <th>...</th>\n",
       "      <th>...</th>\n",
       "      <th>...</th>\n",
       "      <td>...</td>\n",
       "      <td>...</td>\n",
       "    </tr>\n",
       "    <tr>\n",
       "      <th rowspan=\"5\" valign=\"top\">17-10-2020</th>\n",
       "      <th rowspan=\"2\" valign=\"top\">8:30:00</th>\n",
       "      <th>docetaxel injection</th>\n",
       "      <td>26.0</td>\n",
       "      <td>19.0</td>\n",
       "    </tr>\n",
       "    <tr>\n",
       "      <th>ketamine hydrochloride</th>\n",
       "      <td>11.0</td>\n",
       "      <td>20.0</td>\n",
       "    </tr>\n",
       "    <tr>\n",
       "      <th rowspan=\"3\" valign=\"top\">9:30:00</th>\n",
       "      <th>diltiazem hydrochloride</th>\n",
       "      <td>9.0</td>\n",
       "      <td>13.0</td>\n",
       "    </tr>\n",
       "    <tr>\n",
       "      <th>docetaxel injection</th>\n",
       "      <td>27.0</td>\n",
       "      <td>20.0</td>\n",
       "    </tr>\n",
       "    <tr>\n",
       "      <th>ketamine hydrochloride</th>\n",
       "      <td>12.0</td>\n",
       "      <td>21.0</td>\n",
       "    </tr>\n",
       "  </tbody>\n",
       "</table>\n",
       "<p>108 rows × 2 columns</p>\n",
       "</div>"
      ],
      "text/plain": [
       "Parameter                                    Pressure  Temperature\n",
       "Date       time     Drug_Name                                     \n",
       "15-10-2020 10:30:00 diltiazem hydrochloride      18.0         20.0\n",
       "                    docetaxel injection          26.0         23.0\n",
       "                    ketamine hydrochloride        9.0         22.0\n",
       "           11:30:00 diltiazem hydrochloride      19.0         20.0\n",
       "                    docetaxel injection          29.0         25.0\n",
       "...                                               ...          ...\n",
       "17-10-2020 8:30:00  docetaxel injection          26.0         19.0\n",
       "                    ketamine hydrochloride       11.0         20.0\n",
       "           9:30:00  diltiazem hydrochloride       9.0         13.0\n",
       "                    docetaxel injection          27.0         20.0\n",
       "                    ketamine hydrochloride       12.0         21.0\n",
       "\n",
       "[108 rows x 2 columns]"
      ]
     },
     "execution_count": 16,
     "metadata": {},
     "output_type": "execute_result"
    }
   ],
   "source": [
    "data_tidy = data_melt.pivot(index=['Date','time', 'Drug_Name'], \n",
    "                                        columns = 'Parameter',  \n",
    "                                        values='reading') \n",
    "\n",
    "data_tidy"
   ]
  },
  {
   "cell_type": "markdown",
   "metadata": {
    "id": "d34W9uIAiAys"
   },
   "source": [
    "<!-- Notice that a **multi-index** df has been created\n",
    "\n",
    "We change this using **`reset_index()`** -->\n",
    "\n",
    "We can use `reset_index()` to remove the multi-index"
   ]
  },
  {
   "cell_type": "code",
   "execution_count": 17,
   "metadata": {
    "colab": {
     "base_uri": "https://localhost:8080/",
     "height": 424
    },
    "id": "AlPcMro_RevV",
    "outputId": "0655b690-d1da-4e7b-c737-2885078355c6"
   },
   "outputs": [
    {
     "data": {
      "text/html": [
       "<div>\n",
       "<style scoped>\n",
       "    .dataframe tbody tr th:only-of-type {\n",
       "        vertical-align: middle;\n",
       "    }\n",
       "\n",
       "    .dataframe tbody tr th {\n",
       "        vertical-align: top;\n",
       "    }\n",
       "\n",
       "    .dataframe thead th {\n",
       "        text-align: right;\n",
       "    }\n",
       "</style>\n",
       "<table border=\"1\" class=\"dataframe\">\n",
       "  <thead>\n",
       "    <tr style=\"text-align: right;\">\n",
       "      <th>Parameter</th>\n",
       "      <th>Date</th>\n",
       "      <th>time</th>\n",
       "      <th>Drug_Name</th>\n",
       "      <th>Pressure</th>\n",
       "      <th>Temperature</th>\n",
       "    </tr>\n",
       "  </thead>\n",
       "  <tbody>\n",
       "    <tr>\n",
       "      <th>0</th>\n",
       "      <td>15-10-2020</td>\n",
       "      <td>10:30:00</td>\n",
       "      <td>diltiazem hydrochloride</td>\n",
       "      <td>18.0</td>\n",
       "      <td>20.0</td>\n",
       "    </tr>\n",
       "    <tr>\n",
       "      <th>1</th>\n",
       "      <td>15-10-2020</td>\n",
       "      <td>10:30:00</td>\n",
       "      <td>docetaxel injection</td>\n",
       "      <td>26.0</td>\n",
       "      <td>23.0</td>\n",
       "    </tr>\n",
       "    <tr>\n",
       "      <th>2</th>\n",
       "      <td>15-10-2020</td>\n",
       "      <td>10:30:00</td>\n",
       "      <td>ketamine hydrochloride</td>\n",
       "      <td>9.0</td>\n",
       "      <td>22.0</td>\n",
       "    </tr>\n",
       "    <tr>\n",
       "      <th>3</th>\n",
       "      <td>15-10-2020</td>\n",
       "      <td>11:30:00</td>\n",
       "      <td>diltiazem hydrochloride</td>\n",
       "      <td>19.0</td>\n",
       "      <td>20.0</td>\n",
       "    </tr>\n",
       "    <tr>\n",
       "      <th>4</th>\n",
       "      <td>15-10-2020</td>\n",
       "      <td>11:30:00</td>\n",
       "      <td>docetaxel injection</td>\n",
       "      <td>29.0</td>\n",
       "      <td>25.0</td>\n",
       "    </tr>\n",
       "    <tr>\n",
       "      <th>...</th>\n",
       "      <td>...</td>\n",
       "      <td>...</td>\n",
       "      <td>...</td>\n",
       "      <td>...</td>\n",
       "      <td>...</td>\n",
       "    </tr>\n",
       "    <tr>\n",
       "      <th>103</th>\n",
       "      <td>17-10-2020</td>\n",
       "      <td>8:30:00</td>\n",
       "      <td>docetaxel injection</td>\n",
       "      <td>26.0</td>\n",
       "      <td>19.0</td>\n",
       "    </tr>\n",
       "    <tr>\n",
       "      <th>104</th>\n",
       "      <td>17-10-2020</td>\n",
       "      <td>8:30:00</td>\n",
       "      <td>ketamine hydrochloride</td>\n",
       "      <td>11.0</td>\n",
       "      <td>20.0</td>\n",
       "    </tr>\n",
       "    <tr>\n",
       "      <th>105</th>\n",
       "      <td>17-10-2020</td>\n",
       "      <td>9:30:00</td>\n",
       "      <td>diltiazem hydrochloride</td>\n",
       "      <td>9.0</td>\n",
       "      <td>13.0</td>\n",
       "    </tr>\n",
       "    <tr>\n",
       "      <th>106</th>\n",
       "      <td>17-10-2020</td>\n",
       "      <td>9:30:00</td>\n",
       "      <td>docetaxel injection</td>\n",
       "      <td>27.0</td>\n",
       "      <td>20.0</td>\n",
       "    </tr>\n",
       "    <tr>\n",
       "      <th>107</th>\n",
       "      <td>17-10-2020</td>\n",
       "      <td>9:30:00</td>\n",
       "      <td>ketamine hydrochloride</td>\n",
       "      <td>12.0</td>\n",
       "      <td>21.0</td>\n",
       "    </tr>\n",
       "  </tbody>\n",
       "</table>\n",
       "<p>108 rows × 5 columns</p>\n",
       "</div>"
      ],
      "text/plain": [
       "Parameter        Date      time                Drug_Name  Pressure  \\\n",
       "0          15-10-2020  10:30:00  diltiazem hydrochloride      18.0   \n",
       "1          15-10-2020  10:30:00      docetaxel injection      26.0   \n",
       "2          15-10-2020  10:30:00   ketamine hydrochloride       9.0   \n",
       "3          15-10-2020  11:30:00  diltiazem hydrochloride      19.0   \n",
       "4          15-10-2020  11:30:00      docetaxel injection      29.0   \n",
       "..                ...       ...                      ...       ...   \n",
       "103        17-10-2020   8:30:00      docetaxel injection      26.0   \n",
       "104        17-10-2020   8:30:00   ketamine hydrochloride      11.0   \n",
       "105        17-10-2020   9:30:00  diltiazem hydrochloride       9.0   \n",
       "106        17-10-2020   9:30:00      docetaxel injection      27.0   \n",
       "107        17-10-2020   9:30:00   ketamine hydrochloride      12.0   \n",
       "\n",
       "Parameter  Temperature  \n",
       "0                 20.0  \n",
       "1                 23.0  \n",
       "2                 22.0  \n",
       "3                 20.0  \n",
       "4                 25.0  \n",
       "..                 ...  \n",
       "103               19.0  \n",
       "104               20.0  \n",
       "105               13.0  \n",
       "106               20.0  \n",
       "107               21.0  \n",
       "\n",
       "[108 rows x 5 columns]"
      ]
     },
     "execution_count": 17,
     "metadata": {},
     "output_type": "execute_result"
    }
   ],
   "source": [
    "data_tidy = data_tidy.reset_index()\n",
    "data_tidy"
   ]
  },
  {
   "cell_type": "markdown",
   "metadata": {
    "id": "W4ZPuhyuo3JA"
   },
   "source": [
    "We can rename our ```index``` column from `Parameter` to simply `None`"
   ]
  },
  {
   "cell_type": "code",
   "execution_count": 18,
   "metadata": {
    "id": "ERDp82e9n1Ea"
   },
   "outputs": [],
   "source": [
    "data_tidy.columns.name = 'None'"
   ]
  },
  {
   "cell_type": "code",
   "execution_count": 19,
   "metadata": {
    "colab": {
     "base_uri": "https://localhost:8080/",
     "height": 206
    },
    "id": "x6hiEQp8n9gw",
    "outputId": "c0545c45-5a97-4df7-9e96-81fa68d1eb35"
   },
   "outputs": [
    {
     "data": {
      "text/html": [
       "<div>\n",
       "<style scoped>\n",
       "    .dataframe tbody tr th:only-of-type {\n",
       "        vertical-align: middle;\n",
       "    }\n",
       "\n",
       "    .dataframe tbody tr th {\n",
       "        vertical-align: top;\n",
       "    }\n",
       "\n",
       "    .dataframe thead th {\n",
       "        text-align: right;\n",
       "    }\n",
       "</style>\n",
       "<table border=\"1\" class=\"dataframe\">\n",
       "  <thead>\n",
       "    <tr style=\"text-align: right;\">\n",
       "      <th>None</th>\n",
       "      <th>Date</th>\n",
       "      <th>time</th>\n",
       "      <th>Drug_Name</th>\n",
       "      <th>Pressure</th>\n",
       "      <th>Temperature</th>\n",
       "    </tr>\n",
       "  </thead>\n",
       "  <tbody>\n",
       "    <tr>\n",
       "      <th>0</th>\n",
       "      <td>15-10-2020</td>\n",
       "      <td>10:30:00</td>\n",
       "      <td>diltiazem hydrochloride</td>\n",
       "      <td>18.0</td>\n",
       "      <td>20.0</td>\n",
       "    </tr>\n",
       "    <tr>\n",
       "      <th>1</th>\n",
       "      <td>15-10-2020</td>\n",
       "      <td>10:30:00</td>\n",
       "      <td>docetaxel injection</td>\n",
       "      <td>26.0</td>\n",
       "      <td>23.0</td>\n",
       "    </tr>\n",
       "    <tr>\n",
       "      <th>2</th>\n",
       "      <td>15-10-2020</td>\n",
       "      <td>10:30:00</td>\n",
       "      <td>ketamine hydrochloride</td>\n",
       "      <td>9.0</td>\n",
       "      <td>22.0</td>\n",
       "    </tr>\n",
       "    <tr>\n",
       "      <th>3</th>\n",
       "      <td>15-10-2020</td>\n",
       "      <td>11:30:00</td>\n",
       "      <td>diltiazem hydrochloride</td>\n",
       "      <td>19.0</td>\n",
       "      <td>20.0</td>\n",
       "    </tr>\n",
       "    <tr>\n",
       "      <th>4</th>\n",
       "      <td>15-10-2020</td>\n",
       "      <td>11:30:00</td>\n",
       "      <td>docetaxel injection</td>\n",
       "      <td>29.0</td>\n",
       "      <td>25.0</td>\n",
       "    </tr>\n",
       "  </tbody>\n",
       "</table>\n",
       "</div>"
      ],
      "text/plain": [
       "None        Date      time                Drug_Name  Pressure  Temperature\n",
       "0     15-10-2020  10:30:00  diltiazem hydrochloride      18.0         20.0\n",
       "1     15-10-2020  10:30:00      docetaxel injection      26.0         23.0\n",
       "2     15-10-2020  10:30:00   ketamine hydrochloride       9.0         22.0\n",
       "3     15-10-2020  11:30:00  diltiazem hydrochloride      19.0         20.0\n",
       "4     15-10-2020  11:30:00      docetaxel injection      29.0         25.0"
      ]
     },
     "execution_count": 19,
     "metadata": {},
     "output_type": "execute_result"
    }
   ],
   "source": [
    "data_tidy.head()"
   ]
  },
  {
   "cell_type": "markdown",
   "metadata": {
    "id": "GBA2gewhm_pq"
   },
   "source": [
    "### Pivot_table\n",
    "\n"
   ]
  },
  {
   "cell_type": "markdown",
   "metadata": {
    "id": "_mzkjds2lPh0"
   },
   "source": [
    "Now suppose we want to find some insights, like **mean temperature day wise**\n",
    "\n",
    "#### Can we use pivot to find the day-wise mean value of temperature for each drug?"
   ]
  },
  {
   "cell_type": "code",
   "execution_count": 20,
   "metadata": {
    "colab": {
     "base_uri": "https://localhost:8080/",
     "height": 387
    },
    "id": "xSAHQxt_VyZ8",
    "outputId": "b1e466b5-5f55-483f-91ef-794ceff41fa1"
   },
   "outputs": [
    {
     "ename": "ValueError",
     "evalue": "Index contains duplicate entries, cannot reshape",
     "output_type": "error",
     "traceback": [
      "\u001b[1;31m---------------------------------------------------------------------------\u001b[0m",
      "\u001b[1;31mValueError\u001b[0m                                Traceback (most recent call last)",
      "Input \u001b[1;32mIn [20]\u001b[0m, in \u001b[0;36m<cell line: 1>\u001b[1;34m()\u001b[0m\n\u001b[1;32m----> 1\u001b[0m \u001b[43mdata_tidy\u001b[49m\u001b[38;5;241;43m.\u001b[39;49m\u001b[43mpivot\u001b[49m\u001b[43m(\u001b[49m\u001b[43mindex\u001b[49m\u001b[38;5;241;43m=\u001b[39;49m\u001b[43m[\u001b[49m\u001b[38;5;124;43m'\u001b[39;49m\u001b[38;5;124;43mDrug_Name\u001b[39;49m\u001b[38;5;124;43m'\u001b[39;49m\u001b[43m]\u001b[49m\u001b[43m,\u001b[49m\u001b[43m  \u001b[49m\n\u001b[0;32m      2\u001b[0m \u001b[43m                \u001b[49m\u001b[43mcolumns\u001b[49m\u001b[43m \u001b[49m\u001b[38;5;241;43m=\u001b[39;49m\u001b[43m \u001b[49m\u001b[38;5;124;43m'\u001b[39;49m\u001b[38;5;124;43mDate\u001b[39;49m\u001b[38;5;124;43m'\u001b[39;49m\u001b[43m,\u001b[49m\n\u001b[0;32m      3\u001b[0m \u001b[43m                \u001b[49m\u001b[43mvalues\u001b[49m\u001b[38;5;241;43m=\u001b[39;49m\u001b[43m[\u001b[49m\u001b[38;5;124;43m'\u001b[39;49m\u001b[38;5;124;43mTemperature\u001b[39;49m\u001b[38;5;124;43m'\u001b[39;49m\u001b[43m]\u001b[49m\u001b[43m)\u001b[49m\n",
      "File \u001b[1;32m~\\miniconda3\\lib\\site-packages\\pandas\\core\\frame.py:7882\u001b[0m, in \u001b[0;36mDataFrame.pivot\u001b[1;34m(self, index, columns, values)\u001b[0m\n\u001b[0;32m   7877\u001b[0m \u001b[38;5;129m@Substitution\u001b[39m(\u001b[38;5;124m\"\u001b[39m\u001b[38;5;124m\"\u001b[39m)\n\u001b[0;32m   7878\u001b[0m \u001b[38;5;129m@Appender\u001b[39m(_shared_docs[\u001b[38;5;124m\"\u001b[39m\u001b[38;5;124mpivot\u001b[39m\u001b[38;5;124m\"\u001b[39m])\n\u001b[0;32m   7879\u001b[0m \u001b[38;5;28;01mdef\u001b[39;00m \u001b[38;5;21mpivot\u001b[39m(\u001b[38;5;28mself\u001b[39m, index\u001b[38;5;241m=\u001b[39m\u001b[38;5;28;01mNone\u001b[39;00m, columns\u001b[38;5;241m=\u001b[39m\u001b[38;5;28;01mNone\u001b[39;00m, values\u001b[38;5;241m=\u001b[39m\u001b[38;5;28;01mNone\u001b[39;00m) \u001b[38;5;241m-\u001b[39m\u001b[38;5;241m>\u001b[39m DataFrame:\n\u001b[0;32m   7880\u001b[0m     \u001b[38;5;28;01mfrom\u001b[39;00m \u001b[38;5;21;01mpandas\u001b[39;00m\u001b[38;5;21;01m.\u001b[39;00m\u001b[38;5;21;01mcore\u001b[39;00m\u001b[38;5;21;01m.\u001b[39;00m\u001b[38;5;21;01mreshape\u001b[39;00m\u001b[38;5;21;01m.\u001b[39;00m\u001b[38;5;21;01mpivot\u001b[39;00m \u001b[38;5;28;01mimport\u001b[39;00m pivot\n\u001b[1;32m-> 7882\u001b[0m     \u001b[38;5;28;01mreturn\u001b[39;00m \u001b[43mpivot\u001b[49m\u001b[43m(\u001b[49m\u001b[38;5;28;43mself\u001b[39;49m\u001b[43m,\u001b[49m\u001b[43m \u001b[49m\u001b[43mindex\u001b[49m\u001b[38;5;241;43m=\u001b[39;49m\u001b[43mindex\u001b[49m\u001b[43m,\u001b[49m\u001b[43m \u001b[49m\u001b[43mcolumns\u001b[49m\u001b[38;5;241;43m=\u001b[39;49m\u001b[43mcolumns\u001b[49m\u001b[43m,\u001b[49m\u001b[43m \u001b[49m\u001b[43mvalues\u001b[49m\u001b[38;5;241;43m=\u001b[39;49m\u001b[43mvalues\u001b[49m\u001b[43m)\u001b[49m\n",
      "File \u001b[1;32m~\\miniconda3\\lib\\site-packages\\pandas\\core\\reshape\\pivot.py:520\u001b[0m, in \u001b[0;36mpivot\u001b[1;34m(data, index, columns, values)\u001b[0m\n\u001b[0;32m    518\u001b[0m     \u001b[38;5;28;01melse\u001b[39;00m:\n\u001b[0;32m    519\u001b[0m         indexed \u001b[38;5;241m=\u001b[39m data\u001b[38;5;241m.\u001b[39m_constructor_sliced(data[values]\u001b[38;5;241m.\u001b[39m_values, index\u001b[38;5;241m=\u001b[39mmultiindex)\n\u001b[1;32m--> 520\u001b[0m \u001b[38;5;28;01mreturn\u001b[39;00m \u001b[43mindexed\u001b[49m\u001b[38;5;241;43m.\u001b[39;49m\u001b[43munstack\u001b[49m\u001b[43m(\u001b[49m\u001b[43mcolumns_listlike\u001b[49m\u001b[43m)\u001b[49m\n",
      "File \u001b[1;32m~\\miniconda3\\lib\\site-packages\\pandas\\core\\frame.py:8425\u001b[0m, in \u001b[0;36mDataFrame.unstack\u001b[1;34m(self, level, fill_value)\u001b[0m\n\u001b[0;32m   8363\u001b[0m \u001b[38;5;124;03m\"\"\"\u001b[39;00m\n\u001b[0;32m   8364\u001b[0m \u001b[38;5;124;03mPivot a level of the (necessarily hierarchical) index labels.\u001b[39;00m\n\u001b[0;32m   8365\u001b[0m \n\u001b[1;32m   (...)\u001b[0m\n\u001b[0;32m   8421\u001b[0m \u001b[38;5;124;03mdtype: float64\u001b[39;00m\n\u001b[0;32m   8422\u001b[0m \u001b[38;5;124;03m\"\"\"\u001b[39;00m\n\u001b[0;32m   8423\u001b[0m \u001b[38;5;28;01mfrom\u001b[39;00m \u001b[38;5;21;01mpandas\u001b[39;00m\u001b[38;5;21;01m.\u001b[39;00m\u001b[38;5;21;01mcore\u001b[39;00m\u001b[38;5;21;01m.\u001b[39;00m\u001b[38;5;21;01mreshape\u001b[39;00m\u001b[38;5;21;01m.\u001b[39;00m\u001b[38;5;21;01mreshape\u001b[39;00m \u001b[38;5;28;01mimport\u001b[39;00m unstack\n\u001b[1;32m-> 8425\u001b[0m result \u001b[38;5;241m=\u001b[39m \u001b[43munstack\u001b[49m\u001b[43m(\u001b[49m\u001b[38;5;28;43mself\u001b[39;49m\u001b[43m,\u001b[49m\u001b[43m \u001b[49m\u001b[43mlevel\u001b[49m\u001b[43m,\u001b[49m\u001b[43m \u001b[49m\u001b[43mfill_value\u001b[49m\u001b[43m)\u001b[49m\n\u001b[0;32m   8427\u001b[0m \u001b[38;5;28;01mreturn\u001b[39;00m result\u001b[38;5;241m.\u001b[39m__finalize__(\u001b[38;5;28mself\u001b[39m, method\u001b[38;5;241m=\u001b[39m\u001b[38;5;124m\"\u001b[39m\u001b[38;5;124munstack\u001b[39m\u001b[38;5;124m\"\u001b[39m)\n",
      "File \u001b[1;32m~\\miniconda3\\lib\\site-packages\\pandas\\core\\reshape\\reshape.py:478\u001b[0m, in \u001b[0;36munstack\u001b[1;34m(obj, level, fill_value)\u001b[0m\n\u001b[0;32m    476\u001b[0m \u001b[38;5;28;01mif\u001b[39;00m \u001b[38;5;28misinstance\u001b[39m(obj, DataFrame):\n\u001b[0;32m    477\u001b[0m     \u001b[38;5;28;01mif\u001b[39;00m \u001b[38;5;28misinstance\u001b[39m(obj\u001b[38;5;241m.\u001b[39mindex, MultiIndex):\n\u001b[1;32m--> 478\u001b[0m         \u001b[38;5;28;01mreturn\u001b[39;00m \u001b[43m_unstack_frame\u001b[49m\u001b[43m(\u001b[49m\u001b[43mobj\u001b[49m\u001b[43m,\u001b[49m\u001b[43m \u001b[49m\u001b[43mlevel\u001b[49m\u001b[43m,\u001b[49m\u001b[43m \u001b[49m\u001b[43mfill_value\u001b[49m\u001b[38;5;241;43m=\u001b[39;49m\u001b[43mfill_value\u001b[49m\u001b[43m)\u001b[49m\n\u001b[0;32m    479\u001b[0m     \u001b[38;5;28;01melse\u001b[39;00m:\n\u001b[0;32m    480\u001b[0m         \u001b[38;5;28;01mreturn\u001b[39;00m obj\u001b[38;5;241m.\u001b[39mT\u001b[38;5;241m.\u001b[39mstack(dropna\u001b[38;5;241m=\u001b[39m\u001b[38;5;28;01mFalse\u001b[39;00m)\n",
      "File \u001b[1;32m~\\miniconda3\\lib\\site-packages\\pandas\\core\\reshape\\reshape.py:505\u001b[0m, in \u001b[0;36m_unstack_frame\u001b[1;34m(obj, level, fill_value)\u001b[0m\n\u001b[0;32m    503\u001b[0m     \u001b[38;5;28;01mreturn\u001b[39;00m obj\u001b[38;5;241m.\u001b[39m_constructor(mgr)\n\u001b[0;32m    504\u001b[0m \u001b[38;5;28;01melse\u001b[39;00m:\n\u001b[1;32m--> 505\u001b[0m     unstacker \u001b[38;5;241m=\u001b[39m \u001b[43m_Unstacker\u001b[49m\u001b[43m(\u001b[49m\u001b[43mobj\u001b[49m\u001b[38;5;241;43m.\u001b[39;49m\u001b[43mindex\u001b[49m\u001b[43m,\u001b[49m\u001b[43m \u001b[49m\u001b[43mlevel\u001b[49m\u001b[38;5;241;43m=\u001b[39;49m\u001b[43mlevel\u001b[49m\u001b[43m,\u001b[49m\u001b[43m \u001b[49m\u001b[43mconstructor\u001b[49m\u001b[38;5;241;43m=\u001b[39;49m\u001b[43mobj\u001b[49m\u001b[38;5;241;43m.\u001b[39;49m\u001b[43m_constructor\u001b[49m\u001b[43m)\u001b[49m\n\u001b[0;32m    506\u001b[0m     \u001b[38;5;28;01mreturn\u001b[39;00m unstacker\u001b[38;5;241m.\u001b[39mget_result(\n\u001b[0;32m    507\u001b[0m         obj\u001b[38;5;241m.\u001b[39m_values, value_columns\u001b[38;5;241m=\u001b[39mobj\u001b[38;5;241m.\u001b[39mcolumns, fill_value\u001b[38;5;241m=\u001b[39mfill_value\n\u001b[0;32m    508\u001b[0m     )\n",
      "File \u001b[1;32m~\\miniconda3\\lib\\site-packages\\pandas\\core\\reshape\\reshape.py:140\u001b[0m, in \u001b[0;36m_Unstacker.__init__\u001b[1;34m(self, index, level, constructor)\u001b[0m\n\u001b[0;32m    133\u001b[0m \u001b[38;5;28;01mif\u001b[39;00m num_cells \u001b[38;5;241m>\u001b[39m np\u001b[38;5;241m.\u001b[39miinfo(np\u001b[38;5;241m.\u001b[39mint32)\u001b[38;5;241m.\u001b[39mmax:\n\u001b[0;32m    134\u001b[0m     warnings\u001b[38;5;241m.\u001b[39mwarn(\n\u001b[0;32m    135\u001b[0m         \u001b[38;5;124mf\u001b[39m\u001b[38;5;124m\"\u001b[39m\u001b[38;5;124mThe following operation may generate \u001b[39m\u001b[38;5;132;01m{\u001b[39;00mnum_cells\u001b[38;5;132;01m}\u001b[39;00m\u001b[38;5;124m cells \u001b[39m\u001b[38;5;124m\"\u001b[39m\n\u001b[0;32m    136\u001b[0m         \u001b[38;5;124mf\u001b[39m\u001b[38;5;124m\"\u001b[39m\u001b[38;5;124min the resulting pandas object.\u001b[39m\u001b[38;5;124m\"\u001b[39m,\n\u001b[0;32m    137\u001b[0m         PerformanceWarning,\n\u001b[0;32m    138\u001b[0m     )\n\u001b[1;32m--> 140\u001b[0m \u001b[38;5;28;43mself\u001b[39;49m\u001b[38;5;241;43m.\u001b[39;49m\u001b[43m_make_selectors\u001b[49m\u001b[43m(\u001b[49m\u001b[43m)\u001b[49m\n",
      "File \u001b[1;32m~\\miniconda3\\lib\\site-packages\\pandas\\core\\reshape\\reshape.py:192\u001b[0m, in \u001b[0;36m_Unstacker._make_selectors\u001b[1;34m(self)\u001b[0m\n\u001b[0;32m    189\u001b[0m mask\u001b[38;5;241m.\u001b[39mput(selector, \u001b[38;5;28;01mTrue\u001b[39;00m)\n\u001b[0;32m    191\u001b[0m \u001b[38;5;28;01mif\u001b[39;00m mask\u001b[38;5;241m.\u001b[39msum() \u001b[38;5;241m<\u001b[39m \u001b[38;5;28mlen\u001b[39m(\u001b[38;5;28mself\u001b[39m\u001b[38;5;241m.\u001b[39mindex):\n\u001b[1;32m--> 192\u001b[0m     \u001b[38;5;28;01mraise\u001b[39;00m \u001b[38;5;167;01mValueError\u001b[39;00m(\u001b[38;5;124m\"\u001b[39m\u001b[38;5;124mIndex contains duplicate entries, cannot reshape\u001b[39m\u001b[38;5;124m\"\u001b[39m)\n\u001b[0;32m    194\u001b[0m \u001b[38;5;28mself\u001b[39m\u001b[38;5;241m.\u001b[39mgroup_index \u001b[38;5;241m=\u001b[39m comp_index\n\u001b[0;32m    195\u001b[0m \u001b[38;5;28mself\u001b[39m\u001b[38;5;241m.\u001b[39mmask \u001b[38;5;241m=\u001b[39m mask\n",
      "\u001b[1;31mValueError\u001b[0m: Index contains duplicate entries, cannot reshape"
     ]
    }
   ],
   "source": [
    "data_tidy.pivot(index=['Drug_Name'],  \n",
    "                columns = 'Date',\n",
    "                values=['Temperature']) "
   ]
  },
  {
   "cell_type": "markdown",
   "metadata": {
    "id": "wCxPJ3X2lxqm"
   },
   "source": [
    "#### Why did we get an error?\n",
    "\n",
    "- We need to find the **average** of temperature values throughout a day\n",
    "\n",
    "- If you notice, the error shows **duplicate entries.**\n",
    "\n",
    "Hence the index values should be unique entry for each row.\n",
    "\n",
    "#### What can we do to get our required mean values then?\n"
   ]
  },
  {
   "cell_type": "code",
   "execution_count": 21,
   "metadata": {
    "colab": {
     "base_uri": "https://localhost:8080/",
     "height": 206
    },
    "id": "AvRFvCtEcMXv",
    "outputId": "7f585d50-fce3-45d1-f2f5-0bd3095a04e7"
   },
   "outputs": [
    {
     "data": {
      "text/html": [
       "<div>\n",
       "<style scoped>\n",
       "    .dataframe tbody tr th:only-of-type {\n",
       "        vertical-align: middle;\n",
       "    }\n",
       "\n",
       "    .dataframe tbody tr th {\n",
       "        vertical-align: top;\n",
       "    }\n",
       "\n",
       "    .dataframe thead tr th {\n",
       "        text-align: left;\n",
       "    }\n",
       "\n",
       "    .dataframe thead tr:last-of-type th {\n",
       "        text-align: right;\n",
       "    }\n",
       "</style>\n",
       "<table border=\"1\" class=\"dataframe\">\n",
       "  <thead>\n",
       "    <tr>\n",
       "      <th>None</th>\n",
       "      <th colspan=\"3\" halign=\"left\">Temperature</th>\n",
       "    </tr>\n",
       "    <tr>\n",
       "      <th>Date</th>\n",
       "      <th>15-10-2020</th>\n",
       "      <th>16-10-2020</th>\n",
       "      <th>17-10-2020</th>\n",
       "    </tr>\n",
       "    <tr>\n",
       "      <th>Drug_Name</th>\n",
       "      <th></th>\n",
       "      <th></th>\n",
       "      <th></th>\n",
       "    </tr>\n",
       "  </thead>\n",
       "  <tbody>\n",
       "    <tr>\n",
       "      <th>diltiazem hydrochloride</th>\n",
       "      <td>21.454545</td>\n",
       "      <td>37.454545</td>\n",
       "      <td>15.636364</td>\n",
       "    </tr>\n",
       "    <tr>\n",
       "      <th>docetaxel injection</th>\n",
       "      <td>20.750000</td>\n",
       "      <td>51.454545</td>\n",
       "      <td>17.500000</td>\n",
       "    </tr>\n",
       "    <tr>\n",
       "      <th>ketamine hydrochloride</th>\n",
       "      <td>23.555556</td>\n",
       "      <td>11.500000</td>\n",
       "      <td>18.500000</td>\n",
       "    </tr>\n",
       "  </tbody>\n",
       "</table>\n",
       "</div>"
      ],
      "text/plain": [
       "None                    Temperature                      \n",
       "Date                     15-10-2020 16-10-2020 17-10-2020\n",
       "Drug_Name                                                \n",
       "diltiazem hydrochloride   21.454545  37.454545  15.636364\n",
       "docetaxel injection       20.750000  51.454545  17.500000\n",
       "ketamine hydrochloride    23.555556  11.500000  18.500000"
      ]
     },
     "execution_count": 21,
     "metadata": {},
     "output_type": "execute_result"
    }
   ],
   "source": [
    "pd.pivot_table(data_tidy, index='Drug_Name', columns='Date', values=['Temperature'], aggfunc=np.mean)"
   ]
  },
  {
   "cell_type": "markdown",
   "metadata": {
    "id": "3a1As6R8mRjP"
   },
   "source": [
    "This function is similar to pivot, with an extra feature of an aggregator\n",
    "\n",
    "#### How does `pivot_table` work?\n",
    "- The initial parameters are same as how we do in `pivot()`\n",
    "- As an extra parameter, we pass the **type of aggregator**\n",
    "\n",
    "Note:\n",
    "\n",
    "- We could have done this using `groupby` too\n",
    "\n",
    "- In fact, `pivot_table` uses `groupby` in the backend to group the data and perform the aggregration\n",
    "\n",
    "- The only difference is in the type of output we get using both functions\n",
    "\n"
   ]
  },
  {
   "cell_type": "markdown",
   "metadata": {
    "id": "88nCLPtP95Q4"
   },
   "source": [
    "#### Similarly, what if we want to find the minimum values of temperature and pressure on a particular date?"
   ]
  },
  {
   "cell_type": "code",
   "execution_count": 22,
   "metadata": {
    "colab": {
     "base_uri": "https://localhost:8080/",
     "height": 302
    },
    "id": "T421Poei96e7",
    "outputId": "63d876ba-cf54-45bd-bfb1-8aad8c4bd261"
   },
   "outputs": [
    {
     "data": {
      "text/html": [
       "<div>\n",
       "<style scoped>\n",
       "    .dataframe tbody tr th:only-of-type {\n",
       "        vertical-align: middle;\n",
       "    }\n",
       "\n",
       "    .dataframe tbody tr th {\n",
       "        vertical-align: top;\n",
       "    }\n",
       "\n",
       "    .dataframe thead tr th {\n",
       "        text-align: left;\n",
       "    }\n",
       "\n",
       "    .dataframe thead tr:last-of-type th {\n",
       "        text-align: right;\n",
       "    }\n",
       "</style>\n",
       "<table border=\"1\" class=\"dataframe\">\n",
       "  <thead>\n",
       "    <tr>\n",
       "      <th>None</th>\n",
       "      <th colspan=\"3\" halign=\"left\">Pressure</th>\n",
       "      <th colspan=\"3\" halign=\"left\">Temperature</th>\n",
       "    </tr>\n",
       "    <tr>\n",
       "      <th>Date</th>\n",
       "      <th>15-10-2020</th>\n",
       "      <th>16-10-2020</th>\n",
       "      <th>17-10-2020</th>\n",
       "      <th>15-10-2020</th>\n",
       "      <th>16-10-2020</th>\n",
       "      <th>17-10-2020</th>\n",
       "    </tr>\n",
       "    <tr>\n",
       "      <th>Drug_Name</th>\n",
       "      <th></th>\n",
       "      <th></th>\n",
       "      <th></th>\n",
       "      <th></th>\n",
       "      <th></th>\n",
       "      <th></th>\n",
       "    </tr>\n",
       "  </thead>\n",
       "  <tbody>\n",
       "    <tr>\n",
       "      <th>diltiazem hydrochloride</th>\n",
       "      <td>11.0</td>\n",
       "      <td>18.0</td>\n",
       "      <td>3.0</td>\n",
       "      <td>20.0</td>\n",
       "      <td>34.0</td>\n",
       "      <td>10.0</td>\n",
       "    </tr>\n",
       "    <tr>\n",
       "      <th>docetaxel injection</th>\n",
       "      <td>22.0</td>\n",
       "      <td>23.0</td>\n",
       "      <td>20.0</td>\n",
       "      <td>17.0</td>\n",
       "      <td>46.0</td>\n",
       "      <td>12.0</td>\n",
       "    </tr>\n",
       "    <tr>\n",
       "      <th>ketamine hydrochloride</th>\n",
       "      <td>7.0</td>\n",
       "      <td>12.0</td>\n",
       "      <td>8.0</td>\n",
       "      <td>20.0</td>\n",
       "      <td>8.0</td>\n",
       "      <td>13.0</td>\n",
       "    </tr>\n",
       "  </tbody>\n",
       "</table>\n",
       "</div>"
      ],
      "text/plain": [
       "None                      Pressure                       Temperature  \\\n",
       "Date                    15-10-2020 16-10-2020 17-10-2020  15-10-2020   \n",
       "Drug_Name                                                              \n",
       "diltiazem hydrochloride       11.0       18.0        3.0        20.0   \n",
       "docetaxel injection           22.0       23.0       20.0        17.0   \n",
       "ketamine hydrochloride         7.0       12.0        8.0        20.0   \n",
       "\n",
       "None                                           \n",
       "Date                    16-10-2020 17-10-2020  \n",
       "Drug_Name                                      \n",
       "diltiazem hydrochloride       34.0       10.0  \n",
       "docetaxel injection           46.0       12.0  \n",
       "ketamine hydrochloride         8.0       13.0  "
      ]
     },
     "execution_count": 22,
     "metadata": {},
     "output_type": "execute_result"
    }
   ],
   "source": [
    "pd.pivot_table(data_tidy, index='Drug_Name', columns='Date', values=['Temperature', 'Pressure'], aggfunc=np.min)"
   ]
  },
  {
   "cell_type": "markdown",
   "metadata": {
    "id": "htP1FKuZ8zTE"
   },
   "source": [
    "### Handling Missing Values\n"
   ]
  },
  {
   "cell_type": "markdown",
   "metadata": {
    "id": "10f31e67"
   },
   "source": [
    "\n",
    "If you notive, there are many \"NaN\" values in our data"
   ]
  },
  {
   "cell_type": "code",
   "execution_count": 23,
   "metadata": {
    "colab": {
     "base_uri": "https://localhost:8080/",
     "height": 206
    },
    "id": "e_jC-94k8OxC",
    "outputId": "94c40a9f-426b-45e8-db11-7ee199cde987"
   },
   "outputs": [
    {
     "data": {
      "text/html": [
       "<div>\n",
       "<style scoped>\n",
       "    .dataframe tbody tr th:only-of-type {\n",
       "        vertical-align: middle;\n",
       "    }\n",
       "\n",
       "    .dataframe tbody tr th {\n",
       "        vertical-align: top;\n",
       "    }\n",
       "\n",
       "    .dataframe thead th {\n",
       "        text-align: right;\n",
       "    }\n",
       "</style>\n",
       "<table border=\"1\" class=\"dataframe\">\n",
       "  <thead>\n",
       "    <tr style=\"text-align: right;\">\n",
       "      <th>None</th>\n",
       "      <th>Date</th>\n",
       "      <th>time</th>\n",
       "      <th>Drug_Name</th>\n",
       "      <th>Pressure</th>\n",
       "      <th>Temperature</th>\n",
       "    </tr>\n",
       "  </thead>\n",
       "  <tbody>\n",
       "    <tr>\n",
       "      <th>0</th>\n",
       "      <td>15-10-2020</td>\n",
       "      <td>10:30:00</td>\n",
       "      <td>diltiazem hydrochloride</td>\n",
       "      <td>18.0</td>\n",
       "      <td>20.0</td>\n",
       "    </tr>\n",
       "    <tr>\n",
       "      <th>1</th>\n",
       "      <td>15-10-2020</td>\n",
       "      <td>10:30:00</td>\n",
       "      <td>docetaxel injection</td>\n",
       "      <td>26.0</td>\n",
       "      <td>23.0</td>\n",
       "    </tr>\n",
       "    <tr>\n",
       "      <th>2</th>\n",
       "      <td>15-10-2020</td>\n",
       "      <td>10:30:00</td>\n",
       "      <td>ketamine hydrochloride</td>\n",
       "      <td>9.0</td>\n",
       "      <td>22.0</td>\n",
       "    </tr>\n",
       "    <tr>\n",
       "      <th>3</th>\n",
       "      <td>15-10-2020</td>\n",
       "      <td>11:30:00</td>\n",
       "      <td>diltiazem hydrochloride</td>\n",
       "      <td>19.0</td>\n",
       "      <td>20.0</td>\n",
       "    </tr>\n",
       "    <tr>\n",
       "      <th>4</th>\n",
       "      <td>15-10-2020</td>\n",
       "      <td>11:30:00</td>\n",
       "      <td>docetaxel injection</td>\n",
       "      <td>29.0</td>\n",
       "      <td>25.0</td>\n",
       "    </tr>\n",
       "  </tbody>\n",
       "</table>\n",
       "</div>"
      ],
      "text/plain": [
       "None        Date      time                Drug_Name  Pressure  Temperature\n",
       "0     15-10-2020  10:30:00  diltiazem hydrochloride      18.0         20.0\n",
       "1     15-10-2020  10:30:00      docetaxel injection      26.0         23.0\n",
       "2     15-10-2020  10:30:00   ketamine hydrochloride       9.0         22.0\n",
       "3     15-10-2020  11:30:00  diltiazem hydrochloride      19.0         20.0\n",
       "4     15-10-2020  11:30:00      docetaxel injection      29.0         25.0"
      ]
     },
     "execution_count": 23,
     "metadata": {},
     "output_type": "execute_result"
    }
   ],
   "source": [
    "data_tidy.head()"
   ]
  },
  {
   "cell_type": "markdown",
   "metadata": {
    "id": "qaXCorOo8TFs"
   },
   "source": [
    "#### What are these \"NaN\" values?\n",
    "They are basically **missing values**\n",
    "\n",
    "#### What are missing values?\n",
    "A Missing Value signifies an **empty cell/no data**\n",
    "\n",
    "There can be 2 kinds of missing values:\n",
    "\n",
    "  1. `None`\n",
    "  2. `NaN` (short for Not a Number)\n",
    "\n",
    "#### Whats the difference between the \"None\" and \"NaN\"?\n",
    "\n",
    "The diff mainly lies in their datatype"
   ]
  },
  {
   "cell_type": "code",
   "execution_count": 24,
   "metadata": {
    "colab": {
     "base_uri": "https://localhost:8080/"
    },
    "id": "TF2GqlcRzLYV",
    "outputId": "419a4086-a9a9-45ea-b37d-f92050bee430"
   },
   "outputs": [
    {
     "data": {
      "text/plain": [
       "NoneType"
      ]
     },
     "execution_count": 24,
     "metadata": {},
     "output_type": "execute_result"
    }
   ],
   "source": [
    "type(None)"
   ]
  },
  {
   "cell_type": "code",
   "execution_count": 25,
   "metadata": {
    "colab": {
     "base_uri": "https://localhost:8080/"
    },
    "id": "3ZaIEibJzNGi",
    "outputId": "00d865b1-b590-4456-e416-c87a7a564e07"
   },
   "outputs": [
    {
     "data": {
      "text/plain": [
       "float"
      ]
     },
     "execution_count": 25,
     "metadata": {},
     "output_type": "execute_result"
    }
   ],
   "source": [
    "type(np.nan)"
   ]
  },
  {
   "cell_type": "markdown",
   "metadata": {
    "id": "tBs0mw7tzZHO"
   },
   "source": [
    "**None type** is for missing values in a column with **non-number entries** \n",
    "- E.g.-strings\n",
    "\n",
    "**NaN** occurs for columns with **number entries**\n",
    "\n",
    "Note:\n",
    "\n",
    "Pandas uses these values nearly **interchangeably**, converting between them where appropriate, based on column datatype"
   ]
  },
  {
   "cell_type": "code",
   "execution_count": 26,
   "metadata": {
    "colab": {
     "base_uri": "https://localhost:8080/"
    },
    "id": "H7HX5KEqz4l8",
    "outputId": "80ddb2d6-078a-494a-e457-624c2a5336ab"
   },
   "outputs": [
    {
     "data": {
      "text/plain": [
       "0    1.0\n",
       "1    NaN\n",
       "2    2.0\n",
       "3    NaN\n",
       "dtype: float64"
      ]
     },
     "execution_count": 26,
     "metadata": {},
     "output_type": "execute_result"
    }
   ],
   "source": [
    "pd.Series([1, np.nan, 2, None])"
   ]
  },
  {
   "cell_type": "markdown",
   "metadata": {
    "id": "Yv83tVn1S6x6"
   },
   "source": [
    "For **numerical** types, Pandas changes **None to NaN** type\n"
   ]
  },
  {
   "cell_type": "code",
   "execution_count": 27,
   "metadata": {
    "colab": {
     "base_uri": "https://localhost:8080/"
    },
    "id": "B2cgDCpiCXt6",
    "outputId": "5afb065c-eacb-4bf2-e5d8-27d44690ddfb"
   },
   "outputs": [
    {
     "data": {
      "text/plain": [
       "0         1\n",
       "1    np.nan\n",
       "2         2\n",
       "3      None\n",
       "dtype: object"
      ]
     },
     "execution_count": 27,
     "metadata": {},
     "output_type": "execute_result"
    }
   ],
   "source": [
    "pd.Series([\"1\", \"np.nan\", \"2\", None])"
   ]
  },
  {
   "cell_type": "code",
   "execution_count": 28,
   "metadata": {
    "colab": {
     "base_uri": "https://localhost:8080/"
    },
    "id": "0tYJ4FlFCfjN",
    "outputId": "d11d3144-d591-4729-9cda-44d08b9962ae"
   },
   "outputs": [
    {
     "data": {
      "text/plain": [
       "0         1\n",
       "1    np.nan\n",
       "2         2\n",
       "3       NaN\n",
       "dtype: object"
      ]
     },
     "execution_count": 28,
     "metadata": {},
     "output_type": "execute_result"
    }
   ],
   "source": [
    "pd.Series([\"1\", \"np.nan\", \"2\", np.nan])"
   ]
  },
  {
   "cell_type": "markdown",
   "metadata": {
    "id": "tYoW904gSiAy"
   },
   "source": [
    "For **object** type, the **None is preserved** and not changed to NaN"
   ]
  },
  {
   "cell_type": "markdown",
   "metadata": {
    "id": "wVCj-HeOQl5B"
   },
   "source": [
    "Now we have the basic idea about missing values\n",
    "\n",
    "#### How to know the count of missing values for each row/column?\n"
   ]
  },
  {
   "cell_type": "code",
   "execution_count": 29,
   "metadata": {
    "colab": {
     "base_uri": "https://localhost:8080/",
     "height": 270
    },
    "id": "b2iauT1QQ2q8",
    "outputId": "86327693-56af-47f4-e58c-81ceaa2b04f4"
   },
   "outputs": [
    {
     "data": {
      "text/html": [
       "<div>\n",
       "<style scoped>\n",
       "    .dataframe tbody tr th:only-of-type {\n",
       "        vertical-align: middle;\n",
       "    }\n",
       "\n",
       "    .dataframe tbody tr th {\n",
       "        vertical-align: top;\n",
       "    }\n",
       "\n",
       "    .dataframe thead th {\n",
       "        text-align: right;\n",
       "    }\n",
       "</style>\n",
       "<table border=\"1\" class=\"dataframe\">\n",
       "  <thead>\n",
       "    <tr style=\"text-align: right;\">\n",
       "      <th></th>\n",
       "      <th>Date</th>\n",
       "      <th>Drug_Name</th>\n",
       "      <th>Parameter</th>\n",
       "      <th>1:30:00</th>\n",
       "      <th>2:30:00</th>\n",
       "      <th>3:30:00</th>\n",
       "      <th>4:30:00</th>\n",
       "      <th>5:30:00</th>\n",
       "      <th>6:30:00</th>\n",
       "      <th>7:30:00</th>\n",
       "      <th>8:30:00</th>\n",
       "      <th>9:30:00</th>\n",
       "      <th>10:30:00</th>\n",
       "      <th>11:30:00</th>\n",
       "      <th>12:30:00</th>\n",
       "    </tr>\n",
       "  </thead>\n",
       "  <tbody>\n",
       "    <tr>\n",
       "      <th>0</th>\n",
       "      <td>False</td>\n",
       "      <td>False</td>\n",
       "      <td>False</td>\n",
       "      <td>False</td>\n",
       "      <td>False</td>\n",
       "      <td>True</td>\n",
       "      <td>False</td>\n",
       "      <td>False</td>\n",
       "      <td>False</td>\n",
       "      <td>False</td>\n",
       "      <td>False</td>\n",
       "      <td>False</td>\n",
       "      <td>False</td>\n",
       "      <td>False</td>\n",
       "      <td>False</td>\n",
       "    </tr>\n",
       "    <tr>\n",
       "      <th>1</th>\n",
       "      <td>False</td>\n",
       "      <td>False</td>\n",
       "      <td>False</td>\n",
       "      <td>False</td>\n",
       "      <td>False</td>\n",
       "      <td>True</td>\n",
       "      <td>False</td>\n",
       "      <td>False</td>\n",
       "      <td>False</td>\n",
       "      <td>False</td>\n",
       "      <td>False</td>\n",
       "      <td>False</td>\n",
       "      <td>False</td>\n",
       "      <td>False</td>\n",
       "      <td>False</td>\n",
       "    </tr>\n",
       "    <tr>\n",
       "      <th>2</th>\n",
       "      <td>False</td>\n",
       "      <td>False</td>\n",
       "      <td>False</td>\n",
       "      <td>True</td>\n",
       "      <td>False</td>\n",
       "      <td>False</td>\n",
       "      <td>True</td>\n",
       "      <td>False</td>\n",
       "      <td>False</td>\n",
       "      <td>True</td>\n",
       "      <td>True</td>\n",
       "      <td>False</td>\n",
       "      <td>False</td>\n",
       "      <td>False</td>\n",
       "      <td>False</td>\n",
       "    </tr>\n",
       "    <tr>\n",
       "      <th>3</th>\n",
       "      <td>False</td>\n",
       "      <td>False</td>\n",
       "      <td>False</td>\n",
       "      <td>True</td>\n",
       "      <td>False</td>\n",
       "      <td>False</td>\n",
       "      <td>True</td>\n",
       "      <td>False</td>\n",
       "      <td>False</td>\n",
       "      <td>True</td>\n",
       "      <td>True</td>\n",
       "      <td>False</td>\n",
       "      <td>False</td>\n",
       "      <td>False</td>\n",
       "      <td>False</td>\n",
       "    </tr>\n",
       "    <tr>\n",
       "      <th>4</th>\n",
       "      <td>False</td>\n",
       "      <td>False</td>\n",
       "      <td>False</td>\n",
       "      <td>False</td>\n",
       "      <td>True</td>\n",
       "      <td>True</td>\n",
       "      <td>False</td>\n",
       "      <td>True</td>\n",
       "      <td>False</td>\n",
       "      <td>False</td>\n",
       "      <td>False</td>\n",
       "      <td>False</td>\n",
       "      <td>False</td>\n",
       "      <td>False</td>\n",
       "      <td>False</td>\n",
       "    </tr>\n",
       "  </tbody>\n",
       "</table>\n",
       "</div>"
      ],
      "text/plain": [
       "    Date  Drug_Name  Parameter  1:30:00  2:30:00  3:30:00  4:30:00  5:30:00  \\\n",
       "0  False      False      False    False    False     True    False    False   \n",
       "1  False      False      False    False    False     True    False    False   \n",
       "2  False      False      False     True    False    False     True    False   \n",
       "3  False      False      False     True    False    False     True    False   \n",
       "4  False      False      False    False     True     True    False     True   \n",
       "\n",
       "   6:30:00  7:30:00  8:30:00  9:30:00  10:30:00  11:30:00  12:30:00  \n",
       "0    False    False    False    False     False     False     False  \n",
       "1    False    False    False    False     False     False     False  \n",
       "2    False     True     True    False     False     False     False  \n",
       "3    False     True     True    False     False     False     False  \n",
       "4    False    False    False    False     False     False     False  "
      ]
     },
     "execution_count": 29,
     "metadata": {},
     "output_type": "execute_result"
    }
   ],
   "source": [
    "data.isna().head()"
   ]
  },
  {
   "cell_type": "markdown",
   "metadata": {
    "id": "UTGurdSuF87y"
   },
   "source": [
    "We can also use isnull to get the same results"
   ]
  },
  {
   "cell_type": "code",
   "execution_count": 30,
   "metadata": {
    "colab": {
     "base_uri": "https://localhost:8080/",
     "height": 270
    },
    "id": "3LVCFS9SGGDJ",
    "outputId": "d1aeef0c-7760-4490-d813-12144fd67181"
   },
   "outputs": [
    {
     "data": {
      "text/html": [
       "<div>\n",
       "<style scoped>\n",
       "    .dataframe tbody tr th:only-of-type {\n",
       "        vertical-align: middle;\n",
       "    }\n",
       "\n",
       "    .dataframe tbody tr th {\n",
       "        vertical-align: top;\n",
       "    }\n",
       "\n",
       "    .dataframe thead th {\n",
       "        text-align: right;\n",
       "    }\n",
       "</style>\n",
       "<table border=\"1\" class=\"dataframe\">\n",
       "  <thead>\n",
       "    <tr style=\"text-align: right;\">\n",
       "      <th></th>\n",
       "      <th>Date</th>\n",
       "      <th>Drug_Name</th>\n",
       "      <th>Parameter</th>\n",
       "      <th>1:30:00</th>\n",
       "      <th>2:30:00</th>\n",
       "      <th>3:30:00</th>\n",
       "      <th>4:30:00</th>\n",
       "      <th>5:30:00</th>\n",
       "      <th>6:30:00</th>\n",
       "      <th>7:30:00</th>\n",
       "      <th>8:30:00</th>\n",
       "      <th>9:30:00</th>\n",
       "      <th>10:30:00</th>\n",
       "      <th>11:30:00</th>\n",
       "      <th>12:30:00</th>\n",
       "    </tr>\n",
       "  </thead>\n",
       "  <tbody>\n",
       "    <tr>\n",
       "      <th>0</th>\n",
       "      <td>False</td>\n",
       "      <td>False</td>\n",
       "      <td>False</td>\n",
       "      <td>False</td>\n",
       "      <td>False</td>\n",
       "      <td>True</td>\n",
       "      <td>False</td>\n",
       "      <td>False</td>\n",
       "      <td>False</td>\n",
       "      <td>False</td>\n",
       "      <td>False</td>\n",
       "      <td>False</td>\n",
       "      <td>False</td>\n",
       "      <td>False</td>\n",
       "      <td>False</td>\n",
       "    </tr>\n",
       "    <tr>\n",
       "      <th>1</th>\n",
       "      <td>False</td>\n",
       "      <td>False</td>\n",
       "      <td>False</td>\n",
       "      <td>False</td>\n",
       "      <td>False</td>\n",
       "      <td>True</td>\n",
       "      <td>False</td>\n",
       "      <td>False</td>\n",
       "      <td>False</td>\n",
       "      <td>False</td>\n",
       "      <td>False</td>\n",
       "      <td>False</td>\n",
       "      <td>False</td>\n",
       "      <td>False</td>\n",
       "      <td>False</td>\n",
       "    </tr>\n",
       "    <tr>\n",
       "      <th>2</th>\n",
       "      <td>False</td>\n",
       "      <td>False</td>\n",
       "      <td>False</td>\n",
       "      <td>True</td>\n",
       "      <td>False</td>\n",
       "      <td>False</td>\n",
       "      <td>True</td>\n",
       "      <td>False</td>\n",
       "      <td>False</td>\n",
       "      <td>True</td>\n",
       "      <td>True</td>\n",
       "      <td>False</td>\n",
       "      <td>False</td>\n",
       "      <td>False</td>\n",
       "      <td>False</td>\n",
       "    </tr>\n",
       "    <tr>\n",
       "      <th>3</th>\n",
       "      <td>False</td>\n",
       "      <td>False</td>\n",
       "      <td>False</td>\n",
       "      <td>True</td>\n",
       "      <td>False</td>\n",
       "      <td>False</td>\n",
       "      <td>True</td>\n",
       "      <td>False</td>\n",
       "      <td>False</td>\n",
       "      <td>True</td>\n",
       "      <td>True</td>\n",
       "      <td>False</td>\n",
       "      <td>False</td>\n",
       "      <td>False</td>\n",
       "      <td>False</td>\n",
       "    </tr>\n",
       "    <tr>\n",
       "      <th>4</th>\n",
       "      <td>False</td>\n",
       "      <td>False</td>\n",
       "      <td>False</td>\n",
       "      <td>False</td>\n",
       "      <td>True</td>\n",
       "      <td>True</td>\n",
       "      <td>False</td>\n",
       "      <td>True</td>\n",
       "      <td>False</td>\n",
       "      <td>False</td>\n",
       "      <td>False</td>\n",
       "      <td>False</td>\n",
       "      <td>False</td>\n",
       "      <td>False</td>\n",
       "      <td>False</td>\n",
       "    </tr>\n",
       "  </tbody>\n",
       "</table>\n",
       "</div>"
      ],
      "text/plain": [
       "    Date  Drug_Name  Parameter  1:30:00  2:30:00  3:30:00  4:30:00  5:30:00  \\\n",
       "0  False      False      False    False    False     True    False    False   \n",
       "1  False      False      False    False    False     True    False    False   \n",
       "2  False      False      False     True    False    False     True    False   \n",
       "3  False      False      False     True    False    False     True    False   \n",
       "4  False      False      False    False     True     True    False     True   \n",
       "\n",
       "   6:30:00  7:30:00  8:30:00  9:30:00  10:30:00  11:30:00  12:30:00  \n",
       "0    False    False    False    False     False     False     False  \n",
       "1    False    False    False    False     False     False     False  \n",
       "2    False     True     True    False     False     False     False  \n",
       "3    False     True     True    False     False     False     False  \n",
       "4    False    False    False    False     False     False     False  "
      ]
     },
     "execution_count": 30,
     "metadata": {},
     "output_type": "execute_result"
    }
   ],
   "source": [
    "data.isnull().head()"
   ]
  },
  {
   "cell_type": "markdown",
   "metadata": {
    "id": "rSTdq7o0GLuq"
   },
   "source": [
    "#### But, why do we have two methods, \"isna\" and \"isnull\" for the same operation?\n",
    "\n",
    "isnull() is just an alias for isna()"
   ]
  },
  {
   "cell_type": "code",
   "execution_count": 31,
   "metadata": {
    "colab": {
     "base_uri": "https://localhost:8080/"
    },
    "id": "AAf8Ct8VFly-",
    "outputId": "17a9248d-092f-42a8-e700-cec2fe823d0b"
   },
   "outputs": [
    {
     "data": {
      "text/plain": [
       "<function pandas.core.dtypes.missing.isna(obj)>"
      ]
     },
     "execution_count": 31,
     "metadata": {},
     "output_type": "execute_result"
    }
   ],
   "source": [
    "pd.isnull"
   ]
  },
  {
   "cell_type": "code",
   "execution_count": 32,
   "metadata": {
    "colab": {
     "base_uri": "https://localhost:8080/"
    },
    "id": "nkFtKddOGZg8",
    "outputId": "616b6f62-d330-4288-a3e5-130cf63694d8"
   },
   "outputs": [
    {
     "data": {
      "text/plain": [
       "<function pandas.core.dtypes.missing.isna(obj)>"
      ]
     },
     "execution_count": 32,
     "metadata": {},
     "output_type": "execute_result"
    }
   ],
   "source": [
    "pd.isna"
   ]
  },
  {
   "cell_type": "markdown",
   "metadata": {
    "id": "bPRFBBnQGAX-"
   },
   "source": [
    "As we can see, function signature is same for both"
   ]
  },
  {
   "cell_type": "markdown",
   "metadata": {
    "id": "hGlu_ieARwmM"
   },
   "source": [
    "`isna()` returns a **boolean dataframe**, with each cell as a boolean value\n",
    "\n",
    "This value corresponds to **whether the cell has a missing value**\n",
    "\n",
    "On top of this, we can use `.sum()` to find the count"
   ]
  },
  {
   "cell_type": "code",
   "execution_count": 33,
   "metadata": {
    "colab": {
     "base_uri": "https://localhost:8080/"
    },
    "id": "Z6gN8h2RMYwP",
    "outputId": "b196853f-863b-4024-8598-a8f966be35e2"
   },
   "outputs": [
    {
     "data": {
      "text/plain": [
       "Date         0\n",
       "Drug_Name    0\n",
       "Parameter    0\n",
       "1:30:00      2\n",
       "2:30:00      2\n",
       "3:30:00      6\n",
       "4:30:00      4\n",
       "5:30:00      2\n",
       "6:30:00      0\n",
       "7:30:00      2\n",
       "8:30:00      4\n",
       "9:30:00      2\n",
       "10:30:00     0\n",
       "11:30:00     2\n",
       "12:30:00     0\n",
       "dtype: int64"
      ]
     },
     "execution_count": 33,
     "metadata": {},
     "output_type": "execute_result"
    }
   ],
   "source": [
    "data.isna().sum()"
   ]
  },
  {
   "cell_type": "markdown",
   "metadata": {
    "id": "vh88Yo2eTRGS"
   },
   "source": [
    "This gives us the total number of missing values in each column\n",
    "\n",
    "#### Can we also get the number of missing values in each row?"
   ]
  },
  {
   "cell_type": "code",
   "execution_count": 34,
   "metadata": {
    "colab": {
     "base_uri": "https://localhost:8080/"
    },
    "id": "aSjKxfC1MapV",
    "outputId": "719d154a-3bf8-40b1-f804-1727466dee69"
   },
   "outputs": [
    {
     "data": {
      "text/plain": [
       "0     1\n",
       "1     1\n",
       "2     4\n",
       "3     4\n",
       "4     3\n",
       "5     3\n",
       "6     1\n",
       "7     1\n",
       "8     1\n",
       "9     1\n",
       "10    2\n",
       "11    2\n",
       "12    1\n",
       "13    1\n",
       "14    0\n",
       "15    0\n",
       "16    0\n",
       "17    0\n",
       "dtype: int64"
      ]
     },
     "execution_count": 34,
     "metadata": {},
     "output_type": "execute_result"
    }
   ],
   "source": [
    "data.isna().sum(axis=1)"
   ]
  },
  {
   "cell_type": "markdown",
   "metadata": {
    "id": "Bxr0KZOB90fF"
   },
   "source": [
    "Note:\n",
    "\n",
    "By default the value is `axis=0` in sum()\n"
   ]
  },
  {
   "cell_type": "markdown",
   "metadata": {
    "id": "qRl0upFVT6qU"
   },
   "source": [
    "#### We have identified the null count, but how do we deal with them?\n",
    "\n",
    "We have two options:\n",
    "- delete the rows/columns containing the null values\n",
    "- fill the missing values with some data/estimate\n",
    "\n",
    "Let's first look at deleting the rows\n",
    "\n",
    "#### How can we drop rows containing null values?"
   ]
  },
  {
   "cell_type": "code",
   "execution_count": 35,
   "metadata": {
    "colab": {
     "base_uri": "https://localhost:8080/",
     "height": 378
    },
    "id": "Bb4cX7uEIVyd",
    "outputId": "8d6d1de8-67a6-497d-ab90-dacbc19b9f11"
   },
   "outputs": [
    {
     "data": {
      "text/html": [
       "<div>\n",
       "<style scoped>\n",
       "    .dataframe tbody tr th:only-of-type {\n",
       "        vertical-align: middle;\n",
       "    }\n",
       "\n",
       "    .dataframe tbody tr th {\n",
       "        vertical-align: top;\n",
       "    }\n",
       "\n",
       "    .dataframe thead th {\n",
       "        text-align: right;\n",
       "    }\n",
       "</style>\n",
       "<table border=\"1\" class=\"dataframe\">\n",
       "  <thead>\n",
       "    <tr style=\"text-align: right;\">\n",
       "      <th></th>\n",
       "      <th>Date</th>\n",
       "      <th>Drug_Name</th>\n",
       "      <th>Parameter</th>\n",
       "      <th>1:30:00</th>\n",
       "      <th>2:30:00</th>\n",
       "      <th>3:30:00</th>\n",
       "      <th>4:30:00</th>\n",
       "      <th>5:30:00</th>\n",
       "      <th>6:30:00</th>\n",
       "      <th>7:30:00</th>\n",
       "      <th>8:30:00</th>\n",
       "      <th>9:30:00</th>\n",
       "      <th>10:30:00</th>\n",
       "      <th>11:30:00</th>\n",
       "      <th>12:30:00</th>\n",
       "    </tr>\n",
       "  </thead>\n",
       "  <tbody>\n",
       "    <tr>\n",
       "      <th>14</th>\n",
       "      <td>17-10-2020</td>\n",
       "      <td>docetaxel injection</td>\n",
       "      <td>Temperature</td>\n",
       "      <td>12.0</td>\n",
       "      <td>13.0</td>\n",
       "      <td>14.0</td>\n",
       "      <td>15.0</td>\n",
       "      <td>16.0</td>\n",
       "      <td>17</td>\n",
       "      <td>18.0</td>\n",
       "      <td>19.0</td>\n",
       "      <td>20.0</td>\n",
       "      <td>21</td>\n",
       "      <td>22.0</td>\n",
       "      <td>23</td>\n",
       "    </tr>\n",
       "    <tr>\n",
       "      <th>15</th>\n",
       "      <td>17-10-2020</td>\n",
       "      <td>docetaxel injection</td>\n",
       "      <td>Pressure</td>\n",
       "      <td>20.0</td>\n",
       "      <td>22.0</td>\n",
       "      <td>22.0</td>\n",
       "      <td>22.0</td>\n",
       "      <td>22.0</td>\n",
       "      <td>23</td>\n",
       "      <td>25.0</td>\n",
       "      <td>26.0</td>\n",
       "      <td>27.0</td>\n",
       "      <td>28</td>\n",
       "      <td>29.0</td>\n",
       "      <td>28</td>\n",
       "    </tr>\n",
       "    <tr>\n",
       "      <th>16</th>\n",
       "      <td>17-10-2020</td>\n",
       "      <td>ketamine hydrochloride</td>\n",
       "      <td>Temperature</td>\n",
       "      <td>13.0</td>\n",
       "      <td>14.0</td>\n",
       "      <td>15.0</td>\n",
       "      <td>16.0</td>\n",
       "      <td>17.0</td>\n",
       "      <td>18</td>\n",
       "      <td>19.0</td>\n",
       "      <td>20.0</td>\n",
       "      <td>21.0</td>\n",
       "      <td>22</td>\n",
       "      <td>23.0</td>\n",
       "      <td>24</td>\n",
       "    </tr>\n",
       "    <tr>\n",
       "      <th>17</th>\n",
       "      <td>17-10-2020</td>\n",
       "      <td>ketamine hydrochloride</td>\n",
       "      <td>Pressure</td>\n",
       "      <td>8.0</td>\n",
       "      <td>9.0</td>\n",
       "      <td>10.0</td>\n",
       "      <td>11.0</td>\n",
       "      <td>11.0</td>\n",
       "      <td>12</td>\n",
       "      <td>12.0</td>\n",
       "      <td>11.0</td>\n",
       "      <td>12.0</td>\n",
       "      <td>13</td>\n",
       "      <td>14.0</td>\n",
       "      <td>15</td>\n",
       "    </tr>\n",
       "  </tbody>\n",
       "</table>\n",
       "</div>"
      ],
      "text/plain": [
       "          Date               Drug_Name    Parameter  1:30:00  2:30:00  \\\n",
       "14  17-10-2020     docetaxel injection  Temperature     12.0     13.0   \n",
       "15  17-10-2020     docetaxel injection     Pressure     20.0     22.0   \n",
       "16  17-10-2020  ketamine hydrochloride  Temperature     13.0     14.0   \n",
       "17  17-10-2020  ketamine hydrochloride     Pressure      8.0      9.0   \n",
       "\n",
       "    3:30:00  4:30:00  5:30:00  6:30:00  7:30:00  8:30:00  9:30:00  10:30:00  \\\n",
       "14     14.0     15.0     16.0       17     18.0     19.0     20.0        21   \n",
       "15     22.0     22.0     22.0       23     25.0     26.0     27.0        28   \n",
       "16     15.0     16.0     17.0       18     19.0     20.0     21.0        22   \n",
       "17     10.0     11.0     11.0       12     12.0     11.0     12.0        13   \n",
       "\n",
       "    11:30:00  12:30:00  \n",
       "14      22.0        23  \n",
       "15      29.0        28  \n",
       "16      23.0        24  \n",
       "17      14.0        15  "
      ]
     },
     "execution_count": 35,
     "metadata": {},
     "output_type": "execute_result"
    }
   ],
   "source": [
    "data.dropna()"
   ]
  },
  {
   "cell_type": "markdown",
   "metadata": {
    "id": "dbeFN1YKrLRS"
   },
   "source": [
    "Rows with **even a single missing value** have been deleted\n",
    "\n",
    "#### What if we want to delete the columns having missing value?\n"
   ]
  },
  {
   "cell_type": "code",
   "execution_count": 36,
   "metadata": {
    "colab": {
     "base_uri": "https://localhost:8080/",
     "height": 614
    },
    "id": "BNNu3VeOJK3c",
    "outputId": "f2ec0116-18e4-4177-c5e2-dce2a07f227e"
   },
   "outputs": [
    {
     "data": {
      "text/html": [
       "<div>\n",
       "<style scoped>\n",
       "    .dataframe tbody tr th:only-of-type {\n",
       "        vertical-align: middle;\n",
       "    }\n",
       "\n",
       "    .dataframe tbody tr th {\n",
       "        vertical-align: top;\n",
       "    }\n",
       "\n",
       "    .dataframe thead th {\n",
       "        text-align: right;\n",
       "    }\n",
       "</style>\n",
       "<table border=\"1\" class=\"dataframe\">\n",
       "  <thead>\n",
       "    <tr style=\"text-align: right;\">\n",
       "      <th></th>\n",
       "      <th>Date</th>\n",
       "      <th>Drug_Name</th>\n",
       "      <th>Parameter</th>\n",
       "      <th>6:30:00</th>\n",
       "      <th>10:30:00</th>\n",
       "      <th>12:30:00</th>\n",
       "    </tr>\n",
       "  </thead>\n",
       "  <tbody>\n",
       "    <tr>\n",
       "      <th>0</th>\n",
       "      <td>15-10-2020</td>\n",
       "      <td>diltiazem hydrochloride</td>\n",
       "      <td>Temperature</td>\n",
       "      <td>22</td>\n",
       "      <td>20</td>\n",
       "      <td>21</td>\n",
       "    </tr>\n",
       "    <tr>\n",
       "      <th>1</th>\n",
       "      <td>15-10-2020</td>\n",
       "      <td>diltiazem hydrochloride</td>\n",
       "      <td>Pressure</td>\n",
       "      <td>14</td>\n",
       "      <td>18</td>\n",
       "      <td>20</td>\n",
       "    </tr>\n",
       "    <tr>\n",
       "      <th>2</th>\n",
       "      <td>15-10-2020</td>\n",
       "      <td>docetaxel injection</td>\n",
       "      <td>Temperature</td>\n",
       "      <td>18</td>\n",
       "      <td>23</td>\n",
       "      <td>25</td>\n",
       "    </tr>\n",
       "    <tr>\n",
       "      <th>3</th>\n",
       "      <td>15-10-2020</td>\n",
       "      <td>docetaxel injection</td>\n",
       "      <td>Pressure</td>\n",
       "      <td>23</td>\n",
       "      <td>26</td>\n",
       "      <td>28</td>\n",
       "    </tr>\n",
       "    <tr>\n",
       "      <th>4</th>\n",
       "      <td>15-10-2020</td>\n",
       "      <td>ketamine hydrochloride</td>\n",
       "      <td>Temperature</td>\n",
       "      <td>26</td>\n",
       "      <td>22</td>\n",
       "      <td>20</td>\n",
       "    </tr>\n",
       "    <tr>\n",
       "      <th>5</th>\n",
       "      <td>15-10-2020</td>\n",
       "      <td>ketamine hydrochloride</td>\n",
       "      <td>Pressure</td>\n",
       "      <td>9</td>\n",
       "      <td>9</td>\n",
       "      <td>11</td>\n",
       "    </tr>\n",
       "    <tr>\n",
       "      <th>6</th>\n",
       "      <td>16-10-2020</td>\n",
       "      <td>diltiazem hydrochloride</td>\n",
       "      <td>Temperature</td>\n",
       "      <td>38</td>\n",
       "      <td>40</td>\n",
       "      <td>42</td>\n",
       "    </tr>\n",
       "    <tr>\n",
       "      <th>7</th>\n",
       "      <td>16-10-2020</td>\n",
       "      <td>diltiazem hydrochloride</td>\n",
       "      <td>Pressure</td>\n",
       "      <td>23</td>\n",
       "      <td>24</td>\n",
       "      <td>27</td>\n",
       "    </tr>\n",
       "    <tr>\n",
       "      <th>8</th>\n",
       "      <td>16-10-2020</td>\n",
       "      <td>docetaxel injection</td>\n",
       "      <td>Temperature</td>\n",
       "      <td>49</td>\n",
       "      <td>56</td>\n",
       "      <td>58</td>\n",
       "    </tr>\n",
       "    <tr>\n",
       "      <th>9</th>\n",
       "      <td>16-10-2020</td>\n",
       "      <td>docetaxel injection</td>\n",
       "      <td>Pressure</td>\n",
       "      <td>27</td>\n",
       "      <td>28</td>\n",
       "      <td>30</td>\n",
       "    </tr>\n",
       "    <tr>\n",
       "      <th>10</th>\n",
       "      <td>16-10-2020</td>\n",
       "      <td>ketamine hydrochloride</td>\n",
       "      <td>Temperature</td>\n",
       "      <td>12</td>\n",
       "      <td>13</td>\n",
       "      <td>15</td>\n",
       "    </tr>\n",
       "    <tr>\n",
       "      <th>11</th>\n",
       "      <td>16-10-2020</td>\n",
       "      <td>ketamine hydrochloride</td>\n",
       "      <td>Pressure</td>\n",
       "      <td>15</td>\n",
       "      <td>16</td>\n",
       "      <td>18</td>\n",
       "    </tr>\n",
       "    <tr>\n",
       "      <th>12</th>\n",
       "      <td>17-10-2020</td>\n",
       "      <td>diltiazem hydrochloride</td>\n",
       "      <td>Temperature</td>\n",
       "      <td>16</td>\n",
       "      <td>14</td>\n",
       "      <td>10</td>\n",
       "    </tr>\n",
       "    <tr>\n",
       "      <th>13</th>\n",
       "      <td>17-10-2020</td>\n",
       "      <td>diltiazem hydrochloride</td>\n",
       "      <td>Pressure</td>\n",
       "      <td>8</td>\n",
       "      <td>11</td>\n",
       "      <td>14</td>\n",
       "    </tr>\n",
       "    <tr>\n",
       "      <th>14</th>\n",
       "      <td>17-10-2020</td>\n",
       "      <td>docetaxel injection</td>\n",
       "      <td>Temperature</td>\n",
       "      <td>17</td>\n",
       "      <td>21</td>\n",
       "      <td>23</td>\n",
       "    </tr>\n",
       "    <tr>\n",
       "      <th>15</th>\n",
       "      <td>17-10-2020</td>\n",
       "      <td>docetaxel injection</td>\n",
       "      <td>Pressure</td>\n",
       "      <td>23</td>\n",
       "      <td>28</td>\n",
       "      <td>28</td>\n",
       "    </tr>\n",
       "    <tr>\n",
       "      <th>16</th>\n",
       "      <td>17-10-2020</td>\n",
       "      <td>ketamine hydrochloride</td>\n",
       "      <td>Temperature</td>\n",
       "      <td>18</td>\n",
       "      <td>22</td>\n",
       "      <td>24</td>\n",
       "    </tr>\n",
       "    <tr>\n",
       "      <th>17</th>\n",
       "      <td>17-10-2020</td>\n",
       "      <td>ketamine hydrochloride</td>\n",
       "      <td>Pressure</td>\n",
       "      <td>12</td>\n",
       "      <td>13</td>\n",
       "      <td>15</td>\n",
       "    </tr>\n",
       "  </tbody>\n",
       "</table>\n",
       "</div>"
      ],
      "text/plain": [
       "          Date                Drug_Name    Parameter  6:30:00  10:30:00  \\\n",
       "0   15-10-2020  diltiazem hydrochloride  Temperature       22        20   \n",
       "1   15-10-2020  diltiazem hydrochloride     Pressure       14        18   \n",
       "2   15-10-2020      docetaxel injection  Temperature       18        23   \n",
       "3   15-10-2020      docetaxel injection     Pressure       23        26   \n",
       "4   15-10-2020   ketamine hydrochloride  Temperature       26        22   \n",
       "5   15-10-2020   ketamine hydrochloride     Pressure        9         9   \n",
       "6   16-10-2020  diltiazem hydrochloride  Temperature       38        40   \n",
       "7   16-10-2020  diltiazem hydrochloride     Pressure       23        24   \n",
       "8   16-10-2020      docetaxel injection  Temperature       49        56   \n",
       "9   16-10-2020      docetaxel injection     Pressure       27        28   \n",
       "10  16-10-2020   ketamine hydrochloride  Temperature       12        13   \n",
       "11  16-10-2020   ketamine hydrochloride     Pressure       15        16   \n",
       "12  17-10-2020  diltiazem hydrochloride  Temperature       16        14   \n",
       "13  17-10-2020  diltiazem hydrochloride     Pressure        8        11   \n",
       "14  17-10-2020      docetaxel injection  Temperature       17        21   \n",
       "15  17-10-2020      docetaxel injection     Pressure       23        28   \n",
       "16  17-10-2020   ketamine hydrochloride  Temperature       18        22   \n",
       "17  17-10-2020   ketamine hydrochloride     Pressure       12        13   \n",
       "\n",
       "    12:30:00  \n",
       "0         21  \n",
       "1         20  \n",
       "2         25  \n",
       "3         28  \n",
       "4         20  \n",
       "5         11  \n",
       "6         42  \n",
       "7         27  \n",
       "8         58  \n",
       "9         30  \n",
       "10        15  \n",
       "11        18  \n",
       "12        10  \n",
       "13        14  \n",
       "14        23  \n",
       "15        28  \n",
       "16        24  \n",
       "17        15  "
      ]
     },
     "execution_count": 36,
     "metadata": {},
     "output_type": "execute_result"
    }
   ],
   "source": [
    "data.dropna(axis=1)"
   ]
  },
  {
   "cell_type": "markdown",
   "metadata": {
    "id": "OqfYdTQuT01G"
   },
   "source": [
    "=> Every column which had even a single missing value has been deleted"
   ]
  },
  {
   "cell_type": "markdown",
   "metadata": {
    "id": "1Hyv7SNssI5a"
   },
   "source": [
    "#### But what are the problems with deleting rows/columns?\n",
    "\n",
    "One of the major problems: \n",
    "- loss of data\n",
    "\n",
    "Instead of dropping, it would be better to **fill the missing values with some data**\n",
    "\n",
    "#### How can we fill the missing values with some data?"
   ]
  },
  {
   "cell_type": "code",
   "execution_count": 37,
   "metadata": {
    "colab": {
     "base_uri": "https://localhost:8080/",
     "height": 444
    },
    "id": "h58qFx-gJN60",
    "outputId": "f14ba6cf-bb99-479c-d400-f68ac4cc7fd9"
   },
   "outputs": [
    {
     "data": {
      "text/html": [
       "<div>\n",
       "<style scoped>\n",
       "    .dataframe tbody tr th:only-of-type {\n",
       "        vertical-align: middle;\n",
       "    }\n",
       "\n",
       "    .dataframe tbody tr th {\n",
       "        vertical-align: top;\n",
       "    }\n",
       "\n",
       "    .dataframe thead th {\n",
       "        text-align: right;\n",
       "    }\n",
       "</style>\n",
       "<table border=\"1\" class=\"dataframe\">\n",
       "  <thead>\n",
       "    <tr style=\"text-align: right;\">\n",
       "      <th></th>\n",
       "      <th>Date</th>\n",
       "      <th>Drug_Name</th>\n",
       "      <th>Parameter</th>\n",
       "      <th>1:30:00</th>\n",
       "      <th>2:30:00</th>\n",
       "      <th>3:30:00</th>\n",
       "      <th>4:30:00</th>\n",
       "      <th>5:30:00</th>\n",
       "      <th>6:30:00</th>\n",
       "      <th>7:30:00</th>\n",
       "      <th>8:30:00</th>\n",
       "      <th>9:30:00</th>\n",
       "      <th>10:30:00</th>\n",
       "      <th>11:30:00</th>\n",
       "      <th>12:30:00</th>\n",
       "    </tr>\n",
       "  </thead>\n",
       "  <tbody>\n",
       "    <tr>\n",
       "      <th>0</th>\n",
       "      <td>15-10-2020</td>\n",
       "      <td>diltiazem hydrochloride</td>\n",
       "      <td>Temperature</td>\n",
       "      <td>23.0</td>\n",
       "      <td>22.0</td>\n",
       "      <td>0.0</td>\n",
       "      <td>21.0</td>\n",
       "      <td>21.0</td>\n",
       "      <td>22</td>\n",
       "      <td>23.0</td>\n",
       "      <td>21.0</td>\n",
       "      <td>22.0</td>\n",
       "      <td>20</td>\n",
       "      <td>20.0</td>\n",
       "      <td>21</td>\n",
       "    </tr>\n",
       "    <tr>\n",
       "      <th>1</th>\n",
       "      <td>15-10-2020</td>\n",
       "      <td>diltiazem hydrochloride</td>\n",
       "      <td>Pressure</td>\n",
       "      <td>12.0</td>\n",
       "      <td>13.0</td>\n",
       "      <td>0.0</td>\n",
       "      <td>11.0</td>\n",
       "      <td>13.0</td>\n",
       "      <td>14</td>\n",
       "      <td>16.0</td>\n",
       "      <td>16.0</td>\n",
       "      <td>24.0</td>\n",
       "      <td>18</td>\n",
       "      <td>19.0</td>\n",
       "      <td>20</td>\n",
       "    </tr>\n",
       "    <tr>\n",
       "      <th>2</th>\n",
       "      <td>15-10-2020</td>\n",
       "      <td>docetaxel injection</td>\n",
       "      <td>Temperature</td>\n",
       "      <td>0.0</td>\n",
       "      <td>17.0</td>\n",
       "      <td>18.0</td>\n",
       "      <td>0.0</td>\n",
       "      <td>17.0</td>\n",
       "      <td>18</td>\n",
       "      <td>0.0</td>\n",
       "      <td>0.0</td>\n",
       "      <td>23.0</td>\n",
       "      <td>23</td>\n",
       "      <td>25.0</td>\n",
       "      <td>25</td>\n",
       "    </tr>\n",
       "    <tr>\n",
       "      <th>3</th>\n",
       "      <td>15-10-2020</td>\n",
       "      <td>docetaxel injection</td>\n",
       "      <td>Pressure</td>\n",
       "      <td>0.0</td>\n",
       "      <td>22.0</td>\n",
       "      <td>22.0</td>\n",
       "      <td>0.0</td>\n",
       "      <td>22.0</td>\n",
       "      <td>23</td>\n",
       "      <td>0.0</td>\n",
       "      <td>0.0</td>\n",
       "      <td>27.0</td>\n",
       "      <td>26</td>\n",
       "      <td>29.0</td>\n",
       "      <td>28</td>\n",
       "    </tr>\n",
       "    <tr>\n",
       "      <th>4</th>\n",
       "      <td>15-10-2020</td>\n",
       "      <td>ketamine hydrochloride</td>\n",
       "      <td>Temperature</td>\n",
       "      <td>24.0</td>\n",
       "      <td>0.0</td>\n",
       "      <td>0.0</td>\n",
       "      <td>27.0</td>\n",
       "      <td>0.0</td>\n",
       "      <td>26</td>\n",
       "      <td>25.0</td>\n",
       "      <td>24.0</td>\n",
       "      <td>23.0</td>\n",
       "      <td>22</td>\n",
       "      <td>21.0</td>\n",
       "      <td>20</td>\n",
       "    </tr>\n",
       "  </tbody>\n",
       "</table>\n",
       "</div>"
      ],
      "text/plain": [
       "         Date                Drug_Name    Parameter  1:30:00  2:30:00  \\\n",
       "0  15-10-2020  diltiazem hydrochloride  Temperature     23.0     22.0   \n",
       "1  15-10-2020  diltiazem hydrochloride     Pressure     12.0     13.0   \n",
       "2  15-10-2020      docetaxel injection  Temperature      0.0     17.0   \n",
       "3  15-10-2020      docetaxel injection     Pressure      0.0     22.0   \n",
       "4  15-10-2020   ketamine hydrochloride  Temperature     24.0      0.0   \n",
       "\n",
       "   3:30:00  4:30:00  5:30:00  6:30:00  7:30:00  8:30:00  9:30:00  10:30:00  \\\n",
       "0      0.0     21.0     21.0       22     23.0     21.0     22.0        20   \n",
       "1      0.0     11.0     13.0       14     16.0     16.0     24.0        18   \n",
       "2     18.0      0.0     17.0       18      0.0      0.0     23.0        23   \n",
       "3     22.0      0.0     22.0       23      0.0      0.0     27.0        26   \n",
       "4      0.0     27.0      0.0       26     25.0     24.0     23.0        22   \n",
       "\n",
       "   11:30:00  12:30:00  \n",
       "0      20.0        21  \n",
       "1      19.0        20  \n",
       "2      25.0        25  \n",
       "3      29.0        28  \n",
       "4      21.0        20  "
      ]
     },
     "execution_count": 37,
     "metadata": {},
     "output_type": "execute_result"
    }
   ],
   "source": [
    "data.fillna(0).head()"
   ]
  },
  {
   "cell_type": "markdown",
   "metadata": {
    "id": "AY2l0RKVzVBC"
   },
   "source": [
    "**What is fillna(0) doing?**\n",
    "\n",
    "It fills all missing values with 0\n",
    "\n",
    "We can do the same on a particular column too"
   ]
  },
  {
   "cell_type": "code",
   "execution_count": 38,
   "metadata": {
    "colab": {
     "base_uri": "https://localhost:8080/"
    },
    "id": "WjPmEK48Ok-_",
    "outputId": "ca4a6e31-ced4-45d1-99b2-54d2d92808cb"
   },
   "outputs": [
    {
     "data": {
      "text/plain": [
       "0     22.0\n",
       "1     13.0\n",
       "2     17.0\n",
       "3     22.0\n",
       "4      0.0\n",
       "5      0.0\n",
       "6     35.0\n",
       "7     19.0\n",
       "8     47.0\n",
       "9     24.0\n",
       "10     9.0\n",
       "11    12.0\n",
       "12    19.0\n",
       "13     4.0\n",
       "14    13.0\n",
       "15    22.0\n",
       "16    14.0\n",
       "17     9.0\n",
       "Name: 2:30:00, dtype: float64"
      ]
     },
     "execution_count": 38,
     "metadata": {},
     "output_type": "execute_result"
    }
   ],
   "source": [
    "data['2:30:00'].fillna(0)"
   ]
  },
  {
   "cell_type": "markdown",
   "metadata": {
    "id": "c4w8EatUzeX9"
   },
   "source": [
    "\n",
    "#### What other values can we use to fill the missing values ?\n",
    "\n",
    "We can use some **kind of estimator** too\n",
    "- An estimator like **mean or median**\n",
    "\n",
    "#### How would you calculate the mean of the column `2:30:00`?\n"
   ]
  },
  {
   "cell_type": "code",
   "execution_count": 39,
   "metadata": {
    "colab": {
     "base_uri": "https://localhost:8080/"
    },
    "id": "ywSttMz8E-O2",
    "outputId": "ebe2de9b-c276-4d94-cda2-2e3c7935a71a"
   },
   "outputs": [
    {
     "data": {
      "text/plain": [
       "18.8125"
      ]
     },
     "execution_count": 39,
     "metadata": {},
     "output_type": "execute_result"
    }
   ],
   "source": [
    "data['2:30:00'].mean()"
   ]
  },
  {
   "cell_type": "markdown",
   "metadata": {
    "id": "0IdTrr8TFAKp"
   },
   "source": [
    "Now let's fill the NaN values with the mean value of the column"
   ]
  },
  {
   "cell_type": "code",
   "execution_count": 40,
   "metadata": {
    "colab": {
     "base_uri": "https://localhost:8080/"
    },
    "id": "ri0SCDkzOt9W",
    "outputId": "a4c2648d-d3b9-41e8-c3f9-1e1c1c28be89"
   },
   "outputs": [
    {
     "data": {
      "text/plain": [
       "0     22.0000\n",
       "1     13.0000\n",
       "2     17.0000\n",
       "3     22.0000\n",
       "4     18.8125\n",
       "5     18.8125\n",
       "6     35.0000\n",
       "7     19.0000\n",
       "8     47.0000\n",
       "9     24.0000\n",
       "10     9.0000\n",
       "11    12.0000\n",
       "12    19.0000\n",
       "13     4.0000\n",
       "14    13.0000\n",
       "15    22.0000\n",
       "16    14.0000\n",
       "17     9.0000\n",
       "Name: 2:30:00, dtype: float64"
      ]
     },
     "execution_count": 40,
     "metadata": {},
     "output_type": "execute_result"
    }
   ],
   "source": [
    "data['2:30:00'].fillna(data['2:30:00'].mean())"
   ]
  },
  {
   "cell_type": "markdown",
   "metadata": {
    "id": "oezqye_FxN4z"
   },
   "source": [
    "But this doesn't feel right. What could be wrong with this?\n",
    "\n",
    "#### Can we use the mean of all compounds as average for our estimator?\n",
    "\n",
    "- **Different drugs** have **different characteristics** \n",
    "- We can't simply do an average and fill the null values\n",
    "\n",
    "**Then what could be a solution here?**\n",
    "\n",
    "We could fill the null values of **respective compounds with their respective means**\n",
    "\n",
    "\n",
    "\n",
    "\n"
   ]
  },
  {
   "cell_type": "markdown",
   "metadata": {
    "id": "bXM7Lm4SBNE5"
   },
   "source": [
    "\n",
    "<!-- #### How can we find mean temperature drug-wise? -->"
   ]
  },
  {
   "cell_type": "code",
   "execution_count": 41,
   "metadata": {
    "id": "hKT6tB7lmuBX"
   },
   "outputs": [],
   "source": [
    "# data_tidy.groupby(\"Drug_Name\")[\"Temperature\"].mean()"
   ]
  },
  {
   "cell_type": "markdown",
   "metadata": {
    "id": "m6QUCcG40xkd"
   },
   "source": [
    "#### How can we form a column with mean temperature of respective compounds?\n",
    "\n",
    "We can use `apply` that we learnt earlier\n",
    "\n",
    "Let's first create a function to calculate the mean"
   ]
  },
  {
   "cell_type": "code",
   "execution_count": 42,
   "metadata": {
    "id": "bviwEA9wyhqo"
   },
   "outputs": [],
   "source": [
    "def temp_mean(x):\n",
    "  x['Temperature_avg'] = x['Temperature'].mean() # We will name the new col Temperature_avg\n",
    "  return x"
   ]
  },
  {
   "cell_type": "markdown",
   "metadata": {
    "id": "lz5ZivD2Amw_"
   },
   "source": [
    "Now we can form a new column based on the average values of temperature for each drug"
   ]
  },
  {
   "cell_type": "code",
   "execution_count": 43,
   "metadata": {
    "colab": {
     "base_uri": "https://localhost:8080/",
     "height": 468
    },
    "id": "We22zu9aAmOt",
    "outputId": "63eada84-b3ef-411f-aca4-8c175ac20b98"
   },
   "outputs": [
    {
     "data": {
      "text/html": [
       "<div>\n",
       "<style scoped>\n",
       "    .dataframe tbody tr th:only-of-type {\n",
       "        vertical-align: middle;\n",
       "    }\n",
       "\n",
       "    .dataframe tbody tr th {\n",
       "        vertical-align: top;\n",
       "    }\n",
       "\n",
       "    .dataframe thead th {\n",
       "        text-align: right;\n",
       "    }\n",
       "</style>\n",
       "<table border=\"1\" class=\"dataframe\">\n",
       "  <thead>\n",
       "    <tr style=\"text-align: right;\">\n",
       "      <th>None</th>\n",
       "      <th>Date</th>\n",
       "      <th>time</th>\n",
       "      <th>Drug_Name</th>\n",
       "      <th>Pressure</th>\n",
       "      <th>Temperature</th>\n",
       "      <th>Temperature_avg</th>\n",
       "    </tr>\n",
       "  </thead>\n",
       "  <tbody>\n",
       "    <tr>\n",
       "      <th>0</th>\n",
       "      <td>15-10-2020</td>\n",
       "      <td>10:30:00</td>\n",
       "      <td>diltiazem hydrochloride</td>\n",
       "      <td>18.0</td>\n",
       "      <td>20.0</td>\n",
       "      <td>24.848485</td>\n",
       "    </tr>\n",
       "    <tr>\n",
       "      <th>1</th>\n",
       "      <td>15-10-2020</td>\n",
       "      <td>10:30:00</td>\n",
       "      <td>docetaxel injection</td>\n",
       "      <td>26.0</td>\n",
       "      <td>23.0</td>\n",
       "      <td>30.387097</td>\n",
       "    </tr>\n",
       "    <tr>\n",
       "      <th>2</th>\n",
       "      <td>15-10-2020</td>\n",
       "      <td>10:30:00</td>\n",
       "      <td>ketamine hydrochloride</td>\n",
       "      <td>9.0</td>\n",
       "      <td>22.0</td>\n",
       "      <td>17.709677</td>\n",
       "    </tr>\n",
       "    <tr>\n",
       "      <th>3</th>\n",
       "      <td>15-10-2020</td>\n",
       "      <td>11:30:00</td>\n",
       "      <td>diltiazem hydrochloride</td>\n",
       "      <td>19.0</td>\n",
       "      <td>20.0</td>\n",
       "      <td>24.848485</td>\n",
       "    </tr>\n",
       "    <tr>\n",
       "      <th>4</th>\n",
       "      <td>15-10-2020</td>\n",
       "      <td>11:30:00</td>\n",
       "      <td>docetaxel injection</td>\n",
       "      <td>29.0</td>\n",
       "      <td>25.0</td>\n",
       "      <td>30.387097</td>\n",
       "    </tr>\n",
       "    <tr>\n",
       "      <th>...</th>\n",
       "      <td>...</td>\n",
       "      <td>...</td>\n",
       "      <td>...</td>\n",
       "      <td>...</td>\n",
       "      <td>...</td>\n",
       "      <td>...</td>\n",
       "    </tr>\n",
       "    <tr>\n",
       "      <th>103</th>\n",
       "      <td>17-10-2020</td>\n",
       "      <td>8:30:00</td>\n",
       "      <td>docetaxel injection</td>\n",
       "      <td>26.0</td>\n",
       "      <td>19.0</td>\n",
       "      <td>30.387097</td>\n",
       "    </tr>\n",
       "    <tr>\n",
       "      <th>104</th>\n",
       "      <td>17-10-2020</td>\n",
       "      <td>8:30:00</td>\n",
       "      <td>ketamine hydrochloride</td>\n",
       "      <td>11.0</td>\n",
       "      <td>20.0</td>\n",
       "      <td>17.709677</td>\n",
       "    </tr>\n",
       "    <tr>\n",
       "      <th>105</th>\n",
       "      <td>17-10-2020</td>\n",
       "      <td>9:30:00</td>\n",
       "      <td>diltiazem hydrochloride</td>\n",
       "      <td>9.0</td>\n",
       "      <td>13.0</td>\n",
       "      <td>24.848485</td>\n",
       "    </tr>\n",
       "    <tr>\n",
       "      <th>106</th>\n",
       "      <td>17-10-2020</td>\n",
       "      <td>9:30:00</td>\n",
       "      <td>docetaxel injection</td>\n",
       "      <td>27.0</td>\n",
       "      <td>20.0</td>\n",
       "      <td>30.387097</td>\n",
       "    </tr>\n",
       "    <tr>\n",
       "      <th>107</th>\n",
       "      <td>17-10-2020</td>\n",
       "      <td>9:30:00</td>\n",
       "      <td>ketamine hydrochloride</td>\n",
       "      <td>12.0</td>\n",
       "      <td>21.0</td>\n",
       "      <td>17.709677</td>\n",
       "    </tr>\n",
       "  </tbody>\n",
       "</table>\n",
       "<p>108 rows × 6 columns</p>\n",
       "</div>"
      ],
      "text/plain": [
       "None        Date      time                Drug_Name  Pressure  Temperature  \\\n",
       "0     15-10-2020  10:30:00  diltiazem hydrochloride      18.0         20.0   \n",
       "1     15-10-2020  10:30:00      docetaxel injection      26.0         23.0   \n",
       "2     15-10-2020  10:30:00   ketamine hydrochloride       9.0         22.0   \n",
       "3     15-10-2020  11:30:00  diltiazem hydrochloride      19.0         20.0   \n",
       "4     15-10-2020  11:30:00      docetaxel injection      29.0         25.0   \n",
       "..           ...       ...                      ...       ...          ...   \n",
       "103   17-10-2020   8:30:00      docetaxel injection      26.0         19.0   \n",
       "104   17-10-2020   8:30:00   ketamine hydrochloride      11.0         20.0   \n",
       "105   17-10-2020   9:30:00  diltiazem hydrochloride       9.0         13.0   \n",
       "106   17-10-2020   9:30:00      docetaxel injection      27.0         20.0   \n",
       "107   17-10-2020   9:30:00   ketamine hydrochloride      12.0         21.0   \n",
       "\n",
       "None  Temperature_avg  \n",
       "0           24.848485  \n",
       "1           30.387097  \n",
       "2           17.709677  \n",
       "3           24.848485  \n",
       "4           30.387097  \n",
       "..                ...  \n",
       "103         30.387097  \n",
       "104         17.709677  \n",
       "105         24.848485  \n",
       "106         30.387097  \n",
       "107         17.709677  \n",
       "\n",
       "[108 rows x 6 columns]"
      ]
     },
     "execution_count": 43,
     "metadata": {},
     "output_type": "execute_result"
    }
   ],
   "source": [
    "data_tidy=data_tidy.groupby([\"Drug_Name\"]).apply(temp_mean)\n",
    "data_tidy"
   ]
  },
  {
   "cell_type": "markdown",
   "metadata": {
    "id": "cOTVmV8YBC6X"
   },
   "source": [
    "Now we fill the null values in Temperature using this new column!"
   ]
  },
  {
   "cell_type": "code",
   "execution_count": 44,
   "metadata": {
    "colab": {
     "base_uri": "https://localhost:8080/",
     "height": 468
    },
    "id": "SNWoWpgUBCpC",
    "outputId": "3ff3db00-a800-4c7e-f1f0-ddd5e6416f9c"
   },
   "outputs": [
    {
     "data": {
      "text/html": [
       "<div>\n",
       "<style scoped>\n",
       "    .dataframe tbody tr th:only-of-type {\n",
       "        vertical-align: middle;\n",
       "    }\n",
       "\n",
       "    .dataframe tbody tr th {\n",
       "        vertical-align: top;\n",
       "    }\n",
       "\n",
       "    .dataframe thead th {\n",
       "        text-align: right;\n",
       "    }\n",
       "</style>\n",
       "<table border=\"1\" class=\"dataframe\">\n",
       "  <thead>\n",
       "    <tr style=\"text-align: right;\">\n",
       "      <th>None</th>\n",
       "      <th>Date</th>\n",
       "      <th>time</th>\n",
       "      <th>Drug_Name</th>\n",
       "      <th>Pressure</th>\n",
       "      <th>Temperature</th>\n",
       "      <th>Temperature_avg</th>\n",
       "    </tr>\n",
       "  </thead>\n",
       "  <tbody>\n",
       "    <tr>\n",
       "      <th>0</th>\n",
       "      <td>15-10-2020</td>\n",
       "      <td>10:30:00</td>\n",
       "      <td>diltiazem hydrochloride</td>\n",
       "      <td>18.0</td>\n",
       "      <td>20.0</td>\n",
       "      <td>24.848485</td>\n",
       "    </tr>\n",
       "    <tr>\n",
       "      <th>1</th>\n",
       "      <td>15-10-2020</td>\n",
       "      <td>10:30:00</td>\n",
       "      <td>docetaxel injection</td>\n",
       "      <td>26.0</td>\n",
       "      <td>23.0</td>\n",
       "      <td>30.387097</td>\n",
       "    </tr>\n",
       "    <tr>\n",
       "      <th>2</th>\n",
       "      <td>15-10-2020</td>\n",
       "      <td>10:30:00</td>\n",
       "      <td>ketamine hydrochloride</td>\n",
       "      <td>9.0</td>\n",
       "      <td>22.0</td>\n",
       "      <td>17.709677</td>\n",
       "    </tr>\n",
       "    <tr>\n",
       "      <th>3</th>\n",
       "      <td>15-10-2020</td>\n",
       "      <td>11:30:00</td>\n",
       "      <td>diltiazem hydrochloride</td>\n",
       "      <td>19.0</td>\n",
       "      <td>20.0</td>\n",
       "      <td>24.848485</td>\n",
       "    </tr>\n",
       "    <tr>\n",
       "      <th>4</th>\n",
       "      <td>15-10-2020</td>\n",
       "      <td>11:30:00</td>\n",
       "      <td>docetaxel injection</td>\n",
       "      <td>29.0</td>\n",
       "      <td>25.0</td>\n",
       "      <td>30.387097</td>\n",
       "    </tr>\n",
       "    <tr>\n",
       "      <th>...</th>\n",
       "      <td>...</td>\n",
       "      <td>...</td>\n",
       "      <td>...</td>\n",
       "      <td>...</td>\n",
       "      <td>...</td>\n",
       "      <td>...</td>\n",
       "    </tr>\n",
       "    <tr>\n",
       "      <th>103</th>\n",
       "      <td>17-10-2020</td>\n",
       "      <td>8:30:00</td>\n",
       "      <td>docetaxel injection</td>\n",
       "      <td>26.0</td>\n",
       "      <td>19.0</td>\n",
       "      <td>30.387097</td>\n",
       "    </tr>\n",
       "    <tr>\n",
       "      <th>104</th>\n",
       "      <td>17-10-2020</td>\n",
       "      <td>8:30:00</td>\n",
       "      <td>ketamine hydrochloride</td>\n",
       "      <td>11.0</td>\n",
       "      <td>20.0</td>\n",
       "      <td>17.709677</td>\n",
       "    </tr>\n",
       "    <tr>\n",
       "      <th>105</th>\n",
       "      <td>17-10-2020</td>\n",
       "      <td>9:30:00</td>\n",
       "      <td>diltiazem hydrochloride</td>\n",
       "      <td>9.0</td>\n",
       "      <td>13.0</td>\n",
       "      <td>24.848485</td>\n",
       "    </tr>\n",
       "    <tr>\n",
       "      <th>106</th>\n",
       "      <td>17-10-2020</td>\n",
       "      <td>9:30:00</td>\n",
       "      <td>docetaxel injection</td>\n",
       "      <td>27.0</td>\n",
       "      <td>20.0</td>\n",
       "      <td>30.387097</td>\n",
       "    </tr>\n",
       "    <tr>\n",
       "      <th>107</th>\n",
       "      <td>17-10-2020</td>\n",
       "      <td>9:30:00</td>\n",
       "      <td>ketamine hydrochloride</td>\n",
       "      <td>12.0</td>\n",
       "      <td>21.0</td>\n",
       "      <td>17.709677</td>\n",
       "    </tr>\n",
       "  </tbody>\n",
       "</table>\n",
       "<p>108 rows × 6 columns</p>\n",
       "</div>"
      ],
      "text/plain": [
       "None        Date      time                Drug_Name  Pressure  Temperature  \\\n",
       "0     15-10-2020  10:30:00  diltiazem hydrochloride      18.0         20.0   \n",
       "1     15-10-2020  10:30:00      docetaxel injection      26.0         23.0   \n",
       "2     15-10-2020  10:30:00   ketamine hydrochloride       9.0         22.0   \n",
       "3     15-10-2020  11:30:00  diltiazem hydrochloride      19.0         20.0   \n",
       "4     15-10-2020  11:30:00      docetaxel injection      29.0         25.0   \n",
       "..           ...       ...                      ...       ...          ...   \n",
       "103   17-10-2020   8:30:00      docetaxel injection      26.0         19.0   \n",
       "104   17-10-2020   8:30:00   ketamine hydrochloride      11.0         20.0   \n",
       "105   17-10-2020   9:30:00  diltiazem hydrochloride       9.0         13.0   \n",
       "106   17-10-2020   9:30:00      docetaxel injection      27.0         20.0   \n",
       "107   17-10-2020   9:30:00   ketamine hydrochloride      12.0         21.0   \n",
       "\n",
       "None  Temperature_avg  \n",
       "0           24.848485  \n",
       "1           30.387097  \n",
       "2           17.709677  \n",
       "3           24.848485  \n",
       "4           30.387097  \n",
       "..                ...  \n",
       "103         30.387097  \n",
       "104         17.709677  \n",
       "105         24.848485  \n",
       "106         30.387097  \n",
       "107         17.709677  \n",
       "\n",
       "[108 rows x 6 columns]"
      ]
     },
     "execution_count": 44,
     "metadata": {},
     "output_type": "execute_result"
    }
   ],
   "source": [
    "data_tidy['Temperature'].fillna(data_tidy[\"Temperature_avg\"], inplace=True)\n",
    "data_tidy"
   ]
  },
  {
   "cell_type": "code",
   "execution_count": 45,
   "metadata": {
    "colab": {
     "base_uri": "https://localhost:8080/"
    },
    "id": "syS4fdStBcma",
    "outputId": "f1aad737-f44b-4f9b-ab68-139a38a56287"
   },
   "outputs": [
    {
     "data": {
      "text/plain": [
       "None\n",
       "Date                0\n",
       "time                0\n",
       "Drug_Name           0\n",
       "Pressure           13\n",
       "Temperature         0\n",
       "Temperature_avg     0\n",
       "dtype: int64"
      ]
     },
     "execution_count": 45,
     "metadata": {},
     "output_type": "execute_result"
    }
   ],
   "source": [
    "data_tidy.isna().sum()"
   ]
  },
  {
   "cell_type": "markdown",
   "metadata": {
    "id": "h10DvdFwBe94"
   },
   "source": [
    "Great!! \n",
    "\n",
    "We have removed the null values of our Temperature column\n",
    "\n",
    "Let's do the same for Pressure"
   ]
  },
  {
   "cell_type": "code",
   "execution_count": 46,
   "metadata": {
    "colab": {
     "base_uri": "https://localhost:8080/",
     "height": 815
    },
    "id": "LXQMbvFnAyjR",
    "outputId": "72e5603c-0777-4607-baf8-18c50495518c"
   },
   "outputs": [
    {
     "data": {
      "text/html": [
       "<div>\n",
       "<style scoped>\n",
       "    .dataframe tbody tr th:only-of-type {\n",
       "        vertical-align: middle;\n",
       "    }\n",
       "\n",
       "    .dataframe tbody tr th {\n",
       "        vertical-align: top;\n",
       "    }\n",
       "\n",
       "    .dataframe thead th {\n",
       "        text-align: right;\n",
       "    }\n",
       "</style>\n",
       "<table border=\"1\" class=\"dataframe\">\n",
       "  <thead>\n",
       "    <tr style=\"text-align: right;\">\n",
       "      <th>None</th>\n",
       "      <th>Date</th>\n",
       "      <th>time</th>\n",
       "      <th>Drug_Name</th>\n",
       "      <th>Pressure</th>\n",
       "      <th>Temperature</th>\n",
       "      <th>Temperature_avg</th>\n",
       "      <th>Pressure_avg</th>\n",
       "    </tr>\n",
       "  </thead>\n",
       "  <tbody>\n",
       "    <tr>\n",
       "      <th>0</th>\n",
       "      <td>15-10-2020</td>\n",
       "      <td>10:30:00</td>\n",
       "      <td>diltiazem hydrochloride</td>\n",
       "      <td>18.0</td>\n",
       "      <td>20.0</td>\n",
       "      <td>24.848485</td>\n",
       "      <td>15.424242</td>\n",
       "    </tr>\n",
       "    <tr>\n",
       "      <th>1</th>\n",
       "      <td>15-10-2020</td>\n",
       "      <td>10:30:00</td>\n",
       "      <td>docetaxel injection</td>\n",
       "      <td>26.0</td>\n",
       "      <td>23.0</td>\n",
       "      <td>30.387097</td>\n",
       "      <td>25.483871</td>\n",
       "    </tr>\n",
       "    <tr>\n",
       "      <th>2</th>\n",
       "      <td>15-10-2020</td>\n",
       "      <td>10:30:00</td>\n",
       "      <td>ketamine hydrochloride</td>\n",
       "      <td>9.0</td>\n",
       "      <td>22.0</td>\n",
       "      <td>17.709677</td>\n",
       "      <td>11.935484</td>\n",
       "    </tr>\n",
       "    <tr>\n",
       "      <th>3</th>\n",
       "      <td>15-10-2020</td>\n",
       "      <td>11:30:00</td>\n",
       "      <td>diltiazem hydrochloride</td>\n",
       "      <td>19.0</td>\n",
       "      <td>20.0</td>\n",
       "      <td>24.848485</td>\n",
       "      <td>15.424242</td>\n",
       "    </tr>\n",
       "    <tr>\n",
       "      <th>4</th>\n",
       "      <td>15-10-2020</td>\n",
       "      <td>11:30:00</td>\n",
       "      <td>docetaxel injection</td>\n",
       "      <td>29.0</td>\n",
       "      <td>25.0</td>\n",
       "      <td>30.387097</td>\n",
       "      <td>25.483871</td>\n",
       "    </tr>\n",
       "    <tr>\n",
       "      <th>...</th>\n",
       "      <td>...</td>\n",
       "      <td>...</td>\n",
       "      <td>...</td>\n",
       "      <td>...</td>\n",
       "      <td>...</td>\n",
       "      <td>...</td>\n",
       "      <td>...</td>\n",
       "    </tr>\n",
       "    <tr>\n",
       "      <th>103</th>\n",
       "      <td>17-10-2020</td>\n",
       "      <td>8:30:00</td>\n",
       "      <td>docetaxel injection</td>\n",
       "      <td>26.0</td>\n",
       "      <td>19.0</td>\n",
       "      <td>30.387097</td>\n",
       "      <td>25.483871</td>\n",
       "    </tr>\n",
       "    <tr>\n",
       "      <th>104</th>\n",
       "      <td>17-10-2020</td>\n",
       "      <td>8:30:00</td>\n",
       "      <td>ketamine hydrochloride</td>\n",
       "      <td>11.0</td>\n",
       "      <td>20.0</td>\n",
       "      <td>17.709677</td>\n",
       "      <td>11.935484</td>\n",
       "    </tr>\n",
       "    <tr>\n",
       "      <th>105</th>\n",
       "      <td>17-10-2020</td>\n",
       "      <td>9:30:00</td>\n",
       "      <td>diltiazem hydrochloride</td>\n",
       "      <td>9.0</td>\n",
       "      <td>13.0</td>\n",
       "      <td>24.848485</td>\n",
       "      <td>15.424242</td>\n",
       "    </tr>\n",
       "    <tr>\n",
       "      <th>106</th>\n",
       "      <td>17-10-2020</td>\n",
       "      <td>9:30:00</td>\n",
       "      <td>docetaxel injection</td>\n",
       "      <td>27.0</td>\n",
       "      <td>20.0</td>\n",
       "      <td>30.387097</td>\n",
       "      <td>25.483871</td>\n",
       "    </tr>\n",
       "    <tr>\n",
       "      <th>107</th>\n",
       "      <td>17-10-2020</td>\n",
       "      <td>9:30:00</td>\n",
       "      <td>ketamine hydrochloride</td>\n",
       "      <td>12.0</td>\n",
       "      <td>21.0</td>\n",
       "      <td>17.709677</td>\n",
       "      <td>11.935484</td>\n",
       "    </tr>\n",
       "  </tbody>\n",
       "</table>\n",
       "<p>108 rows × 7 columns</p>\n",
       "</div>"
      ],
      "text/plain": [
       "None        Date      time                Drug_Name  Pressure  Temperature  \\\n",
       "0     15-10-2020  10:30:00  diltiazem hydrochloride      18.0         20.0   \n",
       "1     15-10-2020  10:30:00      docetaxel injection      26.0         23.0   \n",
       "2     15-10-2020  10:30:00   ketamine hydrochloride       9.0         22.0   \n",
       "3     15-10-2020  11:30:00  diltiazem hydrochloride      19.0         20.0   \n",
       "4     15-10-2020  11:30:00      docetaxel injection      29.0         25.0   \n",
       "..           ...       ...                      ...       ...          ...   \n",
       "103   17-10-2020   8:30:00      docetaxel injection      26.0         19.0   \n",
       "104   17-10-2020   8:30:00   ketamine hydrochloride      11.0         20.0   \n",
       "105   17-10-2020   9:30:00  diltiazem hydrochloride       9.0         13.0   \n",
       "106   17-10-2020   9:30:00      docetaxel injection      27.0         20.0   \n",
       "107   17-10-2020   9:30:00   ketamine hydrochloride      12.0         21.0   \n",
       "\n",
       "None  Temperature_avg  Pressure_avg  \n",
       "0           24.848485     15.424242  \n",
       "1           30.387097     25.483871  \n",
       "2           17.709677     11.935484  \n",
       "3           24.848485     15.424242  \n",
       "4           30.387097     25.483871  \n",
       "..                ...           ...  \n",
       "103         30.387097     25.483871  \n",
       "104         17.709677     11.935484  \n",
       "105         24.848485     15.424242  \n",
       "106         30.387097     25.483871  \n",
       "107         17.709677     11.935484  \n",
       "\n",
       "[108 rows x 7 columns]"
      ]
     },
     "execution_count": 46,
     "metadata": {},
     "output_type": "execute_result"
    }
   ],
   "source": [
    "def pr_mean(x):\n",
    "  x['Pressure_avg'] = x['Pressure'].mean()\n",
    "  return x\n",
    "data_tidy=data_tidy.groupby([\"Drug_Name\"]).apply(pr_mean)\n",
    "data_tidy['Pressure'].fillna(data_tidy[\"Pressure_avg\"], inplace=True)\n",
    "data_tidy"
   ]
  },
  {
   "cell_type": "code",
   "execution_count": 47,
   "metadata": {
    "colab": {
     "base_uri": "https://localhost:8080/"
    },
    "id": "SOOvP7tPBp_J",
    "outputId": "f1030011-665f-4b18-b8a8-e0c50dd2927d"
   },
   "outputs": [
    {
     "data": {
      "text/plain": [
       "None\n",
       "Date               0\n",
       "time               0\n",
       "Drug_Name          0\n",
       "Pressure           0\n",
       "Temperature        0\n",
       "Temperature_avg    0\n",
       "Pressure_avg       0\n",
       "dtype: int64"
      ]
     },
     "execution_count": 47,
     "metadata": {},
     "output_type": "execute_result"
    }
   ],
   "source": [
    "data_tidy.isna().sum()"
   ]
  },
  {
   "cell_type": "markdown",
   "metadata": {
    "id": "j6oWpL3Gzuj3"
   },
   "source": [
    "This gives us a **basic idea** about working with missing values\n",
    "\n",
    "We will further learn more on this during later lectures of **feature engineering**"
   ]
  },
  {
   "cell_type": "markdown",
   "metadata": {
    "id": "ErsIIprHE5bU"
   },
   "source": [
    "### Pandas Cut\n"
   ]
  },
  {
   "cell_type": "markdown",
   "metadata": {
    "id": "qS8NbFTWFIEc"
   },
   "source": [
    "\n",
    "\n",
    "Sometimes, we would want our data to be in **categorical format instead of continous data**. \n",
    "\n",
    "#### What do we mean by converting continous into categorical data?\n",
    "\n",
    "Lets say, instead of knowing specific test values of a month, I want to know its type\n",
    "\n",
    "#### What could be the types?\n",
    "\n",
    "Depends on level of granularity we want to have - Low, Medium, High, V High\n",
    "\n",
    "We could have defined more (or less) categories\n",
    "\n",
    "#### But how can bucketisation of continous data help?\n",
    "\n",
    "- Since, we can get the count of different categories\n",
    "- We can get a idea of the bin which category (range of values) most of the temperature values lie.\n",
    "\n",
    "#### What function can we use to convert cont. to cat. data?\n",
    "\n",
    " - Will use pd.cut()\n",
    " - We need to provide:\n",
    "  - the continous data\n",
    "  - bins edges (array of numbers) to \"cut\" the entire range\n",
    "  - labels corresponding to every bin\n",
    "\n",
    "\n",
    "Let's try to us this on our max (temp) column to categorise the data into bins\n",
    "\n",
    "But, to define categories, lets first check min and max temp values "
   ]
  },
  {
   "cell_type": "code",
   "execution_count": 48,
   "metadata": {
    "colab": {
     "base_uri": "https://localhost:8080/",
     "height": 815
    },
    "id": "EV3DmmrHSbAd",
    "outputId": "1ce2a947-3826-4f06-fce5-4816fc622b2f"
   },
   "outputs": [
    {
     "data": {
      "text/html": [
       "<div>\n",
       "<style scoped>\n",
       "    .dataframe tbody tr th:only-of-type {\n",
       "        vertical-align: middle;\n",
       "    }\n",
       "\n",
       "    .dataframe tbody tr th {\n",
       "        vertical-align: top;\n",
       "    }\n",
       "\n",
       "    .dataframe thead th {\n",
       "        text-align: right;\n",
       "    }\n",
       "</style>\n",
       "<table border=\"1\" class=\"dataframe\">\n",
       "  <thead>\n",
       "    <tr style=\"text-align: right;\">\n",
       "      <th>None</th>\n",
       "      <th>Date</th>\n",
       "      <th>time</th>\n",
       "      <th>Drug_Name</th>\n",
       "      <th>Pressure</th>\n",
       "      <th>Temperature</th>\n",
       "      <th>Temperature_avg</th>\n",
       "      <th>Pressure_avg</th>\n",
       "    </tr>\n",
       "  </thead>\n",
       "  <tbody>\n",
       "    <tr>\n",
       "      <th>0</th>\n",
       "      <td>15-10-2020</td>\n",
       "      <td>10:30:00</td>\n",
       "      <td>diltiazem hydrochloride</td>\n",
       "      <td>18.0</td>\n",
       "      <td>20.0</td>\n",
       "      <td>24.848485</td>\n",
       "      <td>15.424242</td>\n",
       "    </tr>\n",
       "    <tr>\n",
       "      <th>1</th>\n",
       "      <td>15-10-2020</td>\n",
       "      <td>10:30:00</td>\n",
       "      <td>docetaxel injection</td>\n",
       "      <td>26.0</td>\n",
       "      <td>23.0</td>\n",
       "      <td>30.387097</td>\n",
       "      <td>25.483871</td>\n",
       "    </tr>\n",
       "    <tr>\n",
       "      <th>2</th>\n",
       "      <td>15-10-2020</td>\n",
       "      <td>10:30:00</td>\n",
       "      <td>ketamine hydrochloride</td>\n",
       "      <td>9.0</td>\n",
       "      <td>22.0</td>\n",
       "      <td>17.709677</td>\n",
       "      <td>11.935484</td>\n",
       "    </tr>\n",
       "    <tr>\n",
       "      <th>3</th>\n",
       "      <td>15-10-2020</td>\n",
       "      <td>11:30:00</td>\n",
       "      <td>diltiazem hydrochloride</td>\n",
       "      <td>19.0</td>\n",
       "      <td>20.0</td>\n",
       "      <td>24.848485</td>\n",
       "      <td>15.424242</td>\n",
       "    </tr>\n",
       "    <tr>\n",
       "      <th>4</th>\n",
       "      <td>15-10-2020</td>\n",
       "      <td>11:30:00</td>\n",
       "      <td>docetaxel injection</td>\n",
       "      <td>29.0</td>\n",
       "      <td>25.0</td>\n",
       "      <td>30.387097</td>\n",
       "      <td>25.483871</td>\n",
       "    </tr>\n",
       "    <tr>\n",
       "      <th>...</th>\n",
       "      <td>...</td>\n",
       "      <td>...</td>\n",
       "      <td>...</td>\n",
       "      <td>...</td>\n",
       "      <td>...</td>\n",
       "      <td>...</td>\n",
       "      <td>...</td>\n",
       "    </tr>\n",
       "    <tr>\n",
       "      <th>103</th>\n",
       "      <td>17-10-2020</td>\n",
       "      <td>8:30:00</td>\n",
       "      <td>docetaxel injection</td>\n",
       "      <td>26.0</td>\n",
       "      <td>19.0</td>\n",
       "      <td>30.387097</td>\n",
       "      <td>25.483871</td>\n",
       "    </tr>\n",
       "    <tr>\n",
       "      <th>104</th>\n",
       "      <td>17-10-2020</td>\n",
       "      <td>8:30:00</td>\n",
       "      <td>ketamine hydrochloride</td>\n",
       "      <td>11.0</td>\n",
       "      <td>20.0</td>\n",
       "      <td>17.709677</td>\n",
       "      <td>11.935484</td>\n",
       "    </tr>\n",
       "    <tr>\n",
       "      <th>105</th>\n",
       "      <td>17-10-2020</td>\n",
       "      <td>9:30:00</td>\n",
       "      <td>diltiazem hydrochloride</td>\n",
       "      <td>9.0</td>\n",
       "      <td>13.0</td>\n",
       "      <td>24.848485</td>\n",
       "      <td>15.424242</td>\n",
       "    </tr>\n",
       "    <tr>\n",
       "      <th>106</th>\n",
       "      <td>17-10-2020</td>\n",
       "      <td>9:30:00</td>\n",
       "      <td>docetaxel injection</td>\n",
       "      <td>27.0</td>\n",
       "      <td>20.0</td>\n",
       "      <td>30.387097</td>\n",
       "      <td>25.483871</td>\n",
       "    </tr>\n",
       "    <tr>\n",
       "      <th>107</th>\n",
       "      <td>17-10-2020</td>\n",
       "      <td>9:30:00</td>\n",
       "      <td>ketamine hydrochloride</td>\n",
       "      <td>12.0</td>\n",
       "      <td>21.0</td>\n",
       "      <td>17.709677</td>\n",
       "      <td>11.935484</td>\n",
       "    </tr>\n",
       "  </tbody>\n",
       "</table>\n",
       "<p>108 rows × 7 columns</p>\n",
       "</div>"
      ],
      "text/plain": [
       "None        Date      time                Drug_Name  Pressure  Temperature  \\\n",
       "0     15-10-2020  10:30:00  diltiazem hydrochloride      18.0         20.0   \n",
       "1     15-10-2020  10:30:00      docetaxel injection      26.0         23.0   \n",
       "2     15-10-2020  10:30:00   ketamine hydrochloride       9.0         22.0   \n",
       "3     15-10-2020  11:30:00  diltiazem hydrochloride      19.0         20.0   \n",
       "4     15-10-2020  11:30:00      docetaxel injection      29.0         25.0   \n",
       "..           ...       ...                      ...       ...          ...   \n",
       "103   17-10-2020   8:30:00      docetaxel injection      26.0         19.0   \n",
       "104   17-10-2020   8:30:00   ketamine hydrochloride      11.0         20.0   \n",
       "105   17-10-2020   9:30:00  diltiazem hydrochloride       9.0         13.0   \n",
       "106   17-10-2020   9:30:00      docetaxel injection      27.0         20.0   \n",
       "107   17-10-2020   9:30:00   ketamine hydrochloride      12.0         21.0   \n",
       "\n",
       "None  Temperature_avg  Pressure_avg  \n",
       "0           24.848485     15.424242  \n",
       "1           30.387097     25.483871  \n",
       "2           17.709677     11.935484  \n",
       "3           24.848485     15.424242  \n",
       "4           30.387097     25.483871  \n",
       "..                ...           ...  \n",
       "103         30.387097     25.483871  \n",
       "104         17.709677     11.935484  \n",
       "105         24.848485     15.424242  \n",
       "106         30.387097     25.483871  \n",
       "107         17.709677     11.935484  \n",
       "\n",
       "[108 rows x 7 columns]"
      ]
     },
     "execution_count": 48,
     "metadata": {},
     "output_type": "execute_result"
    }
   ],
   "source": [
    "data_tidy"
   ]
  },
  {
   "cell_type": "code",
   "execution_count": 49,
   "metadata": {
    "colab": {
     "base_uri": "https://localhost:8080/"
    },
    "id": "uh58lSaQFrQk",
    "outputId": "bbf8aa31-b915-464e-e467-f34f77408b6e"
   },
   "outputs": [
    {
     "name": "stdout",
     "output_type": "stream",
     "text": [
      "8.0 58.0\n"
     ]
    }
   ],
   "source": [
    "print(data_tidy['Temperature'].min(), data_tidy['Temperature'].max())"
   ]
  },
  {
   "cell_type": "markdown",
   "metadata": {
    "id": "2vAUwk48F5X9"
   },
   "source": [
    "Min value = 8, Max value is 58.\n",
    "\n",
    "- Lets's keep some buffer for future values and take the range from 5-60(instead of 8-58)\n",
    "- Lets divide this data into 4 bins of 10-15 values each"
   ]
  },
  {
   "cell_type": "code",
   "execution_count": 50,
   "metadata": {
    "colab": {
     "base_uri": "https://localhost:8080/",
     "height": 444
    },
    "id": "RGUSc6_gWDcW",
    "outputId": "b154cc68-bfc6-40f6-b6ef-2307588020b6"
   },
   "outputs": [
    {
     "data": {
      "text/html": [
       "<div>\n",
       "<style scoped>\n",
       "    .dataframe tbody tr th:only-of-type {\n",
       "        vertical-align: middle;\n",
       "    }\n",
       "\n",
       "    .dataframe tbody tr th {\n",
       "        vertical-align: top;\n",
       "    }\n",
       "\n",
       "    .dataframe thead th {\n",
       "        text-align: right;\n",
       "    }\n",
       "</style>\n",
       "<table border=\"1\" class=\"dataframe\">\n",
       "  <thead>\n",
       "    <tr style=\"text-align: right;\">\n",
       "      <th>None</th>\n",
       "      <th>Date</th>\n",
       "      <th>time</th>\n",
       "      <th>Drug_Name</th>\n",
       "      <th>Pressure</th>\n",
       "      <th>Temperature</th>\n",
       "      <th>Temperature_avg</th>\n",
       "      <th>Pressure_avg</th>\n",
       "      <th>temp_cat</th>\n",
       "    </tr>\n",
       "  </thead>\n",
       "  <tbody>\n",
       "    <tr>\n",
       "      <th>0</th>\n",
       "      <td>15-10-2020</td>\n",
       "      <td>10:30:00</td>\n",
       "      <td>diltiazem hydrochloride</td>\n",
       "      <td>18.0</td>\n",
       "      <td>20.0</td>\n",
       "      <td>24.848485</td>\n",
       "      <td>15.424242</td>\n",
       "      <td>low</td>\n",
       "    </tr>\n",
       "    <tr>\n",
       "      <th>1</th>\n",
       "      <td>15-10-2020</td>\n",
       "      <td>10:30:00</td>\n",
       "      <td>docetaxel injection</td>\n",
       "      <td>26.0</td>\n",
       "      <td>23.0</td>\n",
       "      <td>30.387097</td>\n",
       "      <td>25.483871</td>\n",
       "      <td>medium</td>\n",
       "    </tr>\n",
       "    <tr>\n",
       "      <th>2</th>\n",
       "      <td>15-10-2020</td>\n",
       "      <td>10:30:00</td>\n",
       "      <td>ketamine hydrochloride</td>\n",
       "      <td>9.0</td>\n",
       "      <td>22.0</td>\n",
       "      <td>17.709677</td>\n",
       "      <td>11.935484</td>\n",
       "      <td>medium</td>\n",
       "    </tr>\n",
       "    <tr>\n",
       "      <th>3</th>\n",
       "      <td>15-10-2020</td>\n",
       "      <td>11:30:00</td>\n",
       "      <td>diltiazem hydrochloride</td>\n",
       "      <td>19.0</td>\n",
       "      <td>20.0</td>\n",
       "      <td>24.848485</td>\n",
       "      <td>15.424242</td>\n",
       "      <td>low</td>\n",
       "    </tr>\n",
       "    <tr>\n",
       "      <th>4</th>\n",
       "      <td>15-10-2020</td>\n",
       "      <td>11:30:00</td>\n",
       "      <td>docetaxel injection</td>\n",
       "      <td>29.0</td>\n",
       "      <td>25.0</td>\n",
       "      <td>30.387097</td>\n",
       "      <td>25.483871</td>\n",
       "      <td>medium</td>\n",
       "    </tr>\n",
       "  </tbody>\n",
       "</table>\n",
       "</div>"
      ],
      "text/plain": [
       "None        Date      time                Drug_Name  Pressure  Temperature  \\\n",
       "0     15-10-2020  10:30:00  diltiazem hydrochloride      18.0         20.0   \n",
       "1     15-10-2020  10:30:00      docetaxel injection      26.0         23.0   \n",
       "2     15-10-2020  10:30:00   ketamine hydrochloride       9.0         22.0   \n",
       "3     15-10-2020  11:30:00  diltiazem hydrochloride      19.0         20.0   \n",
       "4     15-10-2020  11:30:00      docetaxel injection      29.0         25.0   \n",
       "\n",
       "None  Temperature_avg  Pressure_avg temp_cat  \n",
       "0           24.848485     15.424242      low  \n",
       "1           30.387097     25.483871   medium  \n",
       "2           17.709677     11.935484   medium  \n",
       "3           24.848485     15.424242      low  \n",
       "4           30.387097     25.483871   medium  "
      ]
     },
     "execution_count": 50,
     "metadata": {},
     "output_type": "execute_result"
    }
   ],
   "source": [
    "temp_points = [5, 20, 35, 50, 60]\n",
    "temp_labels = ['low','medium','high','very_high'] # Here labels define the severity of the resultant output of the test\n",
    "data_tidy['temp_cat'] = pd.cut(data_tidy['Temperature'], bins=temp_points, labels=temp_labels)\n",
    "data_tidy.head()"
   ]
  },
  {
   "cell_type": "code",
   "execution_count": 51,
   "metadata": {
    "colab": {
     "base_uri": "https://localhost:8080/"
    },
    "id": "kSgrWKcmFjJU",
    "outputId": "910c40b7-3825-473f-a28c-24ea8d697b1f"
   },
   "outputs": [
    {
     "data": {
      "text/plain": [
       "low          50\n",
       "medium       38\n",
       "high         15\n",
       "very_high     5\n",
       "Name: temp_cat, dtype: int64"
      ]
     },
     "execution_count": 51,
     "metadata": {},
     "output_type": "execute_result"
    }
   ],
   "source": [
    "data_tidy['temp_cat'].value_counts()"
   ]
  },
  {
   "cell_type": "markdown",
   "metadata": {
    "id": "CCy-fTZadWa4"
   },
   "source": [
    "### String function and motivation for datetime\n",
    "\n",
    "\n",
    " "
   ]
  },
  {
   "cell_type": "markdown",
   "metadata": {
    "id": "buAHEmyQVmY4"
   },
   "source": [
    "#### What kind of questions can we use string methods for?\n",
    "\n",
    "Find rows which contains a particular string\n",
    "\n",
    "Say,\n",
    "\n",
    "#### How you can you filter rows containing \"hydrochloric\" in their drug name?\n"
   ]
  },
  {
   "cell_type": "code",
   "execution_count": 52,
   "metadata": {
    "colab": {
     "base_uri": "https://localhost:8080/",
     "height": 444
    },
    "id": "k2aUp417c4Qd",
    "outputId": "9438d482-e220-4847-c8d4-5a3b4fd233f9"
   },
   "outputs": [
    {
     "data": {
      "text/html": [
       "<div>\n",
       "<style scoped>\n",
       "    .dataframe tbody tr th:only-of-type {\n",
       "        vertical-align: middle;\n",
       "    }\n",
       "\n",
       "    .dataframe tbody tr th {\n",
       "        vertical-align: top;\n",
       "    }\n",
       "\n",
       "    .dataframe thead th {\n",
       "        text-align: right;\n",
       "    }\n",
       "</style>\n",
       "<table border=\"1\" class=\"dataframe\">\n",
       "  <thead>\n",
       "    <tr style=\"text-align: right;\">\n",
       "      <th>None</th>\n",
       "      <th>Date</th>\n",
       "      <th>time</th>\n",
       "      <th>Drug_Name</th>\n",
       "      <th>Pressure</th>\n",
       "      <th>Temperature</th>\n",
       "      <th>Temperature_avg</th>\n",
       "      <th>Pressure_avg</th>\n",
       "      <th>temp_cat</th>\n",
       "    </tr>\n",
       "  </thead>\n",
       "  <tbody>\n",
       "    <tr>\n",
       "      <th>0</th>\n",
       "      <td>15-10-2020</td>\n",
       "      <td>10:30:00</td>\n",
       "      <td>diltiazem hydrochloride</td>\n",
       "      <td>18.0</td>\n",
       "      <td>20.0</td>\n",
       "      <td>24.848485</td>\n",
       "      <td>15.424242</td>\n",
       "      <td>low</td>\n",
       "    </tr>\n",
       "    <tr>\n",
       "      <th>2</th>\n",
       "      <td>15-10-2020</td>\n",
       "      <td>10:30:00</td>\n",
       "      <td>ketamine hydrochloride</td>\n",
       "      <td>9.0</td>\n",
       "      <td>22.0</td>\n",
       "      <td>17.709677</td>\n",
       "      <td>11.935484</td>\n",
       "      <td>medium</td>\n",
       "    </tr>\n",
       "    <tr>\n",
       "      <th>3</th>\n",
       "      <td>15-10-2020</td>\n",
       "      <td>11:30:00</td>\n",
       "      <td>diltiazem hydrochloride</td>\n",
       "      <td>19.0</td>\n",
       "      <td>20.0</td>\n",
       "      <td>24.848485</td>\n",
       "      <td>15.424242</td>\n",
       "      <td>low</td>\n",
       "    </tr>\n",
       "    <tr>\n",
       "      <th>5</th>\n",
       "      <td>15-10-2020</td>\n",
       "      <td>11:30:00</td>\n",
       "      <td>ketamine hydrochloride</td>\n",
       "      <td>9.0</td>\n",
       "      <td>21.0</td>\n",
       "      <td>17.709677</td>\n",
       "      <td>11.935484</td>\n",
       "      <td>medium</td>\n",
       "    </tr>\n",
       "    <tr>\n",
       "      <th>6</th>\n",
       "      <td>15-10-2020</td>\n",
       "      <td>12:30:00</td>\n",
       "      <td>diltiazem hydrochloride</td>\n",
       "      <td>20.0</td>\n",
       "      <td>21.0</td>\n",
       "      <td>24.848485</td>\n",
       "      <td>15.424242</td>\n",
       "      <td>medium</td>\n",
       "    </tr>\n",
       "  </tbody>\n",
       "</table>\n",
       "</div>"
      ],
      "text/plain": [
       "None        Date      time                Drug_Name  Pressure  Temperature  \\\n",
       "0     15-10-2020  10:30:00  diltiazem hydrochloride      18.0         20.0   \n",
       "2     15-10-2020  10:30:00   ketamine hydrochloride       9.0         22.0   \n",
       "3     15-10-2020  11:30:00  diltiazem hydrochloride      19.0         20.0   \n",
       "5     15-10-2020  11:30:00   ketamine hydrochloride       9.0         21.0   \n",
       "6     15-10-2020  12:30:00  diltiazem hydrochloride      20.0         21.0   \n",
       "\n",
       "None  Temperature_avg  Pressure_avg temp_cat  \n",
       "0           24.848485     15.424242      low  \n",
       "2           17.709677     11.935484   medium  \n",
       "3           24.848485     15.424242      low  \n",
       "5           17.709677     11.935484   medium  \n",
       "6           24.848485     15.424242   medium  "
      ]
     },
     "execution_count": 52,
     "metadata": {},
     "output_type": "execute_result"
    }
   ],
   "source": [
    "data_tidy.loc[data_tidy['Drug_Name'].str.contains('hydrochloride')].head()"
   ]
  },
  {
   "cell_type": "markdown",
   "metadata": {
    "id": "bLFKY8wxVziA"
   },
   "source": [
    "\n",
    "So in general, we will be using the following format:\n",
    "\n",
    "     > Series.str.function()\n",
    "\n",
    "Series.str can be used to **access the values of the series as strings** and apply several methods to it.\n"
   ]
  },
  {
   "cell_type": "markdown",
   "metadata": {
    "id": "Nhe3jJ0Jdr0y"
   },
   "source": [
    "Now suppose we want to form a new column based on the year of the experiments?\n",
    "\n",
    "#### What can we do form a column containing the year?\n"
   ]
  },
  {
   "cell_type": "code",
   "execution_count": 53,
   "metadata": {
    "colab": {
     "base_uri": "https://localhost:8080/"
    },
    "id": "o85Hl3dKdzOh",
    "outputId": "b68323a4-88d9-4132-fd31-df2eae706e6a"
   },
   "outputs": [
    {
     "data": {
      "text/plain": [
       "0      [15, 10, 2020]\n",
       "1      [15, 10, 2020]\n",
       "2      [15, 10, 2020]\n",
       "3      [15, 10, 2020]\n",
       "4      [15, 10, 2020]\n",
       "            ...      \n",
       "103    [17, 10, 2020]\n",
       "104    [17, 10, 2020]\n",
       "105    [17, 10, 2020]\n",
       "106    [17, 10, 2020]\n",
       "107    [17, 10, 2020]\n",
       "Name: Date, Length: 108, dtype: object"
      ]
     },
     "execution_count": 53,
     "metadata": {},
     "output_type": "execute_result"
    }
   ],
   "source": [
    "data_tidy['Date'].str.split('-')"
   ]
  },
  {
   "cell_type": "markdown",
   "metadata": {
    "id": "IEhCKjoP8sRw"
   },
   "source": [
    "To extract the year we need to select the last element of each list"
   ]
  },
  {
   "cell_type": "code",
   "execution_count": 54,
   "metadata": {
    "colab": {
     "base_uri": "https://localhost:8080/"
    },
    "id": "ksOCoLZB8ptU",
    "outputId": "fd596c08-0f6d-4f27-a4ae-25a61b8e7c21"
   },
   "outputs": [
    {
     "data": {
      "text/plain": [
       "0      2020\n",
       "1      2020\n",
       "2      2020\n",
       "3      2020\n",
       "4      2020\n",
       "       ... \n",
       "103    2020\n",
       "104    2020\n",
       "105    2020\n",
       "106    2020\n",
       "107    2020\n",
       "Name: Date, Length: 108, dtype: object"
      ]
     },
     "execution_count": 54,
     "metadata": {},
     "output_type": "execute_result"
    }
   ],
   "source": [
    "data_tidy['Date'].str.split('-').apply(lambda x:x[2])"
   ]
  },
  {
   "cell_type": "markdown",
   "metadata": {
    "id": "JMJ-LSQd8xAC"
   },
   "source": [
    "But there are certain problems with this approach:\n",
    "\n",
    "- The **dtype of the output is still an object**, we would prefer a number type\n",
    "- The date format will always **not be in day-month-year**, it can vary "
   ]
  },
  {
   "cell_type": "markdown",
   "metadata": {
    "id": "E_8CSEx69Jb_"
   },
   "source": [
    "Thus, to work with such date-time type of data, we can use a special method of pandas"
   ]
  },
  {
   "cell_type": "markdown",
   "metadata": {
    "id": "wMTuF7KrNDAT"
   },
   "source": [
    "### Datetime"
   ]
  },
  {
   "cell_type": "markdown",
   "metadata": {
    "id": "6xxJoFcfFCzX"
   },
   "source": [
    "Lets start with understanding a date-time type of data\n",
    "\n",
    "#### How can we handle handle date-time data-types?\n",
    "\n",
    "  - We can do using the `to_datetime()` function of pandas\n",
    "  - It takes as input:\n",
    "    - Array/Scalars with values having proper date/time format\n",
    "    - `dayfirst`: Indicating if the day comes first in the date format used\n",
    "    - `yearfirst`: Indicates if year comes first in the date format"
   ]
  },
  {
   "cell_type": "markdown",
   "metadata": {
    "id": "2K46DB-_0S7Q"
   },
   "source": [
    "Let's first merge our ```Date``` and ```time``` columns into a new timestamp column\n",
    "\n",
    "\n"
   ]
  },
  {
   "cell_type": "code",
   "execution_count": 55,
   "metadata": {
    "id": "zpkmx8Co0ZEA"
   },
   "outputs": [],
   "source": [
    "data_tidy['timestamp'] = data_tidy['Date']+ \" \"+ data_tidy['time']"
   ]
  },
  {
   "cell_type": "code",
   "execution_count": 56,
   "metadata": {
    "id": "9tQnoK9M1elO"
   },
   "outputs": [],
   "source": [
    "data_tidy.drop(['Date', 'time'], axis=1, inplace=True)"
   ]
  },
  {
   "cell_type": "code",
   "execution_count": 57,
   "metadata": {
    "colab": {
     "base_uri": "https://localhost:8080/",
     "height": 357
    },
    "id": "GrNya36J0nAy",
    "outputId": "d7008e79-7ba4-47a6-ae92-7b5e77151ea7"
   },
   "outputs": [
    {
     "data": {
      "text/html": [
       "<div>\n",
       "<style scoped>\n",
       "    .dataframe tbody tr th:only-of-type {\n",
       "        vertical-align: middle;\n",
       "    }\n",
       "\n",
       "    .dataframe tbody tr th {\n",
       "        vertical-align: top;\n",
       "    }\n",
       "\n",
       "    .dataframe thead th {\n",
       "        text-align: right;\n",
       "    }\n",
       "</style>\n",
       "<table border=\"1\" class=\"dataframe\">\n",
       "  <thead>\n",
       "    <tr style=\"text-align: right;\">\n",
       "      <th>None</th>\n",
       "      <th>Drug_Name</th>\n",
       "      <th>Pressure</th>\n",
       "      <th>Temperature</th>\n",
       "      <th>Temperature_avg</th>\n",
       "      <th>Pressure_avg</th>\n",
       "      <th>temp_cat</th>\n",
       "      <th>timestamp</th>\n",
       "    </tr>\n",
       "  </thead>\n",
       "  <tbody>\n",
       "    <tr>\n",
       "      <th>0</th>\n",
       "      <td>diltiazem hydrochloride</td>\n",
       "      <td>18.0</td>\n",
       "      <td>20.0</td>\n",
       "      <td>24.848485</td>\n",
       "      <td>15.424242</td>\n",
       "      <td>low</td>\n",
       "      <td>15-10-2020 10:30:00</td>\n",
       "    </tr>\n",
       "    <tr>\n",
       "      <th>1</th>\n",
       "      <td>docetaxel injection</td>\n",
       "      <td>26.0</td>\n",
       "      <td>23.0</td>\n",
       "      <td>30.387097</td>\n",
       "      <td>25.483871</td>\n",
       "      <td>medium</td>\n",
       "      <td>15-10-2020 10:30:00</td>\n",
       "    </tr>\n",
       "    <tr>\n",
       "      <th>2</th>\n",
       "      <td>ketamine hydrochloride</td>\n",
       "      <td>9.0</td>\n",
       "      <td>22.0</td>\n",
       "      <td>17.709677</td>\n",
       "      <td>11.935484</td>\n",
       "      <td>medium</td>\n",
       "      <td>15-10-2020 10:30:00</td>\n",
       "    </tr>\n",
       "    <tr>\n",
       "      <th>3</th>\n",
       "      <td>diltiazem hydrochloride</td>\n",
       "      <td>19.0</td>\n",
       "      <td>20.0</td>\n",
       "      <td>24.848485</td>\n",
       "      <td>15.424242</td>\n",
       "      <td>low</td>\n",
       "      <td>15-10-2020 11:30:00</td>\n",
       "    </tr>\n",
       "    <tr>\n",
       "      <th>4</th>\n",
       "      <td>docetaxel injection</td>\n",
       "      <td>29.0</td>\n",
       "      <td>25.0</td>\n",
       "      <td>30.387097</td>\n",
       "      <td>25.483871</td>\n",
       "      <td>medium</td>\n",
       "      <td>15-10-2020 11:30:00</td>\n",
       "    </tr>\n",
       "  </tbody>\n",
       "</table>\n",
       "</div>"
      ],
      "text/plain": [
       "None                Drug_Name  Pressure  Temperature  Temperature_avg  \\\n",
       "0     diltiazem hydrochloride      18.0         20.0        24.848485   \n",
       "1         docetaxel injection      26.0         23.0        30.387097   \n",
       "2      ketamine hydrochloride       9.0         22.0        17.709677   \n",
       "3     diltiazem hydrochloride      19.0         20.0        24.848485   \n",
       "4         docetaxel injection      29.0         25.0        30.387097   \n",
       "\n",
       "None  Pressure_avg temp_cat            timestamp  \n",
       "0        15.424242      low  15-10-2020 10:30:00  \n",
       "1        25.483871   medium  15-10-2020 10:30:00  \n",
       "2        11.935484   medium  15-10-2020 10:30:00  \n",
       "3        15.424242      low  15-10-2020 11:30:00  \n",
       "4        25.483871   medium  15-10-2020 11:30:00  "
      ]
     },
     "execution_count": 57,
     "metadata": {},
     "output_type": "execute_result"
    }
   ],
   "source": [
    "data_tidy.head()"
   ]
  },
  {
   "cell_type": "markdown",
   "metadata": {
    "id": "IKW2elms0ReB"
   },
   "source": [
    "Lets convert our `timestamp` col now"
   ]
  },
  {
   "cell_type": "code",
   "execution_count": 58,
   "metadata": {
    "colab": {
     "base_uri": "https://localhost:8080/",
     "height": 661
    },
    "id": "ac0215f0",
    "outputId": "f51e1d47-08df-4d81-8924-ed507ef21a54"
   },
   "outputs": [
    {
     "data": {
      "text/html": [
       "<div>\n",
       "<style scoped>\n",
       "    .dataframe tbody tr th:only-of-type {\n",
       "        vertical-align: middle;\n",
       "    }\n",
       "\n",
       "    .dataframe tbody tr th {\n",
       "        vertical-align: top;\n",
       "    }\n",
       "\n",
       "    .dataframe thead th {\n",
       "        text-align: right;\n",
       "    }\n",
       "</style>\n",
       "<table border=\"1\" class=\"dataframe\">\n",
       "  <thead>\n",
       "    <tr style=\"text-align: right;\">\n",
       "      <th>None</th>\n",
       "      <th>Drug_Name</th>\n",
       "      <th>Pressure</th>\n",
       "      <th>Temperature</th>\n",
       "      <th>Temperature_avg</th>\n",
       "      <th>Pressure_avg</th>\n",
       "      <th>temp_cat</th>\n",
       "      <th>timestamp</th>\n",
       "    </tr>\n",
       "  </thead>\n",
       "  <tbody>\n",
       "    <tr>\n",
       "      <th>0</th>\n",
       "      <td>diltiazem hydrochloride</td>\n",
       "      <td>18.0</td>\n",
       "      <td>20.0</td>\n",
       "      <td>24.848485</td>\n",
       "      <td>15.424242</td>\n",
       "      <td>low</td>\n",
       "      <td>2020-10-15 10:30:00</td>\n",
       "    </tr>\n",
       "    <tr>\n",
       "      <th>1</th>\n",
       "      <td>docetaxel injection</td>\n",
       "      <td>26.0</td>\n",
       "      <td>23.0</td>\n",
       "      <td>30.387097</td>\n",
       "      <td>25.483871</td>\n",
       "      <td>medium</td>\n",
       "      <td>2020-10-15 10:30:00</td>\n",
       "    </tr>\n",
       "    <tr>\n",
       "      <th>2</th>\n",
       "      <td>ketamine hydrochloride</td>\n",
       "      <td>9.0</td>\n",
       "      <td>22.0</td>\n",
       "      <td>17.709677</td>\n",
       "      <td>11.935484</td>\n",
       "      <td>medium</td>\n",
       "      <td>2020-10-15 10:30:00</td>\n",
       "    </tr>\n",
       "    <tr>\n",
       "      <th>3</th>\n",
       "      <td>diltiazem hydrochloride</td>\n",
       "      <td>19.0</td>\n",
       "      <td>20.0</td>\n",
       "      <td>24.848485</td>\n",
       "      <td>15.424242</td>\n",
       "      <td>low</td>\n",
       "      <td>2020-10-15 11:30:00</td>\n",
       "    </tr>\n",
       "    <tr>\n",
       "      <th>4</th>\n",
       "      <td>docetaxel injection</td>\n",
       "      <td>29.0</td>\n",
       "      <td>25.0</td>\n",
       "      <td>30.387097</td>\n",
       "      <td>25.483871</td>\n",
       "      <td>medium</td>\n",
       "      <td>2020-10-15 11:30:00</td>\n",
       "    </tr>\n",
       "    <tr>\n",
       "      <th>...</th>\n",
       "      <td>...</td>\n",
       "      <td>...</td>\n",
       "      <td>...</td>\n",
       "      <td>...</td>\n",
       "      <td>...</td>\n",
       "      <td>...</td>\n",
       "      <td>...</td>\n",
       "    </tr>\n",
       "    <tr>\n",
       "      <th>103</th>\n",
       "      <td>docetaxel injection</td>\n",
       "      <td>26.0</td>\n",
       "      <td>19.0</td>\n",
       "      <td>30.387097</td>\n",
       "      <td>25.483871</td>\n",
       "      <td>low</td>\n",
       "      <td>2020-10-17 08:30:00</td>\n",
       "    </tr>\n",
       "    <tr>\n",
       "      <th>104</th>\n",
       "      <td>ketamine hydrochloride</td>\n",
       "      <td>11.0</td>\n",
       "      <td>20.0</td>\n",
       "      <td>17.709677</td>\n",
       "      <td>11.935484</td>\n",
       "      <td>low</td>\n",
       "      <td>2020-10-17 08:30:00</td>\n",
       "    </tr>\n",
       "    <tr>\n",
       "      <th>105</th>\n",
       "      <td>diltiazem hydrochloride</td>\n",
       "      <td>9.0</td>\n",
       "      <td>13.0</td>\n",
       "      <td>24.848485</td>\n",
       "      <td>15.424242</td>\n",
       "      <td>low</td>\n",
       "      <td>2020-10-17 09:30:00</td>\n",
       "    </tr>\n",
       "    <tr>\n",
       "      <th>106</th>\n",
       "      <td>docetaxel injection</td>\n",
       "      <td>27.0</td>\n",
       "      <td>20.0</td>\n",
       "      <td>30.387097</td>\n",
       "      <td>25.483871</td>\n",
       "      <td>low</td>\n",
       "      <td>2020-10-17 09:30:00</td>\n",
       "    </tr>\n",
       "    <tr>\n",
       "      <th>107</th>\n",
       "      <td>ketamine hydrochloride</td>\n",
       "      <td>12.0</td>\n",
       "      <td>21.0</td>\n",
       "      <td>17.709677</td>\n",
       "      <td>11.935484</td>\n",
       "      <td>medium</td>\n",
       "      <td>2020-10-17 09:30:00</td>\n",
       "    </tr>\n",
       "  </tbody>\n",
       "</table>\n",
       "<p>108 rows × 7 columns</p>\n",
       "</div>"
      ],
      "text/plain": [
       "None                Drug_Name  Pressure  Temperature  Temperature_avg  \\\n",
       "0     diltiazem hydrochloride      18.0         20.0        24.848485   \n",
       "1         docetaxel injection      26.0         23.0        30.387097   \n",
       "2      ketamine hydrochloride       9.0         22.0        17.709677   \n",
       "3     diltiazem hydrochloride      19.0         20.0        24.848485   \n",
       "4         docetaxel injection      29.0         25.0        30.387097   \n",
       "..                        ...       ...          ...              ...   \n",
       "103       docetaxel injection      26.0         19.0        30.387097   \n",
       "104    ketamine hydrochloride      11.0         20.0        17.709677   \n",
       "105   diltiazem hydrochloride       9.0         13.0        24.848485   \n",
       "106       docetaxel injection      27.0         20.0        30.387097   \n",
       "107    ketamine hydrochloride      12.0         21.0        17.709677   \n",
       "\n",
       "None  Pressure_avg temp_cat           timestamp  \n",
       "0        15.424242      low 2020-10-15 10:30:00  \n",
       "1        25.483871   medium 2020-10-15 10:30:00  \n",
       "2        11.935484   medium 2020-10-15 10:30:00  \n",
       "3        15.424242      low 2020-10-15 11:30:00  \n",
       "4        25.483871   medium 2020-10-15 11:30:00  \n",
       "..             ...      ...                 ...  \n",
       "103      25.483871      low 2020-10-17 08:30:00  \n",
       "104      11.935484      low 2020-10-17 08:30:00  \n",
       "105      15.424242      low 2020-10-17 09:30:00  \n",
       "106      25.483871      low 2020-10-17 09:30:00  \n",
       "107      11.935484   medium 2020-10-17 09:30:00  \n",
       "\n",
       "[108 rows x 7 columns]"
      ]
     },
     "execution_count": 58,
     "metadata": {},
     "output_type": "execute_result"
    }
   ],
   "source": [
    "data_tidy['timestamp'] = pd.to_datetime(data_tidy['timestamp']) # will leave to explore how you can mention datetime format by your own\n",
    "\n",
    "data_tidy"
   ]
  },
  {
   "cell_type": "code",
   "execution_count": 59,
   "metadata": {
    "colab": {
     "base_uri": "https://localhost:8080/"
    },
    "id": "686c3076",
    "outputId": "ab6e2e4d-2681-45d5-f0de-8b9575e8fcac"
   },
   "outputs": [
    {
     "name": "stdout",
     "output_type": "stream",
     "text": [
      "<class 'pandas.core.frame.DataFrame'>\n",
      "Int64Index: 108 entries, 0 to 107\n",
      "Data columns (total 7 columns):\n",
      " #   Column           Non-Null Count  Dtype         \n",
      "---  ------           --------------  -----         \n",
      " 0   Drug_Name        108 non-null    object        \n",
      " 1   Pressure         108 non-null    float64       \n",
      " 2   Temperature      108 non-null    float64       \n",
      " 3   Temperature_avg  108 non-null    float64       \n",
      " 4   Pressure_avg     108 non-null    float64       \n",
      " 5   temp_cat         108 non-null    category      \n",
      " 6   timestamp        108 non-null    datetime64[ns]\n",
      "dtypes: category(1), datetime64[ns](1), float64(4), object(1)\n",
      "memory usage: 10.3+ KB\n"
     ]
    }
   ],
   "source": [
    "data_tidy.info()"
   ]
  },
  {
   "cell_type": "markdown",
   "metadata": {
    "id": "9cb9c761"
   },
   "source": [
    "The **type of `timestamp` column** has been **changed to `datetime`** from `object`"
   ]
  },
  {
   "cell_type": "markdown",
   "metadata": {
    "id": "921e30f8"
   },
   "source": [
    "Now, Let's look at a single timestamp using Pandas\n",
    "\n",
    "#### How can we **extract information** from a single **timestamp** using Pandas?"
   ]
  },
  {
   "cell_type": "code",
   "execution_count": 60,
   "metadata": {
    "colab": {
     "base_uri": "https://localhost:8080/"
    },
    "id": "9630ca61",
    "outputId": "18aeeda8-1947-4909-9713-063720fd61cd"
   },
   "outputs": [
    {
     "data": {
      "text/plain": [
       "Timestamp('2020-10-15 10:30:00')"
      ]
     },
     "execution_count": 60,
     "metadata": {},
     "output_type": "execute_result"
    }
   ],
   "source": [
    "ts = data_tidy['timestamp'][0]\n",
    "ts"
   ]
  },
  {
   "cell_type": "markdown",
   "metadata": {
    "id": "aUWxoBXxXCsC"
   },
   "source": [
    "#### Now how can we extract the year from this date ?\n"
   ]
  },
  {
   "cell_type": "code",
   "execution_count": 61,
   "metadata": {
    "colab": {
     "base_uri": "https://localhost:8080/"
    },
    "id": "b23147d1",
    "outputId": "af2e3a80-fa05-470b-e09e-8b755bb89707"
   },
   "outputs": [
    {
     "data": {
      "text/plain": [
       "2020"
      ]
     },
     "execution_count": 61,
     "metadata": {},
     "output_type": "execute_result"
    }
   ],
   "source": [
    "ts.year"
   ]
  },
  {
   "cell_type": "markdown",
   "metadata": {
    "id": "BzX76yfCXOpQ"
   },
   "source": [
    "Similarly we can also access the month and day using the `month` and `day` attributes"
   ]
  },
  {
   "cell_type": "code",
   "execution_count": 62,
   "metadata": {
    "colab": {
     "base_uri": "https://localhost:8080/"
    },
    "id": "1b6f06db",
    "outputId": "ad7f48c1-2d26-413b-dd84-0ea8f32672c9"
   },
   "outputs": [
    {
     "data": {
      "text/plain": [
       "10"
      ]
     },
     "execution_count": 62,
     "metadata": {},
     "output_type": "execute_result"
    }
   ],
   "source": [
    "ts.month"
   ]
  },
  {
   "cell_type": "code",
   "execution_count": 63,
   "metadata": {
    "colab": {
     "base_uri": "https://localhost:8080/"
    },
    "id": "b3614273",
    "outputId": "0439e270-0a9d-43c8-ea13-44c52612af58"
   },
   "outputs": [
    {
     "data": {
      "text/plain": [
       "15"
      ]
     },
     "execution_count": 63,
     "metadata": {},
     "output_type": "execute_result"
    }
   ],
   "source": [
    "ts.day"
   ]
  },
  {
   "cell_type": "markdown",
   "metadata": {
    "id": "HXrh96fKXYdZ"
   },
   "source": [
    "#### But what if we want to know the name of the month or the day of the week on that date ?\n",
    "  - We can find it using `month_name()` and `day_name()` methods"
   ]
  },
  {
   "cell_type": "code",
   "execution_count": 64,
   "metadata": {
    "colab": {
     "base_uri": "https://localhost:8080/",
     "height": 36
    },
    "id": "5549b282",
    "outputId": "4f199af3-9d3d-4444-cc9c-a4f5c3776990"
   },
   "outputs": [
    {
     "data": {
      "text/plain": [
       "'October'"
      ]
     },
     "execution_count": 64,
     "metadata": {},
     "output_type": "execute_result"
    }
   ],
   "source": [
    "ts.month_name()"
   ]
  },
  {
   "cell_type": "code",
   "execution_count": 65,
   "metadata": {
    "colab": {
     "base_uri": "https://localhost:8080/",
     "height": 36
    },
    "id": "8d604c3d",
    "outputId": "b9a58524-06cc-43f1-a93c-ba218d3bb44b"
   },
   "outputs": [
    {
     "data": {
      "text/plain": [
       "'Thursday'"
      ]
     },
     "execution_count": 65,
     "metadata": {},
     "output_type": "execute_result"
    }
   ],
   "source": [
    "ts.day_name()"
   ]
  },
  {
   "cell_type": "code",
   "execution_count": 66,
   "metadata": {
    "colab": {
     "base_uri": "https://localhost:8080/"
    },
    "id": "4c5159fd",
    "outputId": "ed0a8e09-bdeb-4fc2-930f-1363c448798a"
   },
   "outputs": [
    {
     "data": {
      "text/plain": [
       "3"
      ]
     },
     "execution_count": 66,
     "metadata": {},
     "output_type": "execute_result"
    }
   ],
   "source": [
    "ts.dayofweek"
   ]
  },
  {
   "cell_type": "code",
   "execution_count": 67,
   "metadata": {
    "colab": {
     "base_uri": "https://localhost:8080/"
    },
    "id": "cd235ba6",
    "outputId": "e066c54b-2d14-4089-f760-2c8066371d60"
   },
   "outputs": [
    {
     "data": {
      "text/plain": [
       "10"
      ]
     },
     "execution_count": 67,
     "metadata": {},
     "output_type": "execute_result"
    }
   ],
   "source": [
    "ts.hour"
   ]
  },
  {
   "cell_type": "code",
   "execution_count": 68,
   "metadata": {
    "colab": {
     "base_uri": "https://localhost:8080/"
    },
    "id": "jfxzjk7QDbr1",
    "outputId": "5edfea10-8870-4d69-9dba-4b35de84f238"
   },
   "outputs": [
    {
     "data": {
      "text/plain": [
       "30"
      ]
     },
     "execution_count": 68,
     "metadata": {},
     "output_type": "execute_result"
    }
   ],
   "source": [
    "ts.minute"
   ]
  },
  {
   "cell_type": "markdown",
   "metadata": {
    "id": "12604d43"
   },
   "source": [
    "... and so on\n",
    "\n",
    "We can similarly extract minutes and seconds\n",
    "\n",
    "\n",
    "#### This data parsing from string to date-time makes it easier to work with data\n",
    "\n",
    "We can use this data from the columns as a whole using ```.dt``` object"
   ]
  },
  {
   "cell_type": "code",
   "execution_count": 69,
   "metadata": {
    "colab": {
     "base_uri": "https://localhost:8080/"
    },
    "id": "397db0cb",
    "outputId": "319e06de-bdbb-4244-9a2c-1f79f8694d3a"
   },
   "outputs": [
    {
     "data": {
      "text/plain": [
       "<pandas.core.indexes.accessors.DatetimeProperties object at 0x0000029DFF8D2B50>"
      ]
     },
     "execution_count": 69,
     "metadata": {},
     "output_type": "execute_result"
    }
   ],
   "source": [
    "data_tidy['timestamp'].dt"
   ]
  },
  {
   "cell_type": "markdown",
   "metadata": {
    "id": "53f914b0"
   },
   "source": [
    "- **`dt` gives properties of values in a column**\n",
    "\n",
    "- From this **`DatetimeProperties` of column `'end'`**, we can **extract `year`**"
   ]
  },
  {
   "cell_type": "code",
   "execution_count": 70,
   "metadata": {
    "colab": {
     "base_uri": "https://localhost:8080/"
    },
    "id": "d0ad00fa",
    "outputId": "66381932-7a04-4b4e-854c-2c937d1f549b"
   },
   "outputs": [
    {
     "data": {
      "text/plain": [
       "0      2020\n",
       "1      2020\n",
       "2      2020\n",
       "3      2020\n",
       "4      2020\n",
       "       ... \n",
       "103    2020\n",
       "104    2020\n",
       "105    2020\n",
       "106    2020\n",
       "107    2020\n",
       "Name: timestamp, Length: 108, dtype: int64"
      ]
     },
     "execution_count": 70,
     "metadata": {},
     "output_type": "execute_result"
    }
   ],
   "source": [
    "data_tidy['timestamp'].dt.year"
   ]
  },
  {
   "cell_type": "markdown",
   "metadata": {
    "id": "57b0eb10"
   },
   "source": [
    "Now, Let's **create the new column using these extracted values from the property**"
   ]
  },
  {
   "cell_type": "markdown",
   "metadata": {
    "id": "vEnNAtL4R6Ay"
   },
   "source": [
    "We will use strfttime, short for stringformat time, to modify our datetime format\n",
    "\n",
    "Let's learn this with the help of few examples"
   ]
  },
  {
   "cell_type": "code",
   "execution_count": 71,
   "metadata": {
    "colab": {
     "base_uri": "https://localhost:8080/"
    },
    "id": "wxXEm4GoSdxW",
    "outputId": "34219c43-e433-424f-8be1-ff04f8202689"
   },
   "outputs": [
    {
     "data": {
      "text/plain": [
       "Timestamp('2020-10-15 10:30:00')"
      ]
     },
     "execution_count": 71,
     "metadata": {},
     "output_type": "execute_result"
    }
   ],
   "source": [
    "data_tidy['timestamp'][0]"
   ]
  },
  {
   "cell_type": "code",
   "execution_count": 72,
   "metadata": {
    "colab": {
     "base_uri": "https://localhost:8080/"
    },
    "id": "hrFwWBvFSEUh",
    "outputId": "30c28c03-8d94-45a3-9d14-df6bcd4cf9ca"
   },
   "outputs": [
    {
     "name": "stdout",
     "output_type": "stream",
     "text": [
      "2020\n"
     ]
    }
   ],
   "source": [
    "print(data_tidy['timestamp'][0].strftime('%Y')) # Formatter for year"
   ]
  },
  {
   "cell_type": "code",
   "execution_count": 73,
   "metadata": {
    "colab": {
     "base_uri": "https://localhost:8080/"
    },
    "id": "hlPuWmIGSKxu",
    "outputId": "00368e3f-451c-4d6a-891c-3beae2d70e7d"
   },
   "outputs": [
    {
     "name": "stdout",
     "output_type": "stream",
     "text": [
      "10\n"
     ]
    }
   ],
   "source": [
    "print(data_tidy['timestamp'][0].strftime('%m')) # Formatter for month"
   ]
  },
  {
   "cell_type": "code",
   "execution_count": 74,
   "metadata": {
    "colab": {
     "base_uri": "https://localhost:8080/"
    },
    "id": "hDR6z2TpSM96",
    "outputId": "574ddb05-c720-4b08-bad2-f151161570db"
   },
   "outputs": [
    {
     "name": "stdout",
     "output_type": "stream",
     "text": [
      "15\n"
     ]
    }
   ],
   "source": [
    "print(data_tidy['timestamp'][0].strftime('%d')) # Formatter for day"
   ]
  },
  {
   "cell_type": "code",
   "execution_count": 75,
   "metadata": {
    "colab": {
     "base_uri": "https://localhost:8080/"
    },
    "id": "d_0odFX5SYxY",
    "outputId": "084556d5-94df-4e5a-ce27-faad38405147"
   },
   "outputs": [
    {
     "name": "stdout",
     "output_type": "stream",
     "text": [
      "10\n"
     ]
    }
   ],
   "source": [
    "print(data_tidy['timestamp'][0].strftime('%H')) # Formatter for hour"
   ]
  },
  {
   "cell_type": "code",
   "execution_count": 76,
   "metadata": {
    "colab": {
     "base_uri": "https://localhost:8080/"
    },
    "id": "wcesgeQASiZh",
    "outputId": "f8a31d52-ea02-4afc-bc56-3ec5c798756b"
   },
   "outputs": [
    {
     "name": "stdout",
     "output_type": "stream",
     "text": [
      "30\n"
     ]
    }
   ],
   "source": [
    "print(data_tidy['timestamp'][0].strftime('%M')) # Formatter for minutes"
   ]
  },
  {
   "cell_type": "code",
   "execution_count": 77,
   "metadata": {
    "colab": {
     "base_uri": "https://localhost:8080/"
    },
    "id": "0DkFuKdwSixu",
    "outputId": "b4756276-00ac-4020-f122-69b34df85437"
   },
   "outputs": [
    {
     "name": "stdout",
     "output_type": "stream",
     "text": [
      "00\n"
     ]
    }
   ],
   "source": [
    "print(data_tidy['timestamp'][0].strftime('%S')) # Formatter for seconds"
   ]
  },
  {
   "cell_type": "markdown",
   "metadata": {
    "id": "wjIs4gLwSpuz"
   },
   "source": [
    "Similarly we can combine the format types to modify the date-time format as per our convinience"
   ]
  },
  {
   "cell_type": "code",
   "execution_count": 78,
   "metadata": {
    "colab": {
     "base_uri": "https://localhost:8080/",
     "height": 36
    },
    "id": "d8e9225e",
    "outputId": "b54fbdf8-6552-48d7-fd42-456aa5bd2366"
   },
   "outputs": [
    {
     "data": {
      "text/plain": [
       "'10-15'"
      ]
     },
     "execution_count": 78,
     "metadata": {},
     "output_type": "execute_result"
    }
   ],
   "source": [
    "data_tidy['timestamp'][0].strftime('%m-%d')"
   ]
  },
  {
   "cell_type": "markdown",
   "metadata": {
    "id": "gMw1SsFBpLx2"
   },
   "source": [
    "### Writing to file\n",
    "\n",
    "\n",
    "#### How can we write our dataframe to a csv file?\n",
    "\n",
    "\n",
    "- We have to **provide the path and file_name** in which you want to store the data"
   ]
  },
  {
   "cell_type": "code",
   "execution_count": 79,
   "metadata": {
    "id": "24747bf1"
   },
   "outputs": [],
   "source": [
    "data_tidy.to_csv('pfizer_tidy.csv', sep=\",\") "
   ]
  },
  {
   "cell_type": "code",
   "execution_count": null,
   "metadata": {},
   "outputs": [],
   "source": []
  }
 ],
 "metadata": {
  "colab": {
   "provenance": []
  },
  "kernelspec": {
   "display_name": "Python 3 (ipykernel)",
   "language": "python",
   "name": "python3"
  },
  "language_info": {
   "codemirror_mode": {
    "name": "ipython",
    "version": 3
   },
   "file_extension": ".py",
   "mimetype": "text/x-python",
   "name": "python",
   "nbconvert_exporter": "python",
   "pygments_lexer": "ipython3",
   "version": "3.9.12"
  }
 },
 "nbformat": 4,
 "nbformat_minor": 1
}
