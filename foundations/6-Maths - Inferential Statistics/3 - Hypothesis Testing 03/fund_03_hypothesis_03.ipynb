{
 "cells": [
  {
   "cell_type": "code",
   "execution_count": 45,
   "id": "078ef009",
   "metadata": {},
   "outputs": [],
   "source": [
    "import numpy as np\n",
    "import pandas as pd\n",
    "import seaborn as sns\n",
    "import matplotlib.pyplot as plt\n",
    "\n",
    "from scipy.stats import ttest_1samp, ttest_ind, ttest_rel\n",
    "from scipy.stats import norm, t"
   ]
  },
  {
   "cell_type": "markdown",
   "id": "e23da1f1",
   "metadata": {
    "heading_collapsed": true
   },
   "source": [
    "# Improve IQ"
   ]
  },
  {
   "cell_type": "markdown",
   "id": "b9c17983",
   "metadata": {
    "hidden": true
   },
   "source": [
    "Population IQ average = 100"
   ]
  },
  {
   "cell_type": "markdown",
   "id": "9c87c418",
   "metadata": {
    "hidden": true
   },
   "source": [
    "One researcher claims his pill will improve"
   ]
  },
  {
   "cell_type": "code",
   "execution_count": 2,
   "id": "05c85da4",
   "metadata": {
    "hidden": true
   },
   "outputs": [],
   "source": [
    "# The pill is given to a few people and their IQ is tested with following results:\n",
    "iq_scores = [110, 105, 98, 102, 99, 104, 115, 95]"
   ]
  },
  {
   "cell_type": "code",
   "execution_count": 3,
   "id": "7612615d",
   "metadata": {
    "hidden": true
   },
   "outputs": [
    {
     "data": {
      "text/plain": [
       "103.5"
      ]
     },
     "execution_count": 3,
     "metadata": {},
     "output_type": "execute_result"
    }
   ],
   "source": [
    "np.mean(iq_scores)"
   ]
  },
  {
   "cell_type": "markdown",
   "id": "3f9aac97",
   "metadata": {
    "hidden": true
   },
   "source": [
    "H0: mu = 100\n",
    "\n",
    "Ha: mu > 100"
   ]
  },
  {
   "cell_type": "code",
   "execution_count": 4,
   "id": "c7b6c68d",
   "metadata": {
    "hidden": true
   },
   "outputs": [],
   "source": [
    "alpha = 0.01"
   ]
  },
  {
   "cell_type": "code",
   "execution_count": 5,
   "id": "eefcd210",
   "metadata": {
    "hidden": true
   },
   "outputs": [],
   "source": [
    "t_stat, p_value = ttest_1samp(iq_scores, 100)"
   ]
  },
  {
   "cell_type": "code",
   "execution_count": 6,
   "id": "ccfa59a0",
   "metadata": {
    "hidden": true
   },
   "outputs": [
    {
     "data": {
      "text/plain": [
       "0.1754994493585011"
      ]
     },
     "execution_count": 6,
     "metadata": {},
     "output_type": "execute_result"
    }
   ],
   "source": [
    "p_value"
   ]
  },
  {
   "cell_type": "code",
   "execution_count": 7,
   "id": "4eb56fdc",
   "metadata": {
    "hidden": true
   },
   "outputs": [
    {
     "name": "stdout",
     "output_type": "stream",
     "text": [
      "Fail to reject H0\n"
     ]
    }
   ],
   "source": [
    "if p_value < alpha:\n",
    "    print(\"Reject H0\")\n",
    "else:\n",
    "    print(\"Fail to reject H0\")"
   ]
  },
  {
   "cell_type": "markdown",
   "id": "f02edabb",
   "metadata": {
    "heading_collapsed": true
   },
   "source": [
    "# Two drugs recovery time"
   ]
  },
  {
   "cell_type": "code",
   "execution_count": 8,
   "id": "6843c672",
   "metadata": {
    "hidden": true
   },
   "outputs": [
    {
     "data": {
      "text/html": [
       "<div>\n",
       "<style scoped>\n",
       "    .dataframe tbody tr th:only-of-type {\n",
       "        vertical-align: middle;\n",
       "    }\n",
       "\n",
       "    .dataframe tbody tr th {\n",
       "        vertical-align: top;\n",
       "    }\n",
       "\n",
       "    .dataframe thead th {\n",
       "        text-align: right;\n",
       "    }\n",
       "</style>\n",
       "<table border=\"1\" class=\"dataframe\">\n",
       "  <thead>\n",
       "    <tr style=\"text-align: right;\">\n",
       "      <th></th>\n",
       "      <th>drug_1</th>\n",
       "    </tr>\n",
       "  </thead>\n",
       "  <tbody>\n",
       "    <tr>\n",
       "      <th>0</th>\n",
       "      <td>8.824208</td>\n",
       "    </tr>\n",
       "    <tr>\n",
       "      <th>1</th>\n",
       "      <td>7.477745</td>\n",
       "    </tr>\n",
       "    <tr>\n",
       "      <th>2</th>\n",
       "      <td>7.557121</td>\n",
       "    </tr>\n",
       "    <tr>\n",
       "      <th>3</th>\n",
       "      <td>7.981314</td>\n",
       "    </tr>\n",
       "    <tr>\n",
       "      <th>4</th>\n",
       "      <td>6.827716</td>\n",
       "    </tr>\n",
       "    <tr>\n",
       "      <th>...</th>\n",
       "      <td>...</td>\n",
       "    </tr>\n",
       "    <tr>\n",
       "      <th>95</th>\n",
       "      <td>6.890506</td>\n",
       "    </tr>\n",
       "    <tr>\n",
       "      <th>96</th>\n",
       "      <td>7.725759</td>\n",
       "    </tr>\n",
       "    <tr>\n",
       "      <th>97</th>\n",
       "      <td>6.848016</td>\n",
       "    </tr>\n",
       "    <tr>\n",
       "      <th>98</th>\n",
       "      <td>7.969997</td>\n",
       "    </tr>\n",
       "    <tr>\n",
       "      <th>99</th>\n",
       "      <td>7.104209</td>\n",
       "    </tr>\n",
       "  </tbody>\n",
       "</table>\n",
       "<p>100 rows × 1 columns</p>\n",
       "</div>"
      ],
      "text/plain": [
       "      drug_1\n",
       "0   8.824208\n",
       "1   7.477745\n",
       "2   7.557121\n",
       "3   7.981314\n",
       "4   6.827716\n",
       "..       ...\n",
       "95  6.890506\n",
       "96  7.725759\n",
       "97  6.848016\n",
       "98  7.969997\n",
       "99  7.104209\n",
       "\n",
       "[100 rows x 1 columns]"
      ]
     },
     "execution_count": 8,
     "metadata": {},
     "output_type": "execute_result"
    }
   ],
   "source": [
    "d1 = pd.read_csv(\"drug_1_recovery.csv\")\n",
    "d1"
   ]
  },
  {
   "cell_type": "code",
   "execution_count": 9,
   "id": "7064fef0",
   "metadata": {
    "hidden": true
   },
   "outputs": [
    {
     "data": {
      "text/plain": [
       "drug_1    7.104917\n",
       "dtype: float64"
      ]
     },
     "execution_count": 9,
     "metadata": {},
     "output_type": "execute_result"
    }
   ],
   "source": [
    "d1.mean()"
   ]
  },
  {
   "cell_type": "code",
   "execution_count": 10,
   "id": "8520be2c",
   "metadata": {
    "hidden": true
   },
   "outputs": [],
   "source": [
    "d2 = pd.read_csv(\"drug_2_recovery.csv\")"
   ]
  },
  {
   "cell_type": "code",
   "execution_count": 11,
   "id": "a0d7b284",
   "metadata": {
    "hidden": true
   },
   "outputs": [
    {
     "data": {
      "text/plain": [
       "drug_2    8.073423\n",
       "dtype: float64"
      ]
     },
     "execution_count": 11,
     "metadata": {},
     "output_type": "execute_result"
    }
   ],
   "source": [
    "d2.mean()"
   ]
  },
  {
   "cell_type": "code",
   "execution_count": 12,
   "id": "09f6d967",
   "metadata": {
    "hidden": true
   },
   "outputs": [
    {
     "data": {
      "text/plain": [
       "100"
      ]
     },
     "execution_count": 12,
     "metadata": {},
     "output_type": "execute_result"
    }
   ],
   "source": [
    "len(d1)"
   ]
  },
  {
   "cell_type": "code",
   "execution_count": 13,
   "id": "1f1e92c8",
   "metadata": {
    "hidden": true
   },
   "outputs": [
    {
     "data": {
      "text/plain": [
       "120"
      ]
     },
     "execution_count": 13,
     "metadata": {},
     "output_type": "execute_result"
    }
   ],
   "source": [
    "len(d2)"
   ]
  },
  {
   "cell_type": "code",
   "execution_count": 14,
   "id": "b69ce1e2",
   "metadata": {
    "hidden": true
   },
   "outputs": [
    {
     "name": "stdout",
     "output_type": "stream",
     "text": [
      "[2.55427147e-07]\n",
      "Reject H0\n"
     ]
    }
   ],
   "source": [
    "# H0: mu1 = mu2 (both drugs are similar)\n",
    "# Ha: mu1 != mu2\n",
    "t_stat, p_value = ttest_ind(d1, d2)\n",
    "print(p_value)\n",
    "if p_value < 0.05:\n",
    "    print(\"Reject H0\")\n",
    "else:\n",
    "    print(\"Fail to reject H0\")"
   ]
  },
  {
   "cell_type": "code",
   "execution_count": 15,
   "id": "a5b8f5bb",
   "metadata": {
    "hidden": true
   },
   "outputs": [
    {
     "name": "stdout",
     "output_type": "stream",
     "text": [
      "[1.27713574e-07]\n",
      "Reject H0\n"
     ]
    }
   ],
   "source": [
    "# Left tailed\n",
    "# H0: mu1 = mu2\n",
    "# Ha: mu1 < mu2\n",
    "t_stat, p_value = ttest_ind(d1, d2, alternative=\"less\")\n",
    "print(p_value)\n",
    "if p_value < 0.05:\n",
    "    print(\"Reject H0\")\n",
    "else:\n",
    "    print(\"Fail to reject H0\")"
   ]
  },
  {
   "cell_type": "code",
   "execution_count": 16,
   "id": "9e254448",
   "metadata": {
    "hidden": true
   },
   "outputs": [
    {
     "name": "stdout",
     "output_type": "stream",
     "text": [
      "[0.99999987]\n",
      "Fail to reject H0\n"
     ]
    }
   ],
   "source": [
    "# Right tailed\n",
    "# H0: mu1 = mu2\n",
    "# Ha: mu1 > mu2\n",
    "t_stat, p_value = ttest_ind(d1, d2, alternative=\"greater\")\n",
    "print(p_value)\n",
    "if p_value < 0.05:\n",
    "    print(\"Reject H0\")\n",
    "else:\n",
    "    print(\"Fail to reject H0\")"
   ]
  },
  {
   "cell_type": "markdown",
   "id": "39678b92",
   "metadata": {
    "heading_collapsed": true
   },
   "source": [
    "# Sachin data"
   ]
  },
  {
   "cell_type": "code",
   "execution_count": 17,
   "id": "69b7f019",
   "metadata": {
    "hidden": true
   },
   "outputs": [],
   "source": [
    "df = pd.read_csv(\"Sachin_ODI.csv\")"
   ]
  },
  {
   "cell_type": "code",
   "execution_count": 18,
   "id": "27b38161",
   "metadata": {
    "hidden": true
   },
   "outputs": [
    {
     "data": {
      "text/html": [
       "<div>\n",
       "<style scoped>\n",
       "    .dataframe tbody tr th:only-of-type {\n",
       "        vertical-align: middle;\n",
       "    }\n",
       "\n",
       "    .dataframe tbody tr th {\n",
       "        vertical-align: top;\n",
       "    }\n",
       "\n",
       "    .dataframe thead th {\n",
       "        text-align: right;\n",
       "    }\n",
       "</style>\n",
       "<table border=\"1\" class=\"dataframe\">\n",
       "  <thead>\n",
       "    <tr style=\"text-align: right;\">\n",
       "      <th></th>\n",
       "      <th>runs</th>\n",
       "      <th>NotOut</th>\n",
       "      <th>mins</th>\n",
       "      <th>bf</th>\n",
       "      <th>fours</th>\n",
       "      <th>sixes</th>\n",
       "      <th>sr</th>\n",
       "      <th>Inns</th>\n",
       "      <th>Opp</th>\n",
       "      <th>Ground</th>\n",
       "      <th>Date</th>\n",
       "      <th>Winner</th>\n",
       "      <th>Won</th>\n",
       "      <th>century</th>\n",
       "    </tr>\n",
       "  </thead>\n",
       "  <tbody>\n",
       "    <tr>\n",
       "      <th>0</th>\n",
       "      <td>13</td>\n",
       "      <td>0</td>\n",
       "      <td>30</td>\n",
       "      <td>15</td>\n",
       "      <td>3</td>\n",
       "      <td>0</td>\n",
       "      <td>86.66</td>\n",
       "      <td>1</td>\n",
       "      <td>New Zealand</td>\n",
       "      <td>Napier</td>\n",
       "      <td>1995-02-16</td>\n",
       "      <td>New Zealand</td>\n",
       "      <td>False</td>\n",
       "      <td>False</td>\n",
       "    </tr>\n",
       "    <tr>\n",
       "      <th>1</th>\n",
       "      <td>37</td>\n",
       "      <td>0</td>\n",
       "      <td>75</td>\n",
       "      <td>51</td>\n",
       "      <td>3</td>\n",
       "      <td>1</td>\n",
       "      <td>72.54</td>\n",
       "      <td>2</td>\n",
       "      <td>South Africa</td>\n",
       "      <td>Hamilton</td>\n",
       "      <td>1995-02-18</td>\n",
       "      <td>South Africa</td>\n",
       "      <td>False</td>\n",
       "      <td>False</td>\n",
       "    </tr>\n",
       "    <tr>\n",
       "      <th>2</th>\n",
       "      <td>47</td>\n",
       "      <td>0</td>\n",
       "      <td>65</td>\n",
       "      <td>40</td>\n",
       "      <td>7</td>\n",
       "      <td>0</td>\n",
       "      <td>117.50</td>\n",
       "      <td>2</td>\n",
       "      <td>Australia</td>\n",
       "      <td>Dunedin</td>\n",
       "      <td>1995-02-22</td>\n",
       "      <td>India</td>\n",
       "      <td>True</td>\n",
       "      <td>False</td>\n",
       "    </tr>\n",
       "    <tr>\n",
       "      <th>3</th>\n",
       "      <td>48</td>\n",
       "      <td>0</td>\n",
       "      <td>37</td>\n",
       "      <td>30</td>\n",
       "      <td>9</td>\n",
       "      <td>1</td>\n",
       "      <td>160.00</td>\n",
       "      <td>2</td>\n",
       "      <td>Bangladesh</td>\n",
       "      <td>Sharjah</td>\n",
       "      <td>1995-04-05</td>\n",
       "      <td>India</td>\n",
       "      <td>True</td>\n",
       "      <td>False</td>\n",
       "    </tr>\n",
       "    <tr>\n",
       "      <th>4</th>\n",
       "      <td>4</td>\n",
       "      <td>0</td>\n",
       "      <td>13</td>\n",
       "      <td>9</td>\n",
       "      <td>1</td>\n",
       "      <td>0</td>\n",
       "      <td>44.44</td>\n",
       "      <td>2</td>\n",
       "      <td>Pakistan</td>\n",
       "      <td>Sharjah</td>\n",
       "      <td>1995-04-07</td>\n",
       "      <td>Pakistan</td>\n",
       "      <td>False</td>\n",
       "      <td>False</td>\n",
       "    </tr>\n",
       "  </tbody>\n",
       "</table>\n",
       "</div>"
      ],
      "text/plain": [
       "   runs  NotOut mins  bf  fours  sixes      sr  Inns           Opp    Ground  \\\n",
       "0    13       0   30  15      3      0   86.66     1   New Zealand    Napier   \n",
       "1    37       0   75  51      3      1   72.54     2  South Africa  Hamilton   \n",
       "2    47       0   65  40      7      0  117.50     2     Australia   Dunedin   \n",
       "3    48       0   37  30      9      1  160.00     2    Bangladesh   Sharjah   \n",
       "4     4       0   13   9      1      0   44.44     2      Pakistan   Sharjah   \n",
       "\n",
       "         Date        Winner    Won  century  \n",
       "0  1995-02-16   New Zealand  False    False  \n",
       "1  1995-02-18  South Africa  False    False  \n",
       "2  1995-02-22         India   True    False  \n",
       "3  1995-04-05         India   True    False  \n",
       "4  1995-04-07      Pakistan  False    False  "
      ]
     },
     "execution_count": 18,
     "metadata": {},
     "output_type": "execute_result"
    }
   ],
   "source": [
    "df.head()"
   ]
  },
  {
   "cell_type": "code",
   "execution_count": 19,
   "id": "5051f37e",
   "metadata": {
    "hidden": true
   },
   "outputs": [],
   "source": [
    "df_first_innings = df[df[\"Inns\"]==1]\n",
    "df_second_innings = df[df[\"Inns\"]==2]"
   ]
  },
  {
   "cell_type": "code",
   "execution_count": 20,
   "id": "9204940c",
   "metadata": {
    "hidden": true
   },
   "outputs": [
    {
     "data": {
      "text/plain": [
       "46.67058823529412"
      ]
     },
     "execution_count": 20,
     "metadata": {},
     "output_type": "execute_result"
    }
   ],
   "source": [
    "df_first_innings[\"runs\"].mean()"
   ]
  },
  {
   "cell_type": "code",
   "execution_count": 21,
   "id": "35a9be81",
   "metadata": {
    "hidden": true
   },
   "outputs": [
    {
     "data": {
      "text/plain": [
       "40.17368421052632"
      ]
     },
     "execution_count": 21,
     "metadata": {},
     "output_type": "execute_result"
    }
   ],
   "source": [
    "df_second_innings[\"runs\"].mean()"
   ]
  },
  {
   "cell_type": "code",
   "execution_count": 22,
   "id": "f18ddf36",
   "metadata": {
    "hidden": true
   },
   "outputs": [
    {
     "name": "stdout",
     "output_type": "stream",
     "text": [
      "1.4612016295532178\n",
      "0.07241862097379981\n",
      "Fail to reject\n"
     ]
    }
   ],
   "source": [
    "# H0: first innings = second innings (mu1 = mu2)\n",
    "# Ha: mu1 > mu2\n",
    "alpha = 0.05\n",
    "test_stat, p_value = ttest_ind(df_first_innings[\"runs\"], df_second_innings[\"runs\"], alternative=\"greater\")\n",
    "print(test_stat)\n",
    "print(p_value)\n",
    "if p_value < alpha:\n",
    "    print(\"Reject H0\")\n",
    "else:\n",
    "    print(\"Fail to reject\")"
   ]
  },
  {
   "cell_type": "code",
   "execution_count": 23,
   "id": "334dbf43",
   "metadata": {
    "hidden": true
   },
   "outputs": [],
   "source": [
    "df_won = df[df[\"Won\"]==True]\n",
    "df_lost = df[df[\"Won\"]==False]"
   ]
  },
  {
   "cell_type": "code",
   "execution_count": 24,
   "id": "e45573ca",
   "metadata": {
    "hidden": true
   },
   "outputs": [
    {
     "data": {
      "text/plain": [
       "51.0"
      ]
     },
     "execution_count": 24,
     "metadata": {},
     "output_type": "execute_result"
    }
   ],
   "source": [
    "df_won[\"runs\"].mean()"
   ]
  },
  {
   "cell_type": "code",
   "execution_count": 25,
   "id": "51ba474e",
   "metadata": {
    "hidden": true
   },
   "outputs": [
    {
     "data": {
      "text/plain": [
       "35.13068181818182"
      ]
     },
     "execution_count": 25,
     "metadata": {},
     "output_type": "execute_result"
    }
   ],
   "source": [
    "df_lost[\"runs\"].mean()"
   ]
  },
  {
   "cell_type": "code",
   "execution_count": 26,
   "id": "4b1a517c",
   "metadata": {
    "hidden": true
   },
   "outputs": [
    {
     "name": "stdout",
     "output_type": "stream",
     "text": [
      "3.628068563969343\n",
      "0.00016353077486826558\n",
      "Reject H0\n"
     ]
    }
   ],
   "source": [
    "# H0: mu1 = mu2\n",
    "# Ha: mu1 > mu2\n",
    "alpha = 0.05\n",
    "test_stat, p_value = ttest_ind(df_won[\"runs\"], df_lost[\"runs\"], alternative=\"greater\")\n",
    "print(test_stat)\n",
    "print(p_value)\n",
    "if p_value < alpha:\n",
    "    print(\"Reject H0\")\n",
    "else:\n",
    "    print(\"Fail to reject\")"
   ]
  },
  {
   "cell_type": "code",
   "execution_count": 27,
   "id": "0888b857",
   "metadata": {
    "hidden": true
   },
   "outputs": [
    {
     "name": "stdout",
     "output_type": "stream",
     "text": [
      "3.628068563969343\n",
      "0.9998364692251318\n",
      "Fail to reject\n"
     ]
    }
   ],
   "source": [
    "# H0: mu1 = mu2\n",
    "# Ha: mu1 < mu2\n",
    "alpha = 0.05\n",
    "test_stat, p_value = ttest_ind(df_won[\"runs\"], df_lost[\"runs\"], alternative=\"less\")\n",
    "print(test_stat)\n",
    "print(p_value)\n",
    "if p_value < alpha:\n",
    "    print(\"Reject H0\")\n",
    "else:\n",
    "    print(\"Fail to reject\")"
   ]
  },
  {
   "cell_type": "markdown",
   "id": "9915c31f",
   "metadata": {},
   "source": [
    "# Problems"
   ]
  },
  {
   "cell_type": "markdown",
   "id": "32e200f5",
   "metadata": {},
   "source": [
    "The average number of customers entering a store every day is 500,\n",
    "with a standard deviation of 125.\n",
    "\n",
    "A marketing company claims to increase this number.\n",
    "After 70 days, it is seen that the average is 530.\n",
    "Test the claim of the marketing company at a 95% confidence (or 5% significance)"
   ]
  },
  {
   "cell_type": "code",
   "execution_count": 28,
   "id": "360c429b",
   "metadata": {},
   "outputs": [
    {
     "name": "stdout",
     "output_type": "stream",
     "text": [
      "0.022322492581293485\n",
      "Reject H0\n"
     ]
    }
   ],
   "source": [
    "# H0: mu = 500 (Despite marketing, avg custormers will be 500. \"Marketing has no effect\")\n",
    "# Ha: mu > 500\n",
    "\n",
    "# Test statistic: z-score of the sample mean\n",
    "# Right tailed\n",
    "\n",
    "z_stat = (530 - 500) / (125/np.sqrt(70))\n",
    "p_value = 1 - norm.cdf(z_stat)\n",
    "alpha = 0.05\n",
    "print(p_value)\n",
    "if p_value < alpha:\n",
    "    print(\"Reject H0\")\n",
    "else:\n",
    "    print(\"Fail to reject H0\")"
   ]
  },
  {
   "cell_type": "markdown",
   "id": "53caa282",
   "metadata": {},
   "source": [
    "A local football game sees 3.5 goals per match on average, with standard deviation of 0.7. \n",
    "A sample of 45 matches was taken. \n",
    "What should be the maximum average goal of these 45 matches such that we can continue\n",
    "to believe the statement that the population average is 3.5 goals, at a 10% significance (90% confidence)"
   ]
  },
  {
   "cell_type": "code",
   "execution_count": 29,
   "id": "5702b814",
   "metadata": {},
   "outputs": [
    {
     "data": {
      "text/plain": [
       "3.633729699470687"
      ]
     },
     "execution_count": 29,
     "metadata": {},
     "output_type": "execute_result"
    }
   ],
   "source": [
    "# H0: mu = 3.5\n",
    "# Ha: mu > 3.5\n",
    "\n",
    "# Test stat: z-score\n",
    "# Right tailed\n",
    "\n",
    "alpha = 0.1\n",
    "z_critical = norm.ppf(0.9)\n",
    "x = 3.5 + z_critical * 0.7/np.sqrt(45)\n",
    "x"
   ]
  },
  {
   "cell_type": "markdown",
   "id": "7653632f",
   "metadata": {},
   "source": [
    "The number of hours a student spends solving assessment problems across two batches are known.\n",
    "Test if one batch takes lesser time, significance of 5%"
   ]
  },
  {
   "cell_type": "code",
   "execution_count": 30,
   "id": "808248b0",
   "metadata": {},
   "outputs": [],
   "source": [
    "batch_1 = pd.Series([25,30,45,49,47,35,32,42])\n",
    "batch_2 = pd.Series([45,47,25,22,29,32,27,28,40,49,50,33])"
   ]
  },
  {
   "cell_type": "code",
   "execution_count": 31,
   "id": "99eb363f",
   "metadata": {},
   "outputs": [
    {
     "data": {
      "text/plain": [
       "38.125"
      ]
     },
     "execution_count": 31,
     "metadata": {},
     "output_type": "execute_result"
    }
   ],
   "source": [
    "batch_1.mean()"
   ]
  },
  {
   "cell_type": "code",
   "execution_count": 32,
   "id": "f0d50210",
   "metadata": {},
   "outputs": [
    {
     "data": {
      "text/plain": [
       "35.583333333333336"
      ]
     },
     "execution_count": 32,
     "metadata": {},
     "output_type": "execute_result"
    }
   ],
   "source": [
    "batch_2.mean()"
   ]
  },
  {
   "cell_type": "code",
   "execution_count": 33,
   "id": "9fe44573",
   "metadata": {},
   "outputs": [
    {
     "name": "stdout",
     "output_type": "stream",
     "text": [
      "Test statistic =  0.5795450171026676\n",
      "P-value=  0.2847023809445894\n",
      "Fail to reject H0\n"
     ]
    }
   ],
   "source": [
    "# H0: mu1 = mu2\n",
    "# Ha: mu1 > mu2\n",
    "t_stat, p_value = ttest_ind(batch_1, batch_2, alternative=\"greater\")\n",
    "print(\"Test statistic = \", t_stat)\n",
    "print(\"P-value= \", p_value)\n",
    "if p_value < 0.05:\n",
    "    print(\"Reject H0\")\n",
    "else: \n",
    "    print(\"Fail to reject H0\")"
   ]
  },
  {
   "cell_type": "markdown",
   "id": "c733f52c",
   "metadata": {},
   "source": [
    "# From scratch"
   ]
  },
  {
   "cell_type": "code",
   "execution_count": 34,
   "id": "e47ba2af",
   "metadata": {},
   "outputs": [],
   "source": [
    "def ttest_ind_from_data(d1, d2, alternative=\"two-sided\"):\n",
    "    \"\"\"\n",
    "    d1: pandas Series\n",
    "    d2: pandas Series\n",
    "    alternative: {‘two-sided’, ‘less’, ‘greater’}, optional\n",
    "    \"\"\"\n",
    "    n1 = len(d1)\n",
    "    n2 = len(d2)\n",
    "    \n",
    "    m1 = d1.mean()\n",
    "    m2 = d2.mean()\n",
    "    \n",
    "    s1 = d1.std()\n",
    "    s2 = d2.std()\n",
    "    \n",
    "    df = n1 + n2 - 2\n",
    "    \n",
    "    s = np.sqrt((((n1-1)*(s1**2)) + ((n2-1)*(s2**2))) / (n1 + n2 - 2))\n",
    "    \n",
    "    t_stat = (m1 - m2) / (s*np.sqrt(1/n1+ 1/n2))\n",
    "    \n",
    "    if alternative == \"two-sided\":\n",
    "        p_value = 2*(1 - t.cdf(t_stat, df=df))\n",
    "    if alternative == \"less\":\n",
    "        p_value = t.cdf(t_stat, df=df)\n",
    "    if alternative == \"greater\":\n",
    "        p_value = 1 - t.cdf(t_stat, df=df)\n",
    "    print(\"T-stat = \", t_stat)\n",
    "    print(\"P-value = \", p_value)"
   ]
  },
  {
   "cell_type": "code",
   "execution_count": 35,
   "id": "7168025c",
   "metadata": {},
   "outputs": [
    {
     "name": "stdout",
     "output_type": "stream",
     "text": [
      "T-stat =  0.5795450171026676\n",
      "P-value =  0.5694047618891789\n"
     ]
    }
   ],
   "source": [
    "ttest_ind_from_data(batch_1, batch_2)"
   ]
  },
  {
   "cell_type": "code",
   "execution_count": 36,
   "id": "a20f007c",
   "metadata": {},
   "outputs": [
    {
     "data": {
      "text/plain": [
       "Ttest_indResult(statistic=0.5795450171026676, pvalue=0.5694047618891788)"
      ]
     },
     "execution_count": 36,
     "metadata": {},
     "output_type": "execute_result"
    }
   ],
   "source": [
    "ttest_ind(batch_1, batch_2)"
   ]
  },
  {
   "cell_type": "code",
   "execution_count": 37,
   "id": "4ced0c4e",
   "metadata": {},
   "outputs": [
    {
     "data": {
      "text/plain": [
       "0.040929508978807365"
      ]
     },
     "execution_count": 37,
     "metadata": {},
     "output_type": "execute_result"
    }
   ],
   "source": [
    "norm.cdf(-1.74)"
   ]
  },
  {
   "cell_type": "code",
   "execution_count": 38,
   "id": "e23781a6",
   "metadata": {},
   "outputs": [
    {
     "data": {
      "text/plain": [
       "1.2385839573969548e-06"
      ]
     },
     "execution_count": 38,
     "metadata": {},
     "output_type": "execute_result"
    }
   ],
   "source": [
    "1 - norm.cdf(4.71)"
   ]
  },
  {
   "cell_type": "code",
   "execution_count": 39,
   "id": "0551b78c",
   "metadata": {},
   "outputs": [],
   "source": [
    "data = [193, 321, 222, 158, 176, 149, 154, 223, 233, 177, 280, 244, 138, 210, 167, 129, 254, 167, 194, 191, 128, 191, 144, 184, 330, 216, 212, 142, 216, 197, 231, 133, 205, 192, 195, 243, 224, 137, 234, 171, 176, 249, 222, 234, 191]"
   ]
  },
  {
   "cell_type": "code",
   "execution_count": 40,
   "id": "c48c25c9",
   "metadata": {},
   "outputs": [
    {
     "data": {
      "text/plain": [
       "Ttest_1sampResult(statistic=1.3689029903414232, pvalue=0.08898891556150607)"
      ]
     },
     "execution_count": 40,
     "metadata": {},
     "output_type": "execute_result"
    }
   ],
   "source": [
    "ttest_1samp(data, 190, alternative = \"greater\")"
   ]
  },
  {
   "cell_type": "code",
   "execution_count": 41,
   "id": "3e54c31b",
   "metadata": {},
   "outputs": [],
   "source": [
    "female_scores=[25,30,45,49,47,35,32,42]\n",
    "\n",
    "male_scores=[45,47,25,22,29,32,27,28,40,49,50,33]"
   ]
  },
  {
   "cell_type": "code",
   "execution_count": 42,
   "id": "4af2b636",
   "metadata": {},
   "outputs": [
    {
     "data": {
      "text/plain": [
       "Ttest_indResult(statistic=0.5795450171026676, pvalue=0.5694047618891788)"
      ]
     },
     "execution_count": 42,
     "metadata": {},
     "output_type": "execute_result"
    }
   ],
   "source": [
    "ttest_ind(female_scores, male_scores, alternative=\"less\")"
   ]
  },
  {
   "cell_type": "code",
   "execution_count": 47,
   "id": "3c0b4d1e",
   "metadata": {},
   "outputs": [
    {
     "data": {
      "text/plain": [
       "Ttest_relResult(statistic=-1.142185379355503, pvalue=0.14546808501326391)"
      ]
     },
     "execution_count": 47,
     "metadata": {},
     "output_type": "execute_result"
    }
   ],
   "source": [
    "wt_before=[85, 74, 63.5, 69.4, 71.6, 65,90,78]\n",
    "\n",
    "wt_after=[82, 71, 64, 65.2, 67.8, 64.7,95,77]\n",
    "\n",
    "ttest_rel(wt_after, wt_before, alternative=\"less\")"
   ]
  },
  {
   "cell_type": "code",
   "execution_count": null,
   "id": "9e0f6399",
   "metadata": {},
   "outputs": [],
   "source": []
  }
 ],
 "metadata": {
  "kernelspec": {
   "display_name": "Python 3 (ipykernel)",
   "language": "python",
   "name": "python3"
  },
  "language_info": {
   "codemirror_mode": {
    "name": "ipython",
    "version": 3
   },
   "file_extension": ".py",
   "mimetype": "text/x-python",
   "name": "python",
   "nbconvert_exporter": "python",
   "pygments_lexer": "ipython3",
   "version": "3.9.12"
  }
 },
 "nbformat": 4,
 "nbformat_minor": 5
}
