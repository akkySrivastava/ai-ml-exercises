{
 "cells": [
  {
   "cell_type": "code",
   "execution_count": 1,
   "id": "38217cd0",
   "metadata": {},
   "outputs": [],
   "source": [
    "import numpy as np\n",
    "import pandas as pd\n",
    "import seaborn as sns\n",
    "import matplotlib.pyplot as plt\n",
    "\n",
    "from scipy.stats import ttest_1samp, ttest_ind, ttest_ind_from_stats # Numeric Vs Categorical\n",
    "from scipy.stats import f_oneway # ANOVA # Numeric Vs Categorical\n",
    "from scipy.stats import kruskal # Numeric Vs Categorical\n",
    "from scipy.stats import chi2_contingency # Categorical Vs Categorical\n",
    "from scipy.stats import norm, t"
   ]
  },
  {
   "cell_type": "markdown",
   "id": "4a3d0858",
   "metadata": {
    "heading_collapsed": true
   },
   "source": [
    "# IQ improvement with pill"
   ]
  },
  {
   "cell_type": "markdown",
   "id": "09eb135d",
   "metadata": {
    "hidden": true
   },
   "source": [
    "Population average = 100"
   ]
  },
  {
   "cell_type": "markdown",
   "id": "bc52db82",
   "metadata": {
    "hidden": true
   },
   "source": [
    "H0: mu = 100\n",
    "\n",
    "Ha: mu > 100"
   ]
  },
  {
   "cell_type": "code",
   "execution_count": 2,
   "id": "1ad710b4",
   "metadata": {
    "hidden": true
   },
   "outputs": [],
   "source": [
    "# The pill is given to a few people and their IQ is tested with following results:\n",
    "iq_scores = [110, 105, 98, 102, 99, 104, 115, 95]"
   ]
  },
  {
   "cell_type": "code",
   "execution_count": 3,
   "id": "f5a7626c",
   "metadata": {
    "hidden": true
   },
   "outputs": [
    {
     "data": {
      "text/plain": [
       "103.5"
      ]
     },
     "execution_count": 3,
     "metadata": {},
     "output_type": "execute_result"
    }
   ],
   "source": [
    "np.mean(iq_scores)"
   ]
  },
  {
   "cell_type": "code",
   "execution_count": 4,
   "id": "70d38010",
   "metadata": {
    "hidden": true
   },
   "outputs": [],
   "source": [
    "t_stat, p_value = ttest_1samp(iq_scores, 100)"
   ]
  },
  {
   "cell_type": "code",
   "execution_count": 5,
   "id": "f28234bf",
   "metadata": {
    "hidden": true
   },
   "outputs": [
    {
     "data": {
      "text/plain": [
       "1.5071573172061195"
      ]
     },
     "execution_count": 5,
     "metadata": {},
     "output_type": "execute_result"
    }
   ],
   "source": [
    "t_stat"
   ]
  },
  {
   "cell_type": "code",
   "execution_count": 6,
   "id": "985aabcb",
   "metadata": {
    "hidden": true
   },
   "outputs": [
    {
     "data": {
      "text/plain": [
       "0.1754994493585011"
      ]
     },
     "execution_count": 6,
     "metadata": {},
     "output_type": "execute_result"
    }
   ],
   "source": [
    "p_value"
   ]
  },
  {
   "cell_type": "code",
   "execution_count": 7,
   "id": "66476730",
   "metadata": {
    "hidden": true
   },
   "outputs": [
    {
     "name": "stdout",
     "output_type": "stream",
     "text": [
      "Fail to reject H0\n"
     ]
    }
   ],
   "source": [
    "if p_value < 0.01:\n",
    "    print(\"Reject H0\")\n",
    "else:\n",
    "    print(\"Fail to reject H0\") # Continue to believe null hypothesis"
   ]
  },
  {
   "cell_type": "markdown",
   "id": "98102a5e",
   "metadata": {
    "heading_collapsed": true
   },
   "source": [
    "# Drug recovery"
   ]
  },
  {
   "cell_type": "code",
   "execution_count": 8,
   "id": "12027ea9",
   "metadata": {
    "hidden": true
   },
   "outputs": [
    {
     "data": {
      "text/html": [
       "<div>\n",
       "<style scoped>\n",
       "    .dataframe tbody tr th:only-of-type {\n",
       "        vertical-align: middle;\n",
       "    }\n",
       "\n",
       "    .dataframe tbody tr th {\n",
       "        vertical-align: top;\n",
       "    }\n",
       "\n",
       "    .dataframe thead th {\n",
       "        text-align: right;\n",
       "    }\n",
       "</style>\n",
       "<table border=\"1\" class=\"dataframe\">\n",
       "  <thead>\n",
       "    <tr style=\"text-align: right;\">\n",
       "      <th></th>\n",
       "      <th>drug_1</th>\n",
       "    </tr>\n",
       "  </thead>\n",
       "  <tbody>\n",
       "    <tr>\n",
       "      <th>0</th>\n",
       "      <td>8.824208</td>\n",
       "    </tr>\n",
       "    <tr>\n",
       "      <th>1</th>\n",
       "      <td>7.477745</td>\n",
       "    </tr>\n",
       "    <tr>\n",
       "      <th>2</th>\n",
       "      <td>7.557121</td>\n",
       "    </tr>\n",
       "    <tr>\n",
       "      <th>3</th>\n",
       "      <td>7.981314</td>\n",
       "    </tr>\n",
       "    <tr>\n",
       "      <th>4</th>\n",
       "      <td>6.827716</td>\n",
       "    </tr>\n",
       "  </tbody>\n",
       "</table>\n",
       "</div>"
      ],
      "text/plain": [
       "     drug_1\n",
       "0  8.824208\n",
       "1  7.477745\n",
       "2  7.557121\n",
       "3  7.981314\n",
       "4  6.827716"
      ]
     },
     "execution_count": 8,
     "metadata": {},
     "output_type": "execute_result"
    }
   ],
   "source": [
    "d1 = pd.read_csv(\"drug_1_recovery.csv\")\n",
    "d1.head()"
   ]
  },
  {
   "cell_type": "code",
   "execution_count": 9,
   "id": "8b00b10e",
   "metadata": {
    "hidden": true
   },
   "outputs": [
    {
     "data": {
      "text/html": [
       "<div>\n",
       "<style scoped>\n",
       "    .dataframe tbody tr th:only-of-type {\n",
       "        vertical-align: middle;\n",
       "    }\n",
       "\n",
       "    .dataframe tbody tr th {\n",
       "        vertical-align: top;\n",
       "    }\n",
       "\n",
       "    .dataframe thead th {\n",
       "        text-align: right;\n",
       "    }\n",
       "</style>\n",
       "<table border=\"1\" class=\"dataframe\">\n",
       "  <thead>\n",
       "    <tr style=\"text-align: right;\">\n",
       "      <th></th>\n",
       "      <th>drug_2</th>\n",
       "    </tr>\n",
       "  </thead>\n",
       "  <tbody>\n",
       "    <tr>\n",
       "      <th>0</th>\n",
       "      <td>9.565974</td>\n",
       "    </tr>\n",
       "    <tr>\n",
       "      <th>1</th>\n",
       "      <td>7.492915</td>\n",
       "    </tr>\n",
       "    <tr>\n",
       "      <th>2</th>\n",
       "      <td>8.738418</td>\n",
       "    </tr>\n",
       "    <tr>\n",
       "      <th>3</th>\n",
       "      <td>7.635235</td>\n",
       "    </tr>\n",
       "    <tr>\n",
       "      <th>4</th>\n",
       "      <td>4.125593</td>\n",
       "    </tr>\n",
       "  </tbody>\n",
       "</table>\n",
       "</div>"
      ],
      "text/plain": [
       "     drug_2\n",
       "0  9.565974\n",
       "1  7.492915\n",
       "2  8.738418\n",
       "3  7.635235\n",
       "4  4.125593"
      ]
     },
     "execution_count": 9,
     "metadata": {},
     "output_type": "execute_result"
    }
   ],
   "source": [
    "d2 = pd.read_csv(\"drug_2_recovery.csv\")\n",
    "d2.head()"
   ]
  },
  {
   "cell_type": "code",
   "execution_count": 10,
   "id": "a969e7a1",
   "metadata": {
    "hidden": true
   },
   "outputs": [
    {
     "data": {
      "text/plain": [
       "drug_1    7.104917\n",
       "dtype: float64"
      ]
     },
     "execution_count": 10,
     "metadata": {},
     "output_type": "execute_result"
    }
   ],
   "source": [
    "d1.mean()"
   ]
  },
  {
   "cell_type": "code",
   "execution_count": 11,
   "id": "b1e4b23b",
   "metadata": {
    "hidden": true
   },
   "outputs": [
    {
     "data": {
      "text/plain": [
       "drug_2    8.073423\n",
       "dtype: float64"
      ]
     },
     "execution_count": 11,
     "metadata": {},
     "output_type": "execute_result"
    }
   ],
   "source": [
    "d2.mean()"
   ]
  },
  {
   "cell_type": "code",
   "execution_count": 12,
   "id": "da34d879",
   "metadata": {
    "hidden": true
   },
   "outputs": [
    {
     "data": {
      "text/plain": [
       "100"
      ]
     },
     "execution_count": 12,
     "metadata": {},
     "output_type": "execute_result"
    }
   ],
   "source": [
    "len(d1)"
   ]
  },
  {
   "cell_type": "code",
   "execution_count": 13,
   "id": "2d61a4c6",
   "metadata": {
    "hidden": true
   },
   "outputs": [
    {
     "data": {
      "text/plain": [
       "120"
      ]
     },
     "execution_count": 13,
     "metadata": {},
     "output_type": "execute_result"
    }
   ],
   "source": [
    "len(d2)"
   ]
  },
  {
   "cell_type": "code",
   "execution_count": 14,
   "id": "6bae868d",
   "metadata": {
    "hidden": true
   },
   "outputs": [
    {
     "name": "stdout",
     "output_type": "stream",
     "text": [
      "[2.55427147e-07]\n",
      "Reject H0\n"
     ]
    }
   ],
   "source": [
    "# H0: mu1 = mu2 (both drugs are similar)\n",
    "# Ha: mu1 != mu2\n",
    "t_stat, p_value = ttest_ind(d1, d2, alternative=\"two-sided\")\n",
    "print(p_value)\n",
    "if p_value < 0.05:\n",
    "    print(\"Reject H0\")\n",
    "else:\n",
    "    print(\"Fail to reject H0\")"
   ]
  },
  {
   "cell_type": "code",
   "execution_count": 15,
   "id": "5c823b8b",
   "metadata": {
    "hidden": true
   },
   "outputs": [
    {
     "name": "stdout",
     "output_type": "stream",
     "text": [
      "[0.99999987]\n",
      "Fail to reject H0\n"
     ]
    }
   ],
   "source": [
    "# H0: mu1 = mu2 (both drugs are similar)\n",
    "# Ha: mu1 > mu2\n",
    "t_stat, p_value = ttest_ind(d1, d2, alternative=\"greater\")\n",
    "print(p_value)\n",
    "if p_value < 0.05:\n",
    "    print(\"Reject H0\")\n",
    "else:\n",
    "    print(\"Fail to reject H0\")"
   ]
  },
  {
   "cell_type": "code",
   "execution_count": 16,
   "id": "c3b885ff",
   "metadata": {
    "hidden": true
   },
   "outputs": [
    {
     "name": "stdout",
     "output_type": "stream",
     "text": [
      "[1.27713574e-07]\n",
      "Reject H0\n"
     ]
    }
   ],
   "source": [
    "# H0: mu1 = mu2 (both drugs are similar)\n",
    "# Ha: mu1 < mu2\n",
    "t_stat, p_value = ttest_ind(d1, d2, alternative=\"less\")\n",
    "print(p_value)\n",
    "if p_value < 0.05:\n",
    "    print(\"Reject H0\")\n",
    "else:\n",
    "    print(\"Fail to reject H0\")"
   ]
  },
  {
   "cell_type": "code",
   "execution_count": 17,
   "id": "87a52a94",
   "metadata": {
    "hidden": true
   },
   "outputs": [
    {
     "data": {
      "text/plain": [
       "drug_1    7.104917\n",
       "dtype: float64"
      ]
     },
     "execution_count": 17,
     "metadata": {},
     "output_type": "execute_result"
    }
   ],
   "source": [
    "d1_mean = d1.mean()\n",
    "d1_mean"
   ]
  },
  {
   "cell_type": "code",
   "execution_count": 18,
   "id": "ba99a4b4",
   "metadata": {
    "hidden": true
   },
   "outputs": [
    {
     "data": {
      "text/plain": [
       "drug_1    1.038696\n",
       "dtype: float64"
      ]
     },
     "execution_count": 18,
     "metadata": {},
     "output_type": "execute_result"
    }
   ],
   "source": [
    "d1_std = d1.std()\n",
    "d1_std"
   ]
  },
  {
   "cell_type": "code",
   "execution_count": 19,
   "id": "24e873f9",
   "metadata": {
    "hidden": true
   },
   "outputs": [
    {
     "data": {
      "text/plain": [
       "100"
      ]
     },
     "execution_count": 19,
     "metadata": {},
     "output_type": "execute_result"
    }
   ],
   "source": [
    "num_d1 = len(d1)\n",
    "num_d1"
   ]
  },
  {
   "cell_type": "code",
   "execution_count": 20,
   "id": "87841217",
   "metadata": {
    "hidden": true
   },
   "outputs": [
    {
     "data": {
      "text/plain": [
       "drug_2    8.073423\n",
       "dtype: float64"
      ]
     },
     "execution_count": 20,
     "metadata": {},
     "output_type": "execute_result"
    }
   ],
   "source": [
    "d2_mean = d2.mean()\n",
    "d2_mean"
   ]
  },
  {
   "cell_type": "code",
   "execution_count": 21,
   "id": "167bf60a",
   "metadata": {
    "hidden": true
   },
   "outputs": [
    {
     "data": {
      "text/plain": [
       "drug_2    1.553296\n",
       "dtype: float64"
      ]
     },
     "execution_count": 21,
     "metadata": {},
     "output_type": "execute_result"
    }
   ],
   "source": [
    "d2_std = d2.std()\n",
    "d2_std"
   ]
  },
  {
   "cell_type": "code",
   "execution_count": 22,
   "id": "6a18482e",
   "metadata": {
    "hidden": true
   },
   "outputs": [
    {
     "data": {
      "text/plain": [
       "120"
      ]
     },
     "execution_count": 22,
     "metadata": {},
     "output_type": "execute_result"
    }
   ],
   "source": [
    "num_d2 = len(d2)\n",
    "num_d2"
   ]
  },
  {
   "cell_type": "code",
   "execution_count": 23,
   "id": "9e9a0a94",
   "metadata": {
    "hidden": true
   },
   "outputs": [
    {
     "data": {
      "text/plain": [
       "Ttest_indResult(statistic=-5.349727397277295, pvalue=2.2219022870449973e-07)"
      ]
     },
     "execution_count": 23,
     "metadata": {},
     "output_type": "execute_result"
    }
   ],
   "source": [
    "# In case only the stats (mean and std ) are known\n",
    "ttest_ind_from_stats(7.1, 1.03, 100, 8.07, 1.55, 120) # mean, std, len of each of the two"
   ]
  },
  {
   "cell_type": "markdown",
   "id": "d9bf5c80",
   "metadata": {
    "heading_collapsed": true
   },
   "source": [
    "# Sachin "
   ]
  },
  {
   "cell_type": "code",
   "execution_count": 24,
   "id": "47b6b0da",
   "metadata": {
    "hidden": true
   },
   "outputs": [],
   "source": [
    "df = pd.read_csv(\"Sachin_ODI.csv\")"
   ]
  },
  {
   "cell_type": "code",
   "execution_count": 25,
   "id": "4bb6ed84",
   "metadata": {
    "hidden": true
   },
   "outputs": [
    {
     "data": {
      "text/html": [
       "<div>\n",
       "<style scoped>\n",
       "    .dataframe tbody tr th:only-of-type {\n",
       "        vertical-align: middle;\n",
       "    }\n",
       "\n",
       "    .dataframe tbody tr th {\n",
       "        vertical-align: top;\n",
       "    }\n",
       "\n",
       "    .dataframe thead th {\n",
       "        text-align: right;\n",
       "    }\n",
       "</style>\n",
       "<table border=\"1\" class=\"dataframe\">\n",
       "  <thead>\n",
       "    <tr style=\"text-align: right;\">\n",
       "      <th></th>\n",
       "      <th>runs</th>\n",
       "      <th>NotOut</th>\n",
       "      <th>mins</th>\n",
       "      <th>bf</th>\n",
       "      <th>fours</th>\n",
       "      <th>sixes</th>\n",
       "      <th>sr</th>\n",
       "      <th>Inns</th>\n",
       "      <th>Opp</th>\n",
       "      <th>Ground</th>\n",
       "      <th>Date</th>\n",
       "      <th>Winner</th>\n",
       "      <th>Won</th>\n",
       "      <th>century</th>\n",
       "    </tr>\n",
       "  </thead>\n",
       "  <tbody>\n",
       "    <tr>\n",
       "      <th>0</th>\n",
       "      <td>13</td>\n",
       "      <td>0</td>\n",
       "      <td>30</td>\n",
       "      <td>15</td>\n",
       "      <td>3</td>\n",
       "      <td>0</td>\n",
       "      <td>86.66</td>\n",
       "      <td>1</td>\n",
       "      <td>New Zealand</td>\n",
       "      <td>Napier</td>\n",
       "      <td>1995-02-16</td>\n",
       "      <td>New Zealand</td>\n",
       "      <td>False</td>\n",
       "      <td>False</td>\n",
       "    </tr>\n",
       "    <tr>\n",
       "      <th>1</th>\n",
       "      <td>37</td>\n",
       "      <td>0</td>\n",
       "      <td>75</td>\n",
       "      <td>51</td>\n",
       "      <td>3</td>\n",
       "      <td>1</td>\n",
       "      <td>72.54</td>\n",
       "      <td>2</td>\n",
       "      <td>South Africa</td>\n",
       "      <td>Hamilton</td>\n",
       "      <td>1995-02-18</td>\n",
       "      <td>South Africa</td>\n",
       "      <td>False</td>\n",
       "      <td>False</td>\n",
       "    </tr>\n",
       "    <tr>\n",
       "      <th>2</th>\n",
       "      <td>47</td>\n",
       "      <td>0</td>\n",
       "      <td>65</td>\n",
       "      <td>40</td>\n",
       "      <td>7</td>\n",
       "      <td>0</td>\n",
       "      <td>117.50</td>\n",
       "      <td>2</td>\n",
       "      <td>Australia</td>\n",
       "      <td>Dunedin</td>\n",
       "      <td>1995-02-22</td>\n",
       "      <td>India</td>\n",
       "      <td>True</td>\n",
       "      <td>False</td>\n",
       "    </tr>\n",
       "    <tr>\n",
       "      <th>3</th>\n",
       "      <td>48</td>\n",
       "      <td>0</td>\n",
       "      <td>37</td>\n",
       "      <td>30</td>\n",
       "      <td>9</td>\n",
       "      <td>1</td>\n",
       "      <td>160.00</td>\n",
       "      <td>2</td>\n",
       "      <td>Bangladesh</td>\n",
       "      <td>Sharjah</td>\n",
       "      <td>1995-04-05</td>\n",
       "      <td>India</td>\n",
       "      <td>True</td>\n",
       "      <td>False</td>\n",
       "    </tr>\n",
       "    <tr>\n",
       "      <th>4</th>\n",
       "      <td>4</td>\n",
       "      <td>0</td>\n",
       "      <td>13</td>\n",
       "      <td>9</td>\n",
       "      <td>1</td>\n",
       "      <td>0</td>\n",
       "      <td>44.44</td>\n",
       "      <td>2</td>\n",
       "      <td>Pakistan</td>\n",
       "      <td>Sharjah</td>\n",
       "      <td>1995-04-07</td>\n",
       "      <td>Pakistan</td>\n",
       "      <td>False</td>\n",
       "      <td>False</td>\n",
       "    </tr>\n",
       "  </tbody>\n",
       "</table>\n",
       "</div>"
      ],
      "text/plain": [
       "   runs  NotOut mins  bf  fours  sixes      sr  Inns           Opp    Ground  \\\n",
       "0    13       0   30  15      3      0   86.66     1   New Zealand    Napier   \n",
       "1    37       0   75  51      3      1   72.54     2  South Africa  Hamilton   \n",
       "2    47       0   65  40      7      0  117.50     2     Australia   Dunedin   \n",
       "3    48       0   37  30      9      1  160.00     2    Bangladesh   Sharjah   \n",
       "4     4       0   13   9      1      0   44.44     2      Pakistan   Sharjah   \n",
       "\n",
       "         Date        Winner    Won  century  \n",
       "0  1995-02-16   New Zealand  False    False  \n",
       "1  1995-02-18  South Africa  False    False  \n",
       "2  1995-02-22         India   True    False  \n",
       "3  1995-04-05         India   True    False  \n",
       "4  1995-04-07      Pakistan  False    False  "
      ]
     },
     "execution_count": 25,
     "metadata": {},
     "output_type": "execute_result"
    }
   ],
   "source": [
    "df.head()"
   ]
  },
  {
   "cell_type": "markdown",
   "id": "0e37d135",
   "metadata": {
    "heading_collapsed": true,
    "hidden": true
   },
   "source": [
    "## Is there a difference in his batting pattern across 1st and 2nd innings"
   ]
  },
  {
   "cell_type": "code",
   "execution_count": 26,
   "id": "f1be2d1f",
   "metadata": {
    "hidden": true
   },
   "outputs": [],
   "source": [
    "df_first_innings = df[df[\"Inns\"]==1]\n",
    "df_second_innings = df[df[\"Inns\"]==2]"
   ]
  },
  {
   "cell_type": "code",
   "execution_count": 27,
   "id": "a1b2335d",
   "metadata": {
    "hidden": true
   },
   "outputs": [
    {
     "data": {
      "text/plain": [
       "170"
      ]
     },
     "execution_count": 27,
     "metadata": {},
     "output_type": "execute_result"
    }
   ],
   "source": [
    "len(df_first_innings)"
   ]
  },
  {
   "cell_type": "code",
   "execution_count": 28,
   "id": "76675444",
   "metadata": {
    "hidden": true
   },
   "outputs": [
    {
     "data": {
      "text/plain": [
       "190"
      ]
     },
     "execution_count": 28,
     "metadata": {},
     "output_type": "execute_result"
    }
   ],
   "source": [
    "len(df_second_innings)"
   ]
  },
  {
   "cell_type": "code",
   "execution_count": 29,
   "id": "9b46e80b",
   "metadata": {
    "hidden": true
   },
   "outputs": [
    {
     "data": {
      "text/plain": [
       "46.67058823529412"
      ]
     },
     "execution_count": 29,
     "metadata": {},
     "output_type": "execute_result"
    }
   ],
   "source": [
    "df_first_innings[\"runs\"].mean()"
   ]
  },
  {
   "cell_type": "code",
   "execution_count": 30,
   "id": "dd106804",
   "metadata": {
    "hidden": true
   },
   "outputs": [
    {
     "data": {
      "text/plain": [
       "40.17368421052632"
      ]
     },
     "execution_count": 30,
     "metadata": {},
     "output_type": "execute_result"
    }
   ],
   "source": [
    "df_second_innings[\"runs\"].mean()"
   ]
  },
  {
   "cell_type": "code",
   "execution_count": 31,
   "id": "7810bb45",
   "metadata": {
    "hidden": true
   },
   "outputs": [
    {
     "name": "stdout",
     "output_type": "stream",
     "text": [
      "0.14483724194759962\n",
      "Fail to reject H0\n"
     ]
    }
   ],
   "source": [
    "# H0: mu1 = mu2\n",
    "# Ha: mu1 != mu2\n",
    "test_stat, p_value = ttest_ind(df_first_innings[\"runs\"], df_second_innings[\"runs\"])\n",
    "print(p_value)\n",
    "if p_value < 0.05:\n",
    "    print(\"Reject H0\")\n",
    "else:\n",
    "    print(\"Fail to reject H0\")"
   ]
  },
  {
   "cell_type": "markdown",
   "id": "5ceba63f",
   "metadata": {
    "heading_collapsed": true,
    "hidden": true
   },
   "source": [
    "## Is there a difference in batting pattern across matches won and lost"
   ]
  },
  {
   "cell_type": "code",
   "execution_count": 32,
   "id": "e5ca306e",
   "metadata": {
    "hidden": true
   },
   "outputs": [],
   "source": [
    "df_won = df[df[\"Won\"]==True]\n",
    "df_lost = df[df[\"Won\"]==False]"
   ]
  },
  {
   "cell_type": "code",
   "execution_count": 33,
   "id": "c2f1b0e2",
   "metadata": {
    "hidden": true
   },
   "outputs": [
    {
     "data": {
      "text/plain": [
       "51.0"
      ]
     },
     "execution_count": 33,
     "metadata": {},
     "output_type": "execute_result"
    }
   ],
   "source": [
    "df_won[\"runs\"].mean()"
   ]
  },
  {
   "cell_type": "code",
   "execution_count": 34,
   "id": "f33dd8d0",
   "metadata": {
    "hidden": true
   },
   "outputs": [
    {
     "data": {
      "text/plain": [
       "35.13068181818182"
      ]
     },
     "execution_count": 34,
     "metadata": {},
     "output_type": "execute_result"
    }
   ],
   "source": [
    "df_lost[\"runs\"].mean()"
   ]
  },
  {
   "cell_type": "code",
   "execution_count": 35,
   "id": "aa4c1786",
   "metadata": {
    "hidden": true
   },
   "outputs": [
    {
     "name": "stdout",
     "output_type": "stream",
     "text": [
      "0.00032706154973653116\n",
      "Reject H0\n"
     ]
    }
   ],
   "source": [
    "# H0: mu1 = mu2\n",
    "# Ha: mu1 != mu2\n",
    "test_stat, p_value = ttest_ind(df_won[\"runs\"], df_lost[\"runs\"])\n",
    "print(p_value)\n",
    "if p_value < 0.05:\n",
    "    print(\"Reject H0\")\n",
    "else:\n",
    "    print(\"Fail to reject H0\")"
   ]
  },
  {
   "cell_type": "code",
   "execution_count": 36,
   "id": "a405b14a",
   "metadata": {
    "hidden": true
   },
   "outputs": [
    {
     "name": "stdout",
     "output_type": "stream",
     "text": [
      "0.00016353077486826558\n",
      "Reject H0\n"
     ]
    }
   ],
   "source": [
    "# H0: mu1 = mu2\n",
    "# Ha: mu1 > mu2\n",
    "test_stat, p_value = ttest_ind(df_won[\"runs\"], df_lost[\"runs\"], alternative=\"greater\")\n",
    "print(p_value)\n",
    "if p_value < 0.05:\n",
    "    print(\"Reject H0\")\n",
    "else:\n",
    "    print(\"Fail to reject H0\")"
   ]
  },
  {
   "cell_type": "code",
   "execution_count": 37,
   "id": "b2e1056a",
   "metadata": {
    "hidden": true
   },
   "outputs": [
    {
     "name": "stdout",
     "output_type": "stream",
     "text": [
      "0.9998364692251318\n",
      "Fail to reject H0\n"
     ]
    }
   ],
   "source": [
    "# H0: mu1 = mu2\n",
    "# Ha: mu1 < mu2\n",
    "test_stat, p_value = ttest_ind(df_won[\"runs\"], df_lost[\"runs\"], alternative=\"less\")\n",
    "print(p_value)\n",
    "if p_value < 0.05:\n",
    "    print(\"Reject H0\")\n",
    "else:\n",
    "    print(\"Fail to reject H0\")"
   ]
  },
  {
   "cell_type": "markdown",
   "id": "7613c9ac",
   "metadata": {
    "heading_collapsed": true
   },
   "source": [
    "# Problems"
   ]
  },
  {
   "cell_type": "markdown",
   "id": "f3e86481",
   "metadata": {
    "hidden": true
   },
   "source": [
    "The average number of customers entering a store every day is 500, with a standard deviation of 125.\n",
    "\n",
    "A marketing company claims to increase this number. After 70 days, it is seen that the average is 530. Test the claim of the marketing company at a 95% confidence (or 5% significance)"
   ]
  },
  {
   "cell_type": "code",
   "execution_count": 38,
   "id": "7af6e800",
   "metadata": {
    "hidden": true
   },
   "outputs": [
    {
     "name": "stdout",
     "output_type": "stream",
     "text": [
      "0.022322492581293485\n",
      "Reject H0\n"
     ]
    }
   ],
   "source": [
    "# H0: mu = 500\n",
    "# Ha: mu > 500\n",
    "\n",
    "# Test statistic: z-score of the sample mean \n",
    "# Right tailed\n",
    "\n",
    "z_stat = (530 - 500) / (125/np.sqrt(70))\n",
    "p_value = 1 - norm.cdf(z_stat)\n",
    "alpha = 0.05\n",
    "\n",
    "print(p_value)\n",
    "if p_value < alpha:\n",
    "    print(\"Reject H0\")\n",
    "else:\n",
    "    print(\"Fail to reject H0\")\n"
   ]
  },
  {
   "cell_type": "markdown",
   "id": "8d9033e4",
   "metadata": {
    "heading_collapsed": true
   },
   "source": [
    "# T-distribution"
   ]
  },
  {
   "cell_type": "code",
   "execution_count": 39,
   "id": "997b301b",
   "metadata": {
    "hidden": true
   },
   "outputs": [
    {
     "data": {
      "text/plain": [
       "[<matplotlib.lines.Line2D at 0x2721314d520>]"
      ]
     },
     "execution_count": 39,
     "metadata": {},
     "output_type": "execute_result"
    },
    {
     "data": {
      "image/png": "[encoded data removed]",
      "text/plain": [
       "<Figure size 432x288 with 1 Axes>"
      ]
     },
     "metadata": {
      "needs_background": "light"
     },
     "output_type": "display_data"
    }
   ],
   "source": [
    "x_values = np.linspace(-10, 10, 1000)\n",
    "y_values_z = norm.cdf(x_values)\n",
    "plt.plot(x_values, y_values_z)\n",
    "\n",
    "y_values_t = t.cdf(x_values, df=30) # as df increases, the t-distribution comes close to Gaussian\n",
    "plt.plot(x_values, y_values_t, \"r\")"
   ]
  },
  {
   "cell_type": "markdown",
   "id": "d725fd46",
   "metadata": {},
   "source": [
    "# Aerofit"
   ]
  },
  {
   "cell_type": "code",
   "execution_count": 40,
   "id": "eceb06b0",
   "metadata": {},
   "outputs": [],
   "source": [
    "df_aerofit = pd.read_csv(\"aerofit.csv\")"
   ]
  },
  {
   "cell_type": "code",
   "execution_count": 41,
   "id": "c2b380bc",
   "metadata": {},
   "outputs": [
    {
     "data": {
      "text/html": [
       "<div>\n",
       "<style scoped>\n",
       "    .dataframe tbody tr th:only-of-type {\n",
       "        vertical-align: middle;\n",
       "    }\n",
       "\n",
       "    .dataframe tbody tr th {\n",
       "        vertical-align: top;\n",
       "    }\n",
       "\n",
       "    .dataframe thead th {\n",
       "        text-align: right;\n",
       "    }\n",
       "</style>\n",
       "<table border=\"1\" class=\"dataframe\">\n",
       "  <thead>\n",
       "    <tr style=\"text-align: right;\">\n",
       "      <th></th>\n",
       "      <th>Product</th>\n",
       "      <th>Age</th>\n",
       "      <th>Gender</th>\n",
       "      <th>Education</th>\n",
       "      <th>MaritalStatus</th>\n",
       "      <th>Usage</th>\n",
       "      <th>Fitness</th>\n",
       "      <th>Income</th>\n",
       "      <th>Miles</th>\n",
       "    </tr>\n",
       "  </thead>\n",
       "  <tbody>\n",
       "    <tr>\n",
       "      <th>0</th>\n",
       "      <td>KP281</td>\n",
       "      <td>18</td>\n",
       "      <td>Male</td>\n",
       "      <td>14</td>\n",
       "      <td>Single</td>\n",
       "      <td>3</td>\n",
       "      <td>4</td>\n",
       "      <td>29562</td>\n",
       "      <td>112</td>\n",
       "    </tr>\n",
       "    <tr>\n",
       "      <th>1</th>\n",
       "      <td>KP281</td>\n",
       "      <td>19</td>\n",
       "      <td>Male</td>\n",
       "      <td>15</td>\n",
       "      <td>Single</td>\n",
       "      <td>2</td>\n",
       "      <td>3</td>\n",
       "      <td>31836</td>\n",
       "      <td>75</td>\n",
       "    </tr>\n",
       "    <tr>\n",
       "      <th>2</th>\n",
       "      <td>KP281</td>\n",
       "      <td>19</td>\n",
       "      <td>Female</td>\n",
       "      <td>14</td>\n",
       "      <td>Partnered</td>\n",
       "      <td>4</td>\n",
       "      <td>3</td>\n",
       "      <td>30699</td>\n",
       "      <td>66</td>\n",
       "    </tr>\n",
       "    <tr>\n",
       "      <th>3</th>\n",
       "      <td>KP281</td>\n",
       "      <td>19</td>\n",
       "      <td>Male</td>\n",
       "      <td>12</td>\n",
       "      <td>Single</td>\n",
       "      <td>3</td>\n",
       "      <td>3</td>\n",
       "      <td>32973</td>\n",
       "      <td>85</td>\n",
       "    </tr>\n",
       "    <tr>\n",
       "      <th>4</th>\n",
       "      <td>KP281</td>\n",
       "      <td>20</td>\n",
       "      <td>Male</td>\n",
       "      <td>13</td>\n",
       "      <td>Partnered</td>\n",
       "      <td>4</td>\n",
       "      <td>2</td>\n",
       "      <td>35247</td>\n",
       "      <td>47</td>\n",
       "    </tr>\n",
       "  </tbody>\n",
       "</table>\n",
       "</div>"
      ],
      "text/plain": [
       "  Product  Age  Gender  Education MaritalStatus  Usage  Fitness  Income  Miles\n",
       "0   KP281   18    Male         14        Single      3        4   29562    112\n",
       "1   KP281   19    Male         15        Single      2        3   31836     75\n",
       "2   KP281   19  Female         14     Partnered      4        3   30699     66\n",
       "3   KP281   19    Male         12        Single      3        3   32973     85\n",
       "4   KP281   20    Male         13     Partnered      4        2   35247     47"
      ]
     },
     "execution_count": 41,
     "metadata": {},
     "output_type": "execute_result"
    }
   ],
   "source": [
    "df_aerofit.head()"
   ]
  },
  {
   "cell_type": "code",
   "execution_count": 42,
   "id": "5131ce95",
   "metadata": {},
   "outputs": [
    {
     "data": {
      "text/plain": [
       "(180, 9)"
      ]
     },
     "execution_count": 42,
     "metadata": {},
     "output_type": "execute_result"
    }
   ],
   "source": [
    "df_aerofit.shape"
   ]
  },
  {
   "cell_type": "code",
   "execution_count": 43,
   "id": "6165aa58",
   "metadata": {},
   "outputs": [
    {
     "data": {
      "text/plain": [
       "array(['KP281', 'KP481', 'KP781'], dtype=object)"
      ]
     },
     "execution_count": 43,
     "metadata": {},
     "output_type": "execute_result"
    }
   ],
   "source": [
    "df_aerofit[\"Product\"].unique()"
   ]
  },
  {
   "cell_type": "markdown",
   "id": "088f0542",
   "metadata": {},
   "source": [
    "## Gender Vs Income"
   ]
  },
  {
   "cell_type": "code",
   "execution_count": 44,
   "id": "2e31b581",
   "metadata": {},
   "outputs": [
    {
     "data": {
      "text/plain": [
       "<AxesSubplot:xlabel='Gender', ylabel='Income'>"
      ]
     },
     "execution_count": 44,
     "metadata": {},
     "output_type": "execute_result"
    },
    {
     "data": {
      "image/png": "[encoded data removed]",
      "text/plain": [
       "<Figure size 432x288 with 1 Axes>"
      ]
     },
     "metadata": {
      "needs_background": "light"
     },
     "output_type": "display_data"
    }
   ],
   "source": [
    "sns.boxplot(x='Gender', y='Income', data=df_aerofit) "
   ]
  },
  {
   "cell_type": "code",
   "execution_count": 45,
   "id": "8d71fc21",
   "metadata": {},
   "outputs": [],
   "source": [
    "income_male = df_aerofit[df_aerofit[\"Gender\"]==\"Male\"][\"Income\"]\n",
    "income_female = df_aerofit[df_aerofit[\"Gender\"]==\"Female\"][\"Income\"]"
   ]
  },
  {
   "cell_type": "code",
   "execution_count": 46,
   "id": "62438903",
   "metadata": {},
   "outputs": [
    {
     "data": {
      "text/plain": [
       "56562.75961538462"
      ]
     },
     "execution_count": 46,
     "metadata": {},
     "output_type": "execute_result"
    }
   ],
   "source": [
    "income_male.mean()"
   ]
  },
  {
   "cell_type": "code",
   "execution_count": 47,
   "id": "aade16cc",
   "metadata": {},
   "outputs": [
    {
     "data": {
      "text/plain": [
       "49828.90789473684"
      ]
     },
     "execution_count": 47,
     "metadata": {},
     "output_type": "execute_result"
    }
   ],
   "source": [
    "income_female.mean()"
   ]
  },
  {
   "cell_type": "code",
   "execution_count": 48,
   "id": "28ebd54a",
   "metadata": {},
   "outputs": [
    {
     "name": "stdout",
     "output_type": "stream",
     "text": [
      "0.003263631548607129\n",
      "Reject H0\n"
     ]
    }
   ],
   "source": [
    "# H0: male income = female income\n",
    "\n",
    "test_stat, p_value = ttest_ind(income_male, income_female, alternative=\"greater\")\n",
    "print(p_value)\n",
    "if p_value < 0.05:\n",
    "    print(\"Reject H0\")\n",
    "else: \n",
    "    print(\"Fail to reject H0\")"
   ]
  },
  {
   "cell_type": "markdown",
   "id": "9fd7150e",
   "metadata": {},
   "source": [
    "## Product Vs Income"
   ]
  },
  {
   "cell_type": "code",
   "execution_count": 49,
   "id": "d1100ae5",
   "metadata": {},
   "outputs": [
    {
     "data": {
      "text/plain": [
       "<AxesSubplot:xlabel='Product', ylabel='Income'>"
      ]
     },
     "execution_count": 49,
     "metadata": {},
     "output_type": "execute_result"
    },
    {
     "data": {
      "image/png": "[encoded data removed]",
      "text/plain": [
       "<Figure size 432x288 with 1 Axes>"
      ]
     },
     "metadata": {
      "needs_background": "light"
     },
     "output_type": "display_data"
    }
   ],
   "source": [
    "sns.boxplot(x='Product', y='Income', data=df_aerofit)"
   ]
  },
  {
   "cell_type": "code",
   "execution_count": 50,
   "id": "05eb5053",
   "metadata": {},
   "outputs": [],
   "source": [
    "income_kp281 = df_aerofit[df_aerofit[\"Product\"]==\"KP281\"][\"Income\"]\n",
    "income_kp481 = df_aerofit[df_aerofit[\"Product\"]==\"KP481\"][\"Income\"]\n",
    "income_kp781 = df_aerofit[df_aerofit[\"Product\"]==\"KP781\"][\"Income\"]"
   ]
  },
  {
   "cell_type": "code",
   "execution_count": 51,
   "id": "fece596a",
   "metadata": {},
   "outputs": [],
   "source": [
    "test_stat, p_value = ttest_ind(income_kp481, income_kp281)\n",
    "if p_value < 0.05:\n",
    "    print(\"Reject H0\")"
   ]
  },
  {
   "cell_type": "code",
   "execution_count": 52,
   "id": "dd0e8327",
   "metadata": {},
   "outputs": [
    {
     "name": "stdout",
     "output_type": "stream",
     "text": [
      "1.5644991316342494e-27\n",
      "Reject H0\n"
     ]
    }
   ],
   "source": [
    "# H0: All groups have same mean\n",
    "# Ha: Atleast one group is different\n",
    "f_stat, p_value = f_oneway(income_kp281, income_kp481, income_kp781)\n",
    "print(p_value)\n",
    "if p_value < 0.05:\n",
    "    print(\"Reject H0\")\n",
    "else:\n",
    "    print(\"Fail to reject H0\")"
   ]
  },
  {
   "cell_type": "code",
   "execution_count": 53,
   "id": "4a1b617a",
   "metadata": {},
   "outputs": [
    {
     "data": {
      "text/plain": [
       "KruskalResult(statistic=61.43670384567185, pvalue=4.562357014275808e-14)"
      ]
     },
     "execution_count": 53,
     "metadata": {},
     "output_type": "execute_result"
    }
   ],
   "source": [
    "kruskal(income_kp281, income_kp481, income_kp781)"
   ]
  },
  {
   "cell_type": "markdown",
   "id": "2ef44a0e",
   "metadata": {},
   "source": [
    "## Does gender impact product"
   ]
  },
  {
   "cell_type": "code",
   "execution_count": 54,
   "id": "32c9bb60",
   "metadata": {},
   "outputs": [
    {
     "data": {
      "text/html": [
       "<div>\n",
       "<style scoped>\n",
       "    .dataframe tbody tr th:only-of-type {\n",
       "        vertical-align: middle;\n",
       "    }\n",
       "\n",
       "    .dataframe tbody tr th {\n",
       "        vertical-align: top;\n",
       "    }\n",
       "\n",
       "    .dataframe thead th {\n",
       "        text-align: right;\n",
       "    }\n",
       "</style>\n",
       "<table border=\"1\" class=\"dataframe\">\n",
       "  <thead>\n",
       "    <tr style=\"text-align: right;\">\n",
       "      <th>Product</th>\n",
       "      <th>KP281</th>\n",
       "      <th>KP481</th>\n",
       "      <th>KP781</th>\n",
       "    </tr>\n",
       "    <tr>\n",
       "      <th>Gender</th>\n",
       "      <th></th>\n",
       "      <th></th>\n",
       "      <th></th>\n",
       "    </tr>\n",
       "  </thead>\n",
       "  <tbody>\n",
       "    <tr>\n",
       "      <th>Female</th>\n",
       "      <td>40</td>\n",
       "      <td>29</td>\n",
       "      <td>7</td>\n",
       "    </tr>\n",
       "    <tr>\n",
       "      <th>Male</th>\n",
       "      <td>40</td>\n",
       "      <td>31</td>\n",
       "      <td>33</td>\n",
       "    </tr>\n",
       "  </tbody>\n",
       "</table>\n",
       "</div>"
      ],
      "text/plain": [
       "Product  KP281  KP481  KP781\n",
       "Gender                      \n",
       "Female      40     29      7\n",
       "Male        40     31     33"
      ]
     },
     "execution_count": 54,
     "metadata": {},
     "output_type": "execute_result"
    }
   ],
   "source": [
    "gender_product = pd.crosstab(index=df_aerofit['Gender'],columns=df_aerofit['Product'])\n",
    "gender_product"
   ]
  },
  {
   "cell_type": "code",
   "execution_count": 55,
   "id": "6aa05818",
   "metadata": {},
   "outputs": [
    {
     "name": "stdout",
     "output_type": "stream",
     "text": [
      "[[33.77777778 25.33333333 16.88888889]\n",
      " [46.22222222 34.66666667 23.11111111]]\n",
      "0.0015617972833158714\n",
      "2\n",
      "Reject H0\n"
     ]
    }
   ],
   "source": [
    "# H0: Gender and product are not related\n",
    "# Ha: Gender impacts which product\n",
    "chi_stat, p_value, dof, expected = chi2_contingency(gender_product)\n",
    "print(expected)\n",
    "print(p_value)\n",
    "print(dof)\n",
    "if p_value < 0.05:\n",
    "    print(\"Reject H0\")\n",
    "else:\n",
    "    print(\"Fail to reject H0\")\n"
   ]
  },
  {
   "cell_type": "markdown",
   "id": "ee233633",
   "metadata": {},
   "source": [
    "# Gender Vs Purchase"
   ]
  },
  {
   "cell_type": "code",
   "execution_count": 56,
   "id": "10ec0ba8",
   "metadata": {},
   "outputs": [],
   "source": [
    "# Male and female on Online and offline shopping\n",
    "observed = [\n",
    "    [527, 72],\n",
    "    [206, 102]\n",
    "]"
   ]
  },
  {
   "cell_type": "code",
   "execution_count": 57,
   "id": "b890d4ed",
   "metadata": {},
   "outputs": [
    {
     "name": "stdout",
     "output_type": "stream",
     "text": [
      "4.268230756875865e-14\n",
      "1\n",
      "[[484.08710033 114.91289967]\n",
      " [248.91289967  59.08710033]]\n"
     ]
    }
   ],
   "source": [
    "# H0: Gender does not influence buying pattern\n",
    "test_stat, p_value, df, exp_values = chi2_contingency(observed)\n",
    "print(p_value)\n",
    "print(df)\n",
    "print(exp_values)"
   ]
  },
  {
   "cell_type": "code",
   "execution_count": 59,
   "id": "ec6c5b60",
   "metadata": {},
   "outputs": [],
   "source": [
    "# Conclusion: Reject H0. This means that gender affects buying pattern"
   ]
  },
  {
   "cell_type": "code",
   "execution_count": 60,
   "id": "cd1b77a2",
   "metadata": {},
   "outputs": [
    {
     "data": {
      "text/plain": [
       "(8.006066246262538,\n",
       " 0.045886500891747214,\n",
       " 3,\n",
       " array([[50.88607595, 49.86835443, 50.37721519, 49.86835443],\n",
       "        [49.11392405, 48.13164557, 48.62278481, 48.13164557]]))"
      ]
     },
     "execution_count": 60,
     "metadata": {},
     "output_type": "execute_result"
    }
   ],
   "source": [
    "# Female(60, 54, 46, 41, 201), Male(40, 44, 53, 57, 194) and Total(100, 98, 99, 98, 395),\n",
    "\n",
    "observed = [\n",
    "    [60,54,46,41],\n",
    "    [40, 44, 53, 57]\n",
    "]\n",
    "\n",
    "chi2_contingency(observed)"
   ]
  },
  {
   "cell_type": "code",
   "execution_count": 61,
   "id": "e5ab7dc8",
   "metadata": {},
   "outputs": [
    {
     "data": {
      "text/plain": [
       "(4.4928936593636415,\n",
       " 0.8760885899556653,\n",
       " 9,\n",
       " array([[ 9.09952607,  9.66824645, 12.13270142,  9.09952607],\n",
       "        [ 6.36966825,  6.76777251,  8.492891  ,  6.36966825],\n",
       "        [12.05687204, 12.81042654, 16.07582938, 12.05687204],\n",
       "        [20.47393365, 21.7535545 , 27.2985782 , 20.47393365]]))"
      ]
     },
     "execution_count": 61,
     "metadata": {},
     "output_type": "execute_result"
    }
   ],
   "source": [
    "observed = [\n",
    "    [8,9,11,12],\n",
    "    [6,8,10,4],\n",
    "    [14,12,18,9],\n",
    "    [20,22,25,23]\n",
    "]\n",
    "\n",
    "chi2_contingency(observed)\n"
   ]
  },
  {
   "cell_type": "code",
   "execution_count": 62,
   "id": "e36a6250",
   "metadata": {},
   "outputs": [
    {
     "data": {
      "text/plain": [
       "F_onewayResult(statistic=25.221574344023324, pvalue=1.8124793267561276e-05)"
      ]
     },
     "execution_count": 62,
     "metadata": {},
     "output_type": "execute_result"
    }
   ],
   "source": [
    "f_oneway([8,9,11,12],[6,8,10,4],[14,12,18,9],[20,22,25,23])"
   ]
  },
  {
   "cell_type": "code",
   "execution_count": 63,
   "id": "c31792c0",
   "metadata": {},
   "outputs": [
    {
     "data": {
      "text/plain": [
       "F_onewayResult(statistic=1.7009345794392525, pvalue=0.22369016930991845)"
      ]
     },
     "execution_count": 63,
     "metadata": {},
     "output_type": "execute_result"
    }
   ],
   "source": [
    "f_oneway([300,400,300,500,0],[600,300,300,400,0],[700,300,400,600,500])"
   ]
  },
  {
   "cell_type": "code",
   "execution_count": 64,
   "id": "e82d2dda",
   "metadata": {},
   "outputs": [
    {
     "data": {
      "text/plain": [
       "(0.2783677795442502,\n",
       " 0.8700680171370752,\n",
       " 2,\n",
       " array([[75., 75.],\n",
       "        [37., 37.],\n",
       "        [17., 17.]]))"
      ]
     },
     "execution_count": 64,
     "metadata": {},
     "output_type": "execute_result"
    }
   ],
   "source": [
    "observed = [\n",
    "    [73,77],\n",
    "    [38,36],\n",
    "    [18,16]\n",
    "]\n",
    "\n",
    "chi2_contingency(observed)"
   ]
  },
  {
   "cell_type": "code",
   "execution_count": 66,
   "id": "da28ecef",
   "metadata": {},
   "outputs": [
    {
     "data": {
      "text/plain": [
       "Ttest_indResult(statistic=2.3947738234213953, pvalue=0.008579470194694676)"
      ]
     },
     "execution_count": 66,
     "metadata": {},
     "output_type": "execute_result"
    }
   ],
   "source": [
    "ttest_ind_from_stats(2.87, 1.08, 150, 2.56, 1.28, 200, alternative = \"greater\")"
   ]
  },
  {
   "cell_type": "code",
   "execution_count": null,
   "id": "eefe2c53",
   "metadata": {},
   "outputs": [],
   "source": []
  }
 ],
 "metadata": {
  "kernelspec": {
   "display_name": "Python 3 (ipykernel)",
   "language": "python",
   "name": "python3"
  },
  "language_info": {
   "codemirror_mode": {
    "name": "ipython",
    "version": 3
   },
   "file_extension": ".py",
   "mimetype": "text/x-python",
   "name": "python",
   "nbconvert_exporter": "python",
   "pygments_lexer": "ipython3",
   "version": "3.9.12"
  }
 },
 "nbformat": 4,
 "nbformat_minor": 5
}
