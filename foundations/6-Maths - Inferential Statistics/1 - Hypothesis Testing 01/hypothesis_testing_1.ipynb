{
 "cells": [
  {
   "cell_type": "code",
   "execution_count": 1,
   "id": "52fac0d0",
   "metadata": {},
   "outputs": [],
   "source": [
    "import numpy as np\n",
    "from scipy.stats import binom\n",
    "import matplotlib.pyplot as plt"
   ]
  },
  {
   "cell_type": "markdown",
   "id": "fa2a4976",
   "metadata": {},
   "source": [
    "Setup: <br>\n",
    "H0: Coin is fair<br>\n",
    "T is number of heads - test statistic"
   ]
  },
  {
   "cell_type": "code",
   "execution_count": 5,
   "id": "b1b28a7c",
   "metadata": {},
   "outputs": [],
   "source": [
    "n = 10 # number of tosses\n",
    "x_values = np.arange(0, n+1) # all possible values that \"T\" can take\n",
    "y_values = binom.pmf(x_values, n=n, p=0.5) # p=0.5 is same as saying H0 is true"
   ]
  },
  {
   "cell_type": "code",
   "execution_count": 6,
   "id": "bb6a9ad2",
   "metadata": {},
   "outputs": [
    {
     "data": {
      "text/plain": [
       "<BarContainer object of 11 artists>"
      ]
     },
     "execution_count": 6,
     "metadata": {},
     "output_type": "execute_result"
    },
    {
     "data": {
      "image/png": "[encoded data removed]",
      "text/plain": [
       "<Figure size 432x288 with 1 Axes>"
      ]
     },
     "metadata": {
      "needs_background": "light"
     },
     "output_type": "display_data"
    }
   ],
   "source": [
    "plt.bar(x_values, y_values)"
   ]
  }
 ],
 "metadata": {
  "kernelspec": {
   "display_name": "Python 3 (ipykernel)",
   "language": "python",
   "name": "python3"
  },
  "language_info": {
   "codemirror_mode": {
    "name": "ipython",
    "version": 3
   },
   "file_extension": ".py",
   "mimetype": "text/x-python",
   "name": "python",
   "nbconvert_exporter": "python",
   "pygments_lexer": "ipython3",
   "version": "3.8.12"
  }
 },
 "nbformat": 4,
 "nbformat_minor": 5
}
