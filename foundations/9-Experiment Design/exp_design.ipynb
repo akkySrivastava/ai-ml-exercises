{
 "cells": [
  {
   "cell_type": "code",
   "execution_count": 64,
   "id": "32f60bdd",
   "metadata": {},
   "outputs": [],
   "source": [
    "import numpy as np\n",
    "import pandas as pd\n",
    "import matplotlib.pyplot as plt\n",
    "from scipy.stats import norm, kstest # cdf\n",
    "\n",
    "from statsmodels.stats.power import TTestIndPower\n",
    "from statsmodels.graphics.gofplots import qqplot, qqplot_2samples"
   ]
  },
  {
   "cell_type": "markdown",
   "id": "220040d6",
   "metadata": {},
   "source": [
    "# Simulation"
   ]
  },
  {
   "cell_type": "code",
   "execution_count": 2,
   "id": "b50ef232",
   "metadata": {},
   "outputs": [],
   "source": [
    "def simulate_two_gaussians(n_samples, n_simulations=1000, mu1=0, mu2=1, s1=1, s2=1):\n",
    "    samples_1 = [np.random.normal(loc=mu1, scale=s1, size=n_samples) for i in range(n_simulations )]\n",
    "    means_1 = np.mean(samples_1, axis=1)\n",
    "    \n",
    "    samples_2 = [np.random.normal(loc=mu2, scale=s2, size=n_samples) for i in range(n_simulations)]\n",
    "    means_2 = np.mean(samples_2, axis=1)\n",
    "    \n",
    "    plt.hist(means_1, bins=50, color=\"y\")\n",
    "    plt.hist(means_2, bins=50, color=\"b\")"
   ]
  },
  {
   "cell_type": "code",
   "execution_count": 75,
   "id": "1587ec26",
   "metadata": {},
   "outputs": [],
   "source": [
    "n_samples = 2\n",
    "n_simulations = 1000\n",
    "mu1 = 65\n",
    "mu2 = 72\n",
    "s1 = 4\n",
    "s2 = 3"
   ]
  },
  {
   "cell_type": "code",
   "execution_count": 76,
   "id": "599ef3ec",
   "metadata": {},
   "outputs": [
    {
     "data": {
      "image/png": "[encoded data removed]",
      "text/plain": [
       "<Figure size 432x288 with 1 Axes>"
      ]
     },
     "metadata": {
      "needs_background": "light"
     },
     "output_type": "display_data"
    }
   ],
   "source": [
    "simulate_two_gaussians(n_samples=n_samples, n_simulations=n_simulations, mu1=mu1, mu2=mu2, s1=s1, s2=s2)"
   ]
  },
  {
   "cell_type": "markdown",
   "id": "d9f5154d",
   "metadata": {
    "heading_collapsed": true
   },
   "source": [
    "# Youtube case study"
   ]
  },
  {
   "cell_type": "code",
   "execution_count": 35,
   "id": "451a1054",
   "metadata": {
    "hidden": true
   },
   "outputs": [],
   "source": [
    "prev_yt_data = pd.read_csv(\"prev_data.csv\")"
   ]
  },
  {
   "cell_type": "code",
   "execution_count": 66,
   "id": "2adf529b",
   "metadata": {
    "hidden": true
   },
   "outputs": [
    {
     "data": {
      "text/plain": [
       "(20000, 4)"
      ]
     },
     "execution_count": 66,
     "metadata": {},
     "output_type": "execute_result"
    }
   ],
   "source": [
    "prev_yt_data.shape"
   ]
  },
  {
   "cell_type": "code",
   "execution_count": 38,
   "id": "733664d7",
   "metadata": {
    "collapsed": true,
    "hidden": true
   },
   "outputs": [
    {
     "data": {
      "text/html": [
       "<div>\n",
       "<style scoped>\n",
       "    .dataframe tbody tr th:only-of-type {\n",
       "        vertical-align: middle;\n",
       "    }\n",
       "\n",
       "    .dataframe tbody tr th {\n",
       "        vertical-align: top;\n",
       "    }\n",
       "\n",
       "    .dataframe thead th {\n",
       "        text-align: right;\n",
       "    }\n",
       "</style>\n",
       "<table border=\"1\" class=\"dataframe\">\n",
       "  <thead>\n",
       "    <tr style=\"text-align: right;\">\n",
       "      <th></th>\n",
       "      <th>date</th>\n",
       "      <th>customer_id</th>\n",
       "      <th>premium</th>\n",
       "      <th>watch_time_hrs</th>\n",
       "    </tr>\n",
       "  </thead>\n",
       "  <tbody>\n",
       "    <tr>\n",
       "      <th>13524</th>\n",
       "      <td>2017-07-05</td>\n",
       "      <td>725</td>\n",
       "      <td>0</td>\n",
       "      <td>3.195276</td>\n",
       "    </tr>\n",
       "    <tr>\n",
       "      <th>14400</th>\n",
       "      <td>2017-10-29</td>\n",
       "      <td>171</td>\n",
       "      <td>0</td>\n",
       "      <td>2.023461</td>\n",
       "    </tr>\n",
       "    <tr>\n",
       "      <th>10003</th>\n",
       "      <td>2017-12-25</td>\n",
       "      <td>855</td>\n",
       "      <td>0</td>\n",
       "      <td>9.134083</td>\n",
       "    </tr>\n",
       "    <tr>\n",
       "      <th>10043</th>\n",
       "      <td>2017-01-12</td>\n",
       "      <td>693</td>\n",
       "      <td>0</td>\n",
       "      <td>5.987144</td>\n",
       "    </tr>\n",
       "    <tr>\n",
       "      <th>12799</th>\n",
       "      <td>2017-03-30</td>\n",
       "      <td>453</td>\n",
       "      <td>0</td>\n",
       "      <td>5.365239</td>\n",
       "    </tr>\n",
       "    <tr>\n",
       "      <th>3317</th>\n",
       "      <td>2017-07-08</td>\n",
       "      <td>194</td>\n",
       "      <td>0</td>\n",
       "      <td>1.270367</td>\n",
       "    </tr>\n",
       "    <tr>\n",
       "      <th>7386</th>\n",
       "      <td>2017-12-20</td>\n",
       "      <td>258</td>\n",
       "      <td>1</td>\n",
       "      <td>4.829032</td>\n",
       "    </tr>\n",
       "    <tr>\n",
       "      <th>13175</th>\n",
       "      <td>2017-10-16</td>\n",
       "      <td>723</td>\n",
       "      <td>1</td>\n",
       "      <td>4.844410</td>\n",
       "    </tr>\n",
       "    <tr>\n",
       "      <th>7092</th>\n",
       "      <td>2017-10-23</td>\n",
       "      <td>401</td>\n",
       "      <td>0</td>\n",
       "      <td>2.435973</td>\n",
       "    </tr>\n",
       "    <tr>\n",
       "      <th>11336</th>\n",
       "      <td>2017-06-11</td>\n",
       "      <td>530</td>\n",
       "      <td>0</td>\n",
       "      <td>3.518609</td>\n",
       "    </tr>\n",
       "    <tr>\n",
       "      <th>17070</th>\n",
       "      <td>2017-11-13</td>\n",
       "      <td>974</td>\n",
       "      <td>0</td>\n",
       "      <td>3.166476</td>\n",
       "    </tr>\n",
       "    <tr>\n",
       "      <th>11806</th>\n",
       "      <td>2017-06-25</td>\n",
       "      <td>662</td>\n",
       "      <td>1</td>\n",
       "      <td>5.209579</td>\n",
       "    </tr>\n",
       "    <tr>\n",
       "      <th>367</th>\n",
       "      <td>2017-06-12</td>\n",
       "      <td>415</td>\n",
       "      <td>0</td>\n",
       "      <td>4.926044</td>\n",
       "    </tr>\n",
       "    <tr>\n",
       "      <th>8654</th>\n",
       "      <td>2017-06-17</td>\n",
       "      <td>941</td>\n",
       "      <td>0</td>\n",
       "      <td>3.310540</td>\n",
       "    </tr>\n",
       "    <tr>\n",
       "      <th>19710</th>\n",
       "      <td>2017-07-26</td>\n",
       "      <td>527</td>\n",
       "      <td>0</td>\n",
       "      <td>0.566838</td>\n",
       "    </tr>\n",
       "    <tr>\n",
       "      <th>4002</th>\n",
       "      <td>2017-02-01</td>\n",
       "      <td>552</td>\n",
       "      <td>0</td>\n",
       "      <td>2.338600</td>\n",
       "    </tr>\n",
       "    <tr>\n",
       "      <th>6228</th>\n",
       "      <td>2017-07-04</td>\n",
       "      <td>887</td>\n",
       "      <td>0</td>\n",
       "      <td>18.512810</td>\n",
       "    </tr>\n",
       "    <tr>\n",
       "      <th>1915</th>\n",
       "      <td>2017-05-23</td>\n",
       "      <td>645</td>\n",
       "      <td>1</td>\n",
       "      <td>3.353188</td>\n",
       "    </tr>\n",
       "    <tr>\n",
       "      <th>4795</th>\n",
       "      <td>2017-11-16</td>\n",
       "      <td>783</td>\n",
       "      <td>0</td>\n",
       "      <td>8.563757</td>\n",
       "    </tr>\n",
       "    <tr>\n",
       "      <th>3477</th>\n",
       "      <td>2017-07-26</td>\n",
       "      <td>172</td>\n",
       "      <td>0</td>\n",
       "      <td>1.913644</td>\n",
       "    </tr>\n",
       "  </tbody>\n",
       "</table>\n",
       "</div>"
      ],
      "text/plain": [
       "             date  customer_id  premium  watch_time_hrs\n",
       "13524  2017-07-05          725        0        3.195276\n",
       "14400  2017-10-29          171        0        2.023461\n",
       "10003  2017-12-25          855        0        9.134083\n",
       "10043  2017-01-12          693        0        5.987144\n",
       "12799  2017-03-30          453        0        5.365239\n",
       "3317   2017-07-08          194        0        1.270367\n",
       "7386   2017-12-20          258        1        4.829032\n",
       "13175  2017-10-16          723        1        4.844410\n",
       "7092   2017-10-23          401        0        2.435973\n",
       "11336  2017-06-11          530        0        3.518609\n",
       "17070  2017-11-13          974        0        3.166476\n",
       "11806  2017-06-25          662        1        5.209579\n",
       "367    2017-06-12          415        0        4.926044\n",
       "8654   2017-06-17          941        0        3.310540\n",
       "19710  2017-07-26          527        0        0.566838\n",
       "4002   2017-02-01          552        0        2.338600\n",
       "6228   2017-07-04          887        0       18.512810\n",
       "1915   2017-05-23          645        1        3.353188\n",
       "4795   2017-11-16          783        0        8.563757\n",
       "3477   2017-07-26          172        0        1.913644"
      ]
     },
     "execution_count": 38,
     "metadata": {},
     "output_type": "execute_result"
    }
   ],
   "source": [
    "prev_yt_data.sample(20)"
   ]
  },
  {
   "cell_type": "code",
   "execution_count": 39,
   "id": "9a5f90be",
   "metadata": {
    "hidden": true
   },
   "outputs": [
    {
     "data": {
      "text/html": [
       "<div>\n",
       "<style scoped>\n",
       "    .dataframe tbody tr th:only-of-type {\n",
       "        vertical-align: middle;\n",
       "    }\n",
       "\n",
       "    .dataframe tbody tr th {\n",
       "        vertical-align: top;\n",
       "    }\n",
       "\n",
       "    .dataframe thead th {\n",
       "        text-align: right;\n",
       "    }\n",
       "</style>\n",
       "<table border=\"1\" class=\"dataframe\">\n",
       "  <thead>\n",
       "    <tr style=\"text-align: right;\">\n",
       "      <th></th>\n",
       "      <th>customer_id</th>\n",
       "      <th>premium</th>\n",
       "      <th>watch_time_hrs</th>\n",
       "    </tr>\n",
       "  </thead>\n",
       "  <tbody>\n",
       "    <tr>\n",
       "      <th>count</th>\n",
       "      <td>20000.000000</td>\n",
       "      <td>20000.000000</td>\n",
       "      <td>20000.000000</td>\n",
       "    </tr>\n",
       "    <tr>\n",
       "      <th>mean</th>\n",
       "      <td>496.860200</td>\n",
       "      <td>0.155450</td>\n",
       "      <td>8.121169</td>\n",
       "    </tr>\n",
       "    <tr>\n",
       "      <th>std</th>\n",
       "      <td>287.733041</td>\n",
       "      <td>0.362342</td>\n",
       "      <td>212.138482</td>\n",
       "    </tr>\n",
       "    <tr>\n",
       "      <th>min</th>\n",
       "      <td>0.000000</td>\n",
       "      <td>0.000000</td>\n",
       "      <td>0.192767</td>\n",
       "    </tr>\n",
       "    <tr>\n",
       "      <th>25%</th>\n",
       "      <td>250.000000</td>\n",
       "      <td>0.000000</td>\n",
       "      <td>1.769474</td>\n",
       "    </tr>\n",
       "    <tr>\n",
       "      <th>50%</th>\n",
       "      <td>496.000000</td>\n",
       "      <td>0.000000</td>\n",
       "      <td>2.854844</td>\n",
       "    </tr>\n",
       "    <tr>\n",
       "      <th>75%</th>\n",
       "      <td>742.250000</td>\n",
       "      <td>0.000000</td>\n",
       "      <td>4.551919</td>\n",
       "    </tr>\n",
       "    <tr>\n",
       "      <th>max</th>\n",
       "      <td>999.000000</td>\n",
       "      <td>1.000000</td>\n",
       "      <td>10008.561895</td>\n",
       "    </tr>\n",
       "  </tbody>\n",
       "</table>\n",
       "</div>"
      ],
      "text/plain": [
       "        customer_id       premium  watch_time_hrs\n",
       "count  20000.000000  20000.000000    20000.000000\n",
       "mean     496.860200      0.155450        8.121169\n",
       "std      287.733041      0.362342      212.138482\n",
       "min        0.000000      0.000000        0.192767\n",
       "25%      250.000000      0.000000        1.769474\n",
       "50%      496.000000      0.000000        2.854844\n",
       "75%      742.250000      0.000000        4.551919\n",
       "max      999.000000      1.000000    10008.561895"
      ]
     },
     "execution_count": 39,
     "metadata": {},
     "output_type": "execute_result"
    }
   ],
   "source": [
    "prev_yt_data.describe()"
   ]
  },
  {
   "cell_type": "code",
   "execution_count": 40,
   "id": "864066ec",
   "metadata": {
    "hidden": true
   },
   "outputs": [
    {
     "data": {
      "text/plain": [
       "23.93426900607841"
      ]
     },
     "execution_count": 40,
     "metadata": {},
     "output_type": "execute_result"
    }
   ],
   "source": [
    "q998 = prev_yt_data[\"watch_time_hrs\"].quantile(0.998)\n",
    "q998"
   ]
  },
  {
   "cell_type": "code",
   "execution_count": 41,
   "id": "d97d71b3",
   "metadata": {
    "hidden": true
   },
   "outputs": [],
   "source": [
    "prev_yt_data_no_out = prev_yt_data[prev_yt_data[\"watch_time_hrs\"]<q998]"
   ]
  },
  {
   "cell_type": "code",
   "execution_count": 42,
   "id": "3152a3da",
   "metadata": {
    "hidden": true
   },
   "outputs": [
    {
     "data": {
      "text/plain": [
       "3.578971070350521"
      ]
     },
     "execution_count": 42,
     "metadata": {},
     "output_type": "execute_result"
    }
   ],
   "source": [
    "mu_h0 = np.mean(prev_yt_data_no_out[\"watch_time_hrs\"])\n",
    "mu_h0"
   ]
  },
  {
   "cell_type": "code",
   "execution_count": 44,
   "id": "fbf320a0",
   "metadata": {
    "hidden": true
   },
   "outputs": [],
   "source": [
    "diff_mu = np.abs(mu_h0*0.1) # We are looking to detect if there is 10% change"
   ]
  },
  {
   "cell_type": "code",
   "execution_count": 46,
   "id": "de9d0025",
   "metadata": {
    "hidden": true
   },
   "outputs": [
    {
     "data": {
      "text/plain": [
       "0.13374109689019192"
      ]
     },
     "execution_count": 46,
     "metadata": {},
     "output_type": "execute_result"
    }
   ],
   "source": [
    "# Effect size: Cohen'd (mu1 - mu2)/sigma\n",
    "cohens_d_effect_size = diff_mu/np.std(prev_yt_data_no_out[\"watch_time_hrs\"])\n",
    "cohens_d_effect_size"
   ]
  },
  {
   "cell_type": "code",
   "execution_count": 68,
   "id": "dce67ad3",
   "metadata": {
    "hidden": true
   },
   "outputs": [
    {
     "data": {
      "text/plain": [
       "1307.5440017558099"
      ]
     },
     "execution_count": 68,
     "metadata": {},
     "output_type": "execute_result"
    }
   ],
   "source": [
    "# Given effect, alpha, power --> compute the number of samples needed\n",
    "# A/B testing: test on a bunch of users and compare with previous algorithm\n",
    "# How many people at least should we test this on\n",
    "\n",
    "TTestIndPower().solve_power(effect_size=cohens_d_effect_size, alpha=0.01, power=0.8)"
   ]
  },
  {
   "cell_type": "markdown",
   "id": "47bfa7f1",
   "metadata": {},
   "source": [
    "# Other tests"
   ]
  },
  {
   "cell_type": "code",
   "execution_count": 55,
   "id": "a161e469",
   "metadata": {},
   "outputs": [],
   "source": [
    "samples_normal = np.random.normal(loc=3, scale=2, size=200)"
   ]
  },
  {
   "cell_type": "code",
   "execution_count": 56,
   "id": "a7eaa5da",
   "metadata": {
    "collapsed": true
   },
   "outputs": [
    {
     "data": {
      "text/plain": [
       "(array([ 6.,  8., 24., 36., 42., 33., 32., 11.,  5.,  3.]),\n",
       " array([-2.23537978e+00, -1.12075297e+00, -6.12615200e-03,  1.10850066e+00,\n",
       "         2.22312748e+00,  3.33775429e+00,  4.45238111e+00,  5.56700792e+00,\n",
       "         6.68163474e+00,  7.79626155e+00,  8.91088837e+00]),\n",
       " <BarContainer object of 10 artists>)"
      ]
     },
     "execution_count": 56,
     "metadata": {},
     "output_type": "execute_result"
    },
    {
     "data": {
      "image/png": "[encoded data removed]",
      "text/plain": [
       "<Figure size 432x288 with 1 Axes>"
      ]
     },
     "metadata": {
      "needs_background": "light"
     },
     "output_type": "display_data"
    }
   ],
   "source": [
    "plt.hist(samples_normal)"
   ]
  },
  {
   "cell_type": "code",
   "execution_count": 58,
   "id": "8f24d259",
   "metadata": {},
   "outputs": [
    {
     "data": {
      "image/png": "[encoded data removed]",
      "text/plain": [
       "<Figure size 432x288 with 1 Axes>"
      ]
     },
     "metadata": {
      "needs_background": "light"
     },
     "output_type": "display_data"
    }
   ],
   "source": [
    "qqplot(samples_normal, line=\"r\")\n",
    "plt.show()"
   ]
  },
  {
   "cell_type": "code",
   "execution_count": 65,
   "id": "df38b8ab",
   "metadata": {},
   "outputs": [
    {
     "data": {
      "text/plain": [
       "KstestResult(statistic=0.03131120111778518, pvalue=0.9861572348685119, statistic_location=2.3638150969512446, statistic_sign=1)"
      ]
     },
     "execution_count": 65,
     "metadata": {},
     "output_type": "execute_result"
    }
   ],
   "source": [
    "kstest(samples_normal, norm.cdf, args=(samples_normal.mean(), samples_normal.std()))"
   ]
  },
  {
   "cell_type": "code",
   "execution_count": 59,
   "id": "d9d143f4",
   "metadata": {},
   "outputs": [],
   "source": [
    "samples_exponential = np.random.exponential(size=200)"
   ]
  },
  {
   "cell_type": "code",
   "execution_count": 60,
   "id": "65268b07",
   "metadata": {},
   "outputs": [
    {
     "data": {
      "text/plain": [
       "(array([79., 38., 29., 22., 11., 14.,  5.,  1.,  0.,  1.]),\n",
       " array([0.00776677, 0.46934444, 0.93092212, 1.39249979, 1.85407746,\n",
       "        2.31565513, 2.77723281, 3.23881048, 3.70038815, 4.16196582,\n",
       "        4.6235435 ]),\n",
       " <BarContainer object of 10 artists>)"
      ]
     },
     "execution_count": 60,
     "metadata": {},
     "output_type": "execute_result"
    },
    {
     "data": {
      "image/png": "[encoded data removed]",
      "text/plain": [
       "<Figure size 432x288 with 1 Axes>"
      ]
     },
     "metadata": {
      "needs_background": "light"
     },
     "output_type": "display_data"
    }
   ],
   "source": [
    "plt.hist(samples_exponential)"
   ]
  },
  {
   "cell_type": "code",
   "execution_count": 61,
   "id": "4a193dc4",
   "metadata": {},
   "outputs": [
    {
     "data": {
      "image/png": "[encoded data removed]",
      "text/plain": [
       "<Figure size 432x288 with 1 Axes>"
      ]
     },
     "metadata": {
      "needs_background": "light"
     },
     "output_type": "display_data"
    }
   ],
   "source": [
    "qqplot(samples_exponential, line=\"r\")\n",
    "plt.show()"
   ]
  }
 ],
 "metadata": {
  "kernelspec": {
   "display_name": "Python 3 (ipykernel)",
   "language": "python",
   "name": "python3"
  },
  "language_info": {
   "codemirror_mode": {
    "name": "ipython",
    "version": 3
   },
   "file_extension": ".py",
   "mimetype": "text/x-python",
   "name": "python",
   "nbconvert_exporter": "python",
   "pygments_lexer": "ipython3",
   "version": "3.8.12"
  }
 },
 "nbformat": 4,
 "nbformat_minor": 5
}
