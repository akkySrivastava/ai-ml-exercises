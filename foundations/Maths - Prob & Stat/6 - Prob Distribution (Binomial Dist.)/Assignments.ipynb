{
 "cells": [
  {
   "cell_type": "code",
   "execution_count": 4,
   "id": "1362fa30",
   "metadata": {},
   "outputs": [],
   "source": [
    "import  scipy.stats as sts"
   ]
  },
  {
   "cell_type": "code",
   "execution_count": 12,
   "id": "9e40fcca",
   "metadata": {},
   "outputs": [
    {
     "data": {
      "text/plain": [
       "0.9992150146088967"
      ]
     },
     "execution_count": 12,
     "metadata": {},
     "output_type": "execute_result"
    }
   ],
   "source": [
    "sum = 0\n",
    "for i in range(9):\n",
    "    temp = sts.binom.pmf(i, 15, .2)\n",
    "#     print(temp)\n",
    "    sum = sum + temp\n",
    "\n",
    "sum"
   ]
  },
  {
   "cell_type": "markdown",
   "id": "1da110ef",
   "metadata": {},
   "source": [
    "#### Explanation:\n",
    "\n",
    "Given,\n",
    "Mean = 119\n",
    "Standard deviation = 13.1\n",
    "The goal is to find the speed, s.\n",
    "P(X > s) = 10% = 0.1 (the fastest 10%).\n",
    "That’s equivalent to P(X ≤ s) = 1 – 0.1 = 0.9 (i.e, 90th percentile).\n",
    "The Z value for the 90th percentile is 1.282.\n",
    "We can get the above Z value using the below given code:\n",
    "\n",
    "from scipy.stats import norm\n",
    "print(round(norm.ppf(0.9),3))\n",
    "\n",
    "Using, normal distribution formula:\n",
    "Z = (s - μ) / σ\n",
    "\n",
    "1.282 = (s - 119)/13.1\n",
    "16.794 = s - 119\n",
    "s = 119 + 16.794\n",
    "s = 135.8 kph\n",
    "\n",
    "∴ 135.8 kph is the fastest 10% of all speeds."
   ]
  },
  {
   "cell_type": "code",
   "execution_count": 13,
   "id": "98731247",
   "metadata": {},
   "outputs": [
    {
     "data": {
      "text/plain": [
       "0.049787068367863944"
      ]
     },
     "execution_count": 13,
     "metadata": {},
     "output_type": "execute_result"
    }
   ],
   "source": [
    "sts.poisson.pmf(k= 0, mu = 3)"
   ]
  },
  {
   "cell_type": "code",
   "execution_count": null,
   "id": "494549dd",
   "metadata": {},
   "outputs": [],
   "source": [
    "no"
   ]
  }
 ],
 "metadata": {
  "kernelspec": {
   "display_name": "Python 3 (ipykernel)",
   "language": "python",
   "name": "python3"
  },
  "language_info": {
   "codemirror_mode": {
    "name": "ipython",
    "version": 3
   },
   "file_extension": ".py",
   "mimetype": "text/x-python",
   "name": "python",
   "nbconvert_exporter": "python",
   "pygments_lexer": "ipython3",
   "version": "3.9.12"
  }
 },
 "nbformat": 4,
 "nbformat_minor": 5
}
