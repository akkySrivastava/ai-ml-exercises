{
 "cells": [
  {
   "cell_type": "markdown",
   "metadata": {
    "id": "5dNRgHATK_PV"
   },
   "source": [
    "## Content"
   ]
  },
  {
   "cell_type": "markdown",
   "metadata": {
    "id": "6rlvQ_c96ler"
   },
   "source": [
    "## Bagging recap"
   ]
  },
  {
   "cell_type": "markdown",
   "metadata": {
    "id": "WbeU6G45vrz0"
   },
   "source": [
    "#### What did we do in Bagging?\n",
    "\n",
    "\n",
    "\n",
    "\n"
   ]
  },
  {
   "cell_type": "markdown",
   "metadata": {
    "id": "iHqlDKvC_9bp"
   },
   "source": [
    "\n",
    "\n",
    "<center><img src='https://drive.google.com/uc?id=1nIm0AcacjhiMXQ8taz1r8atKjVM27yTG' width=800></center>\n",
    "\n",
    "\n"
   ]
  },
  {
   "cell_type": "markdown",
   "metadata": {
    "id": "MjfcVaVnvpr8"
   },
   "source": [
    "## Boosting Introduction"
   ]
  },
  {
   "cell_type": "markdown",
   "metadata": {
    "id": "lFsLQgc75lhP"
   },
   "source": [
    "On the other hand, in boosting, we again have **base learners**\n"
   ]
  },
  {
   "cell_type": "markdown",
   "metadata": {
    "id": "s20XY12G6rrn"
   },
   "source": [
    "\n",
    "<br>\n",
    "\n",
    "#### So, what's the nature of base learners in boosting ?\n",
    "\n"
   ]
  },
  {
   "cell_type": "markdown",
   "metadata": {
    "id": "8QGbJWxJAWtt"
   },
   "source": [
    "\n",
    "\n",
    "<center><img src='https://drive.google.com/uc?id=1JtxUKvpQSXmuHDq0bBlkqqoxU_oSkLfY' width=800></center>\n",
    "\n",
    "\n"
   ]
  },
  {
   "cell_type": "markdown",
   "metadata": {
    "id": "Q0578mCsAxXd"
   },
   "source": [
    "\n",
    "\n",
    "<center><img src='https://drive.google.com/uc?id=152K1d36OigQWWe-pOgklYPYwJxlcjmxv' width=800></center>\n",
    "\n",
    "\n"
   ]
  },
  {
   "cell_type": "markdown",
   "metadata": {
    "id": "sUfN_O7wHyPU"
   },
   "source": [
    "## Boosting Intuition - How do we combine base learners ?"
   ]
  },
  {
   "cell_type": "markdown",
   "metadata": {
    "id": "Hov5Y0utBAos"
   },
   "source": [
    "\n",
    "\n",
    "<center><img src='https://drive.google.com/uc?id=1hqB46fkdc5Keie-H9CEflqA-77exY300' width=800></center>\n",
    "\n",
    "\n",
    "\n"
   ]
  },
  {
   "cell_type": "markdown",
   "metadata": {
    "id": "5RzKm2F5MX-v"
   },
   "source": [
    "### Step 0 : $M_0$"
   ]
  },
  {
   "cell_type": "markdown",
   "metadata": {
    "id": "OT989E7vBdDb"
   },
   "source": [
    "\n",
    "\n",
    "<center><img src='https://drive.google.com/uc?id=1QDUHZxAFCubRxeateFkv_ds_zZCAaa_i' width=800></center>\n",
    "\n",
    "\n",
    "\n"
   ]
  },
  {
   "cell_type": "markdown",
   "metadata": {
    "id": "JNClReKzBsGe"
   },
   "source": [
    "\n",
    "\n",
    "<center><img src='https://drive.google.com/uc?id=1DsdABAvqJ5ULFC9mztiGZg6ltJSo9t9g' width=800></center>\n",
    "\n",
    "\n"
   ]
  },
  {
   "cell_type": "markdown",
   "metadata": {
    "id": "g8moS71ycz9L"
   },
   "source": [
    "Now, there'll be some error associated with these predictions"
   ]
  },
  {
   "cell_type": "markdown",
   "metadata": {
    "id": "g_Lk9xoMCP-a"
   },
   "source": [
    "\n",
    "\n",
    "<center><img src='https://drive.google.com/uc?id=1SBABhkiIg2QbiAFHyme5nL_4VX5o3t3e' width=800></center>\n",
    "\n",
    "\n"
   ]
  },
  {
   "cell_type": "markdown",
   "metadata": {
    "id": "UcuW-Q4VCkLZ"
   },
   "source": [
    "\n",
    "\n",
    "<center><img src='https://drive.google.com/uc?id=1fXXzgpY6RiVmb-58L0AeebMoHWb_7O48' width=800></center>\n",
    "\n",
    "\n"
   ]
  },
  {
   "cell_type": "markdown",
   "metadata": {
    "id": "8nNBZMpGZ0gT"
   },
   "source": [
    "#### What is our goal ?\n",
    "\n"
   ]
  },
  {
   "cell_type": "markdown",
   "metadata": {
    "id": "w0u51MC5C4WG"
   },
   "source": [
    "\n",
    "\n",
    "<center><img src='https://drive.google.com/uc?id=1-gp26y6sAB0jRwWHjeMFYlSBgxbyEfa-' width=800></center>\n",
    "\n",
    "\n"
   ]
  },
  {
   "cell_type": "markdown",
   "metadata": {
    "id": "EI8JmK6kcmkK"
   },
   "source": [
    "#### How would predicting the error help in reducing it ?\n",
    "\n"
   ]
  },
  {
   "cell_type": "markdown",
   "metadata": {
    "id": "MDNGGdp3DGwE"
   },
   "source": [
    "\n",
    "\n",
    "<center><img src='https://drive.google.com/uc?id=1UCcJcRj6kMvvY4OXHiRpygd3XSlCPgcN' width=800></center>\n",
    "\n",
    "\n"
   ]
  },
  {
   "cell_type": "markdown",
   "metadata": {
    "id": "pcb2jStCDkTE"
   },
   "source": [
    "\n",
    "\n",
    "<center><img src='https://drive.google.com/uc?id=1VutAA7rG00yjsHxeiuKj1U2qCxna0Muc' width=800></center>\n",
    "\n",
    "\n"
   ]
  },
  {
   "cell_type": "markdown",
   "metadata": {
    "id": "xB4NK2fGaAAc"
   },
   "source": [
    "### Step 1 : $M_1$"
   ]
  },
  {
   "cell_type": "markdown",
   "metadata": {
    "id": "BxEfXIzBD2Kv"
   },
   "source": [
    "\n",
    "\n",
    "<center><img src='https://drive.google.com/uc?id=1y9frbBzOSHoqeOAaBxElKxvr3zOU2SHT' width=800></center>\n",
    "\n",
    "\n"
   ]
  },
  {
   "cell_type": "markdown",
   "metadata": {
    "id": "aurppypFEIxt"
   },
   "source": [
    "\n",
    "\n",
    "<center><img src='https://drive.google.com/uc?id=1nMjeA8e77uDPT_dsoxNTPE4m7pt4y0-9' width=800></center>\n",
    "\n",
    "\n"
   ]
  },
  {
   "cell_type": "markdown",
   "metadata": {
    "id": "ibx38o0sWVr1"
   },
   "source": [
    "\n",
    "\n",
    "<center><img src='https://drive.google.com/uc?id=14rDjdt8cKJwej9qvVvNINWUo0lFLFvKF' width=800></center>\n",
    "\n",
    "\n",
    "\n"
   ]
  },
  {
   "cell_type": "markdown",
   "metadata": {
    "id": "XBPR5zEvm4cR"
   },
   "source": [
    "#### Issues with simple addition"
   ]
  },
  {
   "cell_type": "markdown",
   "metadata": {
    "id": "7lEmIA2LXBne"
   },
   "source": [
    "\n",
    "\n",
    "<center><img src='https://drive.google.com/uc?id=1ANQbbTp78N8-DtLybm1ZmLjMh_oglnyw' width=800></center>\n",
    "\n",
    "\n",
    "\n"
   ]
  },
  {
   "cell_type": "markdown",
   "metadata": {
    "id": "Rg1lWtHjpJsv"
   },
   "source": [
    "#### How do we resolve this issue ?"
   ]
  },
  {
   "cell_type": "markdown",
   "metadata": {
    "id": "ngJAXiY2XVUF"
   },
   "source": [
    "\n",
    "\n",
    "<center><img src='https://drive.google.com/uc?id=1u9malVh8nhg-0dNUbH-KPjWs0PFXsQ5K' width=800></center>\n",
    "\n",
    "\n"
   ]
  },
  {
   "cell_type": "markdown",
   "metadata": {
    "id": "241hrqxJqNqK"
   },
   "source": [
    "#### How do we learn these weights ?\n",
    "\n",
    "We do so using optimization (will be discussed later)"
   ]
  },
  {
   "cell_type": "markdown",
   "metadata": {
    "id": "vqRWN9VYqmWm"
   },
   "source": [
    "But, we don't stop here.\n",
    "\n",
    "We move onto next step"
   ]
  },
  {
   "cell_type": "markdown",
   "metadata": {
    "id": "GHMCW7-8rT16"
   },
   "source": [
    "### Step 2: $M_2$"
   ]
  },
  {
   "cell_type": "markdown",
   "metadata": {
    "id": "tVi7Y5_sX-Gp"
   },
   "source": [
    "\n",
    "\n",
    "<center><img src='https://drive.google.com/uc?id=1KXnDNDE-QN-yJ-d8GWNpA8o2daiMLeY6' width=800></center>\n",
    "\n",
    "\n",
    "\n"
   ]
  },
  {
   "cell_type": "markdown",
   "metadata": {
    "id": "TeBAWIGYxFRX"
   },
   "source": [
    "#### What will be residual used in step 2 ?"
   ]
  },
  {
   "cell_type": "markdown",
   "metadata": {
    "id": "30Ud-p4dwDtP"
   },
   "source": [
    "Here, $err^i_1$ will be\n",
    "-  residual left after Stage 1 final model prediction"
   ]
  },
  {
   "cell_type": "markdown",
   "metadata": {
    "id": "t0-6epBucSya"
   },
   "source": [
    "\n",
    "\n",
    "<center><img src='https://drive.google.com/uc?id=1SZUZzeHzXtrtTxJOJRiR8JmQSd_bIWAQ' width=800></center>\n",
    "\n"
   ]
  },
  {
   "cell_type": "markdown",
   "metadata": {
    "id": "pdvOGi98ZNxX"
   },
   "source": [
    "\n",
    "<center><img src='https://drive.google.com/uc?id=1oFlBHyfanxuvxQDYZorkEgkyBJ9vV43M' width=800></center>\n"
   ]
  },
  {
   "cell_type": "markdown",
   "metadata": {
    "id": "l3U7N78q1kDK"
   },
   "source": [
    "### Step M :"
   ]
  },
  {
   "cell_type": "markdown",
   "metadata": {
    "id": "wAzl89W41t1Q"
   },
   "source": [
    "The final model @ end of stage M will be :"
   ]
  },
  {
   "cell_type": "markdown",
   "metadata": {
    "id": "myT1N_AWZdNM"
   },
   "source": [
    "\n",
    "\n",
    "<center><img src='https://drive.google.com/uc?id=1XlLmupH_qG3zlTrDt9REwoiLvkU66n0J' width=800></center>\n",
    "\n"
   ]
  },
  {
   "cell_type": "markdown",
   "metadata": {
    "id": "3DEZcUDRZsKV"
   },
   "source": [
    "\n",
    "\n",
    "<center><img src='https://drive.google.com/uc?id=19IWsfSeWrv7aeSrBd6aF0YQX7PuCIamT' width=800></center>\n",
    "\n",
    "\n"
   ]
  },
  {
   "cell_type": "markdown",
   "metadata": {
    "id": "Bnl4eQao3pvo"
   },
   "source": [
    "### Example"
   ]
  },
  {
   "cell_type": "markdown",
   "metadata": {
    "id": "wQDNeMrCbI7R"
   },
   "source": [
    "\n",
    "\n",
    "<center><img src='https://drive.google.com/uc?id=1JFQyo7dn4SqCjv7SgdPH5n4FVMTcCe2A' width=800></center>\n",
    "\n",
    "\n",
    "\n"
   ]
  },
  {
   "cell_type": "markdown",
   "metadata": {
    "id": "reGwqskNbSge"
   },
   "source": [
    "\n",
    "\n",
    "<center><img src='https://drive.google.com/uc?id=1Rqv3K_xqcUMaoEOdy44kyK_FZGx6KXC8' width=800></center>\n",
    "\n",
    "\n"
   ]
  },
  {
   "cell_type": "markdown",
   "metadata": {
    "id": "fQRHTtBy7div"
   },
   "source": [
    "Now, we use the features (height , gender) and these error value to fit a new model to it\n",
    "- i.e. Stage 1 model"
   ]
  },
  {
   "cell_type": "markdown",
   "metadata": {
    "id": "66wf2JxwbYrB"
   },
   "source": [
    "\n",
    "\n",
    "<center><img src='https://drive.google.com/uc?id=1hIpRlKcPDCu-UusIveDKjjEUdCci9L1z' width=800></center>\n",
    "\n",
    "\n"
   ]
  },
  {
   "cell_type": "markdown",
   "metadata": {
    "id": "n7VmvENL7acn"
   },
   "source": [
    "Then we calculate the final predicition\n",
    "\n",
    "\n",
    "\n"
   ]
  },
  {
   "cell_type": "markdown",
   "metadata": {
    "id": "e5VpFRiabmRd"
   },
   "source": [
    "\n",
    "\n",
    "<center><img src='https://drive.google.com/uc?id=1L1G3zyN1j-RWRwcFzaGWXY5SQxSQ59Fs' width=800></center>\n",
    "\n",
    "\n",
    "\n"
   ]
  },
  {
   "cell_type": "markdown",
   "metadata": {
    "id": "r7Ev5yVPAIGL"
   },
   "source": [
    "followed by calculating error i.e. (y - final prediction @ end of stage 1 )"
   ]
  },
  {
   "cell_type": "markdown",
   "metadata": {
    "id": "ukTBjnm-bwqu"
   },
   "source": [
    "\n",
    "\n",
    "<center><img src='https://drive.google.com/uc?id=1aDd1GIiLBq5zFKmfssg6p8m5IwSOp7ZI' width=800></center>\n",
    "\n",
    "\n"
   ]
  },
  {
   "cell_type": "markdown",
   "metadata": {
    "id": "Q_WG2Q_QFrD-"
   },
   "source": [
    "### Geometrical Intution"
   ]
  },
  {
   "cell_type": "markdown",
   "metadata": {
    "id": "MYjDuVsfFzjG"
   },
   "source": [
    "#### How does model fitting looks like geometrically ?\n"
   ]
  },
  {
   "cell_type": "markdown",
   "metadata": {
    "id": "BH8KtC1CctZe"
   },
   "source": [
    "\n",
    "\n",
    "<center><img src='https://drive.google.com/uc?id=1Uzdi_wUv6JHMDBw1MwZbPra9U7jkc85m' width=800></center>\n",
    "\n",
    "\n"
   ]
  },
  {
   "cell_type": "markdown",
   "metadata": {
    "id": "R8LQpRzic4gc"
   },
   "source": [
    "Zoomed in version, for reference:"
   ]
  },
  {
   "cell_type": "markdown",
   "metadata": {
    "id": "F3Z3kAdqGhSQ"
   },
   "source": [
    "\n",
    "\n",
    "<center><img src='https://drive.google.com/uc?id=1vr-XTgG7DNAuDCNTVs7oTFnp0ejLXNUC' width=700></center>\n",
    "\n"
   ]
  },
  {
   "cell_type": "markdown",
   "metadata": {
    "id": "8-zq2zS3GwYv"
   },
   "source": [
    "The whole process along with the reduction in residual looks as follows :"
   ]
  },
  {
   "cell_type": "markdown",
   "metadata": {
    "id": "BGjNvPNSG25y"
   },
   "source": [
    "\n",
    "\n",
    "<center><img src='https://drive.google.com/uc?id=1uAPBbE0PORxg3K_UUJuYpVMTxaWwavJL' width=700></center>\n",
    "\n",
    "\n"
   ]
  },
  {
   "cell_type": "markdown",
   "metadata": {
    "id": "qt3uckNaG50T"
   },
   "source": [
    "Notice that\n",
    "- as we add the stage K's prediction to the final prediction\n",
    "    - the regression like fits better to the data\n",
    "- also the residual is reducing for each iteration."
   ]
  },
  {
   "cell_type": "markdown",
   "metadata": {
    "id": "rOixy3QKJHjH"
   },
   "source": [
    "## What happens at train and test time ?\n"
   ]
  },
  {
   "cell_type": "markdown",
   "metadata": {
    "id": "AirfigKRdRZL"
   },
   "source": [
    "\n",
    "\n",
    "<center><img src='https://drive.google.com/uc?id=1RFUgovDdCqWPUCUQQ5UMxHX7uOGCPUpm' width=800></center>\n",
    "\n",
    "\n"
   ]
  },
  {
   "cell_type": "markdown",
   "metadata": {
    "id": "gsqTz0c3eR10"
   },
   "source": [
    "\n",
    "\n",
    "<center><img src='https://drive.google.com/uc?id=1Tcy8pvuOjLebjdAZQT9mSfyz9V4poCVq' width=800></center>\n",
    "\n",
    "\n"
   ]
  },
  {
   "cell_type": "markdown",
   "metadata": {
    "id": "_8I8ncqqeVSu"
   },
   "source": [
    "\n",
    "\n",
    "<center><img src='https://drive.google.com/uc?id=1GGmXvznXw0nXaPUPnomLLOkcGeCkwcQp' width=800></center>\n",
    "\n",
    "\n"
   ]
  },
  {
   "cell_type": "markdown",
   "metadata": {
    "id": "EFZNEmoQL_Ah"
   },
   "source": [
    "## Why Boosting ? - Gradient Boosting Intuition"
   ]
  },
  {
   "cell_type": "markdown",
   "metadata": {
    "id": "LNsGpJ0NgGcQ"
   },
   "source": [
    "\n",
    "\n",
    "<center><img src='https://drive.google.com/uc?id=1YkDI8Hs5hhCQpwwUom2-c2i1Bmr9dgh-' width=800></center>\n",
    "\n",
    "\n",
    "\n"
   ]
  },
  {
   "cell_type": "markdown",
   "metadata": {
    "id": "6EvuHL_L_rJX"
   },
   "source": [
    "### Pseudo residuals"
   ]
  },
  {
   "cell_type": "markdown",
   "metadata": {
    "id": "ykdlStRs_tXm"
   },
   "source": [
    "Say, we want to minimize the squared loss"
   ]
  },
  {
   "cell_type": "markdown",
   "metadata": {
    "id": "tnHrKBjcgU1B"
   },
   "source": [
    "\n",
    "\n",
    "<center><img src='https://drive.google.com/uc?id=148l0gKEcxpDtuWb8nN05e1WnZiCj8OeO' width=800></center>\n",
    "\n",
    "\n",
    "\n"
   ]
  },
  {
   "cell_type": "markdown",
   "metadata": {
    "id": "ZcejyCnmgbE2"
   },
   "source": [
    "\n",
    "\n",
    "<center><img src='https://drive.google.com/uc?id=1MHGxr7F_DdH7b56qlTx56s__Kj6DRwLx' width=800></center>\n",
    "\n",
    "\n"
   ]
  },
  {
   "cell_type": "markdown",
   "metadata": {
    "id": "TRbcPsbLgo6t"
   },
   "source": [
    "\n",
    "\n",
    "<center><img src='https://drive.google.com/uc?id=1fNwUjJu27K1-Tcf2I9pvxzg1rMKpz4JD' width=800></center>\n",
    "\n",
    "\n"
   ]
  },
  {
   "cell_type": "markdown",
   "metadata": {
    "id": "SWBBBhrmg5gL"
   },
   "source": [
    "\n",
    "\n",
    "<center><img src='https://drive.google.com/uc?id=167GwtqFcjtT-0kGB5FRojALIlRe126qC' width=800></center>\n",
    "\n",
    "\n"
   ]
  },
  {
   "cell_type": "markdown",
   "metadata": {
    "id": "Ri1KeBAbLRnj"
   },
   "source": [
    "#### But, how do we use these pseudo residuals ?"
   ]
  },
  {
   "cell_type": "markdown",
   "metadata": {
    "id": "UaxSAhtGhcNY"
   },
   "source": [
    "\n",
    "\n",
    "<center><img src='https://drive.google.com/uc?id=1MPFrPwA5_aeQEy8VQ5fn5kDN0hz2hMlJ' width=800></center>\n",
    "\n",
    "\n"
   ]
  },
  {
   "cell_type": "markdown",
   "metadata": {
    "id": "SMIfg0Zxhl3y"
   },
   "source": [
    "\n",
    "\n",
    "<center><img src='https://drive.google.com/uc?id=1k3L0_uC9754wxszmg3tzS-Fj0a0O1uSZ' width=800></center>\n",
    "\n",
    "\n",
    "\n"
   ]
  },
  {
   "cell_type": "markdown",
   "metadata": {
    "id": "ErUq_UqJO7A_"
   },
   "source": [
    "#### How does using pseudo residual helping us ?"
   ]
  },
  {
   "cell_type": "markdown",
   "metadata": {
    "id": "_lOKZ34chzGn"
   },
   "source": [
    "\n",
    "\n",
    "<center><img src='https://drive.google.com/uc?id=1RPjNHnIBMADX2doK8IV2WEVIWAnmqimN' width=800></center>\n",
    "\n",
    "\n",
    "\n",
    "\n",
    "\n"
   ]
  },
  {
   "cell_type": "markdown",
   "metadata": {
    "id": "-a7NOd8TiB7T"
   },
   "source": [
    "\n",
    "\n",
    "<center><img src='https://drive.google.com/uc?id=1d7YzrMYL846U_1soAAlniOktqlN4VnEI' width=800></center>\n",
    "\n",
    "\n"
   ]
  },
  {
   "cell_type": "markdown",
   "metadata": {
    "id": "fv2ap2R7iFVo"
   },
   "source": [
    "\n",
    "\n",
    "<center><img src='https://drive.google.com/uc?id=1WfY3hNZXNh1L_CkNtOIUT7LXpyTTZEWp' width=800></center>\n",
    "\n",
    "\n"
   ]
  },
  {
   "cell_type": "markdown",
   "metadata": {
    "id": "QIi-5M56eoqP"
   },
   "source": [
    "#### (Optional) Extra Read - Pseudo residual Log loss"
   ]
  },
  {
   "cell_type": "markdown",
   "metadata": {
    "id": "zMTRcvOke2rg"
   },
   "source": [
    "The computation of Log loss pseudo residual is a bit math heavy.\n",
    "- hence, has been provided as extra read\n",
    "\n",
    "Do check it out: https://colab.research.google.com/drive/1TAp1vuROQyVyhntq8Bv4VhfshouSKvnB?usp=sharing"
   ]
  },
  {
   "cell_type": "markdown",
   "metadata": {
    "id": "L9SqCVtEB4dm"
   },
   "source": [
    "## Sklearn implemntation"
   ]
  },
  {
   "cell_type": "markdown",
   "metadata": {
    "id": "udZ2F2sJ_s8j"
   },
   "source": [
    "Let's implement it on the one of the previously used dataset\n",
    "- Employee attrition dataset (used in DT)"
   ]
  },
  {
   "cell_type": "code",
   "execution_count": 1,
   "metadata": {
    "colab": {
     "base_uri": "https://localhost:8080/"
    },
    "id": "YK15a4m5aZmd",
    "outputId": "c98315e2-d2a4-4d16-e116-87aea6fa85d9"
   },
   "outputs": [
    {
     "name": "stdout",
     "output_type": "stream",
     "text": [
      "Downloading...\n",
      "From: https://drive.google.com/uc?id=19L3rYatfhbBL1r5MHrv-p_oM2wlvrhqk\n",
      "To: /content/preprocessed_X_sm.pickle\n",
      "100% 534k/534k [00:00<00:00, 22.7MB/s]\n",
      "Downloading...\n",
      "From: https://drive.google.com/uc?id=1OHLKJwA3qZopKPvlKoRldM6BvA1A4dYF\n",
      "To: /content/X_test.pickle\n",
      "100% 111k/111k [00:00<00:00, 15.8MB/s]\n",
      "Downloading...\n",
      "From: https://drive.google.com/uc?id=1N7O_fWCTJLu8SIa_paKcDEzllgpMk8sK\n",
      "To: /content/y_sm.pickle\n",
      "100% 15.4k/15.4k [00:00<00:00, 50.1MB/s]\n",
      "Downloading...\n",
      "From: https://drive.google.com/uc?id=12Bh2AN8LcZAlg20ehpQrEWccUDaSdsOG\n",
      "To: /content/y_test.pickle\n",
      "100% 9.49k/9.49k [00:00<00:00, 24.1MB/s]\n"
     ]
    }
   ],
   "source": [
    "!gdown 19L3rYatfhbBL1r5MHrv-p_oM2wlvrhqk\n",
    "!gdown 1OHLKJwA3qZopKPvlKoRldM6BvA1A4dYF\n",
    "!gdown 1N7O_fWCTJLu8SIa_paKcDEzllgpMk8sK\n",
    "!gdown 12Bh2AN8LcZAlg20ehpQrEWccUDaSdsOG"
   ]
  },
  {
   "cell_type": "code",
   "execution_count": 2,
   "metadata": {
    "id": "lLOv-ppuaas8"
   },
   "outputs": [],
   "source": [
    "import pickle\n",
    "# Load data (deserialize)\n",
    "with open('preprocessed_X_sm.pickle', 'rb') as handle:\n",
    "    X_train = pickle.load(handle)\n",
    "\n",
    "with open('X_test.pickle', 'rb') as handle:\n",
    "    X_test = pickle.load(handle)\n",
    "\n",
    "with open('y_sm.pickle', 'rb') as handle:\n",
    "    y_train = pickle.load(handle)\n",
    "\n",
    "with open('y_test.pickle', 'rb') as handle:\n",
    "    y_test = pickle.load(handle)"
   ]
  },
  {
   "cell_type": "markdown",
   "metadata": {
    "id": "s77U_wsT_owX"
   },
   "source": [
    "<br>\n",
    "\n",
    "But before that\n",
    "- we need to know what are the hyperparams we need to tune"
   ]
  },
  {
   "cell_type": "markdown",
   "metadata": {
    "id": "iYtN44zOBZnm"
   },
   "source": [
    "As we learnt that\n",
    "- there are M step in making the model\n",
    "- we need to control how many steps/iteration we want i.e. how many base learners we want\n",
    "\n",
    "As learners should be high bias low variance\n",
    "- we would have to experiment with depth of the tree\n",
    "- hence, it is again a hyperparam\n",
    "\n",
    "\n",
    "Boosting also gives us flexibility to choose the loss function\n",
    "- Hence, it is also an hyperparam.\n",
    "\n",
    "\n",
    "<br>\n",
    "\n",
    "Other than that,\n",
    "- there are hyperparam related to DT which we have already seen."
   ]
  },
  {
   "cell_type": "markdown",
   "metadata": {
    "id": "rN4iERcqByv2"
   },
   "source": [
    ":Now, let's import the class from sklearn\n",
    "\n",
    "sklearn GBDT: https://scikit-learn.org/stable/modules/generated/sklearn.ensemble.GradientBoostingClassifier.html"
   ]
  },
  {
   "cell_type": "code",
   "execution_count": 3,
   "metadata": {
    "id": "bVQrni4LYjek"
   },
   "outputs": [],
   "source": [
    "from sklearn.ensemble import GradientBoostingClassifier"
   ]
  },
  {
   "cell_type": "code",
   "execution_count": 4,
   "metadata": {
    "id": "TQGz7aDOYjbs"
   },
   "outputs": [],
   "source": [
    "gbc = GradientBoostingClassifier(n_estimators=150, max_depth=2, loss = 'log_loss')"
   ]
  },
  {
   "cell_type": "code",
   "execution_count": 5,
   "metadata": {
    "colab": {
     "base_uri": "https://localhost:8080/",
     "height": 75
    },
    "id": "ZOtGMddYYjY8",
    "outputId": "dc198be7-0237-442b-c50b-b786b4293dc8"
   },
   "outputs": [
    {
     "data": {
      "text/html": [
       "<style>#sk-container-id-1 {color: black;background-color: white;}#sk-container-id-1 pre{padding: 0;}#sk-container-id-1 div.sk-toggleable {background-color: white;}#sk-container-id-1 label.sk-toggleable__label {cursor: pointer;display: block;width: 100%;margin-bottom: 0;padding: 0.3em;box-sizing: border-box;text-align: center;}#sk-container-id-1 label.sk-toggleable__label-arrow:before {content: \"▸\";float: left;margin-right: 0.25em;color: #696969;}#sk-container-id-1 label.sk-toggleable__label-arrow:hover:before {color: black;}#sk-container-id-1 div.sk-estimator:hover label.sk-toggleable__label-arrow:before {color: black;}#sk-container-id-1 div.sk-toggleable__content {max-height: 0;max-width: 0;overflow: hidden;text-align: left;background-color: #f0f8ff;}#sk-container-id-1 div.sk-toggleable__content pre {margin: 0.2em;color: black;border-radius: 0.25em;background-color: #f0f8ff;}#sk-container-id-1 input.sk-toggleable__control:checked~div.sk-toggleable__content {max-height: 200px;max-width: 100%;overflow: auto;}#sk-container-id-1 input.sk-toggleable__control:checked~label.sk-toggleable__label-arrow:before {content: \"▾\";}#sk-container-id-1 div.sk-estimator input.sk-toggleable__control:checked~label.sk-toggleable__label {background-color: #d4ebff;}#sk-container-id-1 div.sk-label input.sk-toggleable__control:checked~label.sk-toggleable__label {background-color: #d4ebff;}#sk-container-id-1 input.sk-hidden--visually {border: 0;clip: rect(1px 1px 1px 1px);clip: rect(1px, 1px, 1px, 1px);height: 1px;margin: -1px;overflow: hidden;padding: 0;position: absolute;width: 1px;}#sk-container-id-1 div.sk-estimator {font-family: monospace;background-color: #f0f8ff;border: 1px dotted black;border-radius: 0.25em;box-sizing: border-box;margin-bottom: 0.5em;}#sk-container-id-1 div.sk-estimator:hover {background-color: #d4ebff;}#sk-container-id-1 div.sk-parallel-item::after {content: \"\";width: 100%;border-bottom: 1px solid gray;flex-grow: 1;}#sk-container-id-1 div.sk-label:hover label.sk-toggleable__label {background-color: #d4ebff;}#sk-container-id-1 div.sk-serial::before {content: \"\";position: absolute;border-left: 1px solid gray;box-sizing: border-box;top: 0;bottom: 0;left: 50%;z-index: 0;}#sk-container-id-1 div.sk-serial {display: flex;flex-direction: column;align-items: center;background-color: white;padding-right: 0.2em;padding-left: 0.2em;position: relative;}#sk-container-id-1 div.sk-item {position: relative;z-index: 1;}#sk-container-id-1 div.sk-parallel {display: flex;align-items: stretch;justify-content: center;background-color: white;position: relative;}#sk-container-id-1 div.sk-item::before, #sk-container-id-1 div.sk-parallel-item::before {content: \"\";position: absolute;border-left: 1px solid gray;box-sizing: border-box;top: 0;bottom: 0;left: 50%;z-index: -1;}#sk-container-id-1 div.sk-parallel-item {display: flex;flex-direction: column;z-index: 1;position: relative;background-color: white;}#sk-container-id-1 div.sk-parallel-item:first-child::after {align-self: flex-end;width: 50%;}#sk-container-id-1 div.sk-parallel-item:last-child::after {align-self: flex-start;width: 50%;}#sk-container-id-1 div.sk-parallel-item:only-child::after {width: 0;}#sk-container-id-1 div.sk-dashed-wrapped {border: 1px dashed gray;margin: 0 0.4em 0.5em 0.4em;box-sizing: border-box;padding-bottom: 0.4em;background-color: white;}#sk-container-id-1 div.sk-label label {font-family: monospace;font-weight: bold;display: inline-block;line-height: 1.2em;}#sk-container-id-1 div.sk-label-container {text-align: center;}#sk-container-id-1 div.sk-container {/* jupyter's `normalize.less` sets `[hidden] { display: none; }` but bootstrap.min.css set `[hidden] { display: none !important; }` so we also need the `!important` here to be able to override the default hidden behavior on the sphinx rendered scikit-learn.org. See: https://github.com/scikit-learn/scikit-learn/issues/21755 */display: inline-block !important;position: relative;}#sk-container-id-1 div.sk-text-repr-fallback {display: none;}</style><div id=\"sk-container-id-1\" class=\"sk-top-container\"><div class=\"sk-text-repr-fallback\"><pre>GradientBoostingClassifier(max_depth=2, n_estimators=150)</pre><b>In a Jupyter environment, please rerun this cell to show the HTML representation or trust the notebook. <br />On GitHub, the HTML representation is unable to render, please try loading this page with nbviewer.org.</b></div><div class=\"sk-container\" hidden><div class=\"sk-item\"><div class=\"sk-estimator sk-toggleable\"><input class=\"sk-toggleable__control sk-hidden--visually\" id=\"sk-estimator-id-1\" type=\"checkbox\" checked><label for=\"sk-estimator-id-1\" class=\"sk-toggleable__label sk-toggleable__label-arrow\">GradientBoostingClassifier</label><div class=\"sk-toggleable__content\"><pre>GradientBoostingClassifier(max_depth=2, n_estimators=150)</pre></div></div></div></div></div>"
      ],
      "text/plain": [
       "GradientBoostingClassifier(max_depth=2, n_estimators=150)"
      ]
     },
     "execution_count": 5,
     "metadata": {},
     "output_type": "execute_result"
    }
   ],
   "source": [
    "gbc.fit(X_train, y_train)"
   ]
  },
  {
   "cell_type": "code",
   "execution_count": 6,
   "metadata": {
    "colab": {
     "base_uri": "https://localhost:8080/"
    },
    "id": "NUd-PfoYYjWh",
    "outputId": "ced41709-6873-4575-8e21-2c0f8cf10198"
   },
   "outputs": [
    {
     "data": {
      "text/plain": [
       "0.8804347826086957"
      ]
     },
     "execution_count": 6,
     "metadata": {},
     "output_type": "execute_result"
    }
   ],
   "source": [
    "gbc.score(X_test, y_test)"
   ]
  },
  {
   "cell_type": "code",
   "execution_count": 7,
   "metadata": {
    "colab": {
     "base_uri": "https://localhost:8080/"
    },
    "id": "LUDBHomkZpQA",
    "outputId": "8b601ffa-1792-4ec9-c90a-670d0cd8e905"
   },
   "outputs": [
    {
     "data": {
      "text/plain": [
       "0.948051948051948"
      ]
     },
     "execution_count": 7,
     "metadata": {},
     "output_type": "execute_result"
    }
   ],
   "source": [
    "gbc.score(X_train, y_train)"
   ]
  },
  {
   "cell_type": "markdown",
   "metadata": {
    "id": "xtois1VaCRiS"
   },
   "source": [
    "Model is slightly overfitting.\n",
    "\n",
    "\n",
    "Do Note that:\n",
    "- It is very easy to overfit the boosting model\n",
    "- So, we have to careful while tuning it.\n",
    "\n",
    "We'll see in next lecture how to regularize GBDT\n",
    "\n"
   ]
  }
 ],
 "metadata": {
  "colab": {
   "provenance": []
  },
  "kernelspec": {
   "display_name": "Python 3 (ipykernel)",
   "language": "python",
   "name": "python3"
  },
  "language_info": {
   "codemirror_mode": {
    "name": "ipython",
    "version": 3
   },
   "file_extension": ".py",
   "mimetype": "text/x-python",
   "name": "python",
   "nbconvert_exporter": "python",
   "pygments_lexer": "ipython3",
   "version": "3.9.12"
  }
 },
 "nbformat": 4,
 "nbformat_minor": 1
}
