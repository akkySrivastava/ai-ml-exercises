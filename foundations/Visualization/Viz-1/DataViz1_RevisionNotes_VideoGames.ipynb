{
  "nbformat": 4,
  "nbformat_minor": 0,
  "metadata": {
    "colab": {
      "provenance": []
    },
    "kernelspec": {
      "name": "python3",
      "display_name": "Python 3"
    },
    "language_info": {
      "name": "python"
    }
  },
  "cells": [
    {
      "cell_type": "markdown",
      "source": [
        "### Outline\n",
        "  - **Uses/necessity of matplotlib**\n",
        "  - Tencent Use Case\n",
        "  - **Anatomy**\n",
        "    - Figure    \n",
        "  - Types of Data visualization"
      ],
      "metadata": {
        "id": "6BPFleyxLjWS"
      }
    },
    {
      "cell_type": "markdown",
      "source": [
        "### Summary/Agenda\n",
        "\n",
        "#### Where is all Data Visualization helpful? Why?\n",
        "\n",
        "- Exploratory - EDA\n",
        "- Explanatory - Storytelling\n",
        "\n",
        "#### What is the Science in Data Visualization?\n",
        "- Anatomy of a plot/chart\n",
        "- How to use the right plot/chart for given data?\n",
        "\n",
        "#### What is the Art in Data Visualization?\n",
        "- Choose the right scale, labels, tick labels\n",
        "- Identify and remove clutters in the plot\n",
        "- Ways to highlight information in the plot\n",
        "\n",
        "\n",
        "\n"
      ],
      "metadata": {
        "id": "y_O1_wML_nhd"
      }
    },
    {
      "cell_type": "markdown",
      "metadata": {
        "id": "b8dd9db1"
      },
      "source": [
        "### Importing Matplotlib and Seaborn \n",
        "We don't need to import the entire library but just its submodule `pyplot`\n",
        "  \n",
        "We'll use the **alias name `plt`**\n",
        "\n",
        "#### What is `pyplot`?  \n",
        "  - `pyplot` is a **sub-module for visualization** in `matplotlib` \n",
        "  - Think of it as **high-level API** which **makes plotting an easy task**\n",
        "  - Data Scientists **stick to using `pyplot` only unless** they want to create **something totally new**.\n",
        "\n",
        "For seaborn, we will be importing the whole seaborn library as alias `sns`\n",
        "\n",
        "#### What is seaborn?\n",
        "\n",
        "Seaborn is another visualization library which uses matplotlib in the backend for plotting\n",
        "\n",
        "#### What is the major difference then between both matplotlib and seaborn?\n",
        "\n",
        "- Seaborn uses **fascinating themes** and **reduces number of code lines** by doing a lot of work in the backend\n",
        "- While matplotlib is used to **plot basic plots and add more functionlaity** on top of that\n",
        "- Seaborn is built on the top of Pandas and Matplotlib\n",
        "\n",
        "As we proceed through the lecture, we will see the difference between both the libraries\n",
        "\n",
        "\n",
        "\n",
        "\n",
        "\n"
      ]
    },
    {
      "cell_type": "code",
      "execution_count": null,
      "metadata": {
        "id": "aa22378f"
      },
      "outputs": [],
      "source": [
        "import matplotlib.pyplot as plt\n",
        "import seaborn as sns"
      ]
    },
    {
      "cell_type": "markdown",
      "metadata": {
        "id": "52744909"
      },
      "source": [
        "Before we dive into learning these libraries, lets answer some general questions\n",
        "\n",
        "#### Why do even we need to visualize data? When do I even need to visualise?\n",
        "\n",
        "  <!-- - It helps us to understand the data in a **pictorial format**\n",
        "\n",
        "  - It's **extensively used in Exploratory Data Analysis**\n",
        "\n",
        "  - And also to **present peformance results of our models** -->\n",
        "Two reasons/scopes \n",
        "\n",
        "- **Exploratory**  - I can’t see certain patterns just by crunching numbers (avg, rates, %ages)\n",
        "- **Explanatory** -  I can the numbers crunches and insights ready, but I’d like a visual art for storytelling\n",
        "\n",
        "***\n"
      ]
    },
    {
      "cell_type": "markdown",
      "source": [
        "Lets talk about Science of Data Visualisation \n",
        "\n",
        "#### Data\n",
        "- Rows: Samples, Data-points, Records\n",
        "- Columns: Features, Variables\n",
        "\n",
        "#### How many kinds of data do we have?\n",
        "\n",
        "At the fundamental level, it's just two types:\n",
        "- Numerical/Continous \n",
        "- Categorical\n",
        "\n",
        "Categorical can be further divided into:\n",
        "  - **Ordinal:** Categorical Data with an order (E.g. low, medium, high)\n",
        "  - **Non-ordinal/nominal:** Categorical Data without any order (example gender as Male/Female)\n",
        "\n",
        "<!-- So we can start by visualizing this data, one at a time -->\n",
        "\n",
        "<!-- #### What is analyzing a single feature/column is called?\n",
        "\n",
        "**Univariate Analysis** -->\n"
      ],
      "metadata": {
        "id": "gQrkfGiiXoXm"
      }
    },
    {
      "cell_type": "markdown",
      "source": [
        "## Video Games Analysis\n",
        "\n",
        "You are a data scientist at \"Tencent Games\". \\\n",
        "\n",
        "You need to analyze what kind of games they should start creating to get higher success in the market. \\\n"
      ],
      "metadata": {
        "id": "lb3IHOGBubdj"
      }
    },
    {
      "cell_type": "code",
      "source": [
        "!wget https://d2beiqkhq929f0.cloudfront.net/public_assets/assets/000/021/299/original/final_vg1_-_final_vg_%281%29.csv?1670840166 -O final_vg.csv"
      ],
      "metadata": {
        "colab": {
          "base_uri": "https://localhost:8080/"
        },
        "id": "ltqN16y-FKSq",
        "outputId": "360eb660-c625-475e-9914-e242a616be34"
      },
      "execution_count": null,
      "outputs": [
        {
          "output_type": "stream",
          "name": "stdout",
          "text": [
            "--2022-12-12 10:16:41--  https://d2beiqkhq929f0.cloudfront.net/public_assets/assets/000/021/299/original/final_vg1_-_final_vg_%281%29.csv?1670840166\n",
            "Resolving d2beiqkhq929f0.cloudfront.net (d2beiqkhq929f0.cloudfront.net)... 13.226.251.24, 13.226.251.62, 13.226.251.107, ...\n",
            "Connecting to d2beiqkhq929f0.cloudfront.net (d2beiqkhq929f0.cloudfront.net)|13.226.251.24|:443... connected.\n",
            "HTTP request sent, awaiting response... 200 OK\n",
            "Length: 2041483 (1.9M) [text/plain]\n",
            "Saving to: ‘final_vg.csv’\n",
            "\n",
            "final_vg.csv        100%[===================>]   1.95M  1.42MB/s    in 1.4s    \n",
            "\n",
            "2022-12-12 10:16:43 (1.42 MB/s) - ‘final_vg.csv’ saved [2041483/2041483]\n",
            "\n"
          ]
        }
      ]
    },
    {
      "cell_type": "code",
      "source": [
        "import pandas as pd\n",
        "import numpy as np\n",
        "data = pd.read_csv('final_vg.csv')\n",
        "data.head()"
      ],
      "metadata": {
        "colab": {
          "base_uri": "https://localhost:8080/",
          "height": 392
        },
        "id": "sTp1pk3hwLvc",
        "outputId": "0613dac1-4521-41f7-ea50-11fb74f925f4"
      },
      "execution_count": null,
      "outputs": [
        {
          "output_type": "execute_result",
          "data": {
            "text/plain": [
              "    Rank                               Name Platform    Year         Genre  \\\n",
              "0   2061                               1942      NES  1985.0       Shooter   \n",
              "1   9137       ¡Shin Chan Flipa en colores!       DS  2007.0      Platform   \n",
              "2  14279  .hack: Sekai no Mukou ni + Versus      PS3  2012.0        Action   \n",
              "3   8359         .hack//G.U. Vol.1//Rebirth      PS2  2006.0  Role-Playing   \n",
              "4   7109       .hack//G.U. Vol.2//Reminisce      PS2  2006.0  Role-Playing   \n",
              "\n",
              "            Publisher  NA_Sales  EU_Sales  JP_Sales  Other_Sales  Global_Sales  \n",
              "0              Capcom  4.569217  3.033887  3.439352     1.991671     12.802935  \n",
              "1           505 Games  2.076955  1.493442  3.033887     0.394830      7.034163  \n",
              "2  Namco Bandai Games  1.145709  1.762339  1.493442     0.408693      4.982552  \n",
              "3  Namco Bandai Games  2.031986  1.389856  3.228043     0.394830      7.226880  \n",
              "4  Namco Bandai Games  2.792725  2.592054  1.440483     1.493442      8.363113  "
            ],
            "text/html": [
              "\n",
              "  <div id=\"df-b9a8f4d1-dcc5-4f8c-b899-c4ae11294bb8\">\n",
              "    <div class=\"colab-df-container\">\n",
              "      <div>\n",
              "<style scoped>\n",
              "    .dataframe tbody tr th:only-of-type {\n",
              "        vertical-align: middle;\n",
              "    }\n",
              "\n",
              "    .dataframe tbody tr th {\n",
              "        vertical-align: top;\n",
              "    }\n",
              "\n",
              "    .dataframe thead th {\n",
              "        text-align: right;\n",
              "    }\n",
              "</style>\n",
              "<table border=\"1\" class=\"dataframe\">\n",
              "  <thead>\n",
              "    <tr style=\"text-align: right;\">\n",
              "      <th></th>\n",
              "      <th>Rank</th>\n",
              "      <th>Name</th>\n",
              "      <th>Platform</th>\n",
              "      <th>Year</th>\n",
              "      <th>Genre</th>\n",
              "      <th>Publisher</th>\n",
              "      <th>NA_Sales</th>\n",
              "      <th>EU_Sales</th>\n",
              "      <th>JP_Sales</th>\n",
              "      <th>Other_Sales</th>\n",
              "      <th>Global_Sales</th>\n",
              "    </tr>\n",
              "  </thead>\n",
              "  <tbody>\n",
              "    <tr>\n",
              "      <th>0</th>\n",
              "      <td>2061</td>\n",
              "      <td>1942</td>\n",
              "      <td>NES</td>\n",
              "      <td>1985.0</td>\n",
              "      <td>Shooter</td>\n",
              "      <td>Capcom</td>\n",
              "      <td>4.569217</td>\n",
              "      <td>3.033887</td>\n",
              "      <td>3.439352</td>\n",
              "      <td>1.991671</td>\n",
              "      <td>12.802935</td>\n",
              "    </tr>\n",
              "    <tr>\n",
              "      <th>1</th>\n",
              "      <td>9137</td>\n",
              "      <td>¡Shin Chan Flipa en colores!</td>\n",
              "      <td>DS</td>\n",
              "      <td>2007.0</td>\n",
              "      <td>Platform</td>\n",
              "      <td>505 Games</td>\n",
              "      <td>2.076955</td>\n",
              "      <td>1.493442</td>\n",
              "      <td>3.033887</td>\n",
              "      <td>0.394830</td>\n",
              "      <td>7.034163</td>\n",
              "    </tr>\n",
              "    <tr>\n",
              "      <th>2</th>\n",
              "      <td>14279</td>\n",
              "      <td>.hack: Sekai no Mukou ni + Versus</td>\n",
              "      <td>PS3</td>\n",
              "      <td>2012.0</td>\n",
              "      <td>Action</td>\n",
              "      <td>Namco Bandai Games</td>\n",
              "      <td>1.145709</td>\n",
              "      <td>1.762339</td>\n",
              "      <td>1.493442</td>\n",
              "      <td>0.408693</td>\n",
              "      <td>4.982552</td>\n",
              "    </tr>\n",
              "    <tr>\n",
              "      <th>3</th>\n",
              "      <td>8359</td>\n",
              "      <td>.hack//G.U. Vol.1//Rebirth</td>\n",
              "      <td>PS2</td>\n",
              "      <td>2006.0</td>\n",
              "      <td>Role-Playing</td>\n",
              "      <td>Namco Bandai Games</td>\n",
              "      <td>2.031986</td>\n",
              "      <td>1.389856</td>\n",
              "      <td>3.228043</td>\n",
              "      <td>0.394830</td>\n",
              "      <td>7.226880</td>\n",
              "    </tr>\n",
              "    <tr>\n",
              "      <th>4</th>\n",
              "      <td>7109</td>\n",
              "      <td>.hack//G.U. Vol.2//Reminisce</td>\n",
              "      <td>PS2</td>\n",
              "      <td>2006.0</td>\n",
              "      <td>Role-Playing</td>\n",
              "      <td>Namco Bandai Games</td>\n",
              "      <td>2.792725</td>\n",
              "      <td>2.592054</td>\n",
              "      <td>1.440483</td>\n",
              "      <td>1.493442</td>\n",
              "      <td>8.363113</td>\n",
              "    </tr>\n",
              "  </tbody>\n",
              "</table>\n",
              "</div>\n",
              "      <button class=\"colab-df-convert\" onclick=\"convertToInteractive('df-b9a8f4d1-dcc5-4f8c-b899-c4ae11294bb8')\"\n",
              "              title=\"Convert this dataframe to an interactive table.\"\n",
              "              style=\"display:none;\">\n",
              "        \n",
              "  <svg xmlns=\"http://www.w3.org/2000/svg\" height=\"24px\"viewBox=\"0 0 24 24\"\n",
              "       width=\"24px\">\n",
              "    <path d=\"M0 0h24v24H0V0z\" fill=\"none\"/>\n",
              "    <path d=\"M18.56 5.44l.94 2.06.94-2.06 2.06-.94-2.06-.94-.94-2.06-.94 2.06-2.06.94zm-11 1L8.5 8.5l.94-2.06 2.06-.94-2.06-.94L8.5 2.5l-.94 2.06-2.06.94zm10 10l.94 2.06.94-2.06 2.06-.94-2.06-.94-.94-2.06-.94 2.06-2.06.94z\"/><path d=\"M17.41 7.96l-1.37-1.37c-.4-.4-.92-.59-1.43-.59-.52 0-1.04.2-1.43.59L10.3 9.45l-7.72 7.72c-.78.78-.78 2.05 0 2.83L4 21.41c.39.39.9.59 1.41.59.51 0 1.02-.2 1.41-.59l7.78-7.78 2.81-2.81c.8-.78.8-2.07 0-2.86zM5.41 20L4 18.59l7.72-7.72 1.47 1.35L5.41 20z\"/>\n",
              "  </svg>\n",
              "      </button>\n",
              "      \n",
              "  <style>\n",
              "    .colab-df-container {\n",
              "      display:flex;\n",
              "      flex-wrap:wrap;\n",
              "      gap: 12px;\n",
              "    }\n",
              "\n",
              "    .colab-df-convert {\n",
              "      background-color: #E8F0FE;\n",
              "      border: none;\n",
              "      border-radius: 50%;\n",
              "      cursor: pointer;\n",
              "      display: none;\n",
              "      fill: #1967D2;\n",
              "      height: 32px;\n",
              "      padding: 0 0 0 0;\n",
              "      width: 32px;\n",
              "    }\n",
              "\n",
              "    .colab-df-convert:hover {\n",
              "      background-color: #E2EBFA;\n",
              "      box-shadow: 0px 1px 2px rgba(60, 64, 67, 0.3), 0px 1px 3px 1px rgba(60, 64, 67, 0.15);\n",
              "      fill: #174EA6;\n",
              "    }\n",
              "\n",
              "    [theme=dark] .colab-df-convert {\n",
              "      background-color: #3B4455;\n",
              "      fill: #D2E3FC;\n",
              "    }\n",
              "\n",
              "    [theme=dark] .colab-df-convert:hover {\n",
              "      background-color: #434B5C;\n",
              "      box-shadow: 0px 1px 3px 1px rgba(0, 0, 0, 0.15);\n",
              "      filter: drop-shadow(0px 1px 2px rgba(0, 0, 0, 0.3));\n",
              "      fill: #FFFFFF;\n",
              "    }\n",
              "  </style>\n",
              "\n",
              "      <script>\n",
              "        const buttonEl =\n",
              "          document.querySelector('#df-b9a8f4d1-dcc5-4f8c-b899-c4ae11294bb8 button.colab-df-convert');\n",
              "        buttonEl.style.display =\n",
              "          google.colab.kernel.accessAllowed ? 'block' : 'none';\n",
              "\n",
              "        async function convertToInteractive(key) {\n",
              "          const element = document.querySelector('#df-b9a8f4d1-dcc5-4f8c-b899-c4ae11294bb8');\n",
              "          const dataTable =\n",
              "            await google.colab.kernel.invokeFunction('convertToInteractive',\n",
              "                                                     [key], {});\n",
              "          if (!dataTable) return;\n",
              "\n",
              "          const docLinkHtml = 'Like what you see? Visit the ' +\n",
              "            '<a target=\"_blank\" href=https://colab.research.google.com/notebooks/data_table.ipynb>data table notebook</a>'\n",
              "            + ' to learn more about interactive tables.';\n",
              "          element.innerHTML = '';\n",
              "          dataTable['output_type'] = 'display_data';\n",
              "          await google.colab.output.renderOutput(dataTable, element);\n",
              "          const docLink = document.createElement('div');\n",
              "          docLink.innerHTML = docLinkHtml;\n",
              "          element.appendChild(docLink);\n",
              "        }\n",
              "      </script>\n",
              "    </div>\n",
              "  </div>\n",
              "  "
            ]
          },
          "metadata": {},
          "execution_count": 47
        }
      ]
    },
    {
      "cell_type": "markdown",
      "source": [
        "If you notice, \n",
        "\n",
        "- Columns like `Platform`, `Genre` are categorical\n",
        "- While columns like `NA_Sales`, `Global_Sales`, `Rank` are continuous \n",
        "\n",
        "On noticing further,\n",
        "- `Platform` is of nominal type, no proper order between the categories\n",
        "- `Year` is of ordinal type, there's a order to the categories"
      ],
      "metadata": {
        "id": "iTT7bJ_0YRQs"
      }
    },
    {
      "cell_type": "markdown",
      "source": [
        "### Introduction to Matplotlib\n",
        "\n",
        "#### Lets learn to create a basic plot using plt\n",
        "\n",
        "Now say, we want to draw a curve passing through 3 points:\n",
        "  - (0, 3)\n",
        "  - (1, 5)\n",
        "  - (2, 9)\n",
        "\n",
        "#### How can we draw a curve using matplotlib ?\n",
        "\n",
        "By using `plt.plot() function`"
      ],
      "metadata": {
        "id": "sA_sriWn78BE"
      }
    },
    {
      "cell_type": "code",
      "execution_count": null,
      "metadata": {
        "scrolled": true,
        "colab": {
          "base_uri": "https://localhost:8080/",
          "height": 283
        },
        "id": "414089ff",
        "outputId": "506b11b7-2e40-439f-d0d4-25085ba5769a"
      },
      "outputs": [
        {
          "output_type": "execute_result",
          "data": {
            "text/plain": [
              "[<matplotlib.lines.Line2D at 0x7fcb8faf4790>]"
            ]
          },
          "metadata": {},
          "execution_count": 48
        },
        {
          "output_type": "display_data",
          "data": {
            "text/plain": [
              "<Figure size 432x288 with 1 Axes>"
            ],
            "image/png": "[encoded data removed]"
          },
          "metadata": {
            "needs_background": "light"
          }
        }
      ],
      "source": [
        "x_val = [0, 1, 2]\n",
        "y_val = [3, 5, 9]\n",
        "plt.plot(x_val, y_val)"
      ]
    },
    {
      "cell_type": "markdown",
      "metadata": {
        "id": "2d8812bf"
      },
      "source": [
        "#### What can we observe from this plot ?\n",
        "  \n",
        "  - `plt.plot()` automatically decided the scale of the plot\n",
        "  \n",
        "  - It also prints the **type of object** `matplotlib.lines.Line2D`\n",
        "\n",
        "While this command decided a lot of things for you, you can customise each of these by understanding **components of a matplotlib plot**\n",
        "\n",
        "\n"
      ]
    },
    {
      "cell_type": "markdown",
      "metadata": {
        "id": "19821967"
      },
      "source": [
        "## Anatomy of Matplotlib\n",
        "\n",
        "<!-- <img src=\"https://d2beiqkhq929f0.cloudfront.net/public_assets/assets/000/019/567/original/image_2022-11-10_121820129.png?1668062911\"> -->\n",
        "\n",
        "\n",
        "<!-- <img src=\"https://files.realpython.com/media/fig_map.bc8c7cabd823.png\" />\n",
        "<img src=\"https://d2beiqkhq929f0.cloudfront.net/public_assets/assets/000/019/579/original/image_2022-11-10_150131378.png?1668072693\"> -->\n",
        "\n",
        "<img src=\"https://d2beiqkhq929f0.cloudfront.net/public_assets/assets/000/019/615/original/image_2022-11-11_112008033.png?1668145811\">\n",
        "\n",
        "Woah! There is a lot of information in this image. Let's understand them one at a time.\n",
        "\n",
        "\n",
        "- Figure: The **overall window** or page that everything is drawn on.\n",
        "  - You can create multiple independent Figures in Jupyter.\n",
        "  - If you run the code in terminal, separate windows will pop-up\n",
        "\n",
        "- Axes: To the figure you can add multiple **Axes** which represents a plot\n",
        "- **Axis**: Simply the `x-axis` and `y-axis`\n",
        "- **Axes**: - It is the **area** on which the **data is plotted** with functions such as `plot()`\n",
        "    - **x-label**: Name of x-axis\n",
        "    - **y-label**: Name of y-axis \n",
        "    - **Major ticks**: subdivides the axis into major units. They appear by default during plotting\n",
        "- **Minor ticks**: subdivides the major tick units. They are by default hidden and can be toggled on.\n",
        "- **Title**: Title of each plot **(Axes)**, giving information about the same\n",
        "- **Legend**: describes the elements in the plot, blue and green curves in this case\n",
        "- **Suptitle**: The common title of all the plots\n",
        "\n",
        "\n",
        "These are the major components of a matplotlib plot"
      ]
    },
    {
      "cell_type": "markdown",
      "source": [
        "#### Now, how to choose the right plot?\n",
        "\n",
        "Firstly, depends on the what is your question of interest\n",
        "\n",
        "When the question is clear:\n",
        "- How many variables are involved?\n",
        "- Whether the variable(s) are numerical or categorical?\n",
        "\n",
        "#### How many variables are involved?\n",
        "\n",
        "- 1 Variable      - Univariate Analysis\n",
        "- 2 Variables    - Bivariate Analysis\n",
        "- 2+ Variables  - Multivariate Analysis\n",
        "     \n",
        "PS: Bivariate counts under multivariate, but let's keep it sep for ease of communication\n",
        "\n",
        "What are the possible cases?\n",
        "\n",
        "#### Univariate \n",
        "- Numerical\n",
        "- Categorical\n",
        "\n",
        "#### Bivariate\n",
        "- Numerical-Numerical\n",
        "- Numerical-Categorical\n",
        "- Categorical-Categorical\n",
        "\n",
        "#### Multivariate\n",
        "\t \n",
        "Let’s start with 3 and then we can generalize\n",
        "\n",
        "- Numerical-Numerical-Categorical\n",
        "- Categorical-Categorical-Numerical\n",
        "- Categorical-Categorical-Categorical\n",
        "- Numerical-Numerical-Numerical\n",
        "\n",
        "\n",
        "We will work on these one by one "
      ],
      "metadata": {
        "id": "11Dr_W_3amLs"
      }
    }
  ]
}