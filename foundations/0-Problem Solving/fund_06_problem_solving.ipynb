{
 "cells": [
  {
   "cell_type": "code",
   "execution_count": 162,
   "id": "e40c3616",
   "metadata": {},
   "outputs": [],
   "source": [
    "import numpy as np\n",
    "import pandas as pd\n",
    "\n",
    "from scipy.stats import norm"
   ]
  },
  {
   "cell_type": "markdown",
   "id": "1c49b6a6",
   "metadata": {
    "heading_collapsed": true
   },
   "source": [
    "# Fair coin from dice"
   ]
  },
  {
   "cell_type": "code",
   "execution_count": 2,
   "id": "a0330553",
   "metadata": {
    "hidden": true
   },
   "outputs": [],
   "source": [
    "def dice():\n",
    "    return np.random.choice([1, 2, 3, 4, 5, 6])"
   ]
  },
  {
   "cell_type": "code",
   "execution_count": 10,
   "id": "e7664dcd",
   "metadata": {
    "hidden": true
   },
   "outputs": [
    {
     "data": {
      "text/plain": [
       "3"
      ]
     },
     "execution_count": 10,
     "metadata": {},
     "output_type": "execute_result"
    }
   ],
   "source": [
    "dice()"
   ]
  },
  {
   "cell_type": "code",
   "execution_count": 11,
   "id": "38481eb9",
   "metadata": {
    "hidden": true
   },
   "outputs": [],
   "source": [
    "def coin_from_dice():\n",
    "    dice_toss = dice()\n",
    "    if dice_toss <=3:\n",
    "        return \"H\"\n",
    "    else:\n",
    "        return \"T\""
   ]
  },
  {
   "cell_type": "code",
   "execution_count": 21,
   "id": "3a4d2305",
   "metadata": {
    "hidden": true
   },
   "outputs": [
    {
     "data": {
      "text/plain": [
       "'H'"
      ]
     },
     "execution_count": 21,
     "metadata": {},
     "output_type": "execute_result"
    }
   ],
   "source": [
    "coin_from_dice()"
   ]
  },
  {
   "cell_type": "markdown",
   "id": "b4e2a7e1",
   "metadata": {
    "heading_collapsed": true
   },
   "source": [
    "# Dice from Coin"
   ]
  },
  {
   "cell_type": "code",
   "execution_count": 45,
   "id": "be0b2a20",
   "metadata": {
    "hidden": true
   },
   "outputs": [],
   "source": [
    "coin_to_dice_map = {\n",
    "    \"HHH\": 1,\n",
    "    \"HHT\": 2,\n",
    "    \"HTH\": 3,\n",
    "    \"HTT\": 4,\n",
    "    \"THH\": 5, \n",
    "    \"THT\": 6,\n",
    "}\n",
    "# TTT and TTH are missing"
   ]
  },
  {
   "cell_type": "code",
   "execution_count": 37,
   "id": "4ec9b405",
   "metadata": {
    "hidden": true
   },
   "outputs": [],
   "source": [
    "def coin_three_times():\n",
    "    toss = np.random.choice([\"H\", \"T\"], size=3)\n",
    "    return \"\".join(toss)"
   ]
  },
  {
   "cell_type": "code",
   "execution_count": 44,
   "id": "bc856a30",
   "metadata": {
    "hidden": true
   },
   "outputs": [
    {
     "data": {
      "text/plain": [
       "'TTH'"
      ]
     },
     "execution_count": 44,
     "metadata": {},
     "output_type": "execute_result"
    }
   ],
   "source": [
    "coin_three_times()"
   ]
  },
  {
   "cell_type": "code",
   "execution_count": 63,
   "id": "a699a034",
   "metadata": {
    "code_folding": [],
    "hidden": true
   },
   "outputs": [],
   "source": [
    "def dice_from_coin():\n",
    "    toss = coin_three_times()\n",
    "    while toss in [\"TTT\", \"TTH\"]:\n",
    "        toss = coin_three_times()\n",
    "    return coin_to_dice_map[toss]"
   ]
  },
  {
   "cell_type": "code",
   "execution_count": 97,
   "id": "1f384d83",
   "metadata": {
    "hidden": true
   },
   "outputs": [
    {
     "data": {
      "text/plain": [
       "6"
      ]
     },
     "execution_count": 97,
     "metadata": {},
     "output_type": "execute_result"
    }
   ],
   "source": [
    "dice_from_coin()"
   ]
  },
  {
   "cell_type": "markdown",
   "id": "d86cacb9",
   "metadata": {
    "heading_collapsed": true
   },
   "source": [
    "# Fair coin from biased"
   ]
  },
  {
   "cell_type": "code",
   "execution_count": 98,
   "id": "d8796818",
   "metadata": {
    "hidden": true
   },
   "outputs": [],
   "source": [
    "def biased_coin():\n",
    "    return np.random.choice([\"H\", \"T\"], p=[0.9, 0.1])"
   ]
  },
  {
   "cell_type": "code",
   "execution_count": 112,
   "id": "613c05f6",
   "metadata": {
    "hidden": true
   },
   "outputs": [],
   "source": [
    "biased_coin_tosses = [biased_coin() for i in range(1000) ]"
   ]
  },
  {
   "cell_type": "code",
   "execution_count": 113,
   "id": "a406ac78",
   "metadata": {
    "hidden": true
   },
   "outputs": [
    {
     "data": {
      "text/plain": [
       "H    920\n",
       "T     80\n",
       "dtype: int64"
      ]
     },
     "execution_count": 113,
     "metadata": {},
     "output_type": "execute_result"
    }
   ],
   "source": [
    "pd.value_counts(biased_coin_tosses)"
   ]
  },
  {
   "cell_type": "code",
   "execution_count": 114,
   "id": "a453b5cd",
   "metadata": {
    "hidden": true
   },
   "outputs": [],
   "source": [
    "def fair_coin():\n",
    "    t1 = biased_coin()\n",
    "    t2 = biased_coin()\n",
    "    while t1 == t2:\n",
    "        t1 = biased_coin()\n",
    "        t2 = biased_coin()\n",
    "    return t1"
   ]
  },
  {
   "cell_type": "code",
   "execution_count": 123,
   "id": "9f16e0a0",
   "metadata": {
    "hidden": true
   },
   "outputs": [
    {
     "data": {
      "text/plain": [
       "H    501\n",
       "T    499\n",
       "dtype: int64"
      ]
     },
     "execution_count": 123,
     "metadata": {},
     "output_type": "execute_result"
    }
   ],
   "source": [
    "fair_coin_tosses = [fair_coin() for i in range(1000)]\n",
    "pd.value_counts(fair_coin_tosses)"
   ]
  },
  {
   "cell_type": "markdown",
   "id": "ad76822a",
   "metadata": {},
   "source": [
    "# SQL expected time"
   ]
  },
  {
   "cell_type": "code",
   "execution_count": 124,
   "id": "c03d99d3",
   "metadata": {},
   "outputs": [],
   "source": [
    "def sql_time_taken():\n",
    "    val = np.random.choice([\"s\", \"f\"])\n",
    "    if val == \"s\":\n",
    "        return 1\n",
    "    else:\n",
    "        return 3 + sql_time_taken()"
   ]
  },
  {
   "cell_type": "code",
   "execution_count": 161,
   "id": "f94faf9c",
   "metadata": {},
   "outputs": [
    {
     "data": {
      "text/plain": [
       "4.027"
      ]
     },
     "execution_count": 161,
     "metadata": {},
     "output_type": "execute_result"
    }
   ],
   "source": [
    "np.mean([sql_time_taken() for i in range(1000)])"
   ]
  },
  {
   "cell_type": "markdown",
   "id": "18c187f5",
   "metadata": {},
   "source": [
    "# Applications"
   ]
  },
  {
   "cell_type": "markdown",
   "id": "5aadaddf",
   "metadata": {},
   "source": [
    "avg = 300, std dev = 30.\n",
    "\n",
    "What is the score corresponding to 80% percentile"
   ]
  },
  {
   "cell_type": "code",
   "execution_count": 165,
   "id": "5b2b5acb",
   "metadata": {},
   "outputs": [],
   "source": [
    "# norm.cdf(z) = 0.8\n",
    "z = norm.ppf(0.8)"
   ]
  },
  {
   "cell_type": "code",
   "execution_count": 166,
   "id": "5fadab2e",
   "metadata": {},
   "outputs": [
    {
     "data": {
      "text/plain": [
       "0.8"
      ]
     },
     "execution_count": 166,
     "metadata": {},
     "output_type": "execute_result"
    }
   ],
   "source": [
    "norm.cdf(z)"
   ]
  },
  {
   "cell_type": "code",
   "execution_count": 168,
   "id": "f8a66e78",
   "metadata": {},
   "outputs": [
    {
     "data": {
      "text/plain": [
       "325.2486370071874"
      ]
     },
     "execution_count": 168,
     "metadata": {},
     "output_type": "execute_result"
    }
   ],
   "source": [
    "x = z*30 + 300\n",
    "x"
   ]
  },
  {
   "cell_type": "markdown",
   "id": "e2011ada",
   "metadata": {},
   "source": [
    "What is the expected number of applications to skim through?"
   ]
  },
  {
   "cell_type": "code",
   "execution_count": 169,
   "id": "cb59114e",
   "metadata": {},
   "outputs": [
    {
     "data": {
      "text/plain": [
       "5.0"
      ]
     },
     "execution_count": 169,
     "metadata": {},
     "output_type": "execute_result"
    }
   ],
   "source": [
    "1/0.2 # geometric with p = 0.2"
   ]
  }
 ],
 "metadata": {
  "kernelspec": {
   "display_name": "Python 3 (ipykernel)",
   "language": "python",
   "name": "python3"
  },
  "language_info": {
   "codemirror_mode": {
    "name": "ipython",
    "version": 3
   },
   "file_extension": ".py",
   "mimetype": "text/x-python",
   "name": "python",
   "nbconvert_exporter": "python",
   "pygments_lexer": "ipython3",
   "version": "3.8.12"
  }
 },
 "nbformat": 4,
 "nbformat_minor": 5
}
