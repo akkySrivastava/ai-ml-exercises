{
 "cells": [
  {
   "cell_type": "code",
   "execution_count": 1,
   "id": "1fe85846",
   "metadata": {},
   "outputs": [],
   "source": [
    "import pandas as pd\n",
    "import seaborn as sns"
   ]
  },
  {
   "cell_type": "code",
   "execution_count": 12,
   "id": "47ea4496",
   "metadata": {},
   "outputs": [
    {
     "data": {
      "text/html": [
       "<div>\n",
       "<style scoped>\n",
       "    .dataframe tbody tr th:only-of-type {\n",
       "        vertical-align: middle;\n",
       "    }\n",
       "\n",
       "    .dataframe tbody tr th {\n",
       "        vertical-align: top;\n",
       "    }\n",
       "\n",
       "    .dataframe thead th {\n",
       "        text-align: right;\n",
       "    }\n",
       "</style>\n",
       "<table border=\"1\" class=\"dataframe\">\n",
       "  <thead>\n",
       "    <tr style=\"text-align: right;\">\n",
       "      <th></th>\n",
       "      <th>Product Type</th>\n",
       "      <th>Month</th>\n",
       "      <th>Selling Price</th>\n",
       "    </tr>\n",
       "  </thead>\n",
       "  <tbody>\n",
       "    <tr>\n",
       "      <th>0</th>\n",
       "      <td>Tablet</td>\n",
       "      <td>August</td>\n",
       "      <td>22216.26</td>\n",
       "    </tr>\n",
       "    <tr>\n",
       "      <th>1</th>\n",
       "      <td>Desktop</td>\n",
       "      <td>February</td>\n",
       "      <td>42869.23</td>\n",
       "    </tr>\n",
       "    <tr>\n",
       "      <th>2</th>\n",
       "      <td>Desktop</td>\n",
       "      <td>December</td>\n",
       "      <td>10646.75</td>\n",
       "    </tr>\n",
       "    <tr>\n",
       "      <th>3</th>\n",
       "      <td>Tablet</td>\n",
       "      <td>April</td>\n",
       "      <td>50466.33</td>\n",
       "    </tr>\n",
       "    <tr>\n",
       "      <th>4</th>\n",
       "      <td>Laptop</td>\n",
       "      <td>August</td>\n",
       "      <td>14013.55</td>\n",
       "    </tr>\n",
       "  </tbody>\n",
       "</table>\n",
       "</div>"
      ],
      "text/plain": [
       "  Product Type     Month  Selling Price\n",
       "0       Tablet    August       22216.26\n",
       "1      Desktop  February       42869.23\n",
       "2      Desktop  December       10646.75\n",
       "3       Tablet     April       50466.33\n",
       "4       Laptop    August       14013.55"
      ]
     },
     "execution_count": 12,
     "metadata": {},
     "output_type": "execute_result"
    }
   ],
   "source": [
    "typ = ['Tablet', 'Desktop', 'Desktop', 'Tablet', 'Laptop', 'Desktop', 'Laptop', 'Laptop', 'Tablet', 'Laptop', 'Desktop', 'Laptop', 'Tablet', 'Desktop', 'Laptop', 'Laptop', 'Desktop', 'Tablet', 'Laptop', 'Tablet', 'Tablet', 'Desktop', 'Laptop', 'Laptop', 'Tablet', 'Desktop', 'Desktop', 'Laptop', 'Desktop', 'Laptop', 'Desktop', 'Laptop', 'Tablet', 'Tablet', 'Tablet', 'Laptop', 'Tablet', 'Tablet', 'Laptop', 'Desktop', 'Tablet', 'Desktop', 'Desktop', 'Desktop', 'Tablet', 'Tablet', 'Laptop', 'Laptop', 'Laptop', 'Laptop']\n",
    "mnth = ['August', 'February', 'December', 'April', 'August', 'August', 'April', 'February', 'December', 'May', 'February', 'November', 'May', 'January', 'August', 'March', 'August', 'April', 'December', 'March', 'May', 'November', 'May', 'March', 'July', 'August', 'February', 'January', 'August', 'April', 'February', 'February', 'January', 'March', 'April', 'March', 'May', 'December', 'February', 'July', 'March', 'January', 'December', 'March', 'August', 'May', 'April', 'February', 'Apr']\n",
    "prc = [22216.26, 42869.23, 10646.75, 50466.33, 14013.55, 82760.93, 49597.64, 82078.52, 82483.01, 11572.49, 47511.19, 96957.74, 3692.98, 92889.29, 45519.38, 82424.33, 19796.12, 71019.23, 21236.49, 50403.74, 45318.31, 12558.19, 42739.74, 63884.37, 8015.64, 96720.86, 6261.17, 94006.35, 76080.7, 33460.94, 61893.57, 2503.08, 16221.29, 39101.89, 61244.57, 79458.93, 28515.37, 15678.17, 41007.31, 44543.09, 54927.91, 43468.34, 26493.49, 73916.1, 11166.84, 13133.28, 66381.41, 45111.27, 90306.09, 35139.9]\n",
    "\n",
    "df = pd.DataFrame({\"Product Type\": typ[: 20], \"Month\": mnth[: 20], \"Selling Price\": prc[: 20]})\n",
    "df.head()"
   ]
  },
  {
   "cell_type": "code",
   "execution_count": 13,
   "id": "abee4d29",
   "metadata": {},
   "outputs": [
    {
     "data": {
      "text/plain": [
       "<AxesSubplot:xlabel='Month', ylabel='Selling Price'>"
      ]
     },
     "execution_count": 13,
     "metadata": {},
     "output_type": "execute_result"
    },
    {
     "data": {
      "image/png": "[encoded data removed]",
      "text/plain": [
       "<Figure size 432x288 with 1 Axes>"
      ]
     },
     "metadata": {
      "needs_background": "light"
     },
     "output_type": "display_data"
    }
   ],
   "source": [
    "sns.boxplot(data = df,  x=\"Month\", y=\"Selling Price\",hue=\"Product Type\" )\n"
   ]
  },
  {
   "cell_type": "code",
   "execution_count": 6,
   "id": "3956ea0a",
   "metadata": {},
   "outputs": [
    {
     "ename": "AttributeError",
     "evalue": "'AxesSubplot' object has no attribute 'add_legend'",
     "output_type": "error",
     "traceback": [
      "\u001b[1;31m---------------------------------------------------------------------------\u001b[0m",
      "\u001b[1;31mAttributeError\u001b[0m                            Traceback (most recent call last)",
      "Input \u001b[1;32mIn [6]\u001b[0m, in \u001b[0;36m<cell line: 1>\u001b[1;34m()\u001b[0m\n\u001b[1;32m----> 1\u001b[0m \u001b[43mab\u001b[49m\u001b[38;5;241;43m.\u001b[39;49m\u001b[43madd_legend\u001b[49m()\n",
      "\u001b[1;31mAttributeError\u001b[0m: 'AxesSubplot' object has no attribute 'add_legend'"
     ]
    }
   ],
   "source": [
    "ab.add_legend()"
   ]
  },
  {
   "cell_type": "code",
   "execution_count": null,
   "id": "cffcb2ee",
   "metadata": {},
   "outputs": [],
   "source": []
  }
 ],
 "metadata": {
  "kernelspec": {
   "display_name": "Python 3 (ipykernel)",
   "language": "python",
   "name": "python3"
  },
  "language_info": {
   "codemirror_mode": {
    "name": "ipython",
    "version": 3
   },
   "file_extension": ".py",
   "mimetype": "text/x-python",
   "name": "python",
   "nbconvert_exporter": "python",
   "pygments_lexer": "ipython3",
   "version": "3.9.12"
  }
 },
 "nbformat": 4,
 "nbformat_minor": 5
}
