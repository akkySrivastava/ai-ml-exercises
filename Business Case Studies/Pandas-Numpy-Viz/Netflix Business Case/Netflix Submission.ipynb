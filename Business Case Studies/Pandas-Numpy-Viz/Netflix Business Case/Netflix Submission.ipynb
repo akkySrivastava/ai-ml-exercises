{
 "cells": [
  {
   "cell_type": "markdown",
   "id": "9780b7ee",
   "metadata": {},
   "source": [
    "# Netflix Business Case Study"
   ]
  },
  {
   "cell_type": "markdown",
   "id": "1eb37c58",
   "metadata": {},
   "source": [
    "### Importing all required packages"
   ]
  },
  {
   "cell_type": "code",
   "execution_count": 181,
   "id": "9a266708",
   "metadata": {},
   "outputs": [],
   "source": [
    "import numpy as np\n",
    "import pandas as pd\n",
    "import matplotlib.pyplot as plt\n",
    "import seaborn as sns\n",
    "import warnings\n",
    "\n",
    "warnings.filterwarnings(\"ignore\")"
   ]
  },
  {
   "cell_type": "markdown",
   "id": "4c957bed",
   "metadata": {},
   "source": [
    "### Loading NETFLIX dataset"
   ]
  },
  {
   "cell_type": "code",
   "execution_count": 182,
   "id": "43189c7b",
   "metadata": {},
   "outputs": [
    {
     "data": {
      "text/html": [
       "<div>\n",
       "<style scoped>\n",
       "    .dataframe tbody tr th:only-of-type {\n",
       "        vertical-align: middle;\n",
       "    }\n",
       "\n",
       "    .dataframe tbody tr th {\n",
       "        vertical-align: top;\n",
       "    }\n",
       "\n",
       "    .dataframe thead th {\n",
       "        text-align: right;\n",
       "    }\n",
       "</style>\n",
       "<table border=\"1\" class=\"dataframe\">\n",
       "  <thead>\n",
       "    <tr style=\"text-align: right;\">\n",
       "      <th></th>\n",
       "      <th>show_id</th>\n",
       "      <th>type</th>\n",
       "      <th>title</th>\n",
       "      <th>director</th>\n",
       "      <th>cast</th>\n",
       "      <th>country</th>\n",
       "      <th>date_added</th>\n",
       "      <th>release_year</th>\n",
       "      <th>rating</th>\n",
       "      <th>duration</th>\n",
       "      <th>listed_in</th>\n",
       "      <th>description</th>\n",
       "    </tr>\n",
       "  </thead>\n",
       "  <tbody>\n",
       "    <tr>\n",
       "      <th>0</th>\n",
       "      <td>s1</td>\n",
       "      <td>Movie</td>\n",
       "      <td>Dick Johnson Is Dead</td>\n",
       "      <td>Kirsten Johnson</td>\n",
       "      <td>NaN</td>\n",
       "      <td>United States</td>\n",
       "      <td>September 25, 2021</td>\n",
       "      <td>2020</td>\n",
       "      <td>PG-13</td>\n",
       "      <td>90 min</td>\n",
       "      <td>Documentaries</td>\n",
       "      <td>As her father nears the end of his life, filmm...</td>\n",
       "    </tr>\n",
       "    <tr>\n",
       "      <th>1</th>\n",
       "      <td>s2</td>\n",
       "      <td>TV Show</td>\n",
       "      <td>Blood &amp; Water</td>\n",
       "      <td>NaN</td>\n",
       "      <td>Ama Qamata, Khosi Ngema, Gail Mabalane, Thaban...</td>\n",
       "      <td>South Africa</td>\n",
       "      <td>September 24, 2021</td>\n",
       "      <td>2021</td>\n",
       "      <td>TV-MA</td>\n",
       "      <td>2 Seasons</td>\n",
       "      <td>International TV Shows, TV Dramas, TV Mysteries</td>\n",
       "      <td>After crossing paths at a party, a Cape Town t...</td>\n",
       "    </tr>\n",
       "    <tr>\n",
       "      <th>2</th>\n",
       "      <td>s3</td>\n",
       "      <td>TV Show</td>\n",
       "      <td>Ganglands</td>\n",
       "      <td>Julien Leclercq</td>\n",
       "      <td>Sami Bouajila, Tracy Gotoas, Samuel Jouy, Nabi...</td>\n",
       "      <td>NaN</td>\n",
       "      <td>September 24, 2021</td>\n",
       "      <td>2021</td>\n",
       "      <td>TV-MA</td>\n",
       "      <td>1 Season</td>\n",
       "      <td>Crime TV Shows, International TV Shows, TV Act...</td>\n",
       "      <td>To protect his family from a powerful drug lor...</td>\n",
       "    </tr>\n",
       "    <tr>\n",
       "      <th>3</th>\n",
       "      <td>s4</td>\n",
       "      <td>TV Show</td>\n",
       "      <td>Jailbirds New Orleans</td>\n",
       "      <td>NaN</td>\n",
       "      <td>NaN</td>\n",
       "      <td>NaN</td>\n",
       "      <td>September 24, 2021</td>\n",
       "      <td>2021</td>\n",
       "      <td>TV-MA</td>\n",
       "      <td>1 Season</td>\n",
       "      <td>Docuseries, Reality TV</td>\n",
       "      <td>Feuds, flirtations and toilet talk go down amo...</td>\n",
       "    </tr>\n",
       "    <tr>\n",
       "      <th>4</th>\n",
       "      <td>s5</td>\n",
       "      <td>TV Show</td>\n",
       "      <td>Kota Factory</td>\n",
       "      <td>NaN</td>\n",
       "      <td>Mayur More, Jitendra Kumar, Ranjan Raj, Alam K...</td>\n",
       "      <td>India</td>\n",
       "      <td>September 24, 2021</td>\n",
       "      <td>2021</td>\n",
       "      <td>TV-MA</td>\n",
       "      <td>2 Seasons</td>\n",
       "      <td>International TV Shows, Romantic TV Shows, TV ...</td>\n",
       "      <td>In a city of coaching centers known to train I...</td>\n",
       "    </tr>\n",
       "  </tbody>\n",
       "</table>\n",
       "</div>"
      ],
      "text/plain": [
       "  show_id     type                  title         director  \\\n",
       "0      s1    Movie   Dick Johnson Is Dead  Kirsten Johnson   \n",
       "1      s2  TV Show          Blood & Water              NaN   \n",
       "2      s3  TV Show              Ganglands  Julien Leclercq   \n",
       "3      s4  TV Show  Jailbirds New Orleans              NaN   \n",
       "4      s5  TV Show           Kota Factory              NaN   \n",
       "\n",
       "                                                cast        country  \\\n",
       "0                                                NaN  United States   \n",
       "1  Ama Qamata, Khosi Ngema, Gail Mabalane, Thaban...   South Africa   \n",
       "2  Sami Bouajila, Tracy Gotoas, Samuel Jouy, Nabi...            NaN   \n",
       "3                                                NaN            NaN   \n",
       "4  Mayur More, Jitendra Kumar, Ranjan Raj, Alam K...          India   \n",
       "\n",
       "           date_added  release_year rating   duration  \\\n",
       "0  September 25, 2021          2020  PG-13     90 min   \n",
       "1  September 24, 2021          2021  TV-MA  2 Seasons   \n",
       "2  September 24, 2021          2021  TV-MA   1 Season   \n",
       "3  September 24, 2021          2021  TV-MA   1 Season   \n",
       "4  September 24, 2021          2021  TV-MA  2 Seasons   \n",
       "\n",
       "                                           listed_in  \\\n",
       "0                                      Documentaries   \n",
       "1    International TV Shows, TV Dramas, TV Mysteries   \n",
       "2  Crime TV Shows, International TV Shows, TV Act...   \n",
       "3                             Docuseries, Reality TV   \n",
       "4  International TV Shows, Romantic TV Shows, TV ...   \n",
       "\n",
       "                                         description  \n",
       "0  As her father nears the end of his life, filmm...  \n",
       "1  After crossing paths at a party, a Cape Town t...  \n",
       "2  To protect his family from a powerful drug lor...  \n",
       "3  Feuds, flirtations and toilet talk go down amo...  \n",
       "4  In a city of coaching centers known to train I...  "
      ]
     },
     "execution_count": 182,
     "metadata": {},
     "output_type": "execute_result"
    }
   ],
   "source": [
    "netflix = pd.read_csv(\"netflix.csv\")\n",
    "\n",
    "netflix.head()"
   ]
  },
  {
   "cell_type": "markdown",
   "id": "965b957c",
   "metadata": {},
   "source": [
    "## Question 1 \n",
    "\n",
    "### Defining Problem Statement and Analyzing basic metrics\n"
   ]
  },
  {
   "cell_type": "markdown",
   "id": "1822c81c",
   "metadata": {},
   "source": [
    "**So this is our problem statement** - \n",
    "Analyze the data and generate insights that could help Netflix in deciding which type of shows/movies to produce and how they can grow the business in different countries.\n",
    "\n",
    "- Let's further break the problem statement in sub problems -\n",
    "    - Questions we are trying to answer after analyzing and exploring the dataset\n",
    "        - How has the number of movies released per year changed over the last 20-30 years?\n",
    "        - Comparison of tv shows vs. movies.\n",
    "        - What is the best time to launch a TV show?\n",
    "        - Analysis of actors/directors of different types of shows/movies.\n",
    "        - Does Netflix has more focus on TV Shows than movies in recent years\n",
    "        - Understanding what content is available in different countries\n",
    "        - What type of content is available in different countries?\n"
   ]
  },
  {
   "cell_type": "markdown",
   "id": "3269b568",
   "metadata": {},
   "source": [
    "**To Solve The Above Problem** - We will be keep the following basic metrics in our mind while doing exploration and visualization. We will dealing with more categorical features than numerical features. \n",
    "- Growing trends in TV Show content - we will analyze using year vs count plot through Lineplot\n",
    "- Distribution of content - count of different category overall using value_counts()\n",
    "- To get more insights from date_added column, we derive year and month analysis for content distribution year on year or month on month\n",
    "- There are condensed or glacier data for actor, director, country or genre which needs to be decomposed to get better insights for the famous actor & director. \n",
    "- To get better understanding of average runtime duration of movie and seasons count for TV Shows - We will look into distribution plot to get the better understanding\n",
    "- Key Metrics - `frequency of content adding`, `statistical summary of content release`, `correlation between content adding and month`, `Rating ages analysis using masking of rating`, `distribution of content in different countries`"
   ]
  },
  {
   "cell_type": "markdown",
   "id": "89572f66",
   "metadata": {},
   "source": [
    "## Question 2\n",
    "\n",
    "### Observations on the shape of data, data types of all the attributes, conversion of categorical attributes to 'category' (If required), missing value detection, statistical summary (10 Points)\n"
   ]
  },
  {
   "cell_type": "code",
   "execution_count": 183,
   "id": "8d948821",
   "metadata": {},
   "outputs": [
    {
     "name": "stdout",
     "output_type": "stream",
     "text": [
      "The shape of dataset is (8807, 12)  | Number of Datapoints: 8807 | Number of columns: 12\n"
     ]
    }
   ],
   "source": [
    "print(\"The shape of dataset is\", netflix.shape, f\" | Number of Datapoints: {netflix.shape[0]} | Number of columns: {netflix.shape[1]}\")"
   ]
  },
  {
   "cell_type": "code",
   "execution_count": 184,
   "id": "291b63df",
   "metadata": {},
   "outputs": [
    {
     "name": "stdout",
     "output_type": "stream",
     "text": [
      "<class 'pandas.core.frame.DataFrame'>\n",
      "RangeIndex: 8807 entries, 0 to 8806\n",
      "Data columns (total 12 columns):\n",
      " #   Column        Non-Null Count  Dtype \n",
      "---  ------        --------------  ----- \n",
      " 0   show_id       8807 non-null   object\n",
      " 1   type          8807 non-null   object\n",
      " 2   title         8807 non-null   object\n",
      " 3   director      6173 non-null   object\n",
      " 4   cast          7982 non-null   object\n",
      " 5   country       7976 non-null   object\n",
      " 6   date_added    8797 non-null   object\n",
      " 7   release_year  8807 non-null   int64 \n",
      " 8   rating        8803 non-null   object\n",
      " 9   duration      8804 non-null   object\n",
      " 10  listed_in     8807 non-null   object\n",
      " 11  description   8807 non-null   object\n",
      "dtypes: int64(1), object(11)\n",
      "memory usage: 825.8+ KB\n"
     ]
    }
   ],
   "source": [
    "netflix.info()"
   ]
  },
  {
   "cell_type": "markdown",
   "id": "a9ea5e2c",
   "metadata": {},
   "source": [
    "#### Datatypes\n",
    " - Int 1\n",
    " - Object(str) 11\n",
    " \n",
    "`Thus we can conclude the dataset is more categorically feature oriented`"
   ]
  },
  {
   "cell_type": "markdown",
   "id": "52b6fa22",
   "metadata": {},
   "source": [
    "###### We can convert datatype of type attribute to category data type"
   ]
  },
  {
   "cell_type": "code",
   "execution_count": 185,
   "id": "4bcb0cae",
   "metadata": {},
   "outputs": [],
   "source": [
    "netflix[\"type\"] = netflix[\"type\"].astype(\"category\")"
   ]
  },
  {
   "cell_type": "markdown",
   "id": "e5fcd69f",
   "metadata": {},
   "source": [
    "Lets check the updated attributes"
   ]
  },
  {
   "cell_type": "code",
   "execution_count": 186,
   "id": "50f27f26",
   "metadata": {},
   "outputs": [
    {
     "name": "stdout",
     "output_type": "stream",
     "text": [
      "<class 'pandas.core.frame.DataFrame'>\n",
      "RangeIndex: 8807 entries, 0 to 8806\n",
      "Data columns (total 12 columns):\n",
      " #   Column        Non-Null Count  Dtype   \n",
      "---  ------        --------------  -----   \n",
      " 0   show_id       8807 non-null   object  \n",
      " 1   type          8807 non-null   category\n",
      " 2   title         8807 non-null   object  \n",
      " 3   director      6173 non-null   object  \n",
      " 4   cast          7982 non-null   object  \n",
      " 5   country       7976 non-null   object  \n",
      " 6   date_added    8797 non-null   object  \n",
      " 7   release_year  8807 non-null   int64   \n",
      " 8   rating        8803 non-null   object  \n",
      " 9   duration      8804 non-null   object  \n",
      " 10  listed_in     8807 non-null   object  \n",
      " 11  description   8807 non-null   object  \n",
      "dtypes: category(1), int64(1), object(10)\n",
      "memory usage: 765.7+ KB\n"
     ]
    }
   ],
   "source": [
    "netflix.info()"
   ]
  },
  {
   "cell_type": "markdown",
   "id": "3619c671",
   "metadata": {},
   "source": [
    "### Missing value detection"
   ]
  },
  {
   "cell_type": "markdown",
   "id": "ceb1bc87",
   "metadata": {},
   "source": [
    "There is missing values in the director, cast, country, data_added, rating, duration"
   ]
  },
  {
   "cell_type": "code",
   "execution_count": 187,
   "id": "07b5d055",
   "metadata": {},
   "outputs": [
    {
     "data": {
      "text/plain": [
       "show_id            0\n",
       "type               0\n",
       "title              0\n",
       "release_year       0\n",
       "listed_in          0\n",
       "description        0\n",
       "duration           3\n",
       "rating             4\n",
       "date_added        10\n",
       "cast             825\n",
       "country          831\n",
       "director        2634\n",
       "dtype: int64"
      ]
     },
     "execution_count": 187,
     "metadata": {},
     "output_type": "execute_result"
    }
   ],
   "source": [
    "netflix.isnull().sum().sort_values()"
   ]
  },
  {
   "cell_type": "markdown",
   "id": "01b6c977",
   "metadata": {},
   "source": [
    "`director` column contains most `NA` values. We can fix it using best impuatation methods"
   ]
  },
  {
   "cell_type": "markdown",
   "id": "04f86a23",
   "metadata": {},
   "source": [
    "### Statistical Summary\n",
    "\n",
    "- Numerical "
   ]
  },
  {
   "cell_type": "code",
   "execution_count": 188,
   "id": "a242c1ef",
   "metadata": {},
   "outputs": [
    {
     "data": {
      "text/html": [
       "<div>\n",
       "<style scoped>\n",
       "    .dataframe tbody tr th:only-of-type {\n",
       "        vertical-align: middle;\n",
       "    }\n",
       "\n",
       "    .dataframe tbody tr th {\n",
       "        vertical-align: top;\n",
       "    }\n",
       "\n",
       "    .dataframe thead th {\n",
       "        text-align: right;\n",
       "    }\n",
       "</style>\n",
       "<table border=\"1\" class=\"dataframe\">\n",
       "  <thead>\n",
       "    <tr style=\"text-align: right;\">\n",
       "      <th></th>\n",
       "      <th>release_year</th>\n",
       "    </tr>\n",
       "  </thead>\n",
       "  <tbody>\n",
       "    <tr>\n",
       "      <th>count</th>\n",
       "      <td>8807.000000</td>\n",
       "    </tr>\n",
       "    <tr>\n",
       "      <th>mean</th>\n",
       "      <td>2014.180198</td>\n",
       "    </tr>\n",
       "    <tr>\n",
       "      <th>std</th>\n",
       "      <td>8.819312</td>\n",
       "    </tr>\n",
       "    <tr>\n",
       "      <th>min</th>\n",
       "      <td>1925.000000</td>\n",
       "    </tr>\n",
       "    <tr>\n",
       "      <th>25%</th>\n",
       "      <td>2013.000000</td>\n",
       "    </tr>\n",
       "    <tr>\n",
       "      <th>50%</th>\n",
       "      <td>2017.000000</td>\n",
       "    </tr>\n",
       "    <tr>\n",
       "      <th>75%</th>\n",
       "      <td>2019.000000</td>\n",
       "    </tr>\n",
       "    <tr>\n",
       "      <th>max</th>\n",
       "      <td>2021.000000</td>\n",
       "    </tr>\n",
       "  </tbody>\n",
       "</table>\n",
       "</div>"
      ],
      "text/plain": [
       "       release_year\n",
       "count   8807.000000\n",
       "mean    2014.180198\n",
       "std        8.819312\n",
       "min     1925.000000\n",
       "25%     2013.000000\n",
       "50%     2017.000000\n",
       "75%     2019.000000\n",
       "max     2021.000000"
      ]
     },
     "execution_count": 188,
     "metadata": {},
     "output_type": "execute_result"
    }
   ],
   "source": [
    "netflix.describe()"
   ]
  },
  {
   "cell_type": "markdown",
   "id": "f9b69338",
   "metadata": {},
   "source": [
    "- Categorical"
   ]
  },
  {
   "cell_type": "code",
   "execution_count": 189,
   "id": "f1d81a62",
   "metadata": {},
   "outputs": [
    {
     "data": {
      "text/html": [
       "<div>\n",
       "<style scoped>\n",
       "    .dataframe tbody tr th:only-of-type {\n",
       "        vertical-align: middle;\n",
       "    }\n",
       "\n",
       "    .dataframe tbody tr th {\n",
       "        vertical-align: top;\n",
       "    }\n",
       "\n",
       "    .dataframe thead th {\n",
       "        text-align: right;\n",
       "    }\n",
       "</style>\n",
       "<table border=\"1\" class=\"dataframe\">\n",
       "  <thead>\n",
       "    <tr style=\"text-align: right;\">\n",
       "      <th></th>\n",
       "      <th>show_id</th>\n",
       "      <th>type</th>\n",
       "      <th>title</th>\n",
       "      <th>director</th>\n",
       "      <th>cast</th>\n",
       "      <th>country</th>\n",
       "      <th>date_added</th>\n",
       "      <th>rating</th>\n",
       "      <th>duration</th>\n",
       "      <th>listed_in</th>\n",
       "      <th>description</th>\n",
       "    </tr>\n",
       "  </thead>\n",
       "  <tbody>\n",
       "    <tr>\n",
       "      <th>count</th>\n",
       "      <td>8807</td>\n",
       "      <td>8807</td>\n",
       "      <td>8807</td>\n",
       "      <td>6173</td>\n",
       "      <td>7982</td>\n",
       "      <td>7976</td>\n",
       "      <td>8797</td>\n",
       "      <td>8803</td>\n",
       "      <td>8804</td>\n",
       "      <td>8807</td>\n",
       "      <td>8807</td>\n",
       "    </tr>\n",
       "    <tr>\n",
       "      <th>unique</th>\n",
       "      <td>8807</td>\n",
       "      <td>2</td>\n",
       "      <td>8807</td>\n",
       "      <td>4528</td>\n",
       "      <td>7692</td>\n",
       "      <td>748</td>\n",
       "      <td>1767</td>\n",
       "      <td>17</td>\n",
       "      <td>220</td>\n",
       "      <td>514</td>\n",
       "      <td>8775</td>\n",
       "    </tr>\n",
       "    <tr>\n",
       "      <th>top</th>\n",
       "      <td>s1</td>\n",
       "      <td>Movie</td>\n",
       "      <td>Dick Johnson Is Dead</td>\n",
       "      <td>Rajiv Chilaka</td>\n",
       "      <td>David Attenborough</td>\n",
       "      <td>United States</td>\n",
       "      <td>January 1, 2020</td>\n",
       "      <td>TV-MA</td>\n",
       "      <td>1 Season</td>\n",
       "      <td>Dramas, International Movies</td>\n",
       "      <td>Paranormal activity at a lush, abandoned prope...</td>\n",
       "    </tr>\n",
       "    <tr>\n",
       "      <th>freq</th>\n",
       "      <td>1</td>\n",
       "      <td>6131</td>\n",
       "      <td>1</td>\n",
       "      <td>19</td>\n",
       "      <td>19</td>\n",
       "      <td>2818</td>\n",
       "      <td>109</td>\n",
       "      <td>3207</td>\n",
       "      <td>1793</td>\n",
       "      <td>362</td>\n",
       "      <td>4</td>\n",
       "    </tr>\n",
       "  </tbody>\n",
       "</table>\n",
       "</div>"
      ],
      "text/plain": [
       "       show_id   type                 title       director  \\\n",
       "count     8807   8807                  8807           6173   \n",
       "unique    8807      2                  8807           4528   \n",
       "top         s1  Movie  Dick Johnson Is Dead  Rajiv Chilaka   \n",
       "freq         1   6131                     1             19   \n",
       "\n",
       "                      cast        country       date_added rating  duration  \\\n",
       "count                 7982           7976             8797   8803      8804   \n",
       "unique                7692            748             1767     17       220   \n",
       "top     David Attenborough  United States  January 1, 2020  TV-MA  1 Season   \n",
       "freq                    19           2818              109   3207      1793   \n",
       "\n",
       "                           listed_in  \\\n",
       "count                           8807   \n",
       "unique                           514   \n",
       "top     Dramas, International Movies   \n",
       "freq                             362   \n",
       "\n",
       "                                              description  \n",
       "count                                                8807  \n",
       "unique                                               8775  \n",
       "top     Paranormal activity at a lush, abandoned prope...  \n",
       "freq                                                    4  "
      ]
     },
     "execution_count": 189,
     "metadata": {},
     "output_type": "execute_result"
    }
   ],
   "source": [
    "netflix.describe(include = [\"object\", \"category\"])"
   ]
  },
  {
   "cell_type": "markdown",
   "id": "962206a7",
   "metadata": {},
   "source": [
    "### By Seeing the frequency we can conclude the following inferences (Pre Processed)- \n",
    "\n",
    "- Top Category : Movie\n",
    "- Top Cast : David Attenborough\n",
    "- Top Country  : US\n",
    "- Top Rated    : TV-MA\n",
    "- Top Listed   : Dramas, Intl Movies"
   ]
  },
  {
   "cell_type": "markdown",
   "id": "0df25c64",
   "metadata": {},
   "source": [
    "## Question 6 - Missing Values Treatment"
   ]
  },
  {
   "cell_type": "markdown",
   "id": "badedff4",
   "metadata": {},
   "source": [
    "### Missing value imputation"
   ]
  },
  {
   "cell_type": "code",
   "execution_count": 190,
   "id": "b1a6ee27",
   "metadata": {},
   "outputs": [],
   "source": [
    "netflix['director'] = netflix['director'].fillna('NoDataAvailable')\n",
    "netflix['country'] = netflix['country'].fillna(netflix['country'].mode()[0])\n",
    "netflix['cast'] = netflix['cast'].fillna('NoDataAvailable')\n",
    "netflix['date_added'] = netflix['date_added'].fillna(netflix['date_added'].mode()[0])\n",
    "netflix['rating'] = netflix['rating'].fillna(netflix['rating'].mode()[0])\n",
    "netflix[\"duration\"] = netflix[\"duration\"].fillna('NoDataAvailable')"
   ]
  },
  {
   "cell_type": "markdown",
   "id": "0cb76a90",
   "metadata": {},
   "source": [
    "Imputing the mode of `country`, `date_added`, and `rating` features for unavailable data, However for `director` and `cast` is more \n",
    "information oriented so we imputed `No data available`"
   ]
  },
  {
   "cell_type": "markdown",
   "id": "fa3bc64a",
   "metadata": {},
   "source": [
    "### After Imputation"
   ]
  },
  {
   "cell_type": "code",
   "execution_count": 191,
   "id": "6cda51a2",
   "metadata": {},
   "outputs": [
    {
     "data": {
      "text/plain": [
       "show_id         0\n",
       "type            0\n",
       "title           0\n",
       "director        0\n",
       "cast            0\n",
       "country         0\n",
       "date_added      0\n",
       "release_year    0\n",
       "rating          0\n",
       "duration        0\n",
       "listed_in       0\n",
       "description     0\n",
       "dtype: int64"
      ]
     },
     "execution_count": 191,
     "metadata": {},
     "output_type": "execute_result"
    }
   ],
   "source": [
    "netflix.isnull().sum()"
   ]
  },
  {
   "cell_type": "markdown",
   "id": "173a16b4",
   "metadata": {},
   "source": [
    "## Question 3: Non-Graphical Analysis"
   ]
  },
  {
   "cell_type": "code",
   "execution_count": 192,
   "id": "6a5b2f65",
   "metadata": {},
   "outputs": [
    {
     "data": {
      "text/html": [
       "<div>\n",
       "<style scoped>\n",
       "    .dataframe tbody tr th:only-of-type {\n",
       "        vertical-align: middle;\n",
       "    }\n",
       "\n",
       "    .dataframe tbody tr th {\n",
       "        vertical-align: top;\n",
       "    }\n",
       "\n",
       "    .dataframe thead th {\n",
       "        text-align: right;\n",
       "    }\n",
       "</style>\n",
       "<table border=\"1\" class=\"dataframe\">\n",
       "  <thead>\n",
       "    <tr style=\"text-align: right;\">\n",
       "      <th></th>\n",
       "      <th>show_id</th>\n",
       "      <th>type</th>\n",
       "      <th>title</th>\n",
       "      <th>director</th>\n",
       "      <th>cast</th>\n",
       "      <th>country</th>\n",
       "      <th>date_added</th>\n",
       "      <th>release_year</th>\n",
       "      <th>rating</th>\n",
       "      <th>duration</th>\n",
       "      <th>listed_in</th>\n",
       "      <th>description</th>\n",
       "    </tr>\n",
       "  </thead>\n",
       "  <tbody>\n",
       "    <tr>\n",
       "      <th>0</th>\n",
       "      <td>s1</td>\n",
       "      <td>Movie</td>\n",
       "      <td>Dick Johnson Is Dead</td>\n",
       "      <td>Kirsten Johnson</td>\n",
       "      <td>NoDataAvailable</td>\n",
       "      <td>United States</td>\n",
       "      <td>September 25, 2021</td>\n",
       "      <td>2020</td>\n",
       "      <td>PG-13</td>\n",
       "      <td>90 min</td>\n",
       "      <td>Documentaries</td>\n",
       "      <td>As her father nears the end of his life, filmm...</td>\n",
       "    </tr>\n",
       "    <tr>\n",
       "      <th>1</th>\n",
       "      <td>s2</td>\n",
       "      <td>TV Show</td>\n",
       "      <td>Blood &amp; Water</td>\n",
       "      <td>NoDataAvailable</td>\n",
       "      <td>Ama Qamata, Khosi Ngema, Gail Mabalane, Thaban...</td>\n",
       "      <td>South Africa</td>\n",
       "      <td>September 24, 2021</td>\n",
       "      <td>2021</td>\n",
       "      <td>TV-MA</td>\n",
       "      <td>2 Seasons</td>\n",
       "      <td>International TV Shows, TV Dramas, TV Mysteries</td>\n",
       "      <td>After crossing paths at a party, a Cape Town t...</td>\n",
       "    </tr>\n",
       "    <tr>\n",
       "      <th>2</th>\n",
       "      <td>s3</td>\n",
       "      <td>TV Show</td>\n",
       "      <td>Ganglands</td>\n",
       "      <td>Julien Leclercq</td>\n",
       "      <td>Sami Bouajila, Tracy Gotoas, Samuel Jouy, Nabi...</td>\n",
       "      <td>United States</td>\n",
       "      <td>September 24, 2021</td>\n",
       "      <td>2021</td>\n",
       "      <td>TV-MA</td>\n",
       "      <td>1 Season</td>\n",
       "      <td>Crime TV Shows, International TV Shows, TV Act...</td>\n",
       "      <td>To protect his family from a powerful drug lor...</td>\n",
       "    </tr>\n",
       "    <tr>\n",
       "      <th>3</th>\n",
       "      <td>s4</td>\n",
       "      <td>TV Show</td>\n",
       "      <td>Jailbirds New Orleans</td>\n",
       "      <td>NoDataAvailable</td>\n",
       "      <td>NoDataAvailable</td>\n",
       "      <td>United States</td>\n",
       "      <td>September 24, 2021</td>\n",
       "      <td>2021</td>\n",
       "      <td>TV-MA</td>\n",
       "      <td>1 Season</td>\n",
       "      <td>Docuseries, Reality TV</td>\n",
       "      <td>Feuds, flirtations and toilet talk go down amo...</td>\n",
       "    </tr>\n",
       "    <tr>\n",
       "      <th>4</th>\n",
       "      <td>s5</td>\n",
       "      <td>TV Show</td>\n",
       "      <td>Kota Factory</td>\n",
       "      <td>NoDataAvailable</td>\n",
       "      <td>Mayur More, Jitendra Kumar, Ranjan Raj, Alam K...</td>\n",
       "      <td>India</td>\n",
       "      <td>September 24, 2021</td>\n",
       "      <td>2021</td>\n",
       "      <td>TV-MA</td>\n",
       "      <td>2 Seasons</td>\n",
       "      <td>International TV Shows, Romantic TV Shows, TV ...</td>\n",
       "      <td>In a city of coaching centers known to train I...</td>\n",
       "    </tr>\n",
       "    <tr>\n",
       "      <th>5</th>\n",
       "      <td>s6</td>\n",
       "      <td>TV Show</td>\n",
       "      <td>Midnight Mass</td>\n",
       "      <td>Mike Flanagan</td>\n",
       "      <td>Kate Siegel, Zach Gilford, Hamish Linklater, H...</td>\n",
       "      <td>United States</td>\n",
       "      <td>September 24, 2021</td>\n",
       "      <td>2021</td>\n",
       "      <td>TV-MA</td>\n",
       "      <td>1 Season</td>\n",
       "      <td>TV Dramas, TV Horror, TV Mysteries</td>\n",
       "      <td>The arrival of a charismatic young priest brin...</td>\n",
       "    </tr>\n",
       "    <tr>\n",
       "      <th>6</th>\n",
       "      <td>s7</td>\n",
       "      <td>Movie</td>\n",
       "      <td>My Little Pony: A New Generation</td>\n",
       "      <td>Robert Cullen, JosÃ© Luis Ucha</td>\n",
       "      <td>Vanessa Hudgens, Kimiko Glenn, James Marsden, ...</td>\n",
       "      <td>United States</td>\n",
       "      <td>September 24, 2021</td>\n",
       "      <td>2021</td>\n",
       "      <td>PG</td>\n",
       "      <td>91 min</td>\n",
       "      <td>Children &amp; Family Movies</td>\n",
       "      <td>Equestria's divided. But a bright-eyed hero be...</td>\n",
       "    </tr>\n",
       "    <tr>\n",
       "      <th>7</th>\n",
       "      <td>s8</td>\n",
       "      <td>Movie</td>\n",
       "      <td>Sankofa</td>\n",
       "      <td>Haile Gerima</td>\n",
       "      <td>Kofi Ghanaba, Oyafunmike Ogunlano, Alexandra D...</td>\n",
       "      <td>United States, Ghana, Burkina Faso, United Kin...</td>\n",
       "      <td>September 24, 2021</td>\n",
       "      <td>1993</td>\n",
       "      <td>TV-MA</td>\n",
       "      <td>125 min</td>\n",
       "      <td>Dramas, Independent Movies, International Movies</td>\n",
       "      <td>On a photo shoot in Ghana, an American model s...</td>\n",
       "    </tr>\n",
       "    <tr>\n",
       "      <th>8</th>\n",
       "      <td>s9</td>\n",
       "      <td>TV Show</td>\n",
       "      <td>The Great British Baking Show</td>\n",
       "      <td>Andy Devonshire</td>\n",
       "      <td>Mel Giedroyc, Sue Perkins, Mary Berry, Paul Ho...</td>\n",
       "      <td>United Kingdom</td>\n",
       "      <td>September 24, 2021</td>\n",
       "      <td>2021</td>\n",
       "      <td>TV-14</td>\n",
       "      <td>9 Seasons</td>\n",
       "      <td>British TV Shows, Reality TV</td>\n",
       "      <td>A talented batch of amateur bakers face off in...</td>\n",
       "    </tr>\n",
       "    <tr>\n",
       "      <th>9</th>\n",
       "      <td>s10</td>\n",
       "      <td>Movie</td>\n",
       "      <td>The Starling</td>\n",
       "      <td>Theodore Melfi</td>\n",
       "      <td>Melissa McCarthy, Chris O'Dowd, Kevin Kline, T...</td>\n",
       "      <td>United States</td>\n",
       "      <td>September 24, 2021</td>\n",
       "      <td>2021</td>\n",
       "      <td>PG-13</td>\n",
       "      <td>104 min</td>\n",
       "      <td>Comedies, Dramas</td>\n",
       "      <td>A woman adjusting to life after a loss contend...</td>\n",
       "    </tr>\n",
       "  </tbody>\n",
       "</table>\n",
       "</div>"
      ],
      "text/plain": [
       "  show_id     type                             title  \\\n",
       "0      s1    Movie              Dick Johnson Is Dead   \n",
       "1      s2  TV Show                     Blood & Water   \n",
       "2      s3  TV Show                         Ganglands   \n",
       "3      s4  TV Show             Jailbirds New Orleans   \n",
       "4      s5  TV Show                      Kota Factory   \n",
       "5      s6  TV Show                     Midnight Mass   \n",
       "6      s7    Movie  My Little Pony: A New Generation   \n",
       "7      s8    Movie                           Sankofa   \n",
       "8      s9  TV Show     The Great British Baking Show   \n",
       "9     s10    Movie                      The Starling   \n",
       "\n",
       "                         director  \\\n",
       "0                 Kirsten Johnson   \n",
       "1                 NoDataAvailable   \n",
       "2                 Julien Leclercq   \n",
       "3                 NoDataAvailable   \n",
       "4                 NoDataAvailable   \n",
       "5                   Mike Flanagan   \n",
       "6  Robert Cullen, JosÃ© Luis Ucha   \n",
       "7                    Haile Gerima   \n",
       "8                 Andy Devonshire   \n",
       "9                  Theodore Melfi   \n",
       "\n",
       "                                                cast  \\\n",
       "0                                    NoDataAvailable   \n",
       "1  Ama Qamata, Khosi Ngema, Gail Mabalane, Thaban...   \n",
       "2  Sami Bouajila, Tracy Gotoas, Samuel Jouy, Nabi...   \n",
       "3                                    NoDataAvailable   \n",
       "4  Mayur More, Jitendra Kumar, Ranjan Raj, Alam K...   \n",
       "5  Kate Siegel, Zach Gilford, Hamish Linklater, H...   \n",
       "6  Vanessa Hudgens, Kimiko Glenn, James Marsden, ...   \n",
       "7  Kofi Ghanaba, Oyafunmike Ogunlano, Alexandra D...   \n",
       "8  Mel Giedroyc, Sue Perkins, Mary Berry, Paul Ho...   \n",
       "9  Melissa McCarthy, Chris O'Dowd, Kevin Kline, T...   \n",
       "\n",
       "                                             country          date_added  \\\n",
       "0                                      United States  September 25, 2021   \n",
       "1                                       South Africa  September 24, 2021   \n",
       "2                                      United States  September 24, 2021   \n",
       "3                                      United States  September 24, 2021   \n",
       "4                                              India  September 24, 2021   \n",
       "5                                      United States  September 24, 2021   \n",
       "6                                      United States  September 24, 2021   \n",
       "7  United States, Ghana, Burkina Faso, United Kin...  September 24, 2021   \n",
       "8                                     United Kingdom  September 24, 2021   \n",
       "9                                      United States  September 24, 2021   \n",
       "\n",
       "   release_year rating   duration  \\\n",
       "0          2020  PG-13     90 min   \n",
       "1          2021  TV-MA  2 Seasons   \n",
       "2          2021  TV-MA   1 Season   \n",
       "3          2021  TV-MA   1 Season   \n",
       "4          2021  TV-MA  2 Seasons   \n",
       "5          2021  TV-MA   1 Season   \n",
       "6          2021     PG     91 min   \n",
       "7          1993  TV-MA    125 min   \n",
       "8          2021  TV-14  9 Seasons   \n",
       "9          2021  PG-13    104 min   \n",
       "\n",
       "                                           listed_in  \\\n",
       "0                                      Documentaries   \n",
       "1    International TV Shows, TV Dramas, TV Mysteries   \n",
       "2  Crime TV Shows, International TV Shows, TV Act...   \n",
       "3                             Docuseries, Reality TV   \n",
       "4  International TV Shows, Romantic TV Shows, TV ...   \n",
       "5                 TV Dramas, TV Horror, TV Mysteries   \n",
       "6                           Children & Family Movies   \n",
       "7   Dramas, Independent Movies, International Movies   \n",
       "8                       British TV Shows, Reality TV   \n",
       "9                                   Comedies, Dramas   \n",
       "\n",
       "                                         description  \n",
       "0  As her father nears the end of his life, filmm...  \n",
       "1  After crossing paths at a party, a Cape Town t...  \n",
       "2  To protect his family from a powerful drug lor...  \n",
       "3  Feuds, flirtations and toilet talk go down amo...  \n",
       "4  In a city of coaching centers known to train I...  \n",
       "5  The arrival of a charismatic young priest brin...  \n",
       "6  Equestria's divided. But a bright-eyed hero be...  \n",
       "7  On a photo shoot in Ghana, an American model s...  \n",
       "8  A talented batch of amateur bakers face off in...  \n",
       "9  A woman adjusting to life after a loss contend...  "
      ]
     },
     "execution_count": 192,
     "metadata": {},
     "output_type": "execute_result"
    }
   ],
   "source": [
    "netflix.head(10)"
   ]
  },
  {
   "cell_type": "markdown",
   "id": "556976a9",
   "metadata": {},
   "source": [
    "### Content Type on Netflix"
   ]
  },
  {
   "cell_type": "code",
   "execution_count": 193,
   "id": "fde2d1cc",
   "metadata": {},
   "outputs": [
    {
     "data": {
      "text/plain": [
       "Movie      6131\n",
       "TV Show    2676\n",
       "Name: type, dtype: int64"
      ]
     },
     "execution_count": 193,
     "metadata": {},
     "output_type": "execute_result"
    }
   ],
   "source": [
    "netflix[\"type\"].value_counts()"
   ]
  },
  {
   "cell_type": "markdown",
   "id": "0002118b",
   "metadata": {},
   "source": [
    "#### `Insights`\n",
    "- There are two unique category `Movie` & `TV Show`\n",
    "- Movies are dominant content on netflix platform"
   ]
  },
  {
   "cell_type": "markdown",
   "id": "e92fa502",
   "metadata": {},
   "source": [
    "### Most Number of Release per Year"
   ]
  },
  {
   "cell_type": "code",
   "execution_count": 194,
   "id": "7ae1ce8f",
   "metadata": {
    "scrolled": true
   },
   "outputs": [
    {
     "data": {
      "text/plain": [
       "2018    1147\n",
       "2017    1032\n",
       "2019    1030\n",
       "2020     953\n",
       "2016     902\n",
       "        ... \n",
       "1959       1\n",
       "1925       1\n",
       "1961       1\n",
       "1947       1\n",
       "1966       1\n",
       "Name: release_year, Length: 74, dtype: int64"
      ]
     },
     "execution_count": 194,
     "metadata": {},
     "output_type": "execute_result"
    }
   ],
   "source": [
    "netflix[\"release_year\"].value_counts()"
   ]
  },
  {
   "cell_type": "markdown",
   "id": "4261c462",
   "metadata": {},
   "source": [
    "#### `Insights`\n",
    "- Content released in range of 74 unique years between `1925` - `2021`\n",
    "- Most of the content released in year `2018`"
   ]
  },
  {
   "cell_type": "markdown",
   "id": "ac476bd4",
   "metadata": {},
   "source": [
    "### Analysis of content being added on Netflix platform\n"
   ]
  },
  {
   "cell_type": "code",
   "execution_count": 195,
   "id": "dfcf052c",
   "metadata": {},
   "outputs": [
    {
     "data": {
      "text/plain": [
       "2008       2\n",
       "2009       2\n",
       "2010       1\n",
       "2011      13\n",
       "2012       3\n",
       "2013      11\n",
       "2014      24\n",
       "2015      82\n",
       "2016     429\n",
       "2017    1188\n",
       "2018    1649\n",
       "2019    2016\n",
       "2020    1889\n",
       "2021    1498\n",
       "Name: year_added, dtype: int64"
      ]
     },
     "execution_count": 195,
     "metadata": {},
     "output_type": "execute_result"
    }
   ],
   "source": [
    "netflix[\"date_added\"] = pd.to_datetime(netflix[\"date_added\"])\n",
    "\n",
    "netflix[\"year_added\"] = netflix[\"date_added\"].dt.year\n",
    "netflix[\"month_added\"] = netflix[\"date_added\"].dt.month\n",
    "\n",
    "netflix[\"year_added\"].value_counts().sort_index()"
   ]
  },
  {
   "cell_type": "markdown",
   "id": "7c6dc95a",
   "metadata": {},
   "source": [
    "#### `Insights`\n",
    "- Contents added on platform from `2010` to `2021`\n",
    "- Most of the contents being added in year `2019`"
   ]
  },
  {
   "cell_type": "code",
   "execution_count": 196,
   "id": "ffc44358",
   "metadata": {},
   "outputs": [
    {
     "data": {
      "text/plain": [
       "7     827\n",
       "12    813\n",
       "9     770\n",
       "4     764\n",
       "10    760\n",
       "8     755\n",
       "1     748\n",
       "3     742\n",
       "6     728\n",
       "11    705\n",
       "5     632\n",
       "2     563\n",
       "Name: month_added, dtype: int64"
      ]
     },
     "execution_count": 196,
     "metadata": {},
     "output_type": "execute_result"
    }
   ],
   "source": [
    "netflix[\"month_added\"].value_counts()"
   ]
  },
  {
   "cell_type": "markdown",
   "id": "22257183",
   "metadata": {},
   "source": [
    "#### `Insights`\n",
    "- Most of the content being added in month of `July(7)`"
   ]
  },
  {
   "cell_type": "markdown",
   "id": "8d9f99b5",
   "metadata": {},
   "source": [
    "Let's check any particular date on which content is added in bulk"
   ]
  },
  {
   "cell_type": "code",
   "execution_count": 197,
   "id": "3323ff55",
   "metadata": {},
   "outputs": [
    {
     "data": {
      "text/plain": [
       "2020-01-01    120\n",
       "2019-11-01     91\n",
       "2018-03-01     75\n",
       "2019-12-31     74\n",
       "2018-10-01     71\n",
       "             ... \n",
       "2017-02-21      1\n",
       "2017-02-07      1\n",
       "2017-01-29      1\n",
       "2017-01-25      1\n",
       "2020-01-11      1\n",
       "Name: date_added, Length: 1714, dtype: int64"
      ]
     },
     "execution_count": 197,
     "metadata": {},
     "output_type": "execute_result"
    }
   ],
   "source": [
    "netflix[\"date_added\"].value_counts()"
   ]
  },
  {
   "cell_type": "markdown",
   "id": "d4aa4cf7",
   "metadata": {},
   "source": [
    "#### `Insights`\n",
    "- There are total of `1714` unique dates on which contents being added on platform\n",
    "- We can say 120 contents has been added on particular date `2020-01-01`"
   ]
  },
  {
   "cell_type": "markdown",
   "id": "27cb1980",
   "metadata": {},
   "source": [
    "### Analysis of Different Ratings"
   ]
  },
  {
   "cell_type": "markdown",
   "id": "ff9af6fd",
   "metadata": {},
   "source": [
    "Let's create `rating ages` column derived from `rating` column"
   ]
  },
  {
   "cell_type": "code",
   "execution_count": 198,
   "id": "de1e141b",
   "metadata": {},
   "outputs": [],
   "source": [
    "ratings_ages = {\n",
    "    'TV-PG': 'Older Kids',\n",
    "    'TV-MA': 'Adults',\n",
    "    'TV-Y7-FV': 'Older Kids',\n",
    "    'TV-Y7': 'Older Kids',\n",
    "    'TV-14': 'Teens',\n",
    "    'R': 'Adults',\n",
    "    'TV-Y': 'Kids',\n",
    "    'NR': 'Adults',\n",
    "    'PG-13': 'Teens',\n",
    "    'TV-G': 'Kids',\n",
    "    'PG': 'Older Kids',\n",
    "    'G': 'Kids',\n",
    "    'UR': 'Adults',\n",
    "    'NC-17': 'Adults'\n",
    "}\n",
    "netflix[\"ratings_ages\"]=netflix[\"rating\"].replace(ratings_ages)"
   ]
  },
  {
   "cell_type": "code",
   "execution_count": 199,
   "id": "8602bf46",
   "metadata": {},
   "outputs": [
    {
     "data": {
      "text/plain": [
       "array(['PG-13', 'TV-MA', 'PG', 'TV-14', 'TV-PG', 'TV-Y', 'TV-Y7', 'R',\n",
       "       'TV-G', 'G', 'NC-17', '74 min', '84 min', '66 min', 'NR',\n",
       "       'TV-Y7-FV', 'UR'], dtype=object)"
      ]
     },
     "execution_count": 199,
     "metadata": {},
     "output_type": "execute_result"
    }
   ],
   "source": [
    "netflix[\"rating\"].unique()"
   ]
  },
  {
   "cell_type": "markdown",
   "id": "d3ca3a54",
   "metadata": {},
   "source": [
    "#### Data from `duration` column appeared in rating for 3 datapoints.\n",
    "Let's sanitise that"
   ]
  },
  {
   "cell_type": "code",
   "execution_count": 200,
   "id": "d02eecf0",
   "metadata": {},
   "outputs": [],
   "source": [
    "temp = netflix.loc[netflix[\"rating\"].str.contains(\"min\")] \n",
    "\n",
    "temp[\"duration\"] =  temp[\"rating\"]\n"
   ]
  },
  {
   "cell_type": "code",
   "execution_count": 201,
   "id": "7fa7682f",
   "metadata": {},
   "outputs": [
    {
     "data": {
      "text/html": [
       "<div>\n",
       "<style scoped>\n",
       "    .dataframe tbody tr th:only-of-type {\n",
       "        vertical-align: middle;\n",
       "    }\n",
       "\n",
       "    .dataframe tbody tr th {\n",
       "        vertical-align: top;\n",
       "    }\n",
       "\n",
       "    .dataframe thead th {\n",
       "        text-align: right;\n",
       "    }\n",
       "</style>\n",
       "<table border=\"1\" class=\"dataframe\">\n",
       "  <thead>\n",
       "    <tr style=\"text-align: right;\">\n",
       "      <th></th>\n",
       "      <th>show_id</th>\n",
       "      <th>type</th>\n",
       "      <th>title</th>\n",
       "      <th>director</th>\n",
       "      <th>cast</th>\n",
       "      <th>country</th>\n",
       "      <th>date_added</th>\n",
       "      <th>release_year</th>\n",
       "      <th>rating</th>\n",
       "      <th>duration</th>\n",
       "      <th>listed_in</th>\n",
       "      <th>description</th>\n",
       "      <th>year_added</th>\n",
       "      <th>month_added</th>\n",
       "      <th>ratings_ages</th>\n",
       "    </tr>\n",
       "  </thead>\n",
       "  <tbody>\n",
       "    <tr>\n",
       "      <th>5541</th>\n",
       "      <td>s5542</td>\n",
       "      <td>Movie</td>\n",
       "      <td>Louis C.K. 2017</td>\n",
       "      <td>Louis C.K.</td>\n",
       "      <td>Louis C.K.</td>\n",
       "      <td>United States</td>\n",
       "      <td>2017-04-04</td>\n",
       "      <td>2017</td>\n",
       "      <td>TV-MA</td>\n",
       "      <td>74 min</td>\n",
       "      <td>Movies</td>\n",
       "      <td>Louis C.K. muses on religion, eternal love, gi...</td>\n",
       "      <td>2017</td>\n",
       "      <td>4</td>\n",
       "      <td>Adults</td>\n",
       "    </tr>\n",
       "    <tr>\n",
       "      <th>5794</th>\n",
       "      <td>s5795</td>\n",
       "      <td>Movie</td>\n",
       "      <td>Louis C.K.: Hilarious</td>\n",
       "      <td>Louis C.K.</td>\n",
       "      <td>Louis C.K.</td>\n",
       "      <td>United States</td>\n",
       "      <td>2016-09-16</td>\n",
       "      <td>2010</td>\n",
       "      <td>TV-MA</td>\n",
       "      <td>84 min</td>\n",
       "      <td>Movies</td>\n",
       "      <td>Emmy-winning comedy writer Louis C.K. brings h...</td>\n",
       "      <td>2016</td>\n",
       "      <td>9</td>\n",
       "      <td>Adults</td>\n",
       "    </tr>\n",
       "    <tr>\n",
       "      <th>5813</th>\n",
       "      <td>s5814</td>\n",
       "      <td>Movie</td>\n",
       "      <td>Louis C.K.: Live at the Comedy Store</td>\n",
       "      <td>Louis C.K.</td>\n",
       "      <td>Louis C.K.</td>\n",
       "      <td>United States</td>\n",
       "      <td>2016-08-15</td>\n",
       "      <td>2015</td>\n",
       "      <td>TV-MA</td>\n",
       "      <td>66 min</td>\n",
       "      <td>Movies</td>\n",
       "      <td>The comic puts his trademark hilarious/thought...</td>\n",
       "      <td>2016</td>\n",
       "      <td>8</td>\n",
       "      <td>Adults</td>\n",
       "    </tr>\n",
       "  </tbody>\n",
       "</table>\n",
       "</div>"
      ],
      "text/plain": [
       "     show_id   type                                 title    director  \\\n",
       "5541   s5542  Movie                       Louis C.K. 2017  Louis C.K.   \n",
       "5794   s5795  Movie                 Louis C.K.: Hilarious  Louis C.K.   \n",
       "5813   s5814  Movie  Louis C.K.: Live at the Comedy Store  Louis C.K.   \n",
       "\n",
       "            cast        country date_added  release_year rating duration  \\\n",
       "5541  Louis C.K.  United States 2017-04-04          2017  TV-MA   74 min   \n",
       "5794  Louis C.K.  United States 2016-09-16          2010  TV-MA   84 min   \n",
       "5813  Louis C.K.  United States 2016-08-15          2015  TV-MA   66 min   \n",
       "\n",
       "     listed_in                                        description  year_added  \\\n",
       "5541    Movies  Louis C.K. muses on religion, eternal love, gi...        2017   \n",
       "5794    Movies  Emmy-winning comedy writer Louis C.K. brings h...        2016   \n",
       "5813    Movies  The comic puts his trademark hilarious/thought...        2016   \n",
       "\n",
       "      month_added ratings_ages  \n",
       "5541            4       Adults  \n",
       "5794            9       Adults  \n",
       "5813            8       Adults  "
      ]
     },
     "execution_count": 201,
     "metadata": {},
     "output_type": "execute_result"
    }
   ],
   "source": [
    "temp[\"rating\"] = netflix[\"rating\"].mode()[0]\n",
    "temp[\"ratings_ages\"] = temp[\"rating\"]\n",
    "temp[\"ratings_ages\"] = temp[\"rating\"].replace(ratings_ages)\n",
    "\n",
    "temp"
   ]
  },
  {
   "cell_type": "code",
   "execution_count": 202,
   "id": "0ce005b6",
   "metadata": {},
   "outputs": [],
   "source": [
    "netflix.loc[netflix[\"rating\"].str.contains(\"min\")] = temp"
   ]
  },
  {
   "cell_type": "markdown",
   "id": "094d344e",
   "metadata": {},
   "source": [
    "Let's check our data is sanitized or not"
   ]
  },
  {
   "cell_type": "code",
   "execution_count": 203,
   "id": "cdcbf436",
   "metadata": {},
   "outputs": [
    {
     "data": {
      "text/plain": [
       "(0, 15)"
      ]
     },
     "execution_count": 203,
     "metadata": {},
     "output_type": "execute_result"
    }
   ],
   "source": [
    "netflix.loc[netflix[\"rating\"].str.contains(\"min\")].shape"
   ]
  },
  {
   "cell_type": "markdown",
   "id": "8034ee41",
   "metadata": {},
   "source": [
    "#### Our rating data is sanitised now. Let's start analysis"
   ]
  },
  {
   "cell_type": "code",
   "execution_count": 204,
   "id": "210981b6",
   "metadata": {},
   "outputs": [
    {
     "data": {
      "text/plain": [
       "TV-MA       3214\n",
       "TV-14       2160\n",
       "TV-PG        863\n",
       "R            799\n",
       "PG-13        490\n",
       "TV-Y7        334\n",
       "TV-Y         307\n",
       "PG           287\n",
       "TV-G         220\n",
       "NR            80\n",
       "G             41\n",
       "TV-Y7-FV       6\n",
       "NC-17          3\n",
       "UR             3\n",
       "Name: rating, dtype: int64"
      ]
     },
     "execution_count": 204,
     "metadata": {},
     "output_type": "execute_result"
    }
   ],
   "source": [
    "netflix[\"rating\"].value_counts()"
   ]
  },
  {
   "cell_type": "markdown",
   "id": "2d25a5ab",
   "metadata": {},
   "source": [
    "#### `Insights`\n",
    "- There are 14 different ratings for all the content available on Netflix\n",
    "- Most of the content being rated `TV-MA` & `TV-14`"
   ]
  },
  {
   "cell_type": "markdown",
   "id": "179a3878",
   "metadata": {},
   "source": [
    "#### Let's check the `ratings age` analysis"
   ]
  },
  {
   "cell_type": "code",
   "execution_count": 205,
   "id": "7deb3688",
   "metadata": {},
   "outputs": [
    {
     "data": {
      "text/plain": [
       "Adults        4099\n",
       "Teens         2650\n",
       "Older Kids    1490\n",
       "Kids           568\n",
       "Name: ratings_ages, dtype: int64"
      ]
     },
     "execution_count": 205,
     "metadata": {},
     "output_type": "execute_result"
    }
   ],
   "source": [
    "netflix[\"ratings_ages\"].value_counts()"
   ]
  },
  {
   "cell_type": "markdown",
   "id": "7e89f694",
   "metadata": {},
   "source": [
    "#### `Insights`\n",
    "- There are 4 different ratings ages available for the contents\n",
    "- As per `ratings_ages` most of the content available for `Adults` & `Teens`"
   ]
  },
  {
   "cell_type": "markdown",
   "id": "92d51d7b",
   "metadata": {},
   "source": [
    "### Avg Duration of Movies and TV shows"
   ]
  },
  {
   "cell_type": "code",
   "execution_count": 206,
   "id": "ca6f947b",
   "metadata": {},
   "outputs": [
    {
     "data": {
      "text/plain": [
       "0"
      ]
     },
     "execution_count": 206,
     "metadata": {},
     "output_type": "execute_result"
    }
   ],
   "source": [
    "netflix[\"duration\"].isnull().sum()"
   ]
  },
  {
   "cell_type": "code",
   "execution_count": 207,
   "id": "faa990ba",
   "metadata": {},
   "outputs": [
    {
     "data": {
      "text/plain": [
       "dtype('O')"
      ]
     },
     "execution_count": 207,
     "metadata": {},
     "output_type": "execute_result"
    }
   ],
   "source": [
    "netflix[\"duration\"].dtype"
   ]
  },
  {
   "cell_type": "code",
   "execution_count": 208,
   "id": "2a313f7e",
   "metadata": {},
   "outputs": [
    {
     "data": {
      "text/plain": [
       "dtype('int32')"
      ]
     },
     "execution_count": 208,
     "metadata": {},
     "output_type": "execute_result"
    }
   ],
   "source": [
    "netflix[\"duration\"] = netflix[\"duration\"].apply(lambda x: str(x).split(\" \")[0])\n",
    "netflix[\"duration\"] = netflix[\"duration\"].astype(\"int\")\n",
    "\n",
    "netflix[\"duration\"].dtype"
   ]
  },
  {
   "cell_type": "code",
   "execution_count": 209,
   "id": "474d3865",
   "metadata": {},
   "outputs": [
    {
     "data": {
      "text/plain": [
       "type\n",
       "Movie      99.564998\n",
       "TV Show     1.764948\n",
       "Name: duration, dtype: float64"
      ]
     },
     "execution_count": 209,
     "metadata": {},
     "output_type": "execute_result"
    }
   ],
   "source": [
    "netflix.groupby([\"type\"])[\"duration\"].mean()"
   ]
  },
  {
   "cell_type": "markdown",
   "id": "15e7cc18",
   "metadata": {},
   "source": [
    "#### `Insights`\n",
    "- Avg runtime of `movie` is `99.56` minutes\n",
    "- Avg seasons of `TV Show` is `>1.5` season"
   ]
  },
  {
   "cell_type": "markdown",
   "id": "ecab87b8",
   "metadata": {},
   "source": [
    "### Unnesting Condensed Data (Actors, Directors, Listed_in, Country)"
   ]
  },
  {
   "cell_type": "markdown",
   "id": "d263da97",
   "metadata": {},
   "source": [
    "### Unnesting Actors"
   ]
  },
  {
   "cell_type": "markdown",
   "id": "b54c35c8",
   "metadata": {},
   "source": [
    "### Famous Actors in TV Shows & Movies"
   ]
  },
  {
   "cell_type": "code",
   "execution_count": 210,
   "id": "00e3cc13",
   "metadata": {},
   "outputs": [
    {
     "data": {
      "text/html": [
       "<div>\n",
       "<style scoped>\n",
       "    .dataframe tbody tr th:only-of-type {\n",
       "        vertical-align: middle;\n",
       "    }\n",
       "\n",
       "    .dataframe tbody tr th {\n",
       "        vertical-align: top;\n",
       "    }\n",
       "\n",
       "    .dataframe thead th {\n",
       "        text-align: right;\n",
       "    }\n",
       "</style>\n",
       "<table border=\"1\" class=\"dataframe\">\n",
       "  <thead>\n",
       "    <tr style=\"text-align: right;\">\n",
       "      <th></th>\n",
       "      <th>type</th>\n",
       "      <th>cast</th>\n",
       "      <th>count</th>\n",
       "    </tr>\n",
       "  </thead>\n",
       "  <tbody>\n",
       "    <tr>\n",
       "      <th>0</th>\n",
       "      <td>Movie</td>\n",
       "      <td>Anupam Kher</td>\n",
       "      <td>38</td>\n",
       "    </tr>\n",
       "    <tr>\n",
       "      <th>1</th>\n",
       "      <td>Movie</td>\n",
       "      <td>Rupa Bhimani</td>\n",
       "      <td>27</td>\n",
       "    </tr>\n",
       "    <tr>\n",
       "      <th>2</th>\n",
       "      <td>Movie</td>\n",
       "      <td>Om Puri</td>\n",
       "      <td>27</td>\n",
       "    </tr>\n",
       "    <tr>\n",
       "      <th>3</th>\n",
       "      <td>Movie</td>\n",
       "      <td>Shah Rukh Khan</td>\n",
       "      <td>26</td>\n",
       "    </tr>\n",
       "    <tr>\n",
       "      <th>4</th>\n",
       "      <td>Movie</td>\n",
       "      <td>Paresh Rawal</td>\n",
       "      <td>25</td>\n",
       "    </tr>\n",
       "    <tr>\n",
       "      <th>...</th>\n",
       "      <td>...</td>\n",
       "      <td>...</td>\n",
       "      <td>...</td>\n",
       "    </tr>\n",
       "    <tr>\n",
       "      <th>43375</th>\n",
       "      <td>Movie</td>\n",
       "      <td>Olaf Lubaszenko</td>\n",
       "      <td>1</td>\n",
       "    </tr>\n",
       "    <tr>\n",
       "      <th>43376</th>\n",
       "      <td>Movie</td>\n",
       "      <td>Oladele Ogunlana</td>\n",
       "      <td>1</td>\n",
       "    </tr>\n",
       "    <tr>\n",
       "      <th>43377</th>\n",
       "      <td>Movie</td>\n",
       "      <td>Ola Ghanem</td>\n",
       "      <td>1</td>\n",
       "    </tr>\n",
       "    <tr>\n",
       "      <th>43378</th>\n",
       "      <td>Movie</td>\n",
       "      <td>OkÅŸan BÃ¼yÃ¼k</td>\n",
       "      <td>1</td>\n",
       "    </tr>\n",
       "    <tr>\n",
       "      <th>43379</th>\n",
       "      <td>TV Show</td>\n",
       "      <td>ÅžÃ¼krÃ¼ Ã–zyÄ±ldÄ±z</td>\n",
       "      <td>1</td>\n",
       "    </tr>\n",
       "  </tbody>\n",
       "</table>\n",
       "<p>43380 rows × 3 columns</p>\n",
       "</div>"
      ],
      "text/plain": [
       "          type                  cast  count\n",
       "0        Movie           Anupam Kher     38\n",
       "1        Movie          Rupa Bhimani     27\n",
       "2        Movie               Om Puri     27\n",
       "3        Movie        Shah Rukh Khan     26\n",
       "4        Movie          Paresh Rawal     25\n",
       "...        ...                   ...    ...\n",
       "43375    Movie       Olaf Lubaszenko      1\n",
       "43376    Movie      Oladele Ogunlana      1\n",
       "43377    Movie            Ola Ghanem      1\n",
       "43378    Movie        OkÅŸan BÃ¼yÃ¼k      1\n",
       "43379  TV Show  ÅžÃ¼krÃ¼ Ã–zyÄ±ldÄ±z      1\n",
       "\n",
       "[43380 rows x 3 columns]"
      ]
     },
     "execution_count": 210,
     "metadata": {},
     "output_type": "execute_result"
    }
   ],
   "source": [
    "temp = list()\n",
    "clean_data = netflix.loc[netflix[\"cast\"] != \"NoDataAvailable\"]\n",
    "# clean_data.reset_index(inplace=True)\n",
    "for ind, element in clean_data.iterrows():\n",
    "    type_show = element['type']\n",
    "    for _cast in str(element['cast']).split(','):\n",
    "        temp.append([type_show, _cast])\n",
    "cast_data = pd.DataFrame(temp, columns= ['type', 'cast'])\n",
    "\n",
    "\n",
    "cast = cast_data.value_counts().to_frame()\n",
    "cast.reset_index(level=[0,1], inplace=True)\n",
    "cast = cast.rename(columns = {0:'count'})\n",
    "cast"
   ]
  },
  {
   "cell_type": "markdown",
   "id": "a1504949",
   "metadata": {},
   "source": [
    "### Famous cast in TV Show"
   ]
  },
  {
   "cell_type": "code",
   "execution_count": 211,
   "id": "2254113a",
   "metadata": {},
   "outputs": [
    {
     "data": {
      "text/html": [
       "<div>\n",
       "<style scoped>\n",
       "    .dataframe tbody tr th:only-of-type {\n",
       "        vertical-align: middle;\n",
       "    }\n",
       "\n",
       "    .dataframe tbody tr th {\n",
       "        vertical-align: top;\n",
       "    }\n",
       "\n",
       "    .dataframe thead th {\n",
       "        text-align: right;\n",
       "    }\n",
       "</style>\n",
       "<table border=\"1\" class=\"dataframe\">\n",
       "  <thead>\n",
       "    <tr style=\"text-align: right;\">\n",
       "      <th></th>\n",
       "      <th>type</th>\n",
       "      <th>cast</th>\n",
       "      <th>count</th>\n",
       "    </tr>\n",
       "  </thead>\n",
       "  <tbody>\n",
       "    <tr>\n",
       "      <th>0</th>\n",
       "      <td>TV Show</td>\n",
       "      <td>Takahiro Sakurai</td>\n",
       "      <td>24</td>\n",
       "    </tr>\n",
       "    <tr>\n",
       "      <th>1</th>\n",
       "      <td>TV Show</td>\n",
       "      <td>Ai Kayano</td>\n",
       "      <td>17</td>\n",
       "    </tr>\n",
       "    <tr>\n",
       "      <th>2</th>\n",
       "      <td>TV Show</td>\n",
       "      <td>Yuki Kaji</td>\n",
       "      <td>17</td>\n",
       "    </tr>\n",
       "    <tr>\n",
       "      <th>3</th>\n",
       "      <td>TV Show</td>\n",
       "      <td>Junichi Suwabe</td>\n",
       "      <td>17</td>\n",
       "    </tr>\n",
       "    <tr>\n",
       "      <th>4</th>\n",
       "      <td>TV Show</td>\n",
       "      <td>David Attenborough</td>\n",
       "      <td>14</td>\n",
       "    </tr>\n",
       "    <tr>\n",
       "      <th>...</th>\n",
       "      <td>...</td>\n",
       "      <td>...</td>\n",
       "      <td>...</td>\n",
       "    </tr>\n",
       "    <tr>\n",
       "      <th>15496</th>\n",
       "      <td>TV Show</td>\n",
       "      <td>Vera Spinetta</td>\n",
       "      <td>1</td>\n",
       "    </tr>\n",
       "    <tr>\n",
       "      <th>15497</th>\n",
       "      <td>TV Show</td>\n",
       "      <td>Verdi Solaiman</td>\n",
       "      <td>1</td>\n",
       "    </tr>\n",
       "    <tr>\n",
       "      <th>15498</th>\n",
       "      <td>TV Show</td>\n",
       "      <td>VerÃ³nica Bravo</td>\n",
       "      <td>1</td>\n",
       "    </tr>\n",
       "    <tr>\n",
       "      <th>15499</th>\n",
       "      <td>TV Show</td>\n",
       "      <td>Vered Feldman</td>\n",
       "      <td>1</td>\n",
       "    </tr>\n",
       "    <tr>\n",
       "      <th>15500</th>\n",
       "      <td>TV Show</td>\n",
       "      <td>ÅžÃ¼krÃ¼ Ã–zyÄ±ldÄ±z</td>\n",
       "      <td>1</td>\n",
       "    </tr>\n",
       "  </tbody>\n",
       "</table>\n",
       "<p>15501 rows × 3 columns</p>\n",
       "</div>"
      ],
      "text/plain": [
       "          type                  cast  count\n",
       "0      TV Show      Takahiro Sakurai     24\n",
       "1      TV Show             Ai Kayano     17\n",
       "2      TV Show             Yuki Kaji     17\n",
       "3      TV Show        Junichi Suwabe     17\n",
       "4      TV Show    David Attenborough     14\n",
       "...        ...                   ...    ...\n",
       "15496  TV Show         Vera Spinetta      1\n",
       "15497  TV Show        Verdi Solaiman      1\n",
       "15498  TV Show       VerÃ³nica Bravo      1\n",
       "15499  TV Show         Vered Feldman      1\n",
       "15500  TV Show  ÅžÃ¼krÃ¼ Ã–zyÄ±ldÄ±z      1\n",
       "\n",
       "[15501 rows x 3 columns]"
      ]
     },
     "execution_count": 211,
     "metadata": {},
     "output_type": "execute_result"
    }
   ],
   "source": [
    "cast.loc[cast[\"type\"] == \"TV Show\"].sort_values([\"count\"], ascending = False).reset_index(drop = True)"
   ]
  },
  {
   "cell_type": "markdown",
   "id": "5d9ab6bf",
   "metadata": {},
   "source": [
    "### `Insights`\n",
    "- `Takahiro Sakurai` is the top cast in TV Show Category"
   ]
  },
  {
   "cell_type": "markdown",
   "id": "3d2c8b91",
   "metadata": {},
   "source": [
    "### Famous cast in Movies"
   ]
  },
  {
   "cell_type": "code",
   "execution_count": 212,
   "id": "36b154c8",
   "metadata": {},
   "outputs": [
    {
     "data": {
      "text/html": [
       "<div>\n",
       "<style scoped>\n",
       "    .dataframe tbody tr th:only-of-type {\n",
       "        vertical-align: middle;\n",
       "    }\n",
       "\n",
       "    .dataframe tbody tr th {\n",
       "        vertical-align: top;\n",
       "    }\n",
       "\n",
       "    .dataframe thead th {\n",
       "        text-align: right;\n",
       "    }\n",
       "</style>\n",
       "<table border=\"1\" class=\"dataframe\">\n",
       "  <thead>\n",
       "    <tr style=\"text-align: right;\">\n",
       "      <th></th>\n",
       "      <th>type</th>\n",
       "      <th>cast</th>\n",
       "      <th>count</th>\n",
       "    </tr>\n",
       "  </thead>\n",
       "  <tbody>\n",
       "    <tr>\n",
       "      <th>0</th>\n",
       "      <td>Movie</td>\n",
       "      <td>Anupam Kher</td>\n",
       "      <td>38</td>\n",
       "    </tr>\n",
       "    <tr>\n",
       "      <th>1</th>\n",
       "      <td>Movie</td>\n",
       "      <td>Om Puri</td>\n",
       "      <td>27</td>\n",
       "    </tr>\n",
       "    <tr>\n",
       "      <th>2</th>\n",
       "      <td>Movie</td>\n",
       "      <td>Rupa Bhimani</td>\n",
       "      <td>27</td>\n",
       "    </tr>\n",
       "    <tr>\n",
       "      <th>3</th>\n",
       "      <td>Movie</td>\n",
       "      <td>Shah Rukh Khan</td>\n",
       "      <td>26</td>\n",
       "    </tr>\n",
       "    <tr>\n",
       "      <th>4</th>\n",
       "      <td>Movie</td>\n",
       "      <td>Paresh Rawal</td>\n",
       "      <td>25</td>\n",
       "    </tr>\n",
       "    <tr>\n",
       "      <th>...</th>\n",
       "      <td>...</td>\n",
       "      <td>...</td>\n",
       "      <td>...</td>\n",
       "    </tr>\n",
       "    <tr>\n",
       "      <th>27874</th>\n",
       "      <td>Movie</td>\n",
       "      <td>Arlene Muchlach</td>\n",
       "      <td>1</td>\n",
       "    </tr>\n",
       "    <tr>\n",
       "      <th>27875</th>\n",
       "      <td>Movie</td>\n",
       "      <td>Arkie Kandola</td>\n",
       "      <td>1</td>\n",
       "    </tr>\n",
       "    <tr>\n",
       "      <th>27876</th>\n",
       "      <td>Movie</td>\n",
       "      <td>Arkanda Saezario Wicaksono</td>\n",
       "      <td>1</td>\n",
       "    </tr>\n",
       "    <tr>\n",
       "      <th>27877</th>\n",
       "      <td>Movie</td>\n",
       "      <td>Arkady Sharogradsky</td>\n",
       "      <td>1</td>\n",
       "    </tr>\n",
       "    <tr>\n",
       "      <th>27878</th>\n",
       "      <td>Movie</td>\n",
       "      <td>OkÅŸan BÃ¼yÃ¼k</td>\n",
       "      <td>1</td>\n",
       "    </tr>\n",
       "  </tbody>\n",
       "</table>\n",
       "<p>27879 rows × 3 columns</p>\n",
       "</div>"
      ],
      "text/plain": [
       "        type                         cast  count\n",
       "0      Movie                  Anupam Kher     38\n",
       "1      Movie                      Om Puri     27\n",
       "2      Movie                 Rupa Bhimani     27\n",
       "3      Movie               Shah Rukh Khan     26\n",
       "4      Movie                 Paresh Rawal     25\n",
       "...      ...                          ...    ...\n",
       "27874  Movie              Arlene Muchlach      1\n",
       "27875  Movie                Arkie Kandola      1\n",
       "27876  Movie   Arkanda Saezario Wicaksono      1\n",
       "27877  Movie          Arkady Sharogradsky      1\n",
       "27878  Movie               OkÅŸan BÃ¼yÃ¼k      1\n",
       "\n",
       "[27879 rows x 3 columns]"
      ]
     },
     "execution_count": 212,
     "metadata": {},
     "output_type": "execute_result"
    }
   ],
   "source": [
    "cast.loc[cast[\"type\"] == \"Movie\"].sort_values([\"count\"], ascending = False).reset_index(drop = True)"
   ]
  },
  {
   "cell_type": "markdown",
   "id": "c0b3b229",
   "metadata": {},
   "source": [
    "### `Insights`\n",
    "- `Anupam Kher` is the top cast in Movies Category"
   ]
  },
  {
   "cell_type": "markdown",
   "id": "173aab71",
   "metadata": {},
   "source": [
    "### Unnesting Directors"
   ]
  },
  {
   "cell_type": "markdown",
   "id": "a9066cde",
   "metadata": {},
   "source": [
    "### Famous Director in Movie/TV Show"
   ]
  },
  {
   "cell_type": "code",
   "execution_count": 213,
   "id": "f786d8ae",
   "metadata": {},
   "outputs": [
    {
     "data": {
      "text/html": [
       "<div>\n",
       "<style scoped>\n",
       "    .dataframe tbody tr th:only-of-type {\n",
       "        vertical-align: middle;\n",
       "    }\n",
       "\n",
       "    .dataframe tbody tr th {\n",
       "        vertical-align: top;\n",
       "    }\n",
       "\n",
       "    .dataframe thead th {\n",
       "        text-align: right;\n",
       "    }\n",
       "</style>\n",
       "<table border=\"1\" class=\"dataframe\">\n",
       "  <thead>\n",
       "    <tr style=\"text-align: right;\">\n",
       "      <th></th>\n",
       "      <th>type</th>\n",
       "      <th>director</th>\n",
       "      <th>count</th>\n",
       "    </tr>\n",
       "  </thead>\n",
       "  <tbody>\n",
       "    <tr>\n",
       "      <th>0</th>\n",
       "      <td>Movie</td>\n",
       "      <td>Rajiv Chilaka</td>\n",
       "      <td>22</td>\n",
       "    </tr>\n",
       "    <tr>\n",
       "      <th>1</th>\n",
       "      <td>Movie</td>\n",
       "      <td>RaÃºl Campos</td>\n",
       "      <td>18</td>\n",
       "    </tr>\n",
       "    <tr>\n",
       "      <th>2</th>\n",
       "      <td>Movie</td>\n",
       "      <td>Jan Suter</td>\n",
       "      <td>18</td>\n",
       "    </tr>\n",
       "    <tr>\n",
       "      <th>3</th>\n",
       "      <td>Movie</td>\n",
       "      <td>Suhas Kadav</td>\n",
       "      <td>16</td>\n",
       "    </tr>\n",
       "    <tr>\n",
       "      <th>4</th>\n",
       "      <td>Movie</td>\n",
       "      <td>Jay Karas</td>\n",
       "      <td>15</td>\n",
       "    </tr>\n",
       "    <tr>\n",
       "      <th>...</th>\n",
       "      <td>...</td>\n",
       "      <td>...</td>\n",
       "      <td>...</td>\n",
       "    </tr>\n",
       "    <tr>\n",
       "      <th>5181</th>\n",
       "      <td>Movie</td>\n",
       "      <td>Floria Sigismondi</td>\n",
       "      <td>1</td>\n",
       "    </tr>\n",
       "    <tr>\n",
       "      <th>5182</th>\n",
       "      <td>Movie</td>\n",
       "      <td>Fisher Stevens</td>\n",
       "      <td>1</td>\n",
       "    </tr>\n",
       "    <tr>\n",
       "      <th>5183</th>\n",
       "      <td>Movie</td>\n",
       "      <td>Filip Zylber</td>\n",
       "      <td>1</td>\n",
       "    </tr>\n",
       "    <tr>\n",
       "      <th>5184</th>\n",
       "      <td>Movie</td>\n",
       "      <td>Filip Renc</td>\n",
       "      <td>1</td>\n",
       "    </tr>\n",
       "    <tr>\n",
       "      <th>5185</th>\n",
       "      <td>TV Show</td>\n",
       "      <td>Ziad Doueiri</td>\n",
       "      <td>1</td>\n",
       "    </tr>\n",
       "  </tbody>\n",
       "</table>\n",
       "<p>5186 rows × 3 columns</p>\n",
       "</div>"
      ],
      "text/plain": [
       "         type           director  count\n",
       "0       Movie      Rajiv Chilaka     22\n",
       "1       Movie       RaÃºl Campos     18\n",
       "2       Movie          Jan Suter     18\n",
       "3       Movie        Suhas Kadav     16\n",
       "4       Movie          Jay Karas     15\n",
       "...       ...                ...    ...\n",
       "5181    Movie  Floria Sigismondi      1\n",
       "5182    Movie     Fisher Stevens      1\n",
       "5183    Movie       Filip Zylber      1\n",
       "5184    Movie         Filip Renc      1\n",
       "5185  TV Show       Ziad Doueiri      1\n",
       "\n",
       "[5186 rows x 3 columns]"
      ]
     },
     "execution_count": 213,
     "metadata": {},
     "output_type": "execute_result"
    }
   ],
   "source": [
    "temp = list()\n",
    "clean_data = netflix.loc[netflix[\"director\"] != \"NoDataAvailable\"]\n",
    "# clean_data.reset_index(inplace=True)\n",
    "for ind, element in clean_data.iterrows():\n",
    "    type_show = element['type']\n",
    "    for _cast in str(element['director']).split(','):\n",
    "        temp.append([type_show, _cast])\n",
    "director_data = pd.DataFrame(temp, columns= ['type', 'director'])\n",
    "\n",
    "\n",
    "director = director_data.value_counts().to_frame()\n",
    "director.reset_index(level=[0,1], inplace=True)\n",
    "director = director.rename(columns = {0:'count'})\n",
    "director"
   ]
  },
  {
   "cell_type": "markdown",
   "id": "dccf1fd9",
   "metadata": {},
   "source": [
    "### Famous director in movies category"
   ]
  },
  {
   "cell_type": "code",
   "execution_count": 214,
   "id": "ea6c48c0",
   "metadata": {},
   "outputs": [
    {
     "data": {
      "text/html": [
       "<div>\n",
       "<style scoped>\n",
       "    .dataframe tbody tr th:only-of-type {\n",
       "        vertical-align: middle;\n",
       "    }\n",
       "\n",
       "    .dataframe tbody tr th {\n",
       "        vertical-align: top;\n",
       "    }\n",
       "\n",
       "    .dataframe thead th {\n",
       "        text-align: right;\n",
       "    }\n",
       "</style>\n",
       "<table border=\"1\" class=\"dataframe\">\n",
       "  <thead>\n",
       "    <tr style=\"text-align: right;\">\n",
       "      <th></th>\n",
       "      <th>type</th>\n",
       "      <th>director</th>\n",
       "      <th>count</th>\n",
       "    </tr>\n",
       "  </thead>\n",
       "  <tbody>\n",
       "    <tr>\n",
       "      <th>0</th>\n",
       "      <td>Movie</td>\n",
       "      <td>Rajiv Chilaka</td>\n",
       "      <td>22</td>\n",
       "    </tr>\n",
       "    <tr>\n",
       "      <th>1</th>\n",
       "      <td>Movie</td>\n",
       "      <td>Jan Suter</td>\n",
       "      <td>18</td>\n",
       "    </tr>\n",
       "    <tr>\n",
       "      <th>2</th>\n",
       "      <td>Movie</td>\n",
       "      <td>RaÃºl Campos</td>\n",
       "      <td>18</td>\n",
       "    </tr>\n",
       "    <tr>\n",
       "      <th>3</th>\n",
       "      <td>Movie</td>\n",
       "      <td>Suhas Kadav</td>\n",
       "      <td>16</td>\n",
       "    </tr>\n",
       "    <tr>\n",
       "      <th>4</th>\n",
       "      <td>Movie</td>\n",
       "      <td>Jay Karas</td>\n",
       "      <td>15</td>\n",
       "    </tr>\n",
       "    <tr>\n",
       "      <th>...</th>\n",
       "      <td>...</td>\n",
       "      <td>...</td>\n",
       "      <td>...</td>\n",
       "    </tr>\n",
       "    <tr>\n",
       "      <th>4881</th>\n",
       "      <td>Movie</td>\n",
       "      <td>Phil Johnston</td>\n",
       "      <td>1</td>\n",
       "    </tr>\n",
       "    <tr>\n",
       "      <th>4882</th>\n",
       "      <td>Movie</td>\n",
       "      <td>Phil Lord</td>\n",
       "      <td>1</td>\n",
       "    </tr>\n",
       "    <tr>\n",
       "      <th>4883</th>\n",
       "      <td>Movie</td>\n",
       "      <td>Phil Morrison</td>\n",
       "      <td>1</td>\n",
       "    </tr>\n",
       "    <tr>\n",
       "      <th>4884</th>\n",
       "      <td>Movie</td>\n",
       "      <td>Phil Nibbelink</td>\n",
       "      <td>1</td>\n",
       "    </tr>\n",
       "    <tr>\n",
       "      <th>4885</th>\n",
       "      <td>Movie</td>\n",
       "      <td>Filip Renc</td>\n",
       "      <td>1</td>\n",
       "    </tr>\n",
       "  </tbody>\n",
       "</table>\n",
       "<p>4886 rows × 3 columns</p>\n",
       "</div>"
      ],
      "text/plain": [
       "       type        director  count\n",
       "0     Movie   Rajiv Chilaka     22\n",
       "1     Movie       Jan Suter     18\n",
       "2     Movie    RaÃºl Campos     18\n",
       "3     Movie     Suhas Kadav     16\n",
       "4     Movie       Jay Karas     15\n",
       "...     ...             ...    ...\n",
       "4881  Movie   Phil Johnston      1\n",
       "4882  Movie       Phil Lord      1\n",
       "4883  Movie   Phil Morrison      1\n",
       "4884  Movie  Phil Nibbelink      1\n",
       "4885  Movie      Filip Renc      1\n",
       "\n",
       "[4886 rows x 3 columns]"
      ]
     },
     "execution_count": 214,
     "metadata": {},
     "output_type": "execute_result"
    }
   ],
   "source": [
    "director.loc[director[\"type\"] == \"Movie\"].sort_values([\"count\"], ascending = False).reset_index(drop = True)"
   ]
  },
  {
   "cell_type": "markdown",
   "id": "20828ba7",
   "metadata": {},
   "source": [
    "### `Insights`\n",
    "- `Rajiv Chilaka` is the top cast in Movie Category"
   ]
  },
  {
   "cell_type": "markdown",
   "id": "27c532fd",
   "metadata": {},
   "source": [
    "### Famous director in TV Shows category"
   ]
  },
  {
   "cell_type": "code",
   "execution_count": 215,
   "id": "dc228351",
   "metadata": {},
   "outputs": [
    {
     "data": {
      "text/html": [
       "<div>\n",
       "<style scoped>\n",
       "    .dataframe tbody tr th:only-of-type {\n",
       "        vertical-align: middle;\n",
       "    }\n",
       "\n",
       "    .dataframe tbody tr th {\n",
       "        vertical-align: top;\n",
       "    }\n",
       "\n",
       "    .dataframe thead th {\n",
       "        text-align: right;\n",
       "    }\n",
       "</style>\n",
       "<table border=\"1\" class=\"dataframe\">\n",
       "  <thead>\n",
       "    <tr style=\"text-align: right;\">\n",
       "      <th></th>\n",
       "      <th>type</th>\n",
       "      <th>director</th>\n",
       "      <th>count</th>\n",
       "    </tr>\n",
       "  </thead>\n",
       "  <tbody>\n",
       "    <tr>\n",
       "      <th>0</th>\n",
       "      <td>TV Show</td>\n",
       "      <td>Alastair Fothergill</td>\n",
       "      <td>3</td>\n",
       "    </tr>\n",
       "    <tr>\n",
       "      <th>1</th>\n",
       "      <td>TV Show</td>\n",
       "      <td>Ken Burns</td>\n",
       "      <td>3</td>\n",
       "    </tr>\n",
       "    <tr>\n",
       "      <th>2</th>\n",
       "      <td>TV Show</td>\n",
       "      <td>Shin Won-ho</td>\n",
       "      <td>2</td>\n",
       "    </tr>\n",
       "    <tr>\n",
       "      <th>3</th>\n",
       "      <td>TV Show</td>\n",
       "      <td>Iginio Straffi</td>\n",
       "      <td>2</td>\n",
       "    </tr>\n",
       "    <tr>\n",
       "      <th>4</th>\n",
       "      <td>TV Show</td>\n",
       "      <td>Hsu Fu-chun</td>\n",
       "      <td>2</td>\n",
       "    </tr>\n",
       "    <tr>\n",
       "      <th>...</th>\n",
       "      <td>...</td>\n",
       "      <td>...</td>\n",
       "      <td>...</td>\n",
       "    </tr>\n",
       "    <tr>\n",
       "      <th>295</th>\n",
       "      <td>TV Show</td>\n",
       "      <td>Onur ÃœnlÃ¼</td>\n",
       "      <td>1</td>\n",
       "    </tr>\n",
       "    <tr>\n",
       "      <th>296</th>\n",
       "      <td>TV Show</td>\n",
       "      <td>Obi Emelonye</td>\n",
       "      <td>1</td>\n",
       "    </tr>\n",
       "    <tr>\n",
       "      <th>297</th>\n",
       "      <td>TV Show</td>\n",
       "      <td>Neslihan Yesilyurt</td>\n",
       "      <td>1</td>\n",
       "    </tr>\n",
       "    <tr>\n",
       "      <th>298</th>\n",
       "      <td>TV Show</td>\n",
       "      <td>Nizar Shafi</td>\n",
       "      <td>1</td>\n",
       "    </tr>\n",
       "    <tr>\n",
       "      <th>299</th>\n",
       "      <td>TV Show</td>\n",
       "      <td>Ziad Doueiri</td>\n",
       "      <td>1</td>\n",
       "    </tr>\n",
       "  </tbody>\n",
       "</table>\n",
       "<p>300 rows × 3 columns</p>\n",
       "</div>"
      ],
      "text/plain": [
       "        type             director  count\n",
       "0    TV Show  Alastair Fothergill      3\n",
       "1    TV Show            Ken Burns      3\n",
       "2    TV Show          Shin Won-ho      2\n",
       "3    TV Show       Iginio Straffi      2\n",
       "4    TV Show          Hsu Fu-chun      2\n",
       "..       ...                  ...    ...\n",
       "295  TV Show          Onur ÃœnlÃ¼      1\n",
       "296  TV Show         Obi Emelonye      1\n",
       "297  TV Show   Neslihan Yesilyurt      1\n",
       "298  TV Show          Nizar Shafi      1\n",
       "299  TV Show         Ziad Doueiri      1\n",
       "\n",
       "[300 rows x 3 columns]"
      ]
     },
     "execution_count": 215,
     "metadata": {},
     "output_type": "execute_result"
    }
   ],
   "source": [
    "director.loc[director[\"type\"] == \"TV Show\"].sort_values([\"count\"], ascending = False).reset_index(drop = True)"
   ]
  },
  {
   "cell_type": "markdown",
   "id": "12ddbab1",
   "metadata": {},
   "source": [
    "### `Insights`\n",
    "- `Alastair Fothergill` is the top cast in TV Show Category"
   ]
  },
  {
   "cell_type": "markdown",
   "id": "746c725a",
   "metadata": {},
   "source": [
    "### Unnesting countries"
   ]
  },
  {
   "cell_type": "markdown",
   "id": "644893b7",
   "metadata": {},
   "source": [
    "### Countries with most number of contents"
   ]
  },
  {
   "cell_type": "code",
   "execution_count": 216,
   "id": "1fcd7748",
   "metadata": {},
   "outputs": [
    {
     "data": {
      "text/html": [
       "<div>\n",
       "<style scoped>\n",
       "    .dataframe tbody tr th:only-of-type {\n",
       "        vertical-align: middle;\n",
       "    }\n",
       "\n",
       "    .dataframe tbody tr th {\n",
       "        vertical-align: top;\n",
       "    }\n",
       "\n",
       "    .dataframe thead th {\n",
       "        text-align: right;\n",
       "    }\n",
       "</style>\n",
       "<table border=\"1\" class=\"dataframe\">\n",
       "  <thead>\n",
       "    <tr style=\"text-align: right;\">\n",
       "      <th></th>\n",
       "      <th>type</th>\n",
       "      <th>country</th>\n",
       "      <th>count</th>\n",
       "    </tr>\n",
       "  </thead>\n",
       "  <tbody>\n",
       "    <tr>\n",
       "      <th>0</th>\n",
       "      <td>Movie</td>\n",
       "      <td>United States</td>\n",
       "      <td>2804</td>\n",
       "    </tr>\n",
       "    <tr>\n",
       "      <th>1</th>\n",
       "      <td>TV Show</td>\n",
       "      <td>United States</td>\n",
       "      <td>1238</td>\n",
       "    </tr>\n",
       "    <tr>\n",
       "      <th>2</th>\n",
       "      <td>Movie</td>\n",
       "      <td>India</td>\n",
       "      <td>927</td>\n",
       "    </tr>\n",
       "    <tr>\n",
       "      <th>3</th>\n",
       "      <td>Movie</td>\n",
       "      <td>United States</td>\n",
       "      <td>388</td>\n",
       "    </tr>\n",
       "    <tr>\n",
       "      <th>4</th>\n",
       "      <td>Movie</td>\n",
       "      <td>United Kingdom</td>\n",
       "      <td>382</td>\n",
       "    </tr>\n",
       "    <tr>\n",
       "      <th>...</th>\n",
       "      <td>...</td>\n",
       "      <td>...</td>\n",
       "      <td>...</td>\n",
       "    </tr>\n",
       "    <tr>\n",
       "      <th>284</th>\n",
       "      <td>TV Show</td>\n",
       "      <td>Hungary</td>\n",
       "      <td>1</td>\n",
       "    </tr>\n",
       "    <tr>\n",
       "      <th>285</th>\n",
       "      <td>Movie</td>\n",
       "      <td>Slovakia</td>\n",
       "      <td>1</td>\n",
       "    </tr>\n",
       "    <tr>\n",
       "      <th>286</th>\n",
       "      <td>TV Show</td>\n",
       "      <td>Finland</td>\n",
       "      <td>1</td>\n",
       "    </tr>\n",
       "    <tr>\n",
       "      <th>287</th>\n",
       "      <td>TV Show</td>\n",
       "      <td>Egypt</td>\n",
       "      <td>1</td>\n",
       "    </tr>\n",
       "    <tr>\n",
       "      <th>288</th>\n",
       "      <td>TV Show</td>\n",
       "      <td>Uruguay</td>\n",
       "      <td>1</td>\n",
       "    </tr>\n",
       "  </tbody>\n",
       "</table>\n",
       "<p>289 rows × 3 columns</p>\n",
       "</div>"
      ],
      "text/plain": [
       "        type         country  count\n",
       "0      Movie   United States   2804\n",
       "1    TV Show   United States   1238\n",
       "2      Movie           India    927\n",
       "3      Movie   United States    388\n",
       "4      Movie  United Kingdom    382\n",
       "..       ...             ...    ...\n",
       "284  TV Show         Hungary      1\n",
       "285    Movie        Slovakia      1\n",
       "286  TV Show         Finland      1\n",
       "287  TV Show           Egypt      1\n",
       "288  TV Show         Uruguay      1\n",
       "\n",
       "[289 rows x 3 columns]"
      ]
     },
     "execution_count": 216,
     "metadata": {},
     "output_type": "execute_result"
    }
   ],
   "source": [
    "temp = list()\n",
    "clean_data = netflix.loc[netflix[\"country\"] != \"NoDataAvailable\"]\n",
    "# clean_data.reset_index(inplace=True)\n",
    "for ind, element in clean_data.iterrows():\n",
    "    type_show = element['type']\n",
    "    for _cast in str(element['country']).split(','):\n",
    "        temp.append([type_show, _cast])\n",
    "country_data = pd.DataFrame(temp, columns= ['type', 'country'])\n",
    "\n",
    "\n",
    "country = country_data.value_counts().to_frame()\n",
    "country.reset_index(level=[0,1], inplace=True)\n",
    "country = country.rename(columns = {0:'count'})\n",
    "country"
   ]
  },
  {
   "cell_type": "markdown",
   "id": "35b040de",
   "metadata": {},
   "source": [
    "### Top Countries in number of TV Shows category"
   ]
  },
  {
   "cell_type": "code",
   "execution_count": 217,
   "id": "95f1a558",
   "metadata": {},
   "outputs": [
    {
     "data": {
      "text/html": [
       "<div>\n",
       "<style scoped>\n",
       "    .dataframe tbody tr th:only-of-type {\n",
       "        vertical-align: middle;\n",
       "    }\n",
       "\n",
       "    .dataframe tbody tr th {\n",
       "        vertical-align: top;\n",
       "    }\n",
       "\n",
       "    .dataframe thead th {\n",
       "        text-align: right;\n",
       "    }\n",
       "</style>\n",
       "<table border=\"1\" class=\"dataframe\">\n",
       "  <thead>\n",
       "    <tr style=\"text-align: right;\">\n",
       "      <th></th>\n",
       "      <th>type</th>\n",
       "      <th>country</th>\n",
       "      <th>count</th>\n",
       "    </tr>\n",
       "  </thead>\n",
       "  <tbody>\n",
       "    <tr>\n",
       "      <th>0</th>\n",
       "      <td>TV Show</td>\n",
       "      <td>United States</td>\n",
       "      <td>1238</td>\n",
       "    </tr>\n",
       "    <tr>\n",
       "      <th>1</th>\n",
       "      <td>TV Show</td>\n",
       "      <td>United Kingdom</td>\n",
       "      <td>246</td>\n",
       "    </tr>\n",
       "    <tr>\n",
       "      <th>2</th>\n",
       "      <td>TV Show</td>\n",
       "      <td>Japan</td>\n",
       "      <td>174</td>\n",
       "    </tr>\n",
       "    <tr>\n",
       "      <th>3</th>\n",
       "      <td>TV Show</td>\n",
       "      <td>South Korea</td>\n",
       "      <td>164</td>\n",
       "    </tr>\n",
       "    <tr>\n",
       "      <th>4</th>\n",
       "      <td>TV Show</td>\n",
       "      <td>United States</td>\n",
       "      <td>91</td>\n",
       "    </tr>\n",
       "    <tr>\n",
       "      <th>...</th>\n",
       "      <td>...</td>\n",
       "      <td>...</td>\n",
       "      <td>...</td>\n",
       "    </tr>\n",
       "    <tr>\n",
       "      <th>97</th>\n",
       "      <td>TV Show</td>\n",
       "      <td>Switzerland</td>\n",
       "      <td>1</td>\n",
       "    </tr>\n",
       "    <tr>\n",
       "      <th>98</th>\n",
       "      <td>TV Show</td>\n",
       "      <td>Croatia</td>\n",
       "      <td>1</td>\n",
       "    </tr>\n",
       "    <tr>\n",
       "      <th>99</th>\n",
       "      <td>TV Show</td>\n",
       "      <td>Cyprus</td>\n",
       "      <td>1</td>\n",
       "    </tr>\n",
       "    <tr>\n",
       "      <th>100</th>\n",
       "      <td>TV Show</td>\n",
       "      <td>United Arab Emirates</td>\n",
       "      <td>1</td>\n",
       "    </tr>\n",
       "    <tr>\n",
       "      <th>101</th>\n",
       "      <td>TV Show</td>\n",
       "      <td>Uruguay</td>\n",
       "      <td>1</td>\n",
       "    </tr>\n",
       "  </tbody>\n",
       "</table>\n",
       "<p>102 rows × 3 columns</p>\n",
       "</div>"
      ],
      "text/plain": [
       "        type               country  count\n",
       "0    TV Show         United States   1238\n",
       "1    TV Show        United Kingdom    246\n",
       "2    TV Show                 Japan    174\n",
       "3    TV Show           South Korea    164\n",
       "4    TV Show         United States     91\n",
       "..       ...                   ...    ...\n",
       "97   TV Show           Switzerland      1\n",
       "98   TV Show               Croatia      1\n",
       "99   TV Show                Cyprus      1\n",
       "100  TV Show  United Arab Emirates      1\n",
       "101  TV Show               Uruguay      1\n",
       "\n",
       "[102 rows x 3 columns]"
      ]
     },
     "execution_count": 217,
     "metadata": {},
     "output_type": "execute_result"
    }
   ],
   "source": [
    "country.loc[country[\"type\"] == \"TV Show\"].sort_values([\"count\"], ascending = False).reset_index(drop = True)"
   ]
  },
  {
   "cell_type": "markdown",
   "id": "a097835b",
   "metadata": {},
   "source": [
    "### `Insights`\n",
    "- `United States` is the top country in TV Show Category"
   ]
  },
  {
   "cell_type": "markdown",
   "id": "e6f7a13b",
   "metadata": {},
   "source": [
    "### Top Countries in number of Movie"
   ]
  },
  {
   "cell_type": "code",
   "execution_count": 218,
   "id": "638694ca",
   "metadata": {},
   "outputs": [
    {
     "data": {
      "text/html": [
       "<div>\n",
       "<style scoped>\n",
       "    .dataframe tbody tr th:only-of-type {\n",
       "        vertical-align: middle;\n",
       "    }\n",
       "\n",
       "    .dataframe tbody tr th {\n",
       "        vertical-align: top;\n",
       "    }\n",
       "\n",
       "    .dataframe thead th {\n",
       "        text-align: right;\n",
       "    }\n",
       "</style>\n",
       "<table border=\"1\" class=\"dataframe\">\n",
       "  <thead>\n",
       "    <tr style=\"text-align: right;\">\n",
       "      <th></th>\n",
       "      <th>type</th>\n",
       "      <th>country</th>\n",
       "      <th>count</th>\n",
       "    </tr>\n",
       "  </thead>\n",
       "  <tbody>\n",
       "    <tr>\n",
       "      <th>0</th>\n",
       "      <td>Movie</td>\n",
       "      <td>United States</td>\n",
       "      <td>2804</td>\n",
       "    </tr>\n",
       "    <tr>\n",
       "      <th>1</th>\n",
       "      <td>Movie</td>\n",
       "      <td>India</td>\n",
       "      <td>927</td>\n",
       "    </tr>\n",
       "    <tr>\n",
       "      <th>2</th>\n",
       "      <td>Movie</td>\n",
       "      <td>United States</td>\n",
       "      <td>388</td>\n",
       "    </tr>\n",
       "    <tr>\n",
       "      <th>3</th>\n",
       "      <td>Movie</td>\n",
       "      <td>United Kingdom</td>\n",
       "      <td>382</td>\n",
       "    </tr>\n",
       "    <tr>\n",
       "      <th>4</th>\n",
       "      <td>Movie</td>\n",
       "      <td>Canada</td>\n",
       "      <td>187</td>\n",
       "    </tr>\n",
       "    <tr>\n",
       "      <th>...</th>\n",
       "      <td>...</td>\n",
       "      <td>...</td>\n",
       "      <td>...</td>\n",
       "    </tr>\n",
       "    <tr>\n",
       "      <th>182</th>\n",
       "      <td>Movie</td>\n",
       "      <td>Namibia</td>\n",
       "      <td>1</td>\n",
       "    </tr>\n",
       "    <tr>\n",
       "      <th>183</th>\n",
       "      <td>Movie</td>\n",
       "      <td>Mongolia</td>\n",
       "      <td>1</td>\n",
       "    </tr>\n",
       "    <tr>\n",
       "      <th>184</th>\n",
       "      <td>Movie</td>\n",
       "      <td>Montenegro</td>\n",
       "      <td>1</td>\n",
       "    </tr>\n",
       "    <tr>\n",
       "      <th>185</th>\n",
       "      <td>Movie</td>\n",
       "      <td>Syria</td>\n",
       "      <td>1</td>\n",
       "    </tr>\n",
       "    <tr>\n",
       "      <th>186</th>\n",
       "      <td>Movie</td>\n",
       "      <td>Slovakia</td>\n",
       "      <td>1</td>\n",
       "    </tr>\n",
       "  </tbody>\n",
       "</table>\n",
       "<p>187 rows × 3 columns</p>\n",
       "</div>"
      ],
      "text/plain": [
       "      type         country  count\n",
       "0    Movie   United States   2804\n",
       "1    Movie           India    927\n",
       "2    Movie   United States    388\n",
       "3    Movie  United Kingdom    382\n",
       "4    Movie          Canada    187\n",
       "..     ...             ...    ...\n",
       "182  Movie         Namibia      1\n",
       "183  Movie        Mongolia      1\n",
       "184  Movie      Montenegro      1\n",
       "185  Movie           Syria      1\n",
       "186  Movie        Slovakia      1\n",
       "\n",
       "[187 rows x 3 columns]"
      ]
     },
     "execution_count": 218,
     "metadata": {},
     "output_type": "execute_result"
    }
   ],
   "source": [
    "country.loc[country[\"type\"] == \"Movie\"].sort_values([\"count\"], ascending = False).reset_index(drop = True)"
   ]
  },
  {
   "cell_type": "markdown",
   "id": "0be78f59",
   "metadata": {},
   "source": [
    "### `Insights`\n",
    "- `United States` is the top cast in Movie Category"
   ]
  },
  {
   "cell_type": "markdown",
   "id": "192033b2",
   "metadata": {},
   "source": [
    "### Unnesting Listed_in(Genre)"
   ]
  },
  {
   "cell_type": "markdown",
   "id": "8e967f33",
   "metadata": {},
   "source": [
    "### Top Genre in recent years"
   ]
  },
  {
   "cell_type": "code",
   "execution_count": 219,
   "id": "1b2f14c7",
   "metadata": {
    "scrolled": false
   },
   "outputs": [
    {
     "data": {
      "text/html": [
       "<div>\n",
       "<style scoped>\n",
       "    .dataframe tbody tr th:only-of-type {\n",
       "        vertical-align: middle;\n",
       "    }\n",
       "\n",
       "    .dataframe tbody tr th {\n",
       "        vertical-align: top;\n",
       "    }\n",
       "\n",
       "    .dataframe thead th {\n",
       "        text-align: right;\n",
       "    }\n",
       "</style>\n",
       "<table border=\"1\" class=\"dataframe\">\n",
       "  <thead>\n",
       "    <tr style=\"text-align: right;\">\n",
       "      <th></th>\n",
       "      <th>release_year</th>\n",
       "      <th>genre</th>\n",
       "      <th>count</th>\n",
       "    </tr>\n",
       "  </thead>\n",
       "  <tbody>\n",
       "    <tr>\n",
       "      <th>0</th>\n",
       "      <td>2018</td>\n",
       "      <td>International Movies</td>\n",
       "      <td>328</td>\n",
       "    </tr>\n",
       "    <tr>\n",
       "      <th>1</th>\n",
       "      <td>2017</td>\n",
       "      <td>International Movies</td>\n",
       "      <td>316</td>\n",
       "    </tr>\n",
       "    <tr>\n",
       "      <th>2</th>\n",
       "      <td>2016</td>\n",
       "      <td>International Movies</td>\n",
       "      <td>288</td>\n",
       "    </tr>\n",
       "    <tr>\n",
       "      <th>3</th>\n",
       "      <td>2019</td>\n",
       "      <td>International Movies</td>\n",
       "      <td>258</td>\n",
       "    </tr>\n",
       "    <tr>\n",
       "      <th>4</th>\n",
       "      <td>2020</td>\n",
       "      <td>International Movies</td>\n",
       "      <td>225</td>\n",
       "    </tr>\n",
       "    <tr>\n",
       "      <th>...</th>\n",
       "      <td>...</td>\n",
       "      <td>...</td>\n",
       "      <td>...</td>\n",
       "    </tr>\n",
       "    <tr>\n",
       "      <th>1564</th>\n",
       "      <td>2015</td>\n",
       "      <td>Documentaries</td>\n",
       "      <td>1</td>\n",
       "    </tr>\n",
       "    <tr>\n",
       "      <th>1565</th>\n",
       "      <td>1999</td>\n",
       "      <td>Thrillers</td>\n",
       "      <td>1</td>\n",
       "    </tr>\n",
       "    <tr>\n",
       "      <th>1566</th>\n",
       "      <td>1999</td>\n",
       "      <td>Teen TV Shows</td>\n",
       "      <td>1</td>\n",
       "    </tr>\n",
       "    <tr>\n",
       "      <th>1567</th>\n",
       "      <td>1999</td>\n",
       "      <td>TV Dramas</td>\n",
       "      <td>1</td>\n",
       "    </tr>\n",
       "    <tr>\n",
       "      <th>1568</th>\n",
       "      <td>1925</td>\n",
       "      <td>TV Shows</td>\n",
       "      <td>1</td>\n",
       "    </tr>\n",
       "  </tbody>\n",
       "</table>\n",
       "<p>1569 rows × 3 columns</p>\n",
       "</div>"
      ],
      "text/plain": [
       "      release_year                  genre  count\n",
       "0             2018   International Movies    328\n",
       "1             2017   International Movies    316\n",
       "2             2016   International Movies    288\n",
       "3             2019   International Movies    258\n",
       "4             2020   International Movies    225\n",
       "...            ...                    ...    ...\n",
       "1564          2015          Documentaries      1\n",
       "1565          1999              Thrillers      1\n",
       "1566          1999          Teen TV Shows      1\n",
       "1567          1999              TV Dramas      1\n",
       "1568          1925               TV Shows      1\n",
       "\n",
       "[1569 rows x 3 columns]"
      ]
     },
     "execution_count": 219,
     "metadata": {},
     "output_type": "execute_result"
    }
   ],
   "source": [
    "temp = list()\n",
    "clean_data = netflix.loc[netflix[\"country\"] != \"NoDataAvailable\"]\n",
    "clean_data.reset_index(inplace=True)\n",
    "for ind, element in clean_data.iterrows():\n",
    "    year = element['release_year']\n",
    "    for _cast in str(element['listed_in']).split(','):\n",
    "        temp.append([year, _cast])\n",
    "genre_data = pd.DataFrame(temp, columns= ['release_year', 'genre'])\n",
    "genre = genre_data.value_counts().to_frame()\n",
    "genre.reset_index(level=[0,1], inplace=True)\n",
    "genre = genre.rename(columns = {0:'count'})\n",
    "genre"
   ]
  },
  {
   "cell_type": "markdown",
   "id": "9be25cb9",
   "metadata": {},
   "source": [
    "### `Insights` \n",
    "- `International Movies` is top `genre` having released in year `2018` most number of times "
   ]
  },
  {
   "cell_type": "markdown",
   "id": "40ff8947",
   "metadata": {},
   "source": [
    "## Question 4.  Visual Analysis"
   ]
  },
  {
   "cell_type": "markdown",
   "id": "247a620c",
   "metadata": {},
   "source": [
    "### Distribution of content"
   ]
  },
  {
   "cell_type": "code",
   "execution_count": 220,
   "id": "75040565",
   "metadata": {},
   "outputs": [
    {
     "data": {
      "image/png": "[encoded data removed]",
      "text/plain": [
       "<Figure size 360x720 with 1 Axes>"
      ]
     },
     "metadata": {},
     "output_type": "display_data"
    }
   ],
   "source": [
    "bar, ax = plt.subplots(figsize = (5,10))\n",
    "plt.pie(netflix['type'].value_counts(), labels = netflix['type'].value_counts().index, autopct=\"%.1f%%\")\n",
    "plt.title('Distribution of Movie/TV Show', size=15)\n",
    "plt.show()"
   ]
  },
  {
   "cell_type": "markdown",
   "id": "d88f9365",
   "metadata": {},
   "source": [
    "### `Insights`\n",
    "- `Movie` is the top content available on Netflix"
   ]
  },
  {
   "cell_type": "markdown",
   "id": "387157cb",
   "metadata": {},
   "source": [
    "### Release of content over last 5 year"
   ]
  },
  {
   "cell_type": "code",
   "execution_count": 221,
   "id": "8367b27c",
   "metadata": {},
   "outputs": [
    {
     "data": {
      "image/png": "[encoded data removed]",
      "text/plain": [
       "<Figure size 360x360 with 1 Axes>"
      ]
     },
     "metadata": {
      "needs_background": "light"
     },
     "output_type": "display_data"
    }
   ],
   "source": [
    "bar, ax = plt.subplots(figsize = (5,5))\n",
    "sns.barplot(x = netflix['release_year'].value_counts().index[:5], y = netflix['release_year'].value_counts()[:5])\n",
    "plt.xlabel('Year')\n",
    "plt.ylabel('Count')\n",
    "plt.title('Release Frequency over Years')\n",
    "plt.show()"
   ]
  },
  {
   "cell_type": "markdown",
   "id": "9faffb61",
   "metadata": {},
   "source": [
    "### `Insights`\n",
    "- `2018` is most productive year showing most number of content release in that year.\n",
    "- After `2018` there is decrement in the content release observed. Most probable reason is due to covid"
   ]
  },
  {
   "cell_type": "markdown",
   "id": "fb3c8448",
   "metadata": {},
   "source": [
    "## Year on Year Content Adding on Netflix"
   ]
  },
  {
   "cell_type": "code",
   "execution_count": 222,
   "id": "f778e3b9",
   "metadata": {},
   "outputs": [
    {
     "data": {
      "image/png": "[encoded data removed]",
      "text/plain": [
       "<Figure size 1080x360 with 1 Axes>"
      ]
     },
     "metadata": {
      "needs_background": "light"
     },
     "output_type": "display_data"
    }
   ],
   "source": [
    "movies = netflix.loc[netflix[\"type\"] == \"Movie\"]\n",
    "shows = netflix.loc[netflix[\"type\"] == \"TV Show\"]\n",
    "\n",
    "plt.figure(figsize=(15, 5))\n",
    "plt.title(\"Year on Year content adding on Netflix\", size = 20)\n",
    "sns.lineplot(x=movies[\"year_added\"].value_counts().index, y = movies[\"year_added\"].value_counts().values)\n",
    "sns.lineplot(x=shows[\"year_added\"].value_counts().index, y = shows[\"year_added\"].value_counts().values)\n",
    "plt.xlabel('Year')\n",
    "plt.ylabel(\"Count\")\n",
    "plt.legend([\"Movies\", \"TV Shows\"], loc = \"upper left\")\n",
    "plt.show()"
   ]
  },
  {
   "cell_type": "markdown",
   "id": "9c936cd2",
   "metadata": {},
   "source": [
    "### `Insights`\n",
    "- After year 2018 there is strict down trend observed in the movie categor in comparison with TV Show"
   ]
  },
  {
   "cell_type": "markdown",
   "id": "ed4ecbd9",
   "metadata": {},
   "source": [
    "## Month on Month Content Adding Analysis"
   ]
  },
  {
   "cell_type": "code",
   "execution_count": 223,
   "id": "37bf23a0",
   "metadata": {},
   "outputs": [
    {
     "data": {
      "image/png": "[encoded data removed]",
      "text/plain": [
       "<Figure size 1080x360 with 1 Axes>"
      ]
     },
     "metadata": {
      "needs_background": "light"
     },
     "output_type": "display_data"
    }
   ],
   "source": [
    "movies = netflix.loc[netflix[\"type\"] == \"Movie\"]\n",
    "shows = netflix.loc[netflix[\"type\"] == \"TV Show\"]\n",
    "\n",
    "plt.figure(figsize=(15, 5))\n",
    "plt.title(\"Month on Month content adding on Netflix\", size = 20)\n",
    "sns.lineplot(x=movies[\"month_added\"].value_counts().index, y = movies[\"month_added\"].value_counts().values)\n",
    "sns.lineplot(x=shows[\"month_added\"].value_counts().index, y = shows[\"month_added\"].value_counts().values)\n",
    "plt.xlabel('Month')\n",
    "plt.ylabel(\"Count\")\n",
    "plt.legend([\"Movies\", \"TV Shows\"], loc = \"best\")\n",
    "plt.show()"
   ]
  },
  {
   "cell_type": "markdown",
   "id": "a09cefd6",
   "metadata": {},
   "source": [
    "### `Insights`\n",
    "- Global Maxima point observed in the month of `July(7)` for `movies` however `December(12)` for `TV Shows`. In these months netflix added most of the content\n",
    "- Global Minimum point observed in the month of `February(2)` both categories (Movies & TV Shows)"
   ]
  },
  {
   "cell_type": "markdown",
   "id": "2c10238b",
   "metadata": {},
   "source": [
    "## Trend Analysis: Growth of Movie/TV Show over Years"
   ]
  },
  {
   "cell_type": "code",
   "execution_count": 224,
   "id": "c96d06ee",
   "metadata": {},
   "outputs": [
    {
     "data": {
      "image/png": "[encoded data removed]",
      "text/plain": [
       "<Figure size 438.75x360 with 1 Axes>"
      ]
     },
     "metadata": {
      "needs_background": "light"
     },
     "output_type": "display_data"
    }
   ],
   "source": [
    "movie_data = netflix[netflix['type'] == 'Movie']\n",
    "tv_show_data = netflix[netflix['type'] == 'TV Show']\n",
    "# bar,ax = plt.subplots(1,2,figsize=(15,5))\n",
    "temp = netflix[['type', 'release_year']]\n",
    "temp = temp.value_counts().to_frame()\n",
    "temp.reset_index(level=[0,1], inplace=True)\n",
    "temp = temp.rename(columns = {0:'count'})\n",
    "temp = pd.concat([temp[temp['type'] == 'Movie'][:7], temp[temp['type']== 'TV Show'][:7]])\n",
    "\n",
    "sns.catplot(x = 'release_year', y = 'count', hue = 'type', data = temp, kind = 'point')\n",
    "plt.xlabel('Release Year')\n",
    "plt.ylabel('Count')\n",
    "plt.title('Trend Analysis: Growth of Movie/TV Show over Years', size=14)\n",
    "plt.show()"
   ]
  },
  {
   "cell_type": "markdown",
   "id": "4a54cdce",
   "metadata": {},
   "source": [
    "### `Insights`\n",
    "- In recent year TV shows showing growing trend irrespective of global pandemic\n",
    "- In recent year Movies shows down trend.\n",
    "- We can say that, Netflix has more focus on TV Shows than movies in recent years"
   ]
  },
  {
   "cell_type": "markdown",
   "id": "4e005c6b",
   "metadata": {},
   "source": [
    "### Movie Runtime Analysis "
   ]
  },
  {
   "cell_type": "code",
   "execution_count": 225,
   "id": "0ff5bd15",
   "metadata": {},
   "outputs": [
    {
     "data": {
      "image/png": "[encoded data removed]",
      "text/plain": [
       "<Figure size 1080x360 with 1 Axes>"
      ]
     },
     "metadata": {
      "needs_background": "light"
     },
     "output_type": "display_data"
    }
   ],
   "source": [
    "temp = netflix.loc[netflix['type'] == 'Movie'].reset_index()\n",
    "bar, ax = plt.subplots(figsize = (15,5))\n",
    "sns.distplot(a = temp['duration'])\n",
    "plt.xlabel('Duration')\n",
    "plt.show()"
   ]
  },
  {
   "cell_type": "markdown",
   "id": "d4166c9a",
   "metadata": {},
   "source": [
    "### `Insights`\n",
    "- `99.56` (~ 100 minutes) is average Runtime of movie"
   ]
  },
  {
   "cell_type": "markdown",
   "id": "616515d2",
   "metadata": {},
   "source": [
    "### TV Shows Average Runtime Analysis"
   ]
  },
  {
   "cell_type": "code",
   "execution_count": 226,
   "id": "ea514a9e",
   "metadata": {},
   "outputs": [
    {
     "data": {
      "image/png": "[encoded data removed]",
      "text/plain": [
       "<Figure size 720x360 with 1 Axes>"
      ]
     },
     "metadata": {
      "needs_background": "light"
     },
     "output_type": "display_data"
    }
   ],
   "source": [
    "temp = netflix.loc[netflix['type'] == 'TV Show'].reset_index()\n",
    "bar, ax = plt.subplots(figsize = (10,5))\n",
    "sns.distplot(a = temp['duration'])\n",
    "plt.xlabel('Duration')\n",
    "plt.show()"
   ]
  },
  {
   "cell_type": "markdown",
   "id": "4c7e425e",
   "metadata": {},
   "source": [
    "### `Insights`\n",
    "- Average number of `seasons` is 1.7 `(~2 Seasons)`"
   ]
  },
  {
   "cell_type": "markdown",
   "id": "13231cd7",
   "metadata": {},
   "source": [
    "## Famous Directors"
   ]
  },
  {
   "cell_type": "markdown",
   "id": "8c60bb6d",
   "metadata": {},
   "source": [
    "### In Movies"
   ]
  },
  {
   "cell_type": "code",
   "execution_count": 227,
   "id": "5392dbff",
   "metadata": {},
   "outputs": [
    {
     "data": {
      "image/png": "[encoded data removed]",
      "text/plain": [
       "<Figure size 1080x360 with 1 Axes>"
      ]
     },
     "metadata": {
      "needs_background": "light"
     },
     "output_type": "display_data"
    }
   ],
   "source": [
    "bar, ax = plt.subplots(figsize=(15,5))\n",
    "sns.barplot(x = 'director', y = 'count', data = director[director['type'] == \"Movie\"].iloc[:10])\n",
    "plt.xticks(rotation = 45)\n",
    "plt.xlabel('Director in Movies')\n",
    "plt.ylabel('Count')\n",
    "plt.title('Famous Director in Movies', size=20)\n",
    "\n",
    "plt.show()"
   ]
  },
  {
   "cell_type": "markdown",
   "id": "2b8a4d99",
   "metadata": {},
   "source": [
    "### In TV Shows"
   ]
  },
  {
   "cell_type": "code",
   "execution_count": 228,
   "id": "8bf51e9b",
   "metadata": {},
   "outputs": [
    {
     "data": {
      "image/png": "[encoded data removed]",
      "text/plain": [
       "<Figure size 1080x360 with 1 Axes>"
      ]
     },
     "metadata": {
      "needs_background": "light"
     },
     "output_type": "display_data"
    }
   ],
   "source": [
    "bar, ax = plt.subplots(figsize=(15,5))\n",
    "sns.barplot(x = 'director', y = 'count', data = director[director['type'] == \"TV Show\"].iloc[:10])\n",
    "plt.xticks(rotation = 45)\n",
    "plt.xlabel('Director in TV Shows')\n",
    "plt.ylabel('Count')\n",
    "plt.title('Famous Director in TV Shows', size=20)\n",
    "\n",
    "plt.show()"
   ]
  },
  {
   "cell_type": "markdown",
   "id": "dabb0374",
   "metadata": {},
   "source": [
    "### Content Distribution based on Countries"
   ]
  },
  {
   "cell_type": "code",
   "execution_count": 229,
   "id": "4586ec1d",
   "metadata": {},
   "outputs": [
    {
     "data": {
      "image/png": "[encoded data removed]",
      "text/plain": [
       "<Figure size 1008x360 with 2 Axes>"
      ]
     },
     "metadata": {
      "needs_background": "light"
     },
     "output_type": "display_data"
    }
   ],
   "source": [
    "bar, ax = plt.subplots(1,2, figsize=(14,5))\n",
    "sns.barplot(x = 'count', y ='country', data = country[country['type'] == \"Movie\"].iloc[:5,:], ax = ax[0])\n",
    "ax[0].set_xlabel('Count')\n",
    "ax[0].set_ylabel('Country')\n",
    "ax[0].set_title('Top 5 countries with most Movies')\n",
    "sns.barplot(x = 'country', y = 'count', data = country[country['type'] == 'TV Show'].iloc[:5,:], ax = ax[1])\n",
    "plt.xticks(rotation = 45)\n",
    "ax[1].set_xlabel('Country')\n",
    "ax[1].set_ylabel('Count')\n",
    "ax[1].set_title('Top 5 countries with most TV Shows')\n",
    "plt.show()"
   ]
  },
  {
   "cell_type": "markdown",
   "id": "aaff68f0",
   "metadata": {},
   "source": [
    "### `Insights`\n",
    "- US is topping the charts in distribution of contents in both category Movies and TV Shows as well"
   ]
  },
  {
   "cell_type": "markdown",
   "id": "ac700d57",
   "metadata": {},
   "source": [
    "## Rating Analysis"
   ]
  },
  {
   "cell_type": "code",
   "execution_count": 230,
   "id": "2afc7577",
   "metadata": {},
   "outputs": [
    {
     "data": {
      "image/png": "[encoded data removed]",
      "text/plain": [
       "<Figure size 1080x360 with 1 Axes>"
      ]
     },
     "metadata": {
      "needs_background": "light"
     },
     "output_type": "display_data"
    }
   ],
   "source": [
    "temp = netflix[['release_year', 'rating']]\n",
    "temp = temp.value_counts().to_frame()\n",
    "temp.reset_index(level =  [0,1], inplace = True)\n",
    "temp = temp.rename(columns = {0:'count'})\n",
    "rating = pd.DataFrame([],columns = ('release_year', 'rating', 'count'))\n",
    "for rating_element in netflix['rating'].unique():\n",
    "    rating = pd.concat([rating, temp[temp['rating'] == rating_element].iloc[:1,:]])\n",
    "    \n",
    "plt.figure(figsize=(15,5))\n",
    "sns.barplot(y = 'count', x ='rating', data = rating, hue = 'release_year')\n",
    "plt.xlabel('Count')\n",
    "plt.ylabel('Ratings')\n",
    "plt.title('Maximum Growth of Rating in specific year', size=18)\n",
    "plt.show()"
   ]
  },
  {
   "cell_type": "markdown",
   "id": "b2863b68",
   "metadata": {},
   "source": [
    "### `Insights`\n",
    "- Year 2018 shows bigger spikes for TV-MA ratings"
   ]
  },
  {
   "cell_type": "code",
   "execution_count": 231,
   "id": "8842ed50",
   "metadata": {},
   "outputs": [
    {
     "data": {
      "image/png": "[encoded data removed]",
      "text/plain": [
       "<Figure size 1080x360 with 1 Axes>"
      ]
     },
     "metadata": {
      "needs_background": "light"
     },
     "output_type": "display_data"
    }
   ],
   "source": [
    "plt.figure(figsize=(15, 5))\n",
    "\n",
    "sns.countplot(x=\"rating\", hue=\"type\",data=netflix)\n",
    "plt.title(\"Rating distribution among content\")\n",
    "plt.xlabel(\"Rating\")\n",
    "plt.show()"
   ]
  },
  {
   "cell_type": "markdown",
   "id": "c220e59e",
   "metadata": {},
   "source": [
    "### `Insights`\n",
    "- TV-MA is top rated content for both category"
   ]
  },
  {
   "cell_type": "code",
   "execution_count": 232,
   "id": "48cb4927",
   "metadata": {},
   "outputs": [
    {
     "data": {
      "image/png": "[encoded data removed]",
      "text/plain": [
       "<Figure size 432x288 with 1 Axes>"
      ]
     },
     "metadata": {
      "needs_background": "light"
     },
     "output_type": "display_data"
    }
   ],
   "source": [
    "sns.countplot(x=\"ratings_ages\", hue=\"type\",data=netflix, dodge=False)\n",
    "plt.title(\"Distribution of content around ratings ages\")\n",
    "plt.xlabel(\"Ratings Ages\")\n",
    "plt.show()"
   ]
  },
  {
   "cell_type": "markdown",
   "id": "aed4775d",
   "metadata": {},
   "source": [
    "### `Insights`\n",
    "- Most of the content lies under `Adults` rating age"
   ]
  },
  {
   "cell_type": "markdown",
   "id": "c45751b7",
   "metadata": {},
   "source": [
    "### Top Genre in last 10 Years"
   ]
  },
  {
   "cell_type": "code",
   "execution_count": 233,
   "id": "fa53bce7",
   "metadata": {},
   "outputs": [
    {
     "data": {
      "image/png": "[encoded data removed]",
      "text/plain": [
       "<Figure size 1080x504 with 1 Axes>"
      ]
     },
     "metadata": {
      "needs_background": "light"
     },
     "output_type": "display_data"
    }
   ],
   "source": [
    "years = [2020, 2019, 2018, 2017, 2016, 2015, 2014, 2013, 2012, 2011]\n",
    "year_data = list()\n",
    "for year in years:\n",
    "    temp1 = genre.loc[genre['release_year'] == year].iloc[0,:]\n",
    "    temp2 = genre.loc[genre['release_year'] == year].iloc[1,:]\n",
    "    year_data.append(list(temp1))\n",
    "    year_data.append(list(temp2))\n",
    "    \n",
    "year = pd.DataFrame(year_data, columns=('years', 'genre', 'count'))\n",
    "\n",
    "bar, ax = plt.subplots(figsize=(15,7))\n",
    "sns.barplot(x = 'years', y ='count', hue='genre', data = year)\n",
    "plt.xlabel('Years')\n",
    "plt.ylabel('Count')\n",
    "plt.title('Top Genre in last 10 years', size=20)\n",
    "plt.show()"
   ]
  },
  {
   "cell_type": "markdown",
   "id": "93023deb",
   "metadata": {},
   "source": [
    "### `Insights`\n",
    "- From year 2015 to 2018 both categories shows growing trend\n",
    "- After year 2018 there is significant drop observed may be due to covid"
   ]
  },
  {
   "cell_type": "markdown",
   "id": "e76e0ed0",
   "metadata": {},
   "source": [
    "## Actors Analysis"
   ]
  },
  {
   "cell_type": "code",
   "execution_count": 234,
   "id": "cef4378f",
   "metadata": {},
   "outputs": [
    {
     "data": {
      "image/png": "[encoded data removed]",
      "text/plain": [
       "<Figure size 1080x360 with 1 Axes>"
      ]
     },
     "metadata": {
      "needs_background": "light"
     },
     "output_type": "display_data"
    },
    {
     "data": {
      "image/png": "[encoded data removed]",
      "text/plain": [
       "<Figure size 1080x360 with 1 Axes>"
      ]
     },
     "metadata": {
      "needs_background": "light"
     },
     "output_type": "display_data"
    }
   ],
   "source": [
    "\n",
    "plt.subplots(figsize= (15,5))\n",
    "\n",
    "\n",
    "sns.barplot(y = cast['count'][cast['type'] == 'Movie'][:10] , x = cast['cast'][cast['type'] == 'Movie'][:10], data = cast)\n",
    "plt.title('Most Famous Cast in Movies', size=20)\n",
    "plt.xlabel(\"Actors\")\n",
    "plt.subplots(figsize= (15,5))\n",
    "sns.barplot(y = cast['count'][cast['type'] == 'TV Show'][:10] , x = cast['cast'][cast['type'] == 'TV Show'][:10], data = cast)\n",
    "plt.title('Most Famous Cast in TV Show', size=20)\n",
    "\n",
    "plt.show()"
   ]
  },
  {
   "cell_type": "markdown",
   "id": "cbc9e112",
   "metadata": {},
   "source": [
    "### `Insights`\n",
    "- `Anupam Kher` is famous actor in Movies Category\n",
    "- `Takahiro Sakurai` is famous cast in TV Shows"
   ]
  },
  {
   "cell_type": "code",
   "execution_count": 235,
   "id": "4cd8bd7b",
   "metadata": {},
   "outputs": [
    {
     "data": {
      "image/png": "[encoded data removed]",
      "text/plain": [
       "<Figure size 720x360 with 2 Axes>"
      ]
     },
     "metadata": {
      "needs_background": "light"
     },
     "output_type": "display_data"
    }
   ],
   "source": [
    "plt.figure(figsize = (10, 5))\n",
    "sns.heatmap(netflix.corr(), annot = True, cmap = \"Blues\")\n",
    "plt.title(\"Corr. between numerical data\", size = 20)\n",
    "plt.show()"
   ]
  },
  {
   "cell_type": "markdown",
   "id": "c12738a6",
   "metadata": {},
   "source": [
    "### `Insights`\n",
    "- `year_added` & `year_released` is some how positively correlated\n",
    "- `duration` & `released_year` has dominantly weaker correlation"
   ]
  },
  {
   "cell_type": "code",
   "execution_count": 236,
   "id": "97520ad6",
   "metadata": {},
   "outputs": [
    {
     "data": {
      "image/png": "[encoded data removed]",
      "text/plain": [
       "<Figure size 4500x1500 with 2 Axes>"
      ]
     },
     "metadata": {
      "needs_background": "light"
     },
     "output_type": "display_data"
    }
   ],
   "source": [
    "month_order = [1,2,3,4,5,6,7,8,9,10,11,12][::-1]\n",
    "month_HM = netflix.groupby('year_added')['month_added'].value_counts().unstack().fillna(0)[month_order].T\n",
    "plt.figure(figsize=(15, 5), dpi=300)\n",
    "plt.pcolor(month_HM, cmap='Blues', edgecolors='white', linewidths=2) # heatmap\n",
    "plt.xticks(np.arange(0.5, len(month_HM.columns), 1), month_HM.columns, fontsize=10)\n",
    "plt.yticks(np.arange(0.5, len(month_HM.index), 1), month_HM.index, fontsize=10)\n",
    "plt.title('Netflix Monthly Contents Update', fontsize=12)\n",
    "cbar = plt.colorbar()\n",
    "\n",
    "cbar.ax.tick_params(labelsize=8) \n",
    "cbar.ax.minorticks_on()\n",
    "plt.show()"
   ]
  },
  {
   "cell_type": "markdown",
   "id": "81009ba1",
   "metadata": {},
   "source": [
    "### `Insights`\n",
    "- This heatmap shows that there are more contents being added during the last few months compare to other months."
   ]
  },
  {
   "cell_type": "markdown",
   "id": "2ad5a788",
   "metadata": {},
   "source": [
    "## Outlier Check"
   ]
  },
  {
   "cell_type": "code",
   "execution_count": 237,
   "id": "ab316753",
   "metadata": {},
   "outputs": [
    {
     "name": "stdout",
     "output_type": "stream",
     "text": [
      "count    8807.000000\n",
      "mean     2014.180198\n",
      "std         8.819312\n",
      "min      1925.000000\n",
      "25%      2013.000000\n",
      "50%      2017.000000\n",
      "75%      2019.000000\n",
      "max      2021.000000\n",
      "Name: release_year, dtype: float64\n"
     ]
    },
    {
     "data": {
      "image/png": "[encoded data removed]",
      "text/plain": [
       "<Figure size 1080x360 with 1 Axes>"
      ]
     },
     "metadata": {
      "needs_background": "light"
     },
     "output_type": "display_data"
    }
   ],
   "source": [
    "print(netflix[\"release_year\"].describe())\n",
    "plt.figure(figsize = (15, 5))\n",
    "sns.boxplot(x = \"release_year\", data = netflix)\n",
    "plt.title(\"Detecting Outlier in release year\", size = 20)\n",
    "plt.show()"
   ]
  },
  {
   "cell_type": "markdown",
   "id": "30bdf8d3",
   "metadata": {},
   "source": [
    "### `Insights` \n",
    "- We can see movies released `before 1955` is outlier for the given dataset"
   ]
  },
  {
   "cell_type": "code",
   "execution_count": 238,
   "id": "093fe90b",
   "metadata": {},
   "outputs": [
    {
     "name": "stdout",
     "output_type": "stream",
     "text": [
      "        year_added\n",
      "count  8807.000000\n",
      "mean   2018.873169\n",
      "std       1.573808\n",
      "min    2008.000000\n",
      "25%    2018.000000\n",
      "50%    2019.000000\n",
      "75%    2020.000000\n",
      "max    2021.000000\n"
     ]
    },
    {
     "data": {
      "image/png": "[encoded data removed]",
      "text/plain": [
       "<Figure size 1080x360 with 1 Axes>"
      ]
     },
     "metadata": {
      "needs_background": "light"
     },
     "output_type": "display_data"
    }
   ],
   "source": [
    "print(netflix[[\"year_added\", ]].describe())\n",
    "plt.figure(figsize = (15, 5))\n",
    "sns.boxplot(x = \"year_added\", data = netflix)\n",
    "plt.title(\"Detecting Outlier in content adding year\", size = 20)\n",
    "plt.show()"
   ]
  },
  {
   "cell_type": "markdown",
   "id": "34fae3ac",
   "metadata": {},
   "source": [
    "### `Insights` \n",
    "- We can see movies added `before year 2015` is outlier for the given dataset"
   ]
  },
  {
   "cell_type": "code",
   "execution_count": 239,
   "id": "1922a3dc",
   "metadata": {},
   "outputs": [
    {
     "name": "stdout",
     "output_type": "stream",
     "text": [
      "       month_added\n",
      "count  8807.000000\n",
      "mean      6.648575\n",
      "std       3.439879\n",
      "min       1.000000\n",
      "25%       4.000000\n",
      "50%       7.000000\n",
      "75%      10.000000\n",
      "max      12.000000\n"
     ]
    },
    {
     "data": {
      "image/png": "[encoded data removed]",
      "text/plain": [
       "<Figure size 1080x360 with 1 Axes>"
      ]
     },
     "metadata": {
      "needs_background": "light"
     },
     "output_type": "display_data"
    }
   ],
   "source": [
    "print(netflix[[\"month_added\", ]].describe())\n",
    "plt.figure(figsize = (15, 5))\n",
    "sns.boxplot(x = \"month_added\", data = netflix)\n",
    "plt.title(\"Detecting Outlier in content adding month\", size = 20)\n",
    "plt.show()"
   ]
  },
  {
   "cell_type": "markdown",
   "id": "1b204659",
   "metadata": {},
   "source": [
    "### `Insights`\n",
    "- Great!! We didn't find any outlier in content adding in month"
   ]
  },
  {
   "cell_type": "code",
   "execution_count": 240,
   "id": "92a5889b",
   "metadata": {},
   "outputs": [
    {
     "name": "stdout",
     "output_type": "stream",
     "text": [
      "count    6131.000000\n",
      "mean       99.564998\n",
      "std        28.289504\n",
      "min         3.000000\n",
      "25%        87.000000\n",
      "50%        98.000000\n",
      "75%       114.000000\n",
      "max       312.000000\n",
      "Name: duration, dtype: float64\n"
     ]
    },
    {
     "data": {
      "image/png": "[encoded data removed]",
      "text/plain": [
       "<Figure size 1080x360 with 1 Axes>"
      ]
     },
     "metadata": {
      "needs_background": "light"
     },
     "output_type": "display_data"
    }
   ],
   "source": [
    "print(netflix.loc[netflix[\"type\"] == \"Movie\"][\"duration\"].describe())\n",
    "plt.figure(figsize = (15, 5))\n",
    "sns.boxplot(x = netflix.loc[netflix[\"type\"] == \"Movie\"][\"duration\"], data = netflix)\n",
    "plt.title(\"Detecting Outlier in Duration of Movie\", size = 20)\n",
    "plt.show()"
   ]
  },
  {
   "cell_type": "markdown",
   "id": "5078489b",
   "metadata": {},
   "source": [
    "### `Insights`\n",
    "- There is significant outlier found in both ways in duration of `movies`. \n",
    "- Outlier observed for the movies duration `less than 47 Minutes` and `Greater than 153 Minutes`"
   ]
  },
  {
   "cell_type": "code",
   "execution_count": 241,
   "id": "66fe9d60",
   "metadata": {},
   "outputs": [
    {
     "name": "stdout",
     "output_type": "stream",
     "text": [
      "count    2676.000000\n",
      "mean        1.764948\n",
      "std         1.582752\n",
      "min         1.000000\n",
      "25%         1.000000\n",
      "50%         1.000000\n",
      "75%         2.000000\n",
      "max        17.000000\n",
      "Name: duration, dtype: float64\n"
     ]
    },
    {
     "data": {
      "image/png": "[encoded data removed]",
      "text/plain": [
       "<Figure size 1080x360 with 1 Axes>"
      ]
     },
     "metadata": {
      "needs_background": "light"
     },
     "output_type": "display_data"
    }
   ],
   "source": [
    "print(netflix.loc[netflix[\"type\"] == \"TV Show\"][\"duration\"].describe())\n",
    "plt.figure(figsize = (15, 5))\n",
    "sns.boxplot(x = netflix.loc[netflix[\"type\"] == \"TV Show\"][\"duration\"], data = netflix)\n",
    "plt.title(\"Detecting Outlier in Seasons of TV Shows\", size = 20)\n",
    "plt.show()"
   ]
  },
  {
   "cell_type": "markdown",
   "id": "72876d74",
   "metadata": {},
   "source": [
    "### `Insights`\n",
    "- Outlier observed for the no. of seasons `greater than 3` for TV Shows"
   ]
  },
  {
   "cell_type": "markdown",
   "id": "af8a65d7",
   "metadata": {},
   "source": [
    "## Question 7: Business Insights"
   ]
  },
  {
   "cell_type": "markdown",
   "id": "103ae708",
   "metadata": {},
   "source": [
    "### As per all EDA and Visualizaiton. Let's summarize the major insights of  the Dataset"
   ]
  },
  {
   "cell_type": "markdown",
   "id": "4c1c3ddb",
   "metadata": {},
   "source": [
    "- The movies accounts for majority of the content unlike TV Shows.\n",
    "- Initially, the rate of addition of TV shows and movies seems to be at the same pace.\n",
    "- In 2020, there is a slight increase in the rate of addition of TV shows and a slight reduction in rate of addition of movies which may be a factor of the COVID-19 pandemic.\n",
    "- TV-MA is the most popular rating for Mature movie, and for teens movie, TV-14 has about 3 times more than PG-13 movie.\n",
    "- United States, India and United Kingdom is the top 3 countries with the most content.\n",
    "- As an aspired producer or actor/actress, we might consider this 3 countries for our career.\n",
    "- The duration for movies are distributed normally where the peak are in the range between 90 and 100 minutes.\n",
    "- Most of the TV show consist of 1 season only.\n",
    "- The top 3 favourite genre of movies are:\n",
    "    - International movies\n",
    "    - Dramas\n",
    "    - Comedies\n",
    "- The top 3 favourite TV shows genre are:\n",
    "    - International TV Shows\n",
    "    - TV Dramas\n",
    "    - TV Comedies\n",
    "- There are outliers detected in release year, Duration of Content, Year when content been added\n",
    "- There are more contents being added during the last few months compare to other months.\n",
    "- From year 2015 to 2018 both categories shows growing trend\n",
    "- After year 2018 there is significant drop observed may be due to covid\n",
    "- Most of the content lies under Adults rating age\n",
    "- In recent year TV shows showing growing trend irrespective of global pandemic\n",
    "- In recent year Movies shows down trend.\n",
    "- We can say that, Netflix has more focus on TV Shows than movies in recent years\n",
    "- Most of the contents being added in year 2019"
   ]
  },
  {
   "cell_type": "markdown",
   "id": "01d2239a",
   "metadata": {},
   "source": [
    "## Question 8. Recommendations"
   ]
  },
  {
   "cell_type": "markdown",
   "id": "0e0f36ed",
   "metadata": {},
   "source": [
    "### As per all EDA and Visualizaiton, here is the list of actionable recommendations backed by insights and findings"
   ]
  },
  {
   "cell_type": "markdown",
   "id": "82838f99",
   "metadata": {},
   "source": [
    "- There is sudden down trend observed in the movies categories unlike TV Shows. And there is shifting of interest observed among user. So businees need to focus on adding more TV Show.\n",
    "- Distribution of content in different countries are not uniform. Countries like - US, India & UK grossing the chart for more content and release. There is huge opportunities to grow businees in other underperforming countries like `Uraguay`,  `East Germary`, `Equador`, `Ghana` etc.\n",
    "- Company need to promote more regional contents\n",
    "- Contents rating are also not uniform - majorly contents are availble of adults and teens. But there is huge scope of business in kids domain also.\n",
    "- Most of the content is available in Dramas, International movies & comedies genre. Intl. movies genre brings more users on the platform because of its wider audience. \n",
    "- There is wider gap in audience for UR rating and TV-MA & TV-19. Company should focus more on UR rating content to attract more users\n",
    "- Trends for TV shows is quite giving positive intent but this can be more improved by adding more content related to other performing rated contents like - TV Documentaries, Dramas, Critics etc.\n",
    "- We see down trend in month of February for content adding with respect to other months. Company can improve this "
   ]
  }
 ],
 "metadata": {
  "kernelspec": {
   "display_name": "Python 3 (ipykernel)",
   "language": "python",
   "name": "python3"
  },
  "language_info": {
   "codemirror_mode": {
    "name": "ipython",
    "version": 3
   },
   "file_extension": ".py",
   "mimetype": "text/x-python",
   "name": "python",
   "nbconvert_exporter": "python",
   "pygments_lexer": "ipython3",
   "version": "3.9.12"
  }
 },
 "nbformat": 4,
 "nbformat_minor": 5
}
