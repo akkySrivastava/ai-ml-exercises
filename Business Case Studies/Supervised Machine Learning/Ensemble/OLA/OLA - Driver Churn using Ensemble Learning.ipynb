{
 "cells": [
  {
   "cell_type": "markdown",
   "id": "594ebe5d",
   "metadata": {},
   "source": [
    "# Problem Statement"
   ]
  },
  {
   "cell_type": "markdown",
   "id": "affffbf5",
   "metadata": {},
   "source": [
    "##### Recruiting and retaining drivers is seen by industry watchers as a tough battle for Ola. Churn among drivers is high and it’s very easy for drivers to stop working for the service on the fly or jump to Uber depending on the rates.\n",
    "\n",
    "##### As a Sata scientist with the Analytics Department of Ola, focused on driver team attrition. You are provided with the monthly information for a segment of drivers for 2019 and 2020 and tasked to predict whether a driver will be leaving the company or not based on their attributes.\n",
    "\n",
    "- Additional Views\n",
    "    - This is the classification problem for churning, we need to track the various metrics like Recall, ROC-AUC curve etc.\n",
    "    - As this industry is very competitive we need to focus more on the trained feature importances."
   ]
  },
  {
   "cell_type": "markdown",
   "id": "f9c41924",
   "metadata": {},
   "source": [
    "# Installing Packages"
   ]
  },
  {
   "cell_type": "code",
   "execution_count": 410,
   "id": "16c07dbd",
   "metadata": {},
   "outputs": [],
   "source": [
    "import pandas as pd\n",
    "import numpy as np\n",
    "import matplotlib.pyplot as plt\n",
    "import seaborn as sns\n",
    "\n",
    "from sklearn.impute import KNNImputer\n",
    "from sklearn.preprocessing import MinMaxScaler\n",
    "from sklearn.model_selection import train_test_split, GridSearchCV\n",
    "\n",
    "from imblearn.over_sampling import SMOTE\n",
    "\n",
    "from sklearn.ensemble import RandomForestClassifier, GradientBoostingClassifier\n",
    "from sklearn.tree import DecisionTreeClassifier\n",
    "import xgboost as xgb\n",
    "\n",
    "from sklearn.metrics import classification_report, accuracy_score, confusion_matrix, ConfusionMatrixDisplay\n",
    "from sklearn.metrics import roc_auc_score, roc_curve\n",
    "\n",
    "import time"
   ]
  },
  {
   "cell_type": "code",
   "execution_count": 411,
   "id": "05315b1f",
   "metadata": {},
   "outputs": [
    {
     "data": {
      "text/html": [
       "<div>\n",
       "<style scoped>\n",
       "    .dataframe tbody tr th:only-of-type {\n",
       "        vertical-align: middle;\n",
       "    }\n",
       "\n",
       "    .dataframe tbody tr th {\n",
       "        vertical-align: top;\n",
       "    }\n",
       "\n",
       "    .dataframe thead th {\n",
       "        text-align: right;\n",
       "    }\n",
       "</style>\n",
       "<table border=\"1\" class=\"dataframe\">\n",
       "  <thead>\n",
       "    <tr style=\"text-align: right;\">\n",
       "      <th></th>\n",
       "      <th>Unnamed: 0</th>\n",
       "      <th>MMM-YY</th>\n",
       "      <th>Driver_ID</th>\n",
       "      <th>Age</th>\n",
       "      <th>Gender</th>\n",
       "      <th>City</th>\n",
       "      <th>Education_Level</th>\n",
       "      <th>Income</th>\n",
       "      <th>Dateofjoining</th>\n",
       "      <th>LastWorkingDate</th>\n",
       "      <th>Joining Designation</th>\n",
       "      <th>Grade</th>\n",
       "      <th>Total Business Value</th>\n",
       "      <th>Quarterly Rating</th>\n",
       "    </tr>\n",
       "  </thead>\n",
       "  <tbody>\n",
       "    <tr>\n",
       "      <th>0</th>\n",
       "      <td>0</td>\n",
       "      <td>01/01/19</td>\n",
       "      <td>1</td>\n",
       "      <td>28.0</td>\n",
       "      <td>0.0</td>\n",
       "      <td>C23</td>\n",
       "      <td>2</td>\n",
       "      <td>57387</td>\n",
       "      <td>24/12/18</td>\n",
       "      <td>NaN</td>\n",
       "      <td>1</td>\n",
       "      <td>1</td>\n",
       "      <td>2381060</td>\n",
       "      <td>2</td>\n",
       "    </tr>\n",
       "    <tr>\n",
       "      <th>1</th>\n",
       "      <td>1</td>\n",
       "      <td>02/01/19</td>\n",
       "      <td>1</td>\n",
       "      <td>28.0</td>\n",
       "      <td>0.0</td>\n",
       "      <td>C23</td>\n",
       "      <td>2</td>\n",
       "      <td>57387</td>\n",
       "      <td>24/12/18</td>\n",
       "      <td>NaN</td>\n",
       "      <td>1</td>\n",
       "      <td>1</td>\n",
       "      <td>-665480</td>\n",
       "      <td>2</td>\n",
       "    </tr>\n",
       "    <tr>\n",
       "      <th>2</th>\n",
       "      <td>2</td>\n",
       "      <td>03/01/19</td>\n",
       "      <td>1</td>\n",
       "      <td>28.0</td>\n",
       "      <td>0.0</td>\n",
       "      <td>C23</td>\n",
       "      <td>2</td>\n",
       "      <td>57387</td>\n",
       "      <td>24/12/18</td>\n",
       "      <td>03/11/19</td>\n",
       "      <td>1</td>\n",
       "      <td>1</td>\n",
       "      <td>0</td>\n",
       "      <td>2</td>\n",
       "    </tr>\n",
       "    <tr>\n",
       "      <th>3</th>\n",
       "      <td>3</td>\n",
       "      <td>11/01/20</td>\n",
       "      <td>2</td>\n",
       "      <td>31.0</td>\n",
       "      <td>0.0</td>\n",
       "      <td>C7</td>\n",
       "      <td>2</td>\n",
       "      <td>67016</td>\n",
       "      <td>11/06/20</td>\n",
       "      <td>NaN</td>\n",
       "      <td>2</td>\n",
       "      <td>2</td>\n",
       "      <td>0</td>\n",
       "      <td>1</td>\n",
       "    </tr>\n",
       "    <tr>\n",
       "      <th>4</th>\n",
       "      <td>4</td>\n",
       "      <td>12/01/20</td>\n",
       "      <td>2</td>\n",
       "      <td>31.0</td>\n",
       "      <td>0.0</td>\n",
       "      <td>C7</td>\n",
       "      <td>2</td>\n",
       "      <td>67016</td>\n",
       "      <td>11/06/20</td>\n",
       "      <td>NaN</td>\n",
       "      <td>2</td>\n",
       "      <td>2</td>\n",
       "      <td>0</td>\n",
       "      <td>1</td>\n",
       "    </tr>\n",
       "  </tbody>\n",
       "</table>\n",
       "</div>"
      ],
      "text/plain": [
       "   Unnamed: 0    MMM-YY  Driver_ID   Age  Gender City  Education_Level  \\\n",
       "0           0  01/01/19          1  28.0     0.0  C23                2   \n",
       "1           1  02/01/19          1  28.0     0.0  C23                2   \n",
       "2           2  03/01/19          1  28.0     0.0  C23                2   \n",
       "3           3  11/01/20          2  31.0     0.0   C7                2   \n",
       "4           4  12/01/20          2  31.0     0.0   C7                2   \n",
       "\n",
       "   Income Dateofjoining LastWorkingDate  Joining Designation  Grade  \\\n",
       "0   57387      24/12/18             NaN                    1      1   \n",
       "1   57387      24/12/18             NaN                    1      1   \n",
       "2   57387      24/12/18        03/11/19                    1      1   \n",
       "3   67016      11/06/20             NaN                    2      2   \n",
       "4   67016      11/06/20             NaN                    2      2   \n",
       "\n",
       "   Total Business Value  Quarterly Rating  \n",
       "0               2381060                 2  \n",
       "1               -665480                 2  \n",
       "2                     0                 2  \n",
       "3                     0                 1  \n",
       "4                     0                 1  "
      ]
     },
     "execution_count": 411,
     "metadata": {},
     "output_type": "execute_result"
    }
   ],
   "source": [
    "data = pd.read_csv(\"https://d2beiqkhq929f0.cloudfront.net/public_assets/assets/000/002/492/original/ola_driver_scaler.csv\")\n",
    "\n",
    "data.head()"
   ]
  },
  {
   "cell_type": "markdown",
   "id": "f6514e37",
   "metadata": {},
   "source": [
    "- Removing the unwanted column Unnamed: 0"
   ]
  },
  {
   "cell_type": "code",
   "execution_count": 412,
   "id": "d821fe49",
   "metadata": {},
   "outputs": [],
   "source": [
    "data.drop(\"Unnamed: 0\", axis = 1, inplace = True)"
   ]
  },
  {
   "cell_type": "code",
   "execution_count": 413,
   "id": "9e7f1828",
   "metadata": {},
   "outputs": [
    {
     "data": {
      "text/html": [
       "<div>\n",
       "<style scoped>\n",
       "    .dataframe tbody tr th:only-of-type {\n",
       "        vertical-align: middle;\n",
       "    }\n",
       "\n",
       "    .dataframe tbody tr th {\n",
       "        vertical-align: top;\n",
       "    }\n",
       "\n",
       "    .dataframe thead th {\n",
       "        text-align: right;\n",
       "    }\n",
       "</style>\n",
       "<table border=\"1\" class=\"dataframe\">\n",
       "  <thead>\n",
       "    <tr style=\"text-align: right;\">\n",
       "      <th></th>\n",
       "      <th>MMM-YY</th>\n",
       "      <th>Driver_ID</th>\n",
       "      <th>Age</th>\n",
       "      <th>Gender</th>\n",
       "      <th>City</th>\n",
       "      <th>Education_Level</th>\n",
       "      <th>Income</th>\n",
       "      <th>Dateofjoining</th>\n",
       "      <th>LastWorkingDate</th>\n",
       "      <th>Joining Designation</th>\n",
       "      <th>Grade</th>\n",
       "      <th>Total Business Value</th>\n",
       "      <th>Quarterly Rating</th>\n",
       "    </tr>\n",
       "  </thead>\n",
       "  <tbody>\n",
       "    <tr>\n",
       "      <th>0</th>\n",
       "      <td>01/01/19</td>\n",
       "      <td>1</td>\n",
       "      <td>28.0</td>\n",
       "      <td>0.0</td>\n",
       "      <td>C23</td>\n",
       "      <td>2</td>\n",
       "      <td>57387</td>\n",
       "      <td>24/12/18</td>\n",
       "      <td>NaN</td>\n",
       "      <td>1</td>\n",
       "      <td>1</td>\n",
       "      <td>2381060</td>\n",
       "      <td>2</td>\n",
       "    </tr>\n",
       "    <tr>\n",
       "      <th>1</th>\n",
       "      <td>02/01/19</td>\n",
       "      <td>1</td>\n",
       "      <td>28.0</td>\n",
       "      <td>0.0</td>\n",
       "      <td>C23</td>\n",
       "      <td>2</td>\n",
       "      <td>57387</td>\n",
       "      <td>24/12/18</td>\n",
       "      <td>NaN</td>\n",
       "      <td>1</td>\n",
       "      <td>1</td>\n",
       "      <td>-665480</td>\n",
       "      <td>2</td>\n",
       "    </tr>\n",
       "    <tr>\n",
       "      <th>2</th>\n",
       "      <td>03/01/19</td>\n",
       "      <td>1</td>\n",
       "      <td>28.0</td>\n",
       "      <td>0.0</td>\n",
       "      <td>C23</td>\n",
       "      <td>2</td>\n",
       "      <td>57387</td>\n",
       "      <td>24/12/18</td>\n",
       "      <td>03/11/19</td>\n",
       "      <td>1</td>\n",
       "      <td>1</td>\n",
       "      <td>0</td>\n",
       "      <td>2</td>\n",
       "    </tr>\n",
       "    <tr>\n",
       "      <th>3</th>\n",
       "      <td>11/01/20</td>\n",
       "      <td>2</td>\n",
       "      <td>31.0</td>\n",
       "      <td>0.0</td>\n",
       "      <td>C7</td>\n",
       "      <td>2</td>\n",
       "      <td>67016</td>\n",
       "      <td>11/06/20</td>\n",
       "      <td>NaN</td>\n",
       "      <td>2</td>\n",
       "      <td>2</td>\n",
       "      <td>0</td>\n",
       "      <td>1</td>\n",
       "    </tr>\n",
       "    <tr>\n",
       "      <th>4</th>\n",
       "      <td>12/01/20</td>\n",
       "      <td>2</td>\n",
       "      <td>31.0</td>\n",
       "      <td>0.0</td>\n",
       "      <td>C7</td>\n",
       "      <td>2</td>\n",
       "      <td>67016</td>\n",
       "      <td>11/06/20</td>\n",
       "      <td>NaN</td>\n",
       "      <td>2</td>\n",
       "      <td>2</td>\n",
       "      <td>0</td>\n",
       "      <td>1</td>\n",
       "    </tr>\n",
       "  </tbody>\n",
       "</table>\n",
       "</div>"
      ],
      "text/plain": [
       "     MMM-YY  Driver_ID   Age  Gender City  Education_Level  Income  \\\n",
       "0  01/01/19          1  28.0     0.0  C23                2   57387   \n",
       "1  02/01/19          1  28.0     0.0  C23                2   57387   \n",
       "2  03/01/19          1  28.0     0.0  C23                2   57387   \n",
       "3  11/01/20          2  31.0     0.0   C7                2   67016   \n",
       "4  12/01/20          2  31.0     0.0   C7                2   67016   \n",
       "\n",
       "  Dateofjoining LastWorkingDate  Joining Designation  Grade  \\\n",
       "0      24/12/18             NaN                    1      1   \n",
       "1      24/12/18             NaN                    1      1   \n",
       "2      24/12/18        03/11/19                    1      1   \n",
       "3      11/06/20             NaN                    2      2   \n",
       "4      11/06/20             NaN                    2      2   \n",
       "\n",
       "   Total Business Value  Quarterly Rating  \n",
       "0               2381060                 2  \n",
       "1               -665480                 2  \n",
       "2                     0                 2  \n",
       "3                     0                 1  \n",
       "4                     0                 1  "
      ]
     },
     "execution_count": 413,
     "metadata": {},
     "output_type": "execute_result"
    }
   ],
   "source": [
    "data.head()"
   ]
  },
  {
   "cell_type": "code",
   "execution_count": 414,
   "id": "ade0b5a7",
   "metadata": {},
   "outputs": [
    {
     "data": {
      "text/plain": [
       "(19104, 13)"
      ]
     },
     "execution_count": 414,
     "metadata": {},
     "output_type": "execute_result"
    }
   ],
   "source": [
    "data.shape"
   ]
  },
  {
   "cell_type": "code",
   "execution_count": 415,
   "id": "0a5e1675",
   "metadata": {},
   "outputs": [
    {
     "data": {
      "text/plain": [
       "MMM-YY                     24\n",
       "Driver_ID                2381\n",
       "Age                        36\n",
       "Gender                      2\n",
       "City                       29\n",
       "Education_Level             3\n",
       "Income                   2383\n",
       "Dateofjoining             869\n",
       "LastWorkingDate           493\n",
       "Joining Designation         5\n",
       "Grade                       5\n",
       "Total Business Value    10181\n",
       "Quarterly Rating            4\n",
       "dtype: int64"
      ]
     },
     "execution_count": 415,
     "metadata": {},
     "output_type": "execute_result"
    }
   ],
   "source": [
    "data.nunique()"
   ]
  },
  {
   "cell_type": "code",
   "execution_count": 416,
   "id": "6677c969",
   "metadata": {},
   "outputs": [
    {
     "name": "stdout",
     "output_type": "stream",
     "text": [
      "<class 'pandas.core.frame.DataFrame'>\n",
      "RangeIndex: 19104 entries, 0 to 19103\n",
      "Data columns (total 13 columns):\n",
      " #   Column                Non-Null Count  Dtype  \n",
      "---  ------                --------------  -----  \n",
      " 0   MMM-YY                19104 non-null  object \n",
      " 1   Driver_ID             19104 non-null  int64  \n",
      " 2   Age                   19043 non-null  float64\n",
      " 3   Gender                19052 non-null  float64\n",
      " 4   City                  19104 non-null  object \n",
      " 5   Education_Level       19104 non-null  int64  \n",
      " 6   Income                19104 non-null  int64  \n",
      " 7   Dateofjoining         19104 non-null  object \n",
      " 8   LastWorkingDate       1616 non-null   object \n",
      " 9   Joining Designation   19104 non-null  int64  \n",
      " 10  Grade                 19104 non-null  int64  \n",
      " 11  Total Business Value  19104 non-null  int64  \n",
      " 12  Quarterly Rating      19104 non-null  int64  \n",
      "dtypes: float64(2), int64(7), object(4)\n",
      "memory usage: 1.9+ MB\n"
     ]
    }
   ],
   "source": [
    "data.info()"
   ]
  },
  {
   "cell_type": "markdown",
   "id": "193bcbb3",
   "metadata": {},
   "source": [
    "# Converting features to respective data-types"
   ]
  },
  {
   "cell_type": "code",
   "execution_count": 417,
   "id": "e8b36be9",
   "metadata": {},
   "outputs": [],
   "source": [
    "data[\"MMM-YY\"] = pd.to_datetime(data[\"MMM-YY\"])\n",
    "data[\"Dateofjoining\"] = pd.to_datetime(data[\"Dateofjoining\"])\n",
    "data[\"LastWorkingDate\"] = pd.to_datetime(data[\"LastWorkingDate\"])"
   ]
  },
  {
   "cell_type": "code",
   "execution_count": 418,
   "id": "f81fa4d6",
   "metadata": {},
   "outputs": [
    {
     "name": "stdout",
     "output_type": "stream",
     "text": [
      "<class 'pandas.core.frame.DataFrame'>\n",
      "RangeIndex: 19104 entries, 0 to 19103\n",
      "Data columns (total 13 columns):\n",
      " #   Column                Non-Null Count  Dtype         \n",
      "---  ------                --------------  -----         \n",
      " 0   MMM-YY                19104 non-null  datetime64[ns]\n",
      " 1   Driver_ID             19104 non-null  int64         \n",
      " 2   Age                   19043 non-null  float64       \n",
      " 3   Gender                19052 non-null  float64       \n",
      " 4   City                  19104 non-null  object        \n",
      " 5   Education_Level       19104 non-null  int64         \n",
      " 6   Income                19104 non-null  int64         \n",
      " 7   Dateofjoining         19104 non-null  datetime64[ns]\n",
      " 8   LastWorkingDate       1616 non-null   datetime64[ns]\n",
      " 9   Joining Designation   19104 non-null  int64         \n",
      " 10  Grade                 19104 non-null  int64         \n",
      " 11  Total Business Value  19104 non-null  int64         \n",
      " 12  Quarterly Rating      19104 non-null  int64         \n",
      "dtypes: datetime64[ns](3), float64(2), int64(7), object(1)\n",
      "memory usage: 1.9+ MB\n"
     ]
    }
   ],
   "source": [
    "data.info()"
   ]
  },
  {
   "cell_type": "markdown",
   "id": "1623512c",
   "metadata": {},
   "source": [
    "# Check for missing values and Prepare data for KNN Imputation"
   ]
  },
  {
   "cell_type": "code",
   "execution_count": 419,
   "id": "c26e2c9e",
   "metadata": {},
   "outputs": [
    {
     "data": {
      "text/plain": [
       "MMM-YY                   0.000000\n",
       "Driver_ID                0.000000\n",
       "Age                      0.319305\n",
       "Gender                   0.272194\n",
       "City                     0.000000\n",
       "Education_Level          0.000000\n",
       "Income                   0.000000\n",
       "Dateofjoining            0.000000\n",
       "LastWorkingDate         91.541039\n",
       "Joining Designation      0.000000\n",
       "Grade                    0.000000\n",
       "Total Business Value     0.000000\n",
       "Quarterly Rating         0.000000\n",
       "dtype: float64"
      ]
     },
     "execution_count": 419,
     "metadata": {},
     "output_type": "execute_result"
    }
   ],
   "source": [
    "data.isnull().sum() / len(data) * 100"
   ]
  },
  {
   "cell_type": "markdown",
   "id": "56e3b204",
   "metadata": {},
   "source": [
    "- There are missing values found in `AGE`, `Gender`\n",
    "- `LastWorkingDate` feature contains missing values which indicates the driver has not left the company yet."
   ]
  },
  {
   "cell_type": "code",
   "execution_count": 420,
   "id": "dd95e490",
   "metadata": {},
   "outputs": [
    {
     "data": {
      "text/plain": [
       "Index(['Driver_ID', 'Age', 'Gender', 'Education_Level', 'Income',\n",
       "       'Joining Designation', 'Grade', 'Total Business Value',\n",
       "       'Quarterly Rating'],\n",
       "      dtype='object')"
      ]
     },
     "execution_count": 420,
     "metadata": {},
     "output_type": "execute_result"
    }
   ],
   "source": [
    "num_vars = data.select_dtypes(np.number)\n",
    "\n",
    "num_vars.columns"
   ]
  },
  {
   "cell_type": "code",
   "execution_count": 421,
   "id": "4f7a6091",
   "metadata": {},
   "outputs": [],
   "source": [
    "num_vars.drop([\"Driver_ID\"], axis = 1, inplace = True)"
   ]
  },
  {
   "cell_type": "markdown",
   "id": "3ef47e9e",
   "metadata": {},
   "source": [
    "# KNN Imputation"
   ]
  },
  {
   "cell_type": "code",
   "execution_count": 422,
   "id": "48319898",
   "metadata": {},
   "outputs": [],
   "source": [
    "imputer = KNNImputer(n_neighbors=5, weights='uniform', metric='nan_euclidean')\n",
    "imputer.fit(num_vars)\n",
    "data_new = imputer.transform(num_vars)"
   ]
  },
  {
   "cell_type": "code",
   "execution_count": 423,
   "id": "059075d3",
   "metadata": {},
   "outputs": [],
   "source": [
    "data_new = pd.DataFrame(data_new)"
   ]
  },
  {
   "cell_type": "code",
   "execution_count": 424,
   "id": "5f3de265",
   "metadata": {},
   "outputs": [],
   "source": [
    "data_new.columns = num_vars.columns"
   ]
  },
  {
   "cell_type": "code",
   "execution_count": 425,
   "id": "d2adb408",
   "metadata": {},
   "outputs": [
    {
     "data": {
      "text/plain": [
       "Age                     0\n",
       "Gender                  0\n",
       "Education_Level         0\n",
       "Income                  0\n",
       "Joining Designation     0\n",
       "Grade                   0\n",
       "Total Business Value    0\n",
       "Quarterly Rating        0\n",
       "dtype: int64"
      ]
     },
     "execution_count": 425,
     "metadata": {},
     "output_type": "execute_result"
    }
   ],
   "source": [
    "data_new.isnull().sum()"
   ]
  },
  {
   "cell_type": "markdown",
   "id": "8f00103c",
   "metadata": {},
   "source": [
    "- We have successfully imputed the missing values using KNNImputer"
   ]
  },
  {
   "cell_type": "code",
   "execution_count": 426,
   "id": "79affb3d",
   "metadata": {},
   "outputs": [
    {
     "data": {
      "text/plain": [
       "Age                        70\n",
       "Gender                      6\n",
       "Education_Level             3\n",
       "Income                   2383\n",
       "Joining Designation         5\n",
       "Grade                       5\n",
       "Total Business Value    10181\n",
       "Quarterly Rating            4\n",
       "dtype: int64"
      ]
     },
     "execution_count": 426,
     "metadata": {},
     "output_type": "execute_result"
    }
   ],
   "source": [
    "data_new.nunique()"
   ]
  },
  {
   "cell_type": "markdown",
   "id": "280d4e35",
   "metadata": {},
   "source": [
    "# Concatenating dataframes"
   ]
  },
  {
   "cell_type": "code",
   "execution_count": 427,
   "id": "d45d417f",
   "metadata": {},
   "outputs": [
    {
     "data": {
      "text/plain": [
       "['MMM-YY', 'LastWorkingDate', 'Dateofjoining', 'City', 'Driver_ID']"
      ]
     },
     "execution_count": 427,
     "metadata": {},
     "output_type": "execute_result"
    }
   ],
   "source": [
    "resultant_columns = list(set(data.columns).difference(set(num_vars)))\n",
    "\n",
    "resultant_columns"
   ]
  },
  {
   "cell_type": "code",
   "execution_count": 428,
   "id": "0fb5b6f8",
   "metadata": {},
   "outputs": [
    {
     "data": {
      "text/plain": [
       "(19104, 13)"
      ]
     },
     "execution_count": 428,
     "metadata": {},
     "output_type": "execute_result"
    }
   ],
   "source": [
    "new_df = pd.concat([data_new, data[resultant_columns]], axis=1)\n",
    "\n",
    "new_df.shape"
   ]
  },
  {
   "cell_type": "code",
   "execution_count": 429,
   "id": "a990b2b8",
   "metadata": {},
   "outputs": [
    {
     "data": {
      "text/html": [
       "<div>\n",
       "<style scoped>\n",
       "    .dataframe tbody tr th:only-of-type {\n",
       "        vertical-align: middle;\n",
       "    }\n",
       "\n",
       "    .dataframe tbody tr th {\n",
       "        vertical-align: top;\n",
       "    }\n",
       "\n",
       "    .dataframe thead th {\n",
       "        text-align: right;\n",
       "    }\n",
       "</style>\n",
       "<table border=\"1\" class=\"dataframe\">\n",
       "  <thead>\n",
       "    <tr style=\"text-align: right;\">\n",
       "      <th></th>\n",
       "      <th>Age</th>\n",
       "      <th>Gender</th>\n",
       "      <th>Education_Level</th>\n",
       "      <th>Income</th>\n",
       "      <th>Joining Designation</th>\n",
       "      <th>Grade</th>\n",
       "      <th>Total Business Value</th>\n",
       "      <th>Quarterly Rating</th>\n",
       "      <th>MMM-YY</th>\n",
       "      <th>LastWorkingDate</th>\n",
       "      <th>Dateofjoining</th>\n",
       "      <th>City</th>\n",
       "      <th>Driver_ID</th>\n",
       "    </tr>\n",
       "  </thead>\n",
       "  <tbody>\n",
       "    <tr>\n",
       "      <th>0</th>\n",
       "      <td>28.0</td>\n",
       "      <td>0.0</td>\n",
       "      <td>2.0</td>\n",
       "      <td>57387.0</td>\n",
       "      <td>1.0</td>\n",
       "      <td>1.0</td>\n",
       "      <td>2381060.0</td>\n",
       "      <td>2.0</td>\n",
       "      <td>2019-01-01</td>\n",
       "      <td>NaT</td>\n",
       "      <td>2018-12-24</td>\n",
       "      <td>C23</td>\n",
       "      <td>1</td>\n",
       "    </tr>\n",
       "    <tr>\n",
       "      <th>1</th>\n",
       "      <td>28.0</td>\n",
       "      <td>0.0</td>\n",
       "      <td>2.0</td>\n",
       "      <td>57387.0</td>\n",
       "      <td>1.0</td>\n",
       "      <td>1.0</td>\n",
       "      <td>-665480.0</td>\n",
       "      <td>2.0</td>\n",
       "      <td>2019-02-01</td>\n",
       "      <td>NaT</td>\n",
       "      <td>2018-12-24</td>\n",
       "      <td>C23</td>\n",
       "      <td>1</td>\n",
       "    </tr>\n",
       "    <tr>\n",
       "      <th>2</th>\n",
       "      <td>28.0</td>\n",
       "      <td>0.0</td>\n",
       "      <td>2.0</td>\n",
       "      <td>57387.0</td>\n",
       "      <td>1.0</td>\n",
       "      <td>1.0</td>\n",
       "      <td>0.0</td>\n",
       "      <td>2.0</td>\n",
       "      <td>2019-03-01</td>\n",
       "      <td>2019-03-11</td>\n",
       "      <td>2018-12-24</td>\n",
       "      <td>C23</td>\n",
       "      <td>1</td>\n",
       "    </tr>\n",
       "    <tr>\n",
       "      <th>3</th>\n",
       "      <td>31.0</td>\n",
       "      <td>0.0</td>\n",
       "      <td>2.0</td>\n",
       "      <td>67016.0</td>\n",
       "      <td>2.0</td>\n",
       "      <td>2.0</td>\n",
       "      <td>0.0</td>\n",
       "      <td>1.0</td>\n",
       "      <td>2020-11-01</td>\n",
       "      <td>NaT</td>\n",
       "      <td>2020-11-06</td>\n",
       "      <td>C7</td>\n",
       "      <td>2</td>\n",
       "    </tr>\n",
       "    <tr>\n",
       "      <th>4</th>\n",
       "      <td>31.0</td>\n",
       "      <td>0.0</td>\n",
       "      <td>2.0</td>\n",
       "      <td>67016.0</td>\n",
       "      <td>2.0</td>\n",
       "      <td>2.0</td>\n",
       "      <td>0.0</td>\n",
       "      <td>1.0</td>\n",
       "      <td>2020-12-01</td>\n",
       "      <td>NaT</td>\n",
       "      <td>2020-11-06</td>\n",
       "      <td>C7</td>\n",
       "      <td>2</td>\n",
       "    </tr>\n",
       "  </tbody>\n",
       "</table>\n",
       "</div>"
      ],
      "text/plain": [
       "    Age  Gender  Education_Level   Income  Joining Designation  Grade  \\\n",
       "0  28.0     0.0              2.0  57387.0                  1.0    1.0   \n",
       "1  28.0     0.0              2.0  57387.0                  1.0    1.0   \n",
       "2  28.0     0.0              2.0  57387.0                  1.0    1.0   \n",
       "3  31.0     0.0              2.0  67016.0                  2.0    2.0   \n",
       "4  31.0     0.0              2.0  67016.0                  2.0    2.0   \n",
       "\n",
       "   Total Business Value  Quarterly Rating     MMM-YY LastWorkingDate  \\\n",
       "0             2381060.0               2.0 2019-01-01             NaT   \n",
       "1             -665480.0               2.0 2019-02-01             NaT   \n",
       "2                   0.0               2.0 2019-03-01      2019-03-11   \n",
       "3                   0.0               1.0 2020-11-01             NaT   \n",
       "4                   0.0               1.0 2020-12-01             NaT   \n",
       "\n",
       "  Dateofjoining City  Driver_ID  \n",
       "0    2018-12-24  C23          1  \n",
       "1    2018-12-24  C23          1  \n",
       "2    2018-12-24  C23          1  \n",
       "3    2020-11-06   C7          2  \n",
       "4    2020-11-06   C7          2  "
      ]
     },
     "execution_count": 429,
     "metadata": {},
     "output_type": "execute_result"
    }
   ],
   "source": [
    "new_df.head()"
   ]
  },
  {
   "cell_type": "markdown",
   "id": "9aae5820",
   "metadata": {},
   "source": [
    "# Data Preprocessing\n",
    "# Feature Engineering"
   ]
  },
  {
   "cell_type": "code",
   "execution_count": 430,
   "id": "685487ed",
   "metadata": {},
   "outputs": [
    {
     "data": {
      "text/html": [
       "<div>\n",
       "<style scoped>\n",
       "    .dataframe tbody tr th:only-of-type {\n",
       "        vertical-align: middle;\n",
       "    }\n",
       "\n",
       "    .dataframe tbody tr th {\n",
       "        vertical-align: top;\n",
       "    }\n",
       "\n",
       "    .dataframe thead th {\n",
       "        text-align: right;\n",
       "    }\n",
       "</style>\n",
       "<table border=\"1\" class=\"dataframe\">\n",
       "  <thead>\n",
       "    <tr style=\"text-align: right;\">\n",
       "      <th></th>\n",
       "      <th></th>\n",
       "      <th>Age</th>\n",
       "      <th>Gender</th>\n",
       "      <th>Education_Level</th>\n",
       "      <th>Income</th>\n",
       "      <th>Joining Designation</th>\n",
       "      <th>Grade</th>\n",
       "      <th>Total Business Value</th>\n",
       "      <th>Quarterly Rating</th>\n",
       "      <th>LastWorkingDate</th>\n",
       "      <th>City</th>\n",
       "      <th>Dateofjoining</th>\n",
       "    </tr>\n",
       "    <tr>\n",
       "      <th>Driver_ID</th>\n",
       "      <th>MMM-YY</th>\n",
       "      <th></th>\n",
       "      <th></th>\n",
       "      <th></th>\n",
       "      <th></th>\n",
       "      <th></th>\n",
       "      <th></th>\n",
       "      <th></th>\n",
       "      <th></th>\n",
       "      <th></th>\n",
       "      <th></th>\n",
       "      <th></th>\n",
       "    </tr>\n",
       "  </thead>\n",
       "  <tbody>\n",
       "    <tr>\n",
       "      <th rowspan=\"3\" valign=\"top\">1</th>\n",
       "      <th>2019-01-01</th>\n",
       "      <td>28.0</td>\n",
       "      <td>0.0</td>\n",
       "      <td>2.0</td>\n",
       "      <td>57387.0</td>\n",
       "      <td>1.0</td>\n",
       "      <td>1.0</td>\n",
       "      <td>2381060.0</td>\n",
       "      <td>2.0</td>\n",
       "      <td>NaT</td>\n",
       "      <td>C23</td>\n",
       "      <td>2018-12-24</td>\n",
       "    </tr>\n",
       "    <tr>\n",
       "      <th>2019-02-01</th>\n",
       "      <td>28.0</td>\n",
       "      <td>0.0</td>\n",
       "      <td>2.0</td>\n",
       "      <td>57387.0</td>\n",
       "      <td>1.0</td>\n",
       "      <td>1.0</td>\n",
       "      <td>-665480.0</td>\n",
       "      <td>2.0</td>\n",
       "      <td>NaT</td>\n",
       "      <td>C23</td>\n",
       "      <td>2018-12-24</td>\n",
       "    </tr>\n",
       "    <tr>\n",
       "      <th>2019-03-01</th>\n",
       "      <td>28.0</td>\n",
       "      <td>0.0</td>\n",
       "      <td>2.0</td>\n",
       "      <td>57387.0</td>\n",
       "      <td>1.0</td>\n",
       "      <td>1.0</td>\n",
       "      <td>0.0</td>\n",
       "      <td>2.0</td>\n",
       "      <td>2019-03-11</td>\n",
       "      <td>C23</td>\n",
       "      <td>2018-12-24</td>\n",
       "    </tr>\n",
       "    <tr>\n",
       "      <th rowspan=\"2\" valign=\"top\">2</th>\n",
       "      <th>2020-11-01</th>\n",
       "      <td>31.0</td>\n",
       "      <td>0.0</td>\n",
       "      <td>2.0</td>\n",
       "      <td>67016.0</td>\n",
       "      <td>2.0</td>\n",
       "      <td>2.0</td>\n",
       "      <td>0.0</td>\n",
       "      <td>1.0</td>\n",
       "      <td>NaT</td>\n",
       "      <td>C7</td>\n",
       "      <td>2020-11-06</td>\n",
       "    </tr>\n",
       "    <tr>\n",
       "      <th>2020-12-01</th>\n",
       "      <td>31.0</td>\n",
       "      <td>0.0</td>\n",
       "      <td>2.0</td>\n",
       "      <td>67016.0</td>\n",
       "      <td>2.0</td>\n",
       "      <td>2.0</td>\n",
       "      <td>0.0</td>\n",
       "      <td>1.0</td>\n",
       "      <td>NaT</td>\n",
       "      <td>C7</td>\n",
       "      <td>2020-11-06</td>\n",
       "    </tr>\n",
       "  </tbody>\n",
       "</table>\n",
       "</div>"
      ],
      "text/plain": [
       "                       Age  Gender  Education_Level   Income  \\\n",
       "Driver_ID MMM-YY                                               \n",
       "1         2019-01-01  28.0     0.0              2.0  57387.0   \n",
       "          2019-02-01  28.0     0.0              2.0  57387.0   \n",
       "          2019-03-01  28.0     0.0              2.0  57387.0   \n",
       "2         2020-11-01  31.0     0.0              2.0  67016.0   \n",
       "          2020-12-01  31.0     0.0              2.0  67016.0   \n",
       "\n",
       "                      Joining Designation  Grade  Total Business Value  \\\n",
       "Driver_ID MMM-YY                                                         \n",
       "1         2019-01-01                  1.0    1.0             2381060.0   \n",
       "          2019-02-01                  1.0    1.0             -665480.0   \n",
       "          2019-03-01                  1.0    1.0                   0.0   \n",
       "2         2020-11-01                  2.0    2.0                   0.0   \n",
       "          2020-12-01                  2.0    2.0                   0.0   \n",
       "\n",
       "                      Quarterly Rating LastWorkingDate City Dateofjoining  \n",
       "Driver_ID MMM-YY                                                           \n",
       "1         2019-01-01               2.0             NaT  C23    2018-12-24  \n",
       "          2019-02-01               2.0             NaT  C23    2018-12-24  \n",
       "          2019-03-01               2.0      2019-03-11  C23    2018-12-24  \n",
       "2         2020-11-01               1.0             NaT   C7    2020-11-06  \n",
       "          2020-12-01               1.0             NaT   C7    2020-11-06  "
      ]
     },
     "execution_count": 430,
     "metadata": {},
     "output_type": "execute_result"
    }
   ],
   "source": [
    "agg_functions = {\n",
    "    \"Age\": \"max\",\n",
    "    \"Gender\": \"first\",\n",
    "    \"Education_Level\": \"last\",\n",
    "    \"Income\": \"last\",\n",
    "    \"Joining Designation\": \"last\",\n",
    "    \"Grade\": \"last\",\n",
    "    \"Total Business Value\": \"sum\",\n",
    "    \"Quarterly Rating\": \"last\",\n",
    "    \"LastWorkingDate\": \"last\",\n",
    "    \"City\": \"first\",\n",
    "    \"Dateofjoining\": \"last\"\n",
    "}\n",
    "\n",
    "processed_df = new_df.groupby([\"Driver_ID\", \"MMM-YY\"]).aggregate(agg_functions).sort_index(ascending = [True, True])\n",
    "\n",
    "processed_df.head()"
   ]
  },
  {
   "cell_type": "code",
   "execution_count": 431,
   "id": "86f1cf99",
   "metadata": {},
   "outputs": [],
   "source": [
    "final_data = pd.DataFrame()"
   ]
  },
  {
   "cell_type": "code",
   "execution_count": 432,
   "id": "7d18def4",
   "metadata": {},
   "outputs": [],
   "source": [
    "final_data[\"Driver_ID\"] = new_df[\"Driver_ID\"].unique()"
   ]
  },
  {
   "cell_type": "code",
   "execution_count": 433,
   "id": "b9dbd088",
   "metadata": {},
   "outputs": [],
   "source": [
    "final_data['Age'] = list(processed_df.groupby('Driver_ID',axis=0).max('MMM-YY')['Age'])\n",
    "final_data['Gender'] = list(processed_df.groupby('Driver_ID').agg({'Gender':'last'})['Gender'])\n",
    "final_data['City'] = list(processed_df.groupby('Driver_ID').agg({'City':'last'})['City'])\n",
    "final_data['Education'] = list(processed_df.groupby('Driver_ID').agg({'Education_Level':'last'})['Education_Level'])\n",
    "final_data['Income'] = list(processed_df.groupby('Driver_ID').agg({'Income':'last'})['Income'])\n",
    "final_data['Joining_Designation'] = list(processed_df.groupby('Driver_ID').agg({'Joining Designation':'last'})['Joining Designation'])\n",
    "final_data['Grade'] = list(processed_df.groupby('Driver_ID').agg({'Grade':'last'})['Grade'])\n",
    "final_data['Total_Business_Value'] = list(processed_df.groupby('Driver_ID',axis=0).sum('Total Business Value')['Total Business Value'])\n",
    "final_data['Last_Quarterly_Rating'] = list(processed_df.groupby('Driver_ID').agg({'Quarterly Rating':'last'})['Quarterly Rating'])"
   ]
  },
  {
   "cell_type": "code",
   "execution_count": 434,
   "id": "04b81bcd",
   "metadata": {},
   "outputs": [
    {
     "data": {
      "text/html": [
       "<div>\n",
       "<style scoped>\n",
       "    .dataframe tbody tr th:only-of-type {\n",
       "        vertical-align: middle;\n",
       "    }\n",
       "\n",
       "    .dataframe tbody tr th {\n",
       "        vertical-align: top;\n",
       "    }\n",
       "\n",
       "    .dataframe thead th {\n",
       "        text-align: right;\n",
       "    }\n",
       "</style>\n",
       "<table border=\"1\" class=\"dataframe\">\n",
       "  <thead>\n",
       "    <tr style=\"text-align: right;\">\n",
       "      <th></th>\n",
       "      <th>Driver_ID</th>\n",
       "      <th>Age</th>\n",
       "      <th>Gender</th>\n",
       "      <th>City</th>\n",
       "      <th>Education</th>\n",
       "      <th>Income</th>\n",
       "      <th>Joining_Designation</th>\n",
       "      <th>Grade</th>\n",
       "      <th>Total_Business_Value</th>\n",
       "      <th>Last_Quarterly_Rating</th>\n",
       "    </tr>\n",
       "  </thead>\n",
       "  <tbody>\n",
       "    <tr>\n",
       "      <th>0</th>\n",
       "      <td>1</td>\n",
       "      <td>28.0</td>\n",
       "      <td>0.0</td>\n",
       "      <td>C23</td>\n",
       "      <td>2.0</td>\n",
       "      <td>57387.0</td>\n",
       "      <td>1.0</td>\n",
       "      <td>1.0</td>\n",
       "      <td>1715580.0</td>\n",
       "      <td>2.0</td>\n",
       "    </tr>\n",
       "    <tr>\n",
       "      <th>1</th>\n",
       "      <td>2</td>\n",
       "      <td>31.0</td>\n",
       "      <td>0.0</td>\n",
       "      <td>C7</td>\n",
       "      <td>2.0</td>\n",
       "      <td>67016.0</td>\n",
       "      <td>2.0</td>\n",
       "      <td>2.0</td>\n",
       "      <td>0.0</td>\n",
       "      <td>1.0</td>\n",
       "    </tr>\n",
       "    <tr>\n",
       "      <th>2</th>\n",
       "      <td>4</td>\n",
       "      <td>43.0</td>\n",
       "      <td>0.0</td>\n",
       "      <td>C13</td>\n",
       "      <td>2.0</td>\n",
       "      <td>65603.0</td>\n",
       "      <td>2.0</td>\n",
       "      <td>2.0</td>\n",
       "      <td>350000.0</td>\n",
       "      <td>1.0</td>\n",
       "    </tr>\n",
       "    <tr>\n",
       "      <th>3</th>\n",
       "      <td>5</td>\n",
       "      <td>29.0</td>\n",
       "      <td>0.0</td>\n",
       "      <td>C9</td>\n",
       "      <td>0.0</td>\n",
       "      <td>46368.0</td>\n",
       "      <td>1.0</td>\n",
       "      <td>1.0</td>\n",
       "      <td>120360.0</td>\n",
       "      <td>1.0</td>\n",
       "    </tr>\n",
       "    <tr>\n",
       "      <th>4</th>\n",
       "      <td>6</td>\n",
       "      <td>31.0</td>\n",
       "      <td>1.0</td>\n",
       "      <td>C11</td>\n",
       "      <td>1.0</td>\n",
       "      <td>78728.0</td>\n",
       "      <td>3.0</td>\n",
       "      <td>3.0</td>\n",
       "      <td>1265000.0</td>\n",
       "      <td>2.0</td>\n",
       "    </tr>\n",
       "  </tbody>\n",
       "</table>\n",
       "</div>"
      ],
      "text/plain": [
       "   Driver_ID   Age  Gender City  Education   Income  Joining_Designation  \\\n",
       "0          1  28.0     0.0  C23        2.0  57387.0                  1.0   \n",
       "1          2  31.0     0.0   C7        2.0  67016.0                  2.0   \n",
       "2          4  43.0     0.0  C13        2.0  65603.0                  2.0   \n",
       "3          5  29.0     0.0   C9        0.0  46368.0                  1.0   \n",
       "4          6  31.0     1.0  C11        1.0  78728.0                  3.0   \n",
       "\n",
       "   Grade  Total_Business_Value  Last_Quarterly_Rating  \n",
       "0    1.0             1715580.0                    2.0  \n",
       "1    2.0                   0.0                    1.0  \n",
       "2    2.0              350000.0                    1.0  \n",
       "3    1.0              120360.0                    1.0  \n",
       "4    3.0             1265000.0                    2.0  "
      ]
     },
     "execution_count": 434,
     "metadata": {},
     "output_type": "execute_result"
    }
   ],
   "source": [
    "final_data.head()"
   ]
  },
  {
   "cell_type": "code",
   "execution_count": 435,
   "id": "f1ed665a",
   "metadata": {},
   "outputs": [
    {
     "data": {
      "text/plain": [
       "(2381, 10)"
      ]
     },
     "execution_count": 435,
     "metadata": {},
     "output_type": "execute_result"
    }
   ],
   "source": [
    "final_data.shape"
   ]
  },
  {
   "cell_type": "markdown",
   "id": "33aa9430",
   "metadata": {},
   "source": [
    "# Create a column which tells whether the quarterly rating has increased for that driver - for those whose quarterly rating has increased we assign the value 1"
   ]
  },
  {
   "cell_type": "code",
   "execution_count": 436,
   "id": "63461e6a",
   "metadata": {},
   "outputs": [],
   "source": [
    "first_quarter = processed_df.groupby([\"Driver_ID\"]).agg({\"Quarterly Rating\": \"first\"})\n",
    "\n",
    "last_quarter = processed_df.groupby([\"Driver_ID\"]).agg({\"Quarterly Rating\": \"last\"})\n",
    "\n",
    "qr = (last_quarter[\"Quarterly Rating\"] > first_quarter[\"Quarterly Rating\"]).reset_index()\n",
    "\n",
    "empid = qr[qr[\"Quarterly Rating\"] == True][\"Driver_ID\"]\n",
    "\n",
    "qrl = []\n",
    "for i in final_data[\"Driver_ID\"]:\n",
    "    if i in empid.values:\n",
    "        qrl.append(1)\n",
    "    else:\n",
    "        qrl.append(0)\n",
    "\n",
    "\n",
    "final_data[\"Quarterly_Rating_Increased\"] = qrl"
   ]
  },
  {
   "cell_type": "code",
   "execution_count": 437,
   "id": "7c6dd034",
   "metadata": {},
   "outputs": [
    {
     "data": {
      "text/html": [
       "<div>\n",
       "<style scoped>\n",
       "    .dataframe tbody tr th:only-of-type {\n",
       "        vertical-align: middle;\n",
       "    }\n",
       "\n",
       "    .dataframe tbody tr th {\n",
       "        vertical-align: top;\n",
       "    }\n",
       "\n",
       "    .dataframe thead th {\n",
       "        text-align: right;\n",
       "    }\n",
       "</style>\n",
       "<table border=\"1\" class=\"dataframe\">\n",
       "  <thead>\n",
       "    <tr style=\"text-align: right;\">\n",
       "      <th></th>\n",
       "      <th>Driver_ID</th>\n",
       "      <th>Age</th>\n",
       "      <th>Gender</th>\n",
       "      <th>City</th>\n",
       "      <th>Education</th>\n",
       "      <th>Income</th>\n",
       "      <th>Joining_Designation</th>\n",
       "      <th>Grade</th>\n",
       "      <th>Total_Business_Value</th>\n",
       "      <th>Last_Quarterly_Rating</th>\n",
       "      <th>Quarterly_Rating_Increased</th>\n",
       "    </tr>\n",
       "  </thead>\n",
       "  <tbody>\n",
       "    <tr>\n",
       "      <th>0</th>\n",
       "      <td>1</td>\n",
       "      <td>28.0</td>\n",
       "      <td>0.0</td>\n",
       "      <td>C23</td>\n",
       "      <td>2.0</td>\n",
       "      <td>57387.0</td>\n",
       "      <td>1.0</td>\n",
       "      <td>1.0</td>\n",
       "      <td>1715580.0</td>\n",
       "      <td>2.0</td>\n",
       "      <td>0</td>\n",
       "    </tr>\n",
       "    <tr>\n",
       "      <th>1</th>\n",
       "      <td>2</td>\n",
       "      <td>31.0</td>\n",
       "      <td>0.0</td>\n",
       "      <td>C7</td>\n",
       "      <td>2.0</td>\n",
       "      <td>67016.0</td>\n",
       "      <td>2.0</td>\n",
       "      <td>2.0</td>\n",
       "      <td>0.0</td>\n",
       "      <td>1.0</td>\n",
       "      <td>0</td>\n",
       "    </tr>\n",
       "    <tr>\n",
       "      <th>2</th>\n",
       "      <td>4</td>\n",
       "      <td>43.0</td>\n",
       "      <td>0.0</td>\n",
       "      <td>C13</td>\n",
       "      <td>2.0</td>\n",
       "      <td>65603.0</td>\n",
       "      <td>2.0</td>\n",
       "      <td>2.0</td>\n",
       "      <td>350000.0</td>\n",
       "      <td>1.0</td>\n",
       "      <td>0</td>\n",
       "    </tr>\n",
       "    <tr>\n",
       "      <th>3</th>\n",
       "      <td>5</td>\n",
       "      <td>29.0</td>\n",
       "      <td>0.0</td>\n",
       "      <td>C9</td>\n",
       "      <td>0.0</td>\n",
       "      <td>46368.0</td>\n",
       "      <td>1.0</td>\n",
       "      <td>1.0</td>\n",
       "      <td>120360.0</td>\n",
       "      <td>1.0</td>\n",
       "      <td>0</td>\n",
       "    </tr>\n",
       "    <tr>\n",
       "      <th>4</th>\n",
       "      <td>6</td>\n",
       "      <td>31.0</td>\n",
       "      <td>1.0</td>\n",
       "      <td>C11</td>\n",
       "      <td>1.0</td>\n",
       "      <td>78728.0</td>\n",
       "      <td>3.0</td>\n",
       "      <td>3.0</td>\n",
       "      <td>1265000.0</td>\n",
       "      <td>2.0</td>\n",
       "      <td>1</td>\n",
       "    </tr>\n",
       "  </tbody>\n",
       "</table>\n",
       "</div>"
      ],
      "text/plain": [
       "   Driver_ID   Age  Gender City  Education   Income  Joining_Designation  \\\n",
       "0          1  28.0     0.0  C23        2.0  57387.0                  1.0   \n",
       "1          2  31.0     0.0   C7        2.0  67016.0                  2.0   \n",
       "2          4  43.0     0.0  C13        2.0  65603.0                  2.0   \n",
       "3          5  29.0     0.0   C9        0.0  46368.0                  1.0   \n",
       "4          6  31.0     1.0  C11        1.0  78728.0                  3.0   \n",
       "\n",
       "   Grade  Total_Business_Value  Last_Quarterly_Rating  \\\n",
       "0    1.0             1715580.0                    2.0   \n",
       "1    2.0                   0.0                    1.0   \n",
       "2    2.0              350000.0                    1.0   \n",
       "3    1.0              120360.0                    1.0   \n",
       "4    3.0             1265000.0                    2.0   \n",
       "\n",
       "   Quarterly_Rating_Increased  \n",
       "0                           0  \n",
       "1                           0  \n",
       "2                           0  \n",
       "3                           0  \n",
       "4                           1  "
      ]
     },
     "execution_count": 437,
     "metadata": {},
     "output_type": "execute_result"
    }
   ],
   "source": [
    "final_data.head()"
   ]
  },
  {
   "cell_type": "markdown",
   "id": "a8786b50",
   "metadata": {},
   "source": [
    "# Target variable creation: Create a column called target which tells whether the driver has left the company- driver whose last working day is present will have the value 1"
   ]
  },
  {
   "cell_type": "code",
   "execution_count": 438,
   "id": "72b81757",
   "metadata": {},
   "outputs": [],
   "source": [
    "lwd = (processed_df.groupby([\"Driver_ID\"]).agg({\"LastWorkingDate\": \"last\"})[\"LastWorkingDate\"].isna()).reset_index()\n",
    "\n",
    "lwrid = lwd[lwd[\"LastWorkingDate\"] == True][\"Driver_ID\"]\n",
    "target = []\n",
    "\n",
    "for i in final_data[\"Driver_ID\"]:\n",
    "    if i in lwrid.values:\n",
    "        target.append(0)\n",
    "    else:\n",
    "        target.append(1)\n",
    "        \n",
    "final_data[\"target\"] = target"
   ]
  },
  {
   "cell_type": "code",
   "execution_count": 439,
   "id": "f9c98d39",
   "metadata": {},
   "outputs": [
    {
     "data": {
      "text/html": [
       "<div>\n",
       "<style scoped>\n",
       "    .dataframe tbody tr th:only-of-type {\n",
       "        vertical-align: middle;\n",
       "    }\n",
       "\n",
       "    .dataframe tbody tr th {\n",
       "        vertical-align: top;\n",
       "    }\n",
       "\n",
       "    .dataframe thead th {\n",
       "        text-align: right;\n",
       "    }\n",
       "</style>\n",
       "<table border=\"1\" class=\"dataframe\">\n",
       "  <thead>\n",
       "    <tr style=\"text-align: right;\">\n",
       "      <th></th>\n",
       "      <th>Driver_ID</th>\n",
       "      <th>Age</th>\n",
       "      <th>Gender</th>\n",
       "      <th>City</th>\n",
       "      <th>Education</th>\n",
       "      <th>Income</th>\n",
       "      <th>Joining_Designation</th>\n",
       "      <th>Grade</th>\n",
       "      <th>Total_Business_Value</th>\n",
       "      <th>Last_Quarterly_Rating</th>\n",
       "      <th>Quarterly_Rating_Increased</th>\n",
       "      <th>target</th>\n",
       "    </tr>\n",
       "  </thead>\n",
       "  <tbody>\n",
       "    <tr>\n",
       "      <th>0</th>\n",
       "      <td>1</td>\n",
       "      <td>28.0</td>\n",
       "      <td>0.0</td>\n",
       "      <td>C23</td>\n",
       "      <td>2.0</td>\n",
       "      <td>57387.0</td>\n",
       "      <td>1.0</td>\n",
       "      <td>1.0</td>\n",
       "      <td>1715580.0</td>\n",
       "      <td>2.0</td>\n",
       "      <td>0</td>\n",
       "      <td>1</td>\n",
       "    </tr>\n",
       "    <tr>\n",
       "      <th>1</th>\n",
       "      <td>2</td>\n",
       "      <td>31.0</td>\n",
       "      <td>0.0</td>\n",
       "      <td>C7</td>\n",
       "      <td>2.0</td>\n",
       "      <td>67016.0</td>\n",
       "      <td>2.0</td>\n",
       "      <td>2.0</td>\n",
       "      <td>0.0</td>\n",
       "      <td>1.0</td>\n",
       "      <td>0</td>\n",
       "      <td>0</td>\n",
       "    </tr>\n",
       "    <tr>\n",
       "      <th>2</th>\n",
       "      <td>4</td>\n",
       "      <td>43.0</td>\n",
       "      <td>0.0</td>\n",
       "      <td>C13</td>\n",
       "      <td>2.0</td>\n",
       "      <td>65603.0</td>\n",
       "      <td>2.0</td>\n",
       "      <td>2.0</td>\n",
       "      <td>350000.0</td>\n",
       "      <td>1.0</td>\n",
       "      <td>0</td>\n",
       "      <td>1</td>\n",
       "    </tr>\n",
       "    <tr>\n",
       "      <th>3</th>\n",
       "      <td>5</td>\n",
       "      <td>29.0</td>\n",
       "      <td>0.0</td>\n",
       "      <td>C9</td>\n",
       "      <td>0.0</td>\n",
       "      <td>46368.0</td>\n",
       "      <td>1.0</td>\n",
       "      <td>1.0</td>\n",
       "      <td>120360.0</td>\n",
       "      <td>1.0</td>\n",
       "      <td>0</td>\n",
       "      <td>1</td>\n",
       "    </tr>\n",
       "    <tr>\n",
       "      <th>4</th>\n",
       "      <td>6</td>\n",
       "      <td>31.0</td>\n",
       "      <td>1.0</td>\n",
       "      <td>C11</td>\n",
       "      <td>1.0</td>\n",
       "      <td>78728.0</td>\n",
       "      <td>3.0</td>\n",
       "      <td>3.0</td>\n",
       "      <td>1265000.0</td>\n",
       "      <td>2.0</td>\n",
       "      <td>1</td>\n",
       "      <td>0</td>\n",
       "    </tr>\n",
       "  </tbody>\n",
       "</table>\n",
       "</div>"
      ],
      "text/plain": [
       "   Driver_ID   Age  Gender City  Education   Income  Joining_Designation  \\\n",
       "0          1  28.0     0.0  C23        2.0  57387.0                  1.0   \n",
       "1          2  31.0     0.0   C7        2.0  67016.0                  2.0   \n",
       "2          4  43.0     0.0  C13        2.0  65603.0                  2.0   \n",
       "3          5  29.0     0.0   C9        0.0  46368.0                  1.0   \n",
       "4          6  31.0     1.0  C11        1.0  78728.0                  3.0   \n",
       "\n",
       "   Grade  Total_Business_Value  Last_Quarterly_Rating  \\\n",
       "0    1.0             1715580.0                    2.0   \n",
       "1    2.0                   0.0                    1.0   \n",
       "2    2.0              350000.0                    1.0   \n",
       "3    1.0              120360.0                    1.0   \n",
       "4    3.0             1265000.0                    2.0   \n",
       "\n",
       "   Quarterly_Rating_Increased  target  \n",
       "0                           0       1  \n",
       "1                           0       0  \n",
       "2                           0       1  \n",
       "3                           0       1  \n",
       "4                           1       0  "
      ]
     },
     "execution_count": 439,
     "metadata": {},
     "output_type": "execute_result"
    }
   ],
   "source": [
    "final_data.head()"
   ]
  },
  {
   "cell_type": "markdown",
   "id": "b2f09ed4",
   "metadata": {},
   "source": [
    "# Create a column which tells whether the monthly income has increased for that driver - for those whose monthly income has increased we assign the value 1"
   ]
  },
  {
   "cell_type": "code",
   "execution_count": 440,
   "id": "9255ab71",
   "metadata": {},
   "outputs": [],
   "source": [
    "mrf = processed_df.groupby([\"Driver_ID\"]).agg({\"Income\": \"first\"})\n",
    "\n",
    "mrl = processed_df.groupby([\"Driver_ID\"]).agg({\"Income\": \"last\"})\n",
    "\n",
    "mr = (mrl[\"Income\"] > mrf[\"Income\"]).reset_index()\n",
    "\n",
    "empid = mr[mr[\"Income\"] == True][\"Driver_ID\"]\n",
    "income = []\n",
    "for i in final_data[\"Driver_ID\"]:\n",
    "    if i in empid.values:\n",
    "        income.append(1)\n",
    "    else:\n",
    "        income.append(0)\n",
    "        \n",
    "final_data[\"Salary_Increased\"] = income"
   ]
  },
  {
   "cell_type": "code",
   "execution_count": 441,
   "id": "36b0ef49",
   "metadata": {},
   "outputs": [
    {
     "data": {
      "text/html": [
       "<div>\n",
       "<style scoped>\n",
       "    .dataframe tbody tr th:only-of-type {\n",
       "        vertical-align: middle;\n",
       "    }\n",
       "\n",
       "    .dataframe tbody tr th {\n",
       "        vertical-align: top;\n",
       "    }\n",
       "\n",
       "    .dataframe thead th {\n",
       "        text-align: right;\n",
       "    }\n",
       "</style>\n",
       "<table border=\"1\" class=\"dataframe\">\n",
       "  <thead>\n",
       "    <tr style=\"text-align: right;\">\n",
       "      <th></th>\n",
       "      <th>Driver_ID</th>\n",
       "      <th>Age</th>\n",
       "      <th>Gender</th>\n",
       "      <th>City</th>\n",
       "      <th>Education</th>\n",
       "      <th>Income</th>\n",
       "      <th>Joining_Designation</th>\n",
       "      <th>Grade</th>\n",
       "      <th>Total_Business_Value</th>\n",
       "      <th>Last_Quarterly_Rating</th>\n",
       "      <th>Quarterly_Rating_Increased</th>\n",
       "      <th>target</th>\n",
       "      <th>Salary_Increased</th>\n",
       "    </tr>\n",
       "  </thead>\n",
       "  <tbody>\n",
       "    <tr>\n",
       "      <th>0</th>\n",
       "      <td>1</td>\n",
       "      <td>28.0</td>\n",
       "      <td>0.0</td>\n",
       "      <td>C23</td>\n",
       "      <td>2.0</td>\n",
       "      <td>57387.0</td>\n",
       "      <td>1.0</td>\n",
       "      <td>1.0</td>\n",
       "      <td>1715580.0</td>\n",
       "      <td>2.0</td>\n",
       "      <td>0</td>\n",
       "      <td>1</td>\n",
       "      <td>0</td>\n",
       "    </tr>\n",
       "    <tr>\n",
       "      <th>1</th>\n",
       "      <td>2</td>\n",
       "      <td>31.0</td>\n",
       "      <td>0.0</td>\n",
       "      <td>C7</td>\n",
       "      <td>2.0</td>\n",
       "      <td>67016.0</td>\n",
       "      <td>2.0</td>\n",
       "      <td>2.0</td>\n",
       "      <td>0.0</td>\n",
       "      <td>1.0</td>\n",
       "      <td>0</td>\n",
       "      <td>0</td>\n",
       "      <td>0</td>\n",
       "    </tr>\n",
       "    <tr>\n",
       "      <th>2</th>\n",
       "      <td>4</td>\n",
       "      <td>43.0</td>\n",
       "      <td>0.0</td>\n",
       "      <td>C13</td>\n",
       "      <td>2.0</td>\n",
       "      <td>65603.0</td>\n",
       "      <td>2.0</td>\n",
       "      <td>2.0</td>\n",
       "      <td>350000.0</td>\n",
       "      <td>1.0</td>\n",
       "      <td>0</td>\n",
       "      <td>1</td>\n",
       "      <td>0</td>\n",
       "    </tr>\n",
       "    <tr>\n",
       "      <th>3</th>\n",
       "      <td>5</td>\n",
       "      <td>29.0</td>\n",
       "      <td>0.0</td>\n",
       "      <td>C9</td>\n",
       "      <td>0.0</td>\n",
       "      <td>46368.0</td>\n",
       "      <td>1.0</td>\n",
       "      <td>1.0</td>\n",
       "      <td>120360.0</td>\n",
       "      <td>1.0</td>\n",
       "      <td>0</td>\n",
       "      <td>1</td>\n",
       "      <td>0</td>\n",
       "    </tr>\n",
       "    <tr>\n",
       "      <th>4</th>\n",
       "      <td>6</td>\n",
       "      <td>31.0</td>\n",
       "      <td>1.0</td>\n",
       "      <td>C11</td>\n",
       "      <td>1.0</td>\n",
       "      <td>78728.0</td>\n",
       "      <td>3.0</td>\n",
       "      <td>3.0</td>\n",
       "      <td>1265000.0</td>\n",
       "      <td>2.0</td>\n",
       "      <td>1</td>\n",
       "      <td>0</td>\n",
       "      <td>0</td>\n",
       "    </tr>\n",
       "  </tbody>\n",
       "</table>\n",
       "</div>"
      ],
      "text/plain": [
       "   Driver_ID   Age  Gender City  Education   Income  Joining_Designation  \\\n",
       "0          1  28.0     0.0  C23        2.0  57387.0                  1.0   \n",
       "1          2  31.0     0.0   C7        2.0  67016.0                  2.0   \n",
       "2          4  43.0     0.0  C13        2.0  65603.0                  2.0   \n",
       "3          5  29.0     0.0   C9        0.0  46368.0                  1.0   \n",
       "4          6  31.0     1.0  C11        1.0  78728.0                  3.0   \n",
       "\n",
       "   Grade  Total_Business_Value  Last_Quarterly_Rating  \\\n",
       "0    1.0             1715580.0                    2.0   \n",
       "1    2.0                   0.0                    1.0   \n",
       "2    2.0              350000.0                    1.0   \n",
       "3    1.0              120360.0                    1.0   \n",
       "4    3.0             1265000.0                    2.0   \n",
       "\n",
       "   Quarterly_Rating_Increased  target  Salary_Increased  \n",
       "0                           0       1                 0  \n",
       "1                           0       0                 0  \n",
       "2                           0       1                 0  \n",
       "3                           0       1                 0  \n",
       "4                           1       0                 0  "
      ]
     },
     "execution_count": 441,
     "metadata": {},
     "output_type": "execute_result"
    }
   ],
   "source": [
    "final_data.head()"
   ]
  },
  {
   "cell_type": "code",
   "execution_count": 442,
   "id": "e528850b",
   "metadata": {},
   "outputs": [
    {
     "data": {
      "text/plain": [
       "0    0.98194\n",
       "1    0.01806\n",
       "Name: Salary_Increased, dtype: float64"
      ]
     },
     "execution_count": 442,
     "metadata": {},
     "output_type": "execute_result"
    }
   ],
   "source": [
    "final_data[\"Salary_Increased\"].value_counts(normalize=True)"
   ]
  },
  {
   "cell_type": "markdown",
   "id": "036c0f04",
   "metadata": {},
   "source": [
    "- Around 1.8% drivers income have been increased."
   ]
  },
  {
   "cell_type": "markdown",
   "id": "d1c78614",
   "metadata": {},
   "source": [
    "# Statistical Summary"
   ]
  },
  {
   "cell_type": "code",
   "execution_count": 443,
   "id": "f885eff4",
   "metadata": {},
   "outputs": [
    {
     "data": {
      "text/html": [
       "<div>\n",
       "<style scoped>\n",
       "    .dataframe tbody tr th:only-of-type {\n",
       "        vertical-align: middle;\n",
       "    }\n",
       "\n",
       "    .dataframe tbody tr th {\n",
       "        vertical-align: top;\n",
       "    }\n",
       "\n",
       "    .dataframe thead th {\n",
       "        text-align: right;\n",
       "    }\n",
       "</style>\n",
       "<table border=\"1\" class=\"dataframe\">\n",
       "  <thead>\n",
       "    <tr style=\"text-align: right;\">\n",
       "      <th></th>\n",
       "      <th>count</th>\n",
       "      <th>mean</th>\n",
       "      <th>std</th>\n",
       "      <th>min</th>\n",
       "      <th>25%</th>\n",
       "      <th>50%</th>\n",
       "      <th>75%</th>\n",
       "      <th>max</th>\n",
       "    </tr>\n",
       "  </thead>\n",
       "  <tbody>\n",
       "    <tr>\n",
       "      <th>Driver_ID</th>\n",
       "      <td>2381.0</td>\n",
       "      <td>1.397559e+03</td>\n",
       "      <td>8.061616e+02</td>\n",
       "      <td>1.0</td>\n",
       "      <td>695.0</td>\n",
       "      <td>1400.0</td>\n",
       "      <td>2100.0</td>\n",
       "      <td>2788.0</td>\n",
       "    </tr>\n",
       "    <tr>\n",
       "      <th>Age</th>\n",
       "      <td>2381.0</td>\n",
       "      <td>3.377018e+01</td>\n",
       "      <td>5.933265e+00</td>\n",
       "      <td>21.0</td>\n",
       "      <td>30.0</td>\n",
       "      <td>33.0</td>\n",
       "      <td>37.0</td>\n",
       "      <td>58.0</td>\n",
       "    </tr>\n",
       "    <tr>\n",
       "      <th>Gender</th>\n",
       "      <td>2381.0</td>\n",
       "      <td>4.105838e-01</td>\n",
       "      <td>4.914963e-01</td>\n",
       "      <td>0.0</td>\n",
       "      <td>0.0</td>\n",
       "      <td>0.0</td>\n",
       "      <td>1.0</td>\n",
       "      <td>1.0</td>\n",
       "    </tr>\n",
       "    <tr>\n",
       "      <th>Education</th>\n",
       "      <td>2381.0</td>\n",
       "      <td>1.007560e+00</td>\n",
       "      <td>8.162900e-01</td>\n",
       "      <td>0.0</td>\n",
       "      <td>0.0</td>\n",
       "      <td>1.0</td>\n",
       "      <td>2.0</td>\n",
       "      <td>2.0</td>\n",
       "    </tr>\n",
       "    <tr>\n",
       "      <th>Income</th>\n",
       "      <td>2381.0</td>\n",
       "      <td>5.933416e+04</td>\n",
       "      <td>2.838367e+04</td>\n",
       "      <td>10747.0</td>\n",
       "      <td>39104.0</td>\n",
       "      <td>55315.0</td>\n",
       "      <td>75986.0</td>\n",
       "      <td>188418.0</td>\n",
       "    </tr>\n",
       "    <tr>\n",
       "      <th>Joining_Designation</th>\n",
       "      <td>2381.0</td>\n",
       "      <td>1.820244e+00</td>\n",
       "      <td>8.414334e-01</td>\n",
       "      <td>1.0</td>\n",
       "      <td>1.0</td>\n",
       "      <td>2.0</td>\n",
       "      <td>2.0</td>\n",
       "      <td>5.0</td>\n",
       "    </tr>\n",
       "    <tr>\n",
       "      <th>Grade</th>\n",
       "      <td>2381.0</td>\n",
       "      <td>2.096598e+00</td>\n",
       "      <td>9.415218e-01</td>\n",
       "      <td>1.0</td>\n",
       "      <td>1.0</td>\n",
       "      <td>2.0</td>\n",
       "      <td>3.0</td>\n",
       "      <td>5.0</td>\n",
       "    </tr>\n",
       "    <tr>\n",
       "      <th>Total_Business_Value</th>\n",
       "      <td>2381.0</td>\n",
       "      <td>4.586742e+06</td>\n",
       "      <td>9.127115e+06</td>\n",
       "      <td>-1385530.0</td>\n",
       "      <td>0.0</td>\n",
       "      <td>817680.0</td>\n",
       "      <td>4173650.0</td>\n",
       "      <td>95331060.0</td>\n",
       "    </tr>\n",
       "    <tr>\n",
       "      <th>Last_Quarterly_Rating</th>\n",
       "      <td>2381.0</td>\n",
       "      <td>1.427971e+00</td>\n",
       "      <td>8.098389e-01</td>\n",
       "      <td>1.0</td>\n",
       "      <td>1.0</td>\n",
       "      <td>1.0</td>\n",
       "      <td>2.0</td>\n",
       "      <td>4.0</td>\n",
       "    </tr>\n",
       "    <tr>\n",
       "      <th>Quarterly_Rating_Increased</th>\n",
       "      <td>2381.0</td>\n",
       "      <td>1.503570e-01</td>\n",
       "      <td>3.574961e-01</td>\n",
       "      <td>0.0</td>\n",
       "      <td>0.0</td>\n",
       "      <td>0.0</td>\n",
       "      <td>0.0</td>\n",
       "      <td>1.0</td>\n",
       "    </tr>\n",
       "    <tr>\n",
       "      <th>target</th>\n",
       "      <td>2381.0</td>\n",
       "      <td>6.787064e-01</td>\n",
       "      <td>4.670713e-01</td>\n",
       "      <td>0.0</td>\n",
       "      <td>0.0</td>\n",
       "      <td>1.0</td>\n",
       "      <td>1.0</td>\n",
       "      <td>1.0</td>\n",
       "    </tr>\n",
       "    <tr>\n",
       "      <th>Salary_Increased</th>\n",
       "      <td>2381.0</td>\n",
       "      <td>1.805964e-02</td>\n",
       "      <td>1.331951e-01</td>\n",
       "      <td>0.0</td>\n",
       "      <td>0.0</td>\n",
       "      <td>0.0</td>\n",
       "      <td>0.0</td>\n",
       "      <td>1.0</td>\n",
       "    </tr>\n",
       "  </tbody>\n",
       "</table>\n",
       "</div>"
      ],
      "text/plain": [
       "                             count          mean           std        min  \\\n",
       "Driver_ID                   2381.0  1.397559e+03  8.061616e+02        1.0   \n",
       "Age                         2381.0  3.377018e+01  5.933265e+00       21.0   \n",
       "Gender                      2381.0  4.105838e-01  4.914963e-01        0.0   \n",
       "Education                   2381.0  1.007560e+00  8.162900e-01        0.0   \n",
       "Income                      2381.0  5.933416e+04  2.838367e+04    10747.0   \n",
       "Joining_Designation         2381.0  1.820244e+00  8.414334e-01        1.0   \n",
       "Grade                       2381.0  2.096598e+00  9.415218e-01        1.0   \n",
       "Total_Business_Value        2381.0  4.586742e+06  9.127115e+06 -1385530.0   \n",
       "Last_Quarterly_Rating       2381.0  1.427971e+00  8.098389e-01        1.0   \n",
       "Quarterly_Rating_Increased  2381.0  1.503570e-01  3.574961e-01        0.0   \n",
       "target                      2381.0  6.787064e-01  4.670713e-01        0.0   \n",
       "Salary_Increased            2381.0  1.805964e-02  1.331951e-01        0.0   \n",
       "\n",
       "                                25%       50%        75%         max  \n",
       "Driver_ID                     695.0    1400.0     2100.0      2788.0  \n",
       "Age                            30.0      33.0       37.0        58.0  \n",
       "Gender                          0.0       0.0        1.0         1.0  \n",
       "Education                       0.0       1.0        2.0         2.0  \n",
       "Income                      39104.0   55315.0    75986.0    188418.0  \n",
       "Joining_Designation             1.0       2.0        2.0         5.0  \n",
       "Grade                           1.0       2.0        3.0         5.0  \n",
       "Total_Business_Value            0.0  817680.0  4173650.0  95331060.0  \n",
       "Last_Quarterly_Rating           1.0       1.0        2.0         4.0  \n",
       "Quarterly_Rating_Increased      0.0       0.0        0.0         1.0  \n",
       "target                          0.0       1.0        1.0         1.0  \n",
       "Salary_Increased                0.0       0.0        0.0         1.0  "
      ]
     },
     "execution_count": 443,
     "metadata": {},
     "output_type": "execute_result"
    }
   ],
   "source": [
    "final_data.describe().T"
   ]
  },
  {
   "cell_type": "markdown",
   "id": "b456d3b2",
   "metadata": {},
   "source": [
    "- There are total of 2831 different drivers data.\n",
    "- Age of drivers range from 21years to 58years.\n",
    "- 75% drivers monthly income is <= 75986.\n",
    "- 75% drivers acquired 4173650 as total business values."
   ]
  },
  {
   "cell_type": "code",
   "execution_count": 444,
   "id": "3712fb2c",
   "metadata": {},
   "outputs": [
    {
     "data": {
      "text/html": [
       "<div>\n",
       "<style scoped>\n",
       "    .dataframe tbody tr th:only-of-type {\n",
       "        vertical-align: middle;\n",
       "    }\n",
       "\n",
       "    .dataframe tbody tr th {\n",
       "        vertical-align: top;\n",
       "    }\n",
       "\n",
       "    .dataframe thead th {\n",
       "        text-align: right;\n",
       "    }\n",
       "</style>\n",
       "<table border=\"1\" class=\"dataframe\">\n",
       "  <thead>\n",
       "    <tr style=\"text-align: right;\">\n",
       "      <th></th>\n",
       "      <th>City</th>\n",
       "    </tr>\n",
       "  </thead>\n",
       "  <tbody>\n",
       "    <tr>\n",
       "      <th>count</th>\n",
       "      <td>2381</td>\n",
       "    </tr>\n",
       "    <tr>\n",
       "      <th>unique</th>\n",
       "      <td>29</td>\n",
       "    </tr>\n",
       "    <tr>\n",
       "      <th>top</th>\n",
       "      <td>C20</td>\n",
       "    </tr>\n",
       "    <tr>\n",
       "      <th>freq</th>\n",
       "      <td>152</td>\n",
       "    </tr>\n",
       "  </tbody>\n",
       "</table>\n",
       "</div>"
      ],
      "text/plain": [
       "        City\n",
       "count   2381\n",
       "unique    29\n",
       "top      C20\n",
       "freq     152"
      ]
     },
     "execution_count": 444,
     "metadata": {},
     "output_type": "execute_result"
    }
   ],
   "source": [
    "final_data.describe(include = 'object')"
   ]
  },
  {
   "cell_type": "markdown",
   "id": "44befe0a",
   "metadata": {},
   "source": [
    "- Majority of drivers are coming from C20 city"
   ]
  },
  {
   "cell_type": "code",
   "execution_count": 445,
   "id": "e1caae57",
   "metadata": {},
   "outputs": [
    {
     "data": {
      "text/plain": [
       "0.0    1400\n",
       "1.0     975\n",
       "0.6       3\n",
       "0.2       2\n",
       "0.4       1\n",
       "Name: Gender, dtype: int64"
      ]
     },
     "execution_count": 445,
     "metadata": {},
     "output_type": "execute_result"
    }
   ],
   "source": [
    "final_data[\"Gender\"].value_counts()"
   ]
  },
  {
   "cell_type": "markdown",
   "id": "558df99f",
   "metadata": {},
   "source": [
    "- Mojority of drivers are male"
   ]
  },
  {
   "cell_type": "code",
   "execution_count": 446,
   "id": "66608a6f",
   "metadata": {},
   "outputs": [
    {
     "data": {
      "text/plain": [
       "2.0    802\n",
       "1.0    795\n",
       "0.0    784\n",
       "Name: Education, dtype: int64"
      ]
     },
     "execution_count": 446,
     "metadata": {},
     "output_type": "execute_result"
    }
   ],
   "source": [
    "final_data[\"Education\"].value_counts()"
   ]
  },
  {
   "cell_type": "markdown",
   "id": "072018f0",
   "metadata": {},
   "source": [
    "- Majority of drivers have completed their graduation."
   ]
  },
  {
   "cell_type": "code",
   "execution_count": 447,
   "id": "b4113f4b",
   "metadata": {},
   "outputs": [
    {
     "data": {
      "text/plain": [
       "1    1616\n",
       "0     765\n",
       "Name: target, dtype: int64"
      ]
     },
     "execution_count": 447,
     "metadata": {},
     "output_type": "execute_result"
    }
   ],
   "source": [
    "final_data[\"target\"].value_counts()"
   ]
  },
  {
   "cell_type": "markdown",
   "id": "2505e313",
   "metadata": {},
   "source": [
    "- Out of 2381 drivers 1616 have left the company."
   ]
  },
  {
   "cell_type": "code",
   "execution_count": 448,
   "id": "c087e3c0",
   "metadata": {
    "scrolled": false
   },
   "outputs": [
    {
     "name": "stdout",
     "output_type": "stream",
     "text": [
      "------------------------------------------------------------\n",
      "0.0    58.798824\n",
      "1.0    40.949181\n",
      "0.6     0.125997\n",
      "0.2     0.083998\n",
      "0.4     0.041999\n",
      "Name: Gender, dtype: float64\n",
      "------------------------------------------------------------\n",
      "2.0    33.683326\n",
      "1.0    33.389332\n",
      "0.0    32.927341\n",
      "Name: Education, dtype: float64\n",
      "------------------------------------------------------------\n",
      "1.0    43.091138\n",
      "2.0    34.229315\n",
      "3.0    20.705586\n",
      "4.0     1.511970\n",
      "5.0     0.461991\n",
      "Name: Joining_Designation, dtype: float64\n",
      "------------------------------------------------------------\n",
      "2.0    35.909282\n",
      "1.0    31.121378\n",
      "3.0    26.165477\n",
      "4.0     5.795884\n",
      "5.0     1.007980\n",
      "Name: Grade, dtype: float64\n",
      "------------------------------------------------------------\n",
      "1.0    73.246535\n",
      "2.0    15.203696\n",
      "3.0     7.055859\n",
      "4.0     4.493910\n",
      "Name: Last_Quarterly_Rating, dtype: float64\n",
      "------------------------------------------------------------\n",
      "0    84.964301\n",
      "1    15.035699\n",
      "Name: Quarterly_Rating_Increased, dtype: float64\n"
     ]
    }
   ],
   "source": [
    "n = ['Gender','Education','Joining_Designation','Grade','Last_Quarterly_Rating','Quarterly_Rating_Increased']\n",
    "\n",
    "for i in n:\n",
    "    print(\"------------------------------------------------------------\")\n",
    "    print(final_data[i].value_counts(normalize=True) * 100)"
   ]
  },
  {
   "cell_type": "markdown",
   "id": "90269a59",
   "metadata": {},
   "source": [
    "- 58% of drivers are male while female constitutes around 40%\n",
    "- 33% of drivers have completed graduation and 12+ education\n",
    "- 43% of drivers have 1 as joining_designation\n",
    "- Around 36% of drivers graded as 2\n",
    "- Around 73% of drivers rated as 1 on last quarter\n",
    "- Only 15% of drivers rating has been increased on quarterly"
   ]
  },
  {
   "cell_type": "markdown",
   "id": "41485c76",
   "metadata": {},
   "source": [
    "# Univariate Analysis"
   ]
  },
  {
   "cell_type": "code",
   "execution_count": 449,
   "id": "9c55f588",
   "metadata": {},
   "outputs": [
    {
     "data": {
      "image/png": "[encoded data removed]",
      "text/plain": [
       "<Figure size 1080x1080 with 8 Axes>"
      ]
     },
     "metadata": {
      "needs_background": "light"
     },
     "output_type": "display_data"
    }
   ],
   "source": [
    "plt.figure(figsize=(15, 15))\n",
    "plt.subplot(421)\n",
    "sns.countplot(data=final_data, x=\"Gender\")\n",
    "# final_data[\"Gender\"].value_counts(normalize=True).plot.bar('Gender')\n",
    "\n",
    "plt.subplot(422)\n",
    "sns.countplot(data=final_data, x=\"City\")\n",
    "plt.xticks(rotation=\"45\")\n",
    "\n",
    "plt.subplot(423)\n",
    "sns.countplot(data=final_data, x=\"Joining_Designation\")\n",
    "\n",
    "plt.subplot(424)\n",
    "sns.countplot(data=final_data, x=\"Education\")\n",
    "\n",
    "plt.subplot(425)\n",
    "sns.countplot(data=final_data, x=\"Grade\")\n",
    "\n",
    "plt.subplot(426)\n",
    "sns.countplot(data=final_data, x=\"Last_Quarterly_Rating\")\n",
    "\n",
    "plt.subplot(427)\n",
    "sns.countplot(data=final_data, x=\"Quarterly_Rating_Increased\")\n",
    "\n",
    "plt.subplot(428)\n",
    "sns.countplot(data=final_data, x=\"Salary_Increased\")\n",
    "\n",
    "plt.tight_layout()"
   ]
  },
  {
   "cell_type": "markdown",
   "id": "dcf3cbb9",
   "metadata": {},
   "source": [
    "**Insights**\n",
    "\n",
    "- Out of 2381 employees, 1404 employees are of the Male gender and 977 are females.\n",
    "- Out of 2381 employees, 152 employees are from city C20 and 101 from city C15.\n",
    "- Out of 2381 employees, 802 employees have their education as Graduate and 795 have completed their 12.\n",
    "- Out of 2381 employees, 1026 joined with the grade as 1, 815 employees joined with the grade 2.\n",
    "- Out of 2381 employees, 855 employees had their designation as 2 at the time of reporting.\n",
    "- Out of 2381 employees, 1744 employees had their last quarterly rating as 1.\n",
    "- Out of 2381 employees, the quarterly rating has not increased for 2076 employees."
   ]
  },
  {
   "cell_type": "code",
   "execution_count": 450,
   "id": "ae332880",
   "metadata": {
    "scrolled": true
   },
   "outputs": [
    {
     "data": {
      "image/png": "[encoded data removed]",
      "text/plain": [
       "<Figure size 1080x360 with 2 Axes>"
      ]
     },
     "metadata": {
      "needs_background": "light"
     },
     "output_type": "display_data"
    }
   ],
   "source": [
    "plt.subplots(figsize=(15,5))\n",
    "plt.subplot(121)\n",
    "sns.histplot(final_data['Age'],color='black', kde=True)\n",
    "plt.title(\"Age of drivers\")\n",
    "plt.subplot(122)\n",
    "final_data['Age'].plot.box(title='Boxplot of Age')\n",
    "plt.tight_layout(pad=3)"
   ]
  },
  {
   "cell_type": "markdown",
   "id": "8b351fcb",
   "metadata": {},
   "source": [
    "**Insights**\n",
    "\n",
    "- The distribution of age slightly skewed on right which might indicate the outliers in the data"
   ]
  },
  {
   "cell_type": "code",
   "execution_count": 451,
   "id": "7df0c9c8",
   "metadata": {},
   "outputs": [
    {
     "data": {
      "image/png": "[encoded data removed]",
      "text/plain": [
       "<Figure size 1080x360 with 2 Axes>"
      ]
     },
     "metadata": {
      "needs_background": "light"
     },
     "output_type": "display_data"
    }
   ],
   "source": [
    "plt.subplots(figsize=(15,5))\n",
    "plt.subplot(121)\n",
    "sns.histplot(final_data['Income'],color='black', kde=True)\n",
    "plt.title(\"Monthly Income of drivers\")\n",
    "plt.subplot(122)\n",
    "final_data['Income'].plot.box(title='Boxplot of Income')\n",
    "plt.tight_layout(pad=3)"
   ]
  },
  {
   "cell_type": "markdown",
   "id": "13e71eb8",
   "metadata": {},
   "source": [
    "**Insights**\n",
    "\n",
    "- The distribution of monthly income skewed on right which might indicate the outliers in the data"
   ]
  },
  {
   "cell_type": "code",
   "execution_count": 452,
   "id": "487a79a7",
   "metadata": {},
   "outputs": [
    {
     "data": {
      "image/png": "[encoded data removed]",
      "text/plain": [
       "<Figure size 1080x360 with 2 Axes>"
      ]
     },
     "metadata": {
      "needs_background": "light"
     },
     "output_type": "display_data"
    }
   ],
   "source": [
    "plt.subplots(figsize=(15,5))\n",
    "plt.subplot(121)\n",
    "sns.histplot(final_data['Total_Business_Value'],color='black', kde=True, bins=20)\n",
    "plt.title(\"Total_Business_Value of drivers\")\n",
    "plt.subplot(122)\n",
    "final_data['Total_Business_Value'].plot.box(title='Boxplot of Total_Business_Value')\n",
    "plt.tight_layout(pad=3)"
   ]
  },
  {
   "cell_type": "markdown",
   "id": "b276ef30",
   "metadata": {},
   "source": [
    "**Insights**\n",
    "\n",
    "- The distribution of total business value highly skewed on right which might indicate the outliers in the data"
   ]
  },
  {
   "cell_type": "markdown",
   "id": "597db4cf",
   "metadata": {},
   "source": [
    "# Bi-Variate Analysis"
   ]
  },
  {
   "cell_type": "code",
   "execution_count": 453,
   "id": "66cccdd6",
   "metadata": {},
   "outputs": [
    {
     "data": {
      "image/png": "[encoded data removed]",
      "text/plain": [
       "<Figure size 720x1440 with 7 Axes>"
      ]
     },
     "metadata": {
      "needs_background": "light"
     },
     "output_type": "display_data"
    }
   ],
   "source": [
    "plt.figure(figsize=(10,20))\n",
    "\n",
    "plt.subplot(421)\n",
    "sns.barplot(data=final_data, x=\"target\", y=\"Age\")\n",
    "plt.title(\"Age vs Churn\")\n",
    "\n",
    "plt.subplot(422)\n",
    "sns.barplot(data=final_data, x=\"target\", y=\"Education\")\n",
    "plt.title(\"Education vs Churn\")\n",
    "\n",
    "plt.subplot(423)\n",
    "sns.barplot(data=final_data, x=\"target\", y=\"Gender\")\n",
    "plt.title(\"Gender vs Churn\")\n",
    "\n",
    "plt.subplot(425)\n",
    "sns.barplot(data=final_data, x=\"target\", y=\"Grade\")\n",
    "plt.title(\"Grade vs Churn\")\n",
    "\n",
    "plt.subplot(426)\n",
    "sns.barplot(data=final_data, x=\"target\", y=\"Joining_Designation\")\n",
    "plt.title(\"Joining_Designation vs Churn\")\n",
    "\n",
    "plt.subplot(427)\n",
    "sns.barplot(data=final_data, x=\"target\", y=\"Salary_Increased\")\n",
    "plt.title(\"Salary_Increased vs Churn\")\n",
    "\n",
    "plt.subplot(428)\n",
    "sns.barplot(data=final_data, x=\"target\", y=\"Quarterly_Rating_Increased\")\n",
    "plt.title(\"Quarterly_Rating_Increased vs Churn\")\n",
    "\n",
    "plt.tight_layout(pad=3)"
   ]
  },
  {
   "cell_type": "markdown",
   "id": "f4e2e1cd",
   "metadata": {},
   "source": [
    "**Insights**\n",
    "\n",
    "- The proportion of Age, gender and education is more or less the same for both the employees who left the organization and those who did not leave.\n",
    "- The employees who have their grade as 3 or 4 at the time of joining are less likely to leave the organization.\n",
    "- The employees whose quarterly rating has increased are less likely to leave the organization.\n",
    "- The employees whose monthly salary has not increased are more likely to leave the organization."
   ]
  },
  {
   "cell_type": "markdown",
   "id": "633485b2",
   "metadata": {},
   "source": [
    "# Correlation Analysis"
   ]
  },
  {
   "cell_type": "code",
   "execution_count": 454,
   "id": "8190e814",
   "metadata": {},
   "outputs": [
    {
     "data": {
      "image/png": "[encoded data removed]",
      "text/plain": [
       "<Figure size 1080x504 with 2 Axes>"
      ]
     },
     "metadata": {
      "needs_background": "light"
     },
     "output_type": "display_data"
    }
   ],
   "source": [
    "plt.figure(figsize=(15, 7))\n",
    "\n",
    "sns.heatmap(final_data.corr(method=\"pearson\"), annot=True, cmap=\"crest\")\n",
    "plt.show()"
   ]
  },
  {
   "cell_type": "markdown",
   "id": "f7a15f39",
   "metadata": {},
   "source": [
    "**Insights**\n",
    "- Income and Grade is highly correlated\n",
    "- Joining Designation and Grade is highly correlated\n",
    "- Total Business value and salary increament is correlated"
   ]
  },
  {
   "cell_type": "markdown",
   "id": "1e6dbf0b",
   "metadata": {},
   "source": [
    "# One-Hot Encoding"
   ]
  },
  {
   "cell_type": "markdown",
   "id": "aebdf276",
   "metadata": {},
   "source": [
    "**As there is only one categorical values in our dataset. We will opt one hot encoder to convert it to numerical.**"
   ]
  },
  {
   "cell_type": "code",
   "execution_count": 455,
   "id": "20435905",
   "metadata": {},
   "outputs": [],
   "source": [
    "final_data = pd.concat([final_data, final_data['City']], axis=1)"
   ]
  },
  {
   "cell_type": "code",
   "execution_count": 456,
   "id": "aa848f74",
   "metadata": {},
   "outputs": [
    {
     "data": {
      "text/plain": [
       "(2381, 14)"
      ]
     },
     "execution_count": 456,
     "metadata": {},
     "output_type": "execute_result"
    }
   ],
   "source": [
    "final_data.shape"
   ]
  },
  {
   "cell_type": "markdown",
   "id": "f1fcee7f",
   "metadata": {},
   "source": [
    "# Standardization (for training data)"
   ]
  },
  {
   "cell_type": "code",
   "execution_count": 457,
   "id": "f61d20db",
   "metadata": {},
   "outputs": [],
   "source": [
    "X = final_data.drop([\"Driver_ID\", \"target\", \"City\"], axis = 1)\n",
    "X_cols = X.columns\n",
    "scaler = MinMaxScaler()\n",
    "\n",
    "X = scaler.fit_transform(X)"
   ]
  },
  {
   "cell_type": "code",
   "execution_count": 458,
   "id": "28b700dc",
   "metadata": {},
   "outputs": [
    {
     "data": {
      "text/html": [
       "<div>\n",
       "<style scoped>\n",
       "    .dataframe tbody tr th:only-of-type {\n",
       "        vertical-align: middle;\n",
       "    }\n",
       "\n",
       "    .dataframe tbody tr th {\n",
       "        vertical-align: top;\n",
       "    }\n",
       "\n",
       "    .dataframe thead th {\n",
       "        text-align: right;\n",
       "    }\n",
       "</style>\n",
       "<table border=\"1\" class=\"dataframe\">\n",
       "  <thead>\n",
       "    <tr style=\"text-align: right;\">\n",
       "      <th></th>\n",
       "      <th>Age</th>\n",
       "      <th>Gender</th>\n",
       "      <th>Education</th>\n",
       "      <th>Income</th>\n",
       "      <th>Joining_Designation</th>\n",
       "      <th>Grade</th>\n",
       "      <th>Total_Business_Value</th>\n",
       "      <th>Last_Quarterly_Rating</th>\n",
       "      <th>Quarterly_Rating_Increased</th>\n",
       "      <th>Salary_Increased</th>\n",
       "    </tr>\n",
       "  </thead>\n",
       "  <tbody>\n",
       "    <tr>\n",
       "      <th>0</th>\n",
       "      <td>0.189189</td>\n",
       "      <td>0.0</td>\n",
       "      <td>1.0</td>\n",
       "      <td>0.262508</td>\n",
       "      <td>0.00</td>\n",
       "      <td>0.00</td>\n",
       "      <td>0.032064</td>\n",
       "      <td>0.333333</td>\n",
       "      <td>0.0</td>\n",
       "      <td>0.0</td>\n",
       "    </tr>\n",
       "    <tr>\n",
       "      <th>1</th>\n",
       "      <td>0.270270</td>\n",
       "      <td>0.0</td>\n",
       "      <td>1.0</td>\n",
       "      <td>0.316703</td>\n",
       "      <td>0.25</td>\n",
       "      <td>0.25</td>\n",
       "      <td>0.014326</td>\n",
       "      <td>0.000000</td>\n",
       "      <td>0.0</td>\n",
       "      <td>0.0</td>\n",
       "    </tr>\n",
       "    <tr>\n",
       "      <th>2</th>\n",
       "      <td>0.594595</td>\n",
       "      <td>0.0</td>\n",
       "      <td>1.0</td>\n",
       "      <td>0.308750</td>\n",
       "      <td>0.25</td>\n",
       "      <td>0.25</td>\n",
       "      <td>0.017944</td>\n",
       "      <td>0.000000</td>\n",
       "      <td>0.0</td>\n",
       "      <td>0.0</td>\n",
       "    </tr>\n",
       "    <tr>\n",
       "      <th>3</th>\n",
       "      <td>0.216216</td>\n",
       "      <td>0.0</td>\n",
       "      <td>0.0</td>\n",
       "      <td>0.200489</td>\n",
       "      <td>0.00</td>\n",
       "      <td>0.00</td>\n",
       "      <td>0.015570</td>\n",
       "      <td>0.000000</td>\n",
       "      <td>0.0</td>\n",
       "      <td>0.0</td>\n",
       "    </tr>\n",
       "    <tr>\n",
       "      <th>4</th>\n",
       "      <td>0.270270</td>\n",
       "      <td>1.0</td>\n",
       "      <td>0.5</td>\n",
       "      <td>0.382623</td>\n",
       "      <td>0.50</td>\n",
       "      <td>0.50</td>\n",
       "      <td>0.027405</td>\n",
       "      <td>0.333333</td>\n",
       "      <td>1.0</td>\n",
       "      <td>0.0</td>\n",
       "    </tr>\n",
       "    <tr>\n",
       "      <th>...</th>\n",
       "      <td>...</td>\n",
       "      <td>...</td>\n",
       "      <td>...</td>\n",
       "      <td>...</td>\n",
       "      <td>...</td>\n",
       "      <td>...</td>\n",
       "      <td>...</td>\n",
       "      <td>...</td>\n",
       "      <td>...</td>\n",
       "      <td>...</td>\n",
       "    </tr>\n",
       "    <tr>\n",
       "      <th>2376</th>\n",
       "      <td>0.351351</td>\n",
       "      <td>0.0</td>\n",
       "      <td>0.0</td>\n",
       "      <td>0.405626</td>\n",
       "      <td>0.25</td>\n",
       "      <td>0.50</td>\n",
       "      <td>0.239197</td>\n",
       "      <td>1.000000</td>\n",
       "      <td>1.0</td>\n",
       "      <td>0.0</td>\n",
       "    </tr>\n",
       "    <tr>\n",
       "      <th>2377</th>\n",
       "      <td>0.351351</td>\n",
       "      <td>1.0</td>\n",
       "      <td>0.0</td>\n",
       "      <td>0.007643</td>\n",
       "      <td>0.00</td>\n",
       "      <td>0.00</td>\n",
       "      <td>0.014326</td>\n",
       "      <td>0.000000</td>\n",
       "      <td>0.0</td>\n",
       "      <td>0.0</td>\n",
       "    </tr>\n",
       "    <tr>\n",
       "      <th>2378</th>\n",
       "      <td>0.648649</td>\n",
       "      <td>0.0</td>\n",
       "      <td>0.0</td>\n",
       "      <td>0.138588</td>\n",
       "      <td>0.25</td>\n",
       "      <td>0.25</td>\n",
       "      <td>0.043432</td>\n",
       "      <td>0.000000</td>\n",
       "      <td>0.0</td>\n",
       "      <td>0.0</td>\n",
       "    </tr>\n",
       "    <tr>\n",
       "      <th>2379</th>\n",
       "      <td>0.189189</td>\n",
       "      <td>1.0</td>\n",
       "      <td>1.0</td>\n",
       "      <td>0.330673</td>\n",
       "      <td>0.00</td>\n",
       "      <td>0.00</td>\n",
       "      <td>0.024436</td>\n",
       "      <td>0.000000</td>\n",
       "      <td>0.0</td>\n",
       "      <td>0.0</td>\n",
       "    </tr>\n",
       "    <tr>\n",
       "      <th>2380</th>\n",
       "      <td>0.243243</td>\n",
       "      <td>0.0</td>\n",
       "      <td>1.0</td>\n",
       "      <td>0.334928</td>\n",
       "      <td>0.25</td>\n",
       "      <td>0.25</td>\n",
       "      <td>0.038088</td>\n",
       "      <td>0.333333</td>\n",
       "      <td>1.0</td>\n",
       "      <td>0.0</td>\n",
       "    </tr>\n",
       "  </tbody>\n",
       "</table>\n",
       "<p>2381 rows × 10 columns</p>\n",
       "</div>"
      ],
      "text/plain": [
       "           Age  Gender  Education    Income  Joining_Designation  Grade  \\\n",
       "0     0.189189     0.0        1.0  0.262508                 0.00   0.00   \n",
       "1     0.270270     0.0        1.0  0.316703                 0.25   0.25   \n",
       "2     0.594595     0.0        1.0  0.308750                 0.25   0.25   \n",
       "3     0.216216     0.0        0.0  0.200489                 0.00   0.00   \n",
       "4     0.270270     1.0        0.5  0.382623                 0.50   0.50   \n",
       "...        ...     ...        ...       ...                  ...    ...   \n",
       "2376  0.351351     0.0        0.0  0.405626                 0.25   0.50   \n",
       "2377  0.351351     1.0        0.0  0.007643                 0.00   0.00   \n",
       "2378  0.648649     0.0        0.0  0.138588                 0.25   0.25   \n",
       "2379  0.189189     1.0        1.0  0.330673                 0.00   0.00   \n",
       "2380  0.243243     0.0        1.0  0.334928                 0.25   0.25   \n",
       "\n",
       "      Total_Business_Value  Last_Quarterly_Rating  Quarterly_Rating_Increased  \\\n",
       "0                 0.032064               0.333333                         0.0   \n",
       "1                 0.014326               0.000000                         0.0   \n",
       "2                 0.017944               0.000000                         0.0   \n",
       "3                 0.015570               0.000000                         0.0   \n",
       "4                 0.027405               0.333333                         1.0   \n",
       "...                    ...                    ...                         ...   \n",
       "2376              0.239197               1.000000                         1.0   \n",
       "2377              0.014326               0.000000                         0.0   \n",
       "2378              0.043432               0.000000                         0.0   \n",
       "2379              0.024436               0.000000                         0.0   \n",
       "2380              0.038088               0.333333                         1.0   \n",
       "\n",
       "      Salary_Increased  \n",
       "0                  0.0  \n",
       "1                  0.0  \n",
       "2                  0.0  \n",
       "3                  0.0  \n",
       "4                  0.0  \n",
       "...                ...  \n",
       "2376               0.0  \n",
       "2377               0.0  \n",
       "2378               0.0  \n",
       "2379               0.0  \n",
       "2380               0.0  \n",
       "\n",
       "[2381 rows x 10 columns]"
      ]
     },
     "execution_count": 458,
     "metadata": {},
     "output_type": "execute_result"
    }
   ],
   "source": [
    "X = pd.DataFrame(X)\n",
    "\n",
    "X.columns = X_cols\n",
    "\n",
    "X"
   ]
  },
  {
   "cell_type": "markdown",
   "id": "f9656b01",
   "metadata": {},
   "source": [
    "# Train & Test Split"
   ]
  },
  {
   "cell_type": "code",
   "execution_count": 459,
   "id": "c1227098",
   "metadata": {},
   "outputs": [],
   "source": [
    "y = final_data[\"target\"]\n",
    "\n",
    "X_train, X_test, y_train, y_test = train_test_split(X, y, test_size=0.2, random_state=7, shuffle=True)"
   ]
  },
  {
   "cell_type": "code",
   "execution_count": 460,
   "id": "a87735c5",
   "metadata": {},
   "outputs": [
    {
     "name": "stdout",
     "output_type": "stream",
     "text": [
      "X_train Shape:  (1904, 10)\n",
      "X_test Shape:  (477, 10)\n",
      "y_train Shape:  (1904,)\n",
      "y_test Shape:  (477,)\n"
     ]
    }
   ],
   "source": [
    "print(\"X_train Shape: \", X_train.shape)\n",
    "print(\"X_test Shape: \", X_test.shape)\n",
    "print(\"y_train Shape: \", y_train.shape)\n",
    "print(\"y_test Shape: \", y_test.shape)"
   ]
  },
  {
   "cell_type": "markdown",
   "id": "196a52d4",
   "metadata": {},
   "source": [
    "# Random Forest Classifier - Before Balancing"
   ]
  },
  {
   "cell_type": "markdown",
   "id": "482228dd",
   "metadata": {},
   "source": [
    "**Keeping max_depth small to avoid overfitting**"
   ]
  },
  {
   "cell_type": "code",
   "execution_count": 461,
   "id": "0f592c00",
   "metadata": {},
   "outputs": [
    {
     "name": "stdout",
     "output_type": "stream",
     "text": [
      "Fitting 3 folds for each of 12 candidates, totalling 36 fits\n",
      "Best Params:  {'max_depth': 4, 'n_estimators': 100}\n",
      "Best Score:  0.862861633218953\n",
      "\n",
      "Elapsed Time:  5.860330104827881\n"
     ]
    }
   ],
   "source": [
    "params = {\n",
    "    \"max_depth\": [2, 3, 4],\n",
    "    \"n_estimators\": [50, 100, 150, 200],\n",
    "}\n",
    "\n",
    "start_time = time.time()\n",
    "random_forest = RandomForestClassifier(class_weight=\"balanced\")\n",
    "c = GridSearchCV(estimator=random_forest, param_grid=params, n_jobs=-1, cv=3, verbose=True, scoring='f1')\n",
    "\n",
    "c.fit(X_train, y_train)\n",
    "\n",
    "print(\"Best Params: \", c.best_params_)\n",
    "print(\"Best Score: \", c.best_score_)\n",
    "elapsed_time = time.time() - start_time\n",
    "\n",
    "print(\"\\nElapsed Time: \", elapsed_time)"
   ]
  },
  {
   "cell_type": "code",
   "execution_count": 462,
   "id": "496869be",
   "metadata": {},
   "outputs": [
    {
     "name": "stdout",
     "output_type": "stream",
     "text": [
      "              precision    recall  f1-score   support\n",
      "\n",
      "           0       0.72      0.57      0.64       148\n",
      "           1       0.82      0.90      0.86       329\n",
      "\n",
      "    accuracy                           0.80       477\n",
      "   macro avg       0.77      0.74      0.75       477\n",
      "weighted avg       0.79      0.80      0.79       477\n",
      "\n"
     ]
    },
    {
     "data": {
      "text/plain": [
       "<sklearn.metrics._plot.confusion_matrix.ConfusionMatrixDisplay at 0x2416646a580>"
      ]
     },
     "execution_count": 462,
     "metadata": {},
     "output_type": "execute_result"
    },
    {
     "data": {
      "image/png": "[encoded data removed]",
      "text/plain": [
       "<Figure size 432x288 with 2 Axes>"
      ]
     },
     "metadata": {
      "needs_background": "light"
     },
     "output_type": "display_data"
    }
   ],
   "source": [
    "y_pred = c.predict(X_test)\n",
    "\n",
    "print(classification_report(y_test, y_pred))\n",
    "cm = confusion_matrix(y_test, y_pred)\n",
    "\n",
    "ConfusionMatrixDisplay(confusion_matrix=cm, display_labels=c.classes_).plot()"
   ]
  },
  {
   "cell_type": "markdown",
   "id": "d0f7cb8f",
   "metadata": {},
   "source": [
    "**Random Forest Classifier with balanced class weight**\n",
    "- Out of all prediction, the measure for correctly predicted 0 is 73% and for 1 is 82% (Precision)\n",
    "- Out of all actual 0, the measure for correctly predicted is 57% and for 1 is 90% (Recall)\n",
    "\n",
    "**As this is imbalanced dataset. We give importance to F1-Score metrics**\n",
    "- F1 Score of 0 is 64%\n",
    "- F! Score of 1 is 86%"
   ]
  },
  {
   "cell_type": "markdown",
   "id": "b8a4e769",
   "metadata": {},
   "source": [
    "**Lets try out bootstrapped random forest using subsample**"
   ]
  },
  {
   "cell_type": "code",
   "execution_count": 463,
   "id": "bef6d304",
   "metadata": {
    "scrolled": true
   },
   "outputs": [
    {
     "name": "stdout",
     "output_type": "stream",
     "text": [
      "Fitting 3 folds for each of 12 candidates, totalling 36 fits\n",
      "Best Params:  {'max_depth': 4, 'n_estimators': 200}\n",
      "Best Score:  0.8611423652105162\n",
      "\n",
      "Elapsed Time:  2.3675687313079834\n"
     ]
    }
   ],
   "source": [
    "params = {\n",
    "    \"max_depth\": [2, 3, 4],\n",
    "    \"n_estimators\": [50, 100, 150, 200],\n",
    "}\n",
    "\n",
    "start_time = time.time()\n",
    "random_forest = RandomForestClassifier(class_weight=\"balanced_subsample\")\n",
    "c = GridSearchCV(estimator=random_forest, param_grid=params, n_jobs=-1, cv=3, verbose=True, scoring='f1')\n",
    "\n",
    "c.fit(X_train, y_train)\n",
    "\n",
    "print(\"Best Params: \", c.best_params_)\n",
    "print(\"Best Score: \", c.best_score_)\n",
    "elapsed_time = time.time() - start_time\n",
    "\n",
    "print(\"\\nElapsed Time: \", elapsed_time)"
   ]
  },
  {
   "cell_type": "code",
   "execution_count": 464,
   "id": "ab4b2a15",
   "metadata": {
    "scrolled": false
   },
   "outputs": [
    {
     "name": "stdout",
     "output_type": "stream",
     "text": [
      "              precision    recall  f1-score   support\n",
      "\n",
      "           0       0.71      0.57      0.64       148\n",
      "           1       0.82      0.90      0.86       329\n",
      "\n",
      "    accuracy                           0.80       477\n",
      "   macro avg       0.77      0.74      0.75       477\n",
      "weighted avg       0.79      0.80      0.79       477\n",
      "\n"
     ]
    },
    {
     "data": {
      "text/plain": [
       "<sklearn.metrics._plot.confusion_matrix.ConfusionMatrixDisplay at 0x24165642eb0>"
      ]
     },
     "execution_count": 464,
     "metadata": {},
     "output_type": "execute_result"
    },
    {
     "data": {
      "image/png": "[encoded data removed]",
      "text/plain": [
       "<Figure size 432x288 with 2 Axes>"
      ]
     },
     "metadata": {
      "needs_background": "light"
     },
     "output_type": "display_data"
    }
   ],
   "source": [
    "y_pred = c.predict(X_test)\n",
    "\n",
    "print(classification_report(y_test, y_pred))\n",
    "cm = confusion_matrix(y_test, y_pred)\n",
    "\n",
    "ConfusionMatrixDisplay(confusion_matrix=cm, display_labels=c.classes_).plot()"
   ]
  },
  {
   "cell_type": "markdown",
   "id": "e783cde7",
   "metadata": {},
   "source": [
    "**Random Forest Classifier with balanced class weight**\n",
    "- Out of all prediction, the measure for correctly predicted 0 is 75% and for 1 is 83% (Precision)\n",
    "- Out of all actual 0, the measure for correctly predicted is 57% and for 1 is 91% (Recall)\n",
    "\n",
    "**As this is imbalanced dataset. We give importance to F1-Score metrics**\n",
    "- F1 Score of 0 is 65%\n",
    "- F! Score of 1 is 87%"
   ]
  },
  {
   "cell_type": "markdown",
   "id": "435c2e2f",
   "metadata": {},
   "source": [
    "**There is not much significant difference in the matrices observed for bootstrapped Random Forest and Weighted Random Forest**\n",
    "\n",
    "**Lets try balancing**"
   ]
  },
  {
   "cell_type": "markdown",
   "id": "0b37e67f",
   "metadata": {},
   "source": [
    "# Balancing Dataset using SMOTE"
   ]
  },
  {
   "cell_type": "markdown",
   "id": "64bd5e0a",
   "metadata": {},
   "source": [
    "**As the target variable is imbalanced towards 1. We will use SMOTE to balance the dataset**"
   ]
  },
  {
   "cell_type": "code",
   "execution_count": 465,
   "id": "a26c818b",
   "metadata": {},
   "outputs": [
    {
     "name": "stdout",
     "output_type": "stream",
     "text": [
      "Before OverSampling, counts of label '1': 1287\n",
      "Before OverSampling, counts of label '0': 617 \n",
      "\n",
      "After OverSampling, the shape of train_X: (2574, 10)\n",
      "After OverSampling, the shape of train_y: (2574,) \n",
      "\n",
      "After OverSampling, counts of label '1': 1287\n",
      "After OverSampling, counts of label '0': 1287\n"
     ]
    }
   ],
   "source": [
    "print(\"Before OverSampling, counts of label '1': {}\".format(sum(y_train == 1)))\n",
    "print(\"Before OverSampling, counts of label '0': {} \\n\".format(sum(y_train == 0)))\n",
    "\n",
    "sm = SMOTE(random_state = 7)\n",
    "X_train, y_train = sm.fit_resample(X_train, y_train.ravel())\n",
    "  \n",
    "print('After OverSampling, the shape of train_X: {}'.format(X_train.shape))\n",
    "print('After OverSampling, the shape of train_y: {} \\n'.format(y_train.shape))\n",
    "  \n",
    "print(\"After OverSampling, counts of label '1': {}\".format(sum(y_train == 1)))\n",
    "print(\"After OverSampling, counts of label '0': {}\".format(sum(y_train == 0)))"
   ]
  },
  {
   "cell_type": "markdown",
   "id": "54802330",
   "metadata": {},
   "source": [
    "# Ensemble Learning: Bagging"
   ]
  },
  {
   "cell_type": "code",
   "execution_count": 466,
   "id": "375744fc",
   "metadata": {
    "scrolled": false
   },
   "outputs": [
    {
     "name": "stdout",
     "output_type": "stream",
     "text": [
      "Fitting 3 folds for each of 12 candidates, totalling 36 fits\n",
      "Best Params:  {'max_depth': 4, 'n_estimators': 100}\n",
      "Best Score:  0.7834986325743847\n",
      "\n",
      "Elapsed Time:  2.393531084060669\n",
      "              precision    recall  f1-score   support\n",
      "\n",
      "           0       0.75      0.57      0.65       148\n",
      "           1       0.83      0.91      0.87       329\n",
      "\n",
      "    accuracy                           0.81       477\n",
      "   macro avg       0.79      0.74      0.76       477\n",
      "weighted avg       0.80      0.81      0.80       477\n",
      "\n"
     ]
    },
    {
     "data": {
      "text/plain": [
       "<sklearn.metrics._plot.confusion_matrix.ConfusionMatrixDisplay at 0x24166205550>"
      ]
     },
     "execution_count": 466,
     "metadata": {},
     "output_type": "execute_result"
    },
    {
     "data": {
      "image/png": "[encoded data removed]",
      "text/plain": [
       "<Figure size 432x288 with 2 Axes>"
      ]
     },
     "metadata": {
      "needs_background": "light"
     },
     "output_type": "display_data"
    }
   ],
   "source": [
    "params = {\n",
    "    \"max_depth\": [2, 3, 4],\n",
    "    \"n_estimators\": [50, 100, 150, 200],\n",
    "}\n",
    "\n",
    "start_time = time.time()\n",
    "random_forest = RandomForestClassifier(class_weight=\"balanced_subsample\")\n",
    "c = GridSearchCV(estimator=random_forest, param_grid=params, n_jobs=-1, cv=3, verbose=True, scoring='f1')\n",
    "\n",
    "c.fit(X_train, y_train)\n",
    "\n",
    "print(\"Best Params: \", c.best_params_)\n",
    "print(\"Best Score: \", c.best_score_)\n",
    "elapsed_time = time.time() - start_time\n",
    "\n",
    "print(\"\\nElapsed Time: \", elapsed_time)\n",
    "\n",
    "y_pred = c.predict(X_test)\n",
    "\n",
    "print(classification_report(y_test, y_pred))\n",
    "cm = confusion_matrix(y_test, y_pred)\n",
    "\n",
    "ConfusionMatrixDisplay(confusion_matrix=cm, display_labels=c.classes_).plot()"
   ]
  },
  {
   "cell_type": "markdown",
   "id": "9c7bee36",
   "metadata": {},
   "source": [
    "**Random Forest Classifier with balanced class weight**\n",
    "- Out of all prediction, the measure for correctly predicted 0 is 74% and for 1 is 83% (Precision)\n",
    "- Out of all actual 0, the measure for correctly predicted is 57% and for 1 is 91% (Recall)\n",
    "\n",
    "**As this is imbalanced dataset. We give importance to F1-Score metrics**\n",
    "- F1 Score of 0 is 65%\n",
    "- F! Score of 1 is 87%"
   ]
  },
  {
   "cell_type": "markdown",
   "id": "ebd3580f",
   "metadata": {},
   "source": [
    "# ROC-AUC Curve"
   ]
  },
  {
   "cell_type": "code",
   "execution_count": 467,
   "id": "6098003e",
   "metadata": {},
   "outputs": [
    {
     "data": {
      "image/png": "[encoded data removed]",
      "text/plain": [
       "<Figure size 432x288 with 1 Axes>"
      ]
     },
     "metadata": {
      "needs_background": "light"
     },
     "output_type": "display_data"
    }
   ],
   "source": [
    "logit_roc_auc=roc_auc_score(y_test,y_pred)\n",
    "fpr,tpr,thresholds=roc_curve(y_test,c.predict_proba(X_test)[:,1])\n",
    "plt.figure()\n",
    "plt.plot(fpr,tpr,label='Random Forest Classifier (area = %0.2f)' % logit_roc_auc)\n",
    "plt.plot([0,1],[0,1],'r--')\n",
    "plt.xlim([0.0,1.0])\n",
    "plt.ylim([0.0,1.05])\n",
    "plt.xlabel('False Positive Rate')\n",
    "plt.ylabel('True Positive Rate')\n",
    "plt.title('Receiver operating characteristic')\n",
    "plt.legend(loc=\"lower right\")\n",
    "plt.show()"
   ]
  },
  {
   "cell_type": "markdown",
   "id": "ee39b1f4",
   "metadata": {},
   "source": [
    "# Ensemble Learning: Boosting"
   ]
  },
  {
   "cell_type": "markdown",
   "id": "66b3a218",
   "metadata": {},
   "source": [
    "# Gradient Boosting Classifier"
   ]
  },
  {
   "cell_type": "code",
   "execution_count": 468,
   "id": "896cb8e8",
   "metadata": {
    "scrolled": false
   },
   "outputs": [
    {
     "name": "stdout",
     "output_type": "stream",
     "text": [
      "Fitting 3 folds for each of 360 candidates, totalling 1080 fits\n",
      "Best Params:  {'learning_rate': 0.2, 'loss': 'exponential', 'max_depth': 4, 'n_estimators': 150, 'subsample': 1}\n",
      "Best Score:  0.8127428127428127\n",
      "\n",
      " Elapsed Time:  42.14409065246582\n",
      "              precision    recall  f1-score   support\n",
      "\n",
      "           0       0.61      0.59      0.60       148\n",
      "           1       0.82      0.83      0.82       329\n",
      "\n",
      "    accuracy                           0.76       477\n",
      "   macro avg       0.72      0.71      0.71       477\n",
      "weighted avg       0.76      0.76      0.76       477\n",
      "\n"
     ]
    },
    {
     "data": {
      "text/plain": [
       "<sklearn.metrics._plot.confusion_matrix.ConfusionMatrixDisplay at 0x2416645b280>"
      ]
     },
     "execution_count": 468,
     "metadata": {},
     "output_type": "execute_result"
    },
    {
     "data": {
      "image/png": "[encoded data removed]",
      "text/plain": [
       "<Figure size 432x288 with 2 Axes>"
      ]
     },
     "metadata": {
      "needs_background": "light"
     },
     "output_type": "display_data"
    }
   ],
   "source": [
    "params = {\n",
    "    \"max_depth\": [2, 3, 4],\n",
    "    \"loss\": [\"log_loss\", \"exponential\"],\n",
    "    \"subsample\": [0.1, 0.2, 0.5, 0.8, 1],\n",
    "    \"learning_rate\": [0.1, 0.2, 0.3],\n",
    "    \"n_estimators\": [50,100,150,200]\n",
    "}\n",
    "\n",
    "gbdt = GradientBoostingClassifier()\n",
    "start_time = time.time()\n",
    "c = GridSearchCV(estimator=gbdt, cv=3, n_jobs=-1, verbose=True, param_grid=params)\n",
    "\n",
    "c.fit(X_train, y_train)\n",
    "print(\"Best Params: \", c.best_params_)\n",
    "print(\"Best Score: \", c.best_score_)\n",
    "\n",
    "elapsed_time = time.time() - start_time\n",
    "print(\"\\n Elapsed Time: \", elapsed_time)\n",
    "\n",
    "y_pred = c.predict(X_test)\n",
    "\n",
    "print(classification_report(y_test, y_pred))\n",
    "cm = confusion_matrix(y_test, y_pred)\n",
    "\n",
    "ConfusionMatrixDisplay(confusion_matrix=cm, display_labels=c.classes_).plot()"
   ]
  },
  {
   "cell_type": "markdown",
   "id": "ff384847",
   "metadata": {},
   "source": [
    "**Gradient Boosting Classifier Metrics**\n",
    "- Out of all prediction, the measure for correctly predicted 0 is 62% and for 1 is 82% (Precision)\n",
    "- Out of all actual 0, the measure for correctly predicted is 60% and for 1 is 83% (Recall)\n",
    "\n",
    "**As this is imbalanced dataset. We give importance to F1-Score metrics**\n",
    "- F1 Score of 0 is 61%\n",
    "- F1 Score of 1 is 83%"
   ]
  },
  {
   "cell_type": "code",
   "execution_count": 469,
   "id": "15820e32",
   "metadata": {},
   "outputs": [
    {
     "data": {
      "image/png": "[encoded data removed]",
      "text/plain": [
       "<Figure size 432x288 with 1 Axes>"
      ]
     },
     "metadata": {
      "needs_background": "light"
     },
     "output_type": "display_data"
    }
   ],
   "source": [
    "logit_roc_auc=roc_auc_score(y_test,y_pred)\n",
    "fpr,tpr,thresholds=roc_curve(y_test,c.predict_proba(X_test)[:,1])\n",
    "plt.figure()\n",
    "plt.plot(fpr,tpr,label='Gradient Boosting Classifier (area = %0.2f)' % logit_roc_auc)\n",
    "plt.plot([0,1],[0,1],'r--')\n",
    "plt.xlim([0.0,1.0])\n",
    "plt.ylim([0.0,1.05])\n",
    "plt.xlabel('False Positive Rate')\n",
    "plt.ylabel('True Positive Rate')\n",
    "plt.title('Receiver operating characteristic')\n",
    "plt.legend(loc=\"lower right\")\n",
    "plt.show()"
   ]
  },
  {
   "cell_type": "markdown",
   "id": "68cfe3cf",
   "metadata": {},
   "source": [
    "# XGBoost Classifier"
   ]
  },
  {
   "cell_type": "code",
   "execution_count": 470,
   "id": "63db3403",
   "metadata": {
    "scrolled": false
   },
   "outputs": [
    {
     "name": "stdout",
     "output_type": "stream",
     "text": [
      "[19:20:38] WARNING: C:\\Users\\dev-admin\\croot2\\xgboost-split_1675461376218\\work\\src\\learner.cc:767: \n",
      "Parameters: { \"class_weight\" } are not used.\n",
      "\n",
      "XGBoost Classifier Score:  0.7589098532494759\n",
      "\n",
      "               precision    recall  f1-score   support\n",
      "\n",
      "           0       0.62      0.57      0.60       148\n",
      "           1       0.81      0.84      0.83       329\n",
      "\n",
      "    accuracy                           0.76       477\n",
      "   macro avg       0.72      0.71      0.71       477\n",
      "weighted avg       0.75      0.76      0.76       477\n",
      "\n"
     ]
    },
    {
     "data": {
      "text/plain": [
       "<sklearn.metrics._plot.confusion_matrix.ConfusionMatrixDisplay at 0x241661eb220>"
      ]
     },
     "execution_count": 470,
     "metadata": {},
     "output_type": "execute_result"
    },
    {
     "data": {
      "image/png": "[encoded data removed]",
      "text/plain": [
       "<Figure size 432x288 with 2 Axes>"
      ]
     },
     "metadata": {
      "needs_background": "light"
     },
     "output_type": "display_data"
    }
   ],
   "source": [
    "model = xgb.XGBClassifier(class_weight = \"balanced\")\n",
    "\n",
    "model.fit(X_train, y_train)\n",
    "\n",
    "y_pred = model.predict(X_test)\n",
    "print(\"XGBoost Classifier Score: \", model.score(X_test, y_test))\n",
    "print(\"\\n\", classification_report(y_test, y_pred))\n",
    "\n",
    "cm = confusion_matrix(y_test, y_pred)\n",
    "ConfusionMatrixDisplay(confusion_matrix=cm, display_labels=model.classes_).plot()"
   ]
  },
  {
   "cell_type": "markdown",
   "id": "a9a6bfcc",
   "metadata": {},
   "source": [
    "**XGBoost Classifier with balanced class weight**\n",
    "- Out of all prediction, the measure for correctly predicted 0 is 62% and for 1 is 81% (Precision)\n",
    "- Out of all actual 0, the measure for correctly predicted is 57% and for 1 is 84% (Recall)\n",
    "\n",
    "**As this is imbalanced dataset. We give importance to F1-Score metrics**\n",
    "- F1 Score of 0 is 60%\n",
    "- F1 Score of 1 is 83%"
   ]
  },
  {
   "cell_type": "code",
   "execution_count": 471,
   "id": "59670996",
   "metadata": {},
   "outputs": [
    {
     "data": {
      "image/png": "[encoded data removed]",
      "text/plain": [
       "<Figure size 432x288 with 1 Axes>"
      ]
     },
     "metadata": {
      "needs_background": "light"
     },
     "output_type": "display_data"
    }
   ],
   "source": [
    "logit_roc_auc=roc_auc_score(y_test,y_pred)\n",
    "fpr,tpr,thresholds=roc_curve(y_test,c.predict_proba(X_test)[:,1])\n",
    "plt.figure()\n",
    "plt.plot(fpr,tpr,label='XGBoost Classifier (area = %0.2f)' % logit_roc_auc)\n",
    "plt.plot([0,1],[0,1],'r--')\n",
    "plt.xlim([0.0,1.0])\n",
    "plt.ylim([0.0,1.05])\n",
    "plt.xlabel('False Positive Rate')\n",
    "plt.ylabel('True Positive Rate')\n",
    "plt.title('Receiver operating characteristic')\n",
    "plt.legend(loc=\"lower right\")\n",
    "plt.show()"
   ]
  },
  {
   "cell_type": "markdown",
   "id": "1219bd22",
   "metadata": {},
   "source": [
    "# Final Result Evaluation"
   ]
  },
  {
   "cell_type": "markdown",
   "id": "52678504",
   "metadata": {},
   "source": [
    "- We observe that we are not getting very high recall on target 0 which may be due to small unbalanced dataset.\n",
    "- Higher precision means that an algorithm returns more relevant results than irrelevant ones, and high recall means that an algorithm returns most of the relevant results (whether or not irrelevant ones are also returned).\n",
    "\n",
    "\n",
    "- **We observe that Random Forest with SMOTE outperforms rest of the models and has higher recall and precision values.**\n",
    "    - The Random Forest method out of all predicted 0 the measure of correctly predicted is 73%, and for 1 it is 82%(Precision).\n",
    "    - The Random Forest method out of all actual 0 the measure of correctly predicted is 56%, and for 1 it is 91%(Recall).\n",
    "    - The ROC-AUC curve area for Random Forest Classifier is 0.74\n",
    "\n",
    "\n",
    "- **Gradient Boosting Classifier Result**\n",
    "    - Out of all prediction, the measure for correctly predicted 0 is 62% and for 1 is 82% (Precision)\n",
    "    - Out of all actual 0, the measure for correctly predicted is 60% and for 1 is 83% (Recall)\n",
    "    - The ROC-AUC curve area for Gradient Boosting Decision Tree Classifier is 0.71\n",
    "\n",
    "\n",
    "- **XGBoost Classifier Result**\n",
    "    - Out of all prediction, the measure for correctly predicted 0 is 62% and for 1 is 81% (Precision)\n",
    "    - Out of all actual 0, the measure for correctly predicted is 57% and for 1 is 84% (Recall)\n",
    "    - The ROC-AUC curve area for XGBoost Classifier is 0.71"
   ]
  },
  {
   "cell_type": "markdown",
   "id": "defdbf05",
   "metadata": {},
   "source": [
    "# Feature Importance of the best model so far."
   ]
  },
  {
   "cell_type": "markdown",
   "id": "587eca7d",
   "metadata": {},
   "source": [
    "**Random Forest Classifier outperforms the rest of the modal.**\n",
    "\n",
    "**Best parameters**\n",
    "\n",
    "Best Params:  {'max_depth': 4, 'n_estimators': 50}"
   ]
  },
  {
   "cell_type": "code",
   "execution_count": 472,
   "id": "3f9c072d",
   "metadata": {},
   "outputs": [
    {
     "name": "stdout",
     "output_type": "stream",
     "text": [
      "Score of RandomForestClassifier:  0.8113207547169812\n"
     ]
    }
   ],
   "source": [
    "rf = RandomForestClassifier(max_depth = 4, n_estimators= 50, class_weight=\"balanced\")\n",
    "\n",
    "rf.fit(X_train, y_train)\n",
    "print(\"Score of RandomForestClassifier: \", rf.score(X_test, y_test))\n"
   ]
  },
  {
   "cell_type": "code",
   "execution_count": 473,
   "id": "b4fbadca",
   "metadata": {},
   "outputs": [
    {
     "data": {
      "text/plain": [
       "array([0.03102136, 0.00163529, 0.00224746, 0.06775201, 0.05405412,\n",
       "       0.0564535 , 0.22329128, 0.40343337, 0.1519475 , 0.0081641 ])"
      ]
     },
     "execution_count": 473,
     "metadata": {},
     "output_type": "execute_result"
    }
   ],
   "source": [
    "importances = rf.feature_importances_\n",
    "importances"
   ]
  },
  {
   "cell_type": "code",
   "execution_count": 474,
   "id": "83303de2",
   "metadata": {},
   "outputs": [],
   "source": [
    "std = np.std([tree.feature_importances_ for tree in rf.estimators_], axis=0)"
   ]
  },
  {
   "cell_type": "code",
   "execution_count": 475,
   "id": "3c3d40d1",
   "metadata": {},
   "outputs": [
    {
     "data": {
      "text/plain": [
       "<Figure size 1080x504 with 0 Axes>"
      ]
     },
     "metadata": {},
     "output_type": "display_data"
    },
    {
     "data": {
      "image/png": "[encoded data removed]",
      "text/plain": [
       "<Figure size 432x288 with 1 Axes>"
      ]
     },
     "metadata": {
      "needs_background": "light"
     },
     "output_type": "display_data"
    }
   ],
   "source": [
    "feature_importances = pd.Series(importances, X_train.columns)\n",
    "\n",
    "plt.figure(figsize=(15,7))\n",
    "fig, ax = plt.subplots()\n",
    "feature_importances.plot.bar(yerr=std, ax=ax)\n",
    "ax.set_title(\"Feature importances using MDI\")\n",
    "ax.set_ylabel(\"Mean decrease in impurity\")\n",
    "\n",
    "plt.show()"
   ]
  },
  {
   "cell_type": "markdown",
   "id": "a8ccac48",
   "metadata": {},
   "source": [
    "**Insights**\n",
    "- Last_Quarterly_Rating, Total_Business_Value & Quarterly_Rating_Increased are the most important features."
   ]
  },
  {
   "cell_type": "markdown",
   "id": "87048737",
   "metadata": {},
   "source": [
    "# Actionable Insights and Recommendation"
   ]
  },
  {
   "cell_type": "markdown",
   "id": "1215e756",
   "metadata": {},
   "source": [
    "- Out of 2381 drivers 1616 have left the company.\n",
    "- We need to incentivise the drivers overtime or other perks to overcome churning\n",
    "- The employees whose quarterly rating has increased are less likely to leave the organization.\n",
    "- Company needs to implement the reward system for the customer who provide the feedback and rate drivers\n",
    "- The employees whose monthly salary has not increased are more likely to leave the organization.\n",
    "- Company needs to get in touch with those drivers whose monthly salary has not increased and help them out to earn more by provider bonus and perks.\n",
    "- Out of 2381 employees, 1744 employees had their last quarterly rating as 1.\n",
    "- Out of 2381 employees, the quarterly rating has not increased for 2076 employees. This is red flag for the company which needs to regulate.\n",
    "- Company needs to look why customers are not rating drivers.\n",
    "- Last_Quarterly_Rating, Total_Business_Value & Quarterly_Rating_Increased are the most important features. Company needs to tracks these features as predicators\n",
    "- We observe that we are not getting very high recall on target 0 which may be due to small unbalanced dataset. More data will overcome this issue.\n",
    "- The Random Forest Classifier attains the Recall score of 91% for the driver who left the company. Which indicates that model is performing the decent job."
   ]
  },
  {
   "cell_type": "code",
   "execution_count": null,
   "id": "2b228f86",
   "metadata": {},
   "outputs": [],
   "source": []
  }
 ],
 "metadata": {
  "kernelspec": {
   "display_name": "Python 3 (ipykernel)",
   "language": "python",
   "name": "python3"
  },
  "language_info": {
   "codemirror_mode": {
    "name": "ipython",
    "version": 3
   },
   "file_extension": ".py",
   "mimetype": "text/x-python",
   "name": "python",
   "nbconvert_exporter": "python",
   "pygments_lexer": "ipython3",
   "version": "3.9.12"
  }
 },
 "nbformat": 4,
 "nbformat_minor": 5
}
