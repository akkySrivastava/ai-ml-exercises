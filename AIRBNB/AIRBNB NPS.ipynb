{
 "cells": [
  {
   "cell_type": "code",
   "execution_count": 28,
   "id": "46434bb2",
   "metadata": {},
   "outputs": [
    {
     "data": {
      "text/plain": [
       "array([ 7, 10,  5, ...,  5,  9, 10])"
      ]
     },
     "execution_count": 28,
     "metadata": {},
     "output_type": "execute_result"
    }
   ],
   "source": [
    "import numpy as np\n",
    "\n",
    "score = np.loadtxt('survey.txt', dtype='int')\n",
    "score"
   ]
  },
  {
   "cell_type": "code",
   "execution_count": 29,
   "id": "23a0bdc7",
   "metadata": {},
   "outputs": [
    {
     "data": {
      "text/plain": [
       "array([ 7, 10,  5,  9,  9])"
      ]
     },
     "execution_count": 29,
     "metadata": {},
     "output_type": "execute_result"
    }
   ],
   "source": [
    "# How's data is looking?\n",
    "score[:5]"
   ]
  },
  {
   "cell_type": "code",
   "execution_count": 30,
   "id": "00ead294",
   "metadata": {},
   "outputs": [
    {
     "name": "stdout",
     "output_type": "stream",
     "text": [
      "1\n",
      "10\n"
     ]
    }
   ],
   "source": [
    "# Let's check sanity of data\n",
    "print(score.min())\n",
    "print(score.max())"
   ]
  },
  {
   "cell_type": "code",
   "execution_count": 31,
   "id": "a07ba8f6",
   "metadata": {},
   "outputs": [
    {
     "data": {
      "text/plain": [
       "(1167,)"
      ]
     },
     "execution_count": 31,
     "metadata": {},
     "output_type": "execute_result"
    }
   ],
   "source": [
    "# Shape\n",
    "score.shape"
   ]
  },
  {
   "cell_type": "markdown",
   "id": "54f08764",
   "metadata": {},
   "source": [
    "#### Imagine you are a Data Analyst @ Airbnb\n",
    "\n",
    "You've been asked to analyze user survey data and report NPS to the management\n",
    "\n",
    "#### But, what exactly is NPS? \n",
    "\n",
    "#### Have you seen something like this ? \n",
    "\n",
    "Link: https://drive.google.com/file/d/1-u8e-v_90JdikorKsKzBM-JJqoRtzsN8/view?usp=sharing\n",
    "\n",
    "<img src=\"https://drive.google.com/uc?id=1-u8e-v_90JdikorKsKzBM-JJqoRtzsN8\">\n",
    "\n",
    "This is called **Likelyhood to Recommend Survey**\n",
    "\n",
    "- Responses are given a scale ranging from 0–10, \n",
    "    - with 0 labeled with “Not at all likely,” and \n",
    "    - 10 labeled with “Extremely likely.”\n",
    "\n",
    "Based on this, we calculate the Net Promoter score"
   ]
  },
  {
   "cell_type": "markdown",
   "id": "43efcc7d",
   "metadata": {},
   "source": [
    "#### How to calculate NPS score? \n",
    "\n",
    "<img src=\"https://drive.google.com/uc?id=1KPIYlaN68vlL99iApaF5QbeBoyT24-Eu\">\n",
    "\n",
    "We label our responses into 3 categories:\n",
    "- Detractors: Respondents with a score of 0-6\n",
    "- Passive: Respondents with a score of 7-8\n",
    "- Promoters: score of 9-10.\n",
    "\n",
    "And\n",
    "```\n",
    "Net Promoter score = % Promoters - % Detractors.\n",
    "```"
   ]
  },
  {
   "cell_type": "code",
   "execution_count": 32,
   "id": "cb5040d1",
   "metadata": {},
   "outputs": [
    {
     "name": "stdout",
     "output_type": "stream",
     "text": [
      "24\n"
     ]
    }
   ],
   "source": [
    "# No. of Detractors\n",
    "detractors = score[score <= 6].shape[0]\n",
    "promoters = score[score >= 9].shape[0]\n",
    "\n",
    "print(round((promoters / score.shape[0] * 100) - (detractors / score.shape[0] * 100)))"
   ]
  },
  {
   "cell_type": "markdown",
   "id": "aec9207b",
   "metadata": {},
   "source": [
    "## How'll we bin our data ?\n",
    "\n",
    "## Will this work ? "
   ]
  },
  {
   "cell_type": "code",
   "execution_count": 33,
   "id": "476d12e1",
   "metadata": {},
   "outputs": [
    {
     "ename": "ValueError",
     "evalue": "invalid literal for int() with base 10: 'Detractors'",
     "output_type": "error",
     "traceback": [
      "\u001b[1;31m---------------------------------------------------------------------------\u001b[0m",
      "\u001b[1;31mValueError\u001b[0m                                Traceback (most recent call last)",
      "Input \u001b[1;32mIn [33]\u001b[0m, in \u001b[0;36m<cell line: 1>\u001b[1;34m()\u001b[0m\n\u001b[1;32m----> 1\u001b[0m score[score \u001b[38;5;241m<\u001b[39m\u001b[38;5;241m=\u001b[39m \u001b[38;5;241m6\u001b[39m] \u001b[38;5;241m=\u001b[39m \u001b[38;5;124m'\u001b[39m\u001b[38;5;124mDetractors\u001b[39m\u001b[38;5;124m'\u001b[39m\n",
      "\u001b[1;31mValueError\u001b[0m: invalid literal for int() with base 10: 'Detractors'"
     ]
    }
   ],
   "source": [
    "score[score <= 6] = 'Detractors'"
   ]
  },
  {
   "cell_type": "markdown",
   "id": "378b81f0",
   "metadata": {},
   "source": [
    "#### Why didn't the above code work?\n",
    "\n",
    "Recall the array are of homogenours datatype\n",
    "- `dtype` of our array is int\n",
    "\n",
    "We are trying to assign string to int array; Hence, it is throwing an error\n",
    "\n",
    "#### So, what do we do?\n",
    "\n",
    "What if we create an array of same length as `score` array and assign values to new array based on values present in `score` array."
   ]
  },
  {
   "cell_type": "markdown",
   "id": "bc913322",
   "metadata": {},
   "source": [
    "#### How do we initialize new array based on length of preexisting array ?\n",
    "Numpy provides us with a method to initialize empty array : `np.empty()`\n",
    "\n",
    "It takes the following arguments:\n",
    "- shape\n",
    "- dtype\n",
    "\n",
    "#### Question: What will be the shape and dtype of new array ?\n",
    "\n"
   ]
  },
  {
   "cell_type": "code",
   "execution_count": 37,
   "id": "4e4d7ff8",
   "metadata": {},
   "outputs": [
    {
     "data": {
      "text/plain": [
       "array(['', '', '', ..., '', '', ''], dtype='<U1')"
      ]
     },
     "execution_count": 37,
     "metadata": {},
     "output_type": "execute_result"
    }
   ],
   "source": [
    "arr = np.empty(shape = score.shape, dtype = 'str')\n",
    "arr"
   ]
  },
  {
   "cell_type": "markdown",
   "id": "6e8712d5",
   "metadata": {},
   "source": [
    "Notice the following\n",
    "- All the elements of the array are empty string\n",
    "- But, the dtype is being shown as `U1`.\n",
    "\n",
    "Didn't we initialize the dtype as string?\n",
    "\n",
    "#### Why is the dtype being shown as `<U1` ?"
   ]
  },
  {
   "cell_type": "markdown",
   "id": "77c4e2bd",
   "metadata": {},
   "source": [
    "`U1` means Unicode string of length 1.\n",
    "\n",
    "Whenever we initialize the array with `str` datatype, it automatically initializes it of type Unicode string with length 1.\n",
    "\n",
    "#### Question: What will happen in following case? Will the string be assigned to the 0th index ? "
   ]
  },
  {
   "cell_type": "code",
   "execution_count": 39,
   "id": "ad2fbd2c",
   "metadata": {},
   "outputs": [
    {
     "data": {
      "text/plain": [
       "array(['H', '', '', ..., '', '', ''], dtype='<U1')"
      ]
     },
     "execution_count": 39,
     "metadata": {},
     "output_type": "execute_result"
    }
   ],
   "source": [
    "arr[0] = 'Hello'\n",
    "arr"
   ]
  },
  {
   "cell_type": "markdown",
   "id": "38a0921c",
   "metadata": {},
   "source": [
    "Notice that,\n",
    "- as the length is defined as 1\n",
    "- it automatically truncates the rest of string and only stores the first character."
   ]
  },
  {
   "cell_type": "markdown",
   "id": "f4e1926f",
   "metadata": {},
   "source": [
    "But, we want to store whole string 'Detractor/Promoter/Passive'.\n",
    "\n",
    "#### How do we change the cap on length of string ?"
   ]
  },
  {
   "cell_type": "code",
   "execution_count": 40,
   "id": "b3af13f3",
   "metadata": {},
   "outputs": [
    {
     "data": {
      "text/plain": [
       "array(['', '', '', ..., '', '', ''], dtype='<U10')"
      ]
     },
     "execution_count": 40,
     "metadata": {},
     "output_type": "execute_result"
    }
   ],
   "source": [
    "arr = np.empty(shape = score.shape, dtype = 'U10')\n",
    "arr"
   ]
  },
  {
   "cell_type": "code",
   "execution_count": 42,
   "id": "612431ac",
   "metadata": {},
   "outputs": [
    {
     "data": {
      "text/plain": [
       "1167"
      ]
     },
     "execution_count": 42,
     "metadata": {},
     "output_type": "execute_result"
    }
   ],
   "source": [
    "#  Check shape\n",
    "arr.shape[0]"
   ]
  },
  {
   "cell_type": "code",
   "execution_count": 46,
   "id": "c41ebb2e",
   "metadata": {},
   "outputs": [
    {
     "data": {
      "text/plain": [
       "array(['', '', 'Detractors', ..., 'Detractors', '', ''], dtype='<U10')"
      ]
     },
     "execution_count": 46,
     "metadata": {},
     "output_type": "execute_result"
    }
   ],
   "source": [
    "arr[score <= 6] = \"Detractors\"\n",
    "\n",
    "arr"
   ]
  },
  {
   "cell_type": "code",
   "execution_count": 48,
   "id": "9b2cf1c2",
   "metadata": {},
   "outputs": [
    {
     "data": {
      "text/plain": [
       "array(['Passives', '', 'Detractors', ..., 'Detractors', '', ''],\n",
       "      dtype='<U10')"
      ]
     },
     "execution_count": 48,
     "metadata": {},
     "output_type": "execute_result"
    }
   ],
   "source": [
    "arr[(score >= 7) & (score <= 8)] = \"Passives\"\n",
    "arr"
   ]
  },
  {
   "cell_type": "code",
   "execution_count": 49,
   "id": "efa08796",
   "metadata": {},
   "outputs": [
    {
     "data": {
      "text/plain": [
       "array(['Passives', 'Promoters', 'Detractors', ..., 'Detractors',\n",
       "       'Promoters', 'Promoters'], dtype='<U10')"
      ]
     },
     "execution_count": 49,
     "metadata": {},
     "output_type": "execute_result"
    }
   ],
   "source": [
    "arr[score >= 9] = \"Promoters\"\n",
    "arr"
   ]
  },
  {
   "cell_type": "code",
   "execution_count": 50,
   "id": "74851e7c",
   "metadata": {},
   "outputs": [
    {
     "data": {
      "text/plain": [
       "array(['Passives', 'Promoters', 'Detractors', 'Promoters', 'Promoters',\n",
       "       'Detractors', 'Passives', 'Promoters', 'Promoters', 'Promoters',\n",
       "       'Promoters', 'Detractors', 'Promoters', 'Promoters', 'Passives'],\n",
       "      dtype='<U10')"
      ]
     },
     "execution_count": 50,
     "metadata": {},
     "output_type": "execute_result"
    }
   ],
   "source": [
    "arr[:15]"
   ]
  },
  {
   "cell_type": "markdown",
   "id": "c6558a64",
   "metadata": {},
   "source": [
    "Now, we have array with desired values.\n",
    "\n",
    "#### How do we count the number of instance for each value ?\n",
    "\n",
    "There are two ways of doing it.\n",
    "\n",
    "Let's look at long way first. \n",
    "\n",
    "We do fancy indexing for each unique value and get the shape "
   ]
  },
  {
   "cell_type": "code",
   "execution_count": 53,
   "id": "680c0102",
   "metadata": {},
   "outputs": [
    {
     "data": {
      "text/plain": [
       "332"
      ]
     },
     "execution_count": 53,
     "metadata": {},
     "output_type": "execute_result"
    }
   ],
   "source": [
    "new_detractors = arr[arr == \"Detractors\"].shape[0]\n",
    "new_detractors"
   ]
  },
  {
   "cell_type": "code",
   "execution_count": 54,
   "id": "09810071",
   "metadata": {},
   "outputs": [
    {
     "data": {
      "text/plain": [
       "609"
      ]
     },
     "execution_count": 54,
     "metadata": {},
     "output_type": "execute_result"
    }
   ],
   "source": [
    "new_promoters = arr[arr == \"Promoters\"].shape[0]\n",
    "new_promoters"
   ]
  },
  {
   "cell_type": "code",
   "execution_count": 55,
   "id": "bf2d72d5",
   "metadata": {},
   "outputs": [
    {
     "data": {
      "text/plain": [
       "24.0"
      ]
     },
     "execution_count": 55,
     "metadata": {},
     "output_type": "execute_result"
    }
   ],
   "source": [
    "NPS = np.round(((new_promoters / arr.shape[0]) * 100) - ((new_detractors / arr.shape[0]) * 100))\n",
    "NPS"
   ]
  },
  {
   "cell_type": "markdown",
   "id": "a5ec7409",
   "metadata": {},
   "source": [
    "Now, there's a short way as well.\n",
    "\n",
    "Numpy provides us a function `.unique()` to get unique element "
   ]
  },
  {
   "cell_type": "code",
   "execution_count": 63,
   "id": "3d2bd505",
   "metadata": {},
   "outputs": [
    {
     "data": {
      "text/plain": [
       "array(['Detractors', 'Passives', 'Promoters'], dtype='<U10')"
      ]
     },
     "execution_count": 63,
     "metadata": {},
     "output_type": "execute_result"
    }
   ],
   "source": [
    "unique, count = np.unique(arr, return_counts=True)\n",
    "unique"
   ]
  },
  {
   "cell_type": "code",
   "execution_count": 64,
   "id": "0789a708",
   "metadata": {},
   "outputs": [
    {
     "data": {
      "text/plain": [
       "array([332, 226, 609], dtype=int64)"
      ]
     },
     "execution_count": 64,
     "metadata": {},
     "output_type": "execute_result"
    }
   ],
   "source": [
    "count"
   ]
  },
  {
   "cell_type": "markdown",
   "id": "90d83be1",
   "metadata": {},
   "source": [
    "<img src=\"https://drive.google.com/uc?id=1FYgRM2XmJs4Rv-l8CCUn_aXcyw7GfZlp\">\n",
    "\n",
    "Source: https://chattermill.com/blog/what-is-a-good-nps-score/"
   ]
  },
  {
   "cell_type": "markdown",
   "id": "ad21dfb6",
   "metadata": {},
   "source": [
    "#### (Optional) Industry wise NPS benchmark\n",
    "\n",
    "<img src=\"https://drive.google.com/uc?id=1vyRFRpHMC7LJ6MNB_K7Mih7pR_m7t-_A\">\n"
   ]
  },
  {
   "cell_type": "code",
   "execution_count": null,
   "id": "6453cbb7",
   "metadata": {},
   "outputs": [],
   "source": []
  }
 ],
 "metadata": {
  "kernelspec": {
   "display_name": "Python 3 (ipykernel)",
   "language": "python",
   "name": "python3"
  },
  "language_info": {
   "codemirror_mode": {
    "name": "ipython",
    "version": 3
   },
   "file_extension": ".py",
   "mimetype": "text/x-python",
   "name": "python",
   "nbconvert_exporter": "python",
   "pygments_lexer": "ipython3",
   "version": "3.9.12"
  }
 },
 "nbformat": 4,
 "nbformat_minor": 5
}
